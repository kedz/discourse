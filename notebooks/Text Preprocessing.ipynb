{
 "metadata": {
  "name": ""
 },
 "nbformat": 3,
 "nbformat_minor": 0,
 "worksheets": [
  {
   "cells": [
    {
     "cell_type": "code",
     "collapsed": false,
     "input": [
      "import discourse.data as data\n",
      "import re\n",
      "import tempfile\n",
      "from os.path import join, basename\n",
      "import corenlp_xml as cnlp\n",
      "import shutil"
     ],
     "language": "python",
     "metadata": {},
     "outputs": [],
     "prompt_number": 7
    },
    {
     "cell_type": "code",
     "collapsed": false,
     "input": [
      "def preproc_apws(input_files, out_dir):\n",
      "    tmpdir = tempfile.mkdtemp(prefix='disc_preproc_')\n",
      "    flist = []\n",
      "    for txt in input_files:\n",
      "        tmpfname = join(tmpdir, basename(txt))\n",
      "        flist.append(tmpfname)\n",
      "        \n",
      "        out = open(tmpfname, 'w')\n",
      "    \n",
      "        found_ap = False\n",
      "        f = open(txt, 'r')\n",
      "        lines = f.readlines()\n",
      "        \n",
      "        for i, line in enumerate(lines, 1):\n",
      "            text = line.split(' ', 1)[1].strip()\n",
      "            m = re.search(r'(\\(AP\\)|\\(Ap\\)|\\(Kyodo\\))', text)\n",
      "            if m:\n",
      "                tok = m.group(1) + ' '\n",
      "                text = text.split(tok, 1)[1]\n",
      "                found_ap = True\n",
      "            if re.match('-- ', text):\n",
      "                text = text.split('-- ', 1)[1]\n",
      "            if found_ap:\n",
      "                if i != len(lines):\n",
      "                \n",
      "                    out.write(text+'\\n')\n",
      "                    out.flush()\n",
      "    \n",
      "                elif not re.search(r'\\([a-z][a-z][a-z]?\\)|[a-z][a-z]', text):\n",
      "                    out.write(text+'\\n')\n",
      "                    out.flush()\n",
      "        f.close()\n",
      "        out.close()\n",
      "        if found_ap == False:\n",
      "            print\n",
      "            print '============\\n', txt\n",
      "            print '\\n'.join(lines)\n",
      "            print\n",
      "    \n",
      "    annotators = ['tokenize', 'ssplit', 'pos', 'lemma', 'ner', 'parse', 'dcoref']\n",
      "    cnlp.run_pipeline(annotators,\n",
      "                      flist,\n",
      "                      out_dir, \n",
      "                      corenlp_dir='/home/chris/tools/nlp/stanford-corenlp-full-2013-06-20') \n",
      "    \n",
      "    shutil.rmtree(tmpdir)\n",
      "\n",
      "preproc_apws(data.raw_apws_train_files(), data.apws_train_xml_dir())\n",
      "preproc_apws(data.raw_apws_test_files(), data.apws_test_xml_dir())"
     ],
     "language": "python",
     "metadata": {},
     "outputs": [],
     "prompt_number": 2
    },
    {
     "cell_type": "code",
     "collapsed": false,
     "input": [
      "def preproc_ntsb(input_files, out_dir):\n",
      "\n",
      "    bad1 = r'This is preliminary information, subject to change, and may contain errors\\.|' \\\n",
      "           r'Any errors in this report will be corrected when the final report has been completed\\.'\n",
      "    bad2 = r'investigation is under|' \\\n",
      "           r'Any further information|' \\\n",
      "           r'This report is filed for' \\\n",
      "           r'For further information, contact'\n",
      "\n",
      "    tmpdir = tempfile.mkdtemp(prefix='disc_preproc_')\n",
      "    flist = []\n",
      "    for txt in input_files:\n",
      "        tmpfname = join(tmpdir, basename(txt))\n",
      "        flist.append(tmpfname)\n",
      "        \n",
      "        out = open(tmpfname, 'w')\n",
      "    \n",
      "        found_ap = False\n",
      "        f = open(txt, 'r')\n",
      "        lines = f.readlines()\n",
      "        \n",
      "        \n",
      "        for line in lines:\n",
      "            if re.search(bad2, line): break\n",
      "            if not re.search(bad1, line):\n",
      "                text = line.split(' ', 1)[-1].decode('utf-8')\n",
      "                out.write(text)\n",
      "                out.flush()\n",
      "                \n",
      "        f.close()\n",
      "        out.close()\n",
      "\n",
      "    annotators = ['tokenize', 'ssplit', 'pos', 'lemma', 'ner', 'parse', 'dcoref']\n",
      "    cnlp.run_pipeline(annotators,\n",
      "                      flist,\n",
      "                      out_dir, \n",
      "                      corenlp_dir='/home/chris/tools/nlp/stanford-corenlp-full-2013-06-20') \n",
      "    \n",
      "    shutil.rmtree(tmpdir)\n",
      "\n",
      " \n",
      "preproc_ntsb(data.raw_ntsb_train_files(), data.ntsb_train_xml_dir())\n",
      "preproc_ntsb(data.raw_ntsb_test_files(), data.ntsb_test_xml_dir())        "
     ],
     "language": "python",
     "metadata": {},
     "outputs": [],
     "prompt_number": 3
    },
    {
     "cell_type": "code",
     "collapsed": false,
     "input": [
      "from collections import defaultdict\n",
      "\n",
      "apws_counts = []\n",
      "for xml in data.corenlp_apws_train():    \n",
      "    doc = cnlp.Document(xml)\n",
      "    for s in doc:\n",
      "        apws_counts.append(len(s.tokens))\n",
      "        \n",
      "ntsb_counts = []\n",
      "for xml in data.corenlp_ntsb_train():    \n",
      "    doc = cnlp.Document(xml)\n",
      "    for s in doc:\n",
      "        ntsb_counts.append(len(s.tokens))\n",
      "\n",
      "#for items in sorted(counts.items(), key=lambda x: x[0]):\n",
      "#    print items"
     ],
     "language": "python",
     "metadata": {},
     "outputs": [
      {
       "output_type": "stream",
       "stream": "stdout",
       "text": [
        "STRING FAILED: XXXX-WXX-2TNI\n",
        "STRING FAILED: XXXX-WXX-2TNI\n",
        "STRING FAILED: XXXX-WXX-2TMO"
       ]
      },
      {
       "output_type": "stream",
       "stream": "stdout",
       "text": [
        "\n",
        "STRING FAILED: XXXX-WXX-2TMO\n",
        "STRING FAILED: XXXX-WXX-3TMO"
       ]
      },
      {
       "output_type": "stream",
       "stream": "stdout",
       "text": [
        "\n",
        "STRING FAILED: XXXX-WXX-3TMO\n",
        "STRING FAILED: XXXX-WXX-1TNI"
       ]
      },
      {
       "output_type": "stream",
       "stream": "stdout",
       "text": [
        "\n",
        "STRING FAILED: XXXX-WXX-1TNI\n",
        "STRING FAILED: XXXX-WXX-3TEV"
       ]
      },
      {
       "output_type": "stream",
       "stream": "stdout",
       "text": [
        "\n",
        "STRING FAILED: XXXX-WXX-3TEV\n",
        "STRING FAILED: XXXX-WXX-6TMO"
       ]
      },
      {
       "output_type": "stream",
       "stream": "stdout",
       "text": [
        "\n",
        "STRING FAILED: XXXX-WXX-6TMO\n",
        "STRING FAILED: XXXX-WXX-3TMO"
       ]
      },
      {
       "output_type": "stream",
       "stream": "stdout",
       "text": [
        "\n",
        "STRING FAILED: XXXX-WXX-3TMO\n",
        "STRING FAILED: XXXX-WXX-3TMO\n",
        "STRING FAILED: XXXX-WXX-5TNI"
       ]
      },
      {
       "output_type": "stream",
       "stream": "stdout",
       "text": [
        "\n",
        "STRING FAILED: XXXX-WXX-5TNI\n",
        "STRING FAILED: XXXX-WXX-5TNI"
       ]
      },
      {
       "output_type": "stream",
       "stream": "stdout",
       "text": [
        "\n",
        "STRING FAILED: XXXX-WXX-5TNI\n",
        "STRING FAILED: XXXX-WXX-5TNI"
       ]
      },
      {
       "output_type": "stream",
       "stream": "stdout",
       "text": [
        "\n",
        "STRING FAILED: XXXX-WXX-5TNI\n",
        "STRING FAILED: XXXX-WXX-5TNI\n",
        "STRING FAILED: XXXX-WXX-5TNI\n",
        "STRING FAILED: XXXX-WXX-2TMO\n",
        "STRING FAILED: XXXX-WXX-2TMO\n",
        "STRING FAILED: XXXX-WXX-2TMO"
       ]
      },
      {
       "output_type": "stream",
       "stream": "stdout",
       "text": [
        "\n",
        "STRING FAILED: XXXX-WXX-2TMO\n",
        "STRING FAILED: XXXX-WXX-2TMO\n",
        "STRING FAILED: XXXX-WXX-2TMO\n",
        "STRING FAILED: XXXX-WXX-2TMO"
       ]
      },
      {
       "output_type": "stream",
       "stream": "stdout",
       "text": [
        "\n",
        "STRING FAILED: XXXX-WXX-2TMO\n",
        "STRING FAILED: XXXX-WXX-5TAF"
       ]
      },
      {
       "output_type": "stream",
       "stream": "stdout",
       "text": [
        "\n",
        "STRING FAILED: XXXX-WXX-5TAF\n",
        "STRING FAILED: XXXX-WXX-1TMO"
       ]
      },
      {
       "output_type": "stream",
       "stream": "stdout",
       "text": [
        "\n",
        "STRING FAILED: XXXX-WXX-1TMO\n",
        "STRING FAILED: XXXX-WXX-2TMO"
       ]
      },
      {
       "output_type": "stream",
       "stream": "stdout",
       "text": [
        "\n",
        "STRING FAILED: XXXX-WXX-2TMO\n",
        "STRING FAILED: XXXX-WXX-2TMO\n",
        "STRING FAILED: XXXX-WXX-3TMO\n",
        "STRING FAILED: XXXX-WXX-3TMO\n",
        "STRING FAILED: XXXX-WXX-3TMO\n",
        "STRING FAILED: XXXX-WXX-1TEV"
       ]
      },
      {
       "output_type": "stream",
       "stream": "stdout",
       "text": [
        "\n",
        "STRING FAILED: XXXX-WXX-1TEV\n",
        "STRING FAILED: XXXX-WXX-1TEV\n",
        "STRING FAILED: XXXX-WXX-1TEV\n",
        "STRING FAILED: XXXX-WXX-1TNI"
       ]
      },
      {
       "output_type": "stream",
       "stream": "stdout",
       "text": [
        "\n",
        "STRING FAILED: XXXX-WXX-1TNI\n",
        "STRING FAILED: XXXX-WXX-1TNI"
       ]
      },
      {
       "output_type": "stream",
       "stream": "stdout",
       "text": [
        "\n",
        "STRING FAILED: XXXX-WXX-1TNI\n",
        "STRING FAILED: XXXX-WXX-3TMO"
       ]
      },
      {
       "output_type": "stream",
       "stream": "stdout",
       "text": [
        "\n",
        "STRING FAILED: XXXX-WXX-3TMO\n",
        "STRING FAILED: TDT"
       ]
      },
      {
       "output_type": "stream",
       "stream": "stdout",
       "text": [
        "\n",
        "STRING FAILED: TDT"
       ]
      },
      {
       "output_type": "stream",
       "stream": "stdout",
       "text": [
        "\n",
        "STRING FAILED: TDT"
       ]
      },
      {
       "output_type": "stream",
       "stream": "stdout",
       "text": [
        "\n",
        "STRING FAILED: TDT"
       ]
      },
      {
       "output_type": "stream",
       "stream": "stdout",
       "text": [
        "\n",
        "STRING FAILED: T22:09:17"
       ]
      },
      {
       "output_type": "stream",
       "stream": "stdout",
       "text": [
        "\n",
        "STRING FAILED: T22:11:25\n",
        "STRING FAILED: TDT"
       ]
      },
      {
       "output_type": "stream",
       "stream": "stdout",
       "text": [
        "\n",
        "STRING FAILED: TDT"
       ]
      },
      {
       "output_type": "stream",
       "stream": "stdout",
       "text": [
        "\n",
        "STRING FAILED: TDT"
       ]
      },
      {
       "output_type": "stream",
       "stream": "stdout",
       "text": [
        "\n",
        "STRING FAILED: TDT"
       ]
      },
      {
       "output_type": "stream",
       "stream": "stdout",
       "text": [
        "\n",
        "STRING FAILED: TDT"
       ]
      },
      {
       "output_type": "stream",
       "stream": "stdout",
       "text": [
        "\n",
        "STRING FAILED: TDT"
       ]
      },
      {
       "output_type": "stream",
       "stream": "stdout",
       "text": [
        "\n",
        "STRING FAILED: TDT"
       ]
      },
      {
       "output_type": "stream",
       "stream": "stdout",
       "text": [
        "\n",
        "STRING FAILED: TDT"
       ]
      },
      {
       "output_type": "stream",
       "stream": "stdout",
       "text": [
        "\n",
        "STRING FAILED: TDT"
       ]
      },
      {
       "output_type": "stream",
       "stream": "stdout",
       "text": [
        "\n",
        "STRING FAILED: TDT"
       ]
      },
      {
       "output_type": "stream",
       "stream": "stdout",
       "text": [
        "\n",
        "STRING FAILED: TDT"
       ]
      },
      {
       "output_type": "stream",
       "stream": "stdout",
       "text": [
        "\n",
        "STRING FAILED: TDT"
       ]
      },
      {
       "output_type": "stream",
       "stream": "stdout",
       "text": [
        "\n"
       ]
      }
     ],
     "prompt_number": 21
    },
    {
     "cell_type": "code",
     "collapsed": false,
     "input": [
      "import pandas as pd\n",
      "%matplotlib inline\n",
      "import matplotlib.pyplot as plt\n",
      "\n",
      "plt.figure()\n",
      "s = pd.Series(apws_counts)\n",
      "s.hist(bins=120, label='APWS')\n",
      "\n",
      "\n",
      "#s.plot()"
     ],
     "language": "python",
     "metadata": {},
     "outputs": [
      {
       "metadata": {},
       "output_type": "pyout",
       "prompt_number": 27,
       "text": [
        "<matplotlib.axes.AxesSubplot at 0xbb0edec>"
       ]
      },
      {
       "metadata": {},
       "output_type": "display_data",
       "png": "[encoded data removed]",
       "text": [
        "<matplotlib.figure.Figure at 0xbb01c2c>"
       ]
      }
     ],
     "prompt_number": 27
    },
    {
     "cell_type": "code",
     "collapsed": false,
     "input": [
      "plt.figure(figsize=(20,5))\n",
      "s = pd.Series(ntsb_counts)\n",
      "s.hist(bins=120, label='NTSB')\n",
      "#plt.set_xticks(range(120))"
     ],
     "language": "python",
     "metadata": {},
     "outputs": [
      {
       "metadata": {},
       "output_type": "pyout",
       "prompt_number": 35,
       "text": [
        "<matplotlib.axes.AxesSubplot at 0xc8bce8c>"
       ]
      },
      {
       "metadata": {},
       "output_type": "display_data",
       "png": "[encoded data removed]",
       "text": [
        "<matplotlib.figure.Figure at 0xcfa748c>"
       ]
      }
     ],
     "prompt_number": 35
    },
    {
     "cell_type": "code",
     "collapsed": false,
     "input": [],
     "language": "python",
     "metadata": {},
     "outputs": []
    }
   ],
   "metadata": {}
  }
 ]
}