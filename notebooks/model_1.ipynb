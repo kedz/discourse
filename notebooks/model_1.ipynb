{
 "metadata": {
  "name": ""
 },
 "nbformat": 3,
 "nbformat_minor": 0,
 "worksheets": [
  {
   "cells": [
    {
     "cell_type": "code",
     "collapsed": false,
     "input": [
      "import discourse.data as dd\n",
      "from discourse.models import barzilay as dmb\n",
      "from discourse.models import entity_grid as eg\n",
      "from discourse.inference import lp as dlp\n",
      "from discourse.inference import svm as disvm\n",
      "\n",
      "import numpy as np\n",
      "from os import remove, getenv\n",
      "from os.path import join\n",
      "\n",
      "from tempfile import NamedTemporaryFile\n",
      "    \n",
      "ddir = getenv(\"DISCOURSEDIR\",\".\")\n",
      "eval_script = join(ddir, \"eval\", \"ordering-eval.py\")"
     ],
     "language": "python",
     "metadata": {},
     "outputs": [],
     "prompt_number": 1
    },
    {
     "cell_type": "code",
     "collapsed": false,
     "input": [
      "#weights = np.asarray([21.05973913, -41.20501801, 16.53128664, 14.744363, 5.5398188, 0, 0, 0, 19.50604462, 0, 0, 0, -36.17622999, 0, 0, 0, -8.90539043, -63.36380759, -10.26730942, -5.78435143, -16.82680557, -22.28542312, 65.7063412, 33.44557519, 4.11226196, -36.70422918, 22.9553209, 38.11760635, -4.69530934, -40.02028351, 23.96575996, 20.54994518])           "
     ],
     "language": "python",
     "metadata": {},
     "outputs": [],
     "prompt_number": 2
    },
    {
     "cell_type": "code",
     "collapsed": false,
     "input": [
      "# Set Rank SVM trainer to generate 20 permutations \n",
      "# for each coherent instance.\n",
      "trainer = disvm.RankSVMTrainer(20)\n",
      "\n",
      "# Read in xml output of CoreNLP and create \n",
      "# training instances.\n",
      "for train_xml_file in dd.corenlp_apws_train():\n",
      "    model = dmb.new_barzilay_model(open(train_xml_file, 'r'),\n",
      "                                   max_salience=2,\n",
      "                                   history=2)\n",
      "    \n",
      "    trainer.add_model(model)\n",
      "\n",
      "trainer.train()\n",
      "\n",
      "# Output of training is a weight vector which\n",
      "# we will use to evaluate our test set.\n",
      "weights = trainer.weights"
     ],
     "language": "python",
     "metadata": {},
     "outputs": [],
     "prompt_number": "*"
    },
    {
     "cell_type": "code",
     "collapsed": false,
     "input": [
      "pred_file = NamedTemporaryFile(delete=False)\n",
      "gold_file = NamedTemporaryFile(delete=False)\n",
      "lpsolver = dlp.LPSolver(weights)\n",
      "\n",
      "import datetime\n",
      "import sys\n",
      "total_time = datetime.timedelta(hours=0)\n",
      "\n",
      "n = 0\n",
      "for train_xml_file in dd.corenlp_apws_test():    \n",
      "    n+=1\n",
      "    \n",
      "    model = dmb.new_barzilay_model(open(train_xml_file, 'r'),\n",
      "                                   max_salience=2,\n",
      "                                   history=2)\n",
      "    if len(model.sentences) < 100:\n",
      "        \n",
      "        print \"Solving instance {} of length {}...\\n\".format(n, len(model.sentences)), \n",
      "        sys.stdout.flush()\n",
      "       \n",
      "        \n",
      "        (hypergraph, path) = lpsolver.solve(model, verbose=True)\n",
      "        \n",
      "        prediction_str = model.pretty_string_from_hypergraph_path(hypergraph, path)\n",
      "               \n",
      "        # Write predicted sentence ordering to file.\n",
      "        pred_file.write(prediction_str.encode('utf-8')+\"\\n\\n\")\n",
      "        pred_file.flush()\n",
      "               \n",
      "        gold_file.write(model.pretty_string().encode('utf-8')+\"\\n\\n\")\n",
      "        gold_file.flush()\n",
      "\n",
      "           \n",
      "    \n",
      "pred_file.close()\n",
      "pred_filename = pred_file.name\n",
      "gold_file.close()\n",
      "gold_filename = gold_file.name\n",
      "\n",
      "print \"\\n\"\n",
      "lpsolver.print_stats()\n",
      "\n",
      "print \"\\n\\nWith headline evaluation:\"\n",
      "!python $eval_script --gold $gold_filename --predicted $pred_filename      \n",
      "\n",
      "print \"\\n\\nWithout headline evaluation:\"\n",
      "!python $eval_script --gold $gold_filename --predicted $pred_filename --noheadline       \n",
      "\n",
      "print '\\nPredicted file {}'.format(pred_file.name)\n",
      "print 'Gold file {}'.format(gold_file.name)\n",
      "#remove(pred_file.name)  \n",
      "#remove(gold_file.name)  "
     ],
     "language": "python",
     "metadata": {},
     "outputs": [
      {
       "output_type": "stream",
       "stream": "stdout",
       "text": [
        "Solving instance 1 of length 10...\n"
       ]
      },
      {
       "output_type": "stream",
       "stream": "stdout",
       "text": [
        "Constructing hypergraph...\tElapsed time 0:00:00.127966"
       ]
      },
      {
       "output_type": "stream",
       "stream": "stdout",
       "text": [
        "\n",
        "Constructing edge potentials...\tElapsed time 0:00:06.550761"
       ]
      },
      {
       "output_type": "stream",
       "stream": "stdout",
       "text": [
        "\n",
        "Constructing LP...\tElapsed time 0:00:00.606964"
       ]
      },
      {
       "output_type": "stream",
       "stream": "stdout",
       "text": [
        "\n",
        "Running LP solver...\t"
       ]
      },
      {
       "output_type": "stream",
       "stream": "stdout",
       "text": [
        "Elapsed time 0:00:02.546648\n",
        "Solving instance 2 of length 11...\n"
       ]
      },
      {
       "output_type": "stream",
       "stream": "stdout",
       "text": [
        "Constructing hypergraph...\tElapsed time 0:00:00.238449"
       ]
      },
      {
       "output_type": "stream",
       "stream": "stdout",
       "text": [
        "\n",
        "Constructing edge potentials...\tElapsed time 0:00:10.854522"
       ]
      },
      {
       "output_type": "stream",
       "stream": "stdout",
       "text": [
        "\n",
        "Constructing LP...\tElapsed time 0:00:00.893846"
       ]
      },
      {
       "output_type": "stream",
       "stream": "stdout",
       "text": [
        "\n",
        "Running LP solver...\t"
       ]
      },
      {
       "output_type": "stream",
       "stream": "stdout",
       "text": [
        "Elapsed time 0:00:02.587520\n",
        "Solving instance 3 of length 10...\n"
       ]
      },
      {
       "output_type": "stream",
       "stream": "stdout",
       "text": [
        "Constructing hypergraph...\tElapsed time 0:00:00.100587"
       ]
      },
      {
       "output_type": "stream",
       "stream": "stdout",
       "text": [
        "\n",
        "Constructing edge potentials...\tElapsed time 0:00:07.924240"
       ]
      },
      {
       "output_type": "stream",
       "stream": "stdout",
       "text": [
        "\n",
        "Constructing LP...\tElapsed time 0:00:00.597978"
       ]
      },
      {
       "output_type": "stream",
       "stream": "stdout",
       "text": [
        "\n",
        "Running LP solver...\t"
       ]
      },
      {
       "output_type": "stream",
       "stream": "stdout",
       "text": [
        "Elapsed time 0:00:02.956658\n",
        "Solving instance 4 of length 14...\n"
       ]
      },
      {
       "output_type": "stream",
       "stream": "stdout",
       "text": [
        "Constructing hypergraph...\tElapsed time 0:00:00.433219"
       ]
      },
      {
       "output_type": "stream",
       "stream": "stdout",
       "text": [
        "\n",
        "Constructing edge potentials...\tElapsed time 0:00:34.171635"
       ]
      },
      {
       "output_type": "stream",
       "stream": "stdout",
       "text": [
        "\n",
        "Constructing LP...\t"
       ]
      },
      {
       "output_type": "stream",
       "stream": "stdout",
       "text": [
        "Elapsed time 0:00:02.349697\n",
        "Running LP solver...\t"
       ]
      },
      {
       "output_type": "stream",
       "stream": "stdout",
       "text": [
        "Elapsed time 0:00:17.427902\n",
        "Solving instance 5 of length 15...\n"
       ]
      },
      {
       "output_type": "stream",
       "stream": "stdout",
       "text": [
        "Constructing hypergraph...\tElapsed time 0:00:00.539972"
       ]
      },
      {
       "output_type": "stream",
       "stream": "stdout",
       "text": [
        "\n",
        "Constructing edge potentials...\tElapsed time 0:00:46.958738"
       ]
      },
      {
       "output_type": "stream",
       "stream": "stdout",
       "text": [
        "\n",
        "Constructing LP...\t"
       ]
      },
      {
       "output_type": "stream",
       "stream": "stdout",
       "text": [
        "Elapsed time 0:00:03.074628\n",
        "Running LP solver...\t"
       ]
      },
      {
       "output_type": "stream",
       "stream": "stdout",
       "text": [
        "Elapsed time 0:00:18.319549\n",
        "Solving instance 6 of length 15...\n"
       ]
      },
      {
       "output_type": "stream",
       "stream": "stdout",
       "text": [
        "Constructing hypergraph...\tElapsed time 0:00:00.643654"
       ]
      },
      {
       "output_type": "stream",
       "stream": "stdout",
       "text": [
        "\n",
        "Constructing edge potentials...\tElapsed time 0:00:46.962832"
       ]
      },
      {
       "output_type": "stream",
       "stream": "stdout",
       "text": [
        "\n",
        "Constructing LP...\t"
       ]
      },
      {
       "output_type": "stream",
       "stream": "stdout",
       "text": [
        "Elapsed time 0:00:03.007161\n",
        "Running LP solver...\t"
       ]
      },
      {
       "output_type": "stream",
       "stream": "stdout",
       "text": [
        "Elapsed time 0:00:17.981516\n",
        "Solving instance 7 of length 18...\n"
       ]
      },
      {
       "output_type": "stream",
       "stream": "stdout",
       "text": [
        "Constructing hypergraph...\tElapsed time 0:00:01.211265"
       ]
      },
      {
       "output_type": "stream",
       "stream": "stdout",
       "text": [
        "\n",
        "Constructing edge potentials...\tElapsed time 0:01:45.706698"
       ]
      },
      {
       "output_type": "stream",
       "stream": "stdout",
       "text": [
        "\n",
        "Constructing LP...\t"
       ]
      },
      {
       "output_type": "stream",
       "stream": "stdout",
       "text": [
        "Elapsed time 0:00:06.366004\n",
        "Running LP solver...\t"
       ]
      },
      {
       "output_type": "stream",
       "stream": "stdout",
       "text": [
        "Elapsed time 0:57:40.437981\n",
        "Solving instance 8 of length 19...\n"
       ]
      },
      {
       "output_type": "stream",
       "stream": "stdout",
       "text": [
        "Constructing hypergraph...\tElapsed time 0:00:01.634933"
       ]
      },
      {
       "output_type": "stream",
       "stream": "stdout",
       "text": [
        "\n",
        "Constructing edge potentials...\tElapsed time 0:02:26.575380"
       ]
      },
      {
       "output_type": "stream",
       "stream": "stdout",
       "text": [
        "\n",
        "Constructing LP...\t"
       ]
      }
     ],
     "prompt_number": "*"
    },
    {
     "cell_type": "code",
     "collapsed": false,
     "input": [],
     "language": "python",
     "metadata": {},
     "outputs": []
    }
   ],
   "metadata": {}
  }
 ]
}