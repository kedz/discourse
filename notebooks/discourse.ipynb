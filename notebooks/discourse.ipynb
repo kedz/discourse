{
 "metadata": {
  "name": ""
 },
 "nbformat": 3,
 "nbformat_minor": 0,
 "worksheets": [
  {
   "cells": [
    {
     "cell_type": "code",
     "collapsed": false,
     "input": [
      "import numpy as np\n",
      "import egrid\n",
      "import pandas as pd\n",
      "import pydecode.hyper as ph\n",
      "import pydecode.display as display\n",
      "from collections import namedtuple"
     ],
     "language": "python",
     "metadata": {},
     "outputs": [],
     "prompt_number": 1
    },
    {
     "cell_type": "markdown",
     "metadata": {},
     "source": [
      "There are many tasks in NLP that involve ordering a set of sentences. Perhaps we are building a news summarizer and we have identified the following sentences to present as a summary:"
     ]
    },
    {
     "cell_type": "code",
     "collapsed": true,
     "input": [
      "snts = ['']*4\n",
      "snts[0] = \"Tropical storm Karen had winds of 60 mph as of Friday.\"\n",
      "snts[1] = \"Tropical storm Karen may pass close to Washington, D.C. on Monday.\"\n",
      "snts[2] = \"Tropical storm Karen has formed in the Gulf of Mexico and will move into the Louisiana coast this weekend.\"\n",
      "snts[3] = \"Authorities issued evacuation orders for New Orleans on Friday as Karen closed in on the Louisiana coast.\""
     ],
     "language": "python",
     "metadata": {},
     "outputs": [],
     "prompt_number": 2
    },
    {
     "cell_type": "markdown",
     "metadata": {},
     "source": [
      "It is not immediately clear what the best ordering of these sentences is. In order to find the best ordering, we make the assumption that coherent texts exhibit similar patterns of syntactic roles. In other words, a passage will focus on a few entities, and the function of those entities (e.g. as the subject, or direct object), should transition from sentence to sentence in a predictable way. "
     ]
    },
    {
     "cell_type": "markdown",
     "metadata": {},
     "source": [
      "In models of discourse coherence this is commonly represented as a grid of entities and their syntactic roles by sentence. From the above sentences, we identify the following entities: "
     ]
    },
    {
     "cell_type": "code",
     "collapsed": false,
     "input": [
      "entities = ['Tropical storm Karen', 'winds', 'Friday', 'Washington, D.C.', 'Monday', 'Gulf of Mexico', 'Louisiana coast', 'weekend', 'authorities', 'orders', 'New Orleans']\n",
      "entities"
     ],
     "language": "python",
     "metadata": {},
     "outputs": [
      {
       "metadata": {},
       "output_type": "pyout",
       "prompt_number": 3,
       "text": [
        "['Tropical storm Karen',\n",
        " 'winds',\n",
        " 'Friday',\n",
        " 'Washington, D.C.',\n",
        " 'Monday',\n",
        " 'Gulf of Mexico',\n",
        " 'Louisiana coast',\n",
        " 'weekend',\n",
        " 'authorities',\n",
        " 'orders',\n",
        " 'New Orleans']"
       ]
      }
     ],
     "prompt_number": 3
    },
    {
     "cell_type": "markdown",
     "metadata": {},
     "source": [
      "Using the entity grid representation, we would represent the preceding ordering of sentences as:"
     ]
    },
    {
     "cell_type": "code",
     "collapsed": true,
     "input": [
      "grid = [[]]*4\n",
      "grid[0] = [ 's', 'o', 'x', '-', '-', '-', '-', '-', '-', '-', '-' ]\n",
      "grid[1] = [ 's', '-', '-', 'x', 'x', '-', '-', '-', '-', '-', '-' ]\n",
      "grid[2] = [ 's', '-', '-', '-', '-', 'x', 'x', 'x', '-', '-', '-' ]\n",
      "grid[3] = [ 's', '-', 'x', '-', '-', '-', 'x', '-', 's', 'o', 'x' ]\n",
      "df_grid = pd.DataFrame(grid, columns=entities)\n",
      "df_grid.transpose()\n",
      "\n"
     ],
     "language": "python",
     "metadata": {},
     "outputs": [
      {
       "metadata": {},
       "output_type": "pyout",
       "prompt_number": 4,
       "text": [
        "                      0  1  2  3\n",
        "Tropical storm Karen  s  s  s  s\n",
        "winds                 o  -  -  -\n",
        "Friday                x  -  -  x\n",
        "Washington, D.C.      -  x  -  -\n",
        "Monday                -  x  -  -\n",
        "Gulf of Mexico        -  -  x  -\n",
        "Louisiana coast       -  -  x  x\n",
        "weekend               -  -  x  -\n",
        "authorities           -  -  -  s\n",
        "orders                -  -  -  o\n",
        "New Orleans           -  -  -  x"
       ]
      }
     ],
     "prompt_number": 4
    },
    {
     "cell_type": "markdown",
     "metadata": {},
     "source": [
      "To measure the coherence of this ordering, we simply count the number of times we see a particular role transition (transitions along the column vertical) and take the dot product of these counts with a vector of weights that expresses how beneficial certain transition types are to coherence."
     ]
    },
    {
     "cell_type": "code",
     "collapsed": false,
     "input": [
      "\n",
      "\n",
      "# Because we have used 4 roles in this case, there are 4**2 = 16 possible transitions of size 2.\n",
      "\n",
      "\n",
      "eg = egrid.new_entity_grid(np.matrix(grid), syntax=True, tsize=2)\n",
      "v = eg.get_trans_cnt_vctr()\n",
      "\n",
      "transitions = egrid.generate_transitions(('s','o','x','-'), 2)\n",
      "\n",
      "df_v = pd.DataFrame(v, index=transitions, columns=[\"Transition Count\"])\n",
      "\n",
      "print \"{}\\n\".format(df_v.transpose())\n",
      "\n",
      "w = [ -47.476006032, -151.099307392, -4.42846641511, -55.7104601698, \n",
      "     -79.6006622069, 26.5642024903, 49.8308986209, -12.2745911886, \n",
      "     71.0942860404, 61.0004225013, 103.182302664, 21.2264568271, \n",
      "     14.9166913664, -88.0727806818, 40.8654292962, 49.9811232583 ]\n",
      "\n",
      "rank = np.dot(w, v)[0]\n",
      "\n",
      "print \"Coherence ranking: {}\".format(rank)"
     ],
     "language": "python",
     "metadata": {},
     "outputs": [
      {
       "output_type": "stream",
       "stream": "stdout",
       "text": [
        "                  --  -o  -s  -x  o-  oo  os  ox  s-  so  ss  sx  x-  xo  xs  xx\n",
        "Transition Count  14   1   1   7   1   0   0   0   0   0   3   0   5   0   0   1\n",
        "\n",
        "Coherence ranking: -855.654253568\n"
       ]
      }
     ],
     "prompt_number": 5
    },
    {
     "cell_type": "markdown",
     "metadata": {},
     "source": [
      "Looking at the previous text, perhaps this is a more sensible ordering: "
     ]
    },
    {
     "cell_type": "code",
     "collapsed": false,
     "input": [
      "snts[2] = \"Tropical storm Karen has formed in the Gulf of Mexico and will move into the Louisiana coast this weekend.\"\n",
      "snts[3] = \"Authorities issued evacuation orders for New Orleans on Friday as Karen closed in on the Louisiana coast.\"\n",
      "snts[0] = \"Tropical storm Karen had winds of 60 mph as of Friday.\"\n",
      "snts[1] = \"Tropical storm Karen may pass close to Washington, D.C. on Monday.\""
     ],
     "language": "python",
     "metadata": {},
     "outputs": [],
     "prompt_number": 6
    },
    {
     "cell_type": "code",
     "collapsed": true,
     "input": [
      "grid2 = [[]]*4\n",
      "grid2[0] = grid[2]\n",
      "grid2[1] = grid[3]\n",
      "grid2[2] = grid[0]\n",
      "grid2[3] = grid[1]\n",
      "\n",
      "df_grid2 = pd.DataFrame(grid2, index=[2,3,0,1], columns=entities)\n",
      "print \"{}\\n\".format(df_grid2.transpose())\n",
      "\n",
      "\n",
      "eg2 = egrid.new_entity_grid(np.matrix(grid2), syntax=True, tsize=2)\n",
      "v2 = eg2.get_trans_cnt_vctr()\n",
      "\n",
      "df_v2 = pd.DataFrame(v2, index=transitions, columns=[\"Transition Count\"])\n",
      "print \"{}\\n\".format(df_v2.transpose())\n",
      "\n",
      "rank = np.dot(w, v2)[0]\n",
      "\n",
      "print \"Coherence ranking: {}\".format(rank)"
     ],
     "language": "python",
     "metadata": {},
     "outputs": [
      {
       "output_type": "stream",
       "stream": "stdout",
       "text": [
        "                      2  3  0  1\n",
        "Tropical storm Karen  s  s  s  s\n",
        "winds                 -  -  o  -\n",
        "Friday                -  x  x  -\n",
        "Washington, D.C.      -  -  -  x\n",
        "Monday                -  -  -  x\n",
        "Gulf of Mexico        x  -  -  -\n",
        "Louisiana coast       x  x  -  -\n",
        "weekend               x  -  -  -\n",
        "authorities           -  s  -  -\n",
        "orders                -  o  -  -\n",
        "New Orleans           -  x  -  -\n",
        "\n",
        "                  --  -o  -s  -x  o-  oo  os  ox  s-  so  ss  sx  x-  xo  xs  xx\n",
        "Transition Count  13   2   1   4   2   0   0   0   1   0   3   0   5   0   0   2\n",
        "\n",
        "Coherence ranking: -750.671427327\n"
       ]
      }
     ],
     "prompt_number": 8
    },
    {
     "cell_type": "markdown",
     "metadata": {},
     "source": [
      "Indeed, according to our model, this is a more coherent ordering. For trivial sentence set sizes, we can try all the permutations and find the highest ranked one. However, for even reasonably sized documents, it becomes intractable to try out all permutations as there are $n!$ permutations where $n$ is the number of sentences. "
     ]
    },
    {
     "cell_type": "code",
     "collapsed": false,
     "input": [
      "\n",
      "\n",
      "class Transition(namedtuple(\"Transition\", [\"sent\", \"prev_sent\"])):\n",
      "    def __str__(self): return \"Sentence %s -> Sentence %s\"%(self.prev_sent, self.sent)\n",
      "\n",
      "hypergraph = ph.Hypergraph()\n",
      "with hypergraph.builder() as b:\n",
      "    node_start = b.add_node(label = \"^\")\n",
      "    \n",
      "    node_list = [(node_start, \"^\")]\n",
      "    \n",
      "    for i in range(len(snts)):\n",
      "        next_node_list = []\n",
      "        for j in range(len(snts)):\n",
      "            edges = (([prev_node], Transition(j, prev_sent))\n",
      "                     for prev_node, prev_sent in node_list)\n",
      "            node = b.add_node(edges, label = j)\n",
      "            next_node_list.append((node, j))\n",
      "        node_list = next_node_list\n",
      "    edges = (([prev_node], Transition(\"$\", prev_sent))\n",
      "             for prev_node, prev_sent in node_list)\n",
      "    end_node = b.add_node(edges, label = \"$\")\n",
      "  \n",
      "spec_symbols = [\"^\", \"$\"]\n",
      "        \n",
      "### BUILD WEIGHTS    \n",
      "    \n",
      "def build_weights((sent, prev_sent)):\n",
      "    \n",
      "    if sent in spec_symbols or prev_sent in spec_symbols:  \n",
      "        return 0\n",
      "    \n",
      "    trans_grid = [grid[prev_sent], grid[sent]]\n",
      "    eg = egrid.new_entity_grid(np.matrix(trans_grid), syntax=True, tsize=2)\n",
      "    v = eg.get_trans_cnt_vctr()\n",
      "    return np.dot(w,v)[0]\n",
      "    \n",
      "weights = ph.Weights(hypergraph, build_weights)    \n",
      "\n",
      "### BUILD CONSTRAINTS\n",
      "\n",
      "def cons(sent): return \"Sentence_{}\".format(sent)\n",
      "\n",
      "def build_constraints(transition):\n",
      "    if transition.sent not in spec_symbols:\n",
      "            return [(cons(transition.sent), 1)]\n",
      "    return []\n",
      "\n",
      "constraints = \\\n",
      "    ph.Constraints(hypergraph,\n",
      "                   [(cons(sent), 1) for sent in range(len(snts))],\n",
      "                   build_constraints)\n",
      "\n",
      "\n",
      "format = display.HypergraphPathFormatter(hypergraph, [])\n",
      "display.to_ipython(hypergraph, format)\n"
     ],
     "language": "python",
     "metadata": {},
     "outputs": [
      {
       "ename": "TypeError",
       "evalue": "__cinit__() takes exactly 1 positional argument (2 given)",
       "output_type": "pyerr",
       "traceback": [
        "\u001b[1;31m---------------------------------------------------------------------------\u001b[0m\n\u001b[1;31mTypeError\u001b[0m                                 Traceback (most recent call last)",
        "\u001b[1;32m<ipython-input-26-4726601d45ad>\u001b[0m in \u001b[0;36m<module>\u001b[1;34m()\u001b[0m\n\u001b[0;32m     36\u001b[0m     \u001b[1;32mreturn\u001b[0m \u001b[0mnp\u001b[0m\u001b[1;33m.\u001b[0m\u001b[0mdot\u001b[0m\u001b[1;33m(\u001b[0m\u001b[0mw\u001b[0m\u001b[1;33m,\u001b[0m\u001b[0mv\u001b[0m\u001b[1;33m)\u001b[0m\u001b[1;33m[\u001b[0m\u001b[1;36m0\u001b[0m\u001b[1;33m]\u001b[0m\u001b[1;33m\u001b[0m\u001b[0m\n\u001b[0;32m     37\u001b[0m \u001b[1;33m\u001b[0m\u001b[0m\n\u001b[1;32m---> 38\u001b[1;33m \u001b[0mweights\u001b[0m \u001b[1;33m=\u001b[0m \u001b[0mph\u001b[0m\u001b[1;33m.\u001b[0m\u001b[0mWeights\u001b[0m\u001b[1;33m(\u001b[0m\u001b[0mhypergraph\u001b[0m\u001b[1;33m,\u001b[0m \u001b[0mbuild_weights\u001b[0m\u001b[1;33m)\u001b[0m\u001b[1;33m\u001b[0m\u001b[0m\n\u001b[0m\u001b[0;32m     39\u001b[0m \u001b[1;33m\u001b[0m\u001b[0m\n\u001b[0;32m     40\u001b[0m \u001b[1;31m### BUILD CONSTRAINTS\u001b[0m\u001b[1;33m\u001b[0m\u001b[1;33m\u001b[0m\u001b[0m\n",
        "\u001b[1;32m/usr/local/lib/python2.7/dist-packages/pydecode/hyper.so\u001b[0m in \u001b[0;36mpydecode.hyper.Weights.__cinit__ (python/pydecode/hyper.cpp:5486)\u001b[1;34m()\u001b[0m\n",
        "\u001b[1;31mTypeError\u001b[0m: __cinit__() takes exactly 1 positional argument (2 given)"
       ]
      }
     ],
     "prompt_number": 26
    },
    {
     "cell_type": "code",
     "collapsed": false,
     "input": [],
     "language": "python",
     "metadata": {},
     "outputs": []
    }
   ],
   "metadata": {}
  }
 ]
}