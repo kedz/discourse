{
 "metadata": {
  "name": ""
 },
 "nbformat": 3,
 "nbformat_minor": 0,
 "worksheets": [
  {
   "cells": [
    {
     "cell_type": "code",
     "collapsed": false,
     "input": [
      "import discourse.data as data\n",
      "import discourse.inference.perceptron as perceptron\n",
      "from  discourse.models.rush import RushModel\n",
      "import corenlp_xml as cnlp\n",
      "from collections import defaultdict\n",
      "from discourse.hypergraph import recover_order\n",
      "from os import makedirs, getenv, remove\n",
      "from os.path import join, exists"
     ],
     "language": "python",
     "metadata": {},
     "outputs": [],
     "prompt_number": 12
    },
    {
     "cell_type": "code",
     "collapsed": false,
     "input": [
      "train_apws = [cnlp.Document(xml) for xml in data.corenlp_apws_train()]\n",
      "train_ntsb = [cnlp.Document(xml) for xml in data.corenlp_ntsb_train()]\n",
      "test_apws = [cnlp.Document(xml) for xml in data.corenlp_apws_test()]\n",
      "test_ntsb = [cnlp.Document(xml) for xml in data.corenlp_ntsb_test()]\n",
      "#nstb_w2i, ntsb_lsi = data.get_gensim(train_ntsb)\n",
      "#apws_w2i, apws_lsi = data.get_gensim(train_apws)"
     ],
     "language": "python",
     "metadata": {},
     "outputs": [
      {
       "output_type": "stream",
       "stream": "stdout",
       "text": [
        "STRING FAILED: XXXX-WXX-2TNI\n",
        "STRING FAILED: XXXX-WXX-2TNI\n",
        "STRING FAILED: XXXX-WXX-2TMO"
       ]
      },
      {
       "output_type": "stream",
       "stream": "stdout",
       "text": [
        "\n",
        "STRING FAILED: XXXX-WXX-2TMO\n",
        "STRING FAILED: XXXX-WXX-3TMO\n",
        "STRING FAILED: XXXX-WXX-3TMO\n",
        "STRING FAILED: XXXX-WXX-1TNI"
       ]
      },
      {
       "output_type": "stream",
       "stream": "stdout",
       "text": [
        "\n",
        "STRING FAILED: XXXX-WXX-1TNI\n",
        "STRING FAILED: XXXX-WXX-3TEV"
       ]
      },
      {
       "output_type": "stream",
       "stream": "stdout",
       "text": [
        "\n",
        "STRING FAILED: XXXX-WXX-3TEV\n",
        "STRING FAILED: XXXX-WXX-6TMO"
       ]
      },
      {
       "output_type": "stream",
       "stream": "stdout",
       "text": [
        "\n",
        "STRING FAILED: XXXX-WXX-6TMO\n",
        "STRING FAILED: XXXX-WXX-3TMO"
       ]
      },
      {
       "output_type": "stream",
       "stream": "stdout",
       "text": [
        "\n",
        "STRING FAILED: XXXX-WXX-3TMO\n",
        "STRING FAILED: XXXX-WXX-3TMO\n",
        "STRING FAILED: XXXX-WXX-5TNI"
       ]
      },
      {
       "output_type": "stream",
       "stream": "stdout",
       "text": [
        "\n",
        "STRING FAILED: XXXX-WXX-5TNI\n",
        "STRING FAILED: XXXX-WXX-5TNI"
       ]
      },
      {
       "output_type": "stream",
       "stream": "stdout",
       "text": [
        "\n",
        "STRING FAILED: XXXX-WXX-5TNI\n",
        "STRING FAILED: XXXX-WXX-5TNI"
       ]
      },
      {
       "output_type": "stream",
       "stream": "stdout",
       "text": [
        "\n",
        "STRING FAILED: XXXX-WXX-5TNI\n",
        "STRING FAILED: XXXX-WXX-5TNI\n",
        "STRING FAILED: XXXX-WXX-5TNI\n",
        "STRING FAILED: XXXX-WXX-2TMO"
       ]
      },
      {
       "output_type": "stream",
       "stream": "stdout",
       "text": [
        "\n",
        "STRING FAILED: XXXX-WXX-2TMO\n",
        "STRING FAILED: XXXX-WXX-2TMO"
       ]
      },
      {
       "output_type": "stream",
       "stream": "stdout",
       "text": [
        "\n",
        "STRING FAILED: XXXX-WXX-2TMO\n",
        "STRING FAILED: XXXX-WXX-2TMO"
       ]
      },
      {
       "output_type": "stream",
       "stream": "stdout",
       "text": [
        "\n",
        "STRING FAILED: XXXX-WXX-2TMO\n",
        "STRING FAILED: XXXX-WXX-2TMO"
       ]
      },
      {
       "output_type": "stream",
       "stream": "stdout",
       "text": [
        "\n",
        "STRING FAILED: XXXX-WXX-2TMO\n",
        "STRING FAILED: XXXX-WXX-5TAF"
       ]
      },
      {
       "output_type": "stream",
       "stream": "stdout",
       "text": [
        "\n",
        "STRING FAILED: XXXX-WXX-5TAF\n",
        "STRING FAILED: XXXX-WXX-1TMO"
       ]
      },
      {
       "output_type": "stream",
       "stream": "stdout",
       "text": [
        "\n",
        "STRING FAILED: XXXX-WXX-1TMO\n",
        "STRING FAILED: XXXX-WXX-2TMO"
       ]
      },
      {
       "output_type": "stream",
       "stream": "stdout",
       "text": [
        "\n",
        "STRING FAILED: XXXX-WXX-2TMO\n",
        "STRING FAILED: XXXX-WXX-2TMO\n",
        "STRING FAILED: XXXX-WXX-3TMO\n",
        "STRING FAILED: XXXX-WXX-3TMO\n",
        "STRING FAILED: XXXX-WXX-3TMO\n",
        "STRING FAILED: XXXX-WXX-1TEV"
       ]
      },
      {
       "output_type": "stream",
       "stream": "stdout",
       "text": [
        "\n",
        "STRING FAILED: XXXX-WXX-1TEV\n",
        "STRING FAILED: XXXX-WXX-1TEV\n",
        "STRING FAILED: XXXX-WXX-1TEV\n",
        "STRING FAILED: XXXX-WXX-1TNI"
       ]
      },
      {
       "output_type": "stream",
       "stream": "stdout",
       "text": [
        "\n",
        "STRING FAILED: XXXX-WXX-1TNI\n",
        "STRING FAILED: XXXX-WXX-1TNI"
       ]
      },
      {
       "output_type": "stream",
       "stream": "stdout",
       "text": [
        "\n",
        "STRING FAILED: XXXX-WXX-1TNI\n",
        "STRING FAILED: XXXX-WXX-3TMO"
       ]
      },
      {
       "output_type": "stream",
       "stream": "stdout",
       "text": [
        "\n",
        "STRING FAILED: XXXX-WXX-3TMO\n",
        "STRING FAILED: TDT"
       ]
      },
      {
       "output_type": "stream",
       "stream": "stdout",
       "text": [
        "\n",
        "STRING FAILED: TDT"
       ]
      },
      {
       "output_type": "stream",
       "stream": "stdout",
       "text": [
        "\n",
        "STRING FAILED: TDT"
       ]
      },
      {
       "output_type": "stream",
       "stream": "stdout",
       "text": [
        "\n",
        "STRING FAILED: TDT"
       ]
      },
      {
       "output_type": "stream",
       "stream": "stdout",
       "text": [
        "\n",
        "STRING FAILED: T22:09:17"
       ]
      },
      {
       "output_type": "stream",
       "stream": "stdout",
       "text": [
        "\n",
        "STRING FAILED: T22:11:25\n",
        "STRING FAILED: TDT"
       ]
      },
      {
       "output_type": "stream",
       "stream": "stdout",
       "text": [
        "\n",
        "STRING FAILED: TDT"
       ]
      },
      {
       "output_type": "stream",
       "stream": "stdout",
       "text": [
        "\n",
        "STRING FAILED: TDT"
       ]
      },
      {
       "output_type": "stream",
       "stream": "stdout",
       "text": [
        "\n",
        "STRING FAILED: TDT"
       ]
      },
      {
       "output_type": "stream",
       "stream": "stdout",
       "text": [
        "\n",
        "STRING FAILED: TDT\n",
        "STRING FAILED: TDT"
       ]
      },
      {
       "output_type": "stream",
       "stream": "stdout",
       "text": [
        "\n",
        "STRING FAILED: TDT"
       ]
      },
      {
       "output_type": "stream",
       "stream": "stdout",
       "text": [
        "\n",
        "STRING FAILED: TDT"
       ]
      },
      {
       "output_type": "stream",
       "stream": "stdout",
       "text": [
        "\n",
        "STRING FAILED: TDT"
       ]
      },
      {
       "output_type": "stream",
       "stream": "stdout",
       "text": [
        "\n",
        "STRING FAILED: TDT\n",
        "STRING FAILED: TDT"
       ]
      },
      {
       "output_type": "stream",
       "stream": "stdout",
       "text": [
        "\n",
        "STRING FAILED: TDT\n",
        "STRING FAILED: XXXX-WXX-1T14:15"
       ]
      },
      {
       "output_type": "stream",
       "stream": "stdout",
       "text": [
        "\n",
        "STRING FAILED: XXXX-WXX-1T14:15\n",
        "STRING FAILED: XXXX-WXX-1T14:15"
       ]
      },
      {
       "output_type": "stream",
       "stream": "stdout",
       "text": [
        "\n",
        "STRING FAILED: XXXX-WXX-1T14:15\n",
        "STRING FAILED: XXXX-WXX-1T14:15"
       ]
      },
      {
       "output_type": "stream",
       "stream": "stdout",
       "text": [
        "\n",
        "STRING FAILED: XXXX-WXX-1T14:15\n",
        "STRING FAILED: XXXX-WXX-1T14:15"
       ]
      },
      {
       "output_type": "stream",
       "stream": "stdout",
       "text": [
        "\n",
        "STRING FAILED: XXXX-WXX-1T14:15\n",
        "STRING FAILED: XXXX-WXX-1T14:15"
       ]
      },
      {
       "output_type": "stream",
       "stream": "stdout",
       "text": [
        "\n",
        "STRING FAILED: XXXX-WXX-1T14:15\n",
        "STRING FAILED: XXXX-WXX-1T14:15"
       ]
      },
      {
       "output_type": "stream",
       "stream": "stdout",
       "text": [
        "\n",
        "STRING FAILED: XXXX-WXX-1T14:15\n",
        "STRING FAILED: XXXX-WXX-1T14:15"
       ]
      },
      {
       "output_type": "stream",
       "stream": "stdout",
       "text": [
        "\n",
        "STRING FAILED: XXXX-WXX-1T14:15\n",
        "STRING FAILED: XXXX-WXX-1T14:15"
       ]
      },
      {
       "output_type": "stream",
       "stream": "stdout",
       "text": [
        "\n",
        "STRING FAILED: XXXX-WXX-1T14:15\n",
        "STRING FAILED: MO"
       ]
      },
      {
       "output_type": "stream",
       "stream": "stdout",
       "text": [
        "\n",
        "STRING FAILED: XXXX-WXX-2T14:30\n",
        "STRING FAILED: XXXX-WXX-2T14:30\n",
        "STRING FAILED: XXXX-WXX-2T14:30\n",
        "STRING FAILED: MO"
       ]
      },
      {
       "output_type": "stream",
       "stream": "stdout",
       "text": [
        "\n",
        "STRING FAILED: XXXX-WXX-2T14:30\n",
        "STRING FAILED: XXXX-WXX-2T14:30\n",
        "STRING FAILED: XXXX-WXX-2T14:30\n",
        "STRING FAILED: MO"
       ]
      },
      {
       "output_type": "stream",
       "stream": "stdout",
       "text": [
        "\n",
        "STRING FAILED: XXXX-WXX-2T14:30\n",
        "STRING FAILED: XXXX-WXX-2T14:30\n",
        "STRING FAILED: XXXX-WXX-2T14:30\n",
        "STRING FAILED: MO"
       ]
      },
      {
       "output_type": "stream",
       "stream": "stdout",
       "text": [
        "\n",
        "STRING FAILED: MO"
       ]
      },
      {
       "output_type": "stream",
       "stream": "stdout",
       "text": [
        "\n",
        "STRING FAILED: XXXX-WXX-5TMO"
       ]
      },
      {
       "output_type": "stream",
       "stream": "stdout",
       "text": [
        "\n",
        "STRING FAILED: XXXX-WXX-5TMO\n",
        "STRING FAILED: XXXX-WXX-6TNI"
       ]
      },
      {
       "output_type": "stream",
       "stream": "stdout",
       "text": [
        "\n",
        "STRING FAILED: XXXX-WXX-6TNI\n",
        "STRING FAILED: XXXX-WXX-4TNI"
       ]
      },
      {
       "output_type": "stream",
       "stream": "stdout",
       "text": [
        "\n",
        "STRING FAILED: XXXX-WXX-4TNI\n",
        "STRING FAILED: XXXX-WXX-4TNI"
       ]
      },
      {
       "output_type": "stream",
       "stream": "stdout",
       "text": [
        "\n",
        "STRING FAILED: XXXX-WXX-4TNI\n",
        "STRING FAILED: XXXX-WXX-4TNI\n",
        "STRING FAILED: XXXX-WXX-5TAF"
       ]
      },
      {
       "output_type": "stream",
       "stream": "stdout",
       "text": [
        "\n",
        "STRING FAILED: XXXX-WXX-5TAF\n",
        "STRING FAILED: XXXX-WXX-2TNI"
       ]
      },
      {
       "output_type": "stream",
       "stream": "stdout",
       "text": [
        "\n",
        "STRING FAILED: XXXX-WXX-2TNI\n",
        "STRING FAILED: XXXX-WXX-6T00:00"
       ]
      },
      {
       "output_type": "stream",
       "stream": "stdout",
       "text": [
        "\n",
        "STRING FAILED: XXXX-WXX-6T00:00\n",
        "STRING FAILED: XXXX-WXX-5TNI\n",
        "STRING FAILED: XXXX-WXX-5TNI\n",
        "STRING FAILED: XXXX-WXX-4TMO\n",
        "STRING FAILED: XXXX-WXX-4TMO\n",
        "STRING FAILED: XXXX-WXX-6TAF"
       ]
      },
      {
       "output_type": "stream",
       "stream": "stdout",
       "text": [
        "\n",
        "STRING FAILED: XXXX-WXX-6TAF\n",
        "STRING FAILED: XXXX-WXX-6T12:00"
       ]
      },
      {
       "output_type": "stream",
       "stream": "stdout",
       "text": [
        "\n",
        "STRING FAILED: XXXX-WXX-6T12:00\n",
        "STRING FAILED: XXXX-WXX-1TMO\n",
        "STRING FAILED: XXXX-WXX-1TMO\n",
        "STRING FAILED: XXXX-WXX-7T01:03"
       ]
      },
      {
       "output_type": "stream",
       "stream": "stdout",
       "text": [
        "\n",
        "STRING FAILED: XXXX-WXX-7T01:03\n",
        "STRING FAILED: XXXX-WXX-7T01:03\n",
        "STRING FAILED: XXXX-WXX-6TNI\n",
        "STRING FAILED: XXXX-WXX-6TNI\n",
        "STRING FAILED: XXXX-WXX-7T01:05"
       ]
      },
      {
       "output_type": "stream",
       "stream": "stdout",
       "text": [
        "\n",
        "STRING FAILED: XXXX-WXX-7T01:05\n",
        "STRING FAILED: XXXX-WXX-7T01:05\n",
        "STRING FAILED: XXXX-WXX-5TMO"
       ]
      },
      {
       "output_type": "stream",
       "stream": "stdout",
       "text": [
        "\n",
        "STRING FAILED: XXXX-WXX-5TMO\n",
        "STRING FAILED: XXXX-WXX-1TMO"
       ]
      },
      {
       "output_type": "stream",
       "stream": "stdout",
       "text": [
        "\n",
        "STRING FAILED: XXXX-WXX-1TMO\n",
        "STRING FAILED: XXXX-WXX-1TMO\n",
        "STRING FAILED: XXXX-WXX-1TMO\n",
        "STRING FAILED: XXXX-WXX-7T23:53\n",
        "STRING FAILED: XXXX-WXX-7T23:53\n",
        "STRING FAILED: XXXX-WXX-1TMO"
       ]
      },
      {
       "output_type": "stream",
       "stream": "stdout",
       "text": [
        "\n",
        "STRING FAILED: XXXX-WXX-1TMO\n",
        "STRING FAILED: XXXX-WXX-7T23:53\n",
        "STRING FAILED: XXXX-WXX-7T23:53\n",
        "STRING FAILED: XXXX-WXX-1TMO\n",
        "STRING FAILED: XXXX-WXX-1TMO\n",
        "STRING FAILED: XXXX-WXX-3TMO"
       ]
      },
      {
       "output_type": "stream",
       "stream": "stdout",
       "text": [
        "\n",
        "STRING FAILED: XXXX-WXX-3TMO\n",
        "STRING FAILED: XXXX-WXX-3TMO\n",
        "STRING FAILED: XXXX-WXX-1TMO\n",
        "STRING FAILED: XXXX-WXX-1TMO\n",
        "STRING FAILED: XXXX-WXX-1TMO\n",
        "STRING FAILED: XXXX-WXX-3TMO\n",
        "STRING FAILED: XXXX-WXX-3TMO\n",
        "STRING FAILED: XXXX-WXX-3TMO\n",
        "STRING FAILED: XXXX-WXX-1TMO\n",
        "STRING FAILED: XXXX-WXX-1TMO\n",
        "STRING FAILED: XXXX-WXX-1TMO\n",
        "STRING FAILED: XXXX-WXX-2T23:35"
       ]
      },
      {
       "output_type": "stream",
       "stream": "stdout",
       "text": [
        "\n",
        "STRING FAILED: XXXX-WXX-2T23:35\n",
        "STRING FAILED: XXXX-WXX-2T23:35\n",
        "STRING FAILED: XXXX-WXX-4T08:18"
       ]
      },
      {
       "output_type": "stream",
       "stream": "stdout",
       "text": [
        "\n",
        "STRING FAILED: XXXX-WXX-4T08:18\n",
        "STRING FAILED: XXXX-WXX-4T08:18\n",
        "STRING FAILED: MO"
       ]
      },
      {
       "output_type": "stream",
       "stream": "stdout",
       "text": [
        "\n",
        "STRING FAILED: MO\n",
        "STRING FAILED: TDT"
       ]
      },
      {
       "output_type": "stream",
       "stream": "stdout",
       "text": [
        "\n",
        "STRING FAILED: TDT\n",
        "STRING FAILED: TDT"
       ]
      },
      {
       "output_type": "stream",
       "stream": "stdout",
       "text": [
        "\n",
        "STRING FAILED: TDT"
       ]
      },
      {
       "output_type": "stream",
       "stream": "stdout",
       "text": [
        "\n",
        "STRING FAILED: TDT"
       ]
      },
      {
       "output_type": "stream",
       "stream": "stdout",
       "text": [
        "\n",
        "STRING FAILED: TDT"
       ]
      },
      {
       "output_type": "stream",
       "stream": "stdout",
       "text": [
        "\n",
        "STRING FAILED: TDT"
       ]
      },
      {
       "output_type": "stream",
       "stream": "stdout",
       "text": [
        "\n",
        "STRING FAILED: TDT"
       ]
      },
      {
       "output_type": "stream",
       "stream": "stdout",
       "text": [
        "\n",
        "STRING FAILED: TDT\n",
        "STRING FAILED: TDT"
       ]
      },
      {
       "output_type": "stream",
       "stream": "stdout",
       "text": [
        "\n",
        "STRING FAILED: TDT"
       ]
      },
      {
       "output_type": "stream",
       "stream": "stdout",
       "text": [
        "\n",
        "STRING FAILED: TDT"
       ]
      },
      {
       "output_type": "stream",
       "stream": "stdout",
       "text": [
        "\n",
        "STRING FAILED: TDT"
       ]
      },
      {
       "output_type": "stream",
       "stream": "stdout",
       "text": [
        "\n",
        "STRING FAILED: TDT"
       ]
      },
      {
       "output_type": "stream",
       "stream": "stdout",
       "text": [
        "\n",
        "STRING FAILED: TDT"
       ]
      },
      {
       "output_type": "stream",
       "stream": "stdout",
       "text": [
        "\n",
        "STRING FAILED: TDT"
       ]
      },
      {
       "output_type": "stream",
       "stream": "stdout",
       "text": [
        "\n",
        "STRING FAILED: TDT"
       ]
      },
      {
       "output_type": "stream",
       "stream": "stdout",
       "text": [
        "\n",
        "STRING FAILED: TDT"
       ]
      },
      {
       "output_type": "stream",
       "stream": "stdout",
       "text": [
        "\n",
        "STRING FAILED: TDT"
       ]
      },
      {
       "output_type": "stream",
       "stream": "stdout",
       "text": [
        "\n",
        "STRING FAILED: TDT\n",
        "STRING FAILED: TDT"
       ]
      },
      {
       "output_type": "stream",
       "stream": "stdout",
       "text": [
        "\n",
        "STRING FAILED: TDT\n",
        "STRING FAILED: TDT"
       ]
      },
      {
       "output_type": "stream",
       "stream": "stdout",
       "text": [
        "\n",
        "STRING FAILED: TDT"
       ]
      },
      {
       "output_type": "stream",
       "stream": "stdout",
       "text": [
        "\n",
        "STRING FAILED: TDT"
       ]
      },
      {
       "output_type": "stream",
       "stream": "stdout",
       "text": [
        "\n",
        "STRING FAILED: TDT"
       ]
      },
      {
       "output_type": "stream",
       "stream": "stdout",
       "text": [
        "\n",
        "STRING FAILED: TDT"
       ]
      },
      {
       "output_type": "stream",
       "stream": "stdout",
       "text": [
        "\n",
        "STRING FAILED: TDT\n",
        "STRING FAILED: TDT"
       ]
      },
      {
       "output_type": "stream",
       "stream": "stdout",
       "text": [
        "\n",
        "STRING FAILED: TDT\n",
        "STRING FAILED: TDT"
       ]
      },
      {
       "output_type": "stream",
       "stream": "stdout",
       "text": [
        "\n"
       ]
      }
     ],
     "prompt_number": 13
    },
    {
     "cell_type": "heading",
     "level": 1,
     "metadata": {},
     "source": [
      "Feature Ablation"
     ]
    },
    {
     "cell_type": "code",
     "collapsed": false,
     "input": [
      "all_feats = ['is_first',\n",
      "         'is_last',\n",
      "         'role_match',\n",
      "         'pron_res',\n",
      "         'ne_tags',\n",
      "         'num_caps',\n",
      "         'quotes',\n",
      "         'first_word_ne',\n",
      "         'root_verb_tense',\n",
      "         'person']"
     ],
     "language": "python",
     "metadata": {},
     "outputs": [],
     "prompt_number": 14
    },
    {
     "cell_type": "code",
     "collapsed": false,
     "input": [
      "feats1 = defaultdict(lambda: False)\n",
      "feats1['role_match'] = True\n",
      "\n",
      "feats2 = defaultdict(lambda: False)\n",
      "feats2['role_match'] = True\n",
      "feats2['pron_res'] = True\n",
      "\n",
      "feats3 = defaultdict(lambda: False)\n",
      "feats3['role_match'] = True\n",
      "feats3['use_det'] = True\n",
      "\n",
      "feats4 = defaultdict(lambda: False)\n",
      "feats4['role_match'] = True\n",
      "feats4['root_verb'] = True\n",
      "\n",
      "\n",
      "feats5 = defaultdict(lambda: False)\n",
      "feats5['role_match'] = True\n",
      "feats5['use_subs'] = True\n",
      "\n",
      "feats6 = defaultdict(lambda: False)\n",
      "feats6['role_match'] = True\n",
      "feats6['use_det'] = True\n",
      "feats6['use_subs'] = True\n",
      "\n",
      "\n",
      "feats7 = defaultdict(lambda: False)\n",
      "feats7['role_match'] = True\n",
      "feats7['use_det'] = True\n",
      "feats7['pron_res'] = True\n",
      "\n",
      "feats8 = defaultdict(lambda: False)\n",
      "feats8['role_match'] = True\n",
      "feats8['use_subs'] = True\n",
      "feats8['pron_res'] = True\n",
      "\n",
      "feats9 = defaultdict(lambda: False)\n",
      "feats9['role_match'] = True\n",
      "feats9['use_det'] = True\n",
      "feats9['use_subs'] = True\n",
      "feats9['pron_res'] = True\n",
      "\n",
      "feats10 = defaultdict(lambda: False)\n",
      "feats10['role_match'] = True\n",
      "feats10['root_pos'] = True\n",
      "\n",
      "feats11 = defaultdict(lambda: False)\n",
      "feats11['role_match'] = True\n",
      "feats11['first_word'] = True\n",
      "\n",
      "feats12 = defaultdict(lambda: False)\n",
      "feats12['role_match'] = True\n",
      "feats12['use_det'] = True\n",
      "feats12['use_subs'] = True\n",
      "feats12['pron_res'] = True\n",
      "feats12['root_pos'] = True\n",
      "feats12['first_word'] = True\n",
      "\n",
      "feats13 = defaultdict(lambda: False)\n",
      "feats13['role_match'] = True\n",
      "feats13['use_det'] = True\n",
      "feats13['use_subs'] = True\n",
      "feats13['pron_res'] = True\n",
      "feats13['root_pos'] = True\n",
      "feats13['first_word'] = True\n",
      "feats13['root_verb'] = True\n",
      "\n",
      "feats14 = defaultdict(lambda: False)\n",
      "feats14['role_match'] = True\n",
      "feats14['use_det'] = True\n",
      "feats14['use_subs'] = True\n",
      "feats14['pron_res'] = True\n",
      "feats14['root_pos'] = True\n",
      "feats14['root_verb'] = True\n",
      "\n",
      "feats15 = defaultdict(lambda: False)\n",
      "feats15['role_match'] = True\n",
      "feats15['sent_length'] = True\n",
      "\n",
      "feats16 = defaultdict(lambda: False)\n",
      "feats16['role_match'] = True\n",
      "feats16['use_det'] = True\n",
      "feats16['use_subs'] = True\n",
      "feats16['pron_res'] = True\n",
      "feats16['root_pos'] = True\n",
      "feats16['first_word'] = True\n",
      "feats16['root_verb'] = True\n",
      "feats16['sent_length'] = True\n",
      "\n",
      "\n",
      "ablations = [feats1, feats2, feats3, feats4, feats5, feats6,\n",
      "             feats7, feats8, feats9, feats10, feats11, feats12,\n",
      "             feats13, feats14, feats15, feats16]"
     ],
     "language": "python",
     "metadata": {},
     "outputs": [],
     "prompt_number": 26
    },
    {
     "cell_type": "code",
     "collapsed": false,
     "input": [
      "def run_eval(feats, train, test, dataname, out_dir):\n",
      "    dirname = '-'.join(sorted(k for k in feats.keys() if feats[k]))\n",
      "    dirname = join(out_dir, dirname)\n",
      "    if not exists(dirname):\n",
      "        makedirs(dirname)\n",
      "    print '{} {}'.format(dirname, dataname)    \n",
      "    ptron = perceptron.PerceptronTrainer(max_iter=10)\n",
      "    \n",
      "    dataX = []\n",
      "    dataY = []\n",
      "\n",
      "    for doc in train:\n",
      "        if len(doc) > 12: continue\n",
      "        model = RushModel(doc, history=2, features=feats)\n",
      "        gold_trans = model.gold_transitions()    \n",
      "        dataX.append(model)\n",
      "        dataY.append(gold_trans)\n",
      "\n",
      "    ptron.dsm._use_relaxed = True\n",
      "    ptron.dsm._use_gurobi = True\n",
      "    ptron.dsm._debug = False\n",
      "    ptron.fit(dataX, dataY)\n",
      "    \n",
      "    testX = []\n",
      "    \n",
      "    for doc in test:\n",
      "        if len(doc) > 12: continue\n",
      "        model = RushModel(doc, history=2, features=feats)\n",
      "        testX.append(model)\n",
      "    \n",
      "    run_test(testX, ptron, dirname, dataname)\n",
      "    run_test(dataX, ptron, dirname, '{}-train'.format(dataname))\n",
      "        \n",
      "        \n",
      "def run_test(testX, ptron, dirname, dataname):\n",
      "    ptron.dsm._use_relaxed = False\n",
      "    predY = ptron.predict(testX)\n",
      "    \n",
      " \n",
      "\n",
      "    pred_fname = join(dirname, '{}-pred.txt'.format(dataname))\n",
      "    pred_file = open(pred_fname, 'w')\n",
      "\n",
      "    gold_fname = '/tmp/gold_file'\n",
      "    gold_file = open(gold_fname, 'w')\n",
      "\n",
      "    ddir = getenv(\"DISCOURSEDIR\",\".\")\n",
      "    eval_script = join(ddir, \"eval\", \"ordering-eval.py\")\n",
      "\n",
      "    for i, model in enumerate(testX):\n",
      "    \n",
      "        pred_order = predY[i]\n",
      "        \n",
      "        pred_str = model.ordering2str(recover_order(pred_order))\n",
      "        pred_file.write(pred_str+\"\\n\\n\")\n",
      "        pred_file.flush()\n",
      "        \n",
      "        gold_str = model.gold_str()\n",
      "        gold_file.write(gold_str+\"\\n\\n\")\n",
      "        gold_file.flush()\n",
      "        \n",
      "    pred_file.close()\n",
      "    gold_file.close()\n",
      "    \n",
      "    \n",
      "    o = !python $eval_script --gold $gold_fname --predicted $pred_fname \n",
      "    results = join(dirname, '{}-eval.txt'.format(dataname))\n",
      "    f = open(results, 'w')\n",
      "    f.write('\\n'.join(o))\n",
      "    f.flush()\n",
      "    f.close()\n",
      "    \n",
      "    featscores = join(dirname, '{}-feats.txt'.format(dataname))\n",
      "    f = open(featscores, 'w')\n",
      "    for i, x in enumerate(testX):\n",
      "        py = predY[i]\n",
      "        f.write('Test no. {} \\n\\n'.format(i))\n",
      "        f.flush()\n",
      "        perceptron.print_bigram_feature_diff(ptron, x, x.gold_transitions(), py, f)\n",
      "        f.write('******\\n\\n')\n",
      "        f.flush()\n",
      "    f.close()\n",
      "    remove(gold_fname)"
     ],
     "language": "python",
     "metadata": {},
     "outputs": [],
     "prompt_number": 27
    },
    {
     "cell_type": "code",
     "collapsed": false,
     "input": [
      "for feats in ablations:\n",
      "    run_eval(feats,\n",
      "             train_ntsb,\n",
      "             test_ntsb,\n",
      "             'ntsb',\n",
      "             '/home/chris/projects/discourse/results')\n",
      "    run_eval(feats,\n",
      "             train_apws,\n",
      "             test_apws,\n",
      "             'apws',\n",
      "             '/home/chris/projects/discourse/results')"
     ],
     "language": "python",
     "metadata": {},
     "outputs": [
      {
       "output_type": "stream",
       "stream": "stdout",
       "text": [
        "/home/chris/projects/discourse/results/role_match ntsb\n",
        "Gurobi status="
       ]
      },
      {
       "output_type": "stream",
       "stream": "stdout",
       "text": [
        " 2\n",
        "Gurobi status="
       ]
      },
      {
       "output_type": "stream",
       "stream": "stdout",
       "text": [
        " 2\n",
        "Gurobi status="
       ]
      },
      {
       "output_type": "stream",
       "stream": "stdout",
       "text": [
        " 2\n",
        "Gurobi status="
       ]
      },
      {
       "output_type": "stream",
       "stream": "stdout",
       "text": [
        " 2\n",
        "Gurobi status="
       ]
      },
      {
       "output_type": "stream",
       "stream": "stdout",
       "text": [
        " 2\n",
        "Gurobi status="
       ]
      },
      {
       "output_type": "stream",
       "stream": "stdout",
       "text": [
        " 2\n",
        "Gurobi status="
       ]
      },
      {
       "output_type": "stream",
       "stream": "stdout",
       "text": [
        " 2\n",
        "Gurobi status="
       ]
      },
      {
       "output_type": "stream",
       "stream": "stdout",
       "text": [
        " 2\n",
        "Gurobi status="
       ]
      },
      {
       "output_type": "stream",
       "stream": "stdout",
       "text": [
        " 2\n",
        "Gurobi status="
       ]
      },
      {
       "output_type": "stream",
       "stream": "stdout",
       "text": [
        " 2\n",
        "Gurobi status="
       ]
      },
      {
       "output_type": "stream",
       "stream": "stdout",
       "text": [
        " 2\n",
        "Gurobi status="
       ]
      },
      {
       "output_type": "stream",
       "stream": "stdout",
       "text": [
        " 2\n",
        "Gurobi status="
       ]
      },
      {
       "output_type": "stream",
       "stream": "stdout",
       "text": [
        " 2\n",
        "Gurobi status="
       ]
      },
      {
       "output_type": "stream",
       "stream": "stdout",
       "text": [
        " 2\n",
        "Gurobi status="
       ]
      },
      {
       "output_type": "stream",
       "stream": "stdout",
       "text": [
        " 2\n",
        "Gurobi status="
       ]
      },
      {
       "output_type": "stream",
       "stream": "stdout",
       "text": [
        " 2\n",
        "Gurobi status="
       ]
      },
      {
       "output_type": "stream",
       "stream": "stdout",
       "text": [
        " 2\n",
        "Gurobi status="
       ]
      },
      {
       "output_type": "stream",
       "stream": "stdout",
       "text": [
        " 2\n",
        "Gurobi status="
       ]
      },
      {
       "output_type": "stream",
       "stream": "stdout",
       "text": [
        " 2\n",
        "Gurobi status="
       ]
      },
      {
       "output_type": "stream",
       "stream": "stdout",
       "text": [
        " 2\n",
        "Gurobi status="
       ]
      },
      {
       "output_type": "stream",
       "stream": "stdout",
       "text": [
        " 2\n",
        "Gurobi status="
       ]
      },
      {
       "output_type": "stream",
       "stream": "stdout",
       "text": [
        " 2\n",
        "Gurobi status="
       ]
      },
      {
       "output_type": "stream",
       "stream": "stdout",
       "text": [
        " 2\n",
        "Gurobi status="
       ]
      },
      {
       "output_type": "stream",
       "stream": "stdout",
       "text": [
        " 2\n",
        "Gurobi status="
       ]
      },
      {
       "output_type": "stream",
       "stream": "stdout",
       "text": [
        " 2\n",
        "Gurobi status="
       ]
      },
      {
       "output_type": "stream",
       "stream": "stdout",
       "text": [
        " 2\n",
        "Gurobi status="
       ]
      },
      {
       "output_type": "stream",
       "stream": "stdout",
       "text": [
        " 2\n",
        "Gurobi status="
       ]
      },
      {
       "output_type": "stream",
       "stream": "stdout",
       "text": [
        " 2\n",
        "Gurobi status="
       ]
      },
      {
       "output_type": "stream",
       "stream": "stdout",
       "text": [
        " 2\n",
        "Gurobi status="
       ]
      },
      {
       "output_type": "stream",
       "stream": "stdout",
       "text": [
        " 2\n",
        "Gurobi status="
       ]
      },
      {
       "output_type": "stream",
       "stream": "stdout",
       "text": [
        " 2\n",
        "Gurobi status="
       ]
      },
      {
       "output_type": "stream",
       "stream": "stdout",
       "text": [
        " 2\n",
        "Gurobi status="
       ]
      },
      {
       "output_type": "stream",
       "stream": "stdout",
       "text": [
        " 2\n",
        "Gurobi status="
       ]
      },
      {
       "output_type": "stream",
       "stream": "stdout",
       "text": [
        " 2\n",
        "Gurobi status="
       ]
      },
      {
       "output_type": "stream",
       "stream": "stdout",
       "text": [
        " 2\n",
        "Gurobi status="
       ]
      },
      {
       "output_type": "stream",
       "stream": "stdout",
       "text": [
        " 2\n",
        "Gurobi status="
       ]
      },
      {
       "output_type": "stream",
       "stream": "stdout",
       "text": [
        " 2\n",
        "Gurobi status="
       ]
      },
      {
       "output_type": "stream",
       "stream": "stdout",
       "text": [
        " 2\n",
        "Gurobi status="
       ]
      },
      {
       "output_type": "stream",
       "stream": "stdout",
       "text": [
        " 2\n",
        "Gurobi status="
       ]
      },
      {
       "output_type": "stream",
       "stream": "stdout",
       "text": [
        " 2\n",
        "Gurobi status="
       ]
      },
      {
       "output_type": "stream",
       "stream": "stdout",
       "text": [
        " 2\n",
        "Gurobi status="
       ]
      },
      {
       "output_type": "stream",
       "stream": "stdout",
       "text": [
        " 2\n",
        "Gurobi status="
       ]
      },
      {
       "output_type": "stream",
       "stream": "stdout",
       "text": [
        " 2\n",
        "Gurobi status="
       ]
      },
      {
       "output_type": "stream",
       "stream": "stdout",
       "text": [
        " 2\n",
        "Gurobi status="
       ]
      },
      {
       "output_type": "stream",
       "stream": "stdout",
       "text": [
        " 2\n",
        "Gurobi status="
       ]
      },
      {
       "output_type": "stream",
       "stream": "stdout",
       "text": [
        " 2\n",
        "Gurobi status="
       ]
      },
      {
       "output_type": "stream",
       "stream": "stdout",
       "text": [
        " 2\n",
        "Gurobi status="
       ]
      },
      {
       "output_type": "stream",
       "stream": "stdout",
       "text": [
        " 2\n",
        "Gurobi status="
       ]
      },
      {
       "output_type": "stream",
       "stream": "stdout",
       "text": [
        " 2\n",
        "Gurobi status="
       ]
      },
      {
       "output_type": "stream",
       "stream": "stdout",
       "text": [
        " 2\n",
        "Gurobi status="
       ]
      },
      {
       "output_type": "stream",
       "stream": "stdout",
       "text": [
        " 2\n",
        "Gurobi status="
       ]
      },
      {
       "output_type": "stream",
       "stream": "stdout",
       "text": [
        " 2\n",
        "Gurobi status="
       ]
      },
      {
       "output_type": "stream",
       "stream": "stdout",
       "text": [
        " 2\n",
        "Gurobi status="
       ]
      },
      {
       "output_type": "stream",
       "stream": "stdout",
       "text": [
        " 2\n",
        "Gurobi status="
       ]
      },
      {
       "output_type": "stream",
       "stream": "stdout",
       "text": [
        " 2\n",
        "Gurobi status="
       ]
      },
      {
       "output_type": "stream",
       "stream": "stdout",
       "text": [
        " 2\n",
        "Gurobi status="
       ]
      },
      {
       "output_type": "stream",
       "stream": "stdout",
       "text": [
        " 2\n",
        "Gurobi status="
       ]
      },
      {
       "output_type": "stream",
       "stream": "stdout",
       "text": [
        " 2\n",
        "Gurobi status="
       ]
      },
      {
       "output_type": "stream",
       "stream": "stdout",
       "text": [
        " 2\n",
        "Gurobi status="
       ]
      },
      {
       "output_type": "stream",
       "stream": "stdout",
       "text": [
        " 2\n",
        "Gurobi status="
       ]
      },
      {
       "output_type": "stream",
       "stream": "stdout",
       "text": [
        " 2\n",
        "Gurobi status="
       ]
      },
      {
       "output_type": "stream",
       "stream": "stdout",
       "text": [
        " 2\n",
        "Gurobi status="
       ]
      },
      {
       "output_type": "stream",
       "stream": "stdout",
       "text": [
        " 2\n",
        "Gurobi status="
       ]
      },
      {
       "output_type": "stream",
       "stream": "stdout",
       "text": [
        " 2\n",
        "Gurobi status="
       ]
      },
      {
       "output_type": "stream",
       "stream": "stdout",
       "text": [
        " 2\n",
        "Gurobi status="
       ]
      },
      {
       "output_type": "stream",
       "stream": "stdout",
       "text": [
        " 2\n",
        "Gurobi status="
       ]
      },
      {
       "output_type": "stream",
       "stream": "stdout",
       "text": [
        " 2\n",
        "Gurobi status="
       ]
      },
      {
       "output_type": "stream",
       "stream": "stdout",
       "text": [
        " 2\n",
        "Gurobi status="
       ]
      },
      {
       "output_type": "stream",
       "stream": "stdout",
       "text": [
        " 2\n",
        "Gurobi status="
       ]
      },
      {
       "output_type": "stream",
       "stream": "stdout",
       "text": [
        " 2\n",
        "Gurobi status="
       ]
      },
      {
       "output_type": "stream",
       "stream": "stdout",
       "text": [
        " 2\n",
        "Gurobi status="
       ]
      },
      {
       "output_type": "stream",
       "stream": "stdout",
       "text": [
        " 2\n",
        "Gurobi status="
       ]
      }
     ],
     "prompt_number": "*"
    },
    {
     "cell_type": "code",
     "collapsed": false,
     "input": [
      "from os.path import join, exists\n",
      "from os import listdir\n",
      "import re\n",
      "import pandas as pd\n",
      "\n",
      "def stats(dataname):\n",
      "    data = []\n",
      "    d = '/home/chris/projects/discourse/results'\n",
      "    for f in listdir(d):\n",
      "        eval = join(d, f, '{}-eval.txt'.format(dataname))\n",
      "        if exists(eval):\n",
      "            x = []\n",
      "            x.append(f.replace('role_match', 'rm')\n",
      "                      .replace('is_first','if')\n",
      "                      .replace('is_last', 'il')\n",
      "                      .replace('first_word_ne', 'fw_ne')\n",
      "                      .replace('use_det', 'dt')\n",
      "                      .replace('use_subs', 'sub')\n",
      "                      .replace('person', 'per')\n",
      "                      .replace('num_caps', 'caps')\n",
      "                      )\n",
      "            fl = open(eval, 'r')\n",
      "            lines = fl.readlines()       \n",
      "            fl.close()\n",
      "            \n",
      "            ndocs = int(lines[0].split(': ')[-1])\n",
      "            x.append(ndocs)\n",
      "            \n",
      "            acc = float(lines[2].split(': ')[-1])\n",
      "            x.append(acc)\n",
      "            k = float(lines[3].split('Tau ')[-1])\n",
      "            x.append(k)\n",
      "            pval = float(lines[4].split(': ')[-1])\n",
      "            x.append(pval)\n",
      "            pw_corr = float(lines[5].split(': ')[-1])\n",
      "            x.append(pw_corr)\n",
      "            \n",
      "            data.append(x)\n",
      "    \n",
      "    data.sort(key=lambda x: x[3])\n",
      "            \n",
      "    return pd.DataFrame(data, columns=['feat', 'ndocs', 'acc', 'kendalls tau', 'pval', 'pw_acc'])"
     ],
     "language": "python",
     "metadata": {},
     "outputs": [],
     "prompt_number": 24
    },
    {
     "cell_type": "code",
     "collapsed": false,
     "input": [
      "print 'NTSB-TEST'\n",
      "print stats('ntsb')\n",
      "print \n",
      "print 'NTSB-TRAIN'\n",
      "print stats('ntsb-train')\n",
      "print \n",
      "print 'APWS-TEST'\n",
      "print stats('apws')\n",
      "print\n",
      "print 'APWS-TRAIN'\n",
      "print stats('apws-train')\n"
     ],
     "language": "python",
     "metadata": {},
     "outputs": [
      {
       "output_type": "stream",
       "stream": "stdout",
       "text": [
        "NTSB-TEST\n",
        "  feat  ndocs  acc  kendalls tau      pval  pw_acc\n",
        "0   rm      2    0      0.050505  0.673292       0"
       ]
      },
      {
       "output_type": "stream",
       "stream": "stdout",
       "text": [
        "\n",
        "\n",
        "NTSB-TRAIN\n",
        "  feat  ndocs  acc  kendalls tau      pval  pw_acc\n",
        "0   rm      2    0      0.457576  0.138271     0.4\n",
        "\n",
        "APWS-TEST"
       ]
      },
      {
       "output_type": "stream",
       "stream": "stdout",
       "text": [
        "\n",
        "  feat  ndocs  acc  kendalls tau      pval  pw_acc\n",
        "0   rm      2    0      0.047619  0.750654       0\n",
        "\n",
        "APWS-TRAIN\n",
        "  feat  ndocs  acc  kendalls tau      pval    pw_acc\n",
        "0   rm      2  0.5      0.666667  0.248453  0.666667\n"
       ]
      }
     ],
     "prompt_number": 25
    },
    {
     "cell_type": "code",
     "collapsed": false,
     "input": [],
     "language": "python",
     "metadata": {},
     "outputs": [],
     "prompt_number": 8
    },
    {
     "cell_type": "code",
     "collapsed": false,
     "input": [
      "feats1 = defaultdict(lambda: False)\n",
      "feats1['role_match'] = True\n",
      "\n",
      "#feats2 = defaultdict(lambda: False)\n",
      "#feats2['role_match'] = True\n",
      "#feats2['is_first'] = True\n",
      "#feats2['is_last'] = True\n",
      "\n",
      "feats3 = defaultdict(lambda: False)\n",
      "feats3['role_match'] = True\n",
      "feats3['use_det'] = True\n",
      "\n",
      "#feats4 = defaultdict(lambda: False)\n",
      "#feats4['role_match'] = True\n",
      "#feats4['use_det'] = True\n",
      "#feats4['is_first'] = True\n",
      "#feats4['is_last'] = True\n",
      "\n",
      "feats5 = defaultdict(lambda: False)\n",
      "feats5['role_match'] = True\n",
      "feats5['use_subs'] = True\n",
      "\n",
      "feats6 = defaultdict(lambda: False)\n",
      "feats6['role_match'] = True\n",
      "feats6['use_det'] = True\n",
      "feats6['use_subs'] = True\n",
      "\n",
      "feats7 = defaultdict(lambda: False)\n",
      "feats7['role_match'] = True\n",
      "feats7['use_det'] = True\n",
      "feats7['use_subs'] = True\n",
      "feats7['is_first'] = True\n",
      "feats7['is_last'] = True\n",
      "\n",
      "feats8 = defaultdict(lambda: False)\n",
      "\n",
      "feats8['role_match'] = True\n",
      "feats8['use_det'] = True\n",
      "feats8['use_subs'] = True\n",
      "feats8['is_first'] = True\n",
      "feats8['is_last'] = True\n",
      "\n",
      "feats8['pron_res'] = True\n",
      "feats8['person'] = True\n",
      "\n",
      "\n",
      "feats9 = defaultdict(lambda: False)\n",
      "\n",
      "feats9['role_match'] = True\n",
      "feats9['use_det'] = True\n",
      "feats9['use_subs'] = True\n",
      "feats9['is_first'] = True\n",
      "feats9['is_last'] = True\n",
      "\n",
      "feats9['pron_res'] = True\n",
      "feats9['person'] = True\n",
      "feats9['root_verb_tense'] = True\n",
      "\n",
      "feats10 = defaultdict(lambda: False)\n",
      "\n",
      "feats10['role_match'] = True\n",
      "feats10['is_first'] = True\n",
      "feats10['is_last'] = True\n",
      "\n",
      "feats10['ne_tags'] = True\n",
      "feats10['num_caps'] = True\n",
      "feats10['quotes'] = True\n",
      "feats10['first_word_ne'] = True\n",
      "\n",
      "\n",
      "feats11 = defaultdict(lambda: False)\n",
      "\n",
      "feats11['role_match'] = True\n",
      "feats11['use_det'] = True\n",
      "feats11['use_subs'] = True\n",
      "feats11['is_first'] = True\n",
      "feats11['is_last'] = True\n",
      "\n",
      "feats11['ne_tags'] = True\n",
      "feats11['num_caps'] = True\n",
      "feats11['quotes'] = True\n",
      "feats11['first_word_ne'] = True\n",
      "      \n",
      "feats12 = defaultdict(lambda: False)\n",
      "\n",
      "feats12['role_match'] = True\n",
      "feats12['use_det'] = True\n",
      "feats12['use_subs'] = True\n",
      "feats12['is_first'] = True\n",
      "feats12['is_last'] = True\n",
      "\n",
      "feats12['ne_tags'] = True\n",
      "feats12['num_caps'] = True\n",
      "feats12['quotes'] = True\n",
      "feats12['first_word_ne'] = True\n",
      "\n",
      "feats12['pron_res'] = True\n",
      "feats12['person'] = True\n",
      "feats12['root_verb_tense'] = True\n",
      "\n",
      "ablations = [feats1, feats2, feats3, feats4, feats5, feats6,\n",
      "             feats7, feats8, feats9, feats10, feats11, feats12]"
     ],
     "language": "python",
     "metadata": {},
     "outputs": [],
     "prompt_number": 4
    },
    {
     "cell_type": "code",
     "collapsed": false,
     "input": [
      "X = [1,4,2,3]\n",
      "score = 0\n",
      "for i, x in enumerate(X[:-1]):\n",
      "    if X[i]+1 == X[i+1]:\n",
      "        score += 1\n",
      "        \n",
      "print score / (len(X) - 1.0)"
     ],
     "language": "python",
     "metadata": {},
     "outputs": [
      {
       "output_type": "stream",
       "stream": "stdout",
       "text": [
        "0.333333333333\n"
       ]
      }
     ],
     "prompt_number": 4
    },
    {
     "cell_type": "code",
     "collapsed": false,
     "input": [],
     "language": "python",
     "metadata": {},
     "outputs": []
    }
   ],
   "metadata": {}
  }
 ]
}