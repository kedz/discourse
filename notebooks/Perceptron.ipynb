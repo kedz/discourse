{
 "metadata": {
  "name": ""
 },
 "nbformat": 3,
 "nbformat_minor": 0,
 "worksheets": [
  {
   "cells": [
    {
     "cell_type": "code",
     "collapsed": false,
     "input": [
      "import discourse.models.debug as ddebug\n",
      "import discourse.data as data\n",
      "import discourse.inference.perceptron as perceptron\n",
      "from  discourse.models.rush import RushModel\n",
      "import corenlp_xml as cnlp\n",
      "from collections import defaultdict\n",
      "from discourse.hypergraph import recover_order"
     ],
     "language": "python",
     "metadata": {},
     "outputs": [],
     "prompt_number": 1
    },
    {
     "cell_type": "code",
     "collapsed": false,
     "input": [
      "train_apws = [cnlp.Document(xml, size_cutoff=5) for xml in data.corenlp_apws_train()]\n",
      "#train_ntsb = [cnlp.Document(xml) for xml in data.corenlp_ntsb_train()]\n",
      "test_apws = [cnlp.Document(xml, size_cutoff=5) for xml in data.corenlp_apws_test()]\n",
      "#test_ntsb = [cnlp.Document(xml) for xml in data.corenlp_ntsb_test()]\n",
      "ptron = perceptron.PerceptronTrainer(10)\n"
     ],
     "language": "python",
     "metadata": {},
     "outputs": [
      {
       "output_type": "stream",
       "stream": "stdout",
       "text": [
        "STRING FAILED: XXXX-WXX-2TNI\n",
        "STRING FAILED: XXXX-WXX-2TNI\n",
        "STRING FAILED: XXXX-WXX-2TMO"
       ]
      },
      {
       "output_type": "stream",
       "stream": "stdout",
       "text": [
        "\n",
        "STRING FAILED: XXXX-WXX-2TMO\n",
        "STRING FAILED: XXXX-WXX-3TMO\n",
        "STRING FAILED: XXXX-WXX-3TMO\n",
        "STRING FAILED: XXXX-WXX-1TNI"
       ]
      },
      {
       "output_type": "stream",
       "stream": "stdout",
       "text": [
        "\n",
        "STRING FAILED: XXXX-WXX-1TNI\n",
        "STRING FAILED: XXXX-WXX-3TEV"
       ]
      },
      {
       "output_type": "stream",
       "stream": "stdout",
       "text": [
        "\n",
        "STRING FAILED: XXXX-WXX-3TEV\n",
        "STRING FAILED: XXXX-WXX-3TMO"
       ]
      },
      {
       "output_type": "stream",
       "stream": "stdout",
       "text": [
        "\n",
        "STRING FAILED: XXXX-WXX-3TMO\n",
        "STRING FAILED: XXXX-WXX-3TMO\n",
        "STRING FAILED: XXXX-WXX-5TNI"
       ]
      },
      {
       "output_type": "stream",
       "stream": "stdout",
       "text": [
        "\n",
        "STRING FAILED: XXXX-WXX-5TNI\n",
        "STRING FAILED: XXXX-WXX-5TNI"
       ]
      },
      {
       "output_type": "stream",
       "stream": "stdout",
       "text": [
        "\n",
        "STRING FAILED: XXXX-WXX-5TNI\n",
        "STRING FAILED: XXXX-WXX-5TNI"
       ]
      },
      {
       "output_type": "stream",
       "stream": "stdout",
       "text": [
        "\n",
        "STRING FAILED: XXXX-WXX-5TNI\n",
        "STRING FAILED: XXXX-WXX-2TMO\n",
        "STRING FAILED: XXXX-WXX-2TMO\n",
        "STRING FAILED: XXXX-WXX-2TMO"
       ]
      },
      {
       "output_type": "stream",
       "stream": "stdout",
       "text": [
        "\n",
        "STRING FAILED: XXXX-WXX-2TMO\n",
        "STRING FAILED: XXXX-WXX-2TMO\n",
        "STRING FAILED: XXXX-WXX-2TMO\n",
        "STRING FAILED: XXXX-WXX-2TMO"
       ]
      },
      {
       "output_type": "stream",
       "stream": "stdout",
       "text": [
        "\n",
        "STRING FAILED: XXXX-WXX-2TMO\n",
        "STRING FAILED: XXXX-WXX-5TAF"
       ]
      },
      {
       "output_type": "stream",
       "stream": "stdout",
       "text": [
        "\n",
        "STRING FAILED: XXXX-WXX-5TAF\n",
        "STRING FAILED: XXXX-WXX-1TMO"
       ]
      },
      {
       "output_type": "stream",
       "stream": "stdout",
       "text": [
        "\n",
        "STRING FAILED: XXXX-WXX-1TMO\n",
        "STRING FAILED: XXXX-WXX-2TMO"
       ]
      },
      {
       "output_type": "stream",
       "stream": "stdout",
       "text": [
        "\n",
        "STRING FAILED: XXXX-WXX-2TMO\n",
        "STRING FAILED: XXXX-WXX-2TMO\n",
        "STRING FAILED: XXXX-WXX-3TMO\n",
        "STRING FAILED: XXXX-WXX-3TMO\n",
        "STRING FAILED: XXXX-WXX-3TMO\n",
        "STRING FAILED: XXXX-WXX-1TEV"
       ]
      },
      {
       "output_type": "stream",
       "stream": "stdout",
       "text": [
        "\n",
        "STRING FAILED: XXXX-WXX-1TEV\n",
        "STRING FAILED: XXXX-WXX-1TEV\n",
        "STRING FAILED: XXXX-WXX-1TEV\n",
        "STRING FAILED: XXXX-WXX-3TMO"
       ]
      },
      {
       "output_type": "stream",
       "stream": "stdout",
       "text": [
        "\n",
        "STRING FAILED: XXXX-WXX-3TMO\n",
        "STRING FAILED: XXXX-WXX-1T14:15"
       ]
      },
      {
       "output_type": "stream",
       "stream": "stdout",
       "text": [
        "\n",
        "STRING FAILED: XXXX-WXX-1T14:15\n",
        "STRING FAILED: XXXX-WXX-1T14:15"
       ]
      },
      {
       "output_type": "stream",
       "stream": "stdout",
       "text": [
        "\n",
        "STRING FAILED: XXXX-WXX-1T14:15\n",
        "STRING FAILED: XXXX-WXX-1T14:15"
       ]
      },
      {
       "output_type": "stream",
       "stream": "stdout",
       "text": [
        "\n",
        "STRING FAILED: XXXX-WXX-1T14:15\n",
        "STRING FAILED: MO"
       ]
      },
      {
       "output_type": "stream",
       "stream": "stdout",
       "text": [
        "\n",
        "STRING FAILED: MO"
       ]
      },
      {
       "output_type": "stream",
       "stream": "stdout",
       "text": [
        "\n",
        "STRING FAILED: MO"
       ]
      },
      {
       "output_type": "stream",
       "stream": "stdout",
       "text": [
        "\n",
        "STRING FAILED: MO"
       ]
      },
      {
       "output_type": "stream",
       "stream": "stdout",
       "text": [
        "\n",
        "STRING FAILED: MO"
       ]
      },
      {
       "output_type": "stream",
       "stream": "stdout",
       "text": [
        "\n",
        "STRING FAILED: XXXX-WXX-5TMO"
       ]
      },
      {
       "output_type": "stream",
       "stream": "stdout",
       "text": [
        "\n",
        "STRING FAILED: XXXX-WXX-5TMO\n",
        "STRING FAILED: XXXX-WXX-6TNI"
       ]
      },
      {
       "output_type": "stream",
       "stream": "stdout",
       "text": [
        "\n",
        "STRING FAILED: XXXX-WXX-6TNI\n",
        "STRING FAILED: XXXX-WXX-4TNI"
       ]
      },
      {
       "output_type": "stream",
       "stream": "stdout",
       "text": [
        "\n",
        "STRING FAILED: XXXX-WXX-4TNI\n",
        "STRING FAILED: XXXX-WXX-4TNI"
       ]
      },
      {
       "output_type": "stream",
       "stream": "stdout",
       "text": [
        "\n",
        "STRING FAILED: XXXX-WXX-4TNI\n",
        "STRING FAILED: XXXX-WXX-4TNI\n",
        "STRING FAILED: XXXX-WXX-5TAF\n",
        "STRING FAILED: XXXX-WXX-5TAF\n",
        "STRING FAILED: XXXX-WXX-2TNI"
       ]
      },
      {
       "output_type": "stream",
       "stream": "stdout",
       "text": [
        "\n",
        "STRING FAILED: XXXX-WXX-2TNI\n",
        "STRING FAILED: XXXX-WXX-6T00:00"
       ]
      },
      {
       "output_type": "stream",
       "stream": "stdout",
       "text": [
        "\n",
        "STRING FAILED: XXXX-WXX-6T00:00\n",
        "STRING FAILED: XXXX-WXX-5TNI\n",
        "STRING FAILED: XXXX-WXX-5TNI\n",
        "STRING FAILED: XXXX-WXX-6T12:00"
       ]
      },
      {
       "output_type": "stream",
       "stream": "stdout",
       "text": [
        "\n",
        "STRING FAILED: XXXX-WXX-6T12:00\n",
        "STRING FAILED: XXXX-WXX-7T01:03"
       ]
      },
      {
       "output_type": "stream",
       "stream": "stdout",
       "text": [
        "\n",
        "STRING FAILED: XXXX-WXX-7T01:03\n",
        "STRING FAILED: XXXX-WXX-7T01:03\n",
        "STRING FAILED: XXXX-WXX-6TNI\n",
        "STRING FAILED: XXXX-WXX-6TNI\n",
        "STRING FAILED: XXXX-WXX-7T01:05"
       ]
      },
      {
       "output_type": "stream",
       "stream": "stdout",
       "text": [
        "\n",
        "STRING FAILED: XXXX-WXX-7T01:05\n",
        "STRING FAILED: XXXX-WXX-7T01:05\n",
        "STRING FAILED: XXXX-WXX-5TMO\n",
        "STRING FAILED: XXXX-WXX-5TMO\n",
        "STRING FAILED: XXXX-WXX-1TMO"
       ]
      },
      {
       "output_type": "stream",
       "stream": "stdout",
       "text": [
        "\n",
        "STRING FAILED: XXXX-WXX-1TMO\n",
        "STRING FAILED: XXXX-WXX-1TMO\n",
        "STRING FAILED: XXXX-WXX-1TMO\n",
        "STRING FAILED: XXXX-WXX-7T23:53\n",
        "STRING FAILED: XXXX-WXX-7T23:53\n",
        "STRING FAILED: XXXX-WXX-1TMO"
       ]
      },
      {
       "output_type": "stream",
       "stream": "stdout",
       "text": [
        "\n",
        "STRING FAILED: XXXX-WXX-1TMO\n",
        "STRING FAILED: XXXX-WXX-7T23:53\n",
        "STRING FAILED: XXXX-WXX-7T23:53\n",
        "STRING FAILED: XXXX-WXX-1TMO\n",
        "STRING FAILED: XXXX-WXX-1TMO\n",
        "STRING FAILED: XXXX-WXX-3TMO"
       ]
      },
      {
       "output_type": "stream",
       "stream": "stdout",
       "text": [
        "\n",
        "STRING FAILED: XXXX-WXX-3TMO\n",
        "STRING FAILED: XXXX-WXX-3TMO\n",
        "STRING FAILED: XXXX-WXX-1TMO\n",
        "STRING FAILED: XXXX-WXX-1TMO\n",
        "STRING FAILED: XXXX-WXX-1TMO\n",
        "STRING FAILED: XXXX-WXX-3TMO\n",
        "STRING FAILED: XXXX-WXX-3TMO\n",
        "STRING FAILED: XXXX-WXX-3TMO\n",
        "STRING FAILED: XXXX-WXX-1TMO\n",
        "STRING FAILED: XXXX-WXX-1TMO\n",
        "STRING FAILED: XXXX-WXX-1TMO\n",
        "STRING FAILED: XXXX-WXX-2T23:35"
       ]
      },
      {
       "output_type": "stream",
       "stream": "stdout",
       "text": [
        "\n",
        "STRING FAILED: XXXX-WXX-2T23:35\n",
        "STRING FAILED: XXXX-WXX-2T23:35\n",
        "STRING FAILED: XXXX-WXX-4T08:18"
       ]
      },
      {
       "output_type": "stream",
       "stream": "stdout",
       "text": [
        "\n",
        "STRING FAILED: XXXX-WXX-4T08:18\n",
        "STRING FAILED: XXXX-WXX-4T08:18\n"
       ]
      }
     ],
     "prompt_number": 2
    },
    {
     "cell_type": "code",
     "collapsed": false,
     "input": [
      "doc = test_apws[4]\n",
      "for s in doc:\n",
      "    print s"
     ],
     "language": "python",
     "metadata": {},
     "outputs": [
      {
       "output_type": "stream",
       "stream": "stdout",
       "text": [
        "A strong earthquake rocked the Philippine island of Mindoro early Tuesday , reportedly killing as many as 25 people and destroying many homes .\n",
        "DZRH Radio , with a reporter on the scene , said 25 people died while sleeping in buildings that collapsed , including a structure that houses the Philippine Coast Guard .\n",
        "But Lourdes Masing , the disaster-service director of the National Red Cross in Manila , said six people died , 31 were injured and one was missing .\n",
        "She quoted Red Cross workers on the island , who she contacted via short-wave radio , as saying 188 homes were heavily damaged , and many of the injured were hit by cabinets and falling objects .\n",
        "Mindoro Island is still recovering from a typhoon that struck the area last month , destroying much of the coconut and rice that famrs grow in small fields there .\n",
        "The quake , which occurred at 3:15 am -LRB- 14:15 Monday GMT -RRB- , had a preliminary magnitude of 6.7 and was centered in a strait 10 kilometers -LRB- six miles -RRB- north of Calapan , a town on the northern end of the island , said the Philippine Institute of Vulcanology and Seismology .\n"
       ]
      }
     ],
     "prompt_number": 18
    },
    {
     "cell_type": "code",
     "collapsed": false,
     "input": [
      "counts = defaultdict(int)\n",
      "\n",
      "for doc in train_apws:\n",
      "    model = RushModel(doc, history=2, features=set(['role_match']))\n",
      "    gold_trans = model.gold_transitions()\n",
      "    for trans in gold_trans:\n",
      "        for f in model.feature_map(trans):\n",
      "            counts[f] += 1\n",
      "\n",
      "fcounts = [(f, counts[f]) for f in counts]\n",
      "fcounts.sort(reverse=True, key=lambda a:a[1])\n",
      "for c in fcounts:\n",
      "    print c"
     ],
     "language": "python",
     "metadata": {},
     "outputs": [
      {
       "output_type": "stream",
       "stream": "stdout",
       "text": [
        "('role1:nsubj det:a:role0:nsubj det:a', 91)\n",
        "('role1:nn det::role0:nn det:', 72)\n",
        "('role1:dobj det::role0:dobj det:', 70)\n",
        "('role1:tmod det::role0:tmod det:', 66)\n",
        "('role1:prep_of det::role0:prep_of det:', 40)\n",
        "('role1:nsubj det::role0:nsubj det:', 38)\n",
        "('role1:conj_or det::role0:conj_or det:', 34)\n",
        "('role1:prep_with det:a:role0:prep_with det:a', 30)\n",
        "('role1:prep_on det::role0:prep_on det:', 30)\n",
        "('role1:nsubjpass det::role0:nsubjpass det:', 22)\n",
        "('role1:conj_and det::role0:conj_and det:', 22)\n",
        "('role1:nsubjpass det:no:role0:nsubjpass det:no', 20)\n",
        "('role1:prep_in det::role0:prep_in det:', 19)\n",
        "('role1:dobj det:the:role0:dobj det:the', 18)\n",
        "('role1:poss det::role0:poss det:', 17)\n",
        "('role1:prep_in det:the:role0:prep_in det:the', 16)\n",
        "('role1:nsubjpass det::role0:conj_or det:', 15)\n",
        "('role1:nsubj det:the:role0:nsubj det:the', 15)\n",
        "('role1:dobj det::role0:conj_and det:', 15)\n",
        "('role1:conj_or det::role0:nsubjpass det:', 15)\n",
        "('role1:dobj det:a:role0:dobj det:a', 13)\n",
        "('role1:nsubj det:no:role0:nsubj det:no', 12)\n",
        "('role1:conj_and det::role0:dobj det:', 12)\n",
        "('role1:prep_with det::role0:prep_with det:', 10)\n",
        "('role1:prep_of det::role0:conj_or det:', 10)\n",
        "('role1:conj_or det::role0:prep_of det:', 10)\n",
        "('role1:dobj det::role0:nn det:', 8)\n",
        "('role1:prep_of det::role0:conj_and det:', 7)\n",
        "('role1:dobj det::role0:conj_or det:', 6)\n",
        "('role1:conj_and det::role0:nn det:', 6)\n",
        "('role1:dep det::role0:dep det:', 6)\n",
        "('role1:prep_into det:the:role0:prep_into det:the', 6)\n",
        "('role1:conj_or det::role0:dobj det:', 6)\n",
        "('role1:nn det::role0:conj_and det:', 6)\n",
        "('role1:dobj det:no:role0:dobj det:no', 6)\n",
        "('role1:nn det::role0:dobj det:', 6)\n",
        "('role1:conj_and det::role0:prep_of det:', 6)\n",
        "('role1:nsubj det:the:role0:nsubj det:a', 5)\n",
        "('role1:prep_over det::role0:prep_over det:', 5)\n",
        "('role1:nsubjpass det:a:role0:nsubjpass det:a', 4)\n",
        "('role1:nsubjpass det:the:role0:nsubj det:a', 4)\n",
        "('role1:conj_and det::role0:nsubj det:', 3)\n",
        "('role1:appos det::role0:appos det:', 3)\n",
        "('role1:prep_of det:the:role0:prep_of det:the', 3)\n",
        "('role1:prep_near det:the:role0:prep_near det:the', 3)\n",
        "('role1:prep_off det::role0:prep_off det:', 3)\n",
        "('role1:nsubj det::role0:conj_and det:', 3)\n",
        "('role1:agent det:a:role0:agent det:a', 3)\n",
        "('role1:prep_in det::role0:nn det:', 3)\n",
        "('role1:prep_of det:the:role0:prep_of det:', 3)\n",
        "('role1:dobj det:this:role0:dobj det:this', 3)\n",
        "('role1:dobj det::role0:prep_over det:', 3)\n",
        "('role1:conj_or det::role0:dep det:', 2)\n",
        "('role1:prep_over det:the:role0:prep_over det:the', 2)\n",
        "('role1:prep_along det:the:role0:prep_along det:the', 2)\n",
        "('role1:appos det:the:role0:appos det:the', 2)\n",
        "('role1:prep_to det::role0:prep_to det:', 2)\n",
        "('role1:poss det::role0:tmod det:', 2)\n",
        "('role1:prep_about det::role0:prep_about det:', 2)\n",
        "('role1:dobj det:the:role0:prep_of det:the', 2)\n",
        "('role1:dep det::role0:conj_or det:', 2)\n",
        "('role1:nn det::role0:prep_of det:', 2)\n",
        "('role1:prep_off det:the:role0:prep_off det:the', 2)\n",
        "('role1:nsubjpass det:some:role0:dobj det:', 2)\n",
        "('role1:appos det::role0:dobj det:', 2)\n",
        "('role1:nn det::role0:prep_on det:', 2)\n",
        "('role1:prep_of det:a:role0:prep_of det:a', 2)\n",
        "('role1:ccomp det::role0:nsubj det:', 2)\n",
        "('role1:prep_from det:the:role0:prep_from det:the', 2)\n",
        "('role1:prep_of det:the:role0:nsubj det:', 2)\n",
        "('role1:prep_near det::role0:prep_near det:', 2)\n",
        "('role1:nn det::role0:prep_in det:', 2)\n",
        "('role1:dep det:no:role0:dep det:no', 2)\n",
        "('role1:nsubjpass det:the:role0:prep_from det:the', 2)\n",
        "('role1:appos det::role0:nn det:', 2)\n",
        "('role1:poss det:the:role0:poss det:the', 2)\n",
        "('role1:prep_from det::role0:nsubj det:a', 2)\n",
        "('role1:prep_of det:the:role0:dobj det:the', 2)\n",
        "('role1:nsubj det:another:role0:nsubj det:another', 2)\n",
        "('role1:poss det::role0:prep_of det:', 2)\n",
        "('role1:prep_from det::role0:prep_to det:', 1)\n",
        "('role1:prep_in det:the:role0:nn det:', 1)\n",
        "('role1:agent det::role0:agent det:', 1)\n",
        "('role1:prep_below det::role0:prep_below det:', 1)\n",
        "('role1:nsubj det:the:role0:nn det:', 1)\n",
        "('role1:prep_of det:the:role0:nsubj det:a', 1)\n",
        "('role1:prep_to det::role0:prep_from det:', 1)\n",
        "('role1:nsubjpass det::role0:prep_of det:', 1)\n",
        "('role1:prep_from det::role0:prep_from det:', 1)\n",
        "('role1:prep_between det::role0:conj_and det:', 1)\n",
        "('role1:tmod det:the:role0:tmod det:the', 1)\n",
        "('role1:conj_and det::role0:prep_between det:', 1)\n",
        "('role1:prep_to det::role0:conj_or det:', 1)\n",
        "('role1:conj_only det::role0:conj_only det:', 1)\n",
        "('role1:appos det:a:role0:appos det:a', 1)\n",
        "('role1:poss det::role0:nn det:', 1)\n",
        "('role1:nn det::role0:tmod det:', 1)\n",
        "('role1:dobj det:the:role0:appos det:the', 1)\n",
        "('role1:conj_and det::role0:nsubj det:no', 1)\n",
        "('role1:conj_or det::role0:prep_to det:', 1)\n",
        "('role1:prep_in det:the:role0:conj_and det:', 1)\n",
        "('role1:prep_between det::role0:dobj det:', 1)\n",
        "('role1:nn det::role0:poss det:', 1)\n",
        "('role1:prep_after det::role0:nsubj det:a', 1)\n",
        "('role1:prep_on det:a:role0:prep_on det:a', 1)\n",
        "('role1:prep_in det:the:role0:prep_below det:', 1)\n",
        "('role1:prep_with det:some:role0:prep_with det:some', 1)\n",
        "('role1:prep_from det:the:role0:agent det:a', 1)\n",
        "('role1:prep_of det:the:role0:dobj det:', 1)\n",
        "('role1:prep_of det::role0:dobj det:', 1)\n",
        "('role1:prep_after det:a:role0:prep_after det:a', 1)\n",
        "('role1:nsubjpass det::role0:dobj det:', 1)\n",
        "('role1:prep_of det::role0:prep_with det:a', 1)\n",
        "('role1:amod det::role0:prep_below det:', 1)\n",
        "('role1:nsubj det::role0:nsubj det:no', 1)\n",
        "('role1:prep_out_of det::role0:prep_out_of det:', 1)\n",
        "('role1:pobj det:the:role0:pobj det:the', 1)\n",
        "('role1:nsubjpass det::role0:conj_only det:', 1)\n",
        "('role1:prep_on det::role0:prep_of det:', 1)\n",
        "('role1:npadvmod det::role0:npadvmod det:', 1)\n",
        "('role1:appos det:a:role0:nsubj det:', 1)\n",
        "('role1:conj_and det:the:role0:dobj det:the', 1)\n",
        "('role1:conj_and det::role0:prep_below det:', 1)\n",
        "('role1:agent det::role0:dobj det:', 1)\n",
        "('role1:prep_far_from det:the:role0:prep_near det:', 1)\n",
        "('role1:prep_between det::role0:prep_between det:', 1)\n",
        "('role1:prep_in det:a:role0:prep_in det:a', 1)\n",
        "('role1:conj_only det::role0:nsubjpass det:', 1)\n",
        "('role1:nsubj det:no:role0:nsubj det:', 1)\n",
        "('role1:dobj det:the:role0:nsubj det:the', 1)\n",
        "('role1:prep_below det::role0:conj_and det:', 1)\n",
        "('role1:prep_in det::role0:nsubj det:a', 1)\n",
        "('role1:prep_in det:the:role0:dobj det:a', 1)\n",
        "('role1:conj_and det:the:role0:conj_and det:the', 1)\n",
        "('role1:nsubj det:no:role0:conj_and det:', 1)\n",
        "('role1:poss det::role0:prep_in det:', 1)\n",
        "('role1:prep_of det:this:role0:dobj det:this', 1)\n",
        "('role1:prep_off det:the:role0:dobj det:the', 1)\n",
        "('role1:pobj det::role0:nsubj det:a', 1)\n",
        "('role1:dobj det:the:role0:conj_and det:the', 1)\n"
       ]
      }
     ],
     "prompt_number": 19
    },
    {
     "cell_type": "code",
     "collapsed": false,
     "input": [
      "counts = defaultdict(int)\n",
      "\n",
      "for doc in train_apws:\n",
      "    model = RushModel(doc, history=2, features=set(['pron_res']))\n",
      "    gold_trans = model.gold_transitions()\n",
      "    for trans in gold_trans:\n",
      "        for f in model.feature_map(trans):\n",
      "            counts[f] += 1\n",
      "\n",
      "fcounts = [(f, counts[f]) for f in counts]\n",
      "fcounts.sort(reverse=True, key=lambda a:a[1])\n",
      "for c in fcounts:\n",
      "    print c"
     ],
     "language": "python",
     "metadata": {},
     "outputs": [],
     "prompt_number": 11
    },
    {
     "cell_type": "code",
     "collapsed": false,
     "input": [
      "counts = defaultdict(int)\n",
      "\n",
      "for doc in train_apws:\n",
      "    model = RushModel(doc, history=2, features=set(['ne_tags']))\n",
      "    gold_trans = model.gold_transitions()\n",
      "    for trans in gold_trans:\n",
      "        for f in model.feature_map(trans):\n",
      "            counts[f] += 1\n",
      "\n",
      "fcounts = [(f, counts[f]) for f in counts]\n",
      "fcounts.sort(reverse=True, key=lambda a:a[1])\n",
      "for c in fcounts:\n",
      "    print c"
     ],
     "language": "python",
     "metadata": {},
     "outputs": []
    },
    {
     "cell_type": "code",
     "collapsed": false,
     "input": [
      "counts = defaultdict(int)\n",
      "\n",
      "for doc in train_apws:\n",
      "    model = RushModel(doc, history=2, features=set(['num_caps']))\n",
      "    gold_trans = model.gold_transitions()\n",
      "    for trans in gold_trans:\n",
      "        for f in model.feature_map(trans):\n",
      "            counts[f] += 1\n",
      "\n",
      "fcounts = [(f, counts[f]) for f in counts]\n",
      "fcounts.sort(reverse=True, key=lambda a:a[1])\n",
      "for c in fcounts:\n",
      "    print c"
     ],
     "language": "python",
     "metadata": {},
     "outputs": []
    },
    {
     "cell_type": "code",
     "collapsed": false,
     "input": [
      "counts = defaultdict(int)\n",
      "\n",
      "for doc in train_apws:\n",
      "    model = RushModel(doc, history=2, features=set(['quotes']))\n",
      "    gold_trans = model.gold_transitions()\n",
      "    for trans in gold_trans:\n",
      "        for f in model.feature_map(trans):\n",
      "            counts[f] += 1\n",
      "\n",
      "fcounts = [(f, counts[f]) for f in counts]\n",
      "fcounts.sort(reverse=True, key=lambda a:a[1])\n",
      "for c in fcounts:\n",
      "    print c"
     ],
     "language": "python",
     "metadata": {},
     "outputs": [
      {
       "output_type": "stream",
       "stream": "stdout",
       "text": [
        "('-0_False', 100)\n",
        "('-1_False', 97)\n",
        "('-0_True-1_False', 38)\n",
        "('-0_False-1_True', 35)\n",
        "('-0_True-1_True', 21)\n",
        "('-1_True', 3)\n"
       ]
      }
     ],
     "prompt_number": 14
    },
    {
     "cell_type": "code",
     "collapsed": false,
     "input": [
      "counts = defaultdict(int)\n",
      "\n",
      "for doc in train_apws:\n",
      "    model = RushModel(doc, history=2, features=set(['first_word_ne']))\n",
      "    gold_trans = model.gold_transitions()\n",
      "    for trans in gold_trans:\n",
      "        for f in model.feature_map(trans):\n",
      "            counts[f] += 1\n",
      "\n",
      "fcounts = [(f, counts[f]) for f in counts]\n",
      "fcounts.sort(reverse=True, key=lambda a:a[1])\n",
      "for c in fcounts:\n",
      "    print c"
     ],
     "language": "python",
     "metadata": {},
     "outputs": [
      {
       "output_type": "stream",
       "stream": "stdout",
       "text": [
        "('-0_LOC', 98)\n",
        "('-1_LOC', 94)\n",
        "('-1_PER', 15)\n",
        "('-1_DAT', 14)\n",
        "('-0_PER', 12)\n",
        "('-0_DAT', 11)\n",
        "('-1_ORG', 9)\n",
        "('-0_ORG', 9)\n",
        "('-0_NUM', 9)\n",
        "('-1_NUM', 7)\n",
        "('-0_DAT-1_LOC', 4)\n",
        "('-0_LOC-1_LOC', 4)\n",
        "('-0_PER-1_NUM', 3)\n",
        "('-1_DUR', 2)\n",
        "('-0_DUR', 2)\n",
        "('-0_LOC-1_NUM', 1)\n",
        "('-0_NUM-1_DAT', 1)\n",
        "('-1_MIS', 1)\n",
        "('-0_NUM-1_LOC', 1)\n",
        "('-0_MIS', 1)\n"
       ]
      }
     ],
     "prompt_number": 4
    },
    {
     "cell_type": "code",
     "collapsed": false,
     "input": [
      "counts = defaultdict(int)\n",
      "\n",
      "for doc in train_apws:\n",
      "    model = RushModel(doc, history=2, features=set(['root_pos']))\n",
      "    gold_trans = model.gold_transitions()\n",
      "    for trans in gold_trans:\n",
      "        for f in model.feature_map(trans):\n",
      "            counts[f] += 1\n",
      "\n",
      "fcounts = [(f, counts[f]) for f in counts]\n",
      "fcounts.sort(reverse=True, key=lambda a:a[1])\n",
      "for c in fcounts:\n",
      "    print c"
     ],
     "language": "python",
     "metadata": {},
     "outputs": [
      {
       "output_type": "stream",
       "stream": "stdout",
       "text": [
        "('-s0_root_pos_VBD-s1_root_pos_VBD', 318)\n",
        "('-s0_root_pos_VBN-s1_root_pos_VBD', 63)\n",
        "('-s0_root_pos_VBD-s1_root_pos_VBN', 55)\n",
        "('-s0_root_pos_VBZ', 43)\n",
        "('-s0_root_pos_VBD-s1_root_pos_VBZ', 40)\n",
        "('-s1_root_pos_VBD', 37)\n",
        "('-s0_root_pos_VBD', 36)\n",
        "('-s0_root_pos_VBD-s1_root_pos_NN', 30)\n",
        "('-s0_root_pos_NN-s1_root_pos_VBD', 25)\n",
        "('-s0_root_pos_JJ-s1_root_pos_VBD', 24)\n",
        "('-s0_root_pos_VB-s1_root_pos_VBD', 23)\n",
        "('-s1_root_pos_VB', 21)\n",
        "('-s0_root_pos_VBN-s1_root_pos_VBN', 17)\n",
        "('-s1_root_pos_JJ', 17)\n",
        "('-s0_root_pos_NN', 13)\n",
        "('-s0_root_pos_VBD-s1_root_pos_NNP', 12)\n",
        "('-s0_root_pos_VBP-s1_root_pos_VBD', 11)\n",
        "('-s0_root_pos_VBZ-s1_root_pos_VBD', 11)\n",
        "('-s0_root_pos_VBD-s1_root_pos_JJ', 10)\n",
        "('-s1_root_pos_VBP', 10)\n",
        "('-s0_root_pos_VBD-s1_root_pos_VB', 9)\n",
        "('-s0_root_pos_VBZ-s1_root_pos_NN', 9)\n",
        "('-s0_root_pos_VB-s1_root_pos_VBZ', 8)\n",
        "('-s1_root_pos_VBZ', 8)\n",
        "('-s0_root_pos_NN-s1_root_pos_VBN', 8)\n",
        "('-s1_root_pos_VBN', 8)\n",
        "('-s0_root_pos_NNP', 8)\n",
        "('-s1_root_pos_NN', 8)\n",
        "('-s0_root_pos_VBP', 7)\n",
        "('-s0_root_pos_VBP-s1_root_pos_JJ', 6)\n",
        "('-s0_root_pos_VBD-s1_root_pos_VBP', 6)\n",
        "('-s0_root_pos_NN-s1_root_pos_VBZ', 6)\n",
        "('-s0_root_pos_JJ-s1_root_pos_VBP', 6)\n",
        "('-s0_root_pos_VBN-s1_root_pos_JJ', 4)\n",
        "('-s0_root_pos_VBD-s1_root_pos_NNS', 4)\n",
        "('-s0_root_pos_NN-s1_root_pos_NN', 4)\n",
        "('-s0_root_pos_JJ-s1_root_pos_VBN', 4)\n",
        "('-s0_root_pos_VBN-s1_root_pos_VBP', 4)\n",
        "('-s0_root_pos_VBN-s1_root_pos_VBZ', 4)\n",
        "('-s0_root_pos_NNS', 4)\n",
        "('-s0_root_pos_VBZ-s1_root_pos_JJ', 4)\n",
        "('-s0_root_pos_JJ-s1_root_pos_VB', 3)\n",
        "('-s0_root_pos_NNS-s1_root_pos_VBD', 3)\n",
        "('-s0_root_pos_VBZ-s1_root_pos_VBZ', 3)\n",
        "('-s0_root_pos_VBP-s1_root_pos_VBN', 2)\n",
        "('-s0_root_pos_VB-s1_root_pos_VBN', 2)\n",
        "('-s0_root_pos_VBG-s1_root_pos_VBD', 2)\n",
        "('-s0_root_pos_NNP-s1_root_pos_VBZ', 2)\n",
        "('-s0_root_pos_NN-s1_root_pos_VBP', 2)\n",
        "('-s0_root_pos_JJS-s1_root_pos_VBD', 2)\n",
        "('-s0_root_pos_VBN-s1_root_pos_NN', 2)\n",
        "('-s0_root_pos_JJ-s1_root_pos_VBZ', 2)\n",
        "('-s0_root_pos_VB-s1_root_pos_VB', 2)\n",
        "('-s1_root_pos_JJR', 2)\n",
        "('-s0_root_pos_NNP-s1_root_pos_NN', 2)\n",
        "('-s0_root_pos_VBP-s1_root_pos_VBG', 1)\n",
        "('-s0_root_pos_VBZ-s1_root_pos_NNS', 1)\n",
        "('-s0_root_pos_JJR-s1_root_pos_VBN', 1)\n",
        "('-s0_root_pos_RB-s1_root_pos_VBD', 1)\n",
        "('-s0_root_pos_VBN-s1_root_pos_NNP', 1)\n",
        "('-s1_root_pos_NNP', 1)\n",
        "('-s0_root_pos_VBZ-s1_root_pos_VBN', 1)\n",
        "('-s0_root_pos_VBG-s1_root_pos_VBG', 1)\n",
        "('-s0_root_pos_VBD-s1_root_pos_VBG', 1)\n",
        "('-s0_root_pos_VBZ-s1_root_pos_IN', 1)\n",
        "('-s0_root_pos_VBG', 1)\n",
        "('-s0_root_pos_VBN', 1)\n",
        "('-s1_root_pos_CD', 1)\n",
        "('-s0_root_pos_VB', 1)\n",
        "('-s0_root_pos_JJ-s1_root_pos_NN', 1)\n",
        "('-s0_root_pos_VB-s1_root_pos_NN', 1)\n",
        "('-s0_root_pos_VBZ-s1_root_pos_VB', 1)\n",
        "('-s0_root_pos_NNP-s1_root_pos_VBP', 1)\n",
        "('-s1_root_pos_VBG', 1)\n",
        "('-s0_root_pos_NNP-s1_root_pos_VBD', 1)\n",
        "('-s0_root_pos_VBP-s1_root_pos_NNP', 1)\n",
        "('-s0_root_pos_VBN-s1_root_pos_VB', 1)\n",
        "('-s0_root_pos_VBP-s1_root_pos_NN', 1)\n",
        "('-s0_root_pos_NNP-s1_root_pos_NNS', 1)\n",
        "('-s0_root_pos_VBN-s1_root_pos_VBG', 1)\n",
        "('-s0_root_pos_IN-s1_root_pos_VBD', 1)\n",
        "('-s0_root_pos_JJ-s1_root_pos_JJ', 1)\n",
        "('-s0_root_pos_CD-s1_root_pos_VBD', 1)\n",
        "('-s0_root_pos_VB-s1_root_pos_JJS', 1)\n",
        "('-s0_root_pos_CD-s1_root_pos_VBZ', 1)\n",
        "('-s1_root_pos_JJS', 1)\n",
        "('-s0_root_pos_VBD-s1_root_pos_RB', 1)\n",
        "('-s0_root_pos_JJ', 1)\n",
        "('-s0_root_pos_VBG-s1_root_pos_VB', 1)\n",
        "('-s0_root_pos_VBD-s1_root_pos_CD', 1)\n",
        "('-s0_root_pos_JJR-s1_root_pos_NNS', 1)\n"
       ]
      }
     ],
     "prompt_number": 3
    },
    {
     "cell_type": "heading",
     "level": 1,
     "metadata": {},
     "source": [
      "All Features"
     ]
    },
    {
     "cell_type": "code",
     "collapsed": false,
     "input": [
      "dataX = []\n",
      "dataY = []\n",
      "\n",
      "for doc in train_apws:\n",
      "    if len(doc) > 10: continue\n",
      "    model = RushModel(doc, history=2)\n",
      "    gold_trans = model.gold_transitions()\n",
      "\n",
      "    dataX.append(model)\n",
      "    dataY.append(gold_trans)\n",
      "print \"{} instances loaded.\".format(len(dataX))    "
     ],
     "language": "python",
     "metadata": {},
     "outputs": [
      {
       "output_type": "stream",
       "stream": "stdout",
       "text": [
        "77 instances loaded.\n"
       ]
      },
      {
       "output_type": "stream",
       "stream": "stdout",
       "text": [
        "77 instances loaded.\n"
       ]
      }
     ],
     "prompt_number": 4
    },
    {
     "cell_type": "code",
     "collapsed": false,
     "input": [
      "ptron.dsm._use_relaxed = True\n",
      "ptron.dsm._use_gurobi = True\n",
      "ptron.dsm._debug = True"
     ],
     "language": "python",
     "metadata": {},
     "outputs": [],
     "prompt_number": 26
    },
    {
     "cell_type": "code",
     "collapsed": false,
     "input": [
      "from collections import defaultdict\n",
      "dataX = []\n",
      "dataY = []\n",
      "active_features = defaultdict(lambda: False)\n",
      "active_features['role_match'] = True\n",
      "active_features['use_det'] = True\n",
      "active_features['use_subs'] = True\n",
      "active_features['quotes'] = True\n",
      "\n",
      "for doc in train_apws:\n",
      "    if len(doc) > 7 or len(doc) < 3: continue\n",
      "    model = RushModel(doc, history=3, features=active_features)\n",
      "    gold_trans = model.gold_transitions()\n",
      "\n",
      "    dataX.append(model)\n",
      "    dataY.append(gold_trans)\n",
      "\n",
      "ptron.fit(dataX,dataY)"
     ],
     "language": "python",
     "metadata": {},
     "outputs": [
      {
       "output_type": "stream",
       "stream": "stderr",
       "text": [
        "BUILD HYPERGRAPH: 0.00854802131653\n",
        "BUILD POTENTIALS:"
       ]
      },
      {
       "output_type": "stream",
       "stream": "stderr",
       "text": [
        " 0.0750269889832\n",
        "BUILD LP:"
       ]
      },
      {
       "output_type": "stream",
       "stream": "stderr",
       "text": [
        " 0.057343006134\n",
        "SOLVE LP: 0.0263819694519\n",
        "BUILD HYPERGRAPH:"
       ]
      },
      {
       "output_type": "stream",
       "stream": "stderr",
       "text": [
        " 0.0242240428925\n",
        "BUILD POTENTIALS:"
       ]
      },
      {
       "output_type": "stream",
       "stream": "stderr",
       "text": [
        " 0.0867879390717\n",
        "BUILD LP:"
       ]
      },
      {
       "output_type": "stream",
       "stream": "stdout",
       "text": [
        "Gurobi status= 2\n",
        "\n",
        "Gurobi status="
       ]
      },
      {
       "output_type": "stream",
       "stream": "stderr",
       "text": [
        " 0.263381958008\n",
        "SOLVE LP:"
       ]
      },
      {
       "output_type": "stream",
       "stream": "stdout",
       "text": [
        " 2\n",
        "\n",
        "Gurobi status="
       ]
      },
      {
       "output_type": "stream",
       "stream": "stderr",
       "text": [
        " 0.0784831047058\n",
        "BUILD HYPERGRAPH: 0.00118398666382\n",
        "BUILD POTENTIALS: 0.0178861618042\n",
        "BUILD LP: 0.0101079940796\n",
        "SOLVE LP: 0.00517106056213\n",
        "BUILD HYPERGRAPH:"
       ]
      },
      {
       "output_type": "stream",
       "stream": "stderr",
       "text": [
        " 0.0216178894043\n",
        "BUILD POTENTIALS:"
       ]
      },
      {
       "output_type": "stream",
       "stream": "stderr",
       "text": [
        " 0.061861038208\n",
        "BUILD LP:"
       ]
      },
      {
       "output_type": "stream",
       "stream": "stdout",
       "text": [
        " 2\n",
        "\n",
        "Gurobi status="
       ]
      },
      {
       "output_type": "stream",
       "stream": "stderr",
       "text": [
        " 0.184571027756\n",
        "SOLVE LP:"
       ]
      },
      {
       "output_type": "stream",
       "stream": "stderr",
       "text": [
        " 0.0751850605011\n",
        "BUILD HYPERGRAPH: 0.0202898979187\n",
        "BUILD POTENTIALS:"
       ]
      },
      {
       "output_type": "stream",
       "stream": "stderr",
       "text": [
        " 0.163479804993\n",
        "BUILD LP:"
       ]
      },
      {
       "output_type": "stream",
       "stream": "stdout",
       "text": [
        " 2\n",
        "\n",
        "Gurobi status="
       ]
      },
      {
       "output_type": "stream",
       "stream": "stderr",
       "text": [
        " 0.197593927383\n",
        "SOLVE LP:"
       ]
      },
      {
       "output_type": "stream",
       "stream": "stderr",
       "text": [
        " 0.0709888935089\n",
        "BUILD HYPERGRAPH: 0.0198619365692\n",
        "BUILD POTENTIALS:"
       ]
      },
      {
       "output_type": "stream",
       "stream": "stderr",
       "text": [
        " 0.125117063522\n",
        "BUILD LP:"
       ]
      },
      {
       "output_type": "stream",
       "stream": "stdout",
       "text": [
        " 2\n",
        "\n",
        "Gurobi status="
       ]
      },
      {
       "output_type": "stream",
       "stream": "stderr",
       "text": [
        " 0.204813957214\n",
        "SOLVE LP:"
       ]
      },
      {
       "output_type": "stream",
       "stream": "stderr",
       "text": [
        " 0.133379936218\n",
        "BUILD HYPERGRAPH: 0.00708723068237\n",
        "BUILD POTENTIALS:"
       ]
      },
      {
       "output_type": "stream",
       "stream": "stderr",
       "text": [
        " 0.0913240909576\n",
        "BUILD LP:"
       ]
      },
      {
       "output_type": "stream",
       "stream": "stdout",
       "text": [
        " 2\n",
        "\n",
        "Gurobi status="
       ]
      },
      {
       "output_type": "stream",
       "stream": "stderr",
       "text": [
        " 0.0721170902252\n",
        "SOLVE LP: 0.0312540531158\n",
        "BUILD HYPERGRAPH: 0.00687193870544\n",
        "BUILD POTENTIALS:"
       ]
      },
      {
       "output_type": "stream",
       "stream": "stderr",
       "text": [
        " 0.0993909835815\n",
        "BUILD LP:"
       ]
      },
      {
       "output_type": "stream",
       "stream": "stdout",
       "text": [
        " 2\n",
        "\n",
        "Gurobi status="
       ]
      },
      {
       "output_type": "stream",
       "stream": "stderr",
       "text": [
        " 0.0589299201965\n",
        "SOLVE LP: 0.0227310657501\n",
        "BUILD HYPERGRAPH: 0.0058810710907\n",
        "BUILD POTENTIALS:"
       ]
      },
      {
       "output_type": "stream",
       "stream": "stderr",
       "text": [
        " 0.046718120575\n",
        "BUILD LP:"
       ]
      },
      {
       "output_type": "stream",
       "stream": "stdout",
       "text": [
        " 2\n",
        "\n",
        "Gurobi status="
       ]
      },
      {
       "output_type": "stream",
       "stream": "stderr",
       "text": [
        " 0.0558631420135\n",
        "SOLVE LP: 0.0228219032288\n",
        "BUILD HYPERGRAPH: 0.0015389919281\n",
        "BUILD POTENTIALS:"
       ]
      },
      {
       "output_type": "stream",
       "stream": "stderr",
       "text": [
        " 0.0238568782806\n",
        "BUILD LP: 0.0111210346222\n",
        "SOLVE LP: 0.00487899780273\n",
        "BUILD HYPERGRAPH: 0.00109314918518\n",
        "BUILD POTENTIALS: 0.0236029624939\n",
        "BUILD LP:"
       ]
      },
      {
       "output_type": "stream",
       "stream": "stdout",
       "text": [
        " 2\n",
        "\n",
        "Gurobi status= 2\n",
        "\n",
        "Gurobi status="
       ]
      },
      {
       "output_type": "stream",
       "stream": "stderr",
       "text": [
        " 0.0116531848907\n",
        "SOLVE LP: 0.00588011741638\n",
        "BUILD HYPERGRAPH: 0.00922203063965\n",
        "BUILD POTENTIALS: 0.0318439006805\n",
        "BUILD LP:"
       ]
      },
      {
       "output_type": "stream",
       "stream": "stdout",
       "text": [
        " 2\n",
        "\n",
        "Gurobi status="
       ]
      },
      {
       "output_type": "stream",
       "stream": "stderr",
       "text": [
        " 0.0526008605957\n",
        "SOLVE LP: 0.0274839401245\n",
        "BUILD HYPERGRAPH:"
       ]
      },
      {
       "output_type": "stream",
       "stream": "stderr",
       "text": [
        " 0.0207118988037\n",
        "BUILD POTENTIALS:"
       ]
      },
      {
       "output_type": "stream",
       "stream": "stderr",
       "text": [
        " 0.138084173203\n",
        "BUILD LP:"
       ]
      },
      {
       "output_type": "stream",
       "stream": "stdout",
       "text": [
        " 2\n",
        "\n",
        "Gurobi status="
       ]
      },
      {
       "output_type": "stream",
       "stream": "stderr",
       "text": [
        " 0.186439990997\n",
        "SOLVE LP:"
       ]
      },
      {
       "output_type": "stream",
       "stream": "stderr",
       "text": [
        " 0.179275989532\n",
        "BUILD HYPERGRAPH: 0.0347511768341\n",
        "BUILD POTENTIALS:"
       ]
      },
      {
       "output_type": "stream",
       "stream": "stderr",
       "text": [
        " 0.0994329452515\n",
        "BUILD LP:"
       ]
      },
      {
       "output_type": "stream",
       "stream": "stdout",
       "text": [
        " 2\n",
        "\n",
        "Gurobi status="
       ]
      },
      {
       "output_type": "stream",
       "stream": "stderr",
       "text": [
        " 0.189346075058\n",
        "SOLVE LP:"
       ]
      },
      {
       "output_type": "stream",
       "stream": "stderr",
       "text": [
        " 0.0799062252045\n",
        "BUILD HYPERGRAPH: 0.0205459594727\n",
        "BUILD POTENTIALS:"
       ]
      },
      {
       "output_type": "stream",
       "stream": "stderr",
       "text": [
        " 0.0740330219269\n",
        "BUILD LP:"
       ]
      },
      {
       "output_type": "stream",
       "stream": "stdout",
       "text": [
        " 2\n",
        "\n",
        "Gurobi status="
       ]
      },
      {
       "output_type": "stream",
       "stream": "stderr",
       "text": [
        " 0.248305082321\n",
        "SOLVE LP:"
       ]
      },
      {
       "output_type": "stream",
       "stream": "stderr",
       "text": [
        " 0.0779750347137\n",
        "BUILD HYPERGRAPH: 0.0202698707581\n",
        "BUILD POTENTIALS:"
       ]
      },
      {
       "output_type": "stream",
       "stream": "stderr",
       "text": [
        " 0.0698459148407\n",
        "BUILD LP:"
       ]
      },
      {
       "output_type": "stream",
       "stream": "stdout",
       "text": [
        " 2\n",
        "\n",
        "Gurobi status="
       ]
      },
      {
       "output_type": "stream",
       "stream": "stderr",
       "text": [
        " 0.187382936478\n",
        "SOLVE LP:"
       ]
      },
      {
       "output_type": "stream",
       "stream": "stderr",
       "text": [
        " 0.07643699646\n",
        "BUILD HYPERGRAPH: 0.0208311080933\n",
        "BUILD POTENTIALS:"
       ]
      },
      {
       "output_type": "stream",
       "stream": "stderr",
       "text": [
        " 0.0503652095795\n",
        "BUILD LP:"
       ]
      },
      {
       "output_type": "stream",
       "stream": "stdout",
       "text": [
        " 2\n",
        "\n",
        "Gurobi status="
       ]
      },
      {
       "output_type": "stream",
       "stream": "stderr",
       "text": [
        " 0.256869792938\n",
        "SOLVE LP:"
       ]
      },
      {
       "output_type": "stream",
       "stream": "stderr",
       "text": [
        " 0.0733878612518\n",
        "BUILD HYPERGRAPH: 0.0195310115814\n",
        "BUILD POTENTIALS:"
       ]
      },
      {
       "output_type": "stream",
       "stream": "stderr",
       "text": [
        " 0.0509119033813\n",
        "BUILD LP:"
       ]
      },
      {
       "output_type": "stream",
       "stream": "stdout",
       "text": [
        " 2\n",
        "\n",
        "Gurobi status="
       ]
      },
      {
       "output_type": "stream",
       "stream": "stderr",
       "text": [
        " 0.187336921692\n",
        "SOLVE LP:"
       ]
      },
      {
       "output_type": "stream",
       "stream": "stderr",
       "text": [
        " 0.072988986969\n",
        "BUILD HYPERGRAPH: 0.0198650360107\n",
        "BUILD POTENTIALS:"
       ]
      },
      {
       "output_type": "stream",
       "stream": "stderr",
       "text": [
        " 0.0571880340576\n",
        "BUILD LP:"
       ]
      },
      {
       "output_type": "stream",
       "stream": "stdout",
       "text": [
        " 2\n",
        "\n",
        "Gurobi status="
       ]
      },
      {
       "output_type": "stream",
       "stream": "stderr",
       "text": [
        " 0.315799951553\n",
        "SOLVE LP:"
       ]
      },
      {
       "output_type": "stream",
       "stream": "stderr",
       "text": [
        " 0.0712490081787\n",
        "BUILD HYPERGRAPH: 0.019711971283\n",
        "BUILD POTENTIALS:"
       ]
      },
      {
       "output_type": "stream",
       "stream": "stderr",
       "text": [
        " 0.0787470340729\n",
        "BUILD LP:"
       ]
      },
      {
       "output_type": "stream",
       "stream": "stdout",
       "text": [
        " 2\n",
        "\n",
        "Gurobi status="
       ]
      },
      {
       "output_type": "stream",
       "stream": "stderr",
       "text": [
        " 0.185276031494\n",
        "SOLVE LP:"
       ]
      },
      {
       "output_type": "stream",
       "stream": "stderr",
       "text": [
        " 0.0721371173859\n",
        "BUILD HYPERGRAPH: 0.02086186409\n",
        "BUILD POTENTIALS:"
       ]
      },
      {
       "output_type": "stream",
       "stream": "stderr",
       "text": [
        " 0.0776519775391\n",
        "BUILD LP:"
       ]
      },
      {
       "output_type": "stream",
       "stream": "stdout",
       "text": [
        " 2\n",
        "\n",
        "Gurobi status="
       ]
      },
      {
       "output_type": "stream",
       "stream": "stderr",
       "text": [
        " 0.248688936234\n",
        "SOLVE LP:"
       ]
      },
      {
       "output_type": "stream",
       "stream": "stderr",
       "text": [
        " 0.0741000175476\n",
        "BUILD HYPERGRAPH: 0.0198309421539\n",
        "BUILD POTENTIALS:"
       ]
      },
      {
       "output_type": "stream",
       "stream": "stderr",
       "text": [
        " 0.0843119621277\n",
        "BUILD LP:"
       ]
      },
      {
       "output_type": "stream",
       "stream": "stdout",
       "text": [
        " 2\n",
        "\n",
        "Gurobi status="
       ]
      },
      {
       "output_type": "stream",
       "stream": "stderr",
       "text": [
        " 0.190846920013\n",
        "SOLVE LP:"
       ]
      },
      {
       "output_type": "stream",
       "stream": "stderr",
       "text": [
        " 0.134586811066\n",
        "BUILD HYPERGRAPH: 0.0203418731689\n",
        "BUILD POTENTIALS:"
       ]
      },
      {
       "output_type": "stream",
       "stream": "stderr",
       "text": [
        " 0.0839440822601\n",
        "BUILD LP:"
       ]
      },
      {
       "output_type": "stream",
       "stream": "stdout",
       "text": [
        " 2\n",
        "\n",
        "Gurobi status="
       ]
      },
      {
       "output_type": "stream",
       "stream": "stderr",
       "text": [
        " 0.196170091629\n",
        "SOLVE LP:"
       ]
      },
      {
       "output_type": "stream",
       "stream": "stderr",
       "text": [
        " 0.0746760368347\n",
        "BUILD HYPERGRAPH: 0.0195090770721\n",
        "BUILD POTENTIALS:"
       ]
      },
      {
       "output_type": "stream",
       "stream": "stderr",
       "text": [
        " 0.0749471187592\n",
        "BUILD LP:"
       ]
      },
      {
       "output_type": "stream",
       "stream": "stdout",
       "text": [
        " 2\n",
        "\n",
        "Gurobi status="
       ]
      },
      {
       "output_type": "stream",
       "stream": "stderr",
       "text": [
        " 0.189352035522\n",
        "SOLVE LP:"
       ]
      },
      {
       "output_type": "stream",
       "stream": "stderr",
       "text": [
        " 0.146931171417\n",
        "BUILD HYPERGRAPH: 0.0203771591187\n",
        "BUILD POTENTIALS:"
       ]
      },
      {
       "output_type": "stream",
       "stream": "stderr",
       "text": [
        " 0.10724401474\n",
        "BUILD LP:"
       ]
      },
      {
       "output_type": "stream",
       "stream": "stdout",
       "text": [
        " 2\n",
        "\n",
        "Gurobi status="
       ]
      },
      {
       "output_type": "stream",
       "stream": "stderr",
       "text": [
        " 0.205695152283\n",
        "SOLVE LP:"
       ]
      },
      {
       "output_type": "stream",
       "stream": "stderr",
       "text": [
        " 0.0835990905762\n",
        "BUILD HYPERGRAPH: 0.0205709934235\n",
        "BUILD POTENTIALS:"
       ]
      },
      {
       "output_type": "stream",
       "stream": "stderr",
       "text": [
        " 0.117368936539\n",
        "BUILD LP:"
       ]
      },
      {
       "output_type": "stream",
       "stream": "stdout",
       "text": [
        " 2\n",
        "\n",
        "Gurobi status="
       ]
      },
      {
       "output_type": "stream",
       "stream": "stderr",
       "text": [
        " 0.188264846802\n",
        "SOLVE LP:"
       ]
      },
      {
       "output_type": "stream",
       "stream": "stdout",
       "text": [
        " 2\n",
        "\n"
       ]
      },
      {
       "output_type": "stream",
       "stream": "stderr",
       "text": [
        " 0.138490915298\n",
        "BUILD HYPERGRAPH: 0.0203502178192\n",
        "BUILD POTENTIALS:"
       ]
      },
      {
       "output_type": "stream",
       "stream": "stderr",
       "text": [
        " 0.0910170078278\n",
        "BUILD LP:"
       ]
      },
      {
       "output_type": "stream",
       "stream": "stderr",
       "text": [
        " 0.187262058258\n",
        "SOLVE LP:"
       ]
      },
      {
       "output_type": "stream",
       "stream": "stderr",
       "text": [
        " 0.0752840042114\n",
        "BUILD HYPERGRAPH: 0.00563311576843\n",
        "BUILD POTENTIALS: 0.0280768871307\n",
        "BUILD LP:"
       ]
      },
      {
       "output_type": "stream",
       "stream": "stdout",
       "text": [
        "Gurobi status= 2\n",
        "\n",
        "Gurobi status="
       ]
      },
      {
       "output_type": "stream",
       "stream": "stderr",
       "text": [
        " 0.0542321205139\n",
        "SOLVE LP: 0.0220518112183\n",
        "BUILD HYPERGRAPH: 0.00555491447449\n",
        "BUILD POTENTIALS:"
       ]
      },
      {
       "output_type": "stream",
       "stream": "stderr",
       "text": [
        " 0.0303688049316\n",
        "BUILD LP:"
       ]
      },
      {
       "output_type": "stream",
       "stream": "stdout",
       "text": [
        " 2\n",
        "\n",
        "Gurobi status="
       ]
      },
      {
       "output_type": "stream",
       "stream": "stderr",
       "text": [
        " 0.0549519062042\n",
        "SOLVE LP: 0.0238769054413\n",
        "BUILD HYPERGRAPH: 0.0215289592743\n",
        "BUILD POTENTIALS:"
       ]
      },
      {
       "output_type": "stream",
       "stream": "stderr",
       "text": [
        " 0.0600490570068\n",
        "BUILD LP:"
       ]
      },
      {
       "output_type": "stream",
       "stream": "stdout",
       "text": [
        " 2\n",
        "\n",
        "Gurobi status="
       ]
      },
      {
       "output_type": "stream",
       "stream": "stderr",
       "text": [
        " 0.267849206924\n",
        "SOLVE LP:"
       ]
      },
      {
       "output_type": "stream",
       "stream": "stderr",
       "text": [
        " 0.0755579471588\n",
        "BUILD HYPERGRAPH: 0.0220057964325\n",
        "BUILD POTENTIALS:"
       ]
      },
      {
       "output_type": "stream",
       "stream": "stderr",
       "text": [
        " 0.131337881088\n",
        "BUILD LP:"
       ]
      },
      {
       "output_type": "stream",
       "stream": "stdout",
       "text": [
        " 2\n",
        "\n",
        "Gurobi status="
       ]
      },
      {
       "output_type": "stream",
       "stream": "stderr",
       "text": [
        " 0.1914498806\n",
        "SOLVE LP:"
       ]
      },
      {
       "output_type": "stream",
       "stream": "stderr",
       "text": [
        " 0.0875749588013\n",
        "BUILD HYPERGRAPH: 0.0207991600037\n",
        "BUILD POTENTIALS:"
       ]
      },
      {
       "output_type": "stream",
       "stream": "stderr",
       "text": [
        " 0.114488124847\n",
        "BUILD LP:"
       ]
      },
      {
       "output_type": "stream",
       "stream": "stdout",
       "text": [
        " 2\n",
        "\n",
        "Gurobi status="
       ]
      },
      {
       "output_type": "stream",
       "stream": "stderr",
       "text": [
        " 0.249511957169\n",
        "SOLVE LP:"
       ]
      },
      {
       "output_type": "stream",
       "stream": "stderr",
       "text": [
        " 0.0767679214478\n",
        "BUILD HYPERGRAPH: 0.0202741622925\n",
        "BUILD POTENTIALS:"
       ]
      },
      {
       "output_type": "stream",
       "stream": "stderr",
       "text": [
        " 0.131915092468\n",
        "BUILD LP:"
       ]
      },
      {
       "output_type": "stream",
       "stream": "stdout",
       "text": [
        " 2\n",
        "\n",
        "Gurobi status="
       ]
      },
      {
       "output_type": "stream",
       "stream": "stderr",
       "text": [
        " 0.19894194603\n",
        "SOLVE LP:"
       ]
      },
      {
       "output_type": "stream",
       "stream": "stderr",
       "text": [
        " 0.0830821990967\n",
        "BUILD HYPERGRAPH:"
       ]
      },
      {
       "output_type": "stream",
       "stream": "stderr",
       "text": [
        " 0.0881929397583\n",
        "BUILD POTENTIALS:"
       ]
      },
      {
       "output_type": "stream",
       "stream": "stderr",
       "text": [
        " 0.0892791748047\n",
        "BUILD LP:"
       ]
      },
      {
       "output_type": "stream",
       "stream": "stdout",
       "text": [
        " 2\n",
        "\n",
        "Gurobi status="
       ]
      },
      {
       "output_type": "stream",
       "stream": "stderr",
       "text": [
        " 0.188861131668\n",
        "SOLVE LP:"
       ]
      },
      {
       "output_type": "stream",
       "stream": "stderr",
       "text": [
        " 0.0746309757233\n",
        "BUILD HYPERGRAPH: 0.0232300758362\n",
        "BUILD POTENTIALS:"
       ]
      },
      {
       "output_type": "stream",
       "stream": "stderr",
       "text": [
        " 0.146303892136\n",
        "BUILD LP:"
       ]
      },
      {
       "output_type": "stream",
       "stream": "stdout",
       "text": [
        " 2\n",
        "\n",
        "Gurobi status="
       ]
      },
      {
       "output_type": "stream",
       "stream": "stderr",
       "text": [
        " 0.185884952545\n",
        "SOLVE LP:"
       ]
      },
      {
       "output_type": "stream",
       "stream": "stderr",
       "text": [
        " 0.0739641189575\n",
        "BUILD HYPERGRAPH:"
       ]
      },
      {
       "output_type": "stream",
       "stream": "stderr",
       "text": [
        " 0.0815567970276\n",
        "BUILD POTENTIALS:"
       ]
      },
      {
       "output_type": "stream",
       "stream": "stderr",
       "text": [
        " 0.0843670368195\n",
        "BUILD LP:"
       ]
      },
      {
       "output_type": "stream",
       "stream": "stdout",
       "text": [
        " 2\n",
        "\n",
        "Gurobi status="
       ]
      },
      {
       "output_type": "stream",
       "stream": "stderr",
       "text": [
        " 0.204674005508\n",
        "SOLVE LP:"
       ]
      },
      {
       "output_type": "stream",
       "stream": "stderr",
       "text": [
        " 0.0737729072571\n",
        "BUILD HYPERGRAPH: 0.0200459957123\n",
        "BUILD POTENTIALS:"
       ]
      },
      {
       "output_type": "stream",
       "stream": "stderr",
       "text": [
        " 0.126100063324\n",
        "BUILD LP:"
       ]
      },
      {
       "output_type": "stream",
       "stream": "stdout",
       "text": [
        " 2\n",
        "\n",
        "Gurobi status="
       ]
      },
      {
       "output_type": "stream",
       "stream": "stderr",
       "text": [
        " 0.252093076706\n",
        "SOLVE LP:"
       ]
      },
      {
       "output_type": "stream",
       "stream": "stdout",
       "text": [
        " 2\n",
        "\n",
        "Gurobi status="
       ]
      },
      {
       "output_type": "stream",
       "stream": "stderr",
       "text": [
        " 0.0846920013428\n",
        "BUILD HYPERGRAPH: 0.00115704536438\n",
        "BUILD POTENTIALS: 0.0218529701233\n",
        "BUILD LP: 0.0109729766846\n",
        "SOLVE LP: 0.00782203674316\n",
        "BUILD HYPERGRAPH:"
       ]
      },
      {
       "output_type": "stream",
       "stream": "stderr",
       "text": [
        " 0.0212018489838\n",
        "BUILD POTENTIALS:"
       ]
      },
      {
       "output_type": "stream",
       "stream": "stderr",
       "text": [
        " 0.10009598732\n",
        "BUILD LP:"
       ]
      },
      {
       "output_type": "stream",
       "stream": "stdout",
       "text": [
        " 2\n",
        "\n",
        "Gurobi status="
       ]
      },
      {
       "output_type": "stream",
       "stream": "stderr",
       "text": [
        " 0.191422939301\n",
        "SOLVE LP:"
       ]
      },
      {
       "output_type": "stream",
       "stream": "stderr",
       "text": [
        " 0.0837421417236\n",
        "BUILD HYPERGRAPH: 0.0217318534851\n",
        "BUILD POTENTIALS:"
       ]
      },
      {
       "output_type": "stream",
       "stream": "stderr",
       "text": [
        " 0.0926830768585\n",
        "BUILD LP:"
       ]
      },
      {
       "output_type": "stream",
       "stream": "stdout",
       "text": [
        " 2\n",
        "\n",
        "Gurobi status="
       ]
      },
      {
       "output_type": "stream",
       "stream": "stderr",
       "text": [
        " 0.252231121063\n",
        "SOLVE LP:"
       ]
      },
      {
       "output_type": "stream",
       "stream": "stderr",
       "text": [
        " 0.0740211009979\n",
        "BUILD HYPERGRAPH: 0.0196290016174\n",
        "BUILD POTENTIALS:"
       ]
      },
      {
       "output_type": "stream",
       "stream": "stderr",
       "text": [
        " 0.0755479335785\n",
        "BUILD LP:"
       ]
      },
      {
       "output_type": "stream",
       "stream": "stdout",
       "text": [
        " 2\n",
        "\n",
        "Gurobi status="
       ]
      },
      {
       "output_type": "stream",
       "stream": "stderr",
       "text": [
        " 0.188549995422\n",
        "SOLVE LP:"
       ]
      },
      {
       "output_type": "stream",
       "stream": "stderr",
       "text": [
        " 0.0751869678497\n",
        "BUILD HYPERGRAPH:"
       ]
      },
      {
       "output_type": "stream",
       "stream": "stderr",
       "text": [
        " 0.0838160514832\n",
        "BUILD POTENTIALS:"
       ]
      },
      {
       "output_type": "stream",
       "stream": "stderr",
       "text": [
        " 0.0763249397278\n",
        "BUILD LP:"
       ]
      },
      {
       "output_type": "stream",
       "stream": "stdout",
       "text": [
        " 2\n",
        "\n",
        "Gurobi status="
       ]
      },
      {
       "output_type": "stream",
       "stream": "stderr",
       "text": [
        " 0.186928987503\n",
        "SOLVE LP:"
       ]
      },
      {
       "output_type": "stream",
       "stream": "stderr",
       "text": [
        " 0.0751178264618\n",
        "BUILD HYPERGRAPH: 0.0198810100555\n",
        "BUILD POTENTIALS:"
       ]
      },
      {
       "output_type": "stream",
       "stream": "stderr",
       "text": [
        " 0.134250879288\n",
        "BUILD LP:"
       ]
      },
      {
       "output_type": "stream",
       "stream": "stdout",
       "text": [
        " 2\n",
        "\n",
        "Gurobi status="
       ]
      },
      {
       "output_type": "stream",
       "stream": "stderr",
       "text": [
        " 0.207947015762\n",
        "SOLVE LP:"
       ]
      },
      {
       "output_type": "stream",
       "stream": "stderr",
       "text": [
        " 0.144487142563\n",
        "BUILD HYPERGRAPH: 0.0200128555298\n",
        "BUILD POTENTIALS:"
       ]
      },
      {
       "output_type": "stream",
       "stream": "stderr",
       "text": [
        " 0.099200963974\n",
        "BUILD LP:"
       ]
      },
      {
       "output_type": "stream",
       "stream": "stdout",
       "text": [
        " 2\n",
        "\n",
        "Gurobi status="
       ]
      },
      {
       "output_type": "stream",
       "stream": "stderr",
       "text": [
        " 0.20237493515\n",
        "SOLVE LP:"
       ]
      },
      {
       "output_type": "stream",
       "stream": "stderr",
       "text": [
        " 0.0773680210114\n",
        "BUILD HYPERGRAPH: 0.0196092128754\n",
        "BUILD POTENTIALS:"
       ]
      },
      {
       "output_type": "stream",
       "stream": "stderr",
       "text": [
        " 0.0784327983856\n",
        "BUILD LP:"
       ]
      },
      {
       "output_type": "stream",
       "stream": "stdout",
       "text": [
        " 2\n",
        "\n",
        "Gurobi status="
       ]
      },
      {
       "output_type": "stream",
       "stream": "stderr",
       "text": [
        " 0.266261816025\n",
        "SOLVE LP:"
       ]
      },
      {
       "output_type": "stream",
       "stream": "stderr",
       "text": [
        " 0.0811169147491\n",
        "BUILD HYPERGRAPH: 0.0203289985657\n",
        "BUILD POTENTIALS:"
       ]
      },
      {
       "output_type": "stream",
       "stream": "stderr",
       "text": [
        " 0.190056800842\n",
        "BUILD LP:"
       ]
      },
      {
       "output_type": "stream",
       "stream": "stdout",
       "text": [
        " 2\n",
        "\n",
        "Gurobi status="
       ]
      },
      {
       "output_type": "stream",
       "stream": "stderr",
       "text": [
        " 0.209366798401\n",
        "SOLVE LP:"
       ]
      },
      {
       "output_type": "stream",
       "stream": "stderr",
       "text": [
        " 0.0828149318695\n",
        "BUILD HYPERGRAPH: 0.0263459682465\n",
        "BUILD POTENTIALS:"
       ]
      },
      {
       "output_type": "stream",
       "stream": "stderr",
       "text": [
        " 0.193266153336\n",
        "BUILD LP:"
       ]
      },
      {
       "output_type": "stream",
       "stream": "stdout",
       "text": [
        " 2\n",
        "\n",
        "Gurobi status="
       ]
      },
      {
       "output_type": "stream",
       "stream": "stderr",
       "text": [
        " 0.255604028702\n",
        "SOLVE LP:"
       ]
      },
      {
       "output_type": "stream",
       "stream": "stderr",
       "text": [
        " 0.0754351615906\n",
        "BUILD HYPERGRAPH: 0.0209679603577\n",
        "BUILD POTENTIALS:"
       ]
      },
      {
       "output_type": "stream",
       "stream": "stderr",
       "text": [
        " 0.138344049454\n",
        "BUILD LP:"
       ]
      },
      {
       "output_type": "stream",
       "stream": "stdout",
       "text": [
        " 2\n",
        "\n",
        "Gurobi status="
       ]
      },
      {
       "output_type": "stream",
       "stream": "stderr",
       "text": [
        " 0.191649913788\n",
        "SOLVE LP:"
       ]
      },
      {
       "output_type": "stream",
       "stream": "stderr",
       "text": [
        " 0.0758278369904\n",
        "BUILD HYPERGRAPH: 0.0197880268097\n",
        "BUILD POTENTIALS:"
       ]
      },
      {
       "output_type": "stream",
       "stream": "stderr",
       "text": [
        " 0.140736103058\n",
        "BUILD LP:"
       ]
      },
      {
       "output_type": "stream",
       "stream": "stdout",
       "text": [
        " 2\n",
        "\n",
        "Gurobi status="
       ]
      },
      {
       "output_type": "stream",
       "stream": "stderr",
       "text": [
        " 0.249370098114\n",
        "SOLVE LP:"
       ]
      },
      {
       "output_type": "stream",
       "stream": "stderr",
       "text": [
        " 0.0805048942566\n",
        "BUILD HYPERGRAPH: 0.0205409526825\n",
        "BUILD POTENTIALS:"
       ]
      },
      {
       "output_type": "stream",
       "stream": "stderr",
       "text": [
        " 0.149619817734\n",
        "BUILD LP:"
       ]
      },
      {
       "output_type": "stream",
       "stream": "stdout",
       "text": [
        " 2\n",
        "\n",
        "Gurobi status="
       ]
      },
      {
       "output_type": "stream",
       "stream": "stderr",
       "text": [
        " 0.199943065643\n",
        "SOLVE LP:"
       ]
      },
      {
       "output_type": "stream",
       "stream": "stderr",
       "text": [
        " 0.080794095993\n",
        "BUILD HYPERGRAPH:"
       ]
      },
      {
       "output_type": "stream",
       "stream": "stderr",
       "text": [
        " 0.0822420120239\n",
        "BUILD POTENTIALS:"
       ]
      },
      {
       "output_type": "stream",
       "stream": "stderr",
       "text": [
        " 0.0988740921021\n",
        "BUILD LP:"
       ]
      },
      {
       "output_type": "stream",
       "stream": "stdout",
       "text": [
        " 2\n",
        "\n",
        "Gurobi status="
       ]
      },
      {
       "output_type": "stream",
       "stream": "stderr",
       "text": [
        " 0.194941043854\n",
        "SOLVE LP:"
       ]
      },
      {
       "output_type": "stream",
       "stream": "stderr",
       "text": [
        " 0.0754601955414\n",
        "BUILD HYPERGRAPH: 0.020416021347\n",
        "BUILD POTENTIALS:"
       ]
      },
      {
       "output_type": "stream",
       "stream": "stderr",
       "text": [
        " 0.15823507309\n",
        "BUILD LP:"
       ]
      },
      {
       "output_type": "stream",
       "stream": "stdout",
       "text": [
        " 2\n",
        "\n",
        "Gurobi status="
       ]
      },
      {
       "output_type": "stream",
       "stream": "stderr",
       "text": [
        " 0.187706947327\n",
        "SOLVE LP:"
       ]
      },
      {
       "output_type": "stream",
       "stream": "stderr",
       "text": [
        " 0.0764980316162\n",
        "BUILD HYPERGRAPH: 0.00109505653381\n",
        "BUILD POTENTIALS: 0.0144429206848\n",
        "BUILD LP:"
       ]
      },
      {
       "output_type": "stream",
       "stream": "stdout",
       "text": [
        " 2\n",
        "\n",
        "Gurobi status="
       ]
      },
      {
       "output_type": "stream",
       "stream": "stderr",
       "text": [
        " 0.0721120834351\n",
        "SOLVE LP: 0.00544714927673\n",
        "BUILD HYPERGRAPH: 0.0059220790863\n",
        "BUILD POTENTIALS: 0.0316019058228\n",
        "BUILD LP:"
       ]
      },
      {
       "output_type": "stream",
       "stream": "stdout",
       "text": [
        " 2\n",
        "\n",
        "Gurobi status="
       ]
      },
      {
       "output_type": "stream",
       "stream": "stderr",
       "text": [
        " 0.0537278652191\n",
        "SOLVE LP: 0.0224258899689\n",
        "BUILD HYPERGRAPH: 0.0212931632996\n",
        "BUILD POTENTIALS:"
       ]
      },
      {
       "output_type": "stream",
       "stream": "stderr",
       "text": [
        " 0.0753281116486\n",
        "BUILD LP:"
       ]
      },
      {
       "output_type": "stream",
       "stream": "stdout",
       "text": [
        " 2\n",
        "\n",
        "Gurobi status="
       ]
      },
      {
       "output_type": "stream",
       "stream": "stderr",
       "text": [
        " 0.188115119934\n",
        "SOLVE LP:"
       ]
      },
      {
       "output_type": "stream",
       "stream": "stderr",
       "text": [
        " 0.0738520622253\n",
        "BUILD HYPERGRAPH: 0.0196721553802\n",
        "BUILD POTENTIALS:"
       ]
      },
      {
       "output_type": "stream",
       "stream": "stderr",
       "text": [
        " 0.093376159668\n",
        "BUILD LP:"
       ]
      },
      {
       "output_type": "stream",
       "stream": "stdout",
       "text": [
        " 2\n",
        "\n",
        "Gurobi status="
       ]
      },
      {
       "output_type": "stream",
       "stream": "stderr",
       "text": [
        " 0.246711969376\n",
        "SOLVE LP:"
       ]
      },
      {
       "output_type": "stream",
       "stream": "stderr",
       "text": [
        " 0.0776891708374\n",
        "BUILD HYPERGRAPH: 0.00597906112671\n",
        "BUILD POTENTIALS:"
       ]
      },
      {
       "output_type": "stream",
       "stream": "stderr",
       "text": [
        " 0.0395510196686\n",
        "BUILD LP:"
       ]
      },
      {
       "output_type": "stream",
       "stream": "stdout",
       "text": [
        " 2\n",
        "\n",
        "Gurobi status="
       ]
      },
      {
       "output_type": "stream",
       "stream": "stderr",
       "text": [
        " 0.05428814888\n",
        "SOLVE LP: 0.0216469764709\n",
        "BUILD HYPERGRAPH: 0.020877122879\n",
        "BUILD POTENTIALS:"
       ]
      },
      {
       "output_type": "stream",
       "stream": "stderr",
       "text": [
        " 0.0930118560791\n",
        "BUILD LP:"
       ]
      },
      {
       "output_type": "stream",
       "stream": "stdout",
       "text": [
        " 2\n",
        "\n",
        "Gurobi status="
       ]
      },
      {
       "output_type": "stream",
       "stream": "stderr",
       "text": [
        " 0.185963869095\n",
        "SOLVE LP:"
       ]
      },
      {
       "output_type": "stream",
       "stream": "stdout",
       "text": [
        " 2\n",
        "\n"
       ]
      },
      {
       "output_type": "stream",
       "stream": "stderr",
       "text": [
        " 0.135967969894\n",
        "BUILD HYPERGRAPH: 0.0205481052399\n",
        "BUILD POTENTIALS:"
       ]
      },
      {
       "output_type": "stream",
       "stream": "stderr",
       "text": [
        " 0.090399980545\n",
        "BUILD LP:"
       ]
      },
      {
       "output_type": "stream",
       "stream": "stderr",
       "text": [
        " 0.18833899498\n",
        "SOLVE LP:"
       ]
      },
      {
       "output_type": "stream",
       "stream": "stderr",
       "text": [
        " 0.073429107666\n",
        "BUILD HYPERGRAPH: 0.02081990242\n",
        "BUILD POTENTIALS:"
       ]
      },
      {
       "output_type": "stream",
       "stream": "stderr",
       "text": [
        " 0.111509084702\n",
        "BUILD LP:"
       ]
      },
      {
       "output_type": "stream",
       "stream": "stdout",
       "text": [
        "Gurobi status= 2\n",
        "\n",
        "Gurobi status="
       ]
      },
      {
       "output_type": "stream",
       "stream": "stderr",
       "text": [
        " 0.250009059906\n",
        "SOLVE LP:"
       ]
      },
      {
       "output_type": "stream",
       "stream": "stderr",
       "text": [
        " 0.0737631320953\n",
        "BUILD HYPERGRAPH: 0.00626993179321\n",
        "BUILD POTENTIALS: 0.0313928127289\n",
        "BUILD LP:"
       ]
      },
      {
       "output_type": "stream",
       "stream": "stdout",
       "text": [
        " 2\n",
        "\n",
        "Gurobi status="
       ]
      },
      {
       "output_type": "stream",
       "stream": "stderr",
       "text": [
        " 0.0536580085754\n",
        "SOLVE LP: 0.0222702026367\n",
        "BUILD HYPERGRAPH: 0.0208210945129\n",
        "BUILD POTENTIALS:"
       ]
      },
      {
       "output_type": "stream",
       "stream": "stderr",
       "text": [
        " 0.0987818241119\n",
        "BUILD LP:"
       ]
      },
      {
       "output_type": "stream",
       "stream": "stdout",
       "text": [
        " 2\n",
        "\n",
        "Gurobi status="
       ]
      },
      {
       "output_type": "stream",
       "stream": "stderr",
       "text": [
        " 0.201706886292\n",
        "SOLVE LP:"
       ]
      },
      {
       "output_type": "stream",
       "stream": "stderr",
       "text": [
        " 0.0737500190735\n",
        "BUILD HYPERGRAPH: 0.0203809738159\n",
        "BUILD POTENTIALS:"
       ]
      },
      {
       "output_type": "stream",
       "stream": "stderr",
       "text": [
        " 0.0775859355927\n",
        "BUILD LP:"
       ]
      },
      {
       "output_type": "stream",
       "stream": "stdout",
       "text": [
        " 2\n",
        "\n",
        "Gurobi status="
       ]
      },
      {
       "output_type": "stream",
       "stream": "stderr",
       "text": [
        " 0.255216121674\n",
        "SOLVE LP:"
       ]
      },
      {
       "output_type": "stream",
       "stream": "stderr",
       "text": [
        " 0.0822019577026\n",
        "BUILD HYPERGRAPH: 0.00593400001526\n",
        "BUILD POTENTIALS:"
       ]
      },
      {
       "output_type": "stream",
       "stream": "stderr",
       "text": [
        " 0.0438220500946\n",
        "BUILD LP:"
       ]
      },
      {
       "output_type": "stream",
       "stream": "stdout",
       "text": [
        " 2\n",
        "\n",
        "Gurobi status="
       ]
      },
      {
       "output_type": "stream",
       "stream": "stderr",
       "text": [
        " 0.054230928421\n",
        "SOLVE LP: 0.0213871002197\n",
        "BUILD HYPERGRAPH: 0.021754026413\n",
        "BUILD POTENTIALS:"
       ]
      },
      {
       "output_type": "stream",
       "stream": "stderr",
       "text": [
        " 0.096174955368\n",
        "BUILD LP:"
       ]
      },
      {
       "output_type": "stream",
       "stream": "stdout",
       "text": [
        " 2\n",
        "\n",
        "Gurobi status="
       ]
      },
      {
       "output_type": "stream",
       "stream": "stderr",
       "text": [
        " 0.195508003235\n",
        "SOLVE LP:"
       ]
      },
      {
       "output_type": "stream",
       "stream": "stderr",
       "text": [
        " 0.0726368427277\n",
        "BUILD HYPERGRAPH:"
       ]
      },
      {
       "output_type": "stream",
       "stream": "stderr",
       "text": [
        " 0.0856218338013\n",
        "BUILD POTENTIALS:"
       ]
      },
      {
       "output_type": "stream",
       "stream": "stderr",
       "text": [
        " 0.1013879776\n",
        "BUILD LP:"
       ]
      },
      {
       "output_type": "stream",
       "stream": "stdout",
       "text": [
        " 2\n",
        "\n",
        "Gurobi status="
       ]
      },
      {
       "output_type": "stream",
       "stream": "stderr",
       "text": [
        " 0.186123132706\n",
        "SOLVE LP:"
       ]
      },
      {
       "output_type": "stream",
       "stream": "stderr",
       "text": [
        " 0.0744190216064\n",
        "BUILD HYPERGRAPH: 0.00108098983765\n",
        "BUILD POTENTIALS: 0.0108950138092\n",
        "BUILD LP: 0.0106987953186\n",
        "SOLVE LP: 0.00474405288696\n",
        "BUILD HYPERGRAPH: 0.00102996826172\n",
        "BUILD POTENTIALS: 0.0128989219666\n",
        "BUILD LP:"
       ]
      },
      {
       "output_type": "stream",
       "stream": "stdout",
       "text": [
        " 2\n",
        "\n",
        "Gurobi status= 2\n",
        "\n",
        "Gurobi status="
       ]
      },
      {
       "output_type": "stream",
       "stream": "stderr",
       "text": [
        " 0.0111927986145\n",
        "SOLVE LP: 0.00667715072632\n",
        "BUILD HYPERGRAPH: 0.0205631256104\n",
        "BUILD POTENTIALS:"
       ]
      },
      {
       "output_type": "stream",
       "stream": "stderr",
       "text": [
        " 0.10472202301\n",
        "BUILD LP:"
       ]
      },
      {
       "output_type": "stream",
       "stream": "stdout",
       "text": [
        " 2\n",
        "\n",
        "Gurobi status="
       ]
      },
      {
       "output_type": "stream",
       "stream": "stderr",
       "text": [
        " 0.25657081604\n",
        "SOLVE LP:"
       ]
      },
      {
       "output_type": "stream",
       "stream": "stderr",
       "text": [
        " 0.0753860473633\n",
        "BUILD HYPERGRAPH: 0.0207371711731\n",
        "BUILD POTENTIALS:"
       ]
      },
      {
       "output_type": "stream",
       "stream": "stderr",
       "text": [
        " 0.0851619243622\n",
        "BUILD LP:"
       ]
      },
      {
       "output_type": "stream",
       "stream": "stdout",
       "text": [
        " 2\n",
        "\n",
        "Gurobi status="
       ]
      },
      {
       "output_type": "stream",
       "stream": "stderr",
       "text": [
        " 0.19547700882\n",
        "SOLVE LP:"
       ]
      },
      {
       "output_type": "stream",
       "stream": "stderr",
       "text": [
        " 0.0776338577271\n",
        "BUILD HYPERGRAPH: 0.00554609298706\n",
        "BUILD POTENTIALS: 0.0362401008606\n",
        "BUILD LP:"
       ]
      },
      {
       "output_type": "stream",
       "stream": "stdout",
       "text": [
        " 2\n",
        "\n",
        "Gurobi status="
       ]
      },
      {
       "output_type": "stream",
       "stream": "stderr",
       "text": [
        " 0.0573570728302\n",
        "SOLVE LP: 0.0219027996063\n",
        "BUILD HYPERGRAPH: 0.00109004974365\n",
        "BUILD POTENTIALS: 0.0196130275726\n",
        "BUILD LP:"
       ]
      },
      {
       "output_type": "stream",
       "stream": "stderr",
       "text": [
        " 0.0109391212463\n",
        "SOLVE LP: 0.00505113601685\n",
        "BUILD HYPERGRAPH: 0.0213489532471\n",
        "BUILD POTENTIALS:"
       ]
      },
      {
       "output_type": "stream",
       "stream": "stderr",
       "text": [
        " 0.0729291439056\n",
        "BUILD LP:"
       ]
      },
      {
       "output_type": "stream",
       "stream": "stdout",
       "text": [
        " 2\n",
        "\n",
        "Gurobi status= 2\n",
        "\n",
        "Gurobi status="
       ]
      },
      {
       "output_type": "stream",
       "stream": "stderr",
       "text": [
        " 0.251505851746\n",
        "SOLVE LP:"
       ]
      },
      {
       "output_type": "stream",
       "stream": "stderr",
       "text": [
        " 0.0760428905487\n",
        "BUILD HYPERGRAPH: 0.0202889442444\n",
        "BUILD POTENTIALS:"
       ]
      },
      {
       "output_type": "stream",
       "stream": "stderr",
       "text": [
        " 0.0714659690857\n",
        "BUILD LP:"
       ]
      },
      {
       "output_type": "stream",
       "stream": "stdout",
       "text": [
        " 2\n",
        "\n",
        "Gurobi status="
       ]
      },
      {
       "output_type": "stream",
       "stream": "stderr",
       "text": [
        " 0.199703931808\n",
        "SOLVE LP:"
       ]
      },
      {
       "output_type": "stream",
       "stream": "stderr",
       "text": [
        " 0.0771360397339\n",
        "BUILD HYPERGRAPH:"
       ]
      },
      {
       "output_type": "stream",
       "stream": "stderr",
       "text": [
        " 0.0827980041504\n",
        "BUILD POTENTIALS:"
       ]
      },
      {
       "output_type": "stream",
       "stream": "stderr",
       "text": [
        " 0.0707368850708\n",
        "BUILD LP:"
       ]
      },
      {
       "output_type": "stream",
       "stream": "stdout",
       "text": [
        " 2\n",
        "\n",
        "Gurobi status="
       ]
      },
      {
       "output_type": "stream",
       "stream": "stderr",
       "text": [
        " 0.189069986343\n",
        "SOLVE LP:"
       ]
      },
      {
       "output_type": "stream",
       "stream": "stderr",
       "text": [
        " 0.0717380046844\n",
        "BUILD HYPERGRAPH: 0.0200960636139\n",
        "BUILD POTENTIALS:"
       ]
      },
      {
       "output_type": "stream",
       "stream": "stderr",
       "text": [
        " 0.0725648403168\n",
        "BUILD LP:"
       ]
      },
      {
       "output_type": "stream",
       "stream": "stdout",
       "text": [
        " 2\n",
        "\n",
        "Gurobi status="
       ]
      },
      {
       "output_type": "stream",
       "stream": "stderr",
       "text": [
        " 0.251361131668\n",
        "SOLVE LP:"
       ]
      },
      {
       "output_type": "stream",
       "stream": "stderr",
       "text": [
        " 0.0772910118103\n",
        "BUILD HYPERGRAPH: 0.0204219818115\n",
        "BUILD POTENTIALS:"
       ]
      },
      {
       "output_type": "stream",
       "stream": "stderr",
       "text": [
        " 0.137774944305\n",
        "BUILD LP:"
       ]
      },
      {
       "output_type": "stream",
       "stream": "stdout",
       "text": [
        " 2\n",
        "\n",
        "Gurobi status="
       ]
      },
      {
       "output_type": "stream",
       "stream": "stderr",
       "text": [
        " 0.185049057007\n",
        "SOLVE LP:"
       ]
      },
      {
       "output_type": "stream",
       "stream": "stderr",
       "text": [
        " 0.0723090171814\n",
        "BUILD HYPERGRAPH: 0.0202741622925\n",
        "BUILD POTENTIALS:"
       ]
      },
      {
       "output_type": "stream",
       "stream": "stderr",
       "text": [
        " 0.0707361698151\n",
        "BUILD LP:"
       ]
      },
      {
       "output_type": "stream",
       "stream": "stdout",
       "text": [
        " 2\n",
        "\n",
        "Gurobi status="
       ]
      },
      {
       "output_type": "stream",
       "stream": "stderr",
       "text": [
        " 0.247149944305\n",
        "SOLVE LP:"
       ]
      },
      {
       "output_type": "stream",
       "stream": "stdout",
       "text": [
        " 2\n",
        "\n",
        "Gurobi status="
       ]
      },
      {
       "output_type": "stream",
       "stream": "stderr",
       "text": [
        " 0.0723550319672\n",
        "BUILD HYPERGRAPH: 0.00113701820374\n",
        "BUILD POTENTIALS: 0.0180501937866\n",
        "BUILD LP: 0.0106711387634\n",
        "SOLVE LP: 0.00519514083862\n",
        "BUILD HYPERGRAPH:"
       ]
      },
      {
       "output_type": "stream",
       "stream": "stderr",
       "text": [
        " 0.0219478607178\n",
        "BUILD POTENTIALS:"
       ]
      },
      {
       "output_type": "stream",
       "stream": "stderr",
       "text": [
        " 0.125858068466\n",
        "BUILD LP:"
       ]
      },
      {
       "output_type": "stream",
       "stream": "stdout",
       "text": [
        " 2\n",
        "\n",
        "Gurobi status="
       ]
      },
      {
       "output_type": "stream",
       "stream": "stderr",
       "text": [
        " 0.187221050262\n",
        "SOLVE LP:"
       ]
      },
      {
       "output_type": "stream",
       "stream": "stderr",
       "text": [
        " 0.0724360942841\n",
        "BUILD HYPERGRAPH: 0.0197470188141\n",
        "BUILD POTENTIALS:"
       ]
      },
      {
       "output_type": "stream",
       "stream": "stderr",
       "text": [
        " 0.062371969223\n",
        "BUILD LP:"
       ]
      },
      {
       "output_type": "stream",
       "stream": "stdout",
       "text": [
        " 2\n",
        "\n",
        "Gurobi status="
       ]
      },
      {
       "output_type": "stream",
       "stream": "stderr",
       "text": [
        " 0.253824949265\n",
        "SOLVE LP:"
       ]
      },
      {
       "output_type": "stream",
       "stream": "stderr",
       "text": [
        " 0.0745658874512\n",
        "BUILD HYPERGRAPH: 0.0199429988861\n",
        "BUILD POTENTIALS:"
       ]
      },
      {
       "output_type": "stream",
       "stream": "stderr",
       "text": [
        " 0.0893180370331\n",
        "BUILD LP:"
       ]
      },
      {
       "output_type": "stream",
       "stream": "stdout",
       "text": [
        " 2\n",
        "\n",
        "Gurobi status="
       ]
      },
      {
       "output_type": "stream",
       "stream": "stderr",
       "text": [
        " 0.191339969635\n",
        "SOLVE LP:"
       ]
      },
      {
       "output_type": "stream",
       "stream": "stderr",
       "text": [
        " 0.0739200115204\n",
        "BUILD HYPERGRAPH: 0.0195190906525\n",
        "BUILD POTENTIALS:"
       ]
      },
      {
       "output_type": "stream",
       "stream": "stderr",
       "text": [
        " 0.0719890594482\n",
        "BUILD LP:"
       ]
      },
      {
       "output_type": "stream",
       "stream": "stdout",
       "text": [
        " 2\n",
        "\n",
        "Gurobi status="
       ]
      },
      {
       "output_type": "stream",
       "stream": "stderr",
       "text": [
        " 0.249315977097\n",
        "SOLVE LP:"
       ]
      },
      {
       "output_type": "stream",
       "stream": "stderr",
       "text": [
        " 0.0831019878387\n",
        "BUILD HYPERGRAPH: 0.0202021598816\n",
        "BUILD POTENTIALS:"
       ]
      },
      {
       "output_type": "stream",
       "stream": "stderr",
       "text": [
        " 0.126237154007\n",
        "BUILD LP:"
       ]
      },
      {
       "output_type": "stream",
       "stream": "stdout",
       "text": [
        " 2\n",
        "\n",
        "Gurobi status="
       ]
      },
      {
       "output_type": "stream",
       "stream": "stderr",
       "text": [
        " 0.194688796997\n",
        "SOLVE LP:"
       ]
      },
      {
       "output_type": "stream",
       "stream": "stderr",
       "text": [
        " 0.0745151042938\n",
        "BUILD HYPERGRAPH: 0.00550293922424\n",
        "BUILD POTENTIALS:"
       ]
      },
      {
       "output_type": "stream",
       "stream": "stderr",
       "text": [
        " 0.03977394104\n",
        "BUILD LP:"
       ]
      },
      {
       "output_type": "stream",
       "stream": "stdout",
       "text": [
        " 2\n",
        "\n",
        "Gurobi status="
       ]
      },
      {
       "output_type": "stream",
       "stream": "stderr",
       "text": [
        " 0.115313053131\n",
        "SOLVE LP: 0.0222289562225\n",
        "BUILD HYPERGRAPH: 0.00110983848572\n",
        "BUILD POTENTIALS: 0.0131177902222\n",
        "BUILD LP: 0.0111269950867\n",
        "SOLVE LP:"
       ]
      },
      {
       "output_type": "stream",
       "stream": "stderr",
       "text": [
        " 0.00507712364197\n",
        "BUILD HYPERGRAPH: 0.00591087341309\n",
        "BUILD POTENTIALS: 0.0414719581604\n",
        "BUILD LP:"
       ]
      },
      {
       "output_type": "stream",
       "stream": "stdout",
       "text": [
        " 2\n",
        "\n",
        "Gurobi status= 2\n",
        "\n",
        "Gurobi status="
       ]
      },
      {
       "output_type": "stream",
       "stream": "stderr",
       "text": [
        " 0.0537869930267\n",
        "SOLVE LP: 0.0221059322357\n",
        "BUILD HYPERGRAPH: 0.00114417076111\n",
        "BUILD POTENTIALS:"
       ]
      },
      {
       "output_type": "stream",
       "stream": "stdout",
       "text": [
        " 2\n",
        "\n",
        "Gurobi status="
       ]
      },
      {
       "output_type": "stream",
       "stream": "stderr",
       "text": [
        " 0.0391888618469\n",
        "BUILD LP: 0.0110659599304\n",
        "SOLVE LP: 0.00522208213806\n",
        "BUILD HYPERGRAPH: 0.00113415718079\n",
        "BUILD POTENTIALS:"
       ]
      },
      {
       "output_type": "stream",
       "stream": "stdout",
       "text": [
        " 2\n",
        "\n",
        "Gurobi status="
       ]
      },
      {
       "output_type": "stream",
       "stream": "stderr",
       "text": [
        " 0.0337028503418\n",
        "BUILD LP: 0.0108499526978\n",
        "SOLVE LP: 0.00510907173157\n",
        "BUILD HYPERGRAPH: 0.00112509727478\n",
        "BUILD POTENTIALS:"
       ]
      },
      {
       "output_type": "stream",
       "stream": "stdout",
       "text": [
        " 2\n",
        "\n",
        "Gurobi status="
       ]
      },
      {
       "output_type": "stream",
       "stream": "stderr",
       "text": [
        " 0.0349299907684\n",
        "BUILD LP: 0.0117290019989\n",
        "SOLVE LP: 0.00540995597839\n",
        "BUILD HYPERGRAPH: 0.00116205215454\n",
        "BUILD POTENTIALS:"
       ]
      },
      {
       "output_type": "stream",
       "stream": "stdout",
       "text": [
        " 2\n",
        "\n",
        "Gurobi status="
       ]
      },
      {
       "output_type": "stream",
       "stream": "stderr",
       "text": [
        " 0.0347211360931\n",
        "BUILD LP: 0.0110859870911\n",
        "SOLVE LP: 0.00520277023315\n",
        "BUILD HYPERGRAPH: 0.0211179256439\n",
        "BUILD POTENTIALS:"
       ]
      },
      {
       "output_type": "stream",
       "stream": "stderr",
       "text": [
        " 0.14103603363\n",
        "BUILD LP:"
       ]
      },
      {
       "output_type": "stream",
       "stream": "stdout",
       "text": [
        " 2\n",
        "\n",
        "Gurobi status="
       ]
      },
      {
       "output_type": "stream",
       "stream": "stderr",
       "text": [
        " 0.215612888336\n",
        "SOLVE LP:"
       ]
      },
      {
       "output_type": "stream",
       "stream": "stderr",
       "text": [
        " 0.0730791091919\n",
        "BUILD HYPERGRAPH: 0.00112295150757\n",
        "BUILD POTENTIALS: 0.014475107193\n",
        "BUILD LP: 0.011167049408\n",
        "SOLVE LP: 0.00493693351746\n",
        "BUILD HYPERGRAPH:"
       ]
      },
      {
       "output_type": "stream",
       "stream": "stderr",
       "text": [
        " 0.0202097892761\n",
        "BUILD POTENTIALS:"
       ]
      },
      {
       "output_type": "stream",
       "stream": "stderr",
       "text": [
        " 0.0787379741669\n",
        "BUILD LP:"
       ]
      },
      {
       "output_type": "stream",
       "stream": "stdout",
       "text": [
        " 2\n",
        "\n",
        "Gurobi status= 2\n",
        "\n",
        "Gurobi status="
       ]
      },
      {
       "output_type": "stream",
       "stream": "stderr",
       "text": [
        " 0.245991945267\n",
        "SOLVE LP:"
       ]
      },
      {
       "output_type": "stream",
       "stream": "stderr",
       "text": [
        " 0.0730819702148\n",
        "BUILD HYPERGRAPH: 0.00554394721985\n",
        "BUILD POTENTIALS: 0.00448083877563\n",
        "BUILD LP:"
       ]
      },
      {
       "output_type": "stream",
       "stream": "stdout",
       "text": [
        " 2\n",
        "\n",
        "Gurobi status="
       ]
      },
      {
       "output_type": "stream",
       "stream": "stderr",
       "text": [
        " 0.0530700683594\n",
        "SOLVE LP: 0.021430015564\n",
        "BUILD HYPERGRAPH: 0.0208280086517\n",
        "BUILD POTENTIALS:"
       ]
      },
      {
       "output_type": "stream",
       "stream": "stderr",
       "text": [
        " 0.0166199207306\n",
        "BUILD LP:"
       ]
      },
      {
       "output_type": "stream",
       "stream": "stdout",
       "text": [
        " 2\n",
        "\n",
        "Gurobi status="
       ]
      },
      {
       "output_type": "stream",
       "stream": "stderr",
       "text": [
        " 0.244853973389\n",
        "SOLVE LP:"
       ]
      },
      {
       "output_type": "stream",
       "stream": "stderr",
       "text": [
        " 0.0749678611755\n",
        "BUILD HYPERGRAPH: 0.00123405456543\n",
        "BUILD POTENTIALS: 0.000922918319702\n",
        "BUILD LP: 0.0106770992279\n",
        "SOLVE LP: 0.00487399101257\n",
        "BUILD HYPERGRAPH: 0.019877910614\n",
        "BUILD POTENTIALS:"
       ]
      },
      {
       "output_type": "stream",
       "stream": "stderr",
       "text": [
        " 0.019385099411\n",
        "BUILD LP:"
       ]
      },
      {
       "output_type": "stream",
       "stream": "stdout",
       "text": [
        " 2\n",
        "\n",
        "Gurobi status= 2\n",
        "\n",
        "Gurobi status="
       ]
      },
      {
       "output_type": "stream",
       "stream": "stderr",
       "text": [
        " 0.188616991043\n",
        "SOLVE LP:"
       ]
      },
      {
       "output_type": "stream",
       "stream": "stderr",
       "text": [
        " 0.0728139877319\n",
        "BUILD HYPERGRAPH: 0.0199410915375\n",
        "BUILD POTENTIALS: 0.0164589881897\n",
        "BUILD LP:"
       ]
      },
      {
       "output_type": "stream",
       "stream": "stdout",
       "text": [
        " 2\n",
        "\n",
        "Gurobi status="
       ]
      },
      {
       "output_type": "stream",
       "stream": "stderr",
       "text": [
        " 0.247694969177\n",
        "SOLVE LP:"
       ]
      },
      {
       "output_type": "stream",
       "stream": "stderr",
       "text": [
        " 0.0737860202789\n",
        "BUILD HYPERGRAPH: 0.019956111908\n",
        "BUILD POTENTIALS: 0.0169761180878\n",
        "BUILD LP:"
       ]
      },
      {
       "output_type": "stream",
       "stream": "stdout",
       "text": [
        " 2\n",
        "\n",
        "Gurobi status="
       ]
      },
      {
       "output_type": "stream",
       "stream": "stderr",
       "text": [
        " 0.184641838074\n",
        "SOLVE LP:"
       ]
      },
      {
       "output_type": "stream",
       "stream": "stderr",
       "text": [
        " 0.0731420516968\n",
        "BUILD HYPERGRAPH: 0.00579595565796\n",
        "BUILD POTENTIALS: 0.00466990470886\n",
        "BUILD LP:"
       ]
      },
      {
       "output_type": "stream",
       "stream": "stdout",
       "text": [
        " 2\n",
        "\n",
        "Gurobi status="
       ]
      },
      {
       "output_type": "stream",
       "stream": "stderr",
       "text": [
        " 0.0578720569611\n",
        "SOLVE LP: 0.0221600532532\n",
        "BUILD HYPERGRAPH: 0.00573492050171\n",
        "BUILD POTENTIALS: 0.00478291511536\n",
        "BUILD LP:"
       ]
      },
      {
       "output_type": "stream",
       "stream": "stdout",
       "text": [
        " 2\n",
        "\n",
        "Gurobi status="
       ]
      },
      {
       "output_type": "stream",
       "stream": "stderr",
       "text": [
        " 0.118695020676\n",
        "SOLVE LP: 0.0220649242401\n",
        "BUILD HYPERGRAPH: 0.00564503669739\n",
        "BUILD POTENTIALS: 0.00468897819519\n",
        "BUILD LP:"
       ]
      },
      {
       "output_type": "stream",
       "stream": "stdout",
       "text": [
        " 2\n",
        "\n",
        "Gurobi status="
       ]
      },
      {
       "output_type": "stream",
       "stream": "stderr",
       "text": [
        " 0.0550689697266\n",
        "SOLVE LP: 0.0222239494324\n",
        "BUILD HYPERGRAPH: 0.00113296508789\n",
        "BUILD POTENTIALS: 0.00101709365845\n",
        "BUILD LP: 0.0105018615723\n",
        "SOLVE LP: 0.00533986091614\n",
        "BUILD HYPERGRAPH: 0.00116682052612\n",
        "BUILD POTENTIALS: 0.00100708007812\n",
        "BUILD LP:"
       ]
      },
      {
       "output_type": "stream",
       "stream": "stderr",
       "text": [
        " 0.0111680030823\n",
        "SOLVE LP: 0.00505399703979\n",
        "BUILD HYPERGRAPH: 0.00635600090027\n",
        "BUILD POTENTIALS: 0.00472092628479\n",
        "BUILD LP:"
       ]
      },
      {
       "output_type": "stream",
       "stream": "stdout",
       "text": [
        " 2\n",
        "\n",
        "Gurobi status= 2\n",
        "\n",
        "Gurobi status= 2\n",
        "\n",
        "Gurobi status="
       ]
      },
      {
       "output_type": "stream",
       "stream": "stderr",
       "text": [
        " 0.0539588928223\n",
        "SOLVE LP: 0.0213060379028\n",
        "BUILD HYPERGRAPH: 0.020663022995\n",
        "BUILD POTENTIALS:"
       ]
      },
      {
       "output_type": "stream",
       "stream": "stderr",
       "text": [
        " 0.0173811912537\n",
        "BUILD LP:"
       ]
      },
      {
       "output_type": "stream",
       "stream": "stdout",
       "text": [
        " 2\n",
        "\n",
        "Gurobi status="
       ]
      },
      {
       "output_type": "stream",
       "stream": "stderr",
       "text": [
        " 0.186033010483\n",
        "SOLVE LP:"
       ]
      },
      {
       "output_type": "stream",
       "stream": "stderr",
       "text": [
        " 0.0711779594421\n",
        "BUILD HYPERGRAPH:"
       ]
      },
      {
       "output_type": "stream",
       "stream": "stderr",
       "text": [
        " 0.0811078548431\n",
        "BUILD POTENTIALS: 0.0169239044189\n",
        "BUILD LP:"
       ]
      },
      {
       "output_type": "stream",
       "stream": "stdout",
       "text": [
        " 2\n",
        "\n",
        "Gurobi status="
       ]
      },
      {
       "output_type": "stream",
       "stream": "stderr",
       "text": [
        " 0.184726953506\n",
        "SOLVE LP:"
       ]
      },
      {
       "output_type": "stream",
       "stream": "stderr",
       "text": [
        " 0.091500043869\n",
        "BUILD HYPERGRAPH: 0.0212149620056\n",
        "BUILD POTENTIALS: 0.0161290168762\n",
        "BUILD LP:"
       ]
      },
      {
       "output_type": "stream",
       "stream": "stdout",
       "text": [
        " 2\n",
        "\n",
        "Gurobi status="
       ]
      },
      {
       "output_type": "stream",
       "stream": "stderr",
       "text": [
        " 0.186326980591\n",
        "SOLVE LP:"
       ]
      },
      {
       "output_type": "stream",
       "stream": "stderr",
       "text": [
        " 0.134590148926\n",
        "BUILD HYPERGRAPH: 0.0201711654663\n",
        "BUILD POTENTIALS: 0.0164580345154\n",
        "BUILD LP:"
       ]
      },
      {
       "output_type": "stream",
       "stream": "stdout",
       "text": [
        " 2\n",
        "\n",
        "Gurobi status="
       ]
      },
      {
       "output_type": "stream",
       "stream": "stderr",
       "text": [
        " 0.184859037399\n",
        "SOLVE LP:"
       ]
      },
      {
       "output_type": "stream",
       "stream": "stderr",
       "text": [
        " 0.0730061531067\n",
        "BUILD HYPERGRAPH: 0.019495010376\n",
        "BUILD POTENTIALS: 0.0169460773468\n",
        "BUILD LP:"
       ]
      },
      {
       "output_type": "stream",
       "stream": "stdout",
       "text": [
        " 2\n",
        "\n",
        "Gurobi status="
       ]
      },
      {
       "output_type": "stream",
       "stream": "stderr",
       "text": [
        " 0.249397993088\n",
        "SOLVE LP:"
       ]
      },
      {
       "output_type": "stream",
       "stream": "stderr",
       "text": [
        " 0.0819840431213\n",
        "BUILD HYPERGRAPH: 0.0208051204681\n",
        "BUILD POTENTIALS: 0.0170578956604\n",
        "BUILD LP:"
       ]
      },
      {
       "output_type": "stream",
       "stream": "stdout",
       "text": [
        " 2\n",
        "\n",
        "Gurobi status="
       ]
      },
      {
       "output_type": "stream",
       "stream": "stderr",
       "text": [
        " 0.185579061508\n",
        "SOLVE LP:"
       ]
      },
      {
       "output_type": "stream",
       "stream": "stderr",
       "text": [
        " 0.0759119987488\n",
        "BUILD HYPERGRAPH: 0.0204401016235\n",
        "BUILD POTENTIALS: 0.0164790153503\n",
        "BUILD LP:"
       ]
      },
      {
       "output_type": "stream",
       "stream": "stdout",
       "text": [
        " 2\n",
        "\n",
        "Gurobi status="
       ]
      },
      {
       "output_type": "stream",
       "stream": "stderr",
       "text": [
        " 0.2482380867\n",
        "SOLVE LP:"
       ]
      },
      {
       "output_type": "stream",
       "stream": "stderr",
       "text": [
        " 0.0740530490875\n",
        "BUILD HYPERGRAPH: 0.0195729732513\n",
        "BUILD POTENTIALS: 0.0175268650055\n",
        "BUILD LP:"
       ]
      },
      {
       "output_type": "stream",
       "stream": "stdout",
       "text": [
        " 2\n",
        "\n",
        "Gurobi status="
       ]
      },
      {
       "output_type": "stream",
       "stream": "stderr",
       "text": [
        " 0.18697309494\n",
        "SOLVE LP:"
       ]
      },
      {
       "output_type": "stream",
       "stream": "stderr",
       "text": [
        " 0.0743110179901\n",
        "BUILD HYPERGRAPH: 0.0194530487061\n",
        "BUILD POTENTIALS: 0.0177271366119\n",
        "BUILD LP:"
       ]
      },
      {
       "output_type": "stream",
       "stream": "stdout",
       "text": [
        " 2\n",
        "\n",
        "Gurobi status="
       ]
      },
      {
       "output_type": "stream",
       "stream": "stderr",
       "text": [
        " 0.248187065125\n",
        "SOLVE LP:"
       ]
      },
      {
       "output_type": "stream",
       "stream": "stderr",
       "text": [
        " 0.0717279911041\n",
        "BUILD HYPERGRAPH: 0.0198459625244\n",
        "BUILD POTENTIALS: 0.017019033432\n",
        "BUILD LP:"
       ]
      },
      {
       "output_type": "stream",
       "stream": "stdout",
       "text": [
        " 2\n",
        "\n",
        "Gurobi status="
       ]
      },
      {
       "output_type": "stream",
       "stream": "stderr",
       "text": [
        " 0.185484886169\n",
        "SOLVE LP:"
       ]
      },
      {
       "output_type": "stream",
       "stream": "stderr",
       "text": [
        " 0.0745429992676\n",
        "BUILD HYPERGRAPH:"
       ]
      },
      {
       "output_type": "stream",
       "stream": "stderr",
       "text": [
        " 0.0815558433533\n",
        "BUILD POTENTIALS: 0.0171730518341\n",
        "BUILD LP:"
       ]
      },
      {
       "output_type": "stream",
       "stream": "stdout",
       "text": [
        " 2\n",
        "\n",
        "Gurobi status="
       ]
      },
      {
       "output_type": "stream",
       "stream": "stderr",
       "text": [
        " 0.188182115555\n",
        "SOLVE LP:"
       ]
      },
      {
       "output_type": "stream",
       "stream": "stderr",
       "text": [
        " 0.0738310813904\n",
        "BUILD HYPERGRAPH: 0.0201559066772\n",
        "BUILD POTENTIALS: 0.0164589881897\n",
        "BUILD LP:"
       ]
      },
      {
       "output_type": "stream",
       "stream": "stdout",
       "text": [
        " 2\n",
        "\n",
        "Gurobi status="
       ]
      },
      {
       "output_type": "stream",
       "stream": "stderr",
       "text": [
        " 0.183538913727\n",
        "SOLVE LP:"
       ]
      },
      {
       "output_type": "stream",
       "stream": "stderr",
       "text": [
        " 0.13285112381\n",
        "BUILD HYPERGRAPH: 0.020005941391\n",
        "BUILD POTENTIALS: 0.0166699886322\n",
        "BUILD LP:"
       ]
      },
      {
       "output_type": "stream",
       "stream": "stdout",
       "text": [
        " 2\n",
        "\n",
        "Gurobi status="
       ]
      },
      {
       "output_type": "stream",
       "stream": "stderr",
       "text": [
        " 0.184298038483\n",
        "SOLVE LP:"
       ]
      },
      {
       "output_type": "stream",
       "stream": "stderr",
       "text": [
        " 0.0707609653473\n",
        "BUILD HYPERGRAPH: 0.0199890136719\n",
        "BUILD POTENTIALS: 0.0176930427551\n",
        "BUILD LP:"
       ]
      },
      {
       "output_type": "stream",
       "stream": "stdout",
       "text": [
        " 2\n",
        "\n",
        "Gurobi status="
       ]
      },
      {
       "output_type": "stream",
       "stream": "stderr",
       "text": [
        " 0.183612108231\n",
        "SOLVE LP:"
       ]
      },
      {
       "output_type": "stream",
       "stream": "stderr",
       "text": [
        " 0.138713121414\n",
        "BUILD HYPERGRAPH: 0.0201971530914\n",
        "BUILD POTENTIALS: 0.0172147750854\n",
        "BUILD LP:"
       ]
      },
      {
       "output_type": "stream",
       "stream": "stdout",
       "text": [
        " 2\n",
        "\n",
        "Gurobi status="
       ]
      },
      {
       "output_type": "stream",
       "stream": "stderr",
       "text": [
        " 0.184098005295\n",
        "SOLVE LP:"
       ]
      },
      {
       "output_type": "stream",
       "stream": "stderr",
       "text": [
        " 0.0731148719788\n",
        "BUILD HYPERGRAPH: 0.0055820941925\n",
        "BUILD POTENTIALS: 0.00445008277893\n",
        "BUILD LP:"
       ]
      },
      {
       "output_type": "stream",
       "stream": "stdout",
       "text": [
        " 2\n",
        "\n",
        "Gurobi status="
       ]
      },
      {
       "output_type": "stream",
       "stream": "stderr",
       "text": [
        " 0.0521500110626\n",
        "SOLVE LP: 0.0214700698853\n",
        "BUILD HYPERGRAPH: 0.00570487976074\n",
        "BUILD POTENTIALS: 0.00435209274292\n",
        "BUILD LP:"
       ]
      },
      {
       "output_type": "stream",
       "stream": "stdout",
       "text": [
        " 2\n",
        "\n",
        "Gurobi status="
       ]
      },
      {
       "output_type": "stream",
       "stream": "stderr",
       "text": [
        " 0.0537369251251\n",
        "SOLVE LP: 0.0212171077728\n",
        "BUILD HYPERGRAPH: 0.0208470821381\n",
        "BUILD POTENTIALS:"
       ]
      },
      {
       "output_type": "stream",
       "stream": "stderr",
       "text": [
        " 0.0165860652924\n",
        "BUILD LP:"
       ]
      },
      {
       "output_type": "stream",
       "stream": "stdout",
       "text": [
        " 2\n",
        "\n",
        "Gurobi status="
       ]
      },
      {
       "output_type": "stream",
       "stream": "stderr",
       "text": [
        " 0.249573945999\n",
        "SOLVE LP:"
       ]
      },
      {
       "output_type": "stream",
       "stream": "stderr",
       "text": [
        " 0.0720419883728\n",
        "BUILD HYPERGRAPH: 0.0206880569458\n",
        "BUILD POTENTIALS: 0.0175321102142\n",
        "BUILD LP:"
       ]
      },
      {
       "output_type": "stream",
       "stream": "stdout",
       "text": [
        " 2\n",
        "\n",
        "Gurobi status="
       ]
      },
      {
       "output_type": "stream",
       "stream": "stderr",
       "text": [
        " 0.219177961349\n",
        "SOLVE LP:"
       ]
      },
      {
       "output_type": "stream",
       "stream": "stderr",
       "text": [
        " 0.0724549293518\n",
        "BUILD HYPERGRAPH: 0.0198781490326\n",
        "BUILD POTENTIALS: 0.0173900127411\n",
        "BUILD LP:"
       ]
      },
      {
       "output_type": "stream",
       "stream": "stdout",
       "text": [
        " 2\n",
        "\n",
        "Gurobi status="
       ]
      },
      {
       "output_type": "stream",
       "stream": "stderr",
       "text": [
        " 0.246573925018\n",
        "SOLVE LP:"
       ]
      },
      {
       "output_type": "stream",
       "stream": "stderr",
       "text": [
        " 0.0731670856476\n",
        "BUILD HYPERGRAPH: 0.0199720859528\n",
        "BUILD POTENTIALS: 0.0171871185303\n",
        "BUILD LP:"
       ]
      },
      {
       "output_type": "stream",
       "stream": "stdout",
       "text": [
        " 2\n",
        "\n",
        "Gurobi status="
       ]
      },
      {
       "output_type": "stream",
       "stream": "stderr",
       "text": [
        " 0.183258056641\n",
        "SOLVE LP:"
       ]
      },
      {
       "output_type": "stream",
       "stream": "stderr",
       "text": [
        " 0.0706429481506\n",
        "BUILD HYPERGRAPH:"
       ]
      },
      {
       "output_type": "stream",
       "stream": "stderr",
       "text": [
        " 0.0823838710785\n",
        "BUILD POTENTIALS: 0.0165419578552\n",
        "BUILD LP:"
       ]
      },
      {
       "output_type": "stream",
       "stream": "stdout",
       "text": [
        " 2\n",
        "\n",
        "Gurobi status="
       ]
      },
      {
       "output_type": "stream",
       "stream": "stderr",
       "text": [
        " 0.1950340271\n",
        "SOLVE LP:"
       ]
      },
      {
       "output_type": "stream",
       "stream": "stderr",
       "text": [
        " 0.0723371505737\n",
        "BUILD HYPERGRAPH: 0.0197541713715\n",
        "BUILD POTENTIALS: 0.016608953476\n",
        "BUILD LP:"
       ]
      },
      {
       "output_type": "stream",
       "stream": "stdout",
       "text": [
        " 2\n",
        "\n",
        "Gurobi status="
       ]
      },
      {
       "output_type": "stream",
       "stream": "stderr",
       "text": [
        " 0.24197101593\n",
        "SOLVE LP:"
       ]
      },
      {
       "output_type": "stream",
       "stream": "stderr",
       "text": [
        " 0.0726361274719\n",
        "BUILD HYPERGRAPH: 0.0197031497955\n",
        "BUILD POTENTIALS: 0.0164740085602\n",
        "BUILD LP:"
       ]
      },
      {
       "output_type": "stream",
       "stream": "stdout",
       "text": [
        " 2\n",
        "\n",
        "Gurobi status="
       ]
      },
      {
       "output_type": "stream",
       "stream": "stderr",
       "text": [
        " 0.182960987091\n",
        "SOLVE LP:"
       ]
      },
      {
       "output_type": "stream",
       "stream": "stderr",
       "text": [
        " 0.0714609622955\n",
        "BUILD HYPERGRAPH: 0.0197849273682\n",
        "BUILD POTENTIALS: 0.0170249938965\n",
        "BUILD LP:"
       ]
      },
      {
       "output_type": "stream",
       "stream": "stdout",
       "text": [
        " 2\n",
        "\n",
        "Gurobi status="
       ]
      },
      {
       "output_type": "stream",
       "stream": "stderr",
       "text": [
        " 0.257308959961\n",
        "SOLVE LP:"
       ]
      },
      {
       "output_type": "stream",
       "stream": "stderr",
       "text": [
        " 0.074392080307\n",
        "BUILD HYPERGRAPH: 0.00119304656982\n",
        "BUILD POTENTIALS: 0.000904083251953\n",
        "BUILD LP: 0.0103659629822\n",
        "SOLVE LP: 0.00469017028809\n",
        "BUILD HYPERGRAPH: 0.0208811759949\n",
        "BUILD POTENTIALS:"
       ]
      },
      {
       "output_type": "stream",
       "stream": "stderr",
       "text": [
        " 0.018059015274\n",
        "BUILD LP:"
       ]
      },
      {
       "output_type": "stream",
       "stream": "stdout",
       "text": [
        " 2\n",
        "\n",
        "Gurobi status= 2\n",
        "\n",
        "Gurobi status="
       ]
      },
      {
       "output_type": "stream",
       "stream": "stderr",
       "text": [
        " 0.189283132553\n",
        "SOLVE LP:"
       ]
      },
      {
       "output_type": "stream",
       "stream": "stderr",
       "text": [
        " 0.0745618343353\n",
        "BUILD HYPERGRAPH: 0.0198400020599\n",
        "BUILD POTENTIALS: 0.0170881748199\n",
        "BUILD LP:"
       ]
      },
      {
       "output_type": "stream",
       "stream": "stdout",
       "text": [
        " 2\n",
        "\n",
        "Gurobi status="
       ]
      },
      {
       "output_type": "stream",
       "stream": "stderr",
       "text": [
        " 0.247601985931\n",
        "SOLVE LP:"
       ]
      },
      {
       "output_type": "stream",
       "stream": "stderr",
       "text": [
        " 0.0762801170349\n",
        "BUILD HYPERGRAPH: 0.0205919742584\n",
        "BUILD POTENTIALS: 0.0169279575348\n",
        "BUILD LP:"
       ]
      },
      {
       "output_type": "stream",
       "stream": "stdout",
       "text": [
        " 2\n",
        "\n",
        "Gurobi status="
       ]
      },
      {
       "output_type": "stream",
       "stream": "stderr",
       "text": [
        " 0.187380075455\n",
        "SOLVE LP:"
       ]
      },
      {
       "output_type": "stream",
       "stream": "stderr",
       "text": [
        " 0.0750269889832\n",
        "BUILD HYPERGRAPH: 0.019681930542\n",
        "BUILD POTENTIALS: 0.0171120166779\n",
        "BUILD LP:"
       ]
      },
      {
       "output_type": "stream",
       "stream": "stdout",
       "text": [
        " 2\n",
        "\n",
        "Gurobi status="
       ]
      },
      {
       "output_type": "stream",
       "stream": "stderr",
       "text": [
        " 0.247102975845\n",
        "SOLVE LP:"
       ]
      },
      {
       "output_type": "stream",
       "stream": "stderr",
       "text": [
        " 0.0742170810699\n",
        "BUILD HYPERGRAPH: 0.019583940506\n",
        "BUILD POTENTIALS: 0.0174601078033\n",
        "BUILD LP:"
       ]
      },
      {
       "output_type": "stream",
       "stream": "stdout",
       "text": [
        " 2\n",
        "\n",
        "Gurobi status="
       ]
      },
      {
       "output_type": "stream",
       "stream": "stderr",
       "text": [
        " 0.185483932495\n",
        "SOLVE LP:"
       ]
      },
      {
       "output_type": "stream",
       "stream": "stderr",
       "text": [
        " 0.0761020183563\n",
        "BUILD HYPERGRAPH: 0.0196731090546\n",
        "BUILD POTENTIALS: 0.0165340900421\n",
        "BUILD LP:"
       ]
      },
      {
       "output_type": "stream",
       "stream": "stdout",
       "text": [
        " 2\n",
        "\n",
        "Gurobi status="
       ]
      },
      {
       "output_type": "stream",
       "stream": "stderr",
       "text": [
        " 0.246848106384\n",
        "SOLVE LP:"
       ]
      },
      {
       "output_type": "stream",
       "stream": "stderr",
       "text": [
        " 0.0758829116821\n",
        "BUILD HYPERGRAPH: 0.0202050209045\n",
        "BUILD POTENTIALS: 0.0168430805206\n",
        "BUILD LP:"
       ]
      },
      {
       "output_type": "stream",
       "stream": "stdout",
       "text": [
        " 2\n",
        "\n",
        "Gurobi status="
       ]
      },
      {
       "output_type": "stream",
       "stream": "stderr",
       "text": [
        " 0.184484004974\n",
        "SOLVE LP:"
       ]
      },
      {
       "output_type": "stream",
       "stream": "stderr",
       "text": [
        " 0.134707927704\n",
        "BUILD HYPERGRAPH: 0.0202491283417\n",
        "BUILD POTENTIALS: 0.0171089172363\n",
        "BUILD LP:"
       ]
      },
      {
       "output_type": "stream",
       "stream": "stdout",
       "text": [
        " 2\n",
        "\n",
        "Gurobi status="
       ]
      },
      {
       "output_type": "stream",
       "stream": "stderr",
       "text": [
        " 0.188167095184\n",
        "SOLVE LP:"
       ]
      },
      {
       "output_type": "stream",
       "stream": "stderr",
       "text": [
        " 0.075562953949\n",
        "BUILD HYPERGRAPH: 0.0195009708405\n",
        "BUILD POTENTIALS: 0.0172379016876\n",
        "BUILD LP:"
       ]
      },
      {
       "output_type": "stream",
       "stream": "stdout",
       "text": [
        " 2\n",
        "\n",
        "Gurobi status="
       ]
      },
      {
       "output_type": "stream",
       "stream": "stderr",
       "text": [
        " 0.252192020416\n",
        "SOLVE LP:"
       ]
      },
      {
       "output_type": "stream",
       "stream": "stderr",
       "text": [
        " 0.0727710723877\n",
        "BUILD HYPERGRAPH: 0.0201539993286\n",
        "BUILD POTENTIALS: 0.0169589519501\n",
        "BUILD LP:"
       ]
      },
      {
       "output_type": "stream",
       "stream": "stdout",
       "text": [
        " 2\n",
        "\n",
        "Gurobi status="
       ]
      },
      {
       "output_type": "stream",
       "stream": "stderr",
       "text": [
        " 0.184822797775\n",
        "SOLVE LP:"
       ]
      },
      {
       "output_type": "stream",
       "stream": "stderr",
       "text": [
        " 0.0728390216827\n",
        "BUILD HYPERGRAPH: 0.0198230743408\n",
        "BUILD POTENTIALS: 0.0166540145874\n",
        "BUILD LP:"
       ]
      },
      {
       "output_type": "stream",
       "stream": "stdout",
       "text": [
        " 2\n",
        "\n",
        "Gurobi status="
       ]
      },
      {
       "output_type": "stream",
       "stream": "stderr",
       "text": [
        " 0.249189853668\n",
        "SOLVE LP:"
       ]
      },
      {
       "output_type": "stream",
       "stream": "stderr",
       "text": [
        " 0.073637008667\n",
        "BUILD HYPERGRAPH: 0.0200409889221\n",
        "BUILD POTENTIALS: 0.0169460773468\n",
        "BUILD LP:"
       ]
      },
      {
       "output_type": "stream",
       "stream": "stdout",
       "text": [
        " 2\n",
        "\n",
        "Gurobi status="
       ]
      },
      {
       "output_type": "stream",
       "stream": "stderr",
       "text": [
        " 0.191330194473\n",
        "SOLVE LP:"
       ]
      },
      {
       "output_type": "stream",
       "stream": "stderr",
       "text": [
        " 0.0721719264984\n",
        "BUILD HYPERGRAPH: 0.0199809074402\n",
        "BUILD POTENTIALS: 0.0171279907227\n",
        "BUILD LP:"
       ]
      },
      {
       "output_type": "stream",
       "stream": "stdout",
       "text": [
        " 2\n",
        "\n",
        "Gurobi status="
       ]
      },
      {
       "output_type": "stream",
       "stream": "stderr",
       "text": [
        " 0.246622085571\n",
        "SOLVE LP:"
       ]
      },
      {
       "output_type": "stream",
       "stream": "stderr",
       "text": [
        " 0.0732018947601\n",
        "BUILD HYPERGRAPH: 0.0201449394226\n",
        "BUILD POTENTIALS: 0.0174248218536\n",
        "BUILD LP:"
       ]
      },
      {
       "output_type": "stream",
       "stream": "stdout",
       "text": [
        " 2\n",
        "\n",
        "Gurobi status="
       ]
      },
      {
       "output_type": "stream",
       "stream": "stderr",
       "text": [
        " 0.187058925629\n",
        "SOLVE LP:"
       ]
      },
      {
       "output_type": "stream",
       "stream": "stderr",
       "text": [
        " 0.0731999874115\n",
        "BUILD HYPERGRAPH: 0.0011420249939\n",
        "BUILD POTENTIALS: 0.000936031341553\n",
        "BUILD LP: 0.0103042125702\n",
        "SOLVE LP: 0.00487613677979\n",
        "BUILD HYPERGRAPH: 0.00613117218018\n",
        "BUILD POTENTIALS: 0.00490188598633\n",
        "BUILD LP:"
       ]
      },
      {
       "output_type": "stream",
       "stream": "stdout",
       "text": [
        " 2\n",
        "\n",
        "Gurobi status= 2\n",
        "\n",
        "Gurobi status="
       ]
      },
      {
       "output_type": "stream",
       "stream": "stderr",
       "text": [
        " 0.116736888885\n",
        "SOLVE LP: 0.0226941108704\n",
        "BUILD HYPERGRAPH: 0.0213930606842\n",
        "BUILD POTENTIALS:"
       ]
      },
      {
       "output_type": "stream",
       "stream": "stderr",
       "text": [
        " 0.0168509483337\n",
        "BUILD LP:"
       ]
      },
      {
       "output_type": "stream",
       "stream": "stdout",
       "text": [
        " 2\n",
        "\n",
        "Gurobi status="
       ]
      },
      {
       "output_type": "stream",
       "stream": "stderr",
       "text": [
        " 0.225511074066\n",
        "SOLVE LP:"
       ]
      },
      {
       "output_type": "stream",
       "stream": "stderr",
       "text": [
        " 0.0730128288269\n",
        "BUILD HYPERGRAPH: 0.0195560455322\n",
        "BUILD POTENTIALS: 0.0173490047455\n",
        "BUILD LP:"
       ]
      },
      {
       "output_type": "stream",
       "stream": "stdout",
       "text": [
        " 2\n",
        "\n",
        "Gurobi status="
       ]
      },
      {
       "output_type": "stream",
       "stream": "stderr",
       "text": [
        " 0.245355844498\n",
        "SOLVE LP:"
       ]
      },
      {
       "output_type": "stream",
       "stream": "stderr",
       "text": [
        " 0.073578119278\n",
        "BUILD HYPERGRAPH: 0.00571894645691\n",
        "BUILD POTENTIALS: 0.00469899177551\n",
        "BUILD LP:"
       ]
      },
      {
       "output_type": "stream",
       "stream": "stdout",
       "text": [
        " 2\n",
        "\n",
        "Gurobi status="
       ]
      },
      {
       "output_type": "stream",
       "stream": "stderr",
       "text": [
        " 0.0546858310699\n",
        "SOLVE LP: 0.022451877594\n",
        "BUILD HYPERGRAPH: 0.0209059715271\n",
        "BUILD POTENTIALS:"
       ]
      },
      {
       "output_type": "stream",
       "stream": "stderr",
       "text": [
        " 0.0167849063873\n",
        "BUILD LP:"
       ]
      },
      {
       "output_type": "stream",
       "stream": "stdout",
       "text": [
        " 2\n",
        "\n",
        "Gurobi status="
       ]
      },
      {
       "output_type": "stream",
       "stream": "stderr",
       "text": [
        " 0.186263084412\n",
        "SOLVE LP:"
       ]
      },
      {
       "output_type": "stream",
       "stream": "stderr",
       "text": [
        " 0.0735540390015\n",
        "BUILD HYPERGRAPH: 0.0196979045868\n",
        "BUILD POTENTIALS: 0.0169789791107\n",
        "BUILD LP:"
       ]
      },
      {
       "output_type": "stream",
       "stream": "stdout",
       "text": [
        " 2\n",
        "\n",
        "Gurobi status="
       ]
      },
      {
       "output_type": "stream",
       "stream": "stderr",
       "text": [
        " 0.256831884384\n",
        "SOLVE LP:"
       ]
      },
      {
       "output_type": "stream",
       "stream": "stderr",
       "text": [
        " 0.0710961818695\n",
        "BUILD HYPERGRAPH: 0.0196928977966\n",
        "BUILD POTENTIALS: 0.0167169570923\n",
        "BUILD LP:"
       ]
      },
      {
       "output_type": "stream",
       "stream": "stdout",
       "text": [
        " 2\n",
        "\n",
        "Gurobi status="
       ]
      },
      {
       "output_type": "stream",
       "stream": "stderr",
       "text": [
        " 0.184175014496\n",
        "SOLVE LP:"
       ]
      },
      {
       "output_type": "stream",
       "stream": "stderr",
       "text": [
        " 0.0720210075378\n",
        "BUILD HYPERGRAPH: 0.0059449672699\n",
        "BUILD POTENTIALS: 0.00444507598877\n",
        "BUILD LP:"
       ]
      },
      {
       "output_type": "stream",
       "stream": "stdout",
       "text": [
        " 2\n",
        "\n",
        "Gurobi status="
       ]
      },
      {
       "output_type": "stream",
       "stream": "stderr",
       "text": [
        " 0.115339994431\n",
        "SOLVE LP: 0.0218920707703\n",
        "BUILD HYPERGRAPH: 0.0208880901337\n",
        "BUILD POTENTIALS:"
       ]
      },
      {
       "output_type": "stream",
       "stream": "stderr",
       "text": [
        " 0.0171210765839\n",
        "BUILD LP:"
       ]
      },
      {
       "output_type": "stream",
       "stream": "stdout",
       "text": [
        " 2\n",
        "\n",
        "Gurobi status="
       ]
      },
      {
       "output_type": "stream",
       "stream": "stderr",
       "text": [
        " 0.188134908676\n",
        "SOLVE LP:"
       ]
      },
      {
       "output_type": "stream",
       "stream": "stderr",
       "text": [
        " 0.0709848403931\n",
        "BUILD HYPERGRAPH: 0.019336938858\n",
        "BUILD POTENTIALS: 0.0166158676147\n",
        "BUILD LP:"
       ]
      },
      {
       "output_type": "stream",
       "stream": "stdout",
       "text": [
        " 2\n",
        "\n",
        "Gurobi status="
       ]
      },
      {
       "output_type": "stream",
       "stream": "stderr",
       "text": [
        " 0.243942022324\n",
        "SOLVE LP:"
       ]
      },
      {
       "output_type": "stream",
       "stream": "stderr",
       "text": [
        " 0.0744969844818\n",
        "BUILD HYPERGRAPH: 0.00559377670288\n",
        "BUILD POTENTIALS: 0.00457882881165\n",
        "BUILD LP:"
       ]
      },
      {
       "output_type": "stream",
       "stream": "stdout",
       "text": [
        " 2\n",
        "\n",
        "Gurobi status="
       ]
      },
      {
       "output_type": "stream",
       "stream": "stderr",
       "text": [
        " 0.0532441139221\n",
        "SOLVE LP: 0.0225279331207\n",
        "BUILD HYPERGRAPH: 0.0208601951599\n",
        "BUILD POTENTIALS:"
       ]
      },
      {
       "output_type": "stream",
       "stream": "stderr",
       "text": [
        " 0.0175170898438\n",
        "BUILD LP:"
       ]
      },
      {
       "output_type": "stream",
       "stream": "stdout",
       "text": [
        " 2\n",
        "\n",
        "Gurobi status="
       ]
      },
      {
       "output_type": "stream",
       "stream": "stderr",
       "text": [
        " 0.186276912689\n",
        "SOLVE LP:"
       ]
      },
      {
       "output_type": "stream",
       "stream": "stderr",
       "text": [
        " 0.0717730522156\n",
        "BUILD HYPERGRAPH: 0.0198619365692\n",
        "BUILD POTENTIALS: 0.0178899765015\n",
        "BUILD LP:"
       ]
      },
      {
       "output_type": "stream",
       "stream": "stdout",
       "text": [
        " 2\n",
        "\n",
        "Gurobi status="
       ]
      },
      {
       "output_type": "stream",
       "stream": "stderr",
       "text": [
        " 0.249994039536\n",
        "SOLVE LP:"
       ]
      },
      {
       "output_type": "stream",
       "stream": "stdout",
       "text": [
        " 2\n",
        "\n",
        "Gurobi status= 2\n",
        "\n",
        "Gurobi status="
       ]
      },
      {
       "output_type": "stream",
       "stream": "stderr",
       "text": [
        " 0.0715401172638\n",
        "BUILD HYPERGRAPH: 0.00112390518188\n",
        "BUILD POTENTIALS: 0.000933885574341\n",
        "BUILD LP: 0.0104839801788\n",
        "SOLVE LP: 0.0046980381012\n",
        "BUILD HYPERGRAPH: 0.00114798545837\n",
        "BUILD POTENTIALS: 0.00101494789124\n",
        "BUILD LP: 0.0113348960876\n",
        "SOLVE LP: 0.00528693199158\n",
        "BUILD HYPERGRAPH:"
       ]
      },
      {
       "output_type": "stream",
       "stream": "stderr",
       "text": [
        " 0.0214500427246\n",
        "BUILD POTENTIALS: 0.0185298919678\n",
        "BUILD LP:"
       ]
      },
      {
       "output_type": "stream",
       "stream": "stdout",
       "text": [
        " 2\n",
        "\n",
        "Gurobi status="
       ]
      },
      {
       "output_type": "stream",
       "stream": "stderr",
       "text": [
        " 0.184756040573\n",
        "SOLVE LP:"
       ]
      },
      {
       "output_type": "stream",
       "stream": "stderr",
       "text": [
        " 0.0708928108215\n",
        "BUILD HYPERGRAPH:"
       ]
      },
      {
       "output_type": "stream",
       "stream": "stderr",
       "text": [
        " 0.0831048488617\n",
        "BUILD POTENTIALS: 0.0167808532715\n",
        "BUILD LP:"
       ]
      },
      {
       "output_type": "stream",
       "stream": "stdout",
       "text": [
        " 2\n",
        "\n",
        "Gurobi status="
       ]
      },
      {
       "output_type": "stream",
       "stream": "stderr",
       "text": [
        " 0.187342882156\n",
        "SOLVE LP:"
       ]
      },
      {
       "output_type": "stream",
       "stream": "stderr",
       "text": [
        " 0.0723569393158\n",
        "BUILD HYPERGRAPH: 0.00591087341309\n",
        "BUILD POTENTIALS: 0.0049729347229\n",
        "BUILD LP:"
       ]
      },
      {
       "output_type": "stream",
       "stream": "stdout",
       "text": [
        " 2\n",
        "\n",
        "Gurobi status="
       ]
      },
      {
       "output_type": "stream",
       "stream": "stderr",
       "text": [
        " 0.0542149543762\n",
        "SOLVE LP: 0.0217740535736\n",
        "BUILD HYPERGRAPH: 0.00111508369446\n",
        "BUILD POTENTIALS: 0.000937938690186\n",
        "BUILD LP: 0.0105800628662\n",
        "SOLVE LP: 0.00531482696533\n",
        "BUILD HYPERGRAPH:"
       ]
      },
      {
       "output_type": "stream",
       "stream": "stderr",
       "text": [
        " 0.0207569599152\n",
        "BUILD POTENTIALS: 0.0175170898438\n",
        "BUILD LP:"
       ]
      },
      {
       "output_type": "stream",
       "stream": "stdout",
       "text": [
        " 2\n",
        "\n",
        "Gurobi status= 2\n",
        "\n",
        "Gurobi status="
       ]
      },
      {
       "output_type": "stream",
       "stream": "stderr",
       "text": [
        " 0.250146865845\n",
        "SOLVE LP:"
       ]
      },
      {
       "output_type": "stream",
       "stream": "stderr",
       "text": [
        " 0.0734910964966\n",
        "BUILD HYPERGRAPH: 0.0199768543243\n",
        "BUILD POTENTIALS: 0.0176060199738\n",
        "BUILD LP:"
       ]
      },
      {
       "output_type": "stream",
       "stream": "stdout",
       "text": [
        " 2\n",
        "\n",
        "Gurobi status="
       ]
      },
      {
       "output_type": "stream",
       "stream": "stderr",
       "text": [
        " 0.184817075729\n",
        "SOLVE LP:"
       ]
      },
      {
       "output_type": "stream",
       "stream": "stderr",
       "text": [
        " 0.0729129314423\n",
        "BUILD HYPERGRAPH: 0.0199160575867\n",
        "BUILD POTENTIALS: 0.0172340869904\n",
        "BUILD LP:"
       ]
      },
      {
       "output_type": "stream",
       "stream": "stdout",
       "text": [
        " 2\n",
        "\n",
        "Gurobi status="
       ]
      },
      {
       "output_type": "stream",
       "stream": "stderr",
       "text": [
        " 0.249449968338\n",
        "SOLVE LP:"
       ]
      },
      {
       "output_type": "stream",
       "stream": "stderr",
       "text": [
        " 0.071191072464\n",
        "BUILD HYPERGRAPH: 0.02010679245\n",
        "BUILD POTENTIALS: 0.0170969963074\n",
        "BUILD LP:"
       ]
      },
      {
       "output_type": "stream",
       "stream": "stdout",
       "text": [
        " 2\n",
        "\n",
        "Gurobi status="
       ]
      },
      {
       "output_type": "stream",
       "stream": "stderr",
       "text": [
        " 0.187417984009\n",
        "SOLVE LP:"
       ]
      },
      {
       "output_type": "stream",
       "stream": "stderr",
       "text": [
        " 0.0716590881348\n",
        "BUILD HYPERGRAPH: 0.019700050354\n",
        "BUILD POTENTIALS: 0.0180058479309\n",
        "BUILD LP:"
       ]
      },
      {
       "output_type": "stream",
       "stream": "stdout",
       "text": [
        " 2\n",
        "\n",
        "Gurobi status="
       ]
      },
      {
       "output_type": "stream",
       "stream": "stderr",
       "text": [
        " 0.248202085495\n",
        "SOLVE LP:"
       ]
      },
      {
       "output_type": "stream",
       "stream": "stderr",
       "text": [
        " 0.0751059055328\n",
        "BUILD HYPERGRAPH: 0.0202178955078\n",
        "BUILD POTENTIALS: 0.0164110660553\n",
        "BUILD LP:"
       ]
      },
      {
       "output_type": "stream",
       "stream": "stdout",
       "text": [
        " 2\n",
        "\n",
        "Gurobi status="
       ]
      },
      {
       "output_type": "stream",
       "stream": "stderr",
       "text": [
        " 0.186028003693\n",
        "SOLVE LP:"
       ]
      },
      {
       "output_type": "stream",
       "stream": "stderr",
       "text": [
        " 0.0711381435394\n",
        "BUILD HYPERGRAPH: 0.00113201141357\n",
        "BUILD POTENTIALS: 0.000874996185303\n",
        "BUILD LP: 0.0102608203888\n",
        "SOLVE LP: 0.00484800338745\n",
        "BUILD HYPERGRAPH:"
       ]
      },
      {
       "output_type": "stream",
       "stream": "stderr",
       "text": [
        " 0.0834558010101\n",
        "BUILD POTENTIALS: 0.0172770023346\n",
        "BUILD LP:"
       ]
      },
      {
       "output_type": "stream",
       "stream": "stdout",
       "text": [
        " 2\n",
        "\n",
        "Gurobi status= 2\n",
        "\n",
        "Gurobi status="
       ]
      },
      {
       "output_type": "stream",
       "stream": "stderr",
       "text": [
        " 0.189039945602\n",
        "SOLVE LP:"
       ]
      },
      {
       "output_type": "stream",
       "stream": "stderr",
       "text": [
        " 0.0719249248505\n",
        "BUILD HYPERGRAPH: 0.0198130607605\n",
        "BUILD POTENTIALS: 0.0168979167938\n",
        "BUILD LP:"
       ]
      },
      {
       "output_type": "stream",
       "stream": "stdout",
       "text": [
        " 2\n",
        "\n",
        "Gurobi status="
       ]
      },
      {
       "output_type": "stream",
       "stream": "stderr",
       "text": [
        " 0.18616104126\n",
        "SOLVE LP:"
       ]
      },
      {
       "output_type": "stream",
       "stream": "stderr",
       "text": [
        " 0.0711801052094\n",
        "BUILD HYPERGRAPH:"
       ]
      },
      {
       "output_type": "stream",
       "stream": "stderr",
       "text": [
        " 0.0812768936157\n",
        "BUILD POTENTIALS: 0.0168430805206\n",
        "BUILD LP:"
       ]
      },
      {
       "output_type": "stream",
       "stream": "stdout",
       "text": [
        " 2\n",
        "\n",
        "Gurobi status="
       ]
      },
      {
       "output_type": "stream",
       "stream": "stderr",
       "text": [
        " 0.185626029968\n",
        "SOLVE LP:"
       ]
      },
      {
       "output_type": "stream",
       "stream": "stderr",
       "text": [
        " 0.0735969543457\n",
        "BUILD HYPERGRAPH: 0.0200619697571\n",
        "BUILD POTENTIALS: 0.0162110328674\n",
        "BUILD LP:"
       ]
      },
      {
       "output_type": "stream",
       "stream": "stdout",
       "text": [
        " 2\n",
        "\n",
        "Gurobi status="
       ]
      },
      {
       "output_type": "stream",
       "stream": "stderr",
       "text": [
        " 0.258421897888\n",
        "SOLVE LP:"
       ]
      },
      {
       "output_type": "stream",
       "stream": "stderr",
       "text": [
        " 0.073695898056\n",
        "BUILD HYPERGRAPH: 0.0197470188141\n",
        "BUILD POTENTIALS: 0.0177450180054\n",
        "BUILD LP:"
       ]
      },
      {
       "output_type": "stream",
       "stream": "stdout",
       "text": [
        " 2\n",
        "\n",
        "Gurobi status="
       ]
      },
      {
       "output_type": "stream",
       "stream": "stderr",
       "text": [
        " 0.187113046646\n",
        "SOLVE LP:"
       ]
      },
      {
       "output_type": "stream",
       "stream": "stderr",
       "text": [
        " 0.0731739997864\n",
        "BUILD HYPERGRAPH: 0.00554299354553\n",
        "BUILD POTENTIALS: 0.0045530796051\n",
        "BUILD LP:"
       ]
      },
      {
       "output_type": "stream",
       "stream": "stdout",
       "text": [
        " 2\n",
        "\n",
        "Gurobi status="
       ]
      },
      {
       "output_type": "stream",
       "stream": "stderr",
       "text": [
        " 0.0528149604797\n",
        "SOLVE LP: 0.0212340354919\n",
        "BUILD HYPERGRAPH: 0.00108289718628\n",
        "BUILD POTENTIALS: 0.000869989395142\n",
        "BUILD LP: 0.0109181404114\n",
        "SOLVE LP: 0.00526094436646\n",
        "BUILD HYPERGRAPH: 0.00587582588196\n",
        "BUILD POTENTIALS:"
       ]
      },
      {
       "output_type": "stream",
       "stream": "stderr",
       "text": [
        " 0.00502800941467\n",
        "BUILD LP:"
       ]
      },
      {
       "output_type": "stream",
       "stream": "stdout",
       "text": [
        " 2\n",
        "\n",
        "Gurobi status= 2\n",
        "\n",
        "Gurobi status="
       ]
      },
      {
       "output_type": "stream",
       "stream": "stderr",
       "text": [
        " 0.0541360378265\n",
        "SOLVE LP: 0.0221049785614\n",
        "BUILD HYPERGRAPH: 0.00110220909119\n",
        "BUILD POTENTIALS: 0.000979900360107\n",
        "BUILD LP: 0.0104751586914\n",
        "SOLVE LP: 0.00518584251404\n",
        "BUILD HYPERGRAPH: 0.00120282173157\n",
        "BUILD POTENTIALS: 0.00097393989563\n",
        "BUILD LP:"
       ]
      },
      {
       "output_type": "stream",
       "stream": "stdout",
       "text": [
        " 2\n",
        "\n",
        "Gurobi status= 2\n",
        "\n",
        "Gurobi status= 2\n",
        "\n",
        "Gurobi status="
       ]
      },
      {
       "output_type": "stream",
       "stream": "stderr",
       "text": [
        " 0.011599779129\n",
        "SOLVE LP: 0.00500202178955\n",
        "BUILD HYPERGRAPH: 0.00109004974365\n",
        "BUILD POTENTIALS: 0.000936031341553\n",
        "BUILD LP: 0.0109491348267\n",
        "SOLVE LP: 0.00523710250854\n",
        "BUILD HYPERGRAPH: 0.00113105773926\n",
        "BUILD POTENTIALS: 0.00097393989563\n",
        "BUILD LP: 0.0114421844482\n",
        "SOLVE LP: 0.00469589233398\n",
        "BUILD HYPERGRAPH:"
       ]
      },
      {
       "output_type": "stream",
       "stream": "stderr",
       "text": [
        " 0.0866479873657\n",
        "BUILD POTENTIALS: 0.0170018672943\n",
        "BUILD LP:"
       ]
      },
      {
       "output_type": "stream",
       "stream": "stdout",
       "text": [
        " 2\n",
        "\n",
        "Gurobi status= 2\n",
        "\n",
        "Gurobi status="
       ]
      },
      {
       "output_type": "stream",
       "stream": "stderr",
       "text": [
        " 0.198833942413\n",
        "SOLVE LP:"
       ]
      },
      {
       "output_type": "stream",
       "stream": "stderr",
       "text": [
        " 0.0735499858856\n",
        "BUILD HYPERGRAPH: 0.00114107131958\n",
        "BUILD POTENTIALS: 0.000890016555786\n",
        "BUILD LP: 0.0105009078979\n",
        "SOLVE LP: 0.004714012146\n",
        "BUILD HYPERGRAPH: 0.0205929279327\n",
        "BUILD POTENTIALS:"
       ]
      },
      {
       "output_type": "stream",
       "stream": "stderr",
       "text": [
        " 0.0181000232697\n",
        "BUILD LP:"
       ]
      },
      {
       "output_type": "stream",
       "stream": "stdout",
       "text": [
        " 2\n",
        "\n",
        "Gurobi status= 2\n",
        "\n",
        "Gurobi status="
       ]
      },
      {
       "output_type": "stream",
       "stream": "stderr",
       "text": [
        " 0.187204837799\n",
        "SOLVE LP:"
       ]
      },
      {
       "output_type": "stream",
       "stream": "stderr",
       "text": [
        " 0.134800195694\n",
        "BUILD HYPERGRAPH: 0.0056300163269\n",
        "BUILD POTENTIALS: 0.00450587272644\n",
        "BUILD LP:"
       ]
      },
      {
       "output_type": "stream",
       "stream": "stdout",
       "text": [
        " 2\n",
        "\n",
        "Gurobi status="
       ]
      },
      {
       "output_type": "stream",
       "stream": "stderr",
       "text": [
        " 0.0534329414368\n",
        "SOLVE LP: 0.0216491222382\n",
        "BUILD HYPERGRAPH: 0.0209560394287\n",
        "BUILD POTENTIALS:"
       ]
      },
      {
       "output_type": "stream",
       "stream": "stderr",
       "text": [
        " 0.0171420574188\n",
        "BUILD LP:"
       ]
      },
      {
       "output_type": "stream",
       "stream": "stdout",
       "text": [
        " 2\n",
        "\n",
        "Gurobi status="
       ]
      },
      {
       "output_type": "stream",
       "stream": "stderr",
       "text": [
        " 0.192566871643\n",
        "SOLVE LP:"
       ]
      },
      {
       "output_type": "stream",
       "stream": "stderr",
       "text": [
        " 0.0730929374695\n",
        "BUILD HYPERGRAPH: 0.00110411643982\n",
        "BUILD POTENTIALS: 0.000869035720825\n",
        "BUILD LP: 0.0106799602509\n",
        "SOLVE LP: 0.00480794906616\n",
        "BUILD HYPERGRAPH: 0.0199840068817\n",
        "BUILD POTENTIALS:"
       ]
      },
      {
       "output_type": "stream",
       "stream": "stderr",
       "text": [
        " 0.0185508728027\n",
        "BUILD LP:"
       ]
      },
      {
       "output_type": "stream",
       "stream": "stdout",
       "text": [
        " 2\n",
        "\n",
        "Gurobi status= 2\n",
        "\n",
        "Gurobi status="
       ]
      },
      {
       "output_type": "stream",
       "stream": "stderr",
       "text": [
        " 0.264240980148\n",
        "SOLVE LP:"
       ]
      },
      {
       "output_type": "stream",
       "stream": "stderr",
       "text": [
        " 0.0733230113983\n",
        "BUILD HYPERGRAPH: 0.020439863205\n",
        "BUILD POTENTIALS: 0.0168788433075\n",
        "BUILD LP:"
       ]
      },
      {
       "output_type": "stream",
       "stream": "stdout",
       "text": [
        " 2\n",
        "\n",
        "Gurobi status="
       ]
      },
      {
       "output_type": "stream",
       "stream": "stderr",
       "text": [
        " 0.187737226486\n",
        "SOLVE LP:"
       ]
      },
      {
       "output_type": "stream",
       "stream": "stderr",
       "text": [
        " 0.0731158256531\n",
        "BUILD HYPERGRAPH: 0.0199980735779\n",
        "BUILD POTENTIALS: 0.0170669555664\n",
        "BUILD LP:"
       ]
      },
      {
       "output_type": "stream",
       "stream": "stdout",
       "text": [
        " 2\n",
        "\n",
        "Gurobi status="
       ]
      },
      {
       "output_type": "stream",
       "stream": "stderr",
       "text": [
        " 0.248975038528\n",
        "SOLVE LP:"
       ]
      },
      {
       "output_type": "stream",
       "stream": "stderr",
       "text": [
        " 0.074108839035\n",
        "BUILD HYPERGRAPH: 0.00580215454102\n",
        "BUILD POTENTIALS: 0.0045850276947\n",
        "BUILD LP:"
       ]
      },
      {
       "output_type": "stream",
       "stream": "stdout",
       "text": [
        " 2\n",
        "\n",
        "Gurobi status="
       ]
      },
      {
       "output_type": "stream",
       "stream": "stderr",
       "text": [
        " 0.0538370609283\n",
        "SOLVE LP: 0.0221109390259\n",
        "BUILD HYPERGRAPH: 0.00625205039978\n",
        "BUILD POTENTIALS: 0.00528120994568\n",
        "BUILD LP:"
       ]
      },
      {
       "output_type": "stream",
       "stream": "stdout",
       "text": [
        " 2\n",
        "\n",
        "Gurobi status="
       ]
      },
      {
       "output_type": "stream",
       "stream": "stderr",
       "text": [
        " 0.0726518630981\n",
        "SOLVE LP: 0.0220158100128\n",
        "BUILD HYPERGRAPH: 0.00569915771484\n",
        "BUILD POTENTIALS: 0.00474309921265\n",
        "BUILD LP:"
       ]
      },
      {
       "output_type": "stream",
       "stream": "stdout",
       "text": [
        " 2\n",
        "\n",
        "Gurobi status="
       ]
      },
      {
       "output_type": "stream",
       "stream": "stderr",
       "text": [
        " 0.0542240142822\n",
        "SOLVE LP: 0.0225279331207\n",
        "BUILD HYPERGRAPH: 0.00112795829773\n",
        "BUILD POTENTIALS: 0.00102019309998\n",
        "BUILD LP: 0.0108468532562\n",
        "SOLVE LP: 0.00529599189758\n",
        "BUILD HYPERGRAPH: 0.00111699104309\n",
        "BUILD POTENTIALS: 0.00100088119507\n",
        "BUILD LP:"
       ]
      },
      {
       "output_type": "stream",
       "stream": "stderr",
       "text": [
        " 0.0117571353912\n",
        "SOLVE LP: 0.00515294075012\n",
        "BUILD HYPERGRAPH: 0.00551795959473\n",
        "BUILD POTENTIALS: 0.00468707084656\n",
        "BUILD LP:"
       ]
      },
      {
       "output_type": "stream",
       "stream": "stdout",
       "text": [
        " 2\n",
        "\n",
        "Gurobi status= 2\n",
        "\n",
        "Gurobi status= 2\n",
        "\n",
        "Gurobi status="
       ]
      },
      {
       "output_type": "stream",
       "stream": "stderr",
       "text": [
        " 0.0571579933167\n",
        "SOLVE LP: 0.023640871048\n",
        "BUILD HYPERGRAPH: 0.0204758644104\n",
        "BUILD POTENTIALS:"
       ]
      },
      {
       "output_type": "stream",
       "stream": "stderr",
       "text": [
        " 0.0177760124207\n",
        "BUILD LP:"
       ]
      },
      {
       "output_type": "stream",
       "stream": "stdout",
       "text": [
        " 2\n",
        "\n",
        "Gurobi status="
       ]
      },
      {
       "output_type": "stream",
       "stream": "stderr",
       "text": [
        " 0.248949050903\n",
        "SOLVE LP:"
       ]
      },
      {
       "output_type": "stream",
       "stream": "stderr",
       "text": [
        " 0.0719819068909\n",
        "BUILD HYPERGRAPH: 0.0197348594666\n",
        "BUILD POTENTIALS: 0.0162460803986\n",
        "BUILD LP:"
       ]
      },
      {
       "output_type": "stream",
       "stream": "stdout",
       "text": [
        " 2\n",
        "\n",
        "Gurobi status="
       ]
      },
      {
       "output_type": "stream",
       "stream": "stderr",
       "text": [
        " 0.184864044189\n",
        "SOLVE LP:"
       ]
      },
      {
       "output_type": "stream",
       "stream": "stderr",
       "text": [
        " 0.0728149414062\n",
        "BUILD HYPERGRAPH: 0.0197370052338\n",
        "BUILD POTENTIALS: 0.0162980556488\n",
        "BUILD LP:"
       ]
      },
      {
       "output_type": "stream",
       "stream": "stdout",
       "text": [
        " 2\n",
        "\n",
        "Gurobi status="
       ]
      },
      {
       "output_type": "stream",
       "stream": "stderr",
       "text": [
        " 0.247750043869\n",
        "SOLVE LP:"
       ]
      },
      {
       "output_type": "stream",
       "stream": "stderr",
       "text": [
        " 0.0765299797058\n",
        "BUILD HYPERGRAPH: 0.0199499130249\n",
        "BUILD POTENTIALS: 0.016459941864\n",
        "BUILD LP:"
       ]
      },
      {
       "output_type": "stream",
       "stream": "stdout",
       "text": [
        " 2\n",
        "\n",
        "Gurobi status="
       ]
      },
      {
       "output_type": "stream",
       "stream": "stderr",
       "text": [
        " 0.183921098709\n",
        "SOLVE LP:"
       ]
      },
      {
       "output_type": "stream",
       "stream": "stderr",
       "text": [
        " 0.134597063065\n",
        "BUILD HYPERGRAPH: 0.0200572013855\n",
        "BUILD POTENTIALS: 0.016282081604\n",
        "BUILD LP:"
       ]
      },
      {
       "output_type": "stream",
       "stream": "stdout",
       "text": [
        " 2\n",
        "\n",
        "Gurobi status="
       ]
      },
      {
       "output_type": "stream",
       "stream": "stderr",
       "text": [
        " 0.184600114822\n",
        "SOLVE LP:"
       ]
      },
      {
       "output_type": "stream",
       "stream": "stderr",
       "text": [
        " 0.0734000205994\n",
        "BUILD HYPERGRAPH: 0.0196959972382\n",
        "BUILD POTENTIALS: 0.0160849094391\n",
        "BUILD LP:"
       ]
      },
      {
       "output_type": "stream",
       "stream": "stdout",
       "text": [
        " 2\n",
        "\n",
        "Gurobi status="
       ]
      },
      {
       "output_type": "stream",
       "stream": "stderr",
       "text": [
        " 0.248070001602\n",
        "SOLVE LP:"
       ]
      },
      {
       "output_type": "stream",
       "stream": "stderr",
       "text": [
        " 0.0735549926758\n",
        "BUILD HYPERGRAPH: 0.0199420452118\n",
        "BUILD POTENTIALS: 0.0167360305786\n",
        "BUILD LP:"
       ]
      },
      {
       "output_type": "stream",
       "stream": "stdout",
       "text": [
        " 2\n",
        "\n",
        "Gurobi status="
       ]
      },
      {
       "output_type": "stream",
       "stream": "stderr",
       "text": [
        " 0.184741020203\n",
        "SOLVE LP:"
       ]
      },
      {
       "output_type": "stream",
       "stream": "stderr",
       "text": [
        " 0.0739238262177\n",
        "BUILD HYPERGRAPH: 0.0203950405121\n",
        "BUILD POTENTIALS: 0.0177400112152\n",
        "BUILD LP:"
       ]
      },
      {
       "output_type": "stream",
       "stream": "stdout",
       "text": [
        " 2\n",
        "\n",
        "Gurobi status="
       ]
      },
      {
       "output_type": "stream",
       "stream": "stderr",
       "text": [
        " 0.2489798069\n",
        "SOLVE LP:"
       ]
      },
      {
       "output_type": "stream",
       "stream": "stderr",
       "text": [
        " 0.0739231109619\n",
        "BUILD HYPERGRAPH: 0.0196719169617\n",
        "BUILD POTENTIALS: 0.0174140930176\n",
        "BUILD LP:"
       ]
      },
      {
       "output_type": "stream",
       "stream": "stdout",
       "text": [
        " 2\n",
        "\n",
        "Gurobi status="
       ]
      },
      {
       "output_type": "stream",
       "stream": "stderr",
       "text": [
        " 0.193672895432\n",
        "SOLVE LP:"
       ]
      },
      {
       "output_type": "stream",
       "stream": "stderr",
       "text": [
        " 0.0730619430542\n",
        "BUILD HYPERGRAPH: 0.0193939208984\n",
        "BUILD POTENTIALS: 0.0171689987183\n",
        "BUILD LP:"
       ]
      },
      {
       "output_type": "stream",
       "stream": "stdout",
       "text": [
        " 2\n",
        "\n",
        "Gurobi status="
       ]
      },
      {
       "output_type": "stream",
       "stream": "stderr",
       "text": [
        " 0.24788403511\n",
        "SOLVE LP:"
       ]
      },
      {
       "output_type": "stream",
       "stream": "stderr",
       "text": [
        " 0.0775527954102\n",
        "BUILD HYPERGRAPH: 0.0202889442444\n",
        "BUILD POTENTIALS: 0.0164380073547\n",
        "BUILD LP:"
       ]
      },
      {
       "output_type": "stream",
       "stream": "stdout",
       "text": [
        " 2\n",
        "\n",
        "Gurobi status="
       ]
      },
      {
       "output_type": "stream",
       "stream": "stderr",
       "text": [
        " 0.185502052307\n",
        "SOLVE LP:"
       ]
      },
      {
       "output_type": "stream",
       "stream": "stderr",
       "text": [
        " 0.0719909667969\n",
        "BUILD HYPERGRAPH:"
       ]
      },
      {
       "output_type": "stream",
       "stream": "stderr",
       "text": [
        " 0.0816669464111\n",
        "BUILD POTENTIALS: 0.0170149803162\n",
        "BUILD LP:"
       ]
      },
      {
       "output_type": "stream",
       "stream": "stdout",
       "text": [
        " 2\n",
        "\n",
        "Gurobi status="
       ]
      },
      {
       "output_type": "stream",
       "stream": "stderr",
       "text": [
        " 0.195765972137\n",
        "SOLVE LP:"
       ]
      },
      {
       "output_type": "stream",
       "stream": "stderr",
       "text": [
        " 0.0729730129242\n",
        "BUILD HYPERGRAPH: 0.0197899341583\n",
        "BUILD POTENTIALS: 0.0167479515076\n",
        "BUILD LP:"
       ]
      },
      {
       "output_type": "stream",
       "stream": "stdout",
       "text": [
        " 2\n",
        "\n",
        "Gurobi status="
       ]
      },
      {
       "output_type": "stream",
       "stream": "stderr",
       "text": [
        " 0.183360099792\n",
        "SOLVE LP:"
       ]
      },
      {
       "output_type": "stream",
       "stream": "stderr",
       "text": [
        " 0.132873058319\n",
        "BUILD HYPERGRAPH: 0.019956111908\n",
        "BUILD POTENTIALS: 0.0168769359589\n",
        "BUILD LP:"
       ]
      },
      {
       "output_type": "stream",
       "stream": "stdout",
       "text": [
        " 2\n",
        "\n",
        "Gurobi status="
       ]
      },
      {
       "output_type": "stream",
       "stream": "stderr",
       "text": [
        " 0.18404006958\n",
        "SOLVE LP:"
       ]
      },
      {
       "output_type": "stream",
       "stream": "stderr",
       "text": [
        " 0.0709550380707\n",
        "BUILD HYPERGRAPH: 0.0200231075287\n",
        "BUILD POTENTIALS: 0.0165498256683\n",
        "BUILD LP:"
       ]
      },
      {
       "output_type": "stream",
       "stream": "stdout",
       "text": [
        " 2\n",
        "\n",
        "Gurobi status="
       ]
      },
      {
       "output_type": "stream",
       "stream": "stderr",
       "text": [
        " 0.187711000443\n",
        "SOLVE LP:"
       ]
      },
      {
       "output_type": "stream",
       "stream": "stderr",
       "text": [
        " 0.138296842575\n",
        "BUILD HYPERGRAPH: 0.00618004798889\n",
        "BUILD POTENTIALS: 0.00433707237244\n",
        "BUILD LP:"
       ]
      },
      {
       "output_type": "stream",
       "stream": "stdout",
       "text": [
        " 2\n",
        "\n",
        "Gurobi status="
       ]
      },
      {
       "output_type": "stream",
       "stream": "stderr",
       "text": [
        " 0.0524561405182\n",
        "SOLVE LP: 0.0215198993683\n",
        "BUILD HYPERGRAPH: 0.0063579082489\n",
        "BUILD POTENTIALS: 0.00454807281494\n",
        "BUILD LP:"
       ]
      },
      {
       "output_type": "stream",
       "stream": "stdout",
       "text": [
        " 2\n",
        "\n",
        "Gurobi status="
       ]
      },
      {
       "output_type": "stream",
       "stream": "stderr",
       "text": [
        " 0.0539650917053\n",
        "SOLVE LP: 0.0219311714172\n",
        "BUILD HYPERGRAPH: 0.0210289955139\n",
        "BUILD POTENTIALS:"
       ]
      },
      {
       "output_type": "stream",
       "stream": "stderr",
       "text": [
        " 0.01682305336\n",
        "BUILD LP:"
       ]
      },
      {
       "output_type": "stream",
       "stream": "stdout",
       "text": [
        " 2\n",
        "\n",
        "Gurobi status="
       ]
      },
      {
       "output_type": "stream",
       "stream": "stderr",
       "text": [
        " 0.185959100723\n",
        "SOLVE LP:"
       ]
      },
      {
       "output_type": "stream",
       "stream": "stderr",
       "text": [
        " 0.0724699497223\n",
        "BUILD HYPERGRAPH: 0.0197818279266\n",
        "BUILD POTENTIALS: 0.0173950195312\n",
        "BUILD LP:"
       ]
      },
      {
       "output_type": "stream",
       "stream": "stdout",
       "text": [
        " 2\n",
        "\n",
        "Gurobi status="
       ]
      },
      {
       "output_type": "stream",
       "stream": "stderr",
       "text": [
        " 0.247884988785\n",
        "SOLVE LP:"
       ]
      },
      {
       "output_type": "stream",
       "stream": "stderr",
       "text": [
        " 0.073499917984\n",
        "BUILD HYPERGRAPH: 0.020122051239\n",
        "BUILD POTENTIALS: 0.0202231407166\n",
        "BUILD LP:"
       ]
      },
      {
       "output_type": "stream",
       "stream": "stdout",
       "text": [
        " 2\n",
        "\n",
        "Gurobi status="
       ]
      },
      {
       "output_type": "stream",
       "stream": "stderr",
       "text": [
        " 0.184508800507\n",
        "SOLVE LP:"
       ]
      },
      {
       "output_type": "stream",
       "stream": "stderr",
       "text": [
        " 0.0717649459839\n",
        "BUILD HYPERGRAPH: 0.0195140838623\n",
        "BUILD POTENTIALS: 0.01740193367\n",
        "BUILD LP:"
       ]
      },
      {
       "output_type": "stream",
       "stream": "stdout",
       "text": [
        " 2\n",
        "\n",
        "Gurobi status="
       ]
      },
      {
       "output_type": "stream",
       "stream": "stderr",
       "text": [
        " 0.247294902802\n",
        "SOLVE LP:"
       ]
      },
      {
       "output_type": "stream",
       "stream": "stderr",
       "text": [
        " 0.0726890563965\n",
        "BUILD HYPERGRAPH: 0.0199368000031\n",
        "BUILD POTENTIALS: 0.0160980224609\n",
        "BUILD LP:"
       ]
      },
      {
       "output_type": "stream",
       "stream": "stdout",
       "text": [
        " 2\n",
        "\n",
        "Gurobi status="
       ]
      },
      {
       "output_type": "stream",
       "stream": "stderr",
       "text": [
        " 0.18324303627\n",
        "SOLVE LP:"
       ]
      },
      {
       "output_type": "stream",
       "stream": "stdout",
       "text": [
        " 2\n",
        "\n"
       ]
      },
      {
       "output_type": "stream",
       "stream": "stderr",
       "text": [
        " 0.133054971695\n",
        "BUILD HYPERGRAPH: 0.0231621265411\n",
        "BUILD POTENTIALS: 0.0164210796356\n",
        "BUILD LP:"
       ]
      },
      {
       "output_type": "stream",
       "stream": "stderr",
       "text": [
        " 0.183628082275\n",
        "SOLVE LP:"
       ]
      },
      {
       "output_type": "stream",
       "stream": "stderr",
       "text": [
        " 0.0707519054413\n",
        "BUILD HYPERGRAPH: 0.0194270610809\n",
        "BUILD POTENTIALS: 0.0163750648499\n",
        "BUILD LP:"
       ]
      },
      {
       "output_type": "stream",
       "stream": "stdout",
       "text": [
        "Gurobi status= 2\n",
        "\n",
        "Gurobi status="
       ]
      },
      {
       "output_type": "stream",
       "stream": "stderr",
       "text": [
        " 0.248889923096\n",
        "SOLVE LP:"
       ]
      },
      {
       "output_type": "stream",
       "stream": "stderr",
       "text": [
        " 0.0715880393982\n",
        "BUILD HYPERGRAPH: 0.0197479724884\n",
        "BUILD POTENTIALS: 0.0165989398956\n",
        "BUILD LP:"
       ]
      },
      {
       "output_type": "stream",
       "stream": "stdout",
       "text": [
        " 2\n",
        "\n",
        "Gurobi status="
       ]
      },
      {
       "output_type": "stream",
       "stream": "stderr",
       "text": [
        " 0.184653043747\n",
        "SOLVE LP:"
       ]
      },
      {
       "output_type": "stream",
       "stream": "stderr",
       "text": [
        " 0.0722808837891\n",
        "BUILD HYPERGRAPH: 0.00108194351196\n",
        "BUILD POTENTIALS: 0.000877141952515\n",
        "BUILD LP: 0.0108048915863\n",
        "SOLVE LP: 0.00493407249451\n",
        "BUILD HYPERGRAPH: 0.0205519199371\n",
        "BUILD POTENTIALS:"
       ]
      },
      {
       "output_type": "stream",
       "stream": "stderr",
       "text": [
        " 0.0216388702393\n",
        "BUILD LP:"
       ]
      },
      {
       "output_type": "stream",
       "stream": "stdout",
       "text": [
        " 2\n",
        "\n",
        "Gurobi status= 2\n",
        "\n",
        "Gurobi status="
       ]
      },
      {
       "output_type": "stream",
       "stream": "stderr",
       "text": [
        " 0.24956703186\n",
        "SOLVE LP:"
       ]
      },
      {
       "output_type": "stream",
       "stream": "stderr",
       "text": [
        " 0.072783946991\n",
        "BUILD HYPERGRAPH: 0.0197608470917\n",
        "BUILD POTENTIALS: 0.0173099040985\n",
        "BUILD LP:"
       ]
      },
      {
       "output_type": "stream",
       "stream": "stdout",
       "text": [
        " 2\n",
        "\n",
        "Gurobi status="
       ]
      },
      {
       "output_type": "stream",
       "stream": "stderr",
       "text": [
        " 0.186984062195\n",
        "SOLVE LP:"
       ]
      },
      {
       "output_type": "stream",
       "stream": "stderr",
       "text": [
        " 0.0719089508057\n",
        "BUILD HYPERGRAPH: 0.0193638801575\n",
        "BUILD POTENTIALS: 0.0169670581818\n",
        "BUILD LP:"
       ]
      },
      {
       "output_type": "stream",
       "stream": "stdout",
       "text": [
        " 2\n",
        "\n",
        "Gurobi status="
       ]
      },
      {
       "output_type": "stream",
       "stream": "stderr",
       "text": [
        " 0.2478120327\n",
        "SOLVE LP:"
       ]
      },
      {
       "output_type": "stream",
       "stream": "stderr",
       "text": [
        " 0.0758631229401\n",
        "BUILD HYPERGRAPH: 0.0204181671143\n",
        "BUILD POTENTIALS: 0.0165441036224\n",
        "BUILD LP:"
       ]
      },
      {
       "output_type": "stream",
       "stream": "stdout",
       "text": [
        " 2\n",
        "\n",
        "Gurobi status="
       ]
      },
      {
       "output_type": "stream",
       "stream": "stderr",
       "text": [
        " 0.182883024216\n",
        "SOLVE LP:"
       ]
      },
      {
       "output_type": "stream",
       "stream": "stderr",
       "text": [
        " 0.0719709396362\n",
        "BUILD HYPERGRAPH:"
       ]
      },
      {
       "output_type": "stream",
       "stream": "stderr",
       "text": [
        " 0.0819900035858\n",
        "BUILD POTENTIALS: 0.0175468921661\n",
        "BUILD LP:"
       ]
      },
      {
       "output_type": "stream",
       "stream": "stdout",
       "text": [
        " 2\n",
        "\n",
        "Gurobi status="
       ]
      },
      {
       "output_type": "stream",
       "stream": "stderr",
       "text": [
        " 0.18727684021\n",
        "SOLVE LP:"
       ]
      },
      {
       "output_type": "stream",
       "stream": "stderr",
       "text": [
        " 0.0727949142456\n",
        "BUILD HYPERGRAPH: 0.0199711322784\n",
        "BUILD POTENTIALS: 0.0166580677032\n",
        "BUILD LP:"
       ]
      },
      {
       "output_type": "stream",
       "stream": "stdout",
       "text": [
        " 2\n",
        "\n",
        "Gurobi status="
       ]
      },
      {
       "output_type": "stream",
       "stream": "stderr",
       "text": [
        " 0.182546138763\n",
        "SOLVE LP:"
       ]
      },
      {
       "output_type": "stream",
       "stream": "stderr",
       "text": [
        " 0.139719963074\n",
        "BUILD HYPERGRAPH: 0.0199468135834\n",
        "BUILD POTENTIALS: 0.016578912735\n",
        "BUILD LP:"
       ]
      },
      {
       "output_type": "stream",
       "stream": "stdout",
       "text": [
        " 2\n",
        "\n",
        "Gurobi status="
       ]
      },
      {
       "output_type": "stream",
       "stream": "stderr",
       "text": [
        " 0.184005975723\n",
        "SOLVE LP:"
       ]
      },
      {
       "output_type": "stream",
       "stream": "stderr",
       "text": [
        " 0.0716631412506\n",
        "BUILD HYPERGRAPH: 0.0197749137878\n",
        "BUILD POTENTIALS: 0.0171489715576\n",
        "BUILD LP:"
       ]
      },
      {
       "output_type": "stream",
       "stream": "stdout",
       "text": [
        " 2\n",
        "\n",
        "Gurobi status="
       ]
      },
      {
       "output_type": "stream",
       "stream": "stderr",
       "text": [
        " 0.184968948364\n",
        "SOLVE LP:"
       ]
      },
      {
       "output_type": "stream",
       "stream": "stderr",
       "text": [
        " 0.135991096497\n",
        "BUILD HYPERGRAPH: 0.0201070308685\n",
        "BUILD POTENTIALS: 0.0172879695892\n",
        "BUILD LP:"
       ]
      },
      {
       "output_type": "stream",
       "stream": "stdout",
       "text": [
        " 2\n",
        "\n",
        "Gurobi status="
       ]
      },
      {
       "output_type": "stream",
       "stream": "stderr",
       "text": [
        " 0.184424877167\n",
        "SOLVE LP:"
       ]
      },
      {
       "output_type": "stream",
       "stream": "stderr",
       "text": [
        " 0.0799100399017\n",
        "BUILD HYPERGRAPH: 0.0207788944244\n",
        "BUILD POTENTIALS: 0.0168008804321\n",
        "BUILD LP:"
       ]
      },
      {
       "output_type": "stream",
       "stream": "stdout",
       "text": [
        " 2\n",
        "\n",
        "Gurobi status="
       ]
      },
      {
       "output_type": "stream",
       "stream": "stderr",
       "text": [
        " 0.183249950409\n",
        "SOLVE LP:"
       ]
      },
      {
       "output_type": "stream",
       "stream": "stderr",
       "text": [
        " 0.137630939484\n",
        "BUILD HYPERGRAPH: 0.0198259353638\n",
        "BUILD POTENTIALS: 0.0165591239929\n",
        "BUILD LP:"
       ]
      },
      {
       "output_type": "stream",
       "stream": "stdout",
       "text": [
        " 2\n",
        "\n",
        "Gurobi status="
       ]
      },
      {
       "output_type": "stream",
       "stream": "stderr",
       "text": [
        " 0.187086820602\n",
        "SOLVE LP:"
       ]
      },
      {
       "output_type": "stream",
       "stream": "stderr",
       "text": [
        " 0.0723369121552\n",
        "BUILD HYPERGRAPH: 0.0195608139038\n",
        "BUILD POTENTIALS: 0.0167558193207\n",
        "BUILD LP:"
       ]
      },
      {
       "output_type": "stream",
       "stream": "stdout",
       "text": [
        " 2\n",
        "\n",
        "Gurobi status="
       ]
      },
      {
       "output_type": "stream",
       "stream": "stderr",
       "text": [
        " 0.24787402153\n",
        "SOLVE LP:"
       ]
      },
      {
       "output_type": "stream",
       "stream": "stderr",
       "text": [
        " 0.0757720470428\n",
        "BUILD HYPERGRAPH: 0.0198230743408\n",
        "BUILD POTENTIALS: 0.0174450874329\n",
        "BUILD LP:"
       ]
      },
      {
       "output_type": "stream",
       "stream": "stdout",
       "text": [
        " 2\n",
        "\n",
        "Gurobi status="
       ]
      },
      {
       "output_type": "stream",
       "stream": "stderr",
       "text": [
        " 0.184720039368\n",
        "SOLVE LP:"
       ]
      },
      {
       "output_type": "stream",
       "stream": "stderr",
       "text": [
        " 0.072643995285\n",
        "BUILD HYPERGRAPH: 0.0197248458862\n",
        "BUILD POTENTIALS: 0.0172510147095\n",
        "BUILD LP:"
       ]
      },
      {
       "output_type": "stream",
       "stream": "stdout",
       "text": [
        " 2\n",
        "\n",
        "Gurobi status="
       ]
      },
      {
       "output_type": "stream",
       "stream": "stderr",
       "text": [
        " 0.254420995712\n",
        "SOLVE LP:"
       ]
      },
      {
       "output_type": "stream",
       "stream": "stderr",
       "text": [
        " 0.075443983078\n",
        "BUILD HYPERGRAPH: 0.00112700462341\n",
        "BUILD POTENTIALS: 0.000876903533936\n",
        "BUILD LP: 0.0105400085449\n",
        "SOLVE LP: 0.00485301017761\n",
        "BUILD HYPERGRAPH: 0.00614809989929\n",
        "BUILD POTENTIALS: 0.00459909439087\n",
        "BUILD LP:"
       ]
      },
      {
       "output_type": "stream",
       "stream": "stdout",
       "text": [
        " 2\n",
        "\n",
        "Gurobi status= 2\n",
        "\n",
        "Gurobi status="
       ]
      },
      {
       "output_type": "stream",
       "stream": "stderr",
       "text": [
        " 0.0544691085815\n",
        "SOLVE LP: 0.0222930908203\n",
        "BUILD HYPERGRAPH: 0.0209848880768\n",
        "BUILD POTENTIALS:"
       ]
      },
      {
       "output_type": "stream",
       "stream": "stderr",
       "text": [
        " 0.0173048973083\n",
        "BUILD LP:"
       ]
      },
      {
       "output_type": "stream",
       "stream": "stdout",
       "text": [
        " 2\n",
        "\n",
        "Gurobi status="
       ]
      },
      {
       "output_type": "stream",
       "stream": "stderr",
       "text": [
        " 0.190865039825\n",
        "SOLVE LP:"
       ]
      },
      {
       "output_type": "stream",
       "stream": "stderr",
       "text": [
        " 0.0739991664886\n",
        "BUILD HYPERGRAPH:"
       ]
      },
      {
       "output_type": "stream",
       "stream": "stderr",
       "text": [
        " 0.0843970775604\n",
        "BUILD POTENTIALS: 0.0182340145111\n",
        "BUILD LP:"
       ]
      },
      {
       "output_type": "stream",
       "stream": "stdout",
       "text": [
        " 2\n",
        "\n",
        "Gurobi status="
       ]
      },
      {
       "output_type": "stream",
       "stream": "stderr",
       "text": [
        " 0.188376903534\n",
        "SOLVE LP:"
       ]
      },
      {
       "output_type": "stream",
       "stream": "stderr",
       "text": [
        " 0.0748629570007\n",
        "BUILD HYPERGRAPH: 0.00590109825134\n",
        "BUILD POTENTIALS: 0.00498819351196\n",
        "BUILD LP:"
       ]
      },
      {
       "output_type": "stream",
       "stream": "stdout",
       "text": [
        " 2\n",
        "\n",
        "Gurobi status="
       ]
      },
      {
       "output_type": "stream",
       "stream": "stderr",
       "text": [
        " 0.0544350147247\n",
        "SOLVE LP: 0.0255990028381\n",
        "BUILD HYPERGRAPH: 0.0216619968414\n",
        "BUILD POTENTIALS:"
       ]
      },
      {
       "output_type": "stream",
       "stream": "stderr",
       "text": [
        " 0.0173721313477\n",
        "BUILD LP:"
       ]
      },
      {
       "output_type": "stream",
       "stream": "stdout",
       "text": [
        " 2\n",
        "\n",
        "Gurobi status="
       ]
      },
      {
       "output_type": "stream",
       "stream": "stderr",
       "text": [
        " 0.249853849411\n",
        "SOLVE LP:"
       ]
      },
      {
       "output_type": "stream",
       "stream": "stderr",
       "text": [
        " 0.079311132431\n",
        "BUILD HYPERGRAPH: 0.0211238861084\n",
        "BUILD POTENTIALS: 0.0176539421082\n",
        "BUILD LP:"
       ]
      },
      {
       "output_type": "stream",
       "stream": "stdout",
       "text": [
        " 2\n",
        "\n",
        "Gurobi status="
       ]
      },
      {
       "output_type": "stream",
       "stream": "stderr",
       "text": [
        " 0.191068887711\n",
        "SOLVE LP:"
       ]
      },
      {
       "output_type": "stream",
       "stream": "stderr",
       "text": [
        " 0.0736100673676\n",
        "BUILD HYPERGRAPH: 0.0198888778687\n",
        "BUILD POTENTIALS: 0.0173659324646\n",
        "BUILD LP:"
       ]
      },
      {
       "output_type": "stream",
       "stream": "stdout",
       "text": [
        " 2\n",
        "\n",
        "Gurobi status="
       ]
      },
      {
       "output_type": "stream",
       "stream": "stderr",
       "text": [
        " 0.293140888214\n",
        "SOLVE LP:"
       ]
      },
      {
       "output_type": "stream",
       "stream": "stderr",
       "text": [
        " 0.0894567966461\n",
        "BUILD HYPERGRAPH: 0.00597906112671\n",
        "BUILD POTENTIALS: 0.00479483604431\n",
        "BUILD LP:"
       ]
      },
      {
       "output_type": "stream",
       "stream": "stdout",
       "text": [
        " 2\n",
        "\n",
        "Gurobi status="
       ]
      },
      {
       "output_type": "stream",
       "stream": "stderr",
       "text": [
        " 0.0542340278625\n",
        "SOLVE LP: 0.0248870849609\n",
        "BUILD HYPERGRAPH:"
       ]
      },
      {
       "output_type": "stream",
       "stream": "stderr",
       "text": [
        " 0.0248219966888\n",
        "BUILD POTENTIALS: 0.0177021026611\n",
        "BUILD LP:"
       ]
      },
      {
       "output_type": "stream",
       "stream": "stdout",
       "text": [
        " 2\n",
        "\n",
        "Gurobi status="
       ]
      },
      {
       "output_type": "stream",
       "stream": "stderr",
       "text": [
        " 0.269269943237\n",
        "SOLVE LP:"
       ]
      },
      {
       "output_type": "stream",
       "stream": "stderr",
       "text": [
        " 0.0778188705444\n",
        "BUILD HYPERGRAPH: 0.021507024765\n",
        "BUILD POTENTIALS: 0.0199689865112\n",
        "BUILD LP:"
       ]
      },
      {
       "output_type": "stream",
       "stream": "stdout",
       "text": [
        " 2\n",
        "\n",
        "Gurobi status="
       ]
      },
      {
       "output_type": "stream",
       "stream": "stderr",
       "text": [
        " 0.200448989868\n",
        "SOLVE LP:"
       ]
      },
      {
       "output_type": "stream",
       "stream": "stderr",
       "text": [
        " 0.0734250545502\n",
        "BUILD HYPERGRAPH: 0.0059130191803\n",
        "BUILD POTENTIALS: 0.00449895858765\n",
        "BUILD LP:"
       ]
      },
      {
       "output_type": "stream",
       "stream": "stdout",
       "text": [
        " 2\n",
        "\n",
        "Gurobi status="
       ]
      },
      {
       "output_type": "stream",
       "stream": "stderr",
       "text": [
        " 0.0547759532928\n",
        "SOLVE LP: 0.0209980010986\n",
        "BUILD HYPERGRAPH: 0.0203790664673\n",
        "BUILD POTENTIALS:"
       ]
      },
      {
       "output_type": "stream",
       "stream": "stderr",
       "text": [
        " 0.0175631046295\n",
        "BUILD LP:"
       ]
      },
      {
       "output_type": "stream",
       "stream": "stdout",
       "text": [
        " 2\n",
        "\n",
        "Gurobi status="
       ]
      },
      {
       "output_type": "stream",
       "stream": "stderr",
       "text": [
        " 0.261631965637\n",
        "SOLVE LP:"
       ]
      },
      {
       "output_type": "stream",
       "stream": "stderr",
       "text": [
        " 0.0747430324554\n",
        "BUILD HYPERGRAPH: 0.0200660228729\n",
        "BUILD POTENTIALS: 0.0195460319519\n",
        "BUILD LP:"
       ]
      },
      {
       "output_type": "stream",
       "stream": "stdout",
       "text": [
        " 2\n",
        "\n",
        "Gurobi status="
       ]
      },
      {
       "output_type": "stream",
       "stream": "stderr",
       "text": [
        " 0.188779830933\n",
        "SOLVE LP:"
       ]
      },
      {
       "output_type": "stream",
       "stream": "stdout",
       "text": [
        " 2\n",
        "\n",
        "Gurobi status= 2\n",
        "\n",
        "Gurobi status="
       ]
      },
      {
       "output_type": "stream",
       "stream": "stderr",
       "text": [
        " 0.071033000946\n",
        "BUILD HYPERGRAPH: 0.00108098983765\n",
        "BUILD POTENTIALS: 0.000875949859619\n",
        "BUILD LP: 0.0104548931122\n",
        "SOLVE LP: 0.00469303131104\n",
        "BUILD HYPERGRAPH: 0.00115895271301\n",
        "BUILD POTENTIALS: 0.00111603736877\n",
        "BUILD LP: 0.010792016983\n",
        "SOLVE LP: 0.00525307655334\n",
        "BUILD HYPERGRAPH:"
       ]
      },
      {
       "output_type": "stream",
       "stream": "stderr",
       "text": [
        " 0.083349943161\n",
        "BUILD POTENTIALS: 0.0189878940582\n",
        "BUILD LP:"
       ]
      },
      {
       "output_type": "stream",
       "stream": "stdout",
       "text": [
        " 2\n",
        "\n",
        "Gurobi status="
       ]
      },
      {
       "output_type": "stream",
       "stream": "stderr",
       "text": [
        " 0.190718173981\n",
        "SOLVE LP:"
       ]
      },
      {
       "output_type": "stream",
       "stream": "stderr",
       "text": [
        " 0.0735259056091\n",
        "BUILD HYPERGRAPH: 0.0202219486237\n",
        "BUILD POTENTIALS: 0.0163822174072\n",
        "BUILD LP:"
       ]
      },
      {
       "output_type": "stream",
       "stream": "stdout",
       "text": [
        " 2\n",
        "\n",
        "Gurobi status="
       ]
      },
      {
       "output_type": "stream",
       "stream": "stderr",
       "text": [
        " 0.2461810112\n",
        "SOLVE LP:"
       ]
      },
      {
       "output_type": "stream",
       "stream": "stderr",
       "text": [
        " 0.0739948749542\n",
        "BUILD HYPERGRAPH: 0.00578594207764\n",
        "BUILD POTENTIALS: 0.00478291511536\n",
        "BUILD LP:"
       ]
      },
      {
       "output_type": "stream",
       "stream": "stdout",
       "text": [
        " 2\n",
        "\n",
        "Gurobi status="
       ]
      },
      {
       "output_type": "stream",
       "stream": "stderr",
       "text": [
        " 0.0544948577881\n",
        "SOLVE LP: 0.02228307724\n",
        "BUILD HYPERGRAPH: 0.00110793113708\n",
        "BUILD POTENTIALS: 0.000888824462891\n",
        "BUILD LP: 0.0106661319733\n",
        "SOLVE LP: 0.00538682937622\n",
        "BUILD HYPERGRAPH:"
       ]
      },
      {
       "output_type": "stream",
       "stream": "stderr",
       "text": [
        " 0.0215909481049\n",
        "BUILD POTENTIALS: 0.0176031589508\n",
        "BUILD LP:"
       ]
      },
      {
       "output_type": "stream",
       "stream": "stdout",
       "text": [
        " 2\n",
        "\n",
        "Gurobi status= 2\n",
        "\n",
        "Gurobi status="
       ]
      },
      {
       "output_type": "stream",
       "stream": "stderr",
       "text": [
        " 0.188143014908\n",
        "SOLVE LP:"
       ]
      },
      {
       "output_type": "stream",
       "stream": "stderr",
       "text": [
        " 0.0719411373138\n",
        "BUILD HYPERGRAPH: 0.0199549198151\n",
        "BUILD POTENTIALS: 0.0173859596252\n",
        "BUILD LP:"
       ]
      },
      {
       "output_type": "stream",
       "stream": "stdout",
       "text": [
        " 2\n",
        "\n",
        "Gurobi status="
       ]
      },
      {
       "output_type": "stream",
       "stream": "stderr",
       "text": [
        " 0.257032871246\n",
        "SOLVE LP:"
       ]
      },
      {
       "output_type": "stream",
       "stream": "stderr",
       "text": [
        " 0.0711948871613\n",
        "BUILD HYPERGRAPH: 0.0200350284576\n",
        "BUILD POTENTIALS: 0.0175130367279\n",
        "BUILD LP:"
       ]
      },
      {
       "output_type": "stream",
       "stream": "stdout",
       "text": [
        " 2\n",
        "\n",
        "Gurobi status="
       ]
      },
      {
       "output_type": "stream",
       "stream": "stderr",
       "text": [
        " 0.188608884811\n",
        "SOLVE LP:"
       ]
      },
      {
       "output_type": "stream",
       "stream": "stderr",
       "text": [
        " 0.0727210044861\n",
        "BUILD HYPERGRAPH:"
       ]
      },
      {
       "output_type": "stream",
       "stream": "stderr",
       "text": [
        " 0.0842881202698\n",
        "BUILD POTENTIALS: 0.019238948822\n",
        "BUILD LP:"
       ]
      },
      {
       "output_type": "stream",
       "stream": "stdout",
       "text": [
        " 2\n",
        "\n",
        "Gurobi status="
       ]
      },
      {
       "output_type": "stream",
       "stream": "stderr",
       "text": [
        " 0.192739963531\n",
        "SOLVE LP:"
       ]
      },
      {
       "output_type": "stream",
       "stream": "stderr",
       "text": [
        " 0.0738251209259\n",
        "BUILD HYPERGRAPH: 0.021271944046\n",
        "BUILD POTENTIALS: 0.019809961319\n",
        "BUILD LP:"
       ]
      },
      {
       "output_type": "stream",
       "stream": "stdout",
       "text": [
        " 2\n",
        "\n",
        "Gurobi status="
       ]
      },
      {
       "output_type": "stream",
       "stream": "stderr",
       "text": [
        " 0.251269102097\n",
        "SOLVE LP:"
       ]
      },
      {
       "output_type": "stream",
       "stream": "stderr",
       "text": [
        " 0.0763149261475\n",
        "BUILD HYPERGRAPH: 0.0205090045929\n",
        "BUILD POTENTIALS: 0.0166578292847\n",
        "BUILD LP:"
       ]
      },
      {
       "output_type": "stream",
       "stream": "stdout",
       "text": [
        " 2\n",
        "\n",
        "Gurobi status="
       ]
      },
      {
       "output_type": "stream",
       "stream": "stderr",
       "text": [
        " 0.189670085907\n",
        "SOLVE LP:"
       ]
      },
      {
       "output_type": "stream",
       "stream": "stderr",
       "text": [
        " 0.0764298439026\n",
        "BUILD HYPERGRAPH: 0.0011351108551\n",
        "BUILD POTENTIALS: 0.000895023345947\n",
        "BUILD LP: 0.0104460716248\n",
        "SOLVE LP: 0.00475287437439\n",
        "BUILD HYPERGRAPH: 0.0212230682373\n",
        "BUILD POTENTIALS:"
       ]
      },
      {
       "output_type": "stream",
       "stream": "stderr",
       "text": [
        " 0.0190558433533\n",
        "BUILD LP:"
       ]
      },
      {
       "output_type": "stream",
       "stream": "stdout",
       "text": [
        " 2\n",
        "\n",
        "Gurobi status= 2\n",
        "\n",
        "Gurobi status="
       ]
      },
      {
       "output_type": "stream",
       "stream": "stderr",
       "text": [
        " 0.254786968231\n",
        "SOLVE LP:"
       ]
      },
      {
       "output_type": "stream",
       "stream": "stderr",
       "text": [
        " 0.0754179954529\n",
        "BUILD HYPERGRAPH: 0.0198159217834\n",
        "BUILD POTENTIALS: 0.0176599025726\n",
        "BUILD LP:"
       ]
      },
      {
       "output_type": "stream",
       "stream": "stdout",
       "text": [
        " 2\n",
        "\n",
        "Gurobi status="
       ]
      },
      {
       "output_type": "stream",
       "stream": "stderr",
       "text": [
        " 0.189374923706\n",
        "SOLVE LP:"
       ]
      },
      {
       "output_type": "stream",
       "stream": "stderr",
       "text": [
        " 0.073982000351\n",
        "BUILD HYPERGRAPH: 0.0202610492706\n",
        "BUILD POTENTIALS: 0.0170040130615\n",
        "BUILD LP:"
       ]
      },
      {
       "output_type": "stream",
       "stream": "stdout",
       "text": [
        " 2\n",
        "\n",
        "Gurobi status="
       ]
      },
      {
       "output_type": "stream",
       "stream": "stderr",
       "text": [
        " 0.252476215363\n",
        "SOLVE LP:"
       ]
      },
      {
       "output_type": "stream",
       "stream": "stderr",
       "text": [
        " 0.0764579772949\n",
        "BUILD HYPERGRAPH: 0.0206570625305\n",
        "BUILD POTENTIALS: 0.0162751674652\n",
        "BUILD LP:"
       ]
      },
      {
       "output_type": "stream",
       "stream": "stdout",
       "text": [
        " 2\n",
        "\n",
        "Gurobi status="
       ]
      },
      {
       "output_type": "stream",
       "stream": "stderr",
       "text": [
        " 0.187247991562\n",
        "SOLVE LP:"
       ]
      },
      {
       "output_type": "stream",
       "stream": "stderr",
       "text": [
        " 0.0747599601746\n",
        "BUILD HYPERGRAPH: 0.0204961299896\n",
        "BUILD POTENTIALS: 0.0177628993988\n",
        "BUILD LP:"
       ]
      },
      {
       "output_type": "stream",
       "stream": "stdout",
       "text": [
        " 2\n",
        "\n",
        "Gurobi status="
       ]
      },
      {
       "output_type": "stream",
       "stream": "stderr",
       "text": [
        " 0.250873088837\n",
        "SOLVE LP:"
       ]
      },
      {
       "output_type": "stream",
       "stream": "stderr",
       "text": [
        " 0.0761098861694\n",
        "BUILD HYPERGRAPH: 0.0056209564209\n",
        "BUILD POTENTIALS: 0.00459289550781\n",
        "BUILD LP:"
       ]
      },
      {
       "output_type": "stream",
       "stream": "stdout",
       "text": [
        " 2\n",
        "\n",
        "Gurobi status="
       ]
      },
      {
       "output_type": "stream",
       "stream": "stderr",
       "text": [
        " 0.0539650917053\n",
        "SOLVE LP: 0.0243310928345\n",
        "BUILD HYPERGRAPH: 0.00110197067261\n",
        "BUILD POTENTIALS: 0.00092601776123\n",
        "BUILD LP: 0.0111858844757\n",
        "SOLVE LP: 0.00524997711182\n",
        "BUILD HYPERGRAPH:"
       ]
      },
      {
       "output_type": "stream",
       "stream": "stderr",
       "text": [
        " 0.00614714622498\n",
        "BUILD POTENTIALS: 0.0060019493103\n",
        "BUILD LP:"
       ]
      },
      {
       "output_type": "stream",
       "stream": "stdout",
       "text": [
        " 2\n",
        "\n",
        "Gurobi status= 2\n",
        "\n",
        "Gurobi status="
       ]
      },
      {
       "output_type": "stream",
       "stream": "stderr",
       "text": [
        " 0.0586581230164\n",
        "SOLVE LP: 0.0234689712524\n",
        "BUILD HYPERGRAPH: 0.00111603736877\n",
        "BUILD POTENTIALS: 0.000939846038818\n",
        "BUILD LP: 0.0110499858856\n",
        "SOLVE LP: 0.00535202026367\n",
        "BUILD HYPERGRAPH: 0.00110411643982\n",
        "BUILD POTENTIALS: 0.000936031341553\n",
        "BUILD LP:"
       ]
      },
      {
       "output_type": "stream",
       "stream": "stdout",
       "text": [
        " 2\n",
        "\n",
        "Gurobi status= 2\n",
        "\n",
        "Gurobi status= 2\n",
        "\n",
        "Gurobi status="
       ]
      },
      {
       "output_type": "stream",
       "stream": "stderr",
       "text": [
        " 0.0109429359436\n",
        "SOLVE LP: 0.00603604316711\n",
        "BUILD HYPERGRAPH: 0.00110912322998\n",
        "BUILD POTENTIALS: 0.000944852828979\n",
        "BUILD LP: 0.0122399330139\n",
        "SOLVE LP: 0.00522994995117\n",
        "BUILD HYPERGRAPH: 0.00148987770081\n",
        "BUILD POTENTIALS: 0.000936031341553\n",
        "BUILD LP: 0.0105788707733\n",
        "SOLVE LP: 0.00569105148315\n",
        "BUILD HYPERGRAPH:"
       ]
      },
      {
       "output_type": "stream",
       "stream": "stderr",
       "text": [
        " 0.0214719772339\n",
        "BUILD POTENTIALS: 0.019031047821\n",
        "BUILD LP:"
       ]
      },
      {
       "output_type": "stream",
       "stream": "stdout",
       "text": [
        " 2\n",
        "\n",
        "Gurobi status= 2\n",
        "\n",
        "Gurobi status="
       ]
      },
      {
       "output_type": "stream",
       "stream": "stderr",
       "text": [
        " 0.250239133835\n",
        "SOLVE LP:"
       ]
      },
      {
       "output_type": "stream",
       "stream": "stderr",
       "text": [
        " 0.0754730701447\n",
        "BUILD HYPERGRAPH: 0.00111293792725\n",
        "BUILD POTENTIALS: 0.000922918319702\n",
        "BUILD LP: 0.0107269287109\n",
        "SOLVE LP: 0.00490307807922\n",
        "BUILD HYPERGRAPH: 0.0210468769073\n",
        "BUILD POTENTIALS:"
       ]
      },
      {
       "output_type": "stream",
       "stream": "stderr",
       "text": [
        " 0.0183639526367\n",
        "BUILD LP:"
       ]
      },
      {
       "output_type": "stream",
       "stream": "stdout",
       "text": [
        " 2\n",
        "\n",
        "Gurobi status= 2\n",
        "\n",
        "Gurobi status="
       ]
      },
      {
       "output_type": "stream",
       "stream": "stderr",
       "text": [
        " 0.190696954727\n",
        "SOLVE LP:"
       ]
      },
      {
       "output_type": "stream",
       "stream": "stderr",
       "text": [
        " 0.0733609199524\n",
        "BUILD HYPERGRAPH: 0.0056619644165\n",
        "BUILD POTENTIALS: 0.00452184677124\n",
        "BUILD LP:"
       ]
      },
      {
       "output_type": "stream",
       "stream": "stdout",
       "text": [
        " 2\n",
        "\n",
        "Gurobi status="
       ]
      },
      {
       "output_type": "stream",
       "stream": "stderr",
       "text": [
        " 0.11924290657\n",
        "SOLVE LP: 0.0233070850372\n",
        "BUILD HYPERGRAPH: 0.0212600231171\n",
        "BUILD POTENTIALS:"
       ]
      },
      {
       "output_type": "stream",
       "stream": "stderr",
       "text": [
        " 0.0175471305847\n",
        "BUILD LP:"
       ]
      },
      {
       "output_type": "stream",
       "stream": "stdout",
       "text": [
        " 2\n",
        "\n",
        "Gurobi status="
       ]
      },
      {
       "output_type": "stream",
       "stream": "stderr",
       "text": [
        " 0.192440032959\n",
        "SOLVE LP:"
       ]
      },
      {
       "output_type": "stream",
       "stream": "stderr",
       "text": [
        " 0.0745408535004\n",
        "BUILD HYPERGRAPH: 0.00113391876221\n",
        "BUILD POTENTIALS: 0.000885009765625\n",
        "BUILD LP: 0.010486125946\n",
        "SOLVE LP: 0.00476503372192\n",
        "BUILD HYPERGRAPH: 0.0201020240784\n",
        "BUILD POTENTIALS:"
       ]
      },
      {
       "output_type": "stream",
       "stream": "stderr",
       "text": [
        " 0.017737865448\n",
        "BUILD LP:"
       ]
      },
      {
       "output_type": "stream",
       "stream": "stdout",
       "text": [
        " 2\n",
        "\n",
        "Gurobi status= 2\n",
        "\n",
        "Gurobi status="
       ]
      },
      {
       "output_type": "stream",
       "stream": "stderr",
       "text": [
        " 0.250020027161\n",
        "SOLVE LP:"
       ]
      },
      {
       "output_type": "stream",
       "stream": "stderr",
       "text": [
        " 0.0755381584167\n",
        "BUILD HYPERGRAPH: 0.0201590061188\n",
        "BUILD POTENTIALS: 0.0168778896332\n",
        "BUILD LP:"
       ]
      },
      {
       "output_type": "stream",
       "stream": "stdout",
       "text": [
        " 2\n",
        "\n",
        "Gurobi status="
       ]
      },
      {
       "output_type": "stream",
       "stream": "stderr",
       "text": [
        " 0.187885046005\n",
        "SOLVE LP:"
       ]
      },
      {
       "output_type": "stream",
       "stream": "stderr",
       "text": [
        " 0.0736718177795\n",
        "BUILD HYPERGRAPH: 0.0197641849518\n",
        "BUILD POTENTIALS: 0.017235994339\n",
        "BUILD LP:"
       ]
      },
      {
       "output_type": "stream",
       "stream": "stdout",
       "text": [
        " 2\n",
        "\n",
        "Gurobi status="
       ]
      },
      {
       "output_type": "stream",
       "stream": "stderr",
       "text": [
        " 0.249920845032\n",
        "SOLVE LP:"
       ]
      },
      {
       "output_type": "stream",
       "stream": "stderr",
       "text": [
        " 0.0740149021149\n",
        "BUILD HYPERGRAPH: 0.00587606430054\n",
        "BUILD POTENTIALS: 0.0047550201416\n",
        "BUILD LP:"
       ]
      },
      {
       "output_type": "stream",
       "stream": "stdout",
       "text": [
        " 2\n",
        "\n",
        "Gurobi status="
       ]
      },
      {
       "output_type": "stream",
       "stream": "stderr",
       "text": [
        " 0.0540919303894\n",
        "SOLVE LP: 0.0217590332031\n",
        "BUILD HYPERGRAPH: 0.00607800483704\n",
        "BUILD POTENTIALS: 0.00500512123108\n",
        "BUILD LP:"
       ]
      },
      {
       "output_type": "stream",
       "stream": "stdout",
       "text": [
        " 2\n",
        "\n",
        "Gurobi status="
       ]
      },
      {
       "output_type": "stream",
       "stream": "stderr",
       "text": [
        " 0.0558938980103\n",
        "SOLVE LP: 0.0227041244507\n",
        "BUILD HYPERGRAPH: 0.00646996498108\n",
        "BUILD POTENTIALS: 0.00482606887817\n",
        "BUILD LP:"
       ]
      },
      {
       "output_type": "stream",
       "stream": "stdout",
       "text": [
        " 2\n",
        "\n",
        "Gurobi status="
       ]
      },
      {
       "output_type": "stream",
       "stream": "stderr",
       "text": [
        " 0.0544850826263\n",
        "SOLVE LP: 0.021763086319\n",
        "BUILD HYPERGRAPH: 0.00113010406494\n",
        "BUILD POTENTIALS: 0.000972032546997\n",
        "BUILD LP: 0.0105350017548\n",
        "SOLVE LP: 0.00516295433044\n",
        "BUILD HYPERGRAPH: 0.00120091438293\n",
        "BUILD POTENTIALS: 0.00102710723877\n",
        "BUILD LP:"
       ]
      },
      {
       "output_type": "stream",
       "stream": "stderr",
       "text": [
        " 0.0123109817505\n",
        "SOLVE LP: 0.00507402420044\n",
        "BUILD HYPERGRAPH: 0.00564503669739\n",
        "BUILD POTENTIALS: 0.00479912757874\n",
        "BUILD LP:"
       ]
      },
      {
       "output_type": "stream",
       "stream": "stdout",
       "text": [
        " 2\n",
        "\n",
        "Gurobi status= 2\n",
        "\n",
        "Gurobi status= 2\n",
        "\n",
        "Gurobi status="
       ]
      },
      {
       "output_type": "stream",
       "stream": "stderr",
       "text": [
        " 0.0554630756378\n",
        "SOLVE LP: 0.0235328674316\n",
        "BUILD HYPERGRAPH:"
       ]
      },
      {
       "output_type": "stream",
       "stream": "stderr",
       "text": [
        " 0.0842049121857\n",
        "BUILD POTENTIALS: 0.0195021629333\n",
        "BUILD LP:"
       ]
      },
      {
       "output_type": "stream",
       "stream": "stdout",
       "text": [
        " 2\n",
        "\n",
        "Gurobi status="
       ]
      },
      {
       "output_type": "stream",
       "stream": "stderr",
       "text": [
        " 0.189666986465\n",
        "SOLVE LP:"
       ]
      },
      {
       "output_type": "stream",
       "stream": "stderr",
       "text": [
        " 0.0742928981781\n",
        "BUILD HYPERGRAPH: 0.0203359127045\n",
        "BUILD POTENTIALS: 0.0176360607147\n",
        "BUILD LP:"
       ]
      },
      {
       "output_type": "stream",
       "stream": "stdout",
       "text": [
        " 2\n",
        "\n",
        "Gurobi status="
       ]
      },
      {
       "output_type": "stream",
       "stream": "stderr",
       "text": [
        " 0.187966108322\n",
        "SOLVE LP:"
       ]
      },
      {
       "output_type": "stream",
       "stream": "stderr",
       "text": [
        " 0.137567043304\n",
        "BUILD HYPERGRAPH: 0.0209500789642\n",
        "BUILD POTENTIALS: 0.0168340206146\n",
        "BUILD LP:"
       ]
      },
      {
       "output_type": "stream",
       "stream": "stdout",
       "text": [
        " 2\n",
        "\n",
        "Gurobi status="
       ]
      },
      {
       "output_type": "stream",
       "stream": "stderr",
       "text": [
        " 0.189838171005\n",
        "SOLVE LP:"
       ]
      },
      {
       "output_type": "stream",
       "stream": "stderr",
       "text": [
        " 0.0760810375214\n",
        "BUILD HYPERGRAPH: 0.020525932312\n",
        "BUILD POTENTIALS: 0.0172290802002\n",
        "BUILD LP:"
       ]
      },
      {
       "output_type": "stream",
       "stream": "stdout",
       "text": [
        " 2\n",
        "\n",
        "Gurobi status="
       ]
      },
      {
       "output_type": "stream",
       "stream": "stderr",
       "text": [
        " 0.263786077499\n",
        "SOLVE LP:"
       ]
      },
      {
       "output_type": "stream",
       "stream": "stderr",
       "text": [
        " 0.0752558708191\n",
        "BUILD HYPERGRAPH: 0.0206089019775\n",
        "BUILD POTENTIALS: 0.0170431137085\n",
        "BUILD LP:"
       ]
      },
      {
       "output_type": "stream",
       "stream": "stdout",
       "text": [
        " 2\n",
        "\n",
        "Gurobi status="
       ]
      },
      {
       "output_type": "stream",
       "stream": "stderr",
       "text": [
        " 0.187890052795\n",
        "SOLVE LP:"
       ]
      },
      {
       "output_type": "stream",
       "stream": "stderr",
       "text": [
        " 0.0772240161896\n",
        "BUILD HYPERGRAPH: 0.0216279029846\n",
        "BUILD POTENTIALS: 0.016951084137\n",
        "BUILD LP:"
       ]
      },
      {
       "output_type": "stream",
       "stream": "stdout",
       "text": [
        " 2\n",
        "\n",
        "Gurobi status="
       ]
      },
      {
       "output_type": "stream",
       "stream": "stderr",
       "text": [
        " 0.251956939697\n",
        "SOLVE LP:"
       ]
      },
      {
       "output_type": "stream",
       "stream": "stderr",
       "text": [
        " 0.0765860080719\n",
        "BUILD HYPERGRAPH: 0.020336151123\n",
        "BUILD POTENTIALS: 0.0164918899536\n",
        "BUILD LP:"
       ]
      },
      {
       "output_type": "stream",
       "stream": "stdout",
       "text": [
        " 2\n",
        "\n",
        "Gurobi status="
       ]
      },
      {
       "output_type": "stream",
       "stream": "stderr",
       "text": [
        " 0.190870046616\n",
        "SOLVE LP:"
       ]
      },
      {
       "output_type": "stream",
       "stream": "stderr",
       "text": [
        " 0.0713319778442\n",
        "BUILD HYPERGRAPH: 0.0201199054718\n",
        "BUILD POTENTIALS: 0.0171399116516\n",
        "BUILD LP:"
       ]
      },
      {
       "output_type": "stream",
       "stream": "stdout",
       "text": [
        " 2\n",
        "\n",
        "Gurobi status="
       ]
      },
      {
       "output_type": "stream",
       "stream": "stderr",
       "text": [
        " 0.249109983444\n",
        "SOLVE LP:"
       ]
      },
      {
       "output_type": "stream",
       "stream": "stderr",
       "text": [
        " 0.0738911628723\n",
        "BUILD HYPERGRAPH: 0.0206999778748\n",
        "BUILD POTENTIALS: 0.0171940326691\n",
        "BUILD LP:"
       ]
      },
      {
       "output_type": "stream",
       "stream": "stdout",
       "text": [
        " 2\n",
        "\n",
        "Gurobi status="
       ]
      },
      {
       "output_type": "stream",
       "stream": "stderr",
       "text": [
        " 0.188613891602\n",
        "SOLVE LP:"
       ]
      },
      {
       "output_type": "stream",
       "stream": "stderr",
       "text": [
        " 0.0708260536194\n",
        "BUILD HYPERGRAPH:"
       ]
      },
      {
       "output_type": "stream",
       "stream": "stderr",
       "text": [
        " 0.0836501121521\n",
        "BUILD POTENTIALS: 0.017758846283\n",
        "BUILD LP:"
       ]
      },
      {
       "output_type": "stream",
       "stream": "stdout",
       "text": [
        " 2\n",
        "\n",
        "Gurobi status="
       ]
      },
      {
       "output_type": "stream",
       "stream": "stderr",
       "text": [
        " 0.207115888596\n",
        "SOLVE LP:"
       ]
      },
      {
       "output_type": "stream",
       "stream": "stderr",
       "text": [
        " 0.0749011039734\n",
        "BUILD HYPERGRAPH: 0.0198900699615\n",
        "BUILD POTENTIALS: 0.0168831348419\n",
        "BUILD LP:"
       ]
      },
      {
       "output_type": "stream",
       "stream": "stdout",
       "text": [
        " 2\n",
        "\n",
        "Gurobi status="
       ]
      },
      {
       "output_type": "stream",
       "stream": "stderr",
       "text": [
        " 0.186615943909\n",
        "SOLVE LP:"
       ]
      },
      {
       "output_type": "stream",
       "stream": "stderr",
       "text": [
        " 0.135459899902\n",
        "BUILD HYPERGRAPH: 0.020045042038\n",
        "BUILD POTENTIALS: 0.01606798172\n",
        "BUILD LP:"
       ]
      },
      {
       "output_type": "stream",
       "stream": "stdout",
       "text": [
        " 2\n",
        "\n",
        "Gurobi status="
       ]
      },
      {
       "output_type": "stream",
       "stream": "stderr",
       "text": [
        " 0.185348987579\n",
        "SOLVE LP:"
       ]
      },
      {
       "output_type": "stream",
       "stream": "stderr",
       "text": [
        " 0.0717060565948\n",
        "BUILD HYPERGRAPH: 0.0204420089722\n",
        "BUILD POTENTIALS: 0.0173149108887\n",
        "BUILD LP:"
       ]
      },
      {
       "output_type": "stream",
       "stream": "stdout",
       "text": [
        " 2\n",
        "\n",
        "Gurobi status="
       ]
      },
      {
       "output_type": "stream",
       "stream": "stderr",
       "text": [
        " 0.182456970215\n",
        "SOLVE LP:"
       ]
      },
      {
       "output_type": "stream",
       "stream": "stderr",
       "text": [
        " 0.134788036346\n",
        "BUILD HYPERGRAPH: 0.020162820816\n",
        "BUILD POTENTIALS: 0.017256975174\n",
        "BUILD LP:"
       ]
      },
      {
       "output_type": "stream",
       "stream": "stdout",
       "text": [
        " 2\n",
        "\n",
        "Gurobi status="
       ]
      },
      {
       "output_type": "stream",
       "stream": "stderr",
       "text": [
        " 0.183917045593\n",
        "SOLVE LP:"
       ]
      },
      {
       "output_type": "stream",
       "stream": "stderr",
       "text": [
        " 0.0725200176239\n",
        "BUILD HYPERGRAPH: 0.0208690166473\n",
        "BUILD POTENTIALS: 0.0164530277252\n",
        "BUILD LP:"
       ]
      },
      {
       "output_type": "stream",
       "stream": "stdout",
       "text": [
        " 2\n",
        "\n",
        "Gurobi status="
       ]
      },
      {
       "output_type": "stream",
       "stream": "stderr",
       "text": [
        " 0.182356119156\n",
        "SOLVE LP:"
       ]
      },
      {
       "output_type": "stream",
       "stream": "stderr",
       "text": [
        " 0.137028932571\n",
        "BUILD HYPERGRAPH: 0.0059289932251\n",
        "BUILD POTENTIALS: 0.00450992584229\n",
        "BUILD LP:"
       ]
      },
      {
       "output_type": "stream",
       "stream": "stdout",
       "text": [
        " 2\n",
        "\n",
        "Gurobi status="
       ]
      },
      {
       "output_type": "stream",
       "stream": "stderr",
       "text": [
        " 0.0522978305817\n",
        "SOLVE LP: 0.0221388339996\n",
        "BUILD HYPERGRAPH: 0.0055148601532\n",
        "BUILD POTENTIALS: 0.00437617301941\n",
        "BUILD LP:"
       ]
      },
      {
       "output_type": "stream",
       "stream": "stdout",
       "text": [
        " 2\n",
        "\n",
        "Gurobi status="
       ]
      },
      {
       "output_type": "stream",
       "stream": "stderr",
       "text": [
        " 0.0540599822998\n",
        "SOLVE LP: 0.022036075592\n",
        "BUILD HYPERGRAPH: 0.0208461284637\n",
        "BUILD POTENTIALS:"
       ]
      },
      {
       "output_type": "stream",
       "stream": "stderr",
       "text": [
        " 0.0163478851318\n",
        "BUILD LP:"
       ]
      },
      {
       "output_type": "stream",
       "stream": "stdout",
       "text": [
        " 2\n",
        "\n",
        "Gurobi status="
       ]
      },
      {
       "output_type": "stream",
       "stream": "stderr",
       "text": [
        " 0.21475982666\n",
        "SOLVE LP:"
       ]
      },
      {
       "output_type": "stream",
       "stream": "stderr",
       "text": [
        " 0.0703608989716\n",
        "BUILD HYPERGRAPH:"
       ]
      },
      {
       "output_type": "stream",
       "stream": "stderr",
       "text": [
        " 0.0844068527222\n",
        "BUILD POTENTIALS: 0.0174691677094\n",
        "BUILD LP:"
       ]
      },
      {
       "output_type": "stream",
       "stream": "stdout",
       "text": [
        " 2\n",
        "\n",
        "Gurobi status="
       ]
      },
      {
       "output_type": "stream",
       "stream": "stderr",
       "text": [
        " 0.185878992081\n",
        "SOLVE LP:"
       ]
      },
      {
       "output_type": "stream",
       "stream": "stderr",
       "text": [
        " 0.0710971355438\n",
        "BUILD HYPERGRAPH: 0.0196740627289\n",
        "BUILD POTENTIALS: 0.0172491073608\n",
        "BUILD LP:"
       ]
      },
      {
       "output_type": "stream",
       "stream": "stdout",
       "text": [
        " 2\n",
        "\n",
        "Gurobi status="
       ]
      },
      {
       "output_type": "stream",
       "stream": "stderr",
       "text": [
        " 0.244082927704\n",
        "SOLVE LP:"
       ]
      },
      {
       "output_type": "stream",
       "stream": "stderr",
       "text": [
        " 0.0716691017151\n",
        "BUILD HYPERGRAPH: 0.019641160965\n",
        "BUILD POTENTIALS: 0.01726603508\n",
        "BUILD LP:"
       ]
      },
      {
       "output_type": "stream",
       "stream": "stdout",
       "text": [
        " 2\n",
        "\n",
        "Gurobi status="
       ]
      },
      {
       "output_type": "stream",
       "stream": "stderr",
       "text": [
        " 0.195461034775\n",
        "SOLVE LP:"
       ]
      },
      {
       "output_type": "stream",
       "stream": "stderr",
       "text": [
        " 0.0718820095062\n",
        "BUILD HYPERGRAPH: 0.0203449726105\n",
        "BUILD POTENTIALS: 0.0162370204926\n",
        "BUILD LP:"
       ]
      },
      {
       "output_type": "stream",
       "stream": "stdout",
       "text": [
        " 2\n",
        "\n",
        "Gurobi status="
       ]
      },
      {
       "output_type": "stream",
       "stream": "stderr",
       "text": [
        " 0.246565818787\n",
        "SOLVE LP:"
       ]
      },
      {
       "output_type": "stream",
       "stream": "stderr",
       "text": [
        " 0.0726599693298\n",
        "BUILD HYPERGRAPH: 0.0198240280151\n",
        "BUILD POTENTIALS: 0.0165920257568\n",
        "BUILD LP:"
       ]
      },
      {
       "output_type": "stream",
       "stream": "stdout",
       "text": [
        " 2\n",
        "\n",
        "Gurobi status="
       ]
      },
      {
       "output_type": "stream",
       "stream": "stderr",
       "text": [
        " 0.185064077377\n",
        "SOLVE LP:"
       ]
      },
      {
       "output_type": "stream",
       "stream": "stderr",
       "text": [
        " 0.0721938610077\n",
        "BUILD HYPERGRAPH: 0.0197770595551\n",
        "BUILD POTENTIALS: 0.0162460803986\n",
        "BUILD LP:"
       ]
      },
      {
       "output_type": "stream",
       "stream": "stdout",
       "text": [
        " 2\n",
        "\n",
        "Gurobi status="
       ]
      },
      {
       "output_type": "stream",
       "stream": "stderr",
       "text": [
        " 0.268225908279\n",
        "SOLVE LP:"
       ]
      },
      {
       "output_type": "stream",
       "stream": "stderr",
       "text": [
        " 0.0724489688873\n",
        "BUILD HYPERGRAPH: 0.0195782184601\n",
        "BUILD POTENTIALS: 0.0164930820465\n",
        "BUILD LP:"
       ]
      },
      {
       "output_type": "stream",
       "stream": "stdout",
       "text": [
        " 2\n",
        "\n",
        "Gurobi status="
       ]
      },
      {
       "output_type": "stream",
       "stream": "stderr",
       "text": [
        " 0.18671298027\n",
        "SOLVE LP:"
       ]
      },
      {
       "output_type": "stream",
       "stream": "stderr",
       "text": [
        " 0.0715429782867\n",
        "BUILD HYPERGRAPH: 0.00107002258301\n",
        "BUILD POTENTIALS: 0.000911951065063\n",
        "BUILD LP: 0.0103099346161\n",
        "SOLVE LP: 0.0047562122345\n",
        "BUILD HYPERGRAPH: 0.0212540626526\n",
        "BUILD POTENTIALS:"
       ]
      },
      {
       "output_type": "stream",
       "stream": "stderr",
       "text": [
        " 0.0172939300537\n",
        "BUILD LP:"
       ]
      },
      {
       "output_type": "stream",
       "stream": "stdout",
       "text": [
        " 2\n",
        "\n",
        "Gurobi status= 2\n",
        "\n",
        "Gurobi status="
       ]
      },
      {
       "output_type": "stream",
       "stream": "stderr",
       "text": [
        " 0.24863910675\n",
        "SOLVE LP:"
       ]
      },
      {
       "output_type": "stream",
       "stream": "stderr",
       "text": [
        " 0.0715780258179\n",
        "BUILD HYPERGRAPH: 0.0195939540863\n",
        "BUILD POTENTIALS: 0.0172049999237\n",
        "BUILD LP:"
       ]
      },
      {
       "output_type": "stream",
       "stream": "stdout",
       "text": [
        " 2\n",
        "\n",
        "Gurobi status="
       ]
      },
      {
       "output_type": "stream",
       "stream": "stderr",
       "text": [
        " 0.185212850571\n",
        "SOLVE LP:"
       ]
      },
      {
       "output_type": "stream",
       "stream": "stderr",
       "text": [
        " 0.0795290470123\n",
        "BUILD HYPERGRAPH: 0.0198619365692\n",
        "BUILD POTENTIALS: 0.0167920589447\n",
        "BUILD LP:"
       ]
      },
      {
       "output_type": "stream",
       "stream": "stdout",
       "text": [
        " 2\n",
        "\n",
        "Gurobi status="
       ]
      },
      {
       "output_type": "stream",
       "stream": "stderr",
       "text": [
        " 0.247559070587\n",
        "SOLVE LP:"
       ]
      },
      {
       "output_type": "stream",
       "stream": "stderr",
       "text": [
        " 0.0735349655151\n",
        "BUILD HYPERGRAPH: 0.019770860672\n",
        "BUILD POTENTIALS: 0.0168199539185\n",
        "BUILD LP:"
       ]
      },
      {
       "output_type": "stream",
       "stream": "stdout",
       "text": [
        " 2\n",
        "\n",
        "Gurobi status="
       ]
      },
      {
       "output_type": "stream",
       "stream": "stderr",
       "text": [
        " 0.184513092041\n",
        "SOLVE LP:"
       ]
      },
      {
       "output_type": "stream",
       "stream": "stderr",
       "text": [
        " 0.131071090698\n",
        "BUILD HYPERGRAPH: 0.0200638771057\n",
        "BUILD POTENTIALS: 0.0168190002441\n",
        "BUILD LP:"
       ]
      },
      {
       "output_type": "stream",
       "stream": "stdout",
       "text": [
        " 2\n",
        "\n",
        "Gurobi status="
       ]
      },
      {
       "output_type": "stream",
       "stream": "stderr",
       "text": [
        " 0.185101032257\n",
        "SOLVE LP:"
       ]
      },
      {
       "output_type": "stream",
       "stream": "stderr",
       "text": [
        " 0.0759661197662\n",
        "BUILD HYPERGRAPH: 0.0193109512329\n",
        "BUILD POTENTIALS: 0.0165150165558\n",
        "BUILD LP:"
       ]
      },
      {
       "output_type": "stream",
       "stream": "stdout",
       "text": [
        " 2\n",
        "\n",
        "Gurobi status="
       ]
      },
      {
       "output_type": "stream",
       "stream": "stderr",
       "text": [
        " 0.246748924255\n",
        "SOLVE LP:"
       ]
      },
      {
       "output_type": "stream",
       "stream": "stderr",
       "text": [
        " 0.0716278553009\n",
        "BUILD HYPERGRAPH: 0.0196750164032\n",
        "BUILD POTENTIALS: 0.0170381069183\n",
        "BUILD LP:"
       ]
      },
      {
       "output_type": "stream",
       "stream": "stdout",
       "text": [
        " 2\n",
        "\n",
        "Gurobi status="
       ]
      },
      {
       "output_type": "stream",
       "stream": "stderr",
       "text": [
        " 0.19212603569\n",
        "SOLVE LP:"
       ]
      },
      {
       "output_type": "stream",
       "stream": "stderr",
       "text": [
        " 0.0725448131561\n",
        "BUILD HYPERGRAPH: 0.0199320316315\n",
        "BUILD POTENTIALS: 0.017306804657\n",
        "BUILD LP:"
       ]
      },
      {
       "output_type": "stream",
       "stream": "stdout",
       "text": [
        " 2\n",
        "\n",
        "Gurobi status="
       ]
      },
      {
       "output_type": "stream",
       "stream": "stderr",
       "text": [
        " 0.248589992523\n",
        "SOLVE LP:"
       ]
      },
      {
       "output_type": "stream",
       "stream": "stderr",
       "text": [
        " 0.0764300823212\n",
        "BUILD HYPERGRAPH: 0.019464969635\n",
        "BUILD POTENTIALS: 0.0172970294952\n",
        "BUILD LP:"
       ]
      },
      {
       "output_type": "stream",
       "stream": "stdout",
       "text": [
        " 2\n",
        "\n",
        "Gurobi status="
       ]
      },
      {
       "output_type": "stream",
       "stream": "stderr",
       "text": [
        " 0.186222076416\n",
        "SOLVE LP:"
       ]
      },
      {
       "output_type": "stream",
       "stream": "stderr",
       "text": [
        " 0.0717248916626\n",
        "BUILD HYPERGRAPH: 0.0196061134338\n",
        "BUILD POTENTIALS: 0.0165939331055\n",
        "BUILD LP:"
       ]
      },
      {
       "output_type": "stream",
       "stream": "stdout",
       "text": [
        " 2\n",
        "\n",
        "Gurobi status="
       ]
      },
      {
       "output_type": "stream",
       "stream": "stderr",
       "text": [
        " 0.249378919601\n",
        "SOLVE LP:"
       ]
      },
      {
       "output_type": "stream",
       "stream": "stderr",
       "text": [
        " 0.0729739665985\n",
        "BUILD HYPERGRAPH: 0.0201258659363\n",
        "BUILD POTENTIALS: 0.0168669223785\n",
        "BUILD LP:"
       ]
      },
      {
       "output_type": "stream",
       "stream": "stdout",
       "text": [
        " 2\n",
        "\n",
        "Gurobi status="
       ]
      },
      {
       "output_type": "stream",
       "stream": "stderr",
       "text": [
        " 0.185163974762\n",
        "SOLVE LP:"
       ]
      },
      {
       "output_type": "stream",
       "stream": "stderr",
       "text": [
        " 0.0721299648285\n",
        "BUILD HYPERGRAPH: 0.0255990028381\n",
        "BUILD POTENTIALS:"
       ]
      },
      {
       "output_type": "stream",
       "stream": "stderr",
       "text": [
        " 0.0252850055695\n",
        "BUILD LP:"
       ]
      },
      {
       "output_type": "stream",
       "stream": "stdout",
       "text": [
        " 2\n",
        "\n",
        "Gurobi status="
       ]
      },
      {
       "output_type": "stream",
       "stream": "stderr",
       "text": [
        " 0.248040914536\n",
        "SOLVE LP:"
       ]
      },
      {
       "output_type": "stream",
       "stream": "stderr",
       "text": [
        " 0.0727190971375\n",
        "BUILD HYPERGRAPH: 0.019553899765\n",
        "BUILD POTENTIALS: 0.0174930095673\n",
        "BUILD LP:"
       ]
      },
      {
       "output_type": "stream",
       "stream": "stdout",
       "text": [
        " 2\n",
        "\n",
        "Gurobi status="
       ]
      },
      {
       "output_type": "stream",
       "stream": "stderr",
       "text": [
        " 0.186942100525\n",
        "SOLVE LP:"
       ]
      },
      {
       "output_type": "stream",
       "stream": "stderr",
       "text": [
        " 0.0739319324493\n",
        "BUILD HYPERGRAPH:"
       ]
      },
      {
       "output_type": "stream",
       "stream": "stderr",
       "text": [
        " 0.0820269584656\n",
        "BUILD POTENTIALS: 0.0175771713257\n",
        "BUILD LP:"
       ]
      },
      {
       "output_type": "stream",
       "stream": "stdout",
       "text": [
        " 2\n",
        "\n",
        "Gurobi status="
       ]
      },
      {
       "output_type": "stream",
       "stream": "stderr",
       "text": [
        " 0.184693098068\n",
        "SOLVE LP:"
       ]
      },
      {
       "output_type": "stream",
       "stream": "stderr",
       "text": [
        " 0.0731420516968\n",
        "BUILD HYPERGRAPH: 0.0011510848999\n",
        "BUILD POTENTIALS: 0.000928163528442\n",
        "BUILD LP: 0.012106180191\n",
        "SOLVE LP: 0.00617599487305\n",
        "BUILD HYPERGRAPH: 0.00579404830933\n",
        "BUILD POTENTIALS: 0.00467300415039\n",
        "BUILD LP:"
       ]
      },
      {
       "output_type": "stream",
       "stream": "stdout",
       "text": [
        " 2\n",
        "\n",
        "Gurobi status= 2\n",
        "\n",
        "Gurobi status="
       ]
      },
      {
       "output_type": "stream",
       "stream": "stderr",
       "text": [
        " 0.0563180446625\n",
        "SOLVE LP: 0.0225830078125\n",
        "BUILD HYPERGRAPH: 0.0206480026245\n",
        "BUILD POTENTIALS:"
       ]
      },
      {
       "output_type": "stream",
       "stream": "stderr",
       "text": [
        " 0.017021894455\n",
        "BUILD LP:"
       ]
      },
      {
       "output_type": "stream",
       "stream": "stdout",
       "text": [
        " 2\n",
        "\n",
        "Gurobi status="
       ]
      },
      {
       "output_type": "stream",
       "stream": "stderr",
       "text": [
        " 0.247050046921\n",
        "SOLVE LP:"
       ]
      },
      {
       "output_type": "stream",
       "stream": "stderr",
       "text": [
        " 0.0735402107239\n",
        "BUILD HYPERGRAPH: 0.0198221206665\n",
        "BUILD POTENTIALS: 0.0176939964294\n",
        "BUILD LP:"
       ]
      },
      {
       "output_type": "stream",
       "stream": "stdout",
       "text": [
        " 2\n",
        "\n",
        "Gurobi status="
       ]
      },
      {
       "output_type": "stream",
       "stream": "stderr",
       "text": [
        " 0.185317993164\n",
        "SOLVE LP:"
       ]
      },
      {
       "output_type": "stream",
       "stream": "stderr",
       "text": [
        " 0.0715889930725\n",
        "BUILD HYPERGRAPH: 0.00545406341553\n",
        "BUILD POTENTIALS: 0.00485897064209\n",
        "BUILD LP:"
       ]
      },
      {
       "output_type": "stream",
       "stream": "stdout",
       "text": [
        " 2\n",
        "\n",
        "Gurobi status="
       ]
      },
      {
       "output_type": "stream",
       "stream": "stderr",
       "text": [
        " 0.0526049137115\n",
        "SOLVE LP: 0.0213460922241\n",
        "BUILD HYPERGRAPH: 0.0199248790741\n",
        "BUILD POTENTIALS:"
       ]
      },
      {
       "output_type": "stream",
       "stream": "stderr",
       "text": [
        " 0.0169160366058\n",
        "BUILD LP:"
       ]
      },
      {
       "output_type": "stream",
       "stream": "stdout",
       "text": [
        " 2\n",
        "\n",
        "Gurobi status="
       ]
      },
      {
       "output_type": "stream",
       "stream": "stderr",
       "text": [
        " 0.254287958145\n",
        "SOLVE LP:"
       ]
      },
      {
       "output_type": "stream",
       "stream": "stderr",
       "text": [
        " 0.07306599617\n",
        "BUILD HYPERGRAPH: 0.0197491645813\n",
        "BUILD POTENTIALS: 0.0171301364899\n",
        "BUILD LP:"
       ]
      },
      {
       "output_type": "stream",
       "stream": "stdout",
       "text": [
        " 2\n",
        "\n",
        "Gurobi status="
       ]
      },
      {
       "output_type": "stream",
       "stream": "stderr",
       "text": [
        " 0.187357902527\n",
        "SOLVE LP:"
       ]
      },
      {
       "output_type": "stream",
       "stream": "stderr",
       "text": [
        " 0.0709450244904\n",
        "BUILD HYPERGRAPH:"
       ]
      },
      {
       "output_type": "stream",
       "stream": "stderr",
       "text": [
        " 0.0813851356506\n",
        "BUILD POTENTIALS: 0.0172650814056\n",
        "BUILD LP:"
       ]
      },
      {
       "output_type": "stream",
       "stream": "stdout",
       "text": [
        " 2\n",
        "\n",
        "Gurobi status="
       ]
      },
      {
       "output_type": "stream",
       "stream": "stderr",
       "text": [
        " 0.184913873672\n",
        "SOLVE LP:"
       ]
      },
      {
       "output_type": "stream",
       "stream": "stderr",
       "text": [
        " 0.0714738368988\n",
        "BUILD HYPERGRAPH: 0.00590109825134\n",
        "BUILD POTENTIALS: 0.0043830871582\n",
        "BUILD LP:"
       ]
      },
      {
       "output_type": "stream",
       "stream": "stdout",
       "text": [
        " 2\n",
        "\n",
        "Gurobi status="
       ]
      },
      {
       "output_type": "stream",
       "stream": "stderr",
       "text": [
        " 0.0531549453735\n",
        "SOLVE LP: 0.0211038589478\n",
        "BUILD HYPERGRAPH: 0.0207858085632\n",
        "BUILD POTENTIALS:"
       ]
      },
      {
       "output_type": "stream",
       "stream": "stderr",
       "text": [
        " 0.018364906311\n",
        "BUILD LP:"
       ]
      },
      {
       "output_type": "stream",
       "stream": "stdout",
       "text": [
        " 2\n",
        "\n",
        "Gurobi status="
       ]
      },
      {
       "output_type": "stream",
       "stream": "stderr",
       "text": [
        " 0.274049043655\n",
        "SOLVE LP:"
       ]
      },
      {
       "output_type": "stream",
       "stream": "stderr",
       "text": [
        " 0.0715010166168\n",
        "BUILD HYPERGRAPH: 0.0205090045929\n",
        "BUILD POTENTIALS: 0.0162448883057\n",
        "BUILD LP:"
       ]
      },
      {
       "output_type": "stream",
       "stream": "stdout",
       "text": [
        " 2\n",
        "\n",
        "Gurobi status="
       ]
      },
      {
       "output_type": "stream",
       "stream": "stderr",
       "text": [
        " 0.18524312973\n",
        "SOLVE LP:"
       ]
      },
      {
       "output_type": "stream",
       "stream": "stderr",
       "text": [
        " 0.0720200538635\n",
        "BUILD HYPERGRAPH: 0.00557994842529\n",
        "BUILD POTENTIALS: 0.004399061203\n",
        "BUILD LP:"
       ]
      },
      {
       "output_type": "stream",
       "stream": "stdout",
       "text": [
        " 2\n",
        "\n",
        "Gurobi status="
       ]
      },
      {
       "output_type": "stream",
       "stream": "stderr",
       "text": [
        " 0.0527670383453\n",
        "SOLVE LP: 0.0208220481873\n",
        "BUILD HYPERGRAPH:"
       ]
      },
      {
       "output_type": "stream",
       "stream": "stderr",
       "text": [
        " 0.0845232009888\n",
        "BUILD POTENTIALS: 0.0174210071564\n",
        "BUILD LP:"
       ]
      },
      {
       "output_type": "stream",
       "stream": "stdout",
       "text": [
        " 2\n",
        "\n",
        "Gurobi status="
       ]
      },
      {
       "output_type": "stream",
       "stream": "stderr",
       "text": [
        " 0.185299873352\n",
        "SOLVE LP:"
       ]
      },
      {
       "output_type": "stream",
       "stream": "stderr",
       "text": [
        " 0.0724329948425\n",
        "BUILD HYPERGRAPH: 0.0211980342865\n",
        "BUILD POTENTIALS: 0.0179138183594\n",
        "BUILD LP:"
       ]
      },
      {
       "output_type": "stream",
       "stream": "stdout",
       "text": [
        " 2\n",
        "\n",
        "Gurobi status="
       ]
      },
      {
       "output_type": "stream",
       "stream": "stderr",
       "text": [
        " 0.245105028152\n",
        "SOLVE LP:"
       ]
      },
      {
       "output_type": "stream",
       "stream": "stdout",
       "text": [
        " 2\n",
        "\n",
        "Gurobi status= 2\n",
        "\n",
        "Gurobi status="
       ]
      },
      {
       "output_type": "stream",
       "stream": "stderr",
       "text": [
        " 0.071583032608\n",
        "BUILD HYPERGRAPH: 0.00114798545837\n",
        "BUILD POTENTIALS: 0.000882148742676\n",
        "BUILD LP: 0.0104961395264\n",
        "SOLVE LP: 0.00485587120056\n",
        "BUILD HYPERGRAPH: 0.00119686126709\n",
        "BUILD POTENTIALS: 0.00100493431091\n",
        "BUILD LP: 0.0112249851227\n",
        "SOLVE LP: 0.00529003143311\n",
        "BUILD HYPERGRAPH:"
       ]
      },
      {
       "output_type": "stream",
       "stream": "stderr",
       "text": [
        " 0.0215089321136\n",
        "BUILD POTENTIALS: 0.0182909965515\n",
        "BUILD LP:"
       ]
      },
      {
       "output_type": "stream",
       "stream": "stdout",
       "text": [
        " 2\n",
        "\n",
        "Gurobi status="
       ]
      },
      {
       "output_type": "stream",
       "stream": "stderr",
       "text": [
        " 0.186771154404\n",
        "SOLVE LP:"
       ]
      },
      {
       "output_type": "stream",
       "stream": "stderr",
       "text": [
        " 0.0703699588776\n",
        "BUILD HYPERGRAPH: 0.0198690891266\n",
        "BUILD POTENTIALS: 0.0163819789886\n",
        "BUILD LP:"
       ]
      },
      {
       "output_type": "stream",
       "stream": "stdout",
       "text": [
        " 2\n",
        "\n",
        "Gurobi status="
       ]
      },
      {
       "output_type": "stream",
       "stream": "stderr",
       "text": [
        " 0.247251987457\n",
        "SOLVE LP:"
       ]
      },
      {
       "output_type": "stream",
       "stream": "stderr",
       "text": [
        " 0.0787711143494\n",
        "BUILD HYPERGRAPH: 0.00569701194763\n",
        "BUILD POTENTIALS: 0.00474095344543\n",
        "BUILD LP:"
       ]
      },
      {
       "output_type": "stream",
       "stream": "stdout",
       "text": [
        " 2\n",
        "\n",
        "Gurobi status="
       ]
      },
      {
       "output_type": "stream",
       "stream": "stderr",
       "text": [
        " 0.0530180931091\n",
        "SOLVE LP: 0.0215730667114\n",
        "BUILD HYPERGRAPH: 0.00111699104309\n",
        "BUILD POTENTIALS: 0.000887155532837\n",
        "BUILD LP: 0.0110960006714\n",
        "SOLVE LP: 0.00554299354553\n",
        "BUILD HYPERGRAPH:"
       ]
      },
      {
       "output_type": "stream",
       "stream": "stderr",
       "text": [
        " 0.0211310386658\n",
        "BUILD POTENTIALS: 0.0177531242371\n",
        "BUILD LP:"
       ]
      },
      {
       "output_type": "stream",
       "stream": "stdout",
       "text": [
        " 2\n",
        "\n",
        "Gurobi status= 2\n",
        "\n",
        "Gurobi status="
       ]
      },
      {
       "output_type": "stream",
       "stream": "stderr",
       "text": [
        " 0.185169935226\n",
        "SOLVE LP:"
       ]
      },
      {
       "output_type": "stream",
       "stream": "stderr",
       "text": [
        " 0.0727159976959\n",
        "BUILD HYPERGRAPH:"
       ]
      },
      {
       "output_type": "stream",
       "stream": "stderr",
       "text": [
        " 0.0838010311127\n",
        "BUILD POTENTIALS: 0.0174419879913\n",
        "BUILD LP:"
       ]
      },
      {
       "output_type": "stream",
       "stream": "stdout",
       "text": [
        " 2\n",
        "\n",
        "Gurobi status="
       ]
      },
      {
       "output_type": "stream",
       "stream": "stderr",
       "text": [
        " 0.185657978058\n",
        "SOLVE LP:"
       ]
      },
      {
       "output_type": "stream",
       "stream": "stderr",
       "text": [
        " 0.0711851119995\n",
        "BUILD HYPERGRAPH: 0.0199129581451\n",
        "BUILD POTENTIALS: 0.0171699523926\n",
        "BUILD LP:"
       ]
      },
      {
       "output_type": "stream",
       "stream": "stdout",
       "text": [
        " 2\n",
        "\n",
        "Gurobi status="
       ]
      },
      {
       "output_type": "stream",
       "stream": "stderr",
       "text": [
        " 0.190570116043\n",
        "SOLVE LP:"
       ]
      },
      {
       "output_type": "stream",
       "stream": "stderr",
       "text": [
        " 0.131513118744\n",
        "BUILD HYPERGRAPH: 0.0201189517975\n",
        "BUILD POTENTIALS: 0.0172350406647\n",
        "BUILD LP:"
       ]
      },
      {
       "output_type": "stream",
       "stream": "stdout",
       "text": [
        " 2\n",
        "\n",
        "Gurobi status="
       ]
      },
      {
       "output_type": "stream",
       "stream": "stderr",
       "text": [
        " 0.187329053879\n",
        "SOLVE LP:"
       ]
      },
      {
       "output_type": "stream",
       "stream": "stderr",
       "text": [
        " 0.0715501308441\n",
        "BUILD HYPERGRAPH: 0.0196678638458\n",
        "BUILD POTENTIALS: 0.0175590515137\n",
        "BUILD LP:"
       ]
      },
      {
       "output_type": "stream",
       "stream": "stdout",
       "text": [
        " 2\n",
        "\n",
        "Gurobi status="
       ]
      },
      {
       "output_type": "stream",
       "stream": "stderr",
       "text": [
        " 0.24702501297\n",
        "SOLVE LP:"
       ]
      },
      {
       "output_type": "stream",
       "stream": "stderr",
       "text": [
        " 0.0732600688934\n",
        "BUILD HYPERGRAPH: 0.0195331573486\n",
        "BUILD POTENTIALS: 0.0164699554443\n",
        "BUILD LP:"
       ]
      },
      {
       "output_type": "stream",
       "stream": "stdout",
       "text": [
        " 2\n",
        "\n",
        "Gurobi status="
       ]
      },
      {
       "output_type": "stream",
       "stream": "stderr",
       "text": [
        " 0.191133022308\n",
        "SOLVE LP:"
       ]
      },
      {
       "output_type": "stream",
       "stream": "stderr",
       "text": [
        " 0.0728571414948\n",
        "BUILD HYPERGRAPH: 0.00110507011414\n",
        "BUILD POTENTIALS: 0.000908136367798\n",
        "BUILD LP: 0.0103371143341\n",
        "SOLVE LP: 0.00473713874817\n",
        "BUILD HYPERGRAPH: 0.0200448036194\n",
        "BUILD POTENTIALS:"
       ]
      },
      {
       "output_type": "stream",
       "stream": "stderr",
       "text": [
        " 0.0181028842926\n",
        "BUILD LP:"
       ]
      },
      {
       "output_type": "stream",
       "stream": "stdout",
       "text": [
        " 2\n",
        "\n",
        "Gurobi status= 2\n",
        "\n",
        "Gurobi status="
       ]
      },
      {
       "output_type": "stream",
       "stream": "stderr",
       "text": [
        " 0.249191999435\n",
        "SOLVE LP:"
       ]
      },
      {
       "output_type": "stream",
       "stream": "stderr",
       "text": [
        " 0.0724201202393\n",
        "BUILD HYPERGRAPH: 0.0198450088501\n",
        "BUILD POTENTIALS: 0.0168509483337\n",
        "BUILD LP:"
       ]
      },
      {
       "output_type": "stream",
       "stream": "stdout",
       "text": [
        " 2\n",
        "\n",
        "Gurobi status="
       ]
      },
      {
       "output_type": "stream",
       "stream": "stderr",
       "text": [
        " 0.184279918671\n",
        "SOLVE LP:"
       ]
      },
      {
       "output_type": "stream",
       "stream": "stderr",
       "text": [
        " 0.0717251300812\n",
        "BUILD HYPERGRAPH: 0.0197501182556\n",
        "BUILD POTENTIALS: 0.0163719654083\n",
        "BUILD LP:"
       ]
      },
      {
       "output_type": "stream",
       "stream": "stdout",
       "text": [
        " 2\n",
        "\n",
        "Gurobi status="
       ]
      },
      {
       "output_type": "stream",
       "stream": "stderr",
       "text": [
        " 0.27502989769\n",
        "SOLVE LP:"
       ]
      },
      {
       "output_type": "stream",
       "stream": "stderr",
       "text": [
        " 0.0737228393555\n",
        "BUILD HYPERGRAPH: 0.0204629898071\n",
        "BUILD POTENTIALS: 0.0163788795471\n",
        "BUILD LP:"
       ]
      },
      {
       "output_type": "stream",
       "stream": "stdout",
       "text": [
        " 2\n",
        "\n",
        "Gurobi status="
       ]
      },
      {
       "output_type": "stream",
       "stream": "stderr",
       "text": [
        " 0.185218811035\n",
        "SOLVE LP:"
       ]
      },
      {
       "output_type": "stream",
       "stream": "stderr",
       "text": [
        " 0.072897195816\n",
        "BUILD HYPERGRAPH: 0.0200431346893\n",
        "BUILD POTENTIALS: 0.0171270370483\n",
        "BUILD LP:"
       ]
      },
      {
       "output_type": "stream",
       "stream": "stdout",
       "text": [
        " 2\n",
        "\n",
        "Gurobi status="
       ]
      },
      {
       "output_type": "stream",
       "stream": "stderr",
       "text": [
        " 0.245449066162\n",
        "SOLVE LP:"
       ]
      },
      {
       "output_type": "stream",
       "stream": "stderr",
       "text": [
        " 0.0750069618225\n",
        "BUILD HYPERGRAPH: 0.00561285018921\n",
        "BUILD POTENTIALS: 0.00449705123901\n",
        "BUILD LP:"
       ]
      },
      {
       "output_type": "stream",
       "stream": "stdout",
       "text": [
        " 2\n",
        "\n",
        "Gurobi status="
       ]
      },
      {
       "output_type": "stream",
       "stream": "stderr",
       "text": [
        " 0.0525569915771\n",
        "SOLVE LP: 0.0216059684753\n",
        "BUILD HYPERGRAPH: 0.00111794471741\n",
        "BUILD POTENTIALS: 0.000916957855225\n",
        "BUILD LP: 0.0105030536652\n",
        "SOLVE LP: 0.00513315200806\n",
        "BUILD HYPERGRAPH: 0.00601601600647\n",
        "BUILD POTENTIALS:"
       ]
      },
      {
       "output_type": "stream",
       "stream": "stderr",
       "text": [
        " 0.00520896911621\n",
        "BUILD LP:"
       ]
      },
      {
       "output_type": "stream",
       "stream": "stdout",
       "text": [
        " 2\n",
        "\n",
        "Gurobi status= 2\n",
        "\n",
        "Gurobi status="
       ]
      },
      {
       "output_type": "stream",
       "stream": "stderr",
       "text": [
        " 0.0569570064545\n",
        "SOLVE LP: 0.0212709903717\n",
        "BUILD HYPERGRAPH: 0.00106596946716\n",
        "BUILD POTENTIALS: 0.000885963439941\n",
        "BUILD LP: 0.010379076004\n",
        "SOLVE LP: 0.00525903701782\n",
        "BUILD HYPERGRAPH: 0.0011260509491\n",
        "BUILD POTENTIALS: 0.000960826873779\n",
        "BUILD LP:"
       ]
      },
      {
       "output_type": "stream",
       "stream": "stdout",
       "text": [
        " 2\n",
        "\n",
        "Gurobi status= 2\n",
        "\n",
        "Gurobi status= 2\n",
        "\n",
        "Gurobi status="
       ]
      },
      {
       "output_type": "stream",
       "stream": "stderr",
       "text": [
        " 0.0108821392059\n",
        "SOLVE LP: 0.00500011444092\n",
        "BUILD HYPERGRAPH: 0.00106120109558\n",
        "BUILD POTENTIALS: 0.000884056091309\n",
        "BUILD LP: 0.0117580890656\n",
        "SOLVE LP: 0.00560283660889\n",
        "BUILD HYPERGRAPH: 0.00110411643982\n",
        "BUILD POTENTIALS: 0.000895977020264\n",
        "BUILD LP: 0.0134899616241\n",
        "SOLVE LP: 0.00518989562988\n",
        "BUILD HYPERGRAPH:"
       ]
      },
      {
       "output_type": "stream",
       "stream": "stderr",
       "text": [
        " 0.0217759609222\n",
        "BUILD POTENTIALS: 0.0180728435516\n",
        "BUILD LP:"
       ]
      },
      {
       "output_type": "stream",
       "stream": "stdout",
       "text": [
        " 2\n",
        "\n",
        "Gurobi status= 2\n",
        "\n",
        "Gurobi status="
       ]
      },
      {
       "output_type": "stream",
       "stream": "stderr",
       "text": [
        " 0.247164011002\n",
        "SOLVE LP:"
       ]
      },
      {
       "output_type": "stream",
       "stream": "stderr",
       "text": [
        " 0.0718739032745\n",
        "BUILD HYPERGRAPH: 0.00109887123108\n",
        "BUILD POTENTIALS: 0.000897884368896\n",
        "BUILD LP: 0.0107529163361\n",
        "SOLVE LP: 0.00493407249451\n",
        "BUILD HYPERGRAPH: 0.0212090015411\n",
        "BUILD POTENTIALS:"
       ]
      },
      {
       "output_type": "stream",
       "stream": "stderr",
       "text": [
        " 0.0179560184479\n",
        "BUILD LP:"
       ]
      },
      {
       "output_type": "stream",
       "stream": "stdout",
       "text": [
        " 2\n",
        "\n",
        "Gurobi status= 2\n",
        "\n",
        "Gurobi status="
       ]
      },
      {
       "output_type": "stream",
       "stream": "stderr",
       "text": [
        " 0.185682058334\n",
        "SOLVE LP:"
       ]
      },
      {
       "output_type": "stream",
       "stream": "stderr",
       "text": [
        " 0.0720701217651\n",
        "BUILD HYPERGRAPH: 0.00571393966675\n",
        "BUILD POTENTIALS: 0.00450110435486\n",
        "BUILD LP:"
       ]
      },
      {
       "output_type": "stream",
       "stream": "stdout",
       "text": [
        " 2\n",
        "\n",
        "Gurobi status="
       ]
      },
      {
       "output_type": "stream",
       "stream": "stderr",
       "text": [
        " 0.114540815353\n",
        "SOLVE LP: 0.0219991207123\n",
        "BUILD HYPERGRAPH: 0.0204849243164\n",
        "BUILD POTENTIALS:"
       ]
      },
      {
       "output_type": "stream",
       "stream": "stderr",
       "text": [
        " 0.0170569419861\n",
        "BUILD LP:"
       ]
      },
      {
       "output_type": "stream",
       "stream": "stdout",
       "text": [
        " 2\n",
        "\n",
        "Gurobi status="
       ]
      },
      {
       "output_type": "stream",
       "stream": "stderr",
       "text": [
        " 0.199860095978\n",
        "SOLVE LP:"
       ]
      },
      {
       "output_type": "stream",
       "stream": "stderr",
       "text": [
        " 0.0754399299622\n",
        "BUILD HYPERGRAPH: 0.00111389160156\n",
        "BUILD POTENTIALS: 0.000866174697876\n",
        "BUILD LP: 0.0104579925537\n",
        "SOLVE LP: 0.00469183921814\n",
        "BUILD HYPERGRAPH: 0.0199480056763\n",
        "BUILD POTENTIALS:"
       ]
      },
      {
       "output_type": "stream",
       "stream": "stderr",
       "text": [
        " 0.0178279876709\n",
        "BUILD LP:"
       ]
      },
      {
       "output_type": "stream",
       "stream": "stdout",
       "text": [
        " 2\n",
        "\n",
        "Gurobi status= 2\n",
        "\n",
        "Gurobi status="
       ]
      },
      {
       "output_type": "stream",
       "stream": "stderr",
       "text": [
        " 0.245055198669\n",
        "SOLVE LP:"
       ]
      },
      {
       "output_type": "stream",
       "stream": "stderr",
       "text": [
        " 0.0745658874512\n",
        "BUILD HYPERGRAPH: 0.0201091766357\n",
        "BUILD POTENTIALS: 0.0168540477753\n",
        "BUILD LP:"
       ]
      },
      {
       "output_type": "stream",
       "stream": "stdout",
       "text": [
        " 2\n",
        "\n",
        "Gurobi status="
       ]
      },
      {
       "output_type": "stream",
       "stream": "stderr",
       "text": [
        " 0.185374975204\n",
        "SOLVE LP:"
       ]
      },
      {
       "output_type": "stream",
       "stream": "stderr",
       "text": [
        " 0.0727090835571\n",
        "BUILD HYPERGRAPH: 0.0196559429169\n",
        "BUILD POTENTIALS: 0.0170569419861\n",
        "BUILD LP:"
       ]
      },
      {
       "output_type": "stream",
       "stream": "stdout",
       "text": [
        " 2\n",
        "\n",
        "Gurobi status="
       ]
      },
      {
       "output_type": "stream",
       "stream": "stderr",
       "text": [
        " 0.249305009842\n",
        "SOLVE LP:"
       ]
      },
      {
       "output_type": "stream",
       "stream": "stderr",
       "text": [
        " 0.0730950832367\n",
        "BUILD HYPERGRAPH: 0.00586605072021\n",
        "BUILD POTENTIALS: 0.00457215309143\n",
        "BUILD LP:"
       ]
      },
      {
       "output_type": "stream",
       "stream": "stdout",
       "text": [
        " 2\n",
        "\n",
        "Gurobi status="
       ]
      },
      {
       "output_type": "stream",
       "stream": "stderr",
       "text": [
        " 0.0534250736237\n",
        "SOLVE LP: 0.0213279724121\n",
        "BUILD HYPERGRAPH: 0.00616693496704\n",
        "BUILD POTENTIALS: 0.00475311279297\n",
        "BUILD LP:"
       ]
      },
      {
       "output_type": "stream",
       "stream": "stdout",
       "text": [
        " 2\n",
        "\n",
        "Gurobi status="
       ]
      },
      {
       "output_type": "stream",
       "stream": "stderr",
       "text": [
        " 0.0542259216309\n",
        "SOLVE LP: 0.0218617916107\n",
        "BUILD HYPERGRAPH: 0.0062940120697\n",
        "BUILD POTENTIALS: 0.0048520565033\n",
        "BUILD LP:"
       ]
      },
      {
       "output_type": "stream",
       "stream": "stdout",
       "text": [
        " 2\n",
        "\n",
        "Gurobi status="
       ]
      },
      {
       "output_type": "stream",
       "stream": "stderr",
       "text": [
        " 0.0544500350952\n",
        "SOLVE LP: 0.0216381549835\n",
        "BUILD HYPERGRAPH: 0.00112700462341\n",
        "BUILD POTENTIALS: 0.000967979431152\n",
        "BUILD LP: 0.0103340148926\n",
        "SOLVE LP: 0.00511693954468\n",
        "BUILD HYPERGRAPH: 0.0011510848999\n",
        "BUILD POTENTIALS: 0.00100183486938\n",
        "BUILD LP:"
       ]
      },
      {
       "output_type": "stream",
       "stream": "stderr",
       "text": [
        " 0.0117149353027\n",
        "SOLVE LP: 0.00509595870972\n",
        "BUILD HYPERGRAPH: 0.00556492805481\n",
        "BUILD POTENTIALS: 0.00462794303894\n",
        "BUILD LP:"
       ]
      },
      {
       "output_type": "stream",
       "stream": "stdout",
       "text": [
        " 2\n",
        "\n",
        "Gurobi status= 2\n",
        "\n",
        "Gurobi status= 2\n",
        "\n",
        "Gurobi status="
       ]
      },
      {
       "output_type": "stream",
       "stream": "stderr",
       "text": [
        " 0.054151058197\n",
        "SOLVE LP: 0.0218260288239\n",
        "BUILD HYPERGRAPH:"
       ]
      },
      {
       "output_type": "stream",
       "stream": "stderr",
       "text": [
        " 0.083135843277\n",
        "BUILD POTENTIALS: 0.0170381069183\n",
        "BUILD LP:"
       ]
      },
      {
       "output_type": "stream",
       "stream": "stdout",
       "text": [
        " 2\n",
        "\n",
        "Gurobi status="
       ]
      },
      {
       "output_type": "stream",
       "stream": "stderr",
       "text": [
        " 0.185138940811\n",
        "SOLVE LP:"
       ]
      },
      {
       "output_type": "stream",
       "stream": "stderr",
       "text": [
        " 0.0745141506195\n",
        "BUILD HYPERGRAPH: 0.0199360847473\n",
        "BUILD POTENTIALS: 0.016410112381\n",
        "BUILD LP:"
       ]
      },
      {
       "output_type": "stream",
       "stream": "stdout",
       "text": [
        " 2\n",
        "\n",
        "Gurobi status="
       ]
      },
      {
       "output_type": "stream",
       "stream": "stderr",
       "text": [
        " 0.189828872681\n",
        "SOLVE LP:"
       ]
      },
      {
       "output_type": "stream",
       "stream": "stderr",
       "text": [
        " 0.13290309906\n",
        "BUILD HYPERGRAPH: 0.0200080871582\n",
        "BUILD POTENTIALS: 0.0160698890686\n",
        "BUILD LP:"
       ]
      },
      {
       "output_type": "stream",
       "stream": "stdout",
       "text": [
        " 2\n",
        "\n",
        "Gurobi status="
       ]
      },
      {
       "output_type": "stream",
       "stream": "stderr",
       "text": [
        " 0.186184883118\n",
        "SOLVE LP:"
       ]
      },
      {
       "output_type": "stream",
       "stream": "stderr",
       "text": [
        " 0.074205160141\n",
        "BUILD HYPERGRAPH: 0.0200428962708\n",
        "BUILD POTENTIALS: 0.0167710781097\n",
        "BUILD LP:"
       ]
      },
      {
       "output_type": "stream",
       "stream": "stdout",
       "text": [
        " 2\n",
        "\n",
        "Gurobi status="
       ]
      },
      {
       "output_type": "stream",
       "stream": "stderr",
       "text": [
        " 0.251513004303\n",
        "SOLVE LP:"
       ]
      },
      {
       "output_type": "stream",
       "stream": "stderr",
       "text": [
        " 0.0748951435089\n",
        "BUILD HYPERGRAPH: 0.0199539661407\n",
        "BUILD POTENTIALS: 0.0168998241425\n",
        "BUILD LP:"
       ]
      },
      {
       "output_type": "stream",
       "stream": "stdout",
       "text": [
        " 2\n",
        "\n",
        "Gurobi status="
       ]
      },
      {
       "output_type": "stream",
       "stream": "stderr",
       "text": [
        " 0.208158016205\n",
        "SOLVE LP:"
       ]
      },
      {
       "output_type": "stream",
       "stream": "stderr",
       "text": [
        " 0.0738959312439\n",
        "BUILD HYPERGRAPH: 0.0199649333954\n",
        "BUILD POTENTIALS: 0.0165770053864\n",
        "BUILD LP:"
       ]
      },
      {
       "output_type": "stream",
       "stream": "stdout",
       "text": [
        " 2\n",
        "\n",
        "Gurobi status="
       ]
      },
      {
       "output_type": "stream",
       "stream": "stderr",
       "text": [
        " 0.25061917305\n",
        "SOLVE LP:"
       ]
      },
      {
       "output_type": "stream",
       "stream": "stderr",
       "text": [
        " 0.0768258571625\n",
        "BUILD HYPERGRAPH: 0.0208759307861\n",
        "BUILD POTENTIALS: 0.0168409347534\n",
        "BUILD LP:"
       ]
      },
      {
       "output_type": "stream",
       "stream": "stdout",
       "text": [
        " 2\n",
        "\n",
        "Gurobi status="
       ]
      },
      {
       "output_type": "stream",
       "stream": "stderr",
       "text": [
        " 0.18922996521\n",
        "SOLVE LP:"
       ]
      },
      {
       "output_type": "stream",
       "stream": "stderr",
       "text": [
        " 0.0734219551086\n",
        "BUILD HYPERGRAPH: 0.0197470188141\n",
        "BUILD POTENTIALS: 0.0172038078308\n",
        "BUILD LP:"
       ]
      },
      {
       "output_type": "stream",
       "stream": "stdout",
       "text": [
        " 2\n",
        "\n",
        "Gurobi status="
       ]
      },
      {
       "output_type": "stream",
       "stream": "stderr",
       "text": [
        " 0.258499860764\n",
        "SOLVE LP:"
       ]
      },
      {
       "output_type": "stream",
       "stream": "stderr",
       "text": [
        " 0.0760128498077\n",
        "BUILD HYPERGRAPH: 0.0199317932129\n",
        "BUILD POTENTIALS: 0.0176980495453\n",
        "BUILD LP:"
       ]
      },
      {
       "output_type": "stream",
       "stream": "stdout",
       "text": [
        " 2\n",
        "\n",
        "Gurobi status="
       ]
      },
      {
       "output_type": "stream",
       "stream": "stderr",
       "text": [
        " 0.189028024673\n",
        "SOLVE LP:"
       ]
      },
      {
       "output_type": "stream",
       "stream": "stderr",
       "text": [
        " 0.0743329524994\n",
        "BUILD HYPERGRAPH:"
       ]
      },
      {
       "output_type": "stream",
       "stream": "stderr",
       "text": [
        " 0.0865378379822\n",
        "BUILD POTENTIALS: 0.0176651477814\n",
        "BUILD LP:"
       ]
      },
      {
       "output_type": "stream",
       "stream": "stdout",
       "text": [
        " 2\n",
        "\n",
        "Gurobi status="
       ]
      },
      {
       "output_type": "stream",
       "stream": "stderr",
       "text": [
        " 0.189491987228\n",
        "SOLVE LP:"
       ]
      },
      {
       "output_type": "stream",
       "stream": "stderr",
       "text": [
        " 0.0769419670105\n",
        "BUILD HYPERGRAPH: 0.0200929641724\n",
        "BUILD POTENTIALS: 0.0175940990448\n",
        "BUILD LP:"
       ]
      },
      {
       "output_type": "stream",
       "stream": "stdout",
       "text": [
        " 2\n",
        "\n",
        "Gurobi status="
       ]
      },
      {
       "output_type": "stream",
       "stream": "stderr",
       "text": [
        " 0.189115047455\n",
        "SOLVE LP:"
       ]
      },
      {
       "output_type": "stream",
       "stream": "stderr",
       "text": [
        " 0.13701915741\n",
        "BUILD HYPERGRAPH: 0.0202620029449\n",
        "BUILD POTENTIALS: 0.0196528434753\n",
        "BUILD LP:"
       ]
      },
      {
       "output_type": "stream",
       "stream": "stdout",
       "text": [
        " 2\n",
        "\n",
        "Gurobi status="
       ]
      },
      {
       "output_type": "stream",
       "stream": "stderr",
       "text": [
        " 0.217957019806\n",
        "SOLVE LP:"
       ]
      },
      {
       "output_type": "stream",
       "stream": "stderr",
       "text": [
        " 0.0807948112488\n",
        "BUILD HYPERGRAPH: 0.0203511714935\n",
        "BUILD POTENTIALS: 0.0171399116516\n",
        "BUILD LP:"
       ]
      },
      {
       "output_type": "stream",
       "stream": "stdout",
       "text": [
        " 2\n",
        "\n",
        "Gurobi status="
       ]
      },
      {
       "output_type": "stream",
       "stream": "stderr",
       "text": [
        " 0.185554027557\n",
        "SOLVE LP:"
       ]
      },
      {
       "output_type": "stream",
       "stream": "stderr",
       "text": [
        " 0.149574041367\n",
        "BUILD HYPERGRAPH: 0.0204739570618\n",
        "BUILD POTENTIALS: 0.0190160274506\n",
        "BUILD LP:"
       ]
      },
      {
       "output_type": "stream",
       "stream": "stdout",
       "text": [
        " 2\n",
        "\n",
        "Gurobi status="
       ]
      },
      {
       "output_type": "stream",
       "stream": "stderr",
       "text": [
        " 0.18998003006\n",
        "SOLVE LP:"
       ]
      },
      {
       "output_type": "stream",
       "stream": "stderr",
       "text": [
        " 0.0732688903809\n",
        "BUILD HYPERGRAPH: 0.020171880722\n",
        "BUILD POTENTIALS: 0.0168449878693\n",
        "BUILD LP:"
       ]
      },
      {
       "output_type": "stream",
       "stream": "stdout",
       "text": [
        " 2\n",
        "\n",
        "Gurobi status="
       ]
      },
      {
       "output_type": "stream",
       "stream": "stderr",
       "text": [
        " 0.183565855026\n",
        "SOLVE LP:"
       ]
      },
      {
       "output_type": "stream",
       "stream": "stderr",
       "text": [
        " 0.138592004776\n",
        "BUILD HYPERGRAPH: 0.00565791130066\n",
        "BUILD POTENTIALS: 0.00447702407837\n",
        "BUILD LP:"
       ]
      },
      {
       "output_type": "stream",
       "stream": "stdout",
       "text": [
        " 2\n",
        "\n",
        "Gurobi status="
       ]
      },
      {
       "output_type": "stream",
       "stream": "stderr",
       "text": [
        " 0.0525448322296\n",
        "SOLVE LP: 0.022351026535\n",
        "BUILD HYPERGRAPH: 0.00560593605042\n",
        "BUILD POTENTIALS: 0.00436019897461\n",
        "BUILD LP:"
       ]
      },
      {
       "output_type": "stream",
       "stream": "stdout",
       "text": [
        " 2\n",
        "\n",
        "Gurobi status="
       ]
      },
      {
       "output_type": "stream",
       "stream": "stderr",
       "text": [
        " 0.0553479194641\n",
        "SOLVE LP: 0.0231120586395\n",
        "BUILD HYPERGRAPH: 0.0209288597107\n",
        "BUILD POTENTIALS:"
       ]
      },
      {
       "output_type": "stream",
       "stream": "stderr",
       "text": [
        " 0.0171360969543\n",
        "BUILD LP:"
       ]
      },
      {
       "output_type": "stream",
       "stream": "stdout",
       "text": [
        " 2\n",
        "\n",
        "Gurobi status="
       ]
      },
      {
       "output_type": "stream",
       "stream": "stderr",
       "text": [
        " 0.192952156067\n",
        "SOLVE LP:"
       ]
      },
      {
       "output_type": "stream",
       "stream": "stderr",
       "text": [
        " 0.0725710391998\n",
        "BUILD HYPERGRAPH:"
       ]
      },
      {
       "output_type": "stream",
       "stream": "stderr",
       "text": [
        " 0.086236000061\n",
        "BUILD POTENTIALS: 0.019788980484\n",
        "BUILD LP:"
       ]
      },
      {
       "output_type": "stream",
       "stream": "stdout",
       "text": [
        " 2\n",
        "\n",
        "Gurobi status="
       ]
      },
      {
       "output_type": "stream",
       "stream": "stderr",
       "text": [
        " 0.19047498703\n",
        "SOLVE LP:"
       ]
      },
      {
       "output_type": "stream",
       "stream": "stderr",
       "text": [
        " 0.0752620697021\n",
        "BUILD HYPERGRAPH: 0.0205841064453\n",
        "BUILD POTENTIALS: 0.0181741714478\n",
        "BUILD LP:"
       ]
      },
      {
       "output_type": "stream",
       "stream": "stdout",
       "text": [
        " 2\n",
        "\n",
        "Gurobi status="
       ]
      },
      {
       "output_type": "stream",
       "stream": "stderr",
       "text": [
        " 0.251491069794\n",
        "SOLVE LP:"
       ]
      },
      {
       "output_type": "stream",
       "stream": "stderr",
       "text": [
        " 0.0757400989532\n",
        "BUILD HYPERGRAPH: 0.0205090045929\n",
        "BUILD POTENTIALS: 0.0189678668976\n",
        "BUILD LP:"
       ]
      },
      {
       "output_type": "stream",
       "stream": "stdout",
       "text": [
        " 2\n",
        "\n",
        "Gurobi status="
       ]
      },
      {
       "output_type": "stream",
       "stream": "stderr",
       "text": [
        " 0.208178043365\n",
        "SOLVE LP:"
       ]
      },
      {
       "output_type": "stream",
       "stream": "stderr",
       "text": [
        " 0.0727639198303\n",
        "BUILD HYPERGRAPH: 0.0198719501495\n",
        "BUILD POTENTIALS: 0.016624212265\n",
        "BUILD LP:"
       ]
      },
      {
       "output_type": "stream",
       "stream": "stdout",
       "text": [
        " 2\n",
        "\n",
        "Gurobi status="
       ]
      },
      {
       "output_type": "stream",
       "stream": "stderr",
       "text": [
        " 0.249054908752\n",
        "SOLVE LP:"
       ]
      },
      {
       "output_type": "stream",
       "stream": "stderr",
       "text": [
        " 0.0747680664062\n",
        "BUILD HYPERGRAPH: 0.0201261043549\n",
        "BUILD POTENTIALS: 0.0174338817596\n",
        "BUILD LP:"
       ]
      },
      {
       "output_type": "stream",
       "stream": "stdout",
       "text": [
        " 2\n",
        "\n",
        "Gurobi status="
       ]
      },
      {
       "output_type": "stream",
       "stream": "stderr",
       "text": [
        " 0.187934875488\n",
        "SOLVE LP:"
       ]
      },
      {
       "output_type": "stream",
       "stream": "stderr",
       "text": [
        " 0.0754129886627\n",
        "BUILD HYPERGRAPH: 0.0198149681091\n",
        "BUILD POTENTIALS: 0.0183777809143\n",
        "BUILD LP:"
       ]
      },
      {
       "output_type": "stream",
       "stream": "stdout",
       "text": [
        " 2\n",
        "\n",
        "Gurobi status="
       ]
      },
      {
       "output_type": "stream",
       "stream": "stderr",
       "text": [
        " 0.253967046738\n",
        "SOLVE LP:"
       ]
      },
      {
       "output_type": "stream",
       "stream": "stderr",
       "text": [
        " 0.0745310783386\n",
        "BUILD HYPERGRAPH: 0.0201089382172\n",
        "BUILD POTENTIALS: 0.0173308849335\n",
        "BUILD LP:"
       ]
      },
      {
       "output_type": "stream",
       "stream": "stdout",
       "text": [
        " 2\n",
        "\n",
        "Gurobi status="
       ]
      },
      {
       "output_type": "stream",
       "stream": "stderr",
       "text": [
        " 0.189337968826\n",
        "SOLVE LP:"
       ]
      },
      {
       "output_type": "stream",
       "stream": "stderr",
       "text": [
        " 0.0752999782562\n",
        "BUILD HYPERGRAPH: 0.00109386444092\n",
        "BUILD POTENTIALS: 0.000882148742676\n",
        "BUILD LP: 0.0104629993439\n",
        "SOLVE LP: 0.0047550201416\n",
        "BUILD HYPERGRAPH: 0.0209648609161\n",
        "BUILD POTENTIALS:"
       ]
      },
      {
       "output_type": "stream",
       "stream": "stderr",
       "text": [
        " 0.0184309482574\n",
        "BUILD LP:"
       ]
      },
      {
       "output_type": "stream",
       "stream": "stdout",
       "text": [
        " 2\n",
        "\n",
        "Gurobi status= 2\n",
        "\n",
        "Gurobi status="
       ]
      },
      {
       "output_type": "stream",
       "stream": "stderr",
       "text": [
        " 0.254656076431\n",
        "SOLVE LP:"
       ]
      },
      {
       "output_type": "stream",
       "stream": "stderr",
       "text": [
        " 0.0757520198822\n",
        "BUILD HYPERGRAPH: 0.0196740627289\n",
        "BUILD POTENTIALS: 0.0177648067474\n",
        "BUILD LP:"
       ]
      },
      {
       "output_type": "stream",
       "stream": "stdout",
       "text": [
        " 2\n",
        "\n",
        "Gurobi status="
       ]
      },
      {
       "output_type": "stream",
       "stream": "stderr",
       "text": [
        " 0.196918964386\n",
        "SOLVE LP:"
       ]
      },
      {
       "output_type": "stream",
       "stream": "stderr",
       "text": [
        " 0.0749869346619\n",
        "BUILD HYPERGRAPH: 0.0197780132294\n",
        "BUILD POTENTIALS: 0.017462015152\n",
        "BUILD LP:"
       ]
      },
      {
       "output_type": "stream",
       "stream": "stdout",
       "text": [
        " 2\n",
        "\n",
        "Gurobi status="
       ]
      },
      {
       "output_type": "stream",
       "stream": "stderr",
       "text": [
        " 0.252286911011\n",
        "SOLVE LP:"
       ]
      },
      {
       "output_type": "stream",
       "stream": "stderr",
       "text": [
        " 0.077329158783\n",
        "BUILD HYPERGRAPH: 0.0209901332855\n",
        "BUILD POTENTIALS: 0.0167951583862\n",
        "BUILD LP:"
       ]
      },
      {
       "output_type": "stream",
       "stream": "stdout",
       "text": [
        " 2\n",
        "\n",
        "Gurobi status="
       ]
      },
      {
       "output_type": "stream",
       "stream": "stderr",
       "text": [
        " 0.190424203873\n",
        "SOLVE LP:"
       ]
      },
      {
       "output_type": "stream",
       "stream": "stderr",
       "text": [
        " 0.136585950851\n",
        "BUILD HYPERGRAPH: 0.0206520557404\n",
        "BUILD POTENTIALS: 0.0169439315796\n",
        "BUILD LP:"
       ]
      },
      {
       "output_type": "stream",
       "stream": "stdout",
       "text": [
        " 2\n",
        "\n",
        "Gurobi status="
       ]
      },
      {
       "output_type": "stream",
       "stream": "stderr",
       "text": [
        " 0.200195074081\n",
        "SOLVE LP:"
       ]
      },
      {
       "output_type": "stream",
       "stream": "stderr",
       "text": [
        " 0.0764510631561\n",
        "BUILD HYPERGRAPH: 0.0210168361664\n",
        "BUILD POTENTIALS: 0.0175349712372\n",
        "BUILD LP:"
       ]
      },
      {
       "output_type": "stream",
       "stream": "stdout",
       "text": [
        " 2\n",
        "\n",
        "Gurobi status="
       ]
      },
      {
       "output_type": "stream",
       "stream": "stderr",
       "text": [
        " 0.251626014709\n",
        "SOLVE LP:"
       ]
      },
      {
       "output_type": "stream",
       "stream": "stderr",
       "text": [
        " 0.0741801261902\n",
        "BUILD HYPERGRAPH: 0.0198440551758\n",
        "BUILD POTENTIALS: 0.0174949169159\n",
        "BUILD LP:"
       ]
      },
      {
       "output_type": "stream",
       "stream": "stdout",
       "text": [
        " 2\n",
        "\n",
        "Gurobi status="
       ]
      },
      {
       "output_type": "stream",
       "stream": "stderr",
       "text": [
        " 0.195000886917\n",
        "SOLVE LP:"
       ]
      },
      {
       "output_type": "stream",
       "stream": "stderr",
       "text": [
        " 0.0748710632324\n",
        "BUILD HYPERGRAPH: 0.0202610492706\n",
        "BUILD POTENTIALS: 0.0175888538361\n",
        "BUILD LP:"
       ]
      },
      {
       "output_type": "stream",
       "stream": "stdout",
       "text": [
        " 2\n",
        "\n",
        "Gurobi status="
       ]
      },
      {
       "output_type": "stream",
       "stream": "stderr",
       "text": [
        " 0.264694929123\n",
        "SOLVE LP:"
       ]
      },
      {
       "output_type": "stream",
       "stream": "stderr",
       "text": [
        " 0.0747961997986\n",
        "BUILD HYPERGRAPH: 0.0199019908905\n",
        "BUILD POTENTIALS: 0.017391204834\n",
        "BUILD LP:"
       ]
      },
      {
       "output_type": "stream",
       "stream": "stdout",
       "text": [
        " 2\n",
        "\n",
        "Gurobi status="
       ]
      },
      {
       "output_type": "stream",
       "stream": "stderr",
       "text": [
        " 0.18695807457\n",
        "SOLVE LP:"
       ]
      },
      {
       "output_type": "stream",
       "stream": "stderr",
       "text": [
        " 0.0723369121552\n",
        "BUILD HYPERGRAPH: 0.0198900699615\n",
        "BUILD POTENTIALS: 0.0167098045349\n",
        "BUILD LP:"
       ]
      },
      {
       "output_type": "stream",
       "stream": "stdout",
       "text": [
        " 2\n",
        "\n",
        "Gurobi status="
       ]
      },
      {
       "output_type": "stream",
       "stream": "stderr",
       "text": [
        " 0.252926826477\n",
        "SOLVE LP:"
       ]
      },
      {
       "output_type": "stream",
       "stream": "stderr",
       "text": [
        " 0.075031042099\n",
        "BUILD HYPERGRAPH: 0.0198709964752\n",
        "BUILD POTENTIALS: 0.016674041748\n",
        "BUILD LP:"
       ]
      },
      {
       "output_type": "stream",
       "stream": "stdout",
       "text": [
        " 2\n",
        "\n",
        "Gurobi status="
       ]
      },
      {
       "output_type": "stream",
       "stream": "stderr",
       "text": [
        " 0.191352128983\n",
        "SOLVE LP:"
       ]
      },
      {
       "output_type": "stream",
       "stream": "stderr",
       "text": [
        " 0.0738160610199\n",
        "BUILD HYPERGRAPH: 0.020250082016\n",
        "BUILD POTENTIALS: 0.0170509815216\n",
        "BUILD LP:"
       ]
      },
      {
       "output_type": "stream",
       "stream": "stdout",
       "text": [
        " 2\n",
        "\n",
        "Gurobi status="
       ]
      },
      {
       "output_type": "stream",
       "stream": "stderr",
       "text": [
        " 0.24951505661\n",
        "SOLVE LP:"
       ]
      },
      {
       "output_type": "stream",
       "stream": "stderr",
       "text": [
        " 0.0737109184265\n",
        "BUILD HYPERGRAPH: 0.0204679965973\n",
        "BUILD POTENTIALS: 0.0176470279694\n",
        "BUILD LP:"
       ]
      },
      {
       "output_type": "stream",
       "stream": "stdout",
       "text": [
        " 2\n",
        "\n",
        "Gurobi status="
       ]
      },
      {
       "output_type": "stream",
       "stream": "stderr",
       "text": [
        " 0.191442966461\n",
        "SOLVE LP:"
       ]
      },
      {
       "output_type": "stream",
       "stream": "stderr",
       "text": [
        " 0.0740609169006\n",
        "BUILD HYPERGRAPH:"
       ]
      },
      {
       "output_type": "stream",
       "stream": "stderr",
       "text": [
        " 0.0829458236694\n",
        "BUILD POTENTIALS: 0.0177597999573\n",
        "BUILD LP:"
       ]
      },
      {
       "output_type": "stream",
       "stream": "stdout",
       "text": [
        " 2\n",
        "\n",
        "Gurobi status="
       ]
      },
      {
       "output_type": "stream",
       "stream": "stderr",
       "text": [
        " 0.212875843048\n",
        "SOLVE LP:"
       ]
      },
      {
       "output_type": "stream",
       "stream": "stderr",
       "text": [
        " 0.0760130882263\n",
        "BUILD HYPERGRAPH: 0.0011260509491\n",
        "BUILD POTENTIALS: 0.000895977020264\n",
        "BUILD LP: 0.0113599300385\n",
        "SOLVE LP: 0.00494599342346\n",
        "BUILD HYPERGRAPH: 0.0062050819397\n",
        "BUILD POTENTIALS: 0.00466299057007\n",
        "BUILD LP:"
       ]
      },
      {
       "output_type": "stream",
       "stream": "stdout",
       "text": [
        " 2\n",
        "\n",
        "Gurobi status= 2\n",
        "\n",
        "Gurobi status="
       ]
      },
      {
       "output_type": "stream",
       "stream": "stderr",
       "text": [
        " 0.055104970932\n",
        "SOLVE LP: 0.0243968963623\n",
        "BUILD HYPERGRAPH: 0.021124124527\n",
        "BUILD POTENTIALS:"
       ]
      },
      {
       "output_type": "stream",
       "stream": "stderr",
       "text": [
        " 0.017599105835\n",
        "BUILD LP:"
       ]
      },
      {
       "output_type": "stream",
       "stream": "stdout",
       "text": [
        " 2\n",
        "\n",
        "Gurobi status="
       ]
      },
      {
       "output_type": "stream",
       "stream": "stderr",
       "text": [
        " 0.253556013107\n",
        "SOLVE LP:"
       ]
      },
      {
       "output_type": "stream",
       "stream": "stderr",
       "text": [
        " 0.0782318115234\n",
        "BUILD HYPERGRAPH: 0.021614074707\n",
        "BUILD POTENTIALS: 0.0179090499878\n",
        "BUILD LP:"
       ]
      },
      {
       "output_type": "stream",
       "stream": "stdout",
       "text": [
        " 2\n",
        "\n",
        "Gurobi status="
       ]
      },
      {
       "output_type": "stream",
       "stream": "stderr",
       "text": [
        " 0.189651966095\n",
        "SOLVE LP:"
       ]
      },
      {
       "output_type": "stream",
       "stream": "stderr",
       "text": [
        " 0.0749080181122\n",
        "BUILD HYPERGRAPH: 0.00601887702942\n",
        "BUILD POTENTIALS: 0.00476717948914\n",
        "BUILD LP:"
       ]
      },
      {
       "output_type": "stream",
       "stream": "stdout",
       "text": [
        " 2\n",
        "\n",
        "Gurobi status="
       ]
      },
      {
       "output_type": "stream",
       "stream": "stderr",
       "text": [
        " 0.0544760227203\n",
        "SOLVE LP: 0.0246288776398\n",
        "BUILD HYPERGRAPH:"
       ]
      },
      {
       "output_type": "stream",
       "stream": "stderr",
       "text": [
        " 0.0254549980164\n",
        "BUILD POTENTIALS: 0.0187511444092\n",
        "BUILD LP:"
       ]
      },
      {
       "output_type": "stream",
       "stream": "stdout",
       "text": [
        " 2\n",
        "\n",
        "Gurobi status="
       ]
      },
      {
       "output_type": "stream",
       "stream": "stderr",
       "text": [
        " 0.255826950073\n",
        "SOLVE LP:"
       ]
      },
      {
       "output_type": "stream",
       "stream": "stderr",
       "text": [
        " 0.0748820304871\n",
        "BUILD HYPERGRAPH: 0.0198810100555\n",
        "BUILD POTENTIALS: 0.0178081989288\n",
        "BUILD LP:"
       ]
      },
      {
       "output_type": "stream",
       "stream": "stdout",
       "text": [
        " 2\n",
        "\n",
        "Gurobi status="
       ]
      },
      {
       "output_type": "stream",
       "stream": "stderr",
       "text": [
        " 0.190621852875\n",
        "SOLVE LP:"
       ]
      },
      {
       "output_type": "stream",
       "stream": "stderr",
       "text": [
        " 0.0736839771271\n",
        "BUILD HYPERGRAPH:"
       ]
      },
      {
       "output_type": "stream",
       "stream": "stderr",
       "text": [
        " 0.0836379528046\n",
        "BUILD POTENTIALS: 0.0187499523163\n",
        "BUILD LP:"
       ]
      },
      {
       "output_type": "stream",
       "stream": "stdout",
       "text": [
        " 2\n",
        "\n",
        "Gurobi status="
       ]
      },
      {
       "output_type": "stream",
       "stream": "stderr",
       "text": [
        " 0.18742609024\n",
        "SOLVE LP:"
       ]
      },
      {
       "output_type": "stream",
       "stream": "stderr",
       "text": [
        " 0.0777850151062\n",
        "BUILD HYPERGRAPH: 0.00603699684143\n",
        "BUILD POTENTIALS: 0.00446581840515\n",
        "BUILD LP:"
       ]
      },
      {
       "output_type": "stream",
       "stream": "stdout",
       "text": [
        " 2\n",
        "\n",
        "Gurobi status="
       ]
      },
      {
       "output_type": "stream",
       "stream": "stderr",
       "text": [
        " 0.0538561344147\n",
        "SOLVE LP: 0.0244009494781\n",
        "BUILD HYPERGRAPH: 0.0212941169739\n",
        "BUILD POTENTIALS:"
       ]
      },
      {
       "output_type": "stream",
       "stream": "stderr",
       "text": [
        " 0.0179438591003\n",
        "BUILD LP:"
       ]
      },
      {
       "output_type": "stream",
       "stream": "stdout",
       "text": [
        " 2\n",
        "\n",
        "Gurobi status="
       ]
      },
      {
       "output_type": "stream",
       "stream": "stderr",
       "text": [
        " 0.251032114029\n",
        "SOLVE LP:"
       ]
      },
      {
       "output_type": "stream",
       "stream": "stderr",
       "text": [
        " 0.0752060413361\n",
        "BUILD HYPERGRAPH: 0.0210738182068\n",
        "BUILD POTENTIALS: 0.0172729492188\n",
        "BUILD LP:"
       ]
      },
      {
       "output_type": "stream",
       "stream": "stdout",
       "text": [
        " 2\n",
        "\n",
        "Gurobi status="
       ]
      },
      {
       "output_type": "stream",
       "stream": "stderr",
       "text": [
        " 0.192477941513\n",
        "SOLVE LP:"
       ]
      },
      {
       "output_type": "stream",
       "stream": "stderr",
       "text": [
        " 0.0757148265839\n",
        "BUILD HYPERGRAPH: 0.00560402870178\n",
        "BUILD POTENTIALS: 0.00437688827515\n",
        "BUILD LP:"
       ]
      },
      {
       "output_type": "stream",
       "stream": "stdout",
       "text": [
        " 2\n",
        "\n",
        "Gurobi status="
       ]
      },
      {
       "output_type": "stream",
       "stream": "stderr",
       "text": [
        " 0.0539071559906\n",
        "SOLVE LP: 0.0238800048828\n",
        "BUILD HYPERGRAPH:"
       ]
      },
      {
       "output_type": "stream",
       "stream": "stderr",
       "text": [
        " 0.0864310264587\n",
        "BUILD POTENTIALS: 0.0195019245148\n",
        "BUILD LP:"
       ]
      },
      {
       "output_type": "stream",
       "stream": "stdout",
       "text": [
        " 2\n",
        "\n",
        "Gurobi status="
       ]
      },
      {
       "output_type": "stream",
       "stream": "stderr",
       "text": [
        " 0.211553096771\n",
        "SOLVE LP:"
       ]
      },
      {
       "output_type": "stream",
       "stream": "stderr",
       "text": [
        " 0.0756120681763\n",
        "BUILD HYPERGRAPH: 0.0199871063232\n",
        "BUILD POTENTIALS: 0.0183341503143\n",
        "BUILD LP:"
       ]
      },
      {
       "output_type": "stream",
       "stream": "stdout",
       "text": [
        " 2\n",
        "\n",
        "Gurobi status="
       ]
      },
      {
       "output_type": "stream",
       "stream": "stderr",
       "text": [
        " 0.250257968903\n",
        "SOLVE LP:"
       ]
      },
      {
       "output_type": "stream",
       "stream": "stdout",
       "text": [
        " 2\n",
        "\n",
        "Gurobi status= 2\n",
        "\n",
        "Gurobi status="
       ]
      },
      {
       "output_type": "stream",
       "stream": "stderr",
       "text": [
        " 0.0749020576477\n",
        "BUILD HYPERGRAPH: 0.00118494033813\n",
        "BUILD POTENTIALS: 0.000943899154663\n",
        "BUILD LP: 0.010547876358\n",
        "SOLVE LP: 0.00478601455688\n",
        "BUILD HYPERGRAPH: 0.00105214118958\n",
        "BUILD POTENTIALS: 0.00090503692627\n",
        "BUILD LP: 0.0114901065826\n",
        "SOLVE LP: 0.00543999671936\n",
        "BUILD HYPERGRAPH:"
       ]
      },
      {
       "output_type": "stream",
       "stream": "stderr",
       "text": [
        " 0.0220398902893\n",
        "BUILD POTENTIALS: 0.0198521614075\n",
        "BUILD LP:"
       ]
      },
      {
       "output_type": "stream",
       "stream": "stdout",
       "text": [
        " 2\n",
        "\n",
        "Gurobi status="
       ]
      },
      {
       "output_type": "stream",
       "stream": "stderr",
       "text": [
        " 0.190741062164\n",
        "SOLVE LP:"
       ]
      },
      {
       "output_type": "stream",
       "stream": "stderr",
       "text": [
        " 0.072653055191\n",
        "BUILD HYPERGRAPH: 0.0198209285736\n",
        "BUILD POTENTIALS: 0.0169260501862\n",
        "BUILD LP:"
       ]
      },
      {
       "output_type": "stream",
       "stream": "stdout",
       "text": [
        " 2\n",
        "\n",
        "Gurobi status="
       ]
      },
      {
       "output_type": "stream",
       "stream": "stderr",
       "text": [
        " 0.252502918243\n",
        "SOLVE LP:"
       ]
      },
      {
       "output_type": "stream",
       "stream": "stderr",
       "text": [
        " 0.0742919445038\n",
        "BUILD HYPERGRAPH: 0.00602912902832\n",
        "BUILD POTENTIALS: 0.00474500656128\n",
        "BUILD LP:"
       ]
      },
      {
       "output_type": "stream",
       "stream": "stdout",
       "text": [
        " 2\n",
        "\n",
        "Gurobi status="
       ]
      },
      {
       "output_type": "stream",
       "stream": "stderr",
       "text": [
        " 0.0545160770416\n",
        "SOLVE LP: 0.0241460800171\n",
        "BUILD HYPERGRAPH: 0.00104093551636\n",
        "BUILD POTENTIALS: 0.000948905944824\n",
        "BUILD LP: 0.0118980407715\n",
        "SOLVE LP: 0.00545716285706\n",
        "BUILD HYPERGRAPH:"
       ]
      },
      {
       "output_type": "stream",
       "stream": "stderr",
       "text": [
        " 0.0208361148834\n",
        "BUILD POTENTIALS: 0.0189371109009\n",
        "BUILD LP:"
       ]
      },
      {
       "output_type": "stream",
       "stream": "stdout",
       "text": [
        " 2\n",
        "\n",
        "Gurobi status= 2\n",
        "\n",
        "Gurobi status="
       ]
      },
      {
       "output_type": "stream",
       "stream": "stderr",
       "text": [
        " 0.192090034485\n",
        "SOLVE LP:"
       ]
      },
      {
       "output_type": "stream",
       "stream": "stderr",
       "text": [
        " 0.075700044632\n",
        "BUILD HYPERGRAPH:"
       ]
      },
      {
       "output_type": "stream",
       "stream": "stderr",
       "text": [
        " 0.0857789516449\n",
        "BUILD POTENTIALS: 0.0193231105804\n",
        "BUILD LP:"
       ]
      },
      {
       "output_type": "stream",
       "stream": "stdout",
       "text": [
        " 2\n",
        "\n",
        "Gurobi status="
       ]
      },
      {
       "output_type": "stream",
       "stream": "stderr",
       "text": [
        " 0.191823005676\n",
        "SOLVE LP:"
       ]
      },
      {
       "output_type": "stream",
       "stream": "stderr",
       "text": [
        " 0.0738391876221\n",
        "BUILD HYPERGRAPH: 0.0203700065613\n",
        "BUILD POTENTIALS: 0.0178990364075\n",
        "BUILD LP:"
       ]
      },
      {
       "output_type": "stream",
       "stream": "stdout",
       "text": [
        " 2\n",
        "\n",
        "Gurobi status="
       ]
      },
      {
       "output_type": "stream",
       "stream": "stderr",
       "text": [
        " 0.188657045364\n",
        "SOLVE LP:"
       ]
      },
      {
       "output_type": "stream",
       "stream": "stderr",
       "text": [
        " 0.136394023895\n",
        "BUILD HYPERGRAPH: 0.0212759971619\n",
        "BUILD POTENTIALS: 0.0171630382538\n",
        "BUILD LP:"
       ]
      },
      {
       "output_type": "stream",
       "stream": "stdout",
       "text": [
        " 2\n",
        "\n",
        "Gurobi status="
       ]
      },
      {
       "output_type": "stream",
       "stream": "stderr",
       "text": [
        " 0.190211057663\n",
        "SOLVE LP:"
       ]
      },
      {
       "output_type": "stream",
       "stream": "stderr",
       "text": [
        " 0.0736849308014\n",
        "BUILD HYPERGRAPH: 0.0197520256042\n",
        "BUILD POTENTIALS: 0.0188069343567\n",
        "BUILD LP:"
       ]
      },
      {
       "output_type": "stream",
       "stream": "stdout",
       "text": [
        " 2\n",
        "\n",
        "Gurobi status="
       ]
      },
      {
       "output_type": "stream",
       "stream": "stderr",
       "text": [
        " 0.261341094971\n",
        "SOLVE LP:"
       ]
      },
      {
       "output_type": "stream",
       "stream": "stderr",
       "text": [
        " 0.0749640464783\n",
        "BUILD HYPERGRAPH: 0.019966840744\n",
        "BUILD POTENTIALS: 0.0175609588623\n",
        "BUILD LP:"
       ]
      },
      {
       "output_type": "stream",
       "stream": "stdout",
       "text": [
        " 2\n",
        "\n",
        "Gurobi status="
       ]
      },
      {
       "output_type": "stream",
       "stream": "stderr",
       "text": [
        " 0.18829202652\n",
        "SOLVE LP:"
       ]
      },
      {
       "output_type": "stream",
       "stream": "stderr",
       "text": [
        " 0.0760078430176\n",
        "BUILD HYPERGRAPH: 0.00114607810974\n",
        "BUILD POTENTIALS: 0.000931978225708\n",
        "BUILD LP: 0.0108938217163\n",
        "SOLVE LP: 0.00479888916016\n",
        "BUILD HYPERGRAPH: 0.0213940143585\n",
        "BUILD POTENTIALS:"
       ]
      },
      {
       "output_type": "stream",
       "stream": "stderr",
       "text": [
        " 0.0174388885498\n",
        "BUILD LP:"
       ]
      },
      {
       "output_type": "stream",
       "stream": "stdout",
       "text": [
        " 2\n",
        "\n",
        "Gurobi status= 2\n",
        "\n",
        "Gurobi status="
       ]
      },
      {
       "output_type": "stream",
       "stream": "stderr",
       "text": [
        " 0.253647089005\n",
        "SOLVE LP:"
       ]
      },
      {
       "output_type": "stream",
       "stream": "stderr",
       "text": [
        " 0.0752429962158\n",
        "BUILD HYPERGRAPH: 0.0201070308685\n",
        "BUILD POTENTIALS: 0.0174920558929\n",
        "BUILD LP:"
       ]
      },
      {
       "output_type": "stream",
       "stream": "stdout",
       "text": [
        " 2\n",
        "\n",
        "Gurobi status="
       ]
      },
      {
       "output_type": "stream",
       "stream": "stderr",
       "text": [
        " 0.191097974777\n",
        "SOLVE LP:"
       ]
      },
      {
       "output_type": "stream",
       "stream": "stderr",
       "text": [
        " 0.073814868927\n",
        "BUILD HYPERGRAPH: 0.0201830863953\n",
        "BUILD POTENTIALS: 0.0170178413391\n",
        "BUILD LP:"
       ]
      },
      {
       "output_type": "stream",
       "stream": "stdout",
       "text": [
        " 2\n",
        "\n",
        "Gurobi status="
       ]
      },
      {
       "output_type": "stream",
       "stream": "stderr",
       "text": [
        " 0.250971078873\n",
        "SOLVE LP:"
       ]
      },
      {
       "output_type": "stream",
       "stream": "stderr",
       "text": [
        " 0.0780050754547\n",
        "BUILD HYPERGRAPH: 0.0205371379852\n",
        "BUILD POTENTIALS: 0.016252040863\n",
        "BUILD LP:"
       ]
      },
      {
       "output_type": "stream",
       "stream": "stdout",
       "text": [
        " 2\n",
        "\n",
        "Gurobi status="
       ]
      },
      {
       "output_type": "stream",
       "stream": "stderr",
       "text": [
        " 0.187535047531\n",
        "SOLVE LP:"
       ]
      },
      {
       "output_type": "stream",
       "stream": "stderr",
       "text": [
        " 0.0747978687286\n",
        "BUILD HYPERGRAPH: 0.0196030139923\n",
        "BUILD POTENTIALS: 0.0175590515137\n",
        "BUILD LP:"
       ]
      },
      {
       "output_type": "stream",
       "stream": "stdout",
       "text": [
        " 2\n",
        "\n",
        "Gurobi status="
       ]
      },
      {
       "output_type": "stream",
       "stream": "stderr",
       "text": [
        " 0.25413608551\n",
        "SOLVE LP:"
       ]
      },
      {
       "output_type": "stream",
       "stream": "stderr",
       "text": [
        " 0.0766201019287\n",
        "BUILD HYPERGRAPH: 0.00559401512146\n",
        "BUILD POTENTIALS: 0.00463891029358\n",
        "BUILD LP:"
       ]
      },
      {
       "output_type": "stream",
       "stream": "stdout",
       "text": [
        " 2\n",
        "\n",
        "Gurobi status="
       ]
      },
      {
       "output_type": "stream",
       "stream": "stderr",
       "text": [
        " 0.0535459518433\n",
        "SOLVE LP: 0.0241129398346\n",
        "BUILD HYPERGRAPH: 0.0010678768158\n",
        "BUILD POTENTIALS: 0.000903129577637\n",
        "BUILD LP: 0.0109298229218\n",
        "SOLVE LP: 0.00533699989319\n",
        "BUILD HYPERGRAPH:"
       ]
      },
      {
       "output_type": "stream",
       "stream": "stderr",
       "text": [
        " 0.00599217414856\n",
        "BUILD POTENTIALS: 0.00605797767639\n",
        "BUILD LP:"
       ]
      },
      {
       "output_type": "stream",
       "stream": "stdout",
       "text": [
        " 2\n",
        "\n",
        "Gurobi status= 2\n",
        "\n",
        "Gurobi status="
       ]
      },
      {
       "output_type": "stream",
       "stream": "stderr",
       "text": [
        " 0.0554897785187\n",
        "SOLVE LP: 0.0236978530884\n",
        "BUILD HYPERGRAPH: 0.00107622146606\n",
        "BUILD POTENTIALS: 0.000947952270508\n",
        "BUILD LP: 0.0104398727417\n",
        "SOLVE LP: 0.00582909584045\n",
        "BUILD HYPERGRAPH: 0.00111079216003\n",
        "BUILD POTENTIALS: 0.000934839248657\n",
        "BUILD LP:"
       ]
      },
      {
       "output_type": "stream",
       "stream": "stdout",
       "text": [
        " 2\n",
        "\n",
        "Gurobi status= 2\n",
        "\n",
        "Gurobi status= 2\n",
        "\n",
        "Gurobi status="
       ]
      },
      {
       "output_type": "stream",
       "stream": "stderr",
       "text": [
        " 0.0112390518188\n",
        "SOLVE LP: 0.00650882720947\n",
        "BUILD HYPERGRAPH: 0.0011260509491\n",
        "BUILD POTENTIALS: 0.000961065292358\n",
        "BUILD LP: 0.0122139453888\n",
        "SOLVE LP: 0.00534009933472\n",
        "BUILD HYPERGRAPH: 0.0016770362854\n",
        "BUILD POTENTIALS: 0.000952959060669\n",
        "BUILD LP: 0.0106549263\n",
        "SOLVE LP: 0.0065381526947\n",
        "BUILD HYPERGRAPH:"
       ]
      },
      {
       "output_type": "stream",
       "stream": "stderr",
       "text": [
        " 0.0222969055176\n",
        "BUILD POTENTIALS: 0.0189969539642\n",
        "BUILD LP:"
       ]
      },
      {
       "output_type": "stream",
       "stream": "stdout",
       "text": [
        " 2\n",
        "\n",
        "Gurobi status= 2\n",
        "\n",
        "Gurobi status="
       ]
      },
      {
       "output_type": "stream",
       "stream": "stderr",
       "text": [
        " 0.24912405014\n",
        "SOLVE LP:"
       ]
      },
      {
       "output_type": "stream",
       "stream": "stderr",
       "text": [
        " 0.0742089748383\n",
        "BUILD HYPERGRAPH: 0.00115895271301\n",
        "BUILD POTENTIALS: 0.000900030136108\n",
        "BUILD LP: 0.0109300613403\n",
        "SOLVE LP: 0.00487017631531\n",
        "BUILD HYPERGRAPH: 0.0214331150055\n",
        "BUILD POTENTIALS:"
       ]
      },
      {
       "output_type": "stream",
       "stream": "stderr",
       "text": [
        " 0.0174078941345\n",
        "BUILD LP:"
       ]
      },
      {
       "output_type": "stream",
       "stream": "stdout",
       "text": [
        " 2\n",
        "\n",
        "Gurobi status= 2\n",
        "\n",
        "Gurobi status="
       ]
      },
      {
       "output_type": "stream",
       "stream": "stderr",
       "text": [
        " 0.197736024857\n",
        "SOLVE LP:"
       ]
      },
      {
       "output_type": "stream",
       "stream": "stderr",
       "text": [
        " 0.0743148326874\n",
        "BUILD HYPERGRAPH: 0.00559186935425\n",
        "BUILD POTENTIALS: 0.00457286834717\n",
        "BUILD LP:"
       ]
      },
      {
       "output_type": "stream",
       "stream": "stdout",
       "text": [
        " 2\n",
        "\n",
        "Gurobi status="
       ]
      },
      {
       "output_type": "stream",
       "stream": "stderr",
       "text": [
        " 0.119762897491\n",
        "SOLVE LP: 0.0238239765167\n",
        "BUILD HYPERGRAPH: 0.0209560394287\n",
        "BUILD POTENTIALS:"
       ]
      },
      {
       "output_type": "stream",
       "stream": "stderr",
       "text": [
        " 0.017541885376\n",
        "BUILD LP:"
       ]
      },
      {
       "output_type": "stream",
       "stream": "stdout",
       "text": [
        " 2\n",
        "\n",
        "Gurobi status="
       ]
      },
      {
       "output_type": "stream",
       "stream": "stderr",
       "text": [
        " 0.194400072098\n",
        "SOLVE LP:"
       ]
      },
      {
       "output_type": "stream",
       "stream": "stderr",
       "text": [
        " 0.0770580768585\n",
        "BUILD HYPERGRAPH: 0.00114417076111\n",
        "BUILD POTENTIALS: 0.000939130783081\n",
        "BUILD LP: 0.0106158256531\n",
        "SOLVE LP: 0.00481700897217\n",
        "BUILD HYPERGRAPH: 0.0208508968353\n",
        "BUILD POTENTIALS:"
       ]
      },
      {
       "output_type": "stream",
       "stream": "stderr",
       "text": [
        " 0.0178580284119\n",
        "BUILD LP:"
       ]
      },
      {
       "output_type": "stream",
       "stream": "stdout",
       "text": [
        " 2\n",
        "\n",
        "Gurobi status= 2\n",
        "\n",
        "Gurobi status="
       ]
      },
      {
       "output_type": "stream",
       "stream": "stderr",
       "text": [
        " 0.248817920685\n",
        "SOLVE LP:"
       ]
      },
      {
       "output_type": "stream",
       "stream": "stderr",
       "text": [
        " 0.0773198604584\n",
        "BUILD HYPERGRAPH: 0.0211639404297\n",
        "BUILD POTENTIALS: 0.0175650119781\n",
        "BUILD LP:"
       ]
      },
      {
       "output_type": "stream",
       "stream": "stdout",
       "text": [
        " 2\n",
        "\n",
        "Gurobi status="
       ]
      },
      {
       "output_type": "stream",
       "stream": "stderr",
       "text": [
        " 0.263345003128\n",
        "SOLVE LP:"
       ]
      },
      {
       "output_type": "stream",
       "stream": "stderr",
       "text": [
        " 0.0735261440277\n",
        "BUILD HYPERGRAPH: 0.0208859443665\n",
        "BUILD POTENTIALS: 0.0171661376953\n",
        "BUILD LP:"
       ]
      },
      {
       "output_type": "stream",
       "stream": "stdout",
       "text": [
        " 2\n",
        "\n",
        "Gurobi status="
       ]
      },
      {
       "output_type": "stream",
       "stream": "stderr",
       "text": [
        " 0.250432014465\n",
        "SOLVE LP:"
       ]
      },
      {
       "output_type": "stream",
       "stream": "stderr",
       "text": [
        " 0.0739250183105\n",
        "BUILD HYPERGRAPH: 0.0060122013092\n",
        "BUILD POTENTIALS: 0.00466299057007\n",
        "BUILD LP:"
       ]
      },
      {
       "output_type": "stream",
       "stream": "stdout",
       "text": [
        " 2\n",
        "\n",
        "Gurobi status="
       ]
      },
      {
       "output_type": "stream",
       "stream": "stderr",
       "text": [
        " 0.0540859699249\n",
        "SOLVE LP: 0.0217230319977\n",
        "BUILD HYPERGRAPH: 0.0063738822937\n",
        "BUILD POTENTIALS: 0.00499486923218\n",
        "BUILD LP:"
       ]
      },
      {
       "output_type": "stream",
       "stream": "stdout",
       "text": [
        " 2\n",
        "\n",
        "Gurobi status="
       ]
      },
      {
       "output_type": "stream",
       "stream": "stderr",
       "text": [
        " 0.0547578334808\n",
        "SOLVE LP: 0.0218667984009\n",
        "BUILD HYPERGRAPH: 0.00620889663696\n",
        "BUILD POTENTIALS: 0.00490617752075\n",
        "BUILD LP:"
       ]
      },
      {
       "output_type": "stream",
       "stream": "stdout",
       "text": [
        " 2\n",
        "\n",
        "Gurobi status="
       ]
      },
      {
       "output_type": "stream",
       "stream": "stderr",
       "text": [
        " 0.0543868541718\n",
        "SOLVE LP: 0.0215630531311\n",
        "BUILD HYPERGRAPH: 0.00111198425293\n",
        "BUILD POTENTIALS: 0.00098991394043\n",
        "BUILD LP: 0.0104730129242\n",
        "SOLVE LP: 0.0050528049469\n",
        "BUILD HYPERGRAPH: 0.0011420249939\n",
        "BUILD POTENTIALS: 0.000998020172119\n",
        "BUILD LP:"
       ]
      },
      {
       "output_type": "stream",
       "stream": "stderr",
       "text": [
        " 0.0118639469147\n",
        "SOLVE LP: 0.00497698783875\n",
        "BUILD HYPERGRAPH: 0.00565004348755\n",
        "BUILD POTENTIALS: 0.00459599494934\n",
        "BUILD LP:"
       ]
      },
      {
       "output_type": "stream",
       "stream": "stdout",
       "text": [
        " 2\n",
        "\n",
        "Gurobi status= 2\n",
        "\n",
        "Gurobi status= 2\n",
        "\n",
        "Gurobi status="
       ]
      },
      {
       "output_type": "stream",
       "stream": "stderr",
       "text": [
        " 0.0549929141998\n",
        "SOLVE LP: 0.0218260288239\n",
        "BUILD HYPERGRAPH:"
       ]
      },
      {
       "output_type": "stream",
       "stream": "stderr",
       "text": [
        " 0.0834019184113\n",
        "BUILD POTENTIALS: 0.0172328948975\n",
        "BUILD LP:"
       ]
      },
      {
       "output_type": "stream",
       "stream": "stdout",
       "text": [
        " 2\n",
        "\n",
        "Gurobi status="
       ]
      },
      {
       "output_type": "stream",
       "stream": "stderr",
       "text": [
        " 0.243016004562\n",
        "SOLVE LP:"
       ]
      },
      {
       "output_type": "stream",
       "stream": "stderr",
       "text": [
        " 0.0741908550262\n",
        "BUILD HYPERGRAPH: 0.0202779769897\n",
        "BUILD POTENTIALS: 0.016382932663\n",
        "BUILD LP:"
       ]
      },
      {
       "output_type": "stream",
       "stream": "stdout",
       "text": [
        " 2\n",
        "\n",
        "Gurobi status="
       ]
      },
      {
       "output_type": "stream",
       "stream": "stderr",
       "text": [
        " 0.18790102005\n",
        "SOLVE LP:"
       ]
      },
      {
       "output_type": "stream",
       "stream": "stderr",
       "text": [
        " 0.135693073273\n",
        "BUILD HYPERGRAPH: 0.0207479000092\n",
        "BUILD POTENTIALS: 0.0164258480072\n",
        "BUILD LP:"
       ]
      },
      {
       "output_type": "stream",
       "stream": "stdout",
       "text": [
        " 2\n",
        "\n",
        "Gurobi status="
       ]
      },
      {
       "output_type": "stream",
       "stream": "stderr",
       "text": [
        " 0.187831163406\n",
        "SOLVE LP:"
       ]
      },
      {
       "output_type": "stream",
       "stream": "stderr",
       "text": [
        " 0.0732800960541\n",
        "BUILD HYPERGRAPH: 0.0198831558228\n",
        "BUILD POTENTIALS: 0.0165510177612\n",
        "BUILD LP:"
       ]
      },
      {
       "output_type": "stream",
       "stream": "stdout",
       "text": [
        " 2\n",
        "\n",
        "Gurobi status="
       ]
      },
      {
       "output_type": "stream",
       "stream": "stderr",
       "text": [
        " 0.279736042023\n",
        "SOLVE LP:"
       ]
      },
      {
       "output_type": "stream",
       "stream": "stderr",
       "text": [
        " 0.07404088974\n",
        "BUILD HYPERGRAPH: 0.0200340747833\n",
        "BUILD POTENTIALS: 0.0170679092407\n",
        "BUILD LP:"
       ]
      },
      {
       "output_type": "stream",
       "stream": "stdout",
       "text": [
        " 2\n",
        "\n",
        "Gurobi status="
       ]
      },
      {
       "output_type": "stream",
       "stream": "stderr",
       "text": [
        " 0.186564922333\n",
        "SOLVE LP:"
       ]
      },
      {
       "output_type": "stream",
       "stream": "stderr",
       "text": [
        " 0.0745661258698\n",
        "BUILD HYPERGRAPH: 0.020103931427\n",
        "BUILD POTENTIALS: 0.0165948867798\n",
        "BUILD LP:"
       ]
      },
      {
       "output_type": "stream",
       "stream": "stdout",
       "text": [
        " 2\n",
        "\n",
        "Gurobi status="
       ]
      },
      {
       "output_type": "stream",
       "stream": "stderr",
       "text": [
        " 0.250105142593\n",
        "SOLVE LP:"
       ]
      },
      {
       "output_type": "stream",
       "stream": "stderr",
       "text": [
        " 0.0749108791351\n",
        "BUILD HYPERGRAPH: 0.0201950073242\n",
        "BUILD POTENTIALS: 0.0166230201721\n",
        "BUILD LP:"
       ]
      },
      {
       "output_type": "stream",
       "stream": "stdout",
       "text": [
        " 2\n",
        "\n",
        "Gurobi status="
       ]
      },
      {
       "output_type": "stream",
       "stream": "stderr",
       "text": [
        " 0.190552949905\n",
        "SOLVE LP:"
       ]
      },
      {
       "output_type": "stream",
       "stream": "stderr",
       "text": [
        " 0.0802359580994\n",
        "BUILD HYPERGRAPH: 0.0200200080872\n",
        "BUILD POTENTIALS: 0.0173659324646\n",
        "BUILD LP:"
       ]
      },
      {
       "output_type": "stream",
       "stream": "stdout",
       "text": [
        " 2\n",
        "\n",
        "Gurobi status="
       ]
      },
      {
       "output_type": "stream",
       "stream": "stderr",
       "text": [
        " 0.250229120255\n",
        "SOLVE LP:"
       ]
      },
      {
       "output_type": "stream",
       "stream": "stderr",
       "text": [
        " 0.0742139816284\n",
        "BUILD HYPERGRAPH: 0.0202548503876\n",
        "BUILD POTENTIALS: 0.0170650482178\n",
        "BUILD LP:"
       ]
      },
      {
       "output_type": "stream",
       "stream": "stdout",
       "text": [
        " 2\n",
        "\n",
        "Gurobi status="
       ]
      },
      {
       "output_type": "stream",
       "stream": "stderr",
       "text": [
        " 0.186590909958\n",
        "SOLVE LP:"
       ]
      },
      {
       "output_type": "stream",
       "stream": "stderr",
       "text": [
        " 0.071809053421\n",
        "BUILD HYPERGRAPH:"
       ]
      },
      {
       "output_type": "stream",
       "stream": "stderr",
       "text": [
        " 0.0828549861908\n",
        "BUILD POTENTIALS: 0.0177009105682\n",
        "BUILD LP:"
       ]
      },
      {
       "output_type": "stream",
       "stream": "stdout",
       "text": [
        " 2\n",
        "\n",
        "Gurobi status="
       ]
      },
      {
       "output_type": "stream",
       "stream": "stderr",
       "text": [
        " 0.192318916321\n",
        "SOLVE LP:"
       ]
      },
      {
       "output_type": "stream",
       "stream": "stderr",
       "text": [
        " 0.083062171936\n",
        "BUILD HYPERGRAPH: 0.0203731060028\n",
        "BUILD POTENTIALS: 0.0168211460114\n",
        "BUILD LP:"
       ]
      },
      {
       "output_type": "stream",
       "stream": "stdout",
       "text": [
        " 2\n",
        "\n",
        "Gurobi status="
       ]
      },
      {
       "output_type": "stream",
       "stream": "stderr",
       "text": [
        " 0.187445878983\n",
        "SOLVE LP:"
       ]
      },
      {
       "output_type": "stream",
       "stream": "stderr",
       "text": [
        " 0.134267091751\n",
        "BUILD HYPERGRAPH: 0.0199639797211\n",
        "BUILD POTENTIALS: 0.0161669254303\n",
        "BUILD LP:"
       ]
      },
      {
       "output_type": "stream",
       "stream": "stdout",
       "text": [
        " 2\n",
        "\n",
        "Gurobi status="
       ]
      },
      {
       "output_type": "stream",
       "stream": "stderr",
       "text": [
        " 0.185637950897\n",
        "SOLVE LP:"
       ]
      },
      {
       "output_type": "stream",
       "stream": "stderr",
       "text": [
        " 0.0732069015503\n",
        "BUILD HYPERGRAPH: 0.0201108455658\n",
        "BUILD POTENTIALS: 0.0170149803162\n",
        "BUILD LP:"
       ]
      },
      {
       "output_type": "stream",
       "stream": "stdout",
       "text": [
        " 2\n",
        "\n",
        "Gurobi status="
       ]
      },
      {
       "output_type": "stream",
       "stream": "stderr",
       "text": [
        " 0.186357975006\n",
        "SOLVE LP:"
       ]
      },
      {
       "output_type": "stream",
       "stream": "stderr",
       "text": [
        " 0.137976169586\n",
        "BUILD HYPERGRAPH: 0.0203988552094\n",
        "BUILD POTENTIALS: 0.017450094223\n",
        "BUILD LP:"
       ]
      },
      {
       "output_type": "stream",
       "stream": "stdout",
       "text": [
        " 2\n",
        "\n",
        "Gurobi status="
       ]
      },
      {
       "output_type": "stream",
       "stream": "stderr",
       "text": [
        " 0.186841964722\n",
        "SOLVE LP:"
       ]
      },
      {
       "output_type": "stream",
       "stream": "stderr",
       "text": [
        " 0.0730090141296\n",
        "BUILD HYPERGRAPH: 0.0201609134674\n",
        "BUILD POTENTIALS: 0.0168828964233\n",
        "BUILD LP:"
       ]
      },
      {
       "output_type": "stream",
       "stream": "stdout",
       "text": [
        " 2\n",
        "\n",
        "Gurobi status="
       ]
      },
      {
       "output_type": "stream",
       "stream": "stderr",
       "text": [
        " 0.185782194138\n",
        "SOLVE LP:"
       ]
      },
      {
       "output_type": "stream",
       "stream": "stderr",
       "text": [
        " 0.138461112976\n",
        "BUILD HYPERGRAPH: 0.0058970451355\n",
        "BUILD POTENTIALS: 0.00462889671326\n",
        "BUILD LP:"
       ]
      },
      {
       "output_type": "stream",
       "stream": "stdout",
       "text": [
        " 2\n",
        "\n",
        "Gurobi status="
       ]
      },
      {
       "output_type": "stream",
       "stream": "stderr",
       "text": [
        " 0.055163860321\n",
        "SOLVE LP: 0.0223989486694\n",
        "BUILD HYPERGRAPH: 0.00559401512146\n",
        "BUILD POTENTIALS: 0.0045211315155\n",
        "BUILD LP:"
       ]
      },
      {
       "output_type": "stream",
       "stream": "stdout",
       "text": [
        " 2\n",
        "\n",
        "Gurobi status="
       ]
      },
      {
       "output_type": "stream",
       "stream": "stderr",
       "text": [
        " 0.054603099823\n",
        "SOLVE LP: 0.0229699611664\n",
        "BUILD HYPERGRAPH: 0.0213649272919\n",
        "BUILD POTENTIALS:"
       ]
      },
      {
       "output_type": "stream",
       "stream": "stderr",
       "text": [
        " 0.0173189640045\n",
        "BUILD LP:"
       ]
      },
      {
       "output_type": "stream",
       "stream": "stdout",
       "text": [
        " 2\n",
        "\n",
        "Gurobi status="
       ]
      },
      {
       "output_type": "stream",
       "stream": "stderr",
       "text": [
        " 0.213928222656\n",
        "SOLVE LP:"
       ]
      },
      {
       "output_type": "stream",
       "stream": "stderr",
       "text": [
        " 0.0718469619751\n",
        "BUILD HYPERGRAPH:"
       ]
      },
      {
       "output_type": "stream",
       "stream": "stderr",
       "text": [
        " 0.0853819847107\n",
        "BUILD POTENTIALS: 0.0180418491364\n",
        "BUILD LP:"
       ]
      },
      {
       "output_type": "stream",
       "stream": "stdout",
       "text": [
        " 2\n",
        "\n",
        "Gurobi status="
       ]
      },
      {
       "output_type": "stream",
       "stream": "stderr",
       "text": [
        " 0.189441919327\n",
        "SOLVE LP:"
       ]
      },
      {
       "output_type": "stream",
       "stream": "stderr",
       "text": [
        " 0.0733458995819\n",
        "BUILD HYPERGRAPH: 0.0199551582336\n",
        "BUILD POTENTIALS: 0.0177199840546\n",
        "BUILD LP:"
       ]
      },
      {
       "output_type": "stream",
       "stream": "stdout",
       "text": [
        " 2\n",
        "\n",
        "Gurobi status="
       ]
      },
      {
       "output_type": "stream",
       "stream": "stderr",
       "text": [
        " 0.248272895813\n",
        "SOLVE LP:"
       ]
      },
      {
       "output_type": "stream",
       "stream": "stderr",
       "text": [
        " 0.0732190608978\n",
        "BUILD HYPERGRAPH: 0.0203580856323\n",
        "BUILD POTENTIALS: 0.0177178382874\n",
        "BUILD LP:"
       ]
      },
      {
       "output_type": "stream",
       "stream": "stdout",
       "text": [
        " 2\n",
        "\n",
        "Gurobi status="
       ]
      },
      {
       "output_type": "stream",
       "stream": "stderr",
       "text": [
        " 0.197787046432\n",
        "SOLVE LP:"
       ]
      },
      {
       "output_type": "stream",
       "stream": "stderr",
       "text": [
        " 0.0713200569153\n",
        "BUILD HYPERGRAPH: 0.0200309753418\n",
        "BUILD POTENTIALS: 0.0163161754608\n",
        "BUILD LP:"
       ]
      },
      {
       "output_type": "stream",
       "stream": "stdout",
       "text": [
        " 2\n",
        "\n",
        "Gurobi status="
       ]
      },
      {
       "output_type": "stream",
       "stream": "stderr",
       "text": [
        " 0.250803947449\n",
        "SOLVE LP:"
       ]
      },
      {
       "output_type": "stream",
       "stream": "stderr",
       "text": [
        " 0.0733180046082\n",
        "BUILD HYPERGRAPH: 0.020406961441\n",
        "BUILD POTENTIALS: 0.0170300006866\n",
        "BUILD LP:"
       ]
      },
      {
       "output_type": "stream",
       "stream": "stdout",
       "text": [
        " 2\n",
        "\n",
        "Gurobi status="
       ]
      },
      {
       "output_type": "stream",
       "stream": "stderr",
       "text": [
        " 0.188727855682\n",
        "SOLVE LP:"
       ]
      },
      {
       "output_type": "stream",
       "stream": "stderr",
       "text": [
        " 0.0765080451965\n",
        "BUILD HYPERGRAPH: 0.0207781791687\n",
        "BUILD POTENTIALS: 0.0165679454803\n",
        "BUILD LP:"
       ]
      },
      {
       "output_type": "stream",
       "stream": "stdout",
       "text": [
        " 2\n",
        "\n",
        "Gurobi status="
       ]
      },
      {
       "output_type": "stream",
       "stream": "stderr",
       "text": [
        " 0.264278888702\n",
        "SOLVE LP:"
       ]
      },
      {
       "output_type": "stream",
       "stream": "stderr",
       "text": [
        " 0.0743930339813\n",
        "BUILD HYPERGRAPH: 0.0199837684631\n",
        "BUILD POTENTIALS: 0.0174820423126\n",
        "BUILD LP:"
       ]
      },
      {
       "output_type": "stream",
       "stream": "stdout",
       "text": [
        " 2\n",
        "\n",
        "Gurobi status="
       ]
      },
      {
       "output_type": "stream",
       "stream": "stderr",
       "text": [
        " 0.189623117447\n",
        "SOLVE LP:"
       ]
      },
      {
       "output_type": "stream",
       "stream": "stderr",
       "text": [
        " 0.0736770629883\n",
        "BUILD HYPERGRAPH: 0.00114488601685\n",
        "BUILD POTENTIALS: 0.000930786132812\n",
        "BUILD LP: 0.0105588436127\n",
        "SOLVE LP: 0.00485682487488\n",
        "BUILD HYPERGRAPH: 0.0210509300232\n",
        "BUILD POTENTIALS:"
       ]
      },
      {
       "output_type": "stream",
       "stream": "stderr",
       "text": [
        " 0.0188729763031\n",
        "BUILD LP:"
       ]
      },
      {
       "output_type": "stream",
       "stream": "stdout",
       "text": [
        " 2\n",
        "\n",
        "Gurobi status= 2\n",
        "\n",
        "Gurobi status="
       ]
      },
      {
       "output_type": "stream",
       "stream": "stderr",
       "text": [
        " 0.25502204895\n",
        "SOLVE LP:"
       ]
      },
      {
       "output_type": "stream",
       "stream": "stderr",
       "text": [
        " 0.0750019550323\n",
        "BUILD HYPERGRAPH: 0.0201330184937\n",
        "BUILD POTENTIALS: 0.0177080631256\n",
        "BUILD LP:"
       ]
      },
      {
       "output_type": "stream",
       "stream": "stdout",
       "text": [
        " 2\n",
        "\n",
        "Gurobi status="
       ]
      },
      {
       "output_type": "stream",
       "stream": "stderr",
       "text": [
        " 0.196022033691\n",
        "SOLVE LP:"
       ]
      },
      {
       "output_type": "stream",
       "stream": "stderr",
       "text": [
        " 0.0738179683685\n",
        "BUILD HYPERGRAPH: 0.0199329853058\n",
        "BUILD POTENTIALS: 0.0173749923706\n",
        "BUILD LP:"
       ]
      },
      {
       "output_type": "stream",
       "stream": "stdout",
       "text": [
        " 2\n",
        "\n",
        "Gurobi status="
       ]
      },
      {
       "output_type": "stream",
       "stream": "stderr",
       "text": [
        " 0.250451087952\n",
        "SOLVE LP:"
       ]
      },
      {
       "output_type": "stream",
       "stream": "stderr",
       "text": [
        " 0.0760569572449\n",
        "BUILD HYPERGRAPH: 0.0206589698792\n",
        "BUILD POTENTIALS: 0.0169579982758\n",
        "BUILD LP:"
       ]
      },
      {
       "output_type": "stream",
       "stream": "stdout",
       "text": [
        " 2\n",
        "\n",
        "Gurobi status="
       ]
      },
      {
       "output_type": "stream",
       "stream": "stderr",
       "text": [
        " 0.188560962677\n",
        "SOLVE LP:"
       ]
      },
      {
       "output_type": "stream",
       "stream": "stderr",
       "text": [
        " 0.135773897171\n",
        "BUILD HYPERGRAPH: 0.0200400352478\n",
        "BUILD POTENTIALS: 0.016891002655\n",
        "BUILD LP:"
       ]
      },
      {
       "output_type": "stream",
       "stream": "stdout",
       "text": [
        " 2\n",
        "\n",
        "Gurobi status="
       ]
      },
      {
       "output_type": "stream",
       "stream": "stderr",
       "text": [
        " 0.214869976044\n",
        "SOLVE LP:"
       ]
      },
      {
       "output_type": "stream",
       "stream": "stderr",
       "text": [
        " 0.0742280483246\n",
        "BUILD HYPERGRAPH: 0.0196681022644\n",
        "BUILD POTENTIALS: 0.0171461105347\n",
        "BUILD LP:"
       ]
      },
      {
       "output_type": "stream",
       "stream": "stdout",
       "text": [
        " 2\n",
        "\n",
        "Gurobi status="
       ]
      },
      {
       "output_type": "stream",
       "stream": "stderr",
       "text": [
        " 0.24929690361\n",
        "SOLVE LP:"
       ]
      },
      {
       "output_type": "stream",
       "stream": "stderr",
       "text": [
        " 0.0751848220825\n",
        "BUILD HYPERGRAPH: 0.019660949707\n",
        "BUILD POTENTIALS: 0.0176050662994\n",
        "BUILD LP:"
       ]
      },
      {
       "output_type": "stream",
       "stream": "stdout",
       "text": [
        " 2\n",
        "\n",
        "Gurobi status="
       ]
      },
      {
       "output_type": "stream",
       "stream": "stderr",
       "text": [
        " 0.190082788467\n",
        "SOLVE LP:"
       ]
      },
      {
       "output_type": "stream",
       "stream": "stderr",
       "text": [
        " 0.0759909152985\n",
        "BUILD HYPERGRAPH: 0.0207090377808\n",
        "BUILD POTENTIALS: 0.0171000957489\n",
        "BUILD LP:"
       ]
      },
      {
       "output_type": "stream",
       "stream": "stdout",
       "text": [
        " 2\n",
        "\n",
        "Gurobi status="
       ]
      },
      {
       "output_type": "stream",
       "stream": "stderr",
       "text": [
        " 0.258073806763\n",
        "SOLVE LP:"
       ]
      },
      {
       "output_type": "stream",
       "stream": "stderr",
       "text": [
        " 0.0760221481323\n",
        "BUILD HYPERGRAPH: 0.0208730697632\n",
        "BUILD POTENTIALS: 0.0171790122986\n",
        "BUILD LP:"
       ]
      },
      {
       "output_type": "stream",
       "stream": "stdout",
       "text": [
        " 2\n",
        "\n",
        "Gurobi status="
       ]
      },
      {
       "output_type": "stream",
       "stream": "stderr",
       "text": [
        " 0.188982009888\n",
        "SOLVE LP:"
       ]
      },
      {
       "output_type": "stream",
       "stream": "stderr",
       "text": [
        " 0.075345993042\n",
        "BUILD HYPERGRAPH: 0.020005941391\n",
        "BUILD POTENTIALS: 0.0171492099762\n",
        "BUILD LP:"
       ]
      },
      {
       "output_type": "stream",
       "stream": "stdout",
       "text": [
        " 2\n",
        "\n",
        "Gurobi status="
       ]
      },
      {
       "output_type": "stream",
       "stream": "stderr",
       "text": [
        " 0.251530885696\n",
        "SOLVE LP:"
       ]
      },
      {
       "output_type": "stream",
       "stream": "stderr",
       "text": [
        " 0.0758919715881\n",
        "BUILD HYPERGRAPH: 0.0200099945068\n",
        "BUILD POTENTIALS: 0.0172650814056\n",
        "BUILD LP:"
       ]
      },
      {
       "output_type": "stream",
       "stream": "stdout",
       "text": [
        " 2\n",
        "\n",
        "Gurobi status="
       ]
      },
      {
       "output_type": "stream",
       "stream": "stderr",
       "text": [
        " 0.197733879089\n",
        "SOLVE LP:"
       ]
      },
      {
       "output_type": "stream",
       "stream": "stderr",
       "text": [
        " 0.0747427940369\n",
        "BUILD HYPERGRAPH: 0.0198740959167\n",
        "BUILD POTENTIALS: 0.0176060199738\n",
        "BUILD LP:"
       ]
      },
      {
       "output_type": "stream",
       "stream": "stdout",
       "text": [
        " 2\n",
        "\n",
        "Gurobi status="
       ]
      },
      {
       "output_type": "stream",
       "stream": "stderr",
       "text": [
        " 0.25143289566\n",
        "SOLVE LP:"
       ]
      },
      {
       "output_type": "stream",
       "stream": "stderr",
       "text": [
        " 0.0759289264679\n",
        "BUILD HYPERGRAPH: 0.0195441246033\n",
        "BUILD POTENTIALS: 0.0177249908447\n",
        "BUILD LP:"
       ]
      },
      {
       "output_type": "stream",
       "stream": "stdout",
       "text": [
        " 2\n",
        "\n",
        "Gurobi status="
       ]
      },
      {
       "output_type": "stream",
       "stream": "stderr",
       "text": [
        " 0.189846038818\n",
        "SOLVE LP:"
       ]
      },
      {
       "output_type": "stream",
       "stream": "stderr",
       "text": [
        " 0.0755910873413\n",
        "BUILD HYPERGRAPH:"
       ]
      },
      {
       "output_type": "stream",
       "stream": "stderr",
       "text": [
        " 0.0843319892883\n",
        "BUILD POTENTIALS: 0.0192420482635\n",
        "BUILD LP:"
       ]
      },
      {
       "output_type": "stream",
       "stream": "stdout",
       "text": [
        " 2\n",
        "\n",
        "Gurobi status="
       ]
      },
      {
       "output_type": "stream",
       "stream": "stderr",
       "text": [
        " 0.219101905823\n",
        "SOLVE LP:"
       ]
      },
      {
       "output_type": "stream",
       "stream": "stderr",
       "text": [
        " 0.0736818313599\n",
        "BUILD HYPERGRAPH: 0.00105905532837\n",
        "BUILD POTENTIALS: 0.000905990600586\n",
        "BUILD LP: 0.0104699134827\n",
        "SOLVE LP: 0.00486397743225\n",
        "BUILD HYPERGRAPH: 0.00585103034973\n",
        "BUILD POTENTIALS: 0.00471186637878\n",
        "BUILD LP:"
       ]
      },
      {
       "output_type": "stream",
       "stream": "stdout",
       "text": [
        " 2\n",
        "\n",
        "Gurobi status= 2\n",
        "\n",
        "Gurobi status="
       ]
      },
      {
       "output_type": "stream",
       "stream": "stderr",
       "text": [
        " 0.0556180477142\n",
        "SOLVE LP: 0.0219080448151\n",
        "BUILD HYPERGRAPH: 0.0211601257324\n",
        "BUILD POTENTIALS:"
       ]
      },
      {
       "output_type": "stream",
       "stream": "stderr",
       "text": [
        " 0.0175430774689\n",
        "BUILD LP:"
       ]
      },
      {
       "output_type": "stream",
       "stream": "stdout",
       "text": [
        " 2\n",
        "\n",
        "Gurobi status="
       ]
      },
      {
       "output_type": "stream",
       "stream": "stderr",
       "text": [
        " 0.251246929169\n",
        "SOLVE LP:"
       ]
      },
      {
       "output_type": "stream",
       "stream": "stderr",
       "text": [
        " 0.0753509998322\n",
        "BUILD HYPERGRAPH: 0.0201890468597\n",
        "BUILD POTENTIALS: 0.0178010463715\n",
        "BUILD LP:"
       ]
      },
      {
       "output_type": "stream",
       "stream": "stdout",
       "text": [
        " 2\n",
        "\n",
        "Gurobi status="
       ]
      },
      {
       "output_type": "stream",
       "stream": "stderr",
       "text": [
        " 0.188891172409\n",
        "SOLVE LP:"
       ]
      },
      {
       "output_type": "stream",
       "stream": "stderr",
       "text": [
        " 0.0731070041656\n",
        "BUILD HYPERGRAPH: 0.00578713417053\n",
        "BUILD POTENTIALS: 0.00474095344543\n",
        "BUILD LP:"
       ]
      },
      {
       "output_type": "stream",
       "stream": "stdout",
       "text": [
        " 2\n",
        "\n",
        "Gurobi status="
       ]
      },
      {
       "output_type": "stream",
       "stream": "stderr",
       "text": [
        " 0.054083108902\n",
        "SOLVE LP: 0.0220520496368\n",
        "BUILD HYPERGRAPH: 0.0200538635254\n",
        "BUILD POTENTIALS:"
       ]
      },
      {
       "output_type": "stream",
       "stream": "stderr",
       "text": [
        " 0.017196893692\n",
        "BUILD LP:"
       ]
      },
      {
       "output_type": "stream",
       "stream": "stdout",
       "text": [
        " 2\n",
        "\n",
        "Gurobi status="
       ]
      },
      {
       "output_type": "stream",
       "stream": "stderr",
       "text": [
        " 0.334728002548\n",
        "SOLVE LP:"
       ]
      },
      {
       "output_type": "stream",
       "stream": "stderr",
       "text": [
        " 0.0738980770111\n",
        "BUILD HYPERGRAPH: 0.0201299190521\n",
        "BUILD POTENTIALS: 0.0175762176514\n",
        "BUILD LP:"
       ]
      },
      {
       "output_type": "stream",
       "stream": "stdout",
       "text": [
        " 2\n",
        "\n",
        "Gurobi status="
       ]
      },
      {
       "output_type": "stream",
       "stream": "stderr",
       "text": [
        " 0.189006090164\n",
        "SOLVE LP:"
       ]
      },
      {
       "output_type": "stream",
       "stream": "stderr",
       "text": [
        " 0.0728290081024\n",
        "BUILD HYPERGRAPH:"
       ]
      },
      {
       "output_type": "stream",
       "stream": "stderr",
       "text": [
        " 0.0819320678711\n",
        "BUILD POTENTIALS: 0.0173740386963\n",
        "BUILD LP:"
       ]
      },
      {
       "output_type": "stream",
       "stream": "stdout",
       "text": [
        " 2\n",
        "\n",
        "Gurobi status="
       ]
      },
      {
       "output_type": "stream",
       "stream": "stderr",
       "text": [
        " 0.188344955444\n",
        "SOLVE LP:"
       ]
      },
      {
       "output_type": "stream",
       "stream": "stderr",
       "text": [
        " 0.0720899105072\n",
        "BUILD HYPERGRAPH: 0.00625491142273\n",
        "BUILD POTENTIALS: 0.00457501411438\n",
        "BUILD LP:"
       ]
      },
      {
       "output_type": "stream",
       "stream": "stdout",
       "text": [
        " 2\n",
        "\n",
        "Gurobi status="
       ]
      },
      {
       "output_type": "stream",
       "stream": "stderr",
       "text": [
        " 0.0541269779205\n",
        "SOLVE LP: 0.0212640762329\n",
        "BUILD HYPERGRAPH: 0.0209980010986\n",
        "BUILD POTENTIALS:"
       ]
      },
      {
       "output_type": "stream",
       "stream": "stderr",
       "text": [
        " 0.0181679725647\n",
        "BUILD LP:"
       ]
      },
      {
       "output_type": "stream",
       "stream": "stdout",
       "text": [
        " 2\n",
        "\n",
        "Gurobi status="
       ]
      },
      {
       "output_type": "stream",
       "stream": "stderr",
       "text": [
        " 0.249644994736\n",
        "SOLVE LP:"
       ]
      },
      {
       "output_type": "stream",
       "stream": "stderr",
       "text": [
        " 0.074431180954\n",
        "BUILD HYPERGRAPH: 0.0203371047974\n",
        "BUILD POTENTIALS: 0.0165588855743\n",
        "BUILD LP:"
       ]
      },
      {
       "output_type": "stream",
       "stream": "stdout",
       "text": [
        " 2\n",
        "\n",
        "Gurobi status="
       ]
      },
      {
       "output_type": "stream",
       "stream": "stderr",
       "text": [
        " 0.188560009003\n",
        "SOLVE LP:"
       ]
      },
      {
       "output_type": "stream",
       "stream": "stderr",
       "text": [
        " 0.0731718540192\n",
        "BUILD HYPERGRAPH: 0.00564908981323\n",
        "BUILD POTENTIALS: 0.00462293624878\n",
        "BUILD LP:"
       ]
      },
      {
       "output_type": "stream",
       "stream": "stdout",
       "text": [
        " 2\n",
        "\n",
        "Gurobi status="
       ]
      },
      {
       "output_type": "stream",
       "stream": "stderr",
       "text": [
        " 0.0544550418854\n",
        "SOLVE LP: 0.021684885025\n",
        "BUILD HYPERGRAPH:"
       ]
      },
      {
       "output_type": "stream",
       "stream": "stderr",
       "text": [
        " 0.0851271152496\n",
        "BUILD POTENTIALS: 0.0176329612732\n",
        "BUILD LP:"
       ]
      },
      {
       "output_type": "stream",
       "stream": "stdout",
       "text": [
        " 2\n",
        "\n",
        "Gurobi status="
       ]
      },
      {
       "output_type": "stream",
       "stream": "stderr",
       "text": [
        " 0.188241958618\n",
        "SOLVE LP:"
       ]
      },
      {
       "output_type": "stream",
       "stream": "stderr",
       "text": [
        " 0.0749289989471\n",
        "BUILD HYPERGRAPH: 0.0199820995331\n",
        "BUILD POTENTIALS: 0.0178790092468\n",
        "BUILD LP:"
       ]
      },
      {
       "output_type": "stream",
       "stream": "stdout",
       "text": [
        " 2\n",
        "\n",
        "Gurobi status="
       ]
      },
      {
       "output_type": "stream",
       "stream": "stderr",
       "text": [
        " 0.286681890488\n",
        "SOLVE LP:"
       ]
      },
      {
       "output_type": "stream",
       "stream": "stdout",
       "text": [
        " 2\n",
        "\n",
        "Gurobi status= 2\n",
        "\n",
        "Gurobi status="
       ]
      },
      {
       "output_type": "stream",
       "stream": "stderr",
       "text": [
        " 0.0720341205597\n",
        "BUILD HYPERGRAPH: 0.00127911567688\n",
        "BUILD POTENTIALS: 0.000962018966675\n",
        "BUILD LP: 0.0105581283569\n",
        "SOLVE LP: 0.00482201576233\n",
        "BUILD HYPERGRAPH: 0.0012481212616\n",
        "BUILD POTENTIALS: 0.00113320350647\n",
        "BUILD LP: 0.0113348960876\n",
        "SOLVE LP: 0.00537300109863\n",
        "BUILD HYPERGRAPH:"
       ]
      },
      {
       "output_type": "stream",
       "stream": "stderr",
       "text": [
        " 0.0219769477844\n",
        "BUILD POTENTIALS: 0.0189919471741\n",
        "BUILD LP:"
       ]
      },
      {
       "output_type": "stream",
       "stream": "stdout",
       "text": [
        " 2\n",
        "\n",
        "Gurobi status="
       ]
      },
      {
       "output_type": "stream",
       "stream": "stderr",
       "text": [
        " 0.18878698349\n",
        "SOLVE LP:"
       ]
      },
      {
       "output_type": "stream",
       "stream": "stderr",
       "text": [
        " 0.0707290172577\n",
        "BUILD HYPERGRAPH: 0.020082950592\n",
        "BUILD POTENTIALS: 0.0166580677032\n",
        "BUILD LP:"
       ]
      },
      {
       "output_type": "stream",
       "stream": "stdout",
       "text": [
        " 2\n",
        "\n",
        "Gurobi status="
       ]
      },
      {
       "output_type": "stream",
       "stream": "stderr",
       "text": [
        " 0.250551939011\n",
        "SOLVE LP:"
       ]
      },
      {
       "output_type": "stream",
       "stream": "stderr",
       "text": [
        " 0.0718839168549\n",
        "BUILD HYPERGRAPH: 0.0058741569519\n",
        "BUILD POTENTIALS: 0.00475907325745\n",
        "BUILD LP:"
       ]
      },
      {
       "output_type": "stream",
       "stream": "stdout",
       "text": [
        " 2\n",
        "\n",
        "Gurobi status="
       ]
      },
      {
       "output_type": "stream",
       "stream": "stderr",
       "text": [
        " 0.0545108318329\n",
        "SOLVE LP: 0.0222120285034\n",
        "BUILD HYPERGRAPH: 0.00113201141357\n",
        "BUILD POTENTIALS: 0.000944137573242\n",
        "BUILD LP: 0.0117399692535\n",
        "SOLVE LP: 0.00637602806091\n",
        "BUILD HYPERGRAPH:"
       ]
      },
      {
       "output_type": "stream",
       "stream": "stderr",
       "text": [
        " 0.0256609916687\n",
        "BUILD POTENTIALS: 0.0186171531677\n",
        "BUILD LP:"
       ]
      },
      {
       "output_type": "stream",
       "stream": "stdout",
       "text": [
        " 2\n",
        "\n",
        "Gurobi status= 2\n",
        "\n",
        "Gurobi status="
       ]
      },
      {
       "output_type": "stream",
       "stream": "stderr",
       "text": [
        " 0.186028957367\n",
        "SOLVE LP:"
       ]
      },
      {
       "output_type": "stream",
       "stream": "stderr",
       "text": [
        " 0.0742571353912\n",
        "BUILD HYPERGRAPH:"
       ]
      },
      {
       "output_type": "stream",
       "stream": "stderr",
       "text": [
        " 0.0843188762665\n",
        "BUILD POTENTIALS: 0.0177459716797\n",
        "BUILD LP:"
       ]
      },
      {
       "output_type": "stream",
       "stream": "stdout",
       "text": [
        " 2\n",
        "\n",
        "Gurobi status="
       ]
      },
      {
       "output_type": "stream",
       "stream": "stderr",
       "text": [
        " 0.189265966415\n",
        "SOLVE LP:"
       ]
      },
      {
       "output_type": "stream",
       "stream": "stderr",
       "text": [
        " 0.0723299980164\n",
        "BUILD HYPERGRAPH: 0.0203511714935\n",
        "BUILD POTENTIALS: 0.0176630020142\n",
        "BUILD LP:"
       ]
      },
      {
       "output_type": "stream",
       "stream": "stdout",
       "text": [
        " 2\n",
        "\n",
        "Gurobi status="
       ]
      },
      {
       "output_type": "stream",
       "stream": "stderr",
       "text": [
        " 0.187417984009\n",
        "SOLVE LP:"
       ]
      },
      {
       "output_type": "stream",
       "stream": "stderr",
       "text": [
        " 0.134397029877\n",
        "BUILD HYPERGRAPH: 0.0202589035034\n",
        "BUILD POTENTIALS: 0.0170750617981\n",
        "BUILD LP:"
       ]
      },
      {
       "output_type": "stream",
       "stream": "stdout",
       "text": [
        " 2\n",
        "\n",
        "Gurobi status="
       ]
      },
      {
       "output_type": "stream",
       "stream": "stderr",
       "text": [
        " 0.188163042068\n",
        "SOLVE LP:"
       ]
      },
      {
       "output_type": "stream",
       "stream": "stderr",
       "text": [
        " 0.0728640556335\n",
        "BUILD HYPERGRAPH: 0.019828081131\n",
        "BUILD POTENTIALS: 0.018317937851\n",
        "BUILD LP:"
       ]
      },
      {
       "output_type": "stream",
       "stream": "stdout",
       "text": [
        " 2\n",
        "\n",
        "Gurobi status="
       ]
      },
      {
       "output_type": "stream",
       "stream": "stderr",
       "text": [
        " 0.251765012741\n",
        "SOLVE LP:"
       ]
      },
      {
       "output_type": "stream",
       "stream": "stderr",
       "text": [
        " 0.0738070011139\n",
        "BUILD HYPERGRAPH: 0.0199708938599\n",
        "BUILD POTENTIALS: 0.0166540145874\n",
        "BUILD LP:"
       ]
      },
      {
       "output_type": "stream",
       "stream": "stdout",
       "text": [
        " 2\n",
        "\n",
        "Gurobi status="
       ]
      },
      {
       "output_type": "stream",
       "stream": "stderr",
       "text": [
        " 0.189277887344\n",
        "SOLVE LP:"
       ]
      },
      {
       "output_type": "stream",
       "stream": "stderr",
       "text": [
        " 0.0748829841614\n",
        "BUILD HYPERGRAPH: 0.00110006332397\n",
        "BUILD POTENTIALS: 0.000876188278198\n",
        "BUILD LP: 0.0106551647186\n",
        "SOLVE LP: 0.00505614280701\n",
        "BUILD HYPERGRAPH: 0.0208530426025\n",
        "BUILD POTENTIALS:"
       ]
      },
      {
       "output_type": "stream",
       "stream": "stderr",
       "text": [
        " 0.0177760124207\n",
        "BUILD LP:"
       ]
      },
      {
       "output_type": "stream",
       "stream": "stdout",
       "text": [
        " 2\n",
        "\n",
        "Gurobi status= 2\n",
        "\n",
        "Gurobi status="
       ]
      },
      {
       "output_type": "stream",
       "stream": "stderr",
       "text": [
        " 0.252649068832\n",
        "SOLVE LP:"
       ]
      },
      {
       "output_type": "stream",
       "stream": "stderr",
       "text": [
        " 0.0745549201965\n",
        "BUILD HYPERGRAPH: 0.0200319290161\n",
        "BUILD POTENTIALS: 0.0170798301697\n",
        "BUILD LP:"
       ]
      },
      {
       "output_type": "stream",
       "stream": "stdout",
       "text": [
        " 2\n",
        "\n",
        "Gurobi status="
       ]
      },
      {
       "output_type": "stream",
       "stream": "stderr",
       "text": [
        " 0.187183856964\n",
        "SOLVE LP:"
       ]
      },
      {
       "output_type": "stream",
       "stream": "stderr",
       "text": [
        " 0.072781085968\n",
        "BUILD HYPERGRAPH: 0.020005941391\n",
        "BUILD POTENTIALS: 0.0164098739624\n",
        "BUILD LP:"
       ]
      },
      {
       "output_type": "stream",
       "stream": "stdout",
       "text": [
        " 2\n",
        "\n",
        "Gurobi status="
       ]
      },
      {
       "output_type": "stream",
       "stream": "stderr",
       "text": [
        " 0.251617908478\n",
        "SOLVE LP:"
       ]
      },
      {
       "output_type": "stream",
       "stream": "stderr",
       "text": [
        " 0.0845830440521\n",
        "BUILD HYPERGRAPH: 0.020220041275\n",
        "BUILD POTENTIALS: 0.0162119865417\n",
        "BUILD LP:"
       ]
      },
      {
       "output_type": "stream",
       "stream": "stdout",
       "text": [
        " 2\n",
        "\n",
        "Gurobi status="
       ]
      },
      {
       "output_type": "stream",
       "stream": "stderr",
       "text": [
        " 0.187601089478\n",
        "SOLVE LP:"
       ]
      },
      {
       "output_type": "stream",
       "stream": "stderr",
       "text": [
        " 0.0736880302429\n",
        "BUILD HYPERGRAPH: 0.0198888778687\n",
        "BUILD POTENTIALS: 0.0173029899597\n",
        "BUILD LP:"
       ]
      },
      {
       "output_type": "stream",
       "stream": "stdout",
       "text": [
        " 2\n",
        "\n",
        "Gurobi status="
       ]
      },
      {
       "output_type": "stream",
       "stream": "stderr",
       "text": [
        " 0.247875928879\n",
        "SOLVE LP:"
       ]
      },
      {
       "output_type": "stream",
       "stream": "stderr",
       "text": [
        " 0.0761649608612\n",
        "BUILD HYPERGRAPH: 0.0056939125061\n",
        "BUILD POTENTIALS: 0.00501489639282\n",
        "BUILD LP:"
       ]
      },
      {
       "output_type": "stream",
       "stream": "stdout",
       "text": [
        " 2\n",
        "\n",
        "Gurobi status="
       ]
      },
      {
       "output_type": "stream",
       "stream": "stderr",
       "text": [
        " 0.054172039032\n",
        "SOLVE LP: 0.0220060348511\n",
        "BUILD HYPERGRAPH: 0.0010781288147\n",
        "BUILD POTENTIALS: 0.000885009765625\n",
        "BUILD LP: 0.0106508731842\n",
        "SOLVE LP: 0.00534820556641\n",
        "BUILD HYPERGRAPH: 0.00603318214417\n",
        "BUILD POTENTIALS:"
       ]
      },
      {
       "output_type": "stream",
       "stream": "stderr",
       "text": [
        " 0.00520706176758\n",
        "BUILD LP:"
       ]
      },
      {
       "output_type": "stream",
       "stream": "stdout",
       "text": [
        " 2\n",
        "\n",
        "Gurobi status= 2\n",
        "\n",
        "Gurobi status="
       ]
      },
      {
       "output_type": "stream",
       "stream": "stderr",
       "text": [
        " 0.0559599399567\n",
        "SOLVE LP: 0.0214500427246\n",
        "BUILD HYPERGRAPH: 0.00106501579285\n",
        "BUILD POTENTIALS: 0.000917911529541\n",
        "BUILD LP: 0.010409116745\n",
        "SOLVE LP: 0.00523900985718\n",
        "BUILD HYPERGRAPH: 0.00110602378845\n",
        "BUILD POTENTIALS: 0.000937938690186\n",
        "BUILD LP:"
       ]
      },
      {
       "output_type": "stream",
       "stream": "stdout",
       "text": [
        " 2\n",
        "\n",
        "Gurobi status= 2\n",
        "\n",
        "Gurobi status= 2\n",
        "\n",
        "Gurobi status="
       ]
      },
      {
       "output_type": "stream",
       "stream": "stderr",
       "text": [
        " 0.0111398696899\n",
        "SOLVE LP: 0.00503587722778\n",
        "BUILD HYPERGRAPH: 0.0011088848114\n",
        "BUILD POTENTIALS: 0.000935077667236\n",
        "BUILD LP: 0.0120179653168\n",
        "SOLVE LP: 0.00528001785278\n",
        "BUILD HYPERGRAPH: 0.00112414360046\n",
        "BUILD POTENTIALS: 0.000954866409302\n",
        "BUILD LP: 0.0109519958496\n",
        "SOLVE LP: 0.00476098060608\n",
        "BUILD HYPERGRAPH:"
       ]
      },
      {
       "output_type": "stream",
       "stream": "stderr",
       "text": [
        " 0.0273549556732\n",
        "BUILD POTENTIALS: 0.0262629985809\n",
        "BUILD LP:"
       ]
      },
      {
       "output_type": "stream",
       "stream": "stdout",
       "text": [
        " 2\n",
        "\n",
        "Gurobi status= 2\n",
        "\n",
        "Gurobi status="
       ]
      },
      {
       "output_type": "stream",
       "stream": "stderr",
       "text": [
        " 0.297549962997\n",
        "SOLVE LP:"
       ]
      },
      {
       "output_type": "stream",
       "stream": "stderr",
       "text": [
        " 0.073755979538\n",
        "BUILD HYPERGRAPH: 0.00111103057861\n",
        "BUILD POTENTIALS: 0.000861883163452\n",
        "BUILD LP: 0.0110490322113\n",
        "SOLVE LP: 0.00474905967712\n",
        "BUILD HYPERGRAPH: 0.0206949710846\n",
        "BUILD POTENTIALS:"
       ]
      },
      {
       "output_type": "stream",
       "stream": "stderr",
       "text": [
        " 0.0179059505463\n",
        "BUILD LP:"
       ]
      },
      {
       "output_type": "stream",
       "stream": "stdout",
       "text": [
        " 2\n",
        "\n",
        "Gurobi status= 2\n",
        "\n",
        "Gurobi status="
       ]
      },
      {
       "output_type": "stream",
       "stream": "stderr",
       "text": [
        " 0.189423084259\n",
        "SOLVE LP:"
       ]
      },
      {
       "output_type": "stream",
       "stream": "stderr",
       "text": [
        " 0.0784261226654\n",
        "BUILD HYPERGRAPH: 0.00552296638489\n",
        "BUILD POTENTIALS: 0.00493502616882\n",
        "BUILD LP:"
       ]
      },
      {
       "output_type": "stream",
       "stream": "stdout",
       "text": [
        " 2\n",
        "\n",
        "Gurobi status="
       ]
      },
      {
       "output_type": "stream",
       "stream": "stderr",
       "text": [
        " 0.117397069931\n",
        "SOLVE LP: 0.0241329669952\n",
        "BUILD HYPERGRAPH: 0.0216209888458\n",
        "BUILD POTENTIALS:"
       ]
      },
      {
       "output_type": "stream",
       "stream": "stderr",
       "text": [
        " 0.0174491405487\n",
        "BUILD LP:"
       ]
      },
      {
       "output_type": "stream",
       "stream": "stdout",
       "text": [
        " 2\n",
        "\n",
        "Gurobi status="
       ]
      },
      {
       "output_type": "stream",
       "stream": "stderr",
       "text": [
        " 0.191717863083\n",
        "SOLVE LP:"
       ]
      },
      {
       "output_type": "stream",
       "stream": "stderr",
       "text": [
        " 0.0764100551605\n",
        "BUILD HYPERGRAPH: 0.00111198425293\n",
        "BUILD POTENTIALS: 0.00088906288147\n",
        "BUILD LP: 0.01047706604\n",
        "SOLVE LP: 0.00551700592041\n",
        "BUILD HYPERGRAPH: 0.0205991268158\n",
        "BUILD POTENTIALS:"
       ]
      },
      {
       "output_type": "stream",
       "stream": "stderr",
       "text": [
        " 0.0206770896912\n",
        "BUILD LP:"
       ]
      },
      {
       "output_type": "stream",
       "stream": "stdout",
       "text": [
        " 2\n",
        "\n",
        "Gurobi status= 2\n",
        "\n",
        "Gurobi status="
       ]
      },
      {
       "output_type": "stream",
       "stream": "stderr",
       "text": [
        " 0.249779939651\n",
        "SOLVE LP:"
       ]
      },
      {
       "output_type": "stream",
       "stream": "stderr",
       "text": [
        " 0.0771000385284\n",
        "BUILD HYPERGRAPH: 0.0210900306702\n",
        "BUILD POTENTIALS: 0.0168449878693\n",
        "BUILD LP:"
       ]
      },
      {
       "output_type": "stream",
       "stream": "stdout",
       "text": [
        " 2\n",
        "\n",
        "Gurobi status="
       ]
      },
      {
       "output_type": "stream",
       "stream": "stderr",
       "text": [
        " 0.190609931946\n",
        "SOLVE LP:"
       ]
      },
      {
       "output_type": "stream",
       "stream": "stderr",
       "text": [
        " 0.0750598907471\n",
        "BUILD HYPERGRAPH: 0.0197250843048\n",
        "BUILD POTENTIALS: 0.0178561210632\n",
        "BUILD LP:"
       ]
      },
      {
       "output_type": "stream",
       "stream": "stdout",
       "text": [
        " 2\n",
        "\n",
        "Gurobi status="
       ]
      },
      {
       "output_type": "stream",
       "stream": "stderr",
       "text": [
        " 0.250660896301\n",
        "SOLVE LP:"
       ]
      },
      {
       "output_type": "stream",
       "stream": "stderr",
       "text": [
        " 0.075403213501\n",
        "BUILD HYPERGRAPH: 0.00685000419617\n",
        "BUILD POTENTIALS: 0.00494194030762\n",
        "BUILD LP:"
       ]
      },
      {
       "output_type": "stream",
       "stream": "stdout",
       "text": [
        " 2\n",
        "\n",
        "Gurobi status="
       ]
      },
      {
       "output_type": "stream",
       "stream": "stderr",
       "text": [
        " 0.0544919967651\n",
        "SOLVE LP: 0.0238111019135\n",
        "BUILD HYPERGRAPH: 0.00638794898987\n",
        "BUILD POTENTIALS: 0.00471591949463\n",
        "BUILD LP:"
       ]
      },
      {
       "output_type": "stream",
       "stream": "stdout",
       "text": [
        " 2\n",
        "\n",
        "Gurobi status="
       ]
      },
      {
       "output_type": "stream",
       "stream": "stderr",
       "text": [
        " 0.0545489788055\n",
        "SOLVE LP: 0.0220241546631\n",
        "BUILD HYPERGRAPH: 0.00623917579651\n",
        "BUILD POTENTIALS: 0.00490593910217\n",
        "BUILD LP:"
       ]
      },
      {
       "output_type": "stream",
       "stream": "stdout",
       "text": [
        " 2\n",
        "\n",
        "Gurobi status="
       ]
      },
      {
       "output_type": "stream",
       "stream": "stderr",
       "text": [
        " 0.0538940429688\n",
        "SOLVE LP: 0.0217931270599\n",
        "BUILD HYPERGRAPH: 0.00109696388245\n",
        "BUILD POTENTIALS: 0.000968933105469\n",
        "BUILD LP: 0.0104830265045\n",
        "SOLVE LP: 0.00504803657532\n",
        "BUILD HYPERGRAPH: 0.00115299224854\n",
        "BUILD POTENTIALS: 0.00100612640381\n",
        "BUILD LP:"
       ]
      },
      {
       "output_type": "stream",
       "stream": "stderr",
       "text": [
        " 0.0115840435028\n",
        "SOLVE LP: 0.00500297546387\n",
        "BUILD HYPERGRAPH: 0.00569200515747\n",
        "BUILD POTENTIALS: 0.00468587875366\n",
        "BUILD LP:"
       ]
      },
      {
       "output_type": "stream",
       "stream": "stdout",
       "text": [
        " 2\n",
        "\n",
        "Gurobi status= 2\n",
        "\n",
        "Gurobi status= 2\n",
        "\n",
        "Gurobi status="
       ]
      },
      {
       "output_type": "stream",
       "stream": "stderr",
       "text": [
        " 0.0544040203094\n",
        "SOLVE LP: 0.0219671726227\n",
        "BUILD HYPERGRAPH:"
       ]
      },
      {
       "output_type": "stream",
       "stream": "stderr",
       "text": [
        " 0.0841639041901\n",
        "BUILD POTENTIALS: 0.0172910690308\n",
        "BUILD LP:"
       ]
      },
      {
       "output_type": "stream",
       "stream": "stdout",
       "text": [
        " 2\n",
        "\n",
        "Gurobi status="
       ]
      },
      {
       "output_type": "stream",
       "stream": "stderr",
       "text": [
        " 0.187271118164\n",
        "SOLVE LP:"
       ]
      },
      {
       "output_type": "stream",
       "stream": "stderr",
       "text": [
        " 0.0735170841217\n",
        "BUILD HYPERGRAPH: 0.0203368663788\n",
        "BUILD POTENTIALS: 0.0165219306946\n",
        "BUILD LP:"
       ]
      },
      {
       "output_type": "stream",
       "stream": "stdout",
       "text": [
        " 2\n",
        "\n",
        "Gurobi status="
       ]
      },
      {
       "output_type": "stream",
       "stream": "stderr",
       "text": [
        " 0.188042163849\n",
        "SOLVE LP:"
       ]
      },
      {
       "output_type": "stream",
       "stream": "stderr",
       "text": [
        " 0.134221076965\n",
        "BUILD HYPERGRAPH: 0.0203959941864\n",
        "BUILD POTENTIALS: 0.0163269042969\n",
        "BUILD LP:"
       ]
      },
      {
       "output_type": "stream",
       "stream": "stdout",
       "text": [
        " 2\n",
        "\n",
        "Gurobi status="
       ]
      },
      {
       "output_type": "stream",
       "stream": "stderr",
       "text": [
        " 0.18687415123\n",
        "SOLVE LP:"
       ]
      },
      {
       "output_type": "stream",
       "stream": "stderr",
       "text": [
        " 0.0738680362701\n",
        "BUILD HYPERGRAPH: 0.0210950374603\n",
        "BUILD POTENTIALS: 0.0164580345154\n",
        "BUILD LP:"
       ]
      },
      {
       "output_type": "stream",
       "stream": "stdout",
       "text": [
        " 2\n",
        "\n",
        "Gurobi status="
       ]
      },
      {
       "output_type": "stream",
       "stream": "stderr",
       "text": [
        " 0.250761985779\n",
        "SOLVE LP:"
       ]
      },
      {
       "output_type": "stream",
       "stream": "stderr",
       "text": [
        " 0.0747590065002\n",
        "BUILD HYPERGRAPH: 0.0201799869537\n",
        "BUILD POTENTIALS: 0.0166699886322\n",
        "BUILD LP:"
       ]
      },
      {
       "output_type": "stream",
       "stream": "stdout",
       "text": [
        " 2\n",
        "\n",
        "Gurobi status="
       ]
      },
      {
       "output_type": "stream",
       "stream": "stderr",
       "text": [
        " 0.187135219574\n",
        "SOLVE LP:"
       ]
      },
      {
       "output_type": "stream",
       "stream": "stderr",
       "text": [
        " 0.075178861618\n",
        "BUILD HYPERGRAPH: 0.0205640792847\n",
        "BUILD POTENTIALS: 0.0165910720825\n",
        "BUILD LP:"
       ]
      },
      {
       "output_type": "stream",
       "stream": "stdout",
       "text": [
        " 2\n",
        "\n",
        "Gurobi status="
       ]
      },
      {
       "output_type": "stream",
       "stream": "stderr",
       "text": [
        " 0.250246047974\n",
        "SOLVE LP:"
       ]
      },
      {
       "output_type": "stream",
       "stream": "stderr",
       "text": [
        " 0.0755321979523\n",
        "BUILD HYPERGRAPH: 0.0198419094086\n",
        "BUILD POTENTIALS: 0.016608953476\n",
        "BUILD LP:"
       ]
      },
      {
       "output_type": "stream",
       "stream": "stdout",
       "text": [
        " 2\n",
        "\n",
        "Gurobi status="
       ]
      },
      {
       "output_type": "stream",
       "stream": "stderr",
       "text": [
        " 0.187080144882\n",
        "SOLVE LP:"
       ]
      },
      {
       "output_type": "stream",
       "stream": "stderr",
       "text": [
        " 0.071592092514\n",
        "BUILD HYPERGRAPH: 0.0202288627625\n",
        "BUILD POTENTIALS: 0.0172719955444\n",
        "BUILD LP:"
       ]
      },
      {
       "output_type": "stream",
       "stream": "stdout",
       "text": [
        " 2\n",
        "\n",
        "Gurobi status="
       ]
      },
      {
       "output_type": "stream",
       "stream": "stderr",
       "text": [
        " 0.263966083527\n",
        "SOLVE LP:"
       ]
      },
      {
       "output_type": "stream",
       "stream": "stderr",
       "text": [
        " 0.0742340087891\n",
        "BUILD HYPERGRAPH: 0.0201828479767\n",
        "BUILD POTENTIALS: 0.0171811580658\n",
        "BUILD LP:"
       ]
      },
      {
       "output_type": "stream",
       "stream": "stdout",
       "text": [
        " 2\n",
        "\n",
        "Gurobi status="
       ]
      },
      {
       "output_type": "stream",
       "stream": "stderr",
       "text": [
        " 0.186194896698\n",
        "SOLVE LP:"
       ]
      },
      {
       "output_type": "stream",
       "stream": "stderr",
       "text": [
        " 0.0716199874878\n",
        "BUILD HYPERGRAPH:"
       ]
      },
      {
       "output_type": "stream",
       "stream": "stderr",
       "text": [
        " 0.0825901031494\n",
        "BUILD POTENTIALS: 0.0175859928131\n",
        "BUILD LP:"
       ]
      },
      {
       "output_type": "stream",
       "stream": "stdout",
       "text": [
        " 2\n",
        "\n",
        "Gurobi status="
       ]
      },
      {
       "output_type": "stream",
       "stream": "stderr",
       "text": [
        " 0.188045978546\n",
        "SOLVE LP:"
       ]
      },
      {
       "output_type": "stream",
       "stream": "stderr",
       "text": [
        " 0.0777459144592\n",
        "BUILD HYPERGRAPH: 0.0202009677887\n",
        "BUILD POTENTIALS: 0.0167198181152\n",
        "BUILD LP:"
       ]
      },
      {
       "output_type": "stream",
       "stream": "stdout",
       "text": [
        " 2\n",
        "\n",
        "Gurobi status="
       ]
      },
      {
       "output_type": "stream",
       "stream": "stderr",
       "text": [
        " 0.190753221512\n",
        "SOLVE LP:"
       ]
      },
      {
       "output_type": "stream",
       "stream": "stderr",
       "text": [
        " 0.134192943573\n",
        "BUILD HYPERGRAPH: 0.020015001297\n",
        "BUILD POTENTIALS: 0.0161230564117\n",
        "BUILD LP:"
       ]
      },
      {
       "output_type": "stream",
       "stream": "stdout",
       "text": [
        " 2\n",
        "\n",
        "Gurobi status="
       ]
      },
      {
       "output_type": "stream",
       "stream": "stderr",
       "text": [
        " 0.186876058578\n",
        "SOLVE LP:"
       ]
      },
      {
       "output_type": "stream",
       "stream": "stderr",
       "text": [
        " 0.0737857818604\n",
        "BUILD HYPERGRAPH: 0.0198051929474\n",
        "BUILD POTENTIALS: 0.0168290138245\n",
        "BUILD LP:"
       ]
      },
      {
       "output_type": "stream",
       "stream": "stdout",
       "text": [
        " 2\n",
        "\n",
        "Gurobi status="
       ]
      },
      {
       "output_type": "stream",
       "stream": "stderr",
       "text": [
        " 0.18324804306\n",
        "SOLVE LP:"
       ]
      },
      {
       "output_type": "stream",
       "stream": "stderr",
       "text": [
        " 0.136652946472\n",
        "BUILD HYPERGRAPH: 0.0204529762268\n",
        "BUILD POTENTIALS: 0.0174021720886\n",
        "BUILD LP:"
       ]
      },
      {
       "output_type": "stream",
       "stream": "stdout",
       "text": [
        " 2\n",
        "\n",
        "Gurobi status="
       ]
      },
      {
       "output_type": "stream",
       "stream": "stderr",
       "text": [
        " 0.187186002731\n",
        "SOLVE LP:"
       ]
      },
      {
       "output_type": "stream",
       "stream": "stderr",
       "text": [
        " 0.0724129676819\n",
        "BUILD HYPERGRAPH: 0.0202097892761\n",
        "BUILD POTENTIALS: 0.0167219638824\n",
        "BUILD LP:"
       ]
      },
      {
       "output_type": "stream",
       "stream": "stdout",
       "text": [
        " 2\n",
        "\n",
        "Gurobi status="
       ]
      },
      {
       "output_type": "stream",
       "stream": "stderr",
       "text": [
        " 0.185492992401\n",
        "SOLVE LP:"
       ]
      },
      {
       "output_type": "stream",
       "stream": "stderr",
       "text": [
        " 0.138558149338\n",
        "BUILD HYPERGRAPH: 0.00566411018372\n",
        "BUILD POTENTIALS: 0.00446605682373\n",
        "BUILD LP:"
       ]
      },
      {
       "output_type": "stream",
       "stream": "stdout",
       "text": [
        " 2\n",
        "\n",
        "Gurobi status="
       ]
      },
      {
       "output_type": "stream",
       "stream": "stderr",
       "text": [
        " 0.0528960227966\n",
        "SOLVE LP: 0.0224220752716\n",
        "BUILD HYPERGRAPH: 0.00562787055969\n",
        "BUILD POTENTIALS: 0.00450491905212\n",
        "BUILD LP:"
       ]
      },
      {
       "output_type": "stream",
       "stream": "stdout",
       "text": [
        " 2\n",
        "\n",
        "Gurobi status="
       ]
      },
      {
       "output_type": "stream",
       "stream": "stderr",
       "text": [
        " 0.0537021160126\n",
        "SOLVE LP: 0.0233201980591\n",
        "BUILD HYPERGRAPH: 0.020763874054\n",
        "BUILD POTENTIALS:"
       ]
      },
      {
       "output_type": "stream",
       "stream": "stderr",
       "text": [
        " 0.0164868831635\n",
        "BUILD LP:"
       ]
      },
      {
       "output_type": "stream",
       "stream": "stdout",
       "text": [
        " 2\n",
        "\n",
        "Gurobi status="
       ]
      },
      {
       "output_type": "stream",
       "stream": "stderr",
       "text": [
        " 0.186544895172\n",
        "SOLVE LP:"
       ]
      },
      {
       "output_type": "stream",
       "stream": "stderr",
       "text": [
        " 0.0707790851593\n",
        "BUILD HYPERGRAPH:"
       ]
      },
      {
       "output_type": "stream",
       "stream": "stderr",
       "text": [
        " 0.0871050357819\n",
        "BUILD POTENTIALS: 0.0179510116577\n",
        "BUILD LP:"
       ]
      },
      {
       "output_type": "stream",
       "stream": "stdout",
       "text": [
        " 2\n",
        "\n",
        "Gurobi status="
       ]
      },
      {
       "output_type": "stream",
       "stream": "stderr",
       "text": [
        " 0.187555074692\n",
        "SOLVE LP:"
       ]
      },
      {
       "output_type": "stream",
       "stream": "stderr",
       "text": [
        " 0.0729930400848\n",
        "BUILD HYPERGRAPH: 0.0201740264893\n",
        "BUILD POTENTIALS: 0.0174880027771\n",
        "BUILD LP:"
       ]
      },
      {
       "output_type": "stream",
       "stream": "stdout",
       "text": [
        " 2\n",
        "\n",
        "Gurobi status="
       ]
      },
      {
       "output_type": "stream",
       "stream": "stderr",
       "text": [
        " 0.247156143188\n",
        "SOLVE LP:"
       ]
      },
      {
       "output_type": "stream",
       "stream": "stderr",
       "text": [
        " 0.0724580287933\n",
        "BUILD HYPERGRAPH: 0.0199987888336\n",
        "BUILD POTENTIALS: 0.0174360275269\n",
        "BUILD LP:"
       ]
      },
      {
       "output_type": "stream",
       "stream": "stdout",
       "text": [
        " 2\n",
        "\n",
        "Gurobi status="
       ]
      },
      {
       "output_type": "stream",
       "stream": "stderr",
       "text": [
        " 0.191969871521\n",
        "SOLVE LP:"
       ]
      },
      {
       "output_type": "stream",
       "stream": "stderr",
       "text": [
        " 0.0765888690948\n",
        "BUILD HYPERGRAPH: 0.021292924881\n",
        "BUILD POTENTIALS: 0.0164539813995\n",
        "BUILD LP:"
       ]
      },
      {
       "output_type": "stream",
       "stream": "stdout",
       "text": [
        " 2\n",
        "\n",
        "Gurobi status="
       ]
      },
      {
       "output_type": "stream",
       "stream": "stderr",
       "text": [
        " 0.26890206337\n",
        "SOLVE LP:"
       ]
      },
      {
       "output_type": "stream",
       "stream": "stderr",
       "text": [
        " 0.0733549594879\n",
        "BUILD HYPERGRAPH: 0.0211770534515\n",
        "BUILD POTENTIALS: 0.0169670581818\n",
        "BUILD LP:"
       ]
      },
      {
       "output_type": "stream",
       "stream": "stdout",
       "text": [
        " 2\n",
        "\n",
        "Gurobi status="
       ]
      },
      {
       "output_type": "stream",
       "stream": "stderr",
       "text": [
        " 0.187160968781\n",
        "SOLVE LP:"
       ]
      },
      {
       "output_type": "stream",
       "stream": "stderr",
       "text": [
        " 0.0722808837891\n",
        "BUILD HYPERGRAPH: 0.0198059082031\n",
        "BUILD POTENTIALS: 0.016725063324\n",
        "BUILD LP:"
       ]
      },
      {
       "output_type": "stream",
       "stream": "stdout",
       "text": [
        " 2\n",
        "\n",
        "Gurobi status="
       ]
      },
      {
       "output_type": "stream",
       "stream": "stderr",
       "text": [
        " 0.250454902649\n",
        "SOLVE LP:"
       ]
      },
      {
       "output_type": "stream",
       "stream": "stderr",
       "text": [
        " 0.072496175766\n",
        "BUILD HYPERGRAPH: 0.0203559398651\n",
        "BUILD POTENTIALS: 0.0167310237885\n",
        "BUILD LP:"
       ]
      },
      {
       "output_type": "stream",
       "stream": "stdout",
       "text": [
        " 2\n",
        "\n",
        "Gurobi status="
       ]
      },
      {
       "output_type": "stream",
       "stream": "stderr",
       "text": [
        " 0.203099966049\n",
        "SOLVE LP:"
       ]
      },
      {
       "output_type": "stream",
       "stream": "stderr",
       "text": [
        " 0.0724079608917\n",
        "BUILD HYPERGRAPH: 0.00109910964966\n",
        "BUILD POTENTIALS: 0.000921010971069\n",
        "BUILD LP: 0.0103600025177\n",
        "SOLVE LP: 0.00542688369751\n",
        "BUILD HYPERGRAPH: 0.0212960243225\n",
        "BUILD POTENTIALS:"
       ]
      },
      {
       "output_type": "stream",
       "stream": "stderr",
       "text": [
        " 0.0184910297394\n",
        "BUILD LP:"
       ]
      },
      {
       "output_type": "stream",
       "stream": "stdout",
       "text": [
        " 2\n",
        "\n",
        "Gurobi status= 2\n",
        "\n",
        "Gurobi status="
       ]
      },
      {
       "output_type": "stream",
       "stream": "stderr",
       "text": [
        " 0.250850915909\n",
        "SOLVE LP:"
       ]
      },
      {
       "output_type": "stream",
       "stream": "stderr",
       "text": [
        " 0.0731031894684\n",
        "BUILD HYPERGRAPH: 0.0206179618835\n",
        "BUILD POTENTIALS: 0.0181529521942\n",
        "BUILD LP:"
       ]
      },
      {
       "output_type": "stream",
       "stream": "stdout",
       "text": [
        " 2\n",
        "\n",
        "Gurobi status="
       ]
      },
      {
       "output_type": "stream",
       "stream": "stderr",
       "text": [
        " 0.188368082047\n",
        "SOLVE LP:"
       ]
      },
      {
       "output_type": "stream",
       "stream": "stderr",
       "text": [
        " 0.0726220607758\n",
        "BUILD HYPERGRAPH: 0.0198950767517\n",
        "BUILD POTENTIALS: 0.0168120861053\n",
        "BUILD LP:"
       ]
      },
      {
       "output_type": "stream",
       "stream": "stdout",
       "text": [
        " 2\n",
        "\n",
        "Gurobi status="
       ]
      },
      {
       "output_type": "stream",
       "stream": "stderr",
       "text": [
        " 0.257708072662\n",
        "SOLVE LP:"
       ]
      },
      {
       "output_type": "stream",
       "stream": "stderr",
       "text": [
        " 0.0758900642395\n",
        "BUILD HYPERGRAPH: 0.0201690196991\n",
        "BUILD POTENTIALS: 0.0172700881958\n",
        "BUILD LP:"
       ]
      },
      {
       "output_type": "stream",
       "stream": "stdout",
       "text": [
        " 2\n",
        "\n",
        "Gurobi status="
       ]
      },
      {
       "output_type": "stream",
       "stream": "stderr",
       "text": [
        " 0.191923856735\n",
        "SOLVE LP:"
       ]
      },
      {
       "output_type": "stream",
       "stream": "stderr",
       "text": [
        " 0.138617992401\n",
        "BUILD HYPERGRAPH: 0.0202450752258\n",
        "BUILD POTENTIALS: 0.0169880390167\n",
        "BUILD LP:"
       ]
      },
      {
       "output_type": "stream",
       "stream": "stdout",
       "text": [
        " 2\n",
        "\n",
        "Gurobi status="
       ]
      },
      {
       "output_type": "stream",
       "stream": "stderr",
       "text": [
        " 0.191718816757\n",
        "SOLVE LP:"
       ]
      },
      {
       "output_type": "stream",
       "stream": "stderr",
       "text": [
        " 0.0757029056549\n",
        "BUILD HYPERGRAPH: 0.0204210281372\n",
        "BUILD POTENTIALS: 0.0165719985962\n",
        "BUILD LP:"
       ]
      },
      {
       "output_type": "stream",
       "stream": "stdout",
       "text": [
        " 2\n",
        "\n",
        "Gurobi status="
       ]
      },
      {
       "output_type": "stream",
       "stream": "stderr",
       "text": [
        " 0.262256860733\n",
        "SOLVE LP:"
       ]
      },
      {
       "output_type": "stream",
       "stream": "stderr",
       "text": [
        " 0.0784389972687\n",
        "BUILD HYPERGRAPH: 0.020026922226\n",
        "BUILD POTENTIALS: 0.0168969631195\n",
        "BUILD LP:"
       ]
      },
      {
       "output_type": "stream",
       "stream": "stdout",
       "text": [
        " 2\n",
        "\n",
        "Gurobi status="
       ]
      },
      {
       "output_type": "stream",
       "stream": "stderr",
       "text": [
        " 0.18807387352\n",
        "SOLVE LP:"
       ]
      },
      {
       "output_type": "stream",
       "stream": "stderr",
       "text": [
        " 0.0741531848907\n",
        "BUILD HYPERGRAPH: 0.0206389427185\n",
        "BUILD POTENTIALS: 0.0176548957825\n",
        "BUILD LP:"
       ]
      },
      {
       "output_type": "stream",
       "stream": "stdout",
       "text": [
        " 2\n",
        "\n",
        "Gurobi status="
       ]
      },
      {
       "output_type": "stream",
       "stream": "stderr",
       "text": [
        " 0.253234148026\n",
        "SOLVE LP:"
       ]
      },
      {
       "output_type": "stream",
       "stream": "stderr",
       "text": [
        " 0.0746901035309\n",
        "BUILD HYPERGRAPH: 0.0200178623199\n",
        "BUILD POTENTIALS: 0.0177969932556\n",
        "BUILD LP:"
       ]
      },
      {
       "output_type": "stream",
       "stream": "stdout",
       "text": [
        " 2\n",
        "\n",
        "Gurobi status="
       ]
      },
      {
       "output_type": "stream",
       "stream": "stderr",
       "text": [
        " 0.189940929413\n",
        "SOLVE LP:"
       ]
      },
      {
       "output_type": "stream",
       "stream": "stderr",
       "text": [
        " 0.073319196701\n",
        "BUILD HYPERGRAPH: 0.0200128555298\n",
        "BUILD POTENTIALS: 0.016618013382\n",
        "BUILD LP:"
       ]
      },
      {
       "output_type": "stream",
       "stream": "stdout",
       "text": [
        " 2\n",
        "\n",
        "Gurobi status="
       ]
      },
      {
       "output_type": "stream",
       "stream": "stderr",
       "text": [
        " 0.266466856003\n",
        "SOLVE LP:"
       ]
      },
      {
       "output_type": "stream",
       "stream": "stderr",
       "text": [
        " 0.0784809589386\n",
        "BUILD HYPERGRAPH: 0.0202360153198\n",
        "BUILD POTENTIALS: 0.0198359489441\n",
        "BUILD LP:"
       ]
      },
      {
       "output_type": "stream",
       "stream": "stdout",
       "text": [
        " 2\n",
        "\n",
        "Gurobi status="
       ]
      },
      {
       "output_type": "stream",
       "stream": "stderr",
       "text": [
        " 0.204194068909\n",
        "SOLVE LP:"
       ]
      },
      {
       "output_type": "stream",
       "stream": "stderr",
       "text": [
        " 0.086592912674\n",
        "BUILD HYPERGRAPH: 0.0210518836975\n",
        "BUILD POTENTIALS:"
       ]
      },
      {
       "output_type": "stream",
       "stream": "stderr",
       "text": [
        " 0.0217499732971\n",
        "BUILD LP:"
       ]
      },
      {
       "output_type": "stream",
       "stream": "stdout",
       "text": [
        " 2\n",
        "\n",
        "Gurobi status="
       ]
      },
      {
       "output_type": "stream",
       "stream": "stderr",
       "text": [
        " 0.26350402832\n",
        "SOLVE LP:"
       ]
      },
      {
       "output_type": "stream",
       "stream": "stderr",
       "text": [
        " 0.075003862381\n",
        "BUILD HYPERGRAPH: 0.0197808742523\n",
        "BUILD POTENTIALS: 0.0178401470184\n",
        "BUILD LP:"
       ]
      },
      {
       "output_type": "stream",
       "stream": "stdout",
       "text": [
        " 2\n",
        "\n",
        "Gurobi status="
       ]
      },
      {
       "output_type": "stream",
       "stream": "stderr",
       "text": [
        " 0.188610076904\n",
        "SOLVE LP:"
       ]
      },
      {
       "output_type": "stream",
       "stream": "stderr",
       "text": [
        " 0.074126958847\n",
        "BUILD HYPERGRAPH:"
       ]
      },
      {
       "output_type": "stream",
       "stream": "stderr",
       "text": [
        " 0.0848181247711\n",
        "BUILD POTENTIALS: 0.018651008606\n",
        "BUILD LP:"
       ]
      },
      {
       "output_type": "stream",
       "stream": "stdout",
       "text": [
        " 2\n",
        "\n",
        "Gurobi status="
       ]
      },
      {
       "output_type": "stream",
       "stream": "stderr",
       "text": [
        " 0.189508914948\n",
        "SOLVE LP:"
       ]
      },
      {
       "output_type": "stream",
       "stream": "stderr",
       "text": [
        " 0.0786111354828\n",
        "BUILD HYPERGRAPH: 0.00120401382446\n",
        "BUILD POTENTIALS: 0.000940084457397\n",
        "BUILD LP: 0.0108120441437\n",
        "SOLVE LP: 0.00482511520386\n",
        "BUILD HYPERGRAPH: 0.00562500953674\n",
        "BUILD POTENTIALS: 0.00470018386841\n",
        "BUILD LP:"
       ]
      },
      {
       "output_type": "stream",
       "stream": "stdout",
       "text": [
        " 2\n",
        "\n",
        "Gurobi status= 2\n",
        "\n",
        "Gurobi status="
       ]
      },
      {
       "output_type": "stream",
       "stream": "stderr",
       "text": [
        " 0.054918050766\n",
        "SOLVE LP: 0.0243518352509\n",
        "BUILD HYPERGRAPH: 0.0210728645325\n",
        "BUILD POTENTIALS:"
       ]
      },
      {
       "output_type": "stream",
       "stream": "stderr",
       "text": [
        " 0.0172960758209\n",
        "BUILD LP:"
       ]
      },
      {
       "output_type": "stream",
       "stream": "stdout",
       "text": [
        " 2\n",
        "\n",
        "Gurobi status="
       ]
      },
      {
       "output_type": "stream",
       "stream": "stderr",
       "text": [
        " 0.250783920288\n",
        "SOLVE LP:"
       ]
      },
      {
       "output_type": "stream",
       "stream": "stderr",
       "text": [
        " 0.0757319927216\n",
        "BUILD HYPERGRAPH: 0.0202081203461\n",
        "BUILD POTENTIALS: 0.0176060199738\n",
        "BUILD LP:"
       ]
      },
      {
       "output_type": "stream",
       "stream": "stdout",
       "text": [
        " 2\n",
        "\n",
        "Gurobi status="
       ]
      },
      {
       "output_type": "stream",
       "stream": "stderr",
       "text": [
        " 0.192752122879\n",
        "SOLVE LP:"
       ]
      },
      {
       "output_type": "stream",
       "stream": "stderr",
       "text": [
        " 0.0775969028473\n",
        "BUILD HYPERGRAPH: 0.00577998161316\n",
        "BUILD POTENTIALS: 0.00941300392151\n",
        "BUILD LP:"
       ]
      },
      {
       "output_type": "stream",
       "stream": "stdout",
       "text": [
        " 2\n",
        "\n",
        "Gurobi status="
       ]
      },
      {
       "output_type": "stream",
       "stream": "stderr",
       "text": [
        " 0.0630159378052\n",
        "SOLVE LP: 0.0266919136047\n",
        "BUILD HYPERGRAPH: 0.0197649002075\n",
        "BUILD POTENTIALS:"
       ]
      },
      {
       "output_type": "stream",
       "stream": "stderr",
       "text": [
        " 0.0172760486603\n",
        "BUILD LP:"
       ]
      },
      {
       "output_type": "stream",
       "stream": "stdout",
       "text": [
        " 2\n",
        "\n",
        "Gurobi status="
       ]
      },
      {
       "output_type": "stream",
       "stream": "stderr",
       "text": [
        " 0.258896827698\n",
        "SOLVE LP:"
       ]
      },
      {
       "output_type": "stream",
       "stream": "stderr",
       "text": [
        " 0.0809619426727\n",
        "BUILD HYPERGRAPH: 0.0203759670258\n",
        "BUILD POTENTIALS: 0.0175549983978\n",
        "BUILD LP:"
       ]
      },
      {
       "output_type": "stream",
       "stream": "stdout",
       "text": [
        " 2\n",
        "\n",
        "Gurobi status="
       ]
      },
      {
       "output_type": "stream",
       "stream": "stderr",
       "text": [
        " 0.187862873077\n",
        "SOLVE LP:"
       ]
      },
      {
       "output_type": "stream",
       "stream": "stderr",
       "text": [
        " 0.0779860019684\n",
        "BUILD HYPERGRAPH:"
       ]
      },
      {
       "output_type": "stream",
       "stream": "stderr",
       "text": [
        " 0.0851008892059\n",
        "BUILD POTENTIALS: 0.0204138755798\n",
        "BUILD LP:"
       ]
      },
      {
       "output_type": "stream",
       "stream": "stdout",
       "text": [
        " 2\n",
        "\n",
        "Gurobi status="
       ]
      },
      {
       "output_type": "stream",
       "stream": "stderr",
       "text": [
        " 0.19896697998\n",
        "SOLVE LP:"
       ]
      },
      {
       "output_type": "stream",
       "stream": "stderr",
       "text": [
        " 0.0791590213776\n",
        "BUILD HYPERGRAPH: 0.00606799125671\n",
        "BUILD POTENTIALS: 0.00491309165955\n",
        "BUILD LP:"
       ]
      },
      {
       "output_type": "stream",
       "stream": "stdout",
       "text": [
        " 2\n",
        "\n",
        "Gurobi status="
       ]
      },
      {
       "output_type": "stream",
       "stream": "stderr",
       "text": [
        " 0.0556709766388\n",
        "SOLVE LP: 0.0243678092957\n",
        "BUILD HYPERGRAPH: 0.0211100578308\n",
        "BUILD POTENTIALS:"
       ]
      },
      {
       "output_type": "stream",
       "stream": "stderr",
       "text": [
        " 0.0186760425568\n",
        "BUILD LP:"
       ]
      },
      {
       "output_type": "stream",
       "stream": "stdout",
       "text": [
        " 2\n",
        "\n",
        "Gurobi status="
       ]
      },
      {
       "output_type": "stream",
       "stream": "stderr",
       "text": [
        " 0.254211902618\n",
        "SOLVE LP:"
       ]
      },
      {
       "output_type": "stream",
       "stream": "stderr",
       "text": [
        " 0.0799949169159\n",
        "BUILD HYPERGRAPH: 0.0212988853455\n",
        "BUILD POTENTIALS: 0.0171189308167\n",
        "BUILD LP:"
       ]
      },
      {
       "output_type": "stream",
       "stream": "stdout",
       "text": [
        " 2\n",
        "\n",
        "Gurobi status="
       ]
      },
      {
       "output_type": "stream",
       "stream": "stderr",
       "text": [
        " 0.1901679039\n",
        "SOLVE LP:"
       ]
      },
      {
       "output_type": "stream",
       "stream": "stderr",
       "text": [
        " 0.0768029689789\n",
        "BUILD HYPERGRAPH: 0.00556588172913\n",
        "BUILD POTENTIALS: 0.00495195388794\n",
        "BUILD LP:"
       ]
      },
      {
       "output_type": "stream",
       "stream": "stdout",
       "text": [
        " 2\n",
        "\n",
        "Gurobi status="
       ]
      },
      {
       "output_type": "stream",
       "stream": "stderr",
       "text": [
        " 0.0559570789337\n",
        "SOLVE LP: 0.0273399353027\n",
        "BUILD HYPERGRAPH:"
       ]
      },
      {
       "output_type": "stream",
       "stream": "stderr",
       "text": [
        " 0.085000038147\n",
        "BUILD POTENTIALS: 0.021509885788\n",
        "BUILD LP:"
       ]
      },
      {
       "output_type": "stream",
       "stream": "stdout",
       "text": [
        " 2\n",
        "\n",
        "Gurobi status="
       ]
      },
      {
       "output_type": "stream",
       "stream": "stderr",
       "text": [
        " 0.196661949158\n",
        "SOLVE LP:"
       ]
      },
      {
       "output_type": "stream",
       "stream": "stderr",
       "text": [
        " 0.0771107673645\n",
        "BUILD HYPERGRAPH: 0.0207591056824\n",
        "BUILD POTENTIALS: 0.0178987979889\n",
        "BUILD LP:"
       ]
      },
      {
       "output_type": "stream",
       "stream": "stdout",
       "text": [
        " 2\n",
        "\n",
        "Gurobi status="
       ]
      },
      {
       "output_type": "stream",
       "stream": "stderr",
       "text": [
        " 0.248174190521\n",
        "SOLVE LP:"
       ]
      },
      {
       "output_type": "stream",
       "stream": "stdout",
       "text": [
        " 2\n",
        "\n",
        "Gurobi status= 2\n",
        "\n",
        "Gurobi status="
       ]
      },
      {
       "output_type": "stream",
       "stream": "stderr",
       "text": [
        " 0.0782198905945\n",
        "BUILD HYPERGRAPH: 0.0011990070343\n",
        "BUILD POTENTIALS: 0.000900030136108\n",
        "BUILD LP: 0.0105168819427\n",
        "SOLVE LP: 0.00534009933472\n",
        "BUILD HYPERGRAPH: 0.00111889839172\n",
        "BUILD POTENTIALS: 0.000890016555786\n",
        "BUILD LP: 0.0107440948486\n",
        "SOLVE LP: 0.00529003143311\n",
        "BUILD HYPERGRAPH:"
       ]
      },
      {
       "output_type": "stream",
       "stream": "stderr",
       "text": [
        " 0.0235350131989\n",
        "BUILD POTENTIALS: 0.0218229293823\n",
        "BUILD LP:"
       ]
      },
      {
       "output_type": "stream",
       "stream": "stdout",
       "text": [
        " 2\n",
        "\n",
        "Gurobi status="
       ]
      },
      {
       "output_type": "stream",
       "stream": "stderr",
       "text": [
        " 0.195204973221\n",
        "SOLVE LP:"
       ]
      },
      {
       "output_type": "stream",
       "stream": "stderr",
       "text": [
        " 0.0767040252686\n",
        "BUILD HYPERGRAPH: 0.0204129219055\n",
        "BUILD POTENTIALS: 0.0165309906006\n",
        "BUILD LP:"
       ]
      },
      {
       "output_type": "stream",
       "stream": "stdout",
       "text": [
        " 2\n",
        "\n",
        "Gurobi status="
       ]
      },
      {
       "output_type": "stream",
       "stream": "stderr",
       "text": [
        " 0.280613183975\n",
        "SOLVE LP:"
       ]
      },
      {
       "output_type": "stream",
       "stream": "stderr",
       "text": [
        " 0.0808930397034\n",
        "BUILD HYPERGRAPH: 0.00635194778442\n",
        "BUILD POTENTIALS: 0.00521492958069\n",
        "BUILD LP:"
       ]
      },
      {
       "output_type": "stream",
       "stream": "stdout",
       "text": [
        " 2\n",
        "\n",
        "Gurobi status="
       ]
      },
      {
       "output_type": "stream",
       "stream": "stderr",
       "text": [
        " 0.0538659095764\n",
        "SOLVE LP: 0.0224897861481\n",
        "BUILD HYPERGRAPH: 0.00112199783325\n",
        "BUILD POTENTIALS: 0.000946998596191\n",
        "BUILD LP: 0.0112109184265\n",
        "SOLVE LP: 0.00548100471497\n",
        "BUILD HYPERGRAPH:"
       ]
      },
      {
       "output_type": "stream",
       "stream": "stderr",
       "text": [
        " 0.0208749771118\n",
        "BUILD POTENTIALS: 0.0180289745331\n",
        "BUILD LP:"
       ]
      },
      {
       "output_type": "stream",
       "stream": "stdout",
       "text": [
        " 2\n",
        "\n",
        "Gurobi status= 2\n",
        "\n",
        "Gurobi status="
       ]
      },
      {
       "output_type": "stream",
       "stream": "stderr",
       "text": [
        " 0.18957901001\n",
        "SOLVE LP:"
       ]
      },
      {
       "output_type": "stream",
       "stream": "stderr",
       "text": [
        " 0.0765869617462\n",
        "BUILD HYPERGRAPH:"
       ]
      },
      {
       "output_type": "stream",
       "stream": "stderr",
       "text": [
        " 0.0847589969635\n",
        "BUILD POTENTIALS: 0.0178029537201\n",
        "BUILD LP:"
       ]
      },
      {
       "output_type": "stream",
       "stream": "stdout",
       "text": [
        " 2\n",
        "\n",
        "Gurobi status="
       ]
      },
      {
       "output_type": "stream",
       "stream": "stderr",
       "text": [
        " 0.228435993195\n",
        "SOLVE LP:"
       ]
      },
      {
       "output_type": "stream",
       "stream": "stderr",
       "text": [
        " 0.0746259689331\n",
        "BUILD HYPERGRAPH: 0.020674943924\n",
        "BUILD POTENTIALS: 0.017648935318\n",
        "BUILD LP:"
       ]
      },
      {
       "output_type": "stream",
       "stream": "stdout",
       "text": [
        " 2\n",
        "\n",
        "Gurobi status="
       ]
      },
      {
       "output_type": "stream",
       "stream": "stderr",
       "text": [
        " 0.188167095184\n",
        "SOLVE LP:"
       ]
      },
      {
       "output_type": "stream",
       "stream": "stderr",
       "text": [
        " 0.133364915848\n",
        "BUILD HYPERGRAPH: 0.0207841396332\n",
        "BUILD POTENTIALS: 0.0172381401062\n",
        "BUILD LP:"
       ]
      },
      {
       "output_type": "stream",
       "stream": "stdout",
       "text": [
        " 2\n",
        "\n",
        "Gurobi status="
       ]
      },
      {
       "output_type": "stream",
       "stream": "stderr",
       "text": [
        " 0.189160823822\n",
        "SOLVE LP:"
       ]
      },
      {
       "output_type": "stream",
       "stream": "stderr",
       "text": [
        " 0.0747220516205\n",
        "BUILD HYPERGRAPH: 0.019917011261\n",
        "BUILD POTENTIALS: 0.0180869102478\n",
        "BUILD LP:"
       ]
      },
      {
       "output_type": "stream",
       "stream": "stdout",
       "text": [
        " 2\n",
        "\n",
        "Gurobi status="
       ]
      },
      {
       "output_type": "stream",
       "stream": "stderr",
       "text": [
        " 0.260862112045\n",
        "SOLVE LP:"
       ]
      },
      {
       "output_type": "stream",
       "stream": "stderr",
       "text": [
        " 0.0752038955688\n",
        "BUILD HYPERGRAPH: 0.0204310417175\n",
        "BUILD POTENTIALS: 0.0177848339081\n",
        "BUILD LP:"
       ]
      },
      {
       "output_type": "stream",
       "stream": "stdout",
       "text": [
        " 2\n",
        "\n",
        "Gurobi status="
       ]
      },
      {
       "output_type": "stream",
       "stream": "stderr",
       "text": [
        " 0.189507007599\n",
        "SOLVE LP:"
       ]
      },
      {
       "output_type": "stream",
       "stream": "stderr",
       "text": [
        " 0.0776238441467\n",
        "BUILD HYPERGRAPH: 0.00110101699829\n",
        "BUILD POTENTIALS: 0.000896215438843\n",
        "BUILD LP: 0.0106761455536\n",
        "SOLVE LP: 0.00493907928467\n",
        "BUILD HYPERGRAPH: 0.0209228992462\n",
        "BUILD POTENTIALS:"
       ]
      },
      {
       "output_type": "stream",
       "stream": "stderr",
       "text": [
        " 0.0193848609924\n",
        "BUILD LP:"
       ]
      },
      {
       "output_type": "stream",
       "stream": "stdout",
       "text": [
        " 2\n",
        "\n",
        "Gurobi status= 2\n",
        "\n",
        "Gurobi status="
       ]
      },
      {
       "output_type": "stream",
       "stream": "stderr",
       "text": [
        " 0.331983089447\n",
        "SOLVE LP:"
       ]
      },
      {
       "output_type": "stream",
       "stream": "stderr",
       "text": [
        " 0.100303888321\n",
        "BUILD HYPERGRAPH: 0.0209510326385\n",
        "BUILD POTENTIALS: 0.016918182373\n",
        "BUILD LP:"
       ]
      },
      {
       "output_type": "stream",
       "stream": "stdout",
       "text": [
        " 2\n",
        "\n",
        "Gurobi status="
       ]
      },
      {
       "output_type": "stream",
       "stream": "stderr",
       "text": [
        " 0.236403226852\n",
        "SOLVE LP:"
       ]
      },
      {
       "output_type": "stream",
       "stream": "stderr",
       "text": [
        " 0.108448028564\n",
        "BUILD HYPERGRAPH: 0.0201010704041\n",
        "BUILD POTENTIALS: 0.0165429115295\n",
        "BUILD LP:"
       ]
      },
      {
       "output_type": "stream",
       "stream": "stdout",
       "text": [
        " 2\n",
        "\n",
        "Gurobi status="
       ]
      },
      {
       "output_type": "stream",
       "stream": "stderr",
       "text": [
        " 0.252724170685\n",
        "SOLVE LP:"
       ]
      },
      {
       "output_type": "stream",
       "stream": "stderr",
       "text": [
        " 0.0784909725189\n",
        "BUILD HYPERGRAPH: 0.0203998088837\n",
        "BUILD POTENTIALS: 0.0164160728455\n",
        "BUILD LP:"
       ]
      },
      {
       "output_type": "stream",
       "stream": "stdout",
       "text": [
        " 2\n",
        "\n",
        "Gurobi status="
       ]
      },
      {
       "output_type": "stream",
       "stream": "stderr",
       "text": [
        " 0.187340974808\n",
        "SOLVE LP:"
       ]
      },
      {
       "output_type": "stream",
       "stream": "stderr",
       "text": [
        " 0.0788888931274\n",
        "BUILD HYPERGRAPH: 0.0203108787537\n",
        "BUILD POTENTIALS: 0.0171709060669\n",
        "BUILD LP:"
       ]
      },
      {
       "output_type": "stream",
       "stream": "stdout",
       "text": [
        " 2\n",
        "\n",
        "Gurobi status="
       ]
      },
      {
       "output_type": "stream",
       "stream": "stderr",
       "text": [
        " 0.249705076218\n",
        "SOLVE LP:"
       ]
      },
      {
       "output_type": "stream",
       "stream": "stderr",
       "text": [
        " 0.0792710781097\n",
        "BUILD HYPERGRAPH: 0.00571703910828\n",
        "BUILD POTENTIALS: 0.00449895858765\n",
        "BUILD LP:"
       ]
      },
      {
       "output_type": "stream",
       "stream": "stdout",
       "text": [
        " 2\n",
        "\n",
        "Gurobi status="
       ]
      },
      {
       "output_type": "stream",
       "stream": "stderr",
       "text": [
        " 0.053918838501\n",
        "SOLVE LP: 0.0227110385895\n",
        "BUILD HYPERGRAPH: 0.0011260509491\n",
        "BUILD POTENTIALS: 0.000933885574341\n",
        "BUILD LP: 0.010862827301\n",
        "SOLVE LP: 0.00546884536743\n",
        "BUILD HYPERGRAPH:"
       ]
      },
      {
       "output_type": "stream",
       "stream": "stderr",
       "text": [
        " 0.00636577606201\n",
        "BUILD POTENTIALS: 0.00510478019714\n",
        "BUILD LP:"
       ]
      },
      {
       "output_type": "stream",
       "stream": "stdout",
       "text": [
        " 2\n",
        "\n",
        "Gurobi status= 2\n",
        "\n",
        "Gurobi status="
       ]
      },
      {
       "output_type": "stream",
       "stream": "stderr",
       "text": [
        " 0.0559780597687\n",
        "SOLVE LP: 0.0225501060486\n",
        "BUILD HYPERGRAPH: 0.00113892555237\n",
        "BUILD POTENTIALS: 0.000958919525146\n",
        "BUILD LP: 0.0106949806213\n",
        "SOLVE LP: 0.00558996200562\n",
        "BUILD HYPERGRAPH: 0.00110697746277\n",
        "BUILD POTENTIALS: 0.000938892364502\n",
        "BUILD LP:"
       ]
      },
      {
       "output_type": "stream",
       "stream": "stdout",
       "text": [
        " 2\n",
        "\n",
        "Gurobi status= 2\n",
        "\n",
        "Gurobi status= 2\n",
        "\n",
        "Gurobi status="
       ]
      },
      {
       "output_type": "stream",
       "stream": "stderr",
       "text": [
        " 0.0108029842377\n",
        "SOLVE LP: 0.00518298149109\n",
        "BUILD HYPERGRAPH: 0.0011100769043\n",
        "BUILD POTENTIALS: 0.000938892364502\n",
        "BUILD LP: 0.0124380588531\n",
        "SOLVE LP: 0.00533604621887\n",
        "BUILD HYPERGRAPH: 0.0011420249939\n",
        "BUILD POTENTIALS: 0.000972986221313\n",
        "BUILD LP: 0.0106959342957\n",
        "SOLVE LP: 0.00501918792725\n",
        "BUILD HYPERGRAPH:"
       ]
      },
      {
       "output_type": "stream",
       "stream": "stderr",
       "text": [
        " 0.0221300125122\n",
        "BUILD POTENTIALS: 0.0179979801178\n",
        "BUILD LP:"
       ]
      },
      {
       "output_type": "stream",
       "stream": "stdout",
       "text": [
        " 2\n",
        "\n",
        "Gurobi status= 2\n",
        "\n",
        "Gurobi status="
       ]
      },
      {
       "output_type": "stream",
       "stream": "stderr",
       "text": [
        " 0.248492956161\n",
        "SOLVE LP:"
       ]
      },
      {
       "output_type": "stream",
       "stream": "stderr",
       "text": [
        " 0.0741310119629\n",
        "BUILD HYPERGRAPH: 0.0011670589447\n",
        "BUILD POTENTIALS: 0.000884056091309\n",
        "BUILD LP: 0.01100897789\n",
        "SOLVE LP: 0.00500893592834\n",
        "BUILD HYPERGRAPH: 0.0207488536835\n",
        "BUILD POTENTIALS:"
       ]
      },
      {
       "output_type": "stream",
       "stream": "stderr",
       "text": [
        " 0.017923116684\n",
        "BUILD LP:"
       ]
      },
      {
       "output_type": "stream",
       "stream": "stdout",
       "text": [
        " 2\n",
        "\n",
        "Gurobi status= 2\n",
        "\n",
        "Gurobi status="
       ]
      },
      {
       "output_type": "stream",
       "stream": "stderr",
       "text": [
        " 0.207076072693\n",
        "SOLVE LP:"
       ]
      },
      {
       "output_type": "stream",
       "stream": "stderr",
       "text": [
        " 0.0754630565643\n",
        "BUILD HYPERGRAPH: 0.00584006309509\n",
        "BUILD POTENTIALS: 0.00474715232849\n",
        "BUILD LP:"
       ]
      },
      {
       "output_type": "stream",
       "stream": "stdout",
       "text": [
        " 2\n",
        "\n",
        "Gurobi status="
       ]
      },
      {
       "output_type": "stream",
       "stream": "stderr",
       "text": [
        " 0.125375032425\n",
        "SOLVE LP: 0.0232539176941\n",
        "BUILD HYPERGRAPH: 0.0215928554535\n",
        "BUILD POTENTIALS:"
       ]
      },
      {
       "output_type": "stream",
       "stream": "stderr",
       "text": [
        " 0.0171010494232\n",
        "BUILD LP:"
       ]
      },
      {
       "output_type": "stream",
       "stream": "stdout",
       "text": [
        " 2\n",
        "\n",
        "Gurobi status="
       ]
      },
      {
       "output_type": "stream",
       "stream": "stderr",
       "text": [
        " 0.186868906021\n",
        "SOLVE LP:"
       ]
      },
      {
       "output_type": "stream",
       "stream": "stderr",
       "text": [
        " 0.0760319232941\n",
        "BUILD HYPERGRAPH: 0.00112891197205\n",
        "BUILD POTENTIALS: 0.000884056091309\n",
        "BUILD LP: 0.0104529857635\n",
        "SOLVE LP: 0.00471782684326\n",
        "BUILD HYPERGRAPH: 0.0200090408325\n",
        "BUILD POTENTIALS:"
       ]
      },
      {
       "output_type": "stream",
       "stream": "stderr",
       "text": [
        " 0.0179970264435\n",
        "BUILD LP:"
       ]
      },
      {
       "output_type": "stream",
       "stream": "stdout",
       "text": [
        " 2\n",
        "\n",
        "Gurobi status= 2\n",
        "\n",
        "Gurobi status="
       ]
      },
      {
       "output_type": "stream",
       "stream": "stderr",
       "text": [
        " 0.248496055603\n",
        "SOLVE LP:"
       ]
      },
      {
       "output_type": "stream",
       "stream": "stderr",
       "text": [
        " 0.0756180286407\n",
        "BUILD HYPERGRAPH: 0.0204918384552\n",
        "BUILD POTENTIALS: 0.016655921936\n",
        "BUILD LP:"
       ]
      },
      {
       "output_type": "stream",
       "stream": "stdout",
       "text": [
        " 2\n",
        "\n",
        "Gurobi status="
       ]
      },
      {
       "output_type": "stream",
       "stream": "stderr",
       "text": [
        " 0.185224056244\n",
        "SOLVE LP:"
       ]
      },
      {
       "output_type": "stream",
       "stream": "stderr",
       "text": [
        " 0.07728099823\n",
        "BUILD HYPERGRAPH: 0.0197899341583\n",
        "BUILD POTENTIALS: 0.0170760154724\n",
        "BUILD LP:"
       ]
      },
      {
       "output_type": "stream",
       "stream": "stdout",
       "text": [
        " 2\n",
        "\n",
        "Gurobi status="
       ]
      },
      {
       "output_type": "stream",
       "stream": "stderr",
       "text": [
        " 0.247335910797\n",
        "SOLVE LP:"
       ]
      },
      {
       "output_type": "stream",
       "stream": "stderr",
       "text": [
        " 0.0792150497437\n",
        "BUILD HYPERGRAPH: 0.00599813461304\n",
        "BUILD POTENTIALS: 0.00475597381592\n",
        "BUILD LP:"
       ]
      },
      {
       "output_type": "stream",
       "stream": "stdout",
       "text": [
        " 2\n",
        "\n",
        "Gurobi status="
       ]
      },
      {
       "output_type": "stream",
       "stream": "stderr",
       "text": [
        " 0.0576272010803\n",
        "SOLVE LP: 0.0273909568787\n",
        "BUILD HYPERGRAPH: 0.00618600845337\n",
        "BUILD POTENTIALS: 0.00502490997314\n",
        "BUILD LP:"
       ]
      },
      {
       "output_type": "stream",
       "stream": "stdout",
       "text": [
        " 2\n",
        "\n",
        "Gurobi status="
       ]
      },
      {
       "output_type": "stream",
       "stream": "stderr",
       "text": [
        " 0.0567698478699\n",
        "SOLVE LP: 0.0266969203949\n",
        "BUILD HYPERGRAPH: 0.00665807723999\n",
        "BUILD POTENTIALS: 0.00509595870972\n",
        "BUILD LP:"
       ]
      },
      {
       "output_type": "stream",
       "stream": "stdout",
       "text": [
        " 2\n",
        "\n",
        "Gurobi status="
       ]
      },
      {
       "output_type": "stream",
       "stream": "stderr",
       "text": [
        " 0.0573608875275\n",
        "SOLVE LP: 0.0265090465546\n",
        "BUILD HYPERGRAPH: 0.00117707252502\n",
        "BUILD POTENTIALS: 0.00100708007812\n",
        "BUILD LP: 0.0107841491699\n",
        "SOLVE LP: 0.00528597831726\n",
        "BUILD HYPERGRAPH: 0.00111293792725\n",
        "BUILD POTENTIALS: 0.00100803375244\n",
        "BUILD LP:"
       ]
      },
      {
       "output_type": "stream",
       "stream": "stderr",
       "text": [
        " 0.0118169784546\n",
        "SOLVE LP: 0.0075089931488\n",
        "BUILD HYPERGRAPH: 0.00637602806091\n",
        "BUILD POTENTIALS: 0.00532793998718\n",
        "BUILD LP:"
       ]
      },
      {
       "output_type": "stream",
       "stream": "stdout",
       "text": [
        " 2\n",
        "\n",
        "Gurobi status= 2\n",
        "\n",
        "Gurobi status= 2\n",
        "\n",
        "Gurobi status="
       ]
      },
      {
       "output_type": "stream",
       "stream": "stderr",
       "text": [
        " 0.0558218955994\n",
        "SOLVE LP: 0.0263359546661\n",
        "BUILD HYPERGRAPH:"
       ]
      },
      {
       "output_type": "stream",
       "stream": "stderr",
       "text": [
        " 0.0839738845825\n",
        "BUILD POTENTIALS: 0.0203309059143\n",
        "BUILD LP:"
       ]
      },
      {
       "output_type": "stream",
       "stream": "stdout",
       "text": [
        " 2\n",
        "\n",
        "Gurobi status="
       ]
      },
      {
       "output_type": "stream",
       "stream": "stderr",
       "text": [
        " 0.190030097961\n",
        "SOLVE LP:"
       ]
      },
      {
       "output_type": "stream",
       "stream": "stderr",
       "text": [
        " 0.0742568969727\n",
        "BUILD HYPERGRAPH: 0.0201108455658\n",
        "BUILD POTENTIALS: 0.0164639949799\n",
        "BUILD LP:"
       ]
      },
      {
       "output_type": "stream",
       "stream": "stdout",
       "text": [
        " 2\n",
        "\n",
        "Gurobi status="
       ]
      },
      {
       "output_type": "stream",
       "stream": "stderr",
       "text": [
        " 0.186579942703\n",
        "SOLVE LP:"
       ]
      },
      {
       "output_type": "stream",
       "stream": "stderr",
       "text": [
        " 0.147784948349\n",
        "BUILD HYPERGRAPH: 0.0204350948334\n",
        "BUILD POTENTIALS: 0.0162980556488\n",
        "BUILD LP:"
       ]
      },
      {
       "output_type": "stream",
       "stream": "stdout",
       "text": [
        " 2\n",
        "\n",
        "Gurobi status="
       ]
      },
      {
       "output_type": "stream",
       "stream": "stderr",
       "text": [
        " 0.193948984146\n",
        "SOLVE LP:"
       ]
      },
      {
       "output_type": "stream",
       "stream": "stderr",
       "text": [
        " 0.0887961387634\n",
        "BUILD HYPERGRAPH: 0.0201630592346\n",
        "BUILD POTENTIALS: 0.016587972641\n",
        "BUILD LP:"
       ]
      },
      {
       "output_type": "stream",
       "stream": "stdout",
       "text": [
        " 2\n",
        "\n",
        "Gurobi status="
       ]
      },
      {
       "output_type": "stream",
       "stream": "stderr",
       "text": [
        " 0.252477884293\n",
        "SOLVE LP:"
       ]
      },
      {
       "output_type": "stream",
       "stream": "stderr",
       "text": [
        " 0.0734891891479\n",
        "BUILD HYPERGRAPH: 0.0199589729309\n",
        "BUILD POTENTIALS: 0.0166471004486\n",
        "BUILD LP:"
       ]
      },
      {
       "output_type": "stream",
       "stream": "stdout",
       "text": [
        " 2\n",
        "\n",
        "Gurobi status="
       ]
      },
      {
       "output_type": "stream",
       "stream": "stderr",
       "text": [
        " 0.187964916229\n",
        "SOLVE LP:"
       ]
      },
      {
       "output_type": "stream",
       "stream": "stderr",
       "text": [
        " 0.0756180286407\n",
        "BUILD HYPERGRAPH: 0.020122051239\n",
        "BUILD POTENTIALS: 0.0165610313416\n",
        "BUILD LP:"
       ]
      },
      {
       "output_type": "stream",
       "stream": "stdout",
       "text": [
        " 2\n",
        "\n",
        "Gurobi status="
       ]
      },
      {
       "output_type": "stream",
       "stream": "stderr",
       "text": [
        " 0.248533010483\n",
        "SOLVE LP:"
       ]
      },
      {
       "output_type": "stream",
       "stream": "stderr",
       "text": [
        " 0.0757172107697\n",
        "BUILD HYPERGRAPH: 0.0198931694031\n",
        "BUILD POTENTIALS: 0.0164740085602\n",
        "BUILD LP:"
       ]
      },
      {
       "output_type": "stream",
       "stream": "stdout",
       "text": [
        " 2\n",
        "\n",
        "Gurobi status="
       ]
      },
      {
       "output_type": "stream",
       "stream": "stderr",
       "text": [
        " 0.18975687027\n",
        "SOLVE LP:"
       ]
      },
      {
       "output_type": "stream",
       "stream": "stderr",
       "text": [
        " 0.0722560882568\n",
        "BUILD HYPERGRAPH: 0.0196008682251\n",
        "BUILD POTENTIALS: 0.0169990062714\n",
        "BUILD LP:"
       ]
      },
      {
       "output_type": "stream",
       "stream": "stdout",
       "text": [
        " 2\n",
        "\n",
        "Gurobi status="
       ]
      },
      {
       "output_type": "stream",
       "stream": "stderr",
       "text": [
        " 0.250955820084\n",
        "SOLVE LP:"
       ]
      },
      {
       "output_type": "stream",
       "stream": "stderr",
       "text": [
        " 0.0737390518188\n",
        "BUILD HYPERGRAPH: 0.0209188461304\n",
        "BUILD POTENTIALS: 0.0169529914856\n",
        "BUILD LP:"
       ]
      },
      {
       "output_type": "stream",
       "stream": "stdout",
       "text": [
        " 2\n",
        "\n",
        "Gurobi status="
       ]
      },
      {
       "output_type": "stream",
       "stream": "stderr",
       "text": [
        " 0.199964046478\n",
        "SOLVE LP:"
       ]
      },
      {
       "output_type": "stream",
       "stream": "stderr",
       "text": [
        " 0.0729460716248\n",
        "BUILD HYPERGRAPH:"
       ]
      },
      {
       "output_type": "stream",
       "stream": "stderr",
       "text": [
        " 0.0841178894043\n",
        "BUILD POTENTIALS: 0.0180380344391\n",
        "BUILD LP:"
       ]
      },
      {
       "output_type": "stream",
       "stream": "stdout",
       "text": [
        " 2\n",
        "\n",
        "Gurobi status="
       ]
      },
      {
       "output_type": "stream",
       "stream": "stderr",
       "text": [
        " 0.195722103119\n",
        "SOLVE LP:"
       ]
      },
      {
       "output_type": "stream",
       "stream": "stderr",
       "text": [
        " 0.0782749652863\n",
        "BUILD HYPERGRAPH: 0.02041888237\n",
        "BUILD POTENTIALS: 0.0170948505402\n",
        "BUILD LP:"
       ]
      },
      {
       "output_type": "stream",
       "stream": "stdout",
       "text": [
        " 2\n",
        "\n",
        "Gurobi status="
       ]
      },
      {
       "output_type": "stream",
       "stream": "stderr",
       "text": [
        " 0.190764904022\n",
        "SOLVE LP:"
       ]
      },
      {
       "output_type": "stream",
       "stream": "stderr",
       "text": [
        " 0.137032032013\n",
        "BUILD HYPERGRAPH: 0.0210430622101\n",
        "BUILD POTENTIALS: 0.0164380073547\n",
        "BUILD LP:"
       ]
      },
      {
       "output_type": "stream",
       "stream": "stdout",
       "text": [
        " 2\n",
        "\n",
        "Gurobi status="
       ]
      },
      {
       "output_type": "stream",
       "stream": "stderr",
       "text": [
        " 0.192591905594\n",
        "SOLVE LP:"
       ]
      },
      {
       "output_type": "stream",
       "stream": "stderr",
       "text": [
        " 0.0832810401917\n",
        "BUILD HYPERGRAPH: 0.0217409133911\n",
        "BUILD POTENTIALS: 0.0168080329895\n",
        "BUILD LP:"
       ]
      },
      {
       "output_type": "stream",
       "stream": "stdout",
       "text": [
        " 2\n",
        "\n",
        "Gurobi status="
       ]
      },
      {
       "output_type": "stream",
       "stream": "stderr",
       "text": [
        " 0.190603017807\n",
        "SOLVE LP:"
       ]
      },
      {
       "output_type": "stream",
       "stream": "stderr",
       "text": [
        " 0.142097949982\n",
        "BUILD HYPERGRAPH: 0.0209450721741\n",
        "BUILD POTENTIALS: 0.0179648399353\n",
        "BUILD LP:"
       ]
      },
      {
       "output_type": "stream",
       "stream": "stdout",
       "text": [
        " 2\n",
        "\n",
        "Gurobi status="
       ]
      },
      {
       "output_type": "stream",
       "stream": "stderr",
       "text": [
        " 0.204168796539\n",
        "SOLVE LP:"
       ]
      },
      {
       "output_type": "stream",
       "stream": "stderr",
       "text": [
        " 0.0821099281311\n",
        "BUILD HYPERGRAPH: 0.0206818580627\n",
        "BUILD POTENTIALS: 0.0165429115295\n",
        "BUILD LP:"
       ]
      },
      {
       "output_type": "stream",
       "stream": "stdout",
       "text": [
        " 2\n",
        "\n",
        "Gurobi status="
       ]
      },
      {
       "output_type": "stream",
       "stream": "stderr",
       "text": [
        " 0.18566608429\n",
        "SOLVE LP:"
       ]
      },
      {
       "output_type": "stream",
       "stream": "stderr",
       "text": [
        " 0.142901182175\n",
        "BUILD HYPERGRAPH: 0.00567507743835\n",
        "BUILD POTENTIALS: 0.00435090065002\n",
        "BUILD LP:"
       ]
      },
      {
       "output_type": "stream",
       "stream": "stdout",
       "text": [
        " 2\n",
        "\n",
        "Gurobi status="
       ]
      },
      {
       "output_type": "stream",
       "stream": "stderr",
       "text": [
        " 0.0565631389618\n",
        "SOLVE LP: 0.0313680171967\n",
        "BUILD HYPERGRAPH: 0.00558495521545\n",
        "BUILD POTENTIALS: 0.0043740272522\n",
        "BUILD LP:"
       ]
      },
      {
       "output_type": "stream",
       "stream": "stdout",
       "text": [
        " 2\n",
        "\n",
        "Gurobi status="
       ]
      },
      {
       "output_type": "stream",
       "stream": "stderr",
       "text": [
        " 0.05739402771\n",
        "SOLVE LP: 0.0310120582581\n",
        "BUILD HYPERGRAPH:"
       ]
      },
      {
       "output_type": "stream",
       "stream": "stderr",
       "text": [
        " 0.0211279392242\n",
        "BUILD POTENTIALS: 0.023106098175\n",
        "BUILD LP:"
       ]
      },
      {
       "output_type": "stream",
       "stream": "stdout",
       "text": [
        " 2\n",
        "\n",
        "Gurobi status="
       ]
      },
      {
       "output_type": "stream",
       "stream": "stderr",
       "text": [
        " 0.202464103699\n",
        "SOLVE LP:"
       ]
      },
      {
       "output_type": "stream",
       "stream": "stderr",
       "text": [
        " 0.0784771442413\n",
        "BUILD HYPERGRAPH:"
       ]
      },
      {
       "output_type": "stream",
       "stream": "stderr",
       "text": [
        " 0.0931739807129\n",
        "BUILD POTENTIALS: 0.0252070426941\n",
        "BUILD LP:"
       ]
      },
      {
       "output_type": "stream",
       "stream": "stdout",
       "text": [
        " 2\n",
        "\n",
        "Gurobi status="
       ]
      },
      {
       "output_type": "stream",
       "stream": "stderr",
       "text": [
        " 0.201895952225\n",
        "SOLVE LP:"
       ]
      },
      {
       "output_type": "stream",
       "stream": "stderr",
       "text": [
        " 0.080127954483\n",
        "BUILD HYPERGRAPH: 0.0240318775177\n",
        "BUILD POTENTIALS: 0.0177719593048\n",
        "BUILD LP:"
       ]
      },
      {
       "output_type": "stream",
       "stream": "stdout",
       "text": [
        " 2\n",
        "\n",
        "Gurobi status="
       ]
      },
      {
       "output_type": "stream",
       "stream": "stderr",
       "text": [
        " 0.269887208939\n",
        "SOLVE LP:"
       ]
      },
      {
       "output_type": "stream",
       "stream": "stderr",
       "text": [
        " 0.0795021057129\n",
        "BUILD HYPERGRAPH: 0.0253758430481\n",
        "BUILD POTENTIALS:"
       ]
      },
      {
       "output_type": "stream",
       "stream": "stderr",
       "text": [
        " 0.0183510780334\n",
        "BUILD LP:"
       ]
      },
      {
       "output_type": "stream",
       "stream": "stdout",
       "text": [
        " 2\n",
        "\n",
        "Gurobi status="
       ]
      },
      {
       "output_type": "stream",
       "stream": "stderr",
       "text": [
        " 0.205719947815\n",
        "SOLVE LP:"
       ]
      },
      {
       "output_type": "stream",
       "stream": "stderr",
       "text": [
        " 0.0851500034332\n",
        "BUILD HYPERGRAPH: 0.0203890800476\n",
        "BUILD POTENTIALS:"
       ]
      },
      {
       "output_type": "stream",
       "stream": "stderr",
       "text": [
        " 0.0261871814728\n",
        "BUILD LP:"
       ]
      },
      {
       "output_type": "stream",
       "stream": "stdout",
       "text": [
        " 2\n",
        "\n",
        "Gurobi status="
       ]
      },
      {
       "output_type": "stream",
       "stream": "stderr",
       "text": [
        " 0.253079891205\n",
        "SOLVE LP:"
       ]
      },
      {
       "output_type": "stream",
       "stream": "stderr",
       "text": [
        " 0.0760290622711\n",
        "BUILD HYPERGRAPH: 0.0202739238739\n",
        "BUILD POTENTIALS: 0.0167150497437\n",
        "BUILD LP:"
       ]
      },
      {
       "output_type": "stream",
       "stream": "stdout",
       "text": [
        " 2\n",
        "\n",
        "Gurobi status="
       ]
      },
      {
       "output_type": "stream",
       "stream": "stderr",
       "text": [
        " 0.187563896179\n",
        "SOLVE LP:"
       ]
      },
      {
       "output_type": "stream",
       "stream": "stderr",
       "text": [
        " 0.0759789943695\n",
        "BUILD HYPERGRAPH: 0.0202550888062\n",
        "BUILD POTENTIALS: 0.0163760185242\n",
        "BUILD LP:"
       ]
      },
      {
       "output_type": "stream",
       "stream": "stdout",
       "text": [
        " 2\n",
        "\n",
        "Gurobi status="
       ]
      },
      {
       "output_type": "stream",
       "stream": "stderr",
       "text": [
        " 0.256144046783\n",
        "SOLVE LP:"
       ]
      },
      {
       "output_type": "stream",
       "stream": "stderr",
       "text": [
        " 0.075343132019\n",
        "BUILD HYPERGRAPH: 0.0198109149933\n",
        "BUILD POTENTIALS: 0.017030954361\n",
        "BUILD LP:"
       ]
      },
      {
       "output_type": "stream",
       "stream": "stdout",
       "text": [
        " 2\n",
        "\n",
        "Gurobi status="
       ]
      },
      {
       "output_type": "stream",
       "stream": "stderr",
       "text": [
        " 0.188405036926\n",
        "SOLVE LP:"
       ]
      },
      {
       "output_type": "stream",
       "stream": "stderr",
       "text": [
        " 0.0768549442291\n",
        "BUILD HYPERGRAPH: 0.00112700462341\n",
        "BUILD POTENTIALS: 0.00092887878418\n",
        "BUILD LP: 0.0105471611023\n",
        "SOLVE LP: 0.00508308410645\n",
        "BUILD HYPERGRAPH: 0.0203950405121\n",
        "BUILD POTENTIALS:"
       ]
      },
      {
       "output_type": "stream",
       "stream": "stderr",
       "text": [
        " 0.0186409950256\n",
        "BUILD LP:"
       ]
      },
      {
       "output_type": "stream",
       "stream": "stdout",
       "text": [
        " 2\n",
        "\n",
        "Gurobi status= 2\n",
        "\n",
        "Gurobi status="
       ]
      },
      {
       "output_type": "stream",
       "stream": "stderr",
       "text": [
        " 0.25310587883\n",
        "SOLVE LP:"
       ]
      },
      {
       "output_type": "stream",
       "stream": "stderr",
       "text": [
        " 0.0764651298523\n",
        "BUILD HYPERGRAPH: 0.0198659896851\n",
        "BUILD POTENTIALS: 0.0177099704742\n",
        "BUILD LP:"
       ]
      },
      {
       "output_type": "stream",
       "stream": "stdout",
       "text": [
        " 2\n",
        "\n",
        "Gurobi status="
       ]
      },
      {
       "output_type": "stream",
       "stream": "stderr",
       "text": [
        " 0.188517093658\n",
        "SOLVE LP:"
       ]
      },
      {
       "output_type": "stream",
       "stream": "stderr",
       "text": [
        " 0.0750789642334\n",
        "BUILD HYPERGRAPH: 0.0200788974762\n",
        "BUILD POTENTIALS: 0.0172619819641\n",
        "BUILD LP:"
       ]
      },
      {
       "output_type": "stream",
       "stream": "stdout",
       "text": [
        " 2\n",
        "\n",
        "Gurobi status="
       ]
      },
      {
       "output_type": "stream",
       "stream": "stderr",
       "text": [
        " 0.253625154495\n",
        "SOLVE LP:"
       ]
      },
      {
       "output_type": "stream",
       "stream": "stderr",
       "text": [
        " 0.0760729312897\n",
        "BUILD HYPERGRAPH: 0.0210709571838\n",
        "BUILD POTENTIALS: 0.0164539813995\n",
        "BUILD LP:"
       ]
      },
      {
       "output_type": "stream",
       "stream": "stdout",
       "text": [
        " 2\n",
        "\n",
        "Gurobi status="
       ]
      },
      {
       "output_type": "stream",
       "stream": "stderr",
       "text": [
        " 0.187417030334\n",
        "SOLVE LP:"
       ]
      },
      {
       "output_type": "stream",
       "stream": "stderr",
       "text": [
        " 0.1369099617\n",
        "BUILD HYPERGRAPH: 0.0207159519196\n",
        "BUILD POTENTIALS: 0.0168890953064\n",
        "BUILD LP:"
       ]
      },
      {
       "output_type": "stream",
       "stream": "stdout",
       "text": [
        " 2\n",
        "\n",
        "Gurobi status="
       ]
      },
      {
       "output_type": "stream",
       "stream": "stderr",
       "text": [
        " 0.192874908447\n",
        "SOLVE LP:"
       ]
      },
      {
       "output_type": "stream",
       "stream": "stderr",
       "text": [
        " 0.0750169754028\n",
        "BUILD HYPERGRAPH: 0.019819021225\n",
        "BUILD POTENTIALS: 0.0164868831635\n",
        "BUILD LP:"
       ]
      },
      {
       "output_type": "stream",
       "stream": "stdout",
       "text": [
        " 2\n",
        "\n",
        "Gurobi status="
       ]
      },
      {
       "output_type": "stream",
       "stream": "stderr",
       "text": [
        " 0.25285410881\n",
        "SOLVE LP:"
       ]
      },
      {
       "output_type": "stream",
       "stream": "stderr",
       "text": [
        " 0.0760679244995\n",
        "BUILD HYPERGRAPH: 0.0197758674622\n",
        "BUILD POTENTIALS: 0.0174849033356\n",
        "BUILD LP:"
       ]
      },
      {
       "output_type": "stream",
       "stream": "stdout",
       "text": [
        " 2\n",
        "\n",
        "Gurobi status="
       ]
      },
      {
       "output_type": "stream",
       "stream": "stderr",
       "text": [
        " 0.18887591362\n",
        "SOLVE LP:"
       ]
      },
      {
       "output_type": "stream",
       "stream": "stderr",
       "text": [
        " 0.0767030715942\n",
        "BUILD HYPERGRAPH: 0.0201869010925\n",
        "BUILD POTENTIALS: 0.0178189277649\n",
        "BUILD LP:"
       ]
      },
      {
       "output_type": "stream",
       "stream": "stdout",
       "text": [
        " 2\n",
        "\n",
        "Gurobi status="
       ]
      },
      {
       "output_type": "stream",
       "stream": "stderr",
       "text": [
        " 0.255151987076\n",
        "SOLVE LP:"
       ]
      },
      {
       "output_type": "stream",
       "stream": "stderr",
       "text": [
        " 0.0752229690552\n",
        "BUILD HYPERGRAPH: 0.0207030773163\n",
        "BUILD POTENTIALS: 0.0171871185303\n",
        "BUILD LP:"
       ]
      },
      {
       "output_type": "stream",
       "stream": "stdout",
       "text": [
        " 2\n",
        "\n",
        "Gurobi status="
       ]
      },
      {
       "output_type": "stream",
       "stream": "stderr",
       "text": [
        " 0.19048500061\n",
        "SOLVE LP:"
       ]
      },
      {
       "output_type": "stream",
       "stream": "stderr",
       "text": [
        " 0.0735530853271\n",
        "BUILD HYPERGRAPH: 0.0205729007721\n",
        "BUILD POTENTIALS: 0.0166599750519\n",
        "BUILD LP:"
       ]
      },
      {
       "output_type": "stream",
       "stream": "stdout",
       "text": [
        " 2\n",
        "\n",
        "Gurobi status="
       ]
      },
      {
       "output_type": "stream",
       "stream": "stderr",
       "text": [
        " 0.253147125244\n",
        "SOLVE LP:"
       ]
      },
      {
       "output_type": "stream",
       "stream": "stderr",
       "text": [
        " 0.0773930549622\n",
        "BUILD HYPERGRAPH: 0.0204610824585\n",
        "BUILD POTENTIALS: 0.0165531635284\n",
        "BUILD LP:"
       ]
      },
      {
       "output_type": "stream",
       "stream": "stdout",
       "text": [
        " 2\n",
        "\n",
        "Gurobi status="
       ]
      },
      {
       "output_type": "stream",
       "stream": "stderr",
       "text": [
        " 0.195999145508\n",
        "SOLVE LP:"
       ]
      },
      {
       "output_type": "stream",
       "stream": "stderr",
       "text": [
        " 0.0766570568085\n",
        "BUILD HYPERGRAPH: 0.0199489593506\n",
        "BUILD POTENTIALS: 0.0173828601837\n",
        "BUILD LP:"
       ]
      },
      {
       "output_type": "stream",
       "stream": "stdout",
       "text": [
        " 2\n",
        "\n",
        "Gurobi status="
       ]
      },
      {
       "output_type": "stream",
       "stream": "stderr",
       "text": [
        " 0.25843501091\n",
        "SOLVE LP:"
       ]
      },
      {
       "output_type": "stream",
       "stream": "stderr",
       "text": [
        " 0.0752758979797\n",
        "BUILD HYPERGRAPH: 0.0208780765533\n",
        "BUILD POTENTIALS: 0.0180058479309\n",
        "BUILD LP:"
       ]
      },
      {
       "output_type": "stream",
       "stream": "stdout",
       "text": [
        " 2\n",
        "\n",
        "Gurobi status="
       ]
      },
      {
       "output_type": "stream",
       "stream": "stderr",
       "text": [
        " 0.190286159515\n",
        "SOLVE LP:"
       ]
      },
      {
       "output_type": "stream",
       "stream": "stderr",
       "text": [
        " 0.0756409168243\n",
        "BUILD HYPERGRAPH:"
       ]
      },
      {
       "output_type": "stream",
       "stream": "stderr",
       "text": [
        " 0.0873241424561\n",
        "BUILD POTENTIALS: 0.022598028183\n",
        "BUILD LP:"
       ]
      },
      {
       "output_type": "stream",
       "stream": "stdout",
       "text": [
        " 2\n",
        "\n",
        "Gurobi status="
       ]
      },
      {
       "output_type": "stream",
       "stream": "stderr",
       "text": [
        " 0.204657077789\n",
        "SOLVE LP:"
       ]
      },
      {
       "output_type": "stream",
       "stream": "stderr",
       "text": [
        " 0.0815880298615\n",
        "BUILD HYPERGRAPH: 0.00161600112915\n",
        "BUILD POTENTIALS: 0.00168395042419\n",
        "BUILD LP: 0.013839006424\n",
        "SOLVE LP: 0.00479292869568\n",
        "BUILD HYPERGRAPH: 0.00566697120667\n",
        "BUILD POTENTIALS: 0.00465202331543\n",
        "BUILD LP:"
       ]
      },
      {
       "output_type": "stream",
       "stream": "stdout",
       "text": [
        " 2\n",
        "\n",
        "Gurobi status= 2\n",
        "\n",
        "Gurobi status="
       ]
      },
      {
       "output_type": "stream",
       "stream": "stderr",
       "text": [
        " 0.060271024704\n",
        "SOLVE LP: 0.0304191112518\n",
        "BUILD HYPERGRAPH:"
       ]
      },
      {
       "output_type": "stream",
       "stream": "stderr",
       "text": [
        " 0.0215220451355\n",
        "BUILD POTENTIALS: 0.0176510810852\n",
        "BUILD LP:"
       ]
      },
      {
       "output_type": "stream",
       "stream": "stdout",
       "text": [
        " 2\n",
        "\n",
        "Gurobi status="
       ]
      },
      {
       "output_type": "stream",
       "stream": "stderr",
       "text": [
        " 0.252115011215\n",
        "SOLVE LP:"
       ]
      },
      {
       "output_type": "stream",
       "stream": "stderr",
       "text": [
        " 0.0776941776276\n",
        "BUILD HYPERGRAPH: 0.0250151157379\n",
        "BUILD POTENTIALS: 0.0178561210632\n",
        "BUILD LP:"
       ]
      },
      {
       "output_type": "stream",
       "stream": "stdout",
       "text": [
        " 2\n",
        "\n",
        "Gurobi status="
       ]
      },
      {
       "output_type": "stream",
       "stream": "stderr",
       "text": [
        " 0.204206943512\n",
        "SOLVE LP:"
       ]
      },
      {
       "output_type": "stream",
       "stream": "stderr",
       "text": [
        " 0.0885720252991\n",
        "BUILD HYPERGRAPH: 0.0056037902832\n",
        "BUILD POTENTIALS: 0.00541305541992\n",
        "BUILD LP:"
       ]
      },
      {
       "output_type": "stream",
       "stream": "stdout",
       "text": [
        " 2\n",
        "\n",
        "Gurobi status="
       ]
      },
      {
       "output_type": "stream",
       "stream": "stderr",
       "text": [
        " 0.0573740005493\n",
        "SOLVE LP: 0.028795003891\n",
        "BUILD HYPERGRAPH:"
       ]
      },
      {
       "output_type": "stream",
       "stream": "stderr",
       "text": [
        " 0.0207068920135\n",
        "BUILD POTENTIALS: 0.0238649845123\n",
        "BUILD LP:"
       ]
      },
      {
       "output_type": "stream",
       "stream": "stdout",
       "text": [
        " 2\n",
        "\n",
        "Gurobi status="
       ]
      },
      {
       "output_type": "stream",
       "stream": "stderr",
       "text": [
        " 0.274390935898\n",
        "SOLVE LP:"
       ]
      },
      {
       "output_type": "stream",
       "stream": "stderr",
       "text": [
        " 0.0893759727478\n",
        "BUILD HYPERGRAPH: 0.0209970474243\n",
        "BUILD POTENTIALS: 0.016930103302\n",
        "BUILD LP:"
       ]
      },
      {
       "output_type": "stream",
       "stream": "stdout",
       "text": [
        " 2\n",
        "\n",
        "Gurobi status="
       ]
      },
      {
       "output_type": "stream",
       "stream": "stderr",
       "text": [
        " 0.187255144119\n",
        "SOLVE LP:"
       ]
      },
      {
       "output_type": "stream",
       "stream": "stderr",
       "text": [
        " 0.075896024704\n",
        "BUILD HYPERGRAPH:"
       ]
      },
      {
       "output_type": "stream",
       "stream": "stderr",
       "text": [
        " 0.081759929657\n",
        "BUILD POTENTIALS: 0.0175440311432\n",
        "BUILD LP:"
       ]
      },
      {
       "output_type": "stream",
       "stream": "stdout",
       "text": [
        " 2\n",
        "\n",
        "Gurobi status="
       ]
      },
      {
       "output_type": "stream",
       "stream": "stderr",
       "text": [
        " 0.219029903412\n",
        "SOLVE LP:"
       ]
      },
      {
       "output_type": "stream",
       "stream": "stderr",
       "text": [
        " 0.0718789100647\n",
        "BUILD HYPERGRAPH: 0.0061469078064\n",
        "BUILD POTENTIALS: 0.0044310092926\n",
        "BUILD LP:"
       ]
      },
      {
       "output_type": "stream",
       "stream": "stdout",
       "text": [
        " 2\n",
        "\n",
        "Gurobi status="
       ]
      },
      {
       "output_type": "stream",
       "stream": "stderr",
       "text": [
        " 0.0543699264526\n",
        "SOLVE LP: 0.0227870941162\n",
        "BUILD HYPERGRAPH: 0.0218119621277\n",
        "BUILD POTENTIALS:"
       ]
      },
      {
       "output_type": "stream",
       "stream": "stderr",
       "text": [
        " 0.0177230834961\n",
        "BUILD LP:"
       ]
      },
      {
       "output_type": "stream",
       "stream": "stdout",
       "text": [
        " 2\n",
        "\n",
        "Gurobi status="
       ]
      },
      {
       "output_type": "stream",
       "stream": "stderr",
       "text": [
        " 0.249651908875\n",
        "SOLVE LP:"
       ]
      },
      {
       "output_type": "stream",
       "stream": "stderr",
       "text": [
        " 0.0732271671295\n",
        "BUILD HYPERGRAPH: 0.0201780796051\n",
        "BUILD POTENTIALS: 0.0171580314636\n",
        "BUILD LP:"
       ]
      },
      {
       "output_type": "stream",
       "stream": "stdout",
       "text": [
        " 2\n",
        "\n",
        "Gurobi status="
       ]
      },
      {
       "output_type": "stream",
       "stream": "stderr",
       "text": [
        " 0.186236858368\n",
        "SOLVE LP:"
       ]
      },
      {
       "output_type": "stream",
       "stream": "stderr",
       "text": [
        " 0.0737419128418\n",
        "BUILD HYPERGRAPH: 0.00555896759033\n",
        "BUILD POTENTIALS: 0.00446009635925\n",
        "BUILD LP:"
       ]
      },
      {
       "output_type": "stream",
       "stream": "stdout",
       "text": [
        " 2\n",
        "\n",
        "Gurobi status="
       ]
      },
      {
       "output_type": "stream",
       "stream": "stderr",
       "text": [
        " 0.0534908771515\n",
        "SOLVE LP: 0.023158788681\n",
        "BUILD HYPERGRAPH:"
       ]
      },
      {
       "output_type": "stream",
       "stream": "stderr",
       "text": [
        " 0.087249994278\n",
        "BUILD POTENTIALS: 0.0206880569458\n",
        "BUILD LP:"
       ]
      },
      {
       "output_type": "stream",
       "stream": "stdout",
       "text": [
        " 2\n",
        "\n",
        "Gurobi status="
       ]
      },
      {
       "output_type": "stream",
       "stream": "stderr",
       "text": [
        " 0.187783956528\n",
        "SOLVE LP:"
       ]
      },
      {
       "output_type": "stream",
       "stream": "stderr",
       "text": [
        " 0.0743281841278\n",
        "BUILD HYPERGRAPH: 0.0197620391846\n",
        "BUILD POTENTIALS: 0.0180702209473\n",
        "BUILD LP:"
       ]
      },
      {
       "output_type": "stream",
       "stream": "stdout",
       "text": [
        " 2\n",
        "\n",
        "Gurobi status="
       ]
      },
      {
       "output_type": "stream",
       "stream": "stderr",
       "text": [
        " 0.251744031906\n",
        "SOLVE LP:"
       ]
      },
      {
       "output_type": "stream",
       "stream": "stdout",
       "text": [
        " 2\n",
        "\n",
        "Gurobi status= 2\n",
        "\n",
        "Gurobi status="
       ]
      },
      {
       "output_type": "stream",
       "stream": "stderr",
       "text": [
        " 0.0805568695068\n",
        "BUILD HYPERGRAPH: 0.00119185447693\n",
        "BUILD POTENTIALS: 0.000906944274902\n",
        "BUILD LP: 0.0104389190674\n",
        "SOLVE LP: 0.00541114807129\n",
        "BUILD HYPERGRAPH: 0.00106287002563\n",
        "BUILD POTENTIALS: 0.000912189483643\n",
        "BUILD LP: 0.0149869918823\n",
        "SOLVE LP: 0.00544190406799\n",
        "BUILD HYPERGRAPH:"
       ]
      },
      {
       "output_type": "stream",
       "stream": "stderr",
       "text": [
        " 0.0241761207581\n",
        "BUILD POTENTIALS: 0.0263011455536\n",
        "BUILD LP:"
       ]
      },
      {
       "output_type": "stream",
       "stream": "stdout",
       "text": [
        " 2\n",
        "\n",
        "Gurobi status="
       ]
      },
      {
       "output_type": "stream",
       "stream": "stderr",
       "text": [
        " 0.20879983902\n",
        "SOLVE LP:"
       ]
      },
      {
       "output_type": "stream",
       "stream": "stderr",
       "text": [
        " 0.0722379684448\n",
        "BUILD HYPERGRAPH: 0.020840883255\n",
        "BUILD POTENTIALS: 0.0162358283997\n",
        "BUILD LP:"
       ]
      },
      {
       "output_type": "stream",
       "stream": "stdout",
       "text": [
        " 2\n",
        "\n",
        "Gurobi status="
       ]
      },
      {
       "output_type": "stream",
       "stream": "stderr",
       "text": [
        " 0.255285978317\n",
        "SOLVE LP:"
       ]
      },
      {
       "output_type": "stream",
       "stream": "stderr",
       "text": [
        " 0.0746397972107\n",
        "BUILD HYPERGRAPH: 0.0064902305603\n",
        "BUILD POTENTIALS: 0.00519394874573\n",
        "BUILD LP:"
       ]
      },
      {
       "output_type": "stream",
       "stream": "stdout",
       "text": [
        " 2\n",
        "\n",
        "Gurobi status="
       ]
      },
      {
       "output_type": "stream",
       "stream": "stderr",
       "text": [
        " 0.0546309947968\n",
        "SOLVE LP: 0.0221199989319\n",
        "BUILD HYPERGRAPH: 0.00123715400696\n",
        "BUILD POTENTIALS: 0.00112891197205\n",
        "BUILD LP: 0.0114929676056\n",
        "SOLVE LP: 0.00550198554993\n",
        "BUILD HYPERGRAPH:"
       ]
      },
      {
       "output_type": "stream",
       "stream": "stderr",
       "text": [
        " 0.0213840007782\n",
        "BUILD POTENTIALS: 0.0183169841766\n",
        "BUILD LP:"
       ]
      },
      {
       "output_type": "stream",
       "stream": "stdout",
       "text": [
        " 2\n",
        "\n",
        "Gurobi status= 2\n",
        "\n",
        "Gurobi status="
       ]
      },
      {
       "output_type": "stream",
       "stream": "stderr",
       "text": [
        " 0.187231063843\n",
        "SOLVE LP:"
       ]
      },
      {
       "output_type": "stream",
       "stream": "stderr",
       "text": [
        " 0.0758461952209\n",
        "BUILD HYPERGRAPH:"
       ]
      },
      {
       "output_type": "stream",
       "stream": "stderr",
       "text": [
        " 0.0943870544434\n",
        "BUILD POTENTIALS: 0.0180177688599\n",
        "BUILD LP:"
       ]
      },
      {
       "output_type": "stream",
       "stream": "stdout",
       "text": [
        " 2\n",
        "\n",
        "Gurobi status="
       ]
      },
      {
       "output_type": "stream",
       "stream": "stderr",
       "text": [
        " 0.189363956451\n",
        "SOLVE LP:"
       ]
      },
      {
       "output_type": "stream",
       "stream": "stderr",
       "text": [
        " 0.0760691165924\n",
        "BUILD HYPERGRAPH: 0.0207509994507\n",
        "BUILD POTENTIALS: 0.0174360275269\n",
        "BUILD LP:"
       ]
      },
      {
       "output_type": "stream",
       "stream": "stdout",
       "text": [
        " 2\n",
        "\n",
        "Gurobi status="
       ]
      },
      {
       "output_type": "stream",
       "stream": "stderr",
       "text": [
        " 0.188612937927\n",
        "SOLVE LP:"
       ]
      },
      {
       "output_type": "stream",
       "stream": "stderr",
       "text": [
        " 0.132905960083\n",
        "BUILD HYPERGRAPH: 0.0201990604401\n",
        "BUILD POTENTIALS: 0.016863822937\n",
        "BUILD LP:"
       ]
      },
      {
       "output_type": "stream",
       "stream": "stdout",
       "text": [
        " 2\n",
        "\n",
        "Gurobi status="
       ]
      },
      {
       "output_type": "stream",
       "stream": "stderr",
       "text": [
        " 0.185378074646\n",
        "SOLVE LP:"
       ]
      },
      {
       "output_type": "stream",
       "stream": "stderr",
       "text": [
        " 0.0723030567169\n",
        "BUILD HYPERGRAPH: 0.0196468830109\n",
        "BUILD POTENTIALS: 0.0179488658905\n",
        "BUILD LP:"
       ]
      },
      {
       "output_type": "stream",
       "stream": "stdout",
       "text": [
        " 2\n",
        "\n",
        "Gurobi status="
       ]
      },
      {
       "output_type": "stream",
       "stream": "stderr",
       "text": [
        " 0.293653964996\n",
        "SOLVE LP:"
       ]
      },
      {
       "output_type": "stream",
       "stream": "stderr",
       "text": [
        " 0.07386302948\n",
        "BUILD HYPERGRAPH: 0.0195920467377\n",
        "BUILD POTENTIALS: 0.0172529220581\n",
        "BUILD LP:"
       ]
      },
      {
       "output_type": "stream",
       "stream": "stdout",
       "text": [
        " 2\n",
        "\n",
        "Gurobi status="
       ]
      },
      {
       "output_type": "stream",
       "stream": "stderr",
       "text": [
        " 0.189171075821\n",
        "SOLVE LP:"
       ]
      },
      {
       "output_type": "stream",
       "stream": "stderr",
       "text": [
        " 0.0737910270691\n",
        "BUILD HYPERGRAPH: 0.00111508369446\n",
        "BUILD POTENTIALS: 0.000881195068359\n",
        "BUILD LP: 0.0103671550751\n",
        "SOLVE LP: 0.00468802452087\n",
        "BUILD HYPERGRAPH: 0.0208880901337\n",
        "BUILD POTENTIALS:"
       ]
      },
      {
       "output_type": "stream",
       "stream": "stderr",
       "text": [
        " 0.0178809165955\n",
        "BUILD LP:"
       ]
      },
      {
       "output_type": "stream",
       "stream": "stdout",
       "text": [
        " 2\n",
        "\n",
        "Gurobi status= 2\n",
        "\n",
        "Gurobi status="
       ]
      },
      {
       "output_type": "stream",
       "stream": "stderr",
       "text": [
        " 0.249979972839\n",
        "SOLVE LP:"
       ]
      },
      {
       "output_type": "stream",
       "stream": "stderr",
       "text": [
        " 0.0736999511719\n",
        "BUILD HYPERGRAPH: 0.0198559761047\n",
        "BUILD POTENTIALS: 0.0168890953064\n",
        "BUILD LP:"
       ]
      },
      {
       "output_type": "stream",
       "stream": "stdout",
       "text": [
        " 2\n",
        "\n",
        "Gurobi status="
       ]
      },
      {
       "output_type": "stream",
       "stream": "stderr",
       "text": [
        " 0.214092969894\n",
        "SOLVE LP:"
       ]
      },
      {
       "output_type": "stream",
       "stream": "stderr",
       "text": [
        " 0.0761539936066\n",
        "BUILD HYPERGRAPH: 0.0251679420471\n",
        "BUILD POTENTIALS: 0.0160989761353\n",
        "BUILD LP:"
       ]
      },
      {
       "output_type": "stream",
       "stream": "stdout",
       "text": [
        " 2\n",
        "\n",
        "Gurobi status="
       ]
      },
      {
       "output_type": "stream",
       "stream": "stderr",
       "text": [
        " 0.251796007156\n",
        "SOLVE LP:"
       ]
      },
      {
       "output_type": "stream",
       "stream": "stderr",
       "text": [
        " 0.0782871246338\n",
        "BUILD HYPERGRAPH: 0.0204420089722\n",
        "BUILD POTENTIALS: 0.0162079334259\n",
        "BUILD LP:"
       ]
      },
      {
       "output_type": "stream",
       "stream": "stdout",
       "text": [
        " 2\n",
        "\n",
        "Gurobi status="
       ]
      },
      {
       "output_type": "stream",
       "stream": "stderr",
       "text": [
        " 0.187403917313\n",
        "SOLVE LP:"
       ]
      },
      {
       "output_type": "stream",
       "stream": "stderr",
       "text": [
        " 0.0748882293701\n",
        "BUILD HYPERGRAPH: 0.0205070972443\n",
        "BUILD POTENTIALS: 0.017382144928\n",
        "BUILD LP:"
       ]
      },
      {
       "output_type": "stream",
       "stream": "stdout",
       "text": [
        " 2\n",
        "\n",
        "Gurobi status="
       ]
      },
      {
       "output_type": "stream",
       "stream": "stderr",
       "text": [
        " 0.257000923157\n",
        "SOLVE LP:"
       ]
      },
      {
       "output_type": "stream",
       "stream": "stderr",
       "text": [
        " 0.0794968605042\n",
        "BUILD HYPERGRAPH: 0.00555205345154\n",
        "BUILD POTENTIALS: 0.00455904006958\n",
        "BUILD LP:"
       ]
      },
      {
       "output_type": "stream",
       "stream": "stdout",
       "text": [
        " 2\n",
        "\n",
        "Gurobi status="
       ]
      },
      {
       "output_type": "stream",
       "stream": "stderr",
       "text": [
        " 0.0549600124359\n",
        "SOLVE LP: 0.0229139328003\n",
        "BUILD HYPERGRAPH: 0.0012629032135\n",
        "BUILD POTENTIALS: 0.00105786323547\n",
        "BUILD LP: 0.0109012126923\n",
        "SOLVE LP: 0.0058159828186\n",
        "BUILD HYPERGRAPH:"
       ]
      },
      {
       "output_type": "stream",
       "stream": "stderr",
       "text": [
        " 0.00603795051575\n",
        "BUILD POTENTIALS: 0.00488615036011\n",
        "BUILD LP:"
       ]
      },
      {
       "output_type": "stream",
       "stream": "stdout",
       "text": [
        " 2\n",
        "\n",
        "Gurobi status= 2\n",
        "\n",
        "Gurobi status="
       ]
      },
      {
       "output_type": "stream",
       "stream": "stderr",
       "text": [
        " 0.0580070018768\n",
        "SOLVE LP: 0.0228400230408\n",
        "BUILD HYPERGRAPH: 0.00114107131958\n",
        "BUILD POTENTIALS: 0.000961065292358\n",
        "BUILD LP: 0.0104219913483\n",
        "SOLVE LP: 0.00607705116272\n",
        "BUILD HYPERGRAPH: 0.00111508369446\n",
        "BUILD POTENTIALS: 0.000942945480347\n",
        "BUILD LP:"
       ]
      },
      {
       "output_type": "stream",
       "stream": "stdout",
       "text": [
        " 2\n",
        "\n",
        "Gurobi status= 2\n",
        "\n",
        "Gurobi status= 2\n",
        "\n",
        "Gurobi status="
       ]
      },
      {
       "output_type": "stream",
       "stream": "stderr",
       "text": [
        " 0.0107998847961\n",
        "SOLVE LP: 0.00512194633484\n",
        "BUILD HYPERGRAPH: 0.00118184089661\n",
        "BUILD POTENTIALS: 0.00101590156555\n",
        "BUILD LP: 0.0132977962494\n",
        "SOLVE LP: 0.0052490234375\n",
        "BUILD HYPERGRAPH: 0.00113701820374\n",
        "BUILD POTENTIALS: 0.00101089477539\n",
        "BUILD LP: 0.0105621814728\n",
        "SOLVE LP: 0.00514388084412\n",
        "BUILD HYPERGRAPH:"
       ]
      },
      {
       "output_type": "stream",
       "stream": "stderr",
       "text": [
        " 0.022686958313\n",
        "BUILD POTENTIALS: 0.0186820030212\n",
        "BUILD LP:"
       ]
      },
      {
       "output_type": "stream",
       "stream": "stdout",
       "text": [
        " 2\n",
        "\n",
        "Gurobi status= 2\n",
        "\n",
        "Gurobi status="
       ]
      },
      {
       "output_type": "stream",
       "stream": "stderr",
       "text": [
        " 0.247336864471\n",
        "SOLVE LP:"
       ]
      },
      {
       "output_type": "stream",
       "stream": "stderr",
       "text": [
        " 0.0726139545441\n",
        "BUILD HYPERGRAPH: 0.0011670589447\n",
        "BUILD POTENTIALS: 0.000874996185303\n",
        "BUILD LP: 0.0109579563141\n",
        "SOLVE LP: 0.009516954422\n",
        "BUILD HYPERGRAPH:"
       ]
      },
      {
       "output_type": "stream",
       "stream": "stderr",
       "text": [
        " 0.0253300666809\n",
        "BUILD POTENTIALS: 0.0175969600677\n",
        "BUILD LP:"
       ]
      },
      {
       "output_type": "stream",
       "stream": "stdout",
       "text": [
        " 2\n",
        "\n",
        "Gurobi status= 2\n",
        "\n",
        "Gurobi status="
       ]
      },
      {
       "output_type": "stream",
       "stream": "stderr",
       "text": [
        " 0.197299003601\n",
        "SOLVE LP:"
       ]
      },
      {
       "output_type": "stream",
       "stream": "stderr",
       "text": [
        " 0.0738019943237\n",
        "BUILD HYPERGRAPH: 0.00585889816284\n",
        "BUILD POTENTIALS: 0.00460600852966\n",
        "BUILD LP:"
       ]
      },
      {
       "output_type": "stream",
       "stream": "stdout",
       "text": [
        " 2\n",
        "\n",
        "Gurobi status="
       ]
      },
      {
       "output_type": "stream",
       "stream": "stderr",
       "text": [
        " 0.115802049637\n",
        "SOLVE LP: 0.0226440429688\n",
        "BUILD HYPERGRAPH: 0.0214459896088\n",
        "BUILD POTENTIALS:"
       ]
      },
      {
       "output_type": "stream",
       "stream": "stderr",
       "text": [
        " 0.0171868801117\n",
        "BUILD LP:"
       ]
      },
      {
       "output_type": "stream",
       "stream": "stdout",
       "text": [
        " 2\n",
        "\n",
        "Gurobi status="
       ]
      },
      {
       "output_type": "stream",
       "stream": "stderr",
       "text": [
        " 0.188500881195\n",
        "SOLVE LP:"
       ]
      },
      {
       "output_type": "stream",
       "stream": "stderr",
       "text": [
        " 0.0764560699463\n",
        "BUILD HYPERGRAPH: 0.00115084648132\n",
        "BUILD POTENTIALS: 0.00086498260498\n",
        "BUILD LP: 0.0104429721832\n",
        "SOLVE LP: 0.00473999977112\n",
        "BUILD HYPERGRAPH: 0.0203449726105\n",
        "BUILD POTENTIALS:"
       ]
      },
      {
       "output_type": "stream",
       "stream": "stderr",
       "text": [
        " 0.0180149078369\n",
        "BUILD LP:"
       ]
      },
      {
       "output_type": "stream",
       "stream": "stdout",
       "text": [
        " 2\n",
        "\n",
        "Gurobi status= 2\n",
        "\n",
        "Gurobi status="
       ]
      },
      {
       "output_type": "stream",
       "stream": "stderr",
       "text": [
        " 0.250435829163\n",
        "SOLVE LP:"
       ]
      },
      {
       "output_type": "stream",
       "stream": "stderr",
       "text": [
        " 0.0798509120941\n",
        "BUILD HYPERGRAPH: 0.0261189937592\n",
        "BUILD POTENTIALS:"
       ]
      },
      {
       "output_type": "stream",
       "stream": "stderr",
       "text": [
        " 0.0194299221039\n",
        "BUILD LP:"
       ]
      },
      {
       "output_type": "stream",
       "stream": "stdout",
       "text": [
        " 2\n",
        "\n",
        "Gurobi status="
       ]
      },
      {
       "output_type": "stream",
       "stream": "stderr",
       "text": [
        " 0.191645145416\n",
        "SOLVE LP:"
       ]
      },
      {
       "output_type": "stream",
       "stream": "stderr",
       "text": [
        " 0.0771961212158\n",
        "BUILD HYPERGRAPH: 0.0200428962708\n",
        "BUILD POTENTIALS: 0.0170769691467\n",
        "BUILD LP:"
       ]
      },
      {
       "output_type": "stream",
       "stream": "stdout",
       "text": [
        " 2\n",
        "\n",
        "Gurobi status="
       ]
      },
      {
       "output_type": "stream",
       "stream": "stderr",
       "text": [
        " 0.251569986343\n",
        "SOLVE LP:"
       ]
      },
      {
       "output_type": "stream",
       "stream": "stderr",
       "text": [
        " 0.0748190879822\n",
        "BUILD HYPERGRAPH: 0.00590801239014\n",
        "BUILD POTENTIALS: 0.00464010238647\n",
        "BUILD LP:"
       ]
      },
      {
       "output_type": "stream",
       "stream": "stdout",
       "text": [
        " 2\n",
        "\n",
        "Gurobi status="
       ]
      },
      {
       "output_type": "stream",
       "stream": "stderr",
       "text": [
        " 0.0536119937897\n",
        "SOLVE LP: 0.0221049785614\n",
        "BUILD HYPERGRAPH: 0.00671005249023\n",
        "BUILD POTENTIALS: 0.00514006614685\n",
        "BUILD LP:"
       ]
      },
      {
       "output_type": "stream",
       "stream": "stdout",
       "text": [
        " 2\n",
        "\n",
        "Gurobi status="
       ]
      },
      {
       "output_type": "stream",
       "stream": "stderr",
       "text": [
        " 0.0575029850006\n",
        "SOLVE LP: 0.0220952033997\n",
        "BUILD HYPERGRAPH: 0.00662899017334\n",
        "BUILD POTENTIALS: 0.00475311279297\n",
        "BUILD LP:"
       ]
      },
      {
       "output_type": "stream",
       "stream": "stdout",
       "text": [
        " 2\n",
        "\n",
        "Gurobi status="
       ]
      },
      {
       "output_type": "stream",
       "stream": "stderr",
       "text": [
        " 0.0547320842743\n",
        "SOLVE LP: 0.0220110416412\n",
        "BUILD HYPERGRAPH: 0.00131797790527\n",
        "BUILD POTENTIALS: 0.0014021396637\n",
        "BUILD LP: 0.0108048915863\n",
        "SOLVE LP: 0.00587606430054\n",
        "BUILD HYPERGRAPH: 0.001060962677\n",
        "BUILD POTENTIALS: 0.000998973846436\n",
        "BUILD LP:"
       ]
      },
      {
       "output_type": "stream",
       "stream": "stderr",
       "text": [
        " 0.0119769573212\n",
        "SOLVE LP: 0.00513505935669\n",
        "BUILD HYPERGRAPH: 0.00617694854736\n",
        "BUILD POTENTIALS: 0.00561499595642\n",
        "BUILD LP:"
       ]
      },
      {
       "output_type": "stream",
       "stream": "stdout",
       "text": [
        " 2\n",
        "\n",
        "Gurobi status= 2\n",
        "\n",
        "Gurobi status= 2\n",
        "\n",
        "Gurobi status="
       ]
      },
      {
       "output_type": "stream",
       "stream": "stderr",
       "text": [
        " 0.0546669960022\n",
        "SOLVE LP: 0.0240821838379\n",
        "BUILD HYPERGRAPH:"
       ]
      },
      {
       "output_type": "stream",
       "stream": "stderr",
       "text": [
        " 0.0852479934692\n",
        "BUILD POTENTIALS: 0.0176770687103\n",
        "BUILD LP:"
       ]
      },
      {
       "output_type": "stream",
       "stream": "stdout",
       "text": [
        " 2\n",
        "\n",
        "Gurobi status="
       ]
      },
      {
       "output_type": "stream",
       "stream": "stderr",
       "text": [
        " 0.189927101135\n",
        "SOLVE LP:"
       ]
      },
      {
       "output_type": "stream",
       "stream": "stderr",
       "text": [
        " 0.0738739967346\n",
        "BUILD HYPERGRAPH: 0.0200850963593\n",
        "BUILD POTENTIALS: 0.0166869163513\n",
        "BUILD LP:"
       ]
      },
      {
       "output_type": "stream",
       "stream": "stdout",
       "text": [
        " 2\n",
        "\n",
        "Gurobi status="
       ]
      },
      {
       "output_type": "stream",
       "stream": "stderr",
       "text": [
        " 0.185745000839\n",
        "SOLVE LP:"
       ]
      },
      {
       "output_type": "stream",
       "stream": "stderr",
       "text": [
        " 0.135353088379\n",
        "BUILD HYPERGRAPH: 0.0206279754639\n",
        "BUILD POTENTIALS: 0.0165860652924\n",
        "BUILD LP:"
       ]
      },
      {
       "output_type": "stream",
       "stream": "stdout",
       "text": [
        " 2\n",
        "\n",
        "Gurobi status="
       ]
      },
      {
       "output_type": "stream",
       "stream": "stderr",
       "text": [
        " 0.19199514389\n",
        "SOLVE LP:"
       ]
      },
      {
       "output_type": "stream",
       "stream": "stderr",
       "text": [
        " 0.0763049125671\n",
        "BUILD HYPERGRAPH: 0.0200438499451\n",
        "BUILD POTENTIALS: 0.0163459777832\n",
        "BUILD LP:"
       ]
      },
      {
       "output_type": "stream",
       "stream": "stdout",
       "text": [
        " 2\n",
        "\n",
        "Gurobi status="
       ]
      },
      {
       "output_type": "stream",
       "stream": "stderr",
       "text": [
        " 0.250542879105\n",
        "SOLVE LP:"
       ]
      },
      {
       "output_type": "stream",
       "stream": "stderr",
       "text": [
        " 0.0746660232544\n",
        "BUILD HYPERGRAPH: 0.020348072052\n",
        "BUILD POTENTIALS: 0.0165431499481\n",
        "BUILD LP:"
       ]
      },
      {
       "output_type": "stream",
       "stream": "stdout",
       "text": [
        " 2\n",
        "\n",
        "Gurobi status="
       ]
      },
      {
       "output_type": "stream",
       "stream": "stderr",
       "text": [
        " 0.184850931168\n",
        "SOLVE LP:"
       ]
      },
      {
       "output_type": "stream",
       "stream": "stderr",
       "text": [
        " 0.0752561092377\n",
        "BUILD HYPERGRAPH: 0.0198578834534\n",
        "BUILD POTENTIALS: 0.0164220333099\n",
        "BUILD LP:"
       ]
      },
      {
       "output_type": "stream",
       "stream": "stdout",
       "text": [
        " 2\n",
        "\n",
        "Gurobi status="
       ]
      },
      {
       "output_type": "stream",
       "stream": "stderr",
       "text": [
        " 0.254610061646\n",
        "SOLVE LP:"
       ]
      },
      {
       "output_type": "stream",
       "stream": "stderr",
       "text": [
        " 0.0761671066284\n",
        "BUILD HYPERGRAPH: 0.0207509994507\n",
        "BUILD POTENTIALS: 0.0171358585358\n",
        "BUILD LP:"
       ]
      },
      {
       "output_type": "stream",
       "stream": "stdout",
       "text": [
        " 2\n",
        "\n",
        "Gurobi status="
       ]
      },
      {
       "output_type": "stream",
       "stream": "stderr",
       "text": [
        " 0.189487934113\n",
        "SOLVE LP:"
       ]
      },
      {
       "output_type": "stream",
       "stream": "stderr",
       "text": [
        " 0.0738439559937\n",
        "BUILD HYPERGRAPH: 0.0197410583496\n",
        "BUILD POTENTIALS: 0.0171740055084\n",
        "BUILD LP:"
       ]
      },
      {
       "output_type": "stream",
       "stream": "stdout",
       "text": [
        " 2\n",
        "\n",
        "Gurobi status="
       ]
      },
      {
       "output_type": "stream",
       "stream": "stderr",
       "text": [
        " 0.249661922455\n",
        "SOLVE LP:"
       ]
      },
      {
       "output_type": "stream",
       "stream": "stderr",
       "text": [
        " 0.0776169300079\n",
        "BUILD HYPERGRAPH: 0.0221149921417\n",
        "BUILD POTENTIALS: 0.0175740718842\n",
        "BUILD LP:"
       ]
      },
      {
       "output_type": "stream",
       "stream": "stdout",
       "text": [
        " 2\n",
        "\n",
        "Gurobi status="
       ]
      },
      {
       "output_type": "stream",
       "stream": "stderr",
       "text": [
        " 0.1965072155\n",
        "SOLVE LP:"
       ]
      },
      {
       "output_type": "stream",
       "stream": "stderr",
       "text": [
        " 0.076404094696\n",
        "BUILD HYPERGRAPH:"
       ]
      },
      {
       "output_type": "stream",
       "stream": "stderr",
       "text": [
        " 0.0861859321594\n",
        "BUILD POTENTIALS: 0.0184781551361\n",
        "BUILD LP:"
       ]
      },
      {
       "output_type": "stream",
       "stream": "stdout",
       "text": [
        " 2\n",
        "\n",
        "Gurobi status="
       ]
      },
      {
       "output_type": "stream",
       "stream": "stderr",
       "text": [
        " 0.187810897827\n",
        "SOLVE LP:"
       ]
      },
      {
       "output_type": "stream",
       "stream": "stderr",
       "text": [
        " 0.0779268741608\n",
        "BUILD HYPERGRAPH: 0.0202159881592\n",
        "BUILD POTENTIALS: 0.0166831016541\n",
        "BUILD LP:"
       ]
      },
      {
       "output_type": "stream",
       "stream": "stdout",
       "text": [
        " 2\n",
        "\n",
        "Gurobi status="
       ]
      },
      {
       "output_type": "stream",
       "stream": "stderr",
       "text": [
        " 0.186010837555\n",
        "SOLVE LP:"
       ]
      },
      {
       "output_type": "stream",
       "stream": "stderr",
       "text": [
        " 0.136193037033\n",
        "BUILD HYPERGRAPH: 0.0199239253998\n",
        "BUILD POTENTIALS: 0.0161681175232\n",
        "BUILD LP:"
       ]
      },
      {
       "output_type": "stream",
       "stream": "stdout",
       "text": [
        " 2\n",
        "\n",
        "Gurobi status="
       ]
      },
      {
       "output_type": "stream",
       "stream": "stderr",
       "text": [
        " 0.193712949753\n",
        "SOLVE LP:"
       ]
      },
      {
       "output_type": "stream",
       "stream": "stderr",
       "text": [
        " 0.0783460140228\n",
        "BUILD HYPERGRAPH: 0.0198237895966\n",
        "BUILD POTENTIALS: 0.0168831348419\n",
        "BUILD LP:"
       ]
      },
      {
       "output_type": "stream",
       "stream": "stdout",
       "text": [
        " 2\n",
        "\n",
        "Gurobi status="
       ]
      },
      {
       "output_type": "stream",
       "stream": "stderr",
       "text": [
        " 0.184977054596\n",
        "SOLVE LP:"
       ]
      },
      {
       "output_type": "stream",
       "stream": "stderr",
       "text": [
        " 0.137486934662\n",
        "BUILD HYPERGRAPH: 0.0202751159668\n",
        "BUILD POTENTIALS: 0.0174810886383\n",
        "BUILD LP:"
       ]
      },
      {
       "output_type": "stream",
       "stream": "stdout",
       "text": [
        " 2\n",
        "\n",
        "Gurobi status="
       ]
      },
      {
       "output_type": "stream",
       "stream": "stderr",
       "text": [
        " 0.187375068665\n",
        "SOLVE LP:"
       ]
      },
      {
       "output_type": "stream",
       "stream": "stderr",
       "text": [
        " 0.0740940570831\n",
        "BUILD HYPERGRAPH: 0.0201768875122\n",
        "BUILD POTENTIALS: 0.0166990756989\n",
        "BUILD LP:"
       ]
      },
      {
       "output_type": "stream",
       "stream": "stdout",
       "text": [
        " 2\n",
        "\n",
        "Gurobi status="
       ]
      },
      {
       "output_type": "stream",
       "stream": "stderr",
       "text": [
        " 0.194161891937\n",
        "SOLVE LP:"
       ]
      },
      {
       "output_type": "stream",
       "stream": "stderr",
       "text": [
        " 0.14506316185\n",
        "BUILD HYPERGRAPH: 0.00589895248413\n",
        "BUILD POTENTIALS: 0.00447201728821\n",
        "BUILD LP:"
       ]
      },
      {
       "output_type": "stream",
       "stream": "stdout",
       "text": [
        " 2\n",
        "\n",
        "Gurobi status="
       ]
      },
      {
       "output_type": "stream",
       "stream": "stderr",
       "text": [
        " 0.0525920391083\n",
        "SOLVE LP: 0.0227088928223\n",
        "BUILD HYPERGRAPH: 0.00612497329712\n",
        "BUILD POTENTIALS: 0.00471782684326\n",
        "BUILD LP:"
       ]
      },
      {
       "output_type": "stream",
       "stream": "stdout",
       "text": [
        " 2\n",
        "\n",
        "Gurobi status="
       ]
      },
      {
       "output_type": "stream",
       "stream": "stderr",
       "text": [
        " 0.0589230060577\n",
        "SOLVE LP: 0.0242111682892\n",
        "BUILD HYPERGRAPH:"
       ]
      },
      {
       "output_type": "stream",
       "stream": "stderr",
       "text": [
        " 0.0254778862\n",
        "BUILD POTENTIALS: 0.0175759792328\n",
        "BUILD LP:"
       ]
      },
      {
       "output_type": "stream",
       "stream": "stdout",
       "text": [
        " 2\n",
        "\n",
        "Gurobi status="
       ]
      },
      {
       "output_type": "stream",
       "stream": "stderr",
       "text": [
        " 0.186995029449\n",
        "SOLVE LP:"
       ]
      },
      {
       "output_type": "stream",
       "stream": "stderr",
       "text": [
        " 0.0761470794678\n",
        "BUILD HYPERGRAPH:"
       ]
      },
      {
       "output_type": "stream",
       "stream": "stderr",
       "text": [
        " 0.087014913559\n",
        "BUILD POTENTIALS: 0.018315076828\n",
        "BUILD LP:"
       ]
      },
      {
       "output_type": "stream",
       "stream": "stdout",
       "text": [
        " 2\n",
        "\n",
        "Gurobi status="
       ]
      },
      {
       "output_type": "stream",
       "stream": "stderr",
       "text": [
        " 0.188317060471\n",
        "SOLVE LP:"
       ]
      },
      {
       "output_type": "stream",
       "stream": "stderr",
       "text": [
        " 0.0852611064911\n",
        "BUILD HYPERGRAPH: 0.0201489925385\n",
        "BUILD POTENTIALS: 0.0176169872284\n",
        "BUILD LP:"
       ]
      },
      {
       "output_type": "stream",
       "stream": "stdout",
       "text": [
        " 2\n",
        "\n",
        "Gurobi status="
       ]
      },
      {
       "output_type": "stream",
       "stream": "stderr",
       "text": [
        " 0.245645046234\n",
        "SOLVE LP:"
       ]
      },
      {
       "output_type": "stream",
       "stream": "stderr",
       "text": [
        " 0.0731449127197\n",
        "BUILD HYPERGRAPH: 0.0198450088501\n",
        "BUILD POTENTIALS: 0.0174329280853\n",
        "BUILD LP:"
       ]
      },
      {
       "output_type": "stream",
       "stream": "stdout",
       "text": [
        " 2\n",
        "\n",
        "Gurobi status="
       ]
      },
      {
       "output_type": "stream",
       "stream": "stderr",
       "text": [
        " 0.185587882996\n",
        "SOLVE LP:"
       ]
      },
      {
       "output_type": "stream",
       "stream": "stderr",
       "text": [
        " 0.0732388496399\n",
        "BUILD HYPERGRAPH: 0.0203158855438\n",
        "BUILD POTENTIALS: 0.0165979862213\n",
        "BUILD LP:"
       ]
      },
      {
       "output_type": "stream",
       "stream": "stdout",
       "text": [
        " 2\n",
        "\n",
        "Gurobi status="
       ]
      },
      {
       "output_type": "stream",
       "stream": "stderr",
       "text": [
        " 0.252209186554\n",
        "SOLVE LP:"
       ]
      },
      {
       "output_type": "stream",
       "stream": "stderr",
       "text": [
        " 0.077586889267\n",
        "BUILD HYPERGRAPH: 0.0220592021942\n",
        "BUILD POTENTIALS: 0.017009973526\n",
        "BUILD LP:"
       ]
      },
      {
       "output_type": "stream",
       "stream": "stdout",
       "text": [
        " 2\n",
        "\n",
        "Gurobi status="
       ]
      },
      {
       "output_type": "stream",
       "stream": "stderr",
       "text": [
        " 0.187158107758\n",
        "SOLVE LP:"
       ]
      },
      {
       "output_type": "stream",
       "stream": "stderr",
       "text": [
        " 0.0755150318146\n",
        "BUILD HYPERGRAPH: 0.0202050209045\n",
        "BUILD POTENTIALS: 0.0165500640869\n",
        "BUILD LP:"
       ]
      },
      {
       "output_type": "stream",
       "stream": "stdout",
       "text": [
        " 2\n",
        "\n",
        "Gurobi status="
       ]
      },
      {
       "output_type": "stream",
       "stream": "stderr",
       "text": [
        " 0.250423192978\n",
        "SOLVE LP:"
       ]
      },
      {
       "output_type": "stream",
       "stream": "stderr",
       "text": [
        " 0.0792889595032\n",
        "BUILD HYPERGRAPH: 0.0221571922302\n",
        "BUILD POTENTIALS: 0.0165281295776\n",
        "BUILD LP:"
       ]
      },
      {
       "output_type": "stream",
       "stream": "stdout",
       "text": [
        " 2\n",
        "\n",
        "Gurobi status="
       ]
      },
      {
       "output_type": "stream",
       "stream": "stderr",
       "text": [
        " 0.187547206879\n",
        "SOLVE LP:"
       ]
      },
      {
       "output_type": "stream",
       "stream": "stderr",
       "text": [
        " 0.0764231681824\n",
        "BUILD HYPERGRAPH: 0.00115489959717\n",
        "BUILD POTENTIALS: 0.00094199180603\n",
        "BUILD LP: 0.010370016098\n",
        "SOLVE LP: 0.00519704818726\n",
        "BUILD HYPERGRAPH: 0.0205421447754\n",
        "BUILD POTENTIALS:"
       ]
      },
      {
       "output_type": "stream",
       "stream": "stderr",
       "text": [
        " 0.0185730457306\n",
        "BUILD LP:"
       ]
      },
      {
       "output_type": "stream",
       "stream": "stdout",
       "text": [
        " 2\n",
        "\n",
        "Gurobi status= 2\n",
        "\n",
        "Gurobi status="
       ]
      },
      {
       "output_type": "stream",
       "stream": "stderr",
       "text": [
        " 0.249235868454\n",
        "SOLVE LP:"
       ]
      },
      {
       "output_type": "stream",
       "stream": "stderr",
       "text": [
        " 0.0732860565186\n",
        "BUILD HYPERGRAPH: 0.0196120738983\n",
        "BUILD POTENTIALS: 0.0173370838165\n",
        "BUILD LP:"
       ]
      },
      {
       "output_type": "stream",
       "stream": "stdout",
       "text": [
        " 2\n",
        "\n",
        "Gurobi status="
       ]
      },
      {
       "output_type": "stream",
       "stream": "stderr",
       "text": [
        " 0.189372062683\n",
        "SOLVE LP:"
       ]
      },
      {
       "output_type": "stream",
       "stream": "stderr",
       "text": [
        " 0.0740170478821\n",
        "BUILD HYPERGRAPH: 0.0199820995331\n",
        "BUILD POTENTIALS: 0.017058134079\n",
        "BUILD LP:"
       ]
      },
      {
       "output_type": "stream",
       "stream": "stdout",
       "text": [
        " 2\n",
        "\n",
        "Gurobi status="
       ]
      },
      {
       "output_type": "stream",
       "stream": "stderr",
       "text": [
        " 0.249819993973\n",
        "SOLVE LP:"
       ]
      },
      {
       "output_type": "stream",
       "stream": "stderr",
       "text": [
        " 0.0888931751251\n",
        "BUILD HYPERGRAPH: 0.0201110839844\n",
        "BUILD POTENTIALS: 0.0164511203766\n",
        "BUILD LP:"
       ]
      },
      {
       "output_type": "stream",
       "stream": "stdout",
       "text": [
        " 2\n",
        "\n",
        "Gurobi status="
       ]
      },
      {
       "output_type": "stream",
       "stream": "stderr",
       "text": [
        " 0.183621883392\n",
        "SOLVE LP:"
       ]
      },
      {
       "output_type": "stream",
       "stream": "stderr",
       "text": [
        " 0.133769035339\n",
        "BUILD HYPERGRAPH: 0.0200569629669\n",
        "BUILD POTENTIALS: 0.0166609287262\n",
        "BUILD LP:"
       ]
      },
      {
       "output_type": "stream",
       "stream": "stdout",
       "text": [
        " 2\n",
        "\n",
        "Gurobi status="
       ]
      },
      {
       "output_type": "stream",
       "stream": "stderr",
       "text": [
        " 0.185680150986\n",
        "SOLVE LP:"
       ]
      },
      {
       "output_type": "stream",
       "stream": "stderr",
       "text": [
        " 0.0731449127197\n",
        "BUILD HYPERGRAPH: 0.0193719863892\n",
        "BUILD POTENTIALS: 0.0165190696716\n",
        "BUILD LP:"
       ]
      },
      {
       "output_type": "stream",
       "stream": "stdout",
       "text": [
        " 2\n",
        "\n",
        "Gurobi status="
       ]
      },
      {
       "output_type": "stream",
       "stream": "stderr",
       "text": [
        " 0.249151945114\n",
        "SOLVE LP:"
       ]
      },
      {
       "output_type": "stream",
       "stream": "stderr",
       "text": [
        " 0.075884103775\n",
        "BUILD HYPERGRAPH: 0.0196249485016\n",
        "BUILD POTENTIALS: 0.0169892311096\n",
        "BUILD LP:"
       ]
      },
      {
       "output_type": "stream",
       "stream": "stdout",
       "text": [
        " 2\n",
        "\n",
        "Gurobi status="
       ]
      },
      {
       "output_type": "stream",
       "stream": "stderr",
       "text": [
        " 0.185954809189\n",
        "SOLVE LP:"
       ]
      },
      {
       "output_type": "stream",
       "stream": "stderr",
       "text": [
        " 0.0802738666534\n",
        "BUILD HYPERGRAPH: 0.0216598510742\n",
        "BUILD POTENTIALS: 0.0172679424286\n",
        "BUILD LP:"
       ]
      },
      {
       "output_type": "stream",
       "stream": "stdout",
       "text": [
        " 2\n",
        "\n",
        "Gurobi status="
       ]
      },
      {
       "output_type": "stream",
       "stream": "stderr",
       "text": [
        " 0.251749038696\n",
        "SOLVE LP:"
       ]
      },
      {
       "output_type": "stream",
       "stream": "stderr",
       "text": [
        " 0.075975894928\n",
        "BUILD HYPERGRAPH: 0.0201420783997\n",
        "BUILD POTENTIALS: 0.0171370506287\n",
        "BUILD LP:"
       ]
      },
      {
       "output_type": "stream",
       "stream": "stdout",
       "text": [
        " 2\n",
        "\n",
        "Gurobi status="
       ]
      },
      {
       "output_type": "stream",
       "stream": "stderr",
       "text": [
        " 0.189344167709\n",
        "SOLVE LP:"
       ]
      },
      {
       "output_type": "stream",
       "stream": "stderr",
       "text": [
        " 0.0742530822754\n",
        "BUILD HYPERGRAPH: 0.0199809074402\n",
        "BUILD POTENTIALS: 0.0166029930115\n",
        "BUILD LP:"
       ]
      },
      {
       "output_type": "stream",
       "stream": "stdout",
       "text": [
        " 2\n",
        "\n",
        "Gurobi status="
       ]
      },
      {
       "output_type": "stream",
       "stream": "stderr",
       "text": [
        " 0.247047901154\n",
        "SOLVE LP:"
       ]
      },
      {
       "output_type": "stream",
       "stream": "stderr",
       "text": [
        " 0.0743179321289\n",
        "BUILD HYPERGRAPH: 0.0201869010925\n",
        "BUILD POTENTIALS: 0.0165541172028\n",
        "BUILD LP:"
       ]
      },
      {
       "output_type": "stream",
       "stream": "stdout",
       "text": [
        " 2\n",
        "\n",
        "Gurobi status="
       ]
      },
      {
       "output_type": "stream",
       "stream": "stderr",
       "text": [
        " 0.185423851013\n",
        "SOLVE LP:"
       ]
      },
      {
       "output_type": "stream",
       "stream": "stderr",
       "text": [
        " 0.0738408565521\n",
        "BUILD HYPERGRAPH: 0.0201349258423\n",
        "BUILD POTENTIALS: 0.0169830322266\n",
        "BUILD LP:"
       ]
      },
      {
       "output_type": "stream",
       "stream": "stdout",
       "text": [
        " 2\n",
        "\n",
        "Gurobi status="
       ]
      },
      {
       "output_type": "stream",
       "stream": "stderr",
       "text": [
        " 0.256186008453\n",
        "SOLVE LP:"
       ]
      },
      {
       "output_type": "stream",
       "stream": "stderr",
       "text": [
        " 0.0830280780792\n",
        "BUILD HYPERGRAPH: 0.0204808712006\n",
        "BUILD POTENTIALS: 0.0177619457245\n",
        "BUILD LP:"
       ]
      },
      {
       "output_type": "stream",
       "stream": "stdout",
       "text": [
        " 2\n",
        "\n",
        "Gurobi status="
       ]
      },
      {
       "output_type": "stream",
       "stream": "stderr",
       "text": [
        " 0.18813586235\n",
        "SOLVE LP:"
       ]
      },
      {
       "output_type": "stream",
       "stream": "stderr",
       "text": [
        " 0.0742101669312\n",
        "BUILD HYPERGRAPH:"
       ]
      },
      {
       "output_type": "stream",
       "stream": "stderr",
       "text": [
        " 0.0838267803192\n",
        "BUILD POTENTIALS: 0.0181379318237\n",
        "BUILD LP:"
       ]
      },
      {
       "output_type": "stream",
       "stream": "stdout",
       "text": [
        " 2\n",
        "\n",
        "Gurobi status="
       ]
      },
      {
       "output_type": "stream",
       "stream": "stderr",
       "text": [
        " 0.187068939209\n",
        "SOLVE LP:"
       ]
      },
      {
       "output_type": "stream",
       "stream": "stderr",
       "text": [
        " 0.0748429298401\n",
        "BUILD HYPERGRAPH: 0.00118112564087\n",
        "BUILD POTENTIALS: 0.000916004180908\n",
        "BUILD LP: 0.0104351043701\n",
        "SOLVE LP: 0.00475382804871\n",
        "BUILD HYPERGRAPH: 0.00568509101868\n",
        "BUILD POTENTIALS: 0.00462007522583\n",
        "BUILD LP:"
       ]
      },
      {
       "output_type": "stream",
       "stream": "stdout",
       "text": [
        " 2\n",
        "\n",
        "Gurobi status= 2\n",
        "\n",
        "Gurobi status="
       ]
      },
      {
       "output_type": "stream",
       "stream": "stderr",
       "text": [
        " 0.0590670108795\n",
        "SOLVE LP: 0.0224540233612\n",
        "BUILD HYPERGRAPH: 0.0227789878845\n",
        "BUILD POTENTIALS:"
       ]
      },
      {
       "output_type": "stream",
       "stream": "stderr",
       "text": [
        " 0.0174739360809\n",
        "BUILD LP:"
       ]
      },
      {
       "output_type": "stream",
       "stream": "stdout",
       "text": [
        " 2\n",
        "\n",
        "Gurobi status="
       ]
      },
      {
       "output_type": "stream",
       "stream": "stderr",
       "text": [
        " 0.256088972092\n",
        "SOLVE LP:"
       ]
      },
      {
       "output_type": "stream",
       "stream": "stderr",
       "text": [
        " 0.0761821269989\n",
        "BUILD HYPERGRAPH: 0.0201230049133\n",
        "BUILD POTENTIALS: 0.0176088809967\n",
        "BUILD LP:"
       ]
      },
      {
       "output_type": "stream",
       "stream": "stdout",
       "text": [
        " 2\n",
        "\n",
        "Gurobi status="
       ]
      },
      {
       "output_type": "stream",
       "stream": "stderr",
       "text": [
        " 0.185746192932\n",
        "SOLVE LP:"
       ]
      },
      {
       "output_type": "stream",
       "stream": "stderr",
       "text": [
        " 0.0733880996704\n",
        "BUILD HYPERGRAPH: 0.00566911697388\n",
        "BUILD POTENTIALS: 0.00475907325745\n",
        "BUILD LP:"
       ]
      },
      {
       "output_type": "stream",
       "stream": "stdout",
       "text": [
        " 2\n",
        "\n",
        "Gurobi status="
       ]
      },
      {
       "output_type": "stream",
       "stream": "stderr",
       "text": [
        " 0.0526008605957\n",
        "SOLVE LP: 0.022057056427\n",
        "BUILD HYPERGRAPH: 0.0207090377808\n",
        "BUILD POTENTIALS:"
       ]
      },
      {
       "output_type": "stream",
       "stream": "stderr",
       "text": [
        " 0.0168941020966\n",
        "BUILD LP:"
       ]
      },
      {
       "output_type": "stream",
       "stream": "stdout",
       "text": [
        " 2\n",
        "\n",
        "Gurobi status="
       ]
      },
      {
       "output_type": "stream",
       "stream": "stderr",
       "text": [
        " 0.250670909882\n",
        "SOLVE LP:"
       ]
      },
      {
       "output_type": "stream",
       "stream": "stderr",
       "text": [
        " 0.0762889385223\n",
        "BUILD HYPERGRAPH: 0.0200190544128\n",
        "BUILD POTENTIALS: 0.017245054245\n",
        "BUILD LP:"
       ]
      },
      {
       "output_type": "stream",
       "stream": "stdout",
       "text": [
        " 2\n",
        "\n",
        "Gurobi status="
       ]
      },
      {
       "output_type": "stream",
       "stream": "stderr",
       "text": [
        " 0.208635091782\n",
        "SOLVE LP:"
       ]
      },
      {
       "output_type": "stream",
       "stream": "stderr",
       "text": [
        " 0.0734119415283\n",
        "BUILD HYPERGRAPH:"
       ]
      },
      {
       "output_type": "stream",
       "stream": "stderr",
       "text": [
        " 0.0819838047028\n",
        "BUILD POTENTIALS: 0.0176010131836\n",
        "BUILD LP:"
       ]
      },
      {
       "output_type": "stream",
       "stream": "stdout",
       "text": [
        " 2\n",
        "\n",
        "Gurobi status="
       ]
      },
      {
       "output_type": "stream",
       "stream": "stderr",
       "text": [
        " 0.187242984772\n",
        "SOLVE LP:"
       ]
      },
      {
       "output_type": "stream",
       "stream": "stderr",
       "text": [
        " 0.0734689235687\n",
        "BUILD HYPERGRAPH: 0.00633907318115\n",
        "BUILD POTENTIALS: 0.00466418266296\n",
        "BUILD LP:"
       ]
      },
      {
       "output_type": "stream",
       "stream": "stdout",
       "text": [
        " 2\n",
        "\n",
        "Gurobi status="
       ]
      },
      {
       "output_type": "stream",
       "stream": "stderr",
       "text": [
        " 0.0537889003754\n",
        "SOLVE LP: 0.0222120285034\n",
        "BUILD HYPERGRAPH: 0.0217180252075\n",
        "BUILD POTENTIALS:"
       ]
      },
      {
       "output_type": "stream",
       "stream": "stderr",
       "text": [
        " 0.0173180103302\n",
        "BUILD LP:"
       ]
      },
      {
       "output_type": "stream",
       "stream": "stdout",
       "text": [
        " 2\n",
        "\n",
        "Gurobi status="
       ]
      },
      {
       "output_type": "stream",
       "stream": "stderr",
       "text": [
        " 0.250260829926\n",
        "SOLVE LP:"
       ]
      },
      {
       "output_type": "stream",
       "stream": "stderr",
       "text": [
        " 0.0733208656311\n",
        "BUILD HYPERGRAPH: 0.0293979644775\n",
        "BUILD POTENTIALS:"
       ]
      },
      {
       "output_type": "stream",
       "stream": "stderr",
       "text": [
        " 0.0248939990997\n",
        "BUILD LP:"
       ]
      },
      {
       "output_type": "stream",
       "stream": "stdout",
       "text": [
        " 2\n",
        "\n",
        "Gurobi status="
       ]
      },
      {
       "output_type": "stream",
       "stream": "stderr",
       "text": [
        " 0.187414884567\n",
        "SOLVE LP:"
       ]
      },
      {
       "output_type": "stream",
       "stream": "stderr",
       "text": [
        " 0.0748150348663\n",
        "BUILD HYPERGRAPH: 0.00568103790283\n",
        "BUILD POTENTIALS: 0.00446701049805\n",
        "BUILD LP:"
       ]
      },
      {
       "output_type": "stream",
       "stream": "stdout",
       "text": [
        " 2\n",
        "\n",
        "Gurobi status="
       ]
      },
      {
       "output_type": "stream",
       "stream": "stderr",
       "text": [
        " 0.0538830757141\n",
        "SOLVE LP: 0.0216109752655\n",
        "BUILD HYPERGRAPH:"
       ]
      },
      {
       "output_type": "stream",
       "stream": "stderr",
       "text": [
        " 0.0858218669891\n",
        "BUILD POTENTIALS: 0.0176658630371\n",
        "BUILD LP:"
       ]
      },
      {
       "output_type": "stream",
       "stream": "stdout",
       "text": [
        " 2\n",
        "\n",
        "Gurobi status="
       ]
      },
      {
       "output_type": "stream",
       "stream": "stderr",
       "text": [
        " 0.188997983932\n",
        "SOLVE LP:"
       ]
      },
      {
       "output_type": "stream",
       "stream": "stderr",
       "text": [
        " 0.0779278278351\n",
        "BUILD HYPERGRAPH: 0.0204360485077\n",
        "BUILD POTENTIALS: 0.0186488628387\n",
        "BUILD LP:"
       ]
      },
      {
       "output_type": "stream",
       "stream": "stdout",
       "text": [
        " 2\n",
        "\n",
        "Gurobi status="
       ]
      },
      {
       "output_type": "stream",
       "stream": "stderr",
       "text": [
        " 0.249216079712\n",
        "SOLVE LP:"
       ]
      },
      {
       "output_type": "stream",
       "stream": "stdout",
       "text": [
        " 2\n",
        "\n",
        "Gurobi status= 2\n",
        "\n",
        "Gurobi status="
       ]
      },
      {
       "output_type": "stream",
       "stream": "stderr",
       "text": [
        " 0.0726540088654\n",
        "BUILD HYPERGRAPH: 0.00128078460693\n",
        "BUILD POTENTIALS: 0.000935077667236\n",
        "BUILD LP: 0.0106828212738\n",
        "SOLVE LP: 0.00484585762024\n",
        "BUILD HYPERGRAPH: 0.00124001502991\n",
        "BUILD POTENTIALS: 0.00162220001221\n",
        "BUILD LP: 0.0111000537872\n",
        "SOLVE LP: 0.00531411170959\n",
        "BUILD HYPERGRAPH:"
       ]
      },
      {
       "output_type": "stream",
       "stream": "stderr",
       "text": [
        " 0.0224039554596\n",
        "BUILD POTENTIALS: 0.0185770988464\n",
        "BUILD LP:"
       ]
      },
      {
       "output_type": "stream",
       "stream": "stdout",
       "text": [
        " 2\n",
        "\n",
        "Gurobi status="
       ]
      },
      {
       "output_type": "stream",
       "stream": "stderr",
       "text": [
        " 0.185923099518\n",
        "SOLVE LP:"
       ]
      },
      {
       "output_type": "stream",
       "stream": "stderr",
       "text": [
        " 0.0707778930664\n",
        "BUILD HYPERGRAPH: 0.020045042038\n",
        "BUILD POTENTIALS: 0.0163209438324\n",
        "BUILD LP:"
       ]
      },
      {
       "output_type": "stream",
       "stream": "stdout",
       "text": [
        " 2\n",
        "\n",
        "Gurobi status="
       ]
      },
      {
       "output_type": "stream",
       "stream": "stderr",
       "text": [
        " 0.249217987061\n",
        "SOLVE LP:"
       ]
      },
      {
       "output_type": "stream",
       "stream": "stderr",
       "text": [
        " 0.0750679969788\n",
        "BUILD HYPERGRAPH: 0.00580191612244\n",
        "BUILD POTENTIALS: 0.00475597381592\n",
        "BUILD LP:"
       ]
      },
      {
       "output_type": "stream",
       "stream": "stdout",
       "text": [
        " 2\n",
        "\n",
        "Gurobi status="
       ]
      },
      {
       "output_type": "stream",
       "stream": "stderr",
       "text": [
        " 0.0533518791199\n",
        "SOLVE LP: 0.0219509601593\n",
        "BUILD HYPERGRAPH: 0.00119781494141\n",
        "BUILD POTENTIALS: 0.00100111961365\n",
        "BUILD LP: 0.0119459629059\n",
        "SOLVE LP: 0.00588607788086\n",
        "BUILD HYPERGRAPH:"
       ]
      },
      {
       "output_type": "stream",
       "stream": "stderr",
       "text": [
        " 0.02073097229\n",
        "BUILD POTENTIALS: 0.019119977951\n",
        "BUILD LP:"
       ]
      },
      {
       "output_type": "stream",
       "stream": "stdout",
       "text": [
        " 2\n",
        "\n",
        "Gurobi status= 2\n",
        "\n",
        "Gurobi status="
       ]
      },
      {
       "output_type": "stream",
       "stream": "stderr",
       "text": [
        " 0.19499206543\n",
        "SOLVE LP:"
       ]
      },
      {
       "output_type": "stream",
       "stream": "stderr",
       "text": [
        " 0.074786901474\n",
        "BUILD HYPERGRAPH:"
       ]
      },
      {
       "output_type": "stream",
       "stream": "stderr",
       "text": [
        " 0.0842008590698\n",
        "BUILD POTENTIALS: 0.017982006073\n",
        "BUILD LP:"
       ]
      },
      {
       "output_type": "stream",
       "stream": "stdout",
       "text": [
        " 2\n",
        "\n",
        "Gurobi status="
       ]
      },
      {
       "output_type": "stream",
       "stream": "stderr",
       "text": [
        " 0.185746192932\n",
        "SOLVE LP:"
       ]
      },
      {
       "output_type": "stream",
       "stream": "stderr",
       "text": [
        " 0.0724201202393\n",
        "BUILD HYPERGRAPH: 0.019935131073\n",
        "BUILD POTENTIALS: 0.0174388885498\n",
        "BUILD LP:"
       ]
      },
      {
       "output_type": "stream",
       "stream": "stdout",
       "text": [
        " 2\n",
        "\n",
        "Gurobi status="
       ]
      },
      {
       "output_type": "stream",
       "stream": "stderr",
       "text": [
        " 0.187809944153\n",
        "SOLVE LP:"
       ]
      },
      {
       "output_type": "stream",
       "stream": "stderr",
       "text": [
        " 0.132779121399\n",
        "BUILD HYPERGRAPH: 0.0201041698456\n",
        "BUILD POTENTIALS: 0.0171411037445\n",
        "BUILD LP:"
       ]
      },
      {
       "output_type": "stream",
       "stream": "stdout",
       "text": [
        " 2\n",
        "\n",
        "Gurobi status="
       ]
      },
      {
       "output_type": "stream",
       "stream": "stderr",
       "text": [
        " 0.193820953369\n",
        "SOLVE LP:"
       ]
      },
      {
       "output_type": "stream",
       "stream": "stderr",
       "text": [
        " 0.081974029541\n",
        "BUILD HYPERGRAPH: 0.0219919681549\n",
        "BUILD POTENTIALS: 0.0189998149872\n",
        "BUILD LP:"
       ]
      },
      {
       "output_type": "stream",
       "stream": "stdout",
       "text": [
        " 2\n",
        "\n",
        "Gurobi status="
       ]
      },
      {
       "output_type": "stream",
       "stream": "stderr",
       "text": [
        " 0.253664970398\n",
        "SOLVE LP:"
       ]
      },
      {
       "output_type": "stream",
       "stream": "stderr",
       "text": [
        " 0.0803990364075\n",
        "BUILD HYPERGRAPH: 0.0214848518372\n",
        "BUILD POTENTIALS: 0.01691198349\n",
        "BUILD LP:"
       ]
      },
      {
       "output_type": "stream",
       "stream": "stdout",
       "text": [
        " 2\n",
        "\n",
        "Gurobi status="
       ]
      },
      {
       "output_type": "stream",
       "stream": "stderr",
       "text": [
        " 0.189315080643\n",
        "SOLVE LP:"
       ]
      },
      {
       "output_type": "stream",
       "stream": "stderr",
       "text": [
        " 0.0750739574432\n",
        "BUILD HYPERGRAPH: 0.00110220909119\n",
        "BUILD POTENTIALS: 0.000886917114258\n",
        "BUILD LP: 0.0104010105133\n",
        "SOLVE LP: 0.00485706329346\n",
        "BUILD HYPERGRAPH: 0.0203330516815\n",
        "BUILD POTENTIALS:"
       ]
      },
      {
       "output_type": "stream",
       "stream": "stderr",
       "text": [
        " 0.0180349349976\n",
        "BUILD LP:"
       ]
      },
      {
       "output_type": "stream",
       "stream": "stdout",
       "text": [
        " 2\n",
        "\n",
        "Gurobi status= 2\n",
        "\n",
        "Gurobi status="
       ]
      },
      {
       "output_type": "stream",
       "stream": "stderr",
       "text": [
        " 0.281531095505\n",
        "SOLVE LP:"
       ]
      },
      {
       "output_type": "stream",
       "stream": "stderr",
       "text": [
        " 0.0737569332123\n",
        "BUILD HYPERGRAPH: 0.0199508666992\n",
        "BUILD POTENTIALS: 0.0167369842529\n",
        "BUILD LP:"
       ]
      },
      {
       "output_type": "stream",
       "stream": "stdout",
       "text": [
        " 2\n",
        "\n",
        "Gurobi status="
       ]
      },
      {
       "output_type": "stream",
       "stream": "stderr",
       "text": [
        " 0.185153007507\n",
        "SOLVE LP:"
       ]
      },
      {
       "output_type": "stream",
       "stream": "stderr",
       "text": [
        " 0.0730130672455\n",
        "BUILD HYPERGRAPH: 0.0206480026245\n",
        "BUILD POTENTIALS: 0.016478061676\n",
        "BUILD LP:"
       ]
      },
      {
       "output_type": "stream",
       "stream": "stdout",
       "text": [
        " 2\n",
        "\n",
        "Gurobi status="
       ]
      },
      {
       "output_type": "stream",
       "stream": "stderr",
       "text": [
        " 0.253859043121\n",
        "SOLVE LP:"
       ]
      },
      {
       "output_type": "stream",
       "stream": "stderr",
       "text": [
        " 0.0768020153046\n",
        "BUILD HYPERGRAPH: 0.0201399326324\n",
        "BUILD POTENTIALS: 0.0164790153503\n",
        "BUILD LP:"
       ]
      },
      {
       "output_type": "stream",
       "stream": "stdout",
       "text": [
        " 2\n",
        "\n",
        "Gurobi status="
       ]
      },
      {
       "output_type": "stream",
       "stream": "stderr",
       "text": [
        " 0.194488048553\n",
        "SOLVE LP:"
       ]
      },
      {
       "output_type": "stream",
       "stream": "stderr",
       "text": [
        " 0.0744588375092\n",
        "BUILD HYPERGRAPH: 0.0198340415955\n",
        "BUILD POTENTIALS: 0.0171349048615\n",
        "BUILD LP:"
       ]
      },
      {
       "output_type": "stream",
       "stream": "stdout",
       "text": [
        " 2\n",
        "\n",
        "Gurobi status="
       ]
      },
      {
       "output_type": "stream",
       "stream": "stderr",
       "text": [
        " 0.248049020767\n",
        "SOLVE LP:"
       ]
      },
      {
       "output_type": "stream",
       "stream": "stderr",
       "text": [
        " 0.0845000743866\n",
        "BUILD HYPERGRAPH: 0.0056939125061\n",
        "BUILD POTENTIALS: 0.00450682640076\n",
        "BUILD LP:"
       ]
      },
      {
       "output_type": "stream",
       "stream": "stdout",
       "text": [
        " 2\n",
        "\n",
        "Gurobi status="
       ]
      },
      {
       "output_type": "stream",
       "stream": "stderr",
       "text": [
        " 0.0556268692017\n",
        "SOLVE LP: 0.0222480297089\n",
        "BUILD HYPERGRAPH: 0.0011579990387\n",
        "BUILD POTENTIALS: 0.00092601776123\n",
        "BUILD LP: 0.0109119415283\n",
        "SOLVE LP: 0.00651884078979\n",
        "BUILD HYPERGRAPH:"
       ]
      },
      {
       "output_type": "stream",
       "stream": "stderr",
       "text": [
        " 0.00607419013977\n",
        "BUILD POTENTIALS: 0.00492596626282\n",
        "BUILD LP:"
       ]
      },
      {
       "output_type": "stream",
       "stream": "stdout",
       "text": [
        " 2\n",
        "\n",
        "Gurobi status= 2\n",
        "\n",
        "Gurobi status="
       ]
      },
      {
       "output_type": "stream",
       "stream": "stderr",
       "text": [
        " 0.0563130378723\n",
        "SOLVE LP: 0.0217430591583\n",
        "BUILD HYPERGRAPH: 0.00122809410095\n",
        "BUILD POTENTIALS: 0.00101399421692\n",
        "BUILD LP: 0.0108888149261\n",
        "SOLVE LP: 0.00597906112671\n",
        "BUILD HYPERGRAPH: 0.00112414360046\n",
        "BUILD POTENTIALS: 0.000939846038818\n",
        "BUILD LP:"
       ]
      },
      {
       "output_type": "stream",
       "stream": "stdout",
       "text": [
        " 2\n",
        "\n",
        "Gurobi status= 2\n",
        "\n",
        "Gurobi status= 2\n",
        "\n",
        "Gurobi status="
       ]
      },
      {
       "output_type": "stream",
       "stream": "stderr",
       "text": [
        " 0.0107581615448\n",
        "SOLVE LP: 0.00509190559387\n",
        "BUILD HYPERGRAPH: 0.00105404853821\n",
        "BUILD POTENTIALS: 0.000893115997314\n",
        "BUILD LP: 0.0132930278778\n",
        "SOLVE LP: 0.00594902038574\n",
        "BUILD HYPERGRAPH: 0.00120210647583\n",
        "BUILD POTENTIALS: 0.00103092193604\n",
        "BUILD LP: 0.0109341144562\n",
        "SOLVE LP: 0.00589799880981\n",
        "BUILD HYPERGRAPH:"
       ]
      },
      {
       "output_type": "stream",
       "stream": "stderr",
       "text": [
        " 0.022047996521\n",
        "BUILD POTENTIALS: 0.0203499794006\n",
        "BUILD LP:"
       ]
      },
      {
       "output_type": "stream",
       "stream": "stdout",
       "text": [
        " 2\n",
        "\n",
        "Gurobi status= 2\n",
        "\n",
        "Gurobi status="
       ]
      },
      {
       "output_type": "stream",
       "stream": "stderr",
       "text": [
        " 0.262084960938\n",
        "SOLVE LP:"
       ]
      },
      {
       "output_type": "stream",
       "stream": "stderr",
       "text": [
        " 0.0753779411316\n",
        "BUILD HYPERGRAPH: 0.0012640953064\n",
        "BUILD POTENTIALS: 0.000952005386353\n",
        "BUILD LP: 0.0112910270691\n",
        "SOLVE LP: 0.00474715232849\n",
        "BUILD HYPERGRAPH: 0.0206608772278\n",
        "BUILD POTENTIALS:"
       ]
      },
      {
       "output_type": "stream",
       "stream": "stderr",
       "text": [
        " 0.0211977958679\n",
        "BUILD LP:"
       ]
      },
      {
       "output_type": "stream",
       "stream": "stdout",
       "text": [
        " 2\n",
        "\n",
        "Gurobi status= 2\n",
        "\n",
        "Gurobi status="
       ]
      },
      {
       "output_type": "stream",
       "stream": "stderr",
       "text": [
        " 0.189178228378\n",
        "SOLVE LP:"
       ]
      },
      {
       "output_type": "stream",
       "stream": "stderr",
       "text": [
        " 0.0754928588867\n",
        "BUILD HYPERGRAPH: 0.00635004043579\n",
        "BUILD POTENTIALS: 0.00449705123901\n",
        "BUILD LP:"
       ]
      },
      {
       "output_type": "stream",
       "stream": "stdout",
       "text": [
        " 2\n",
        "\n",
        "Gurobi status="
       ]
      },
      {
       "output_type": "stream",
       "stream": "stderr",
       "text": [
        " 0.118468999863\n",
        "SOLVE LP: 0.0226609706879\n",
        "BUILD HYPERGRAPH: 0.0239181518555\n",
        "BUILD POTENTIALS:"
       ]
      },
      {
       "output_type": "stream",
       "stream": "stderr",
       "text": [
        " 0.017226934433\n",
        "BUILD LP:"
       ]
      },
      {
       "output_type": "stream",
       "stream": "stdout",
       "text": [
        " 2\n",
        "\n",
        "Gurobi status="
       ]
      },
      {
       "output_type": "stream",
       "stream": "stderr",
       "text": [
        " 0.189285039902\n",
        "SOLVE LP:"
       ]
      },
      {
       "output_type": "stream",
       "stream": "stderr",
       "text": [
        " 0.0821251869202\n",
        "BUILD HYPERGRAPH: 0.00116991996765\n",
        "BUILD POTENTIALS: 0.000993013381958\n",
        "BUILD LP: 0.0108458995819\n",
        "SOLVE LP: 0.00488805770874\n",
        "BUILD HYPERGRAPH: 0.0197598934174\n",
        "BUILD POTENTIALS:"
       ]
      },
      {
       "output_type": "stream",
       "stream": "stderr",
       "text": [
        " 0.0181210041046\n",
        "BUILD LP:"
       ]
      },
      {
       "output_type": "stream",
       "stream": "stdout",
       "text": [
        " 2\n",
        "\n",
        "Gurobi status= 2\n",
        "\n",
        "Gurobi status="
       ]
      },
      {
       "output_type": "stream",
       "stream": "stderr",
       "text": [
        " 0.269740104675\n",
        "SOLVE LP:"
       ]
      },
      {
       "output_type": "stream",
       "stream": "stderr",
       "text": [
        " 0.0777270793915\n",
        "BUILD HYPERGRAPH: 0.0207118988037\n",
        "BUILD POTENTIALS: 0.0167589187622\n",
        "BUILD LP:"
       ]
      },
      {
       "output_type": "stream",
       "stream": "stdout",
       "text": [
        " 2\n",
        "\n",
        "Gurobi status="
       ]
      },
      {
       "output_type": "stream",
       "stream": "stderr",
       "text": [
        " 0.191854000092\n",
        "SOLVE LP:"
       ]
      },
      {
       "output_type": "stream",
       "stream": "stderr",
       "text": [
        " 0.0765540599823\n",
        "BUILD HYPERGRAPH: 0.0200870037079\n",
        "BUILD POTENTIALS: 0.017098903656\n",
        "BUILD LP:"
       ]
      },
      {
       "output_type": "stream",
       "stream": "stdout",
       "text": [
        " 2\n",
        "\n",
        "Gurobi status="
       ]
      },
      {
       "output_type": "stream",
       "stream": "stderr",
       "text": [
        " 0.251678943634\n",
        "SOLVE LP:"
       ]
      },
      {
       "output_type": "stream",
       "stream": "stderr",
       "text": [
        " 0.0777139663696\n",
        "BUILD HYPERGRAPH: 0.00592708587646\n",
        "BUILD POTENTIALS: 0.00462794303894\n",
        "BUILD LP:"
       ]
      },
      {
       "output_type": "stream",
       "stream": "stdout",
       "text": [
        " 2\n",
        "\n",
        "Gurobi status="
       ]
      },
      {
       "output_type": "stream",
       "stream": "stderr",
       "text": [
        " 0.0598940849304\n",
        "SOLVE LP: 0.0267369747162\n",
        "BUILD HYPERGRAPH: 0.00623512268066\n",
        "BUILD POTENTIALS: 0.00469493865967\n",
        "BUILD LP:"
       ]
      },
      {
       "output_type": "stream",
       "stream": "stdout",
       "text": [
        " 2\n",
        "\n",
        "Gurobi status="
       ]
      },
      {
       "output_type": "stream",
       "stream": "stderr",
       "text": [
        " 0.0554010868073\n",
        "SOLVE LP: 0.0232529640198\n",
        "BUILD HYPERGRAPH: 0.00654006004333\n",
        "BUILD POTENTIALS: 0.00475406646729\n",
        "BUILD LP:"
       ]
      },
      {
       "output_type": "stream",
       "stream": "stdout",
       "text": [
        " 2\n",
        "\n",
        "Gurobi status="
       ]
      },
      {
       "output_type": "stream",
       "stream": "stderr",
       "text": [
        " 0.0546600818634\n",
        "SOLVE LP: 0.022176027298\n",
        "BUILD HYPERGRAPH: 0.00122809410095\n",
        "BUILD POTENTIALS: 0.0011100769043\n",
        "BUILD LP: 0.0107610225677\n",
        "SOLVE LP: 0.00555205345154\n",
        "BUILD HYPERGRAPH: 0.00112199783325\n",
        "BUILD POTENTIALS: 0.000998973846436\n",
        "BUILD LP:"
       ]
      },
      {
       "output_type": "stream",
       "stream": "stderr",
       "text": [
        " 0.0118641853333\n",
        "SOLVE LP: 0.00508093833923\n",
        "BUILD HYPERGRAPH: 0.00566387176514\n",
        "BUILD POTENTIALS: 0.00503206253052\n",
        "BUILD LP:"
       ]
      },
      {
       "output_type": "stream",
       "stream": "stdout",
       "text": [
        " 2\n",
        "\n",
        "Gurobi status= 2\n",
        "\n",
        "Gurobi status= 2\n",
        "\n",
        "Gurobi status="
       ]
      },
      {
       "output_type": "stream",
       "stream": "stderr",
       "text": [
        " 0.0561900138855\n",
        "SOLVE LP: 0.0224568843842\n",
        "BUILD HYPERGRAPH:"
       ]
      },
      {
       "output_type": "stream",
       "stream": "stderr",
       "text": [
        " 0.0888950824738\n",
        "BUILD POTENTIALS: 0.0203220844269\n",
        "BUILD LP:"
       ]
      },
      {
       "output_type": "stream",
       "stream": "stdout",
       "text": [
        " 2\n",
        "\n",
        "Gurobi status="
       ]
      },
      {
       "output_type": "stream",
       "stream": "stderr",
       "text": [
        " 0.20303606987\n",
        "SOLVE LP:"
       ]
      },
      {
       "output_type": "stream",
       "stream": "stderr",
       "text": [
        " 0.0850701332092\n",
        "BUILD HYPERGRAPH: 0.0235540866852\n",
        "BUILD POTENTIALS: 0.0176010131836\n",
        "BUILD LP:"
       ]
      },
      {
       "output_type": "stream",
       "stream": "stdout",
       "text": [
        " 2\n",
        "\n",
        "Gurobi status="
       ]
      },
      {
       "output_type": "stream",
       "stream": "stderr",
       "text": [
        " 0.202599048615\n",
        "SOLVE LP:"
       ]
      },
      {
       "output_type": "stream",
       "stream": "stderr",
       "text": [
        " 0.152109861374\n",
        "BUILD HYPERGRAPH: 0.0231921672821\n",
        "BUILD POTENTIALS: 0.0176539421082\n",
        "BUILD LP:"
       ]
      },
      {
       "output_type": "stream",
       "stream": "stdout",
       "text": [
        " 2\n",
        "\n",
        "Gurobi status="
       ]
      },
      {
       "output_type": "stream",
       "stream": "stderr",
       "text": [
        " 0.203996181488\n",
        "SOLVE LP:"
       ]
      },
      {
       "output_type": "stream",
       "stream": "stderr",
       "text": [
        " 0.0882818698883\n",
        "BUILD HYPERGRAPH: 0.0201098918915\n",
        "BUILD POTENTIALS: 0.0206599235535\n",
        "BUILD LP:"
       ]
      },
      {
       "output_type": "stream",
       "stream": "stdout",
       "text": [
        " 2\n",
        "\n",
        "Gurobi status="
       ]
      },
      {
       "output_type": "stream",
       "stream": "stderr",
       "text": [
        " 0.269194126129\n",
        "SOLVE LP:"
       ]
      },
      {
       "output_type": "stream",
       "stream": "stderr",
       "text": [
        " 0.0840518474579\n",
        "BUILD HYPERGRAPH: 0.0200209617615\n",
        "BUILD POTENTIALS: 0.0166029930115\n",
        "BUILD LP:"
       ]
      },
      {
       "output_type": "stream",
       "stream": "stdout",
       "text": [
        " 2\n",
        "\n",
        "Gurobi status="
       ]
      },
      {
       "output_type": "stream",
       "stream": "stderr",
       "text": [
        " 0.19962310791\n",
        "SOLVE LP:"
       ]
      },
      {
       "output_type": "stream",
       "stream": "stderr",
       "text": [
        " 0.0774619579315\n",
        "BUILD HYPERGRAPH: 0.0205249786377\n",
        "BUILD POTENTIALS: 0.0170409679413\n",
        "BUILD LP:"
       ]
      },
      {
       "output_type": "stream",
       "stream": "stdout",
       "text": [
        " 2\n",
        "\n",
        "Gurobi status="
       ]
      },
      {
       "output_type": "stream",
       "stream": "stderr",
       "text": [
        " 0.258071899414\n",
        "SOLVE LP:"
       ]
      },
      {
       "output_type": "stream",
       "stream": "stderr",
       "text": [
        " 0.0847141742706\n",
        "BUILD HYPERGRAPH: 0.0211369991302\n",
        "BUILD POTENTIALS: 0.017021894455\n",
        "BUILD LP:"
       ]
      },
      {
       "output_type": "stream",
       "stream": "stdout",
       "text": [
        " 2\n",
        "\n",
        "Gurobi status="
       ]
      },
      {
       "output_type": "stream",
       "stream": "stderr",
       "text": [
        " 0.204361200333\n",
        "SOLVE LP:"
       ]
      },
      {
       "output_type": "stream",
       "stream": "stderr",
       "text": [
        " 0.0741829872131\n",
        "BUILD HYPERGRAPH: 0.0201208591461\n",
        "BUILD POTENTIALS: 0.0176439285278\n",
        "BUILD LP:"
       ]
      },
      {
       "output_type": "stream",
       "stream": "stdout",
       "text": [
        " 2\n",
        "\n",
        "Gurobi status="
       ]
      },
      {
       "output_type": "stream",
       "stream": "stderr",
       "text": [
        " 0.257453918457\n",
        "SOLVE LP:"
       ]
      },
      {
       "output_type": "stream",
       "stream": "stderr",
       "text": [
        " 0.0766310691833\n",
        "BUILD HYPERGRAPH: 0.0233399868011\n",
        "BUILD POTENTIALS: 0.0165710449219\n",
        "BUILD LP:"
       ]
      },
      {
       "output_type": "stream",
       "stream": "stdout",
       "text": [
        " 2\n",
        "\n",
        "Gurobi status="
       ]
      },
      {
       "output_type": "stream",
       "stream": "stderr",
       "text": [
        " 0.201508998871\n",
        "SOLVE LP:"
       ]
      },
      {
       "output_type": "stream",
       "stream": "stderr",
       "text": [
        " 0.0727570056915\n",
        "BUILD HYPERGRAPH:"
       ]
      },
      {
       "output_type": "stream",
       "stream": "stderr",
       "text": [
        " 0.0816740989685\n",
        "BUILD POTENTIALS: 0.0176200866699\n",
        "BUILD LP:"
       ]
      },
      {
       "output_type": "stream",
       "stream": "stdout",
       "text": [
        " 2\n",
        "\n",
        "Gurobi status="
       ]
      },
      {
       "output_type": "stream",
       "stream": "stderr",
       "text": [
        " 0.18584394455\n",
        "SOLVE LP:"
       ]
      },
      {
       "output_type": "stream",
       "stream": "stderr",
       "text": [
        " 0.0758600234985\n",
        "BUILD HYPERGRAPH: 0.0199229717255\n",
        "BUILD POTENTIALS: 0.016548871994\n",
        "BUILD LP:"
       ]
      },
      {
       "output_type": "stream",
       "stream": "stdout",
       "text": [
        " 2\n",
        "\n",
        "Gurobi status="
       ]
      },
      {
       "output_type": "stream",
       "stream": "stderr",
       "text": [
        " 0.189656019211\n",
        "SOLVE LP:"
       ]
      },
      {
       "output_type": "stream",
       "stream": "stderr",
       "text": [
        " 0.13371014595\n",
        "BUILD HYPERGRAPH: 0.020201921463\n",
        "BUILD POTENTIALS: 0.0164589881897\n",
        "BUILD LP:"
       ]
      },
      {
       "output_type": "stream",
       "stream": "stdout",
       "text": [
        " 2\n",
        "\n",
        "Gurobi status="
       ]
      },
      {
       "output_type": "stream",
       "stream": "stderr",
       "text": [
        " 0.188780069351\n",
        "SOLVE LP:"
       ]
      },
      {
       "output_type": "stream",
       "stream": "stderr",
       "text": [
        " 0.0725338459015\n",
        "BUILD HYPERGRAPH: 0.0195758342743\n",
        "BUILD POTENTIALS: 0.0164389610291\n",
        "BUILD LP:"
       ]
      },
      {
       "output_type": "stream",
       "stream": "stdout",
       "text": [
        " 2\n",
        "\n",
        "Gurobi status="
       ]
      },
      {
       "output_type": "stream",
       "stream": "stderr",
       "text": [
        " 0.180928945541\n",
        "SOLVE LP:"
       ]
      },
      {
       "output_type": "stream",
       "stream": "stderr",
       "text": [
        " 0.134546995163\n",
        "BUILD HYPERGRAPH: 0.0204629898071\n",
        "BUILD POTENTIALS: 0.0170650482178\n",
        "BUILD LP:"
       ]
      },
      {
       "output_type": "stream",
       "stream": "stdout",
       "text": [
        " 2\n",
        "\n",
        "Gurobi status="
       ]
      },
      {
       "output_type": "stream",
       "stream": "stderr",
       "text": [
        " 0.194581031799\n",
        "SOLVE LP:"
       ]
      },
      {
       "output_type": "stream",
       "stream": "stderr",
       "text": [
        " 0.0728671550751\n",
        "BUILD HYPERGRAPH: 0.0202507972717\n",
        "BUILD POTENTIALS: 0.0166139602661\n",
        "BUILD LP:"
       ]
      },
      {
       "output_type": "stream",
       "stream": "stdout",
       "text": [
        " 2\n",
        "\n",
        "Gurobi status="
       ]
      },
      {
       "output_type": "stream",
       "stream": "stderr",
       "text": [
        " 0.195004940033\n",
        "SOLVE LP:"
       ]
      },
      {
       "output_type": "stream",
       "stream": "stderr",
       "text": [
        " 0.139436006546\n",
        "BUILD HYPERGRAPH: 0.00597405433655\n",
        "BUILD POTENTIALS: 0.00439190864563\n",
        "BUILD LP:"
       ]
      },
      {
       "output_type": "stream",
       "stream": "stdout",
       "text": [
        " 2\n",
        "\n",
        "Gurobi status="
       ]
      },
      {
       "output_type": "stream",
       "stream": "stderr",
       "text": [
        " 0.0527110099792\n",
        "SOLVE LP: 0.0227320194244\n",
        "BUILD HYPERGRAPH: 0.00576114654541\n",
        "BUILD POTENTIALS: 0.0044310092926\n",
        "BUILD LP:"
       ]
      },
      {
       "output_type": "stream",
       "stream": "stdout",
       "text": [
        " 2\n",
        "\n",
        "Gurobi status="
       ]
      },
      {
       "output_type": "stream",
       "stream": "stderr",
       "text": [
        " 0.0539858341217\n",
        "SOLVE LP: 0.0227298736572\n",
        "BUILD HYPERGRAPH: 0.0215249061584\n",
        "BUILD POTENTIALS:"
       ]
      },
      {
       "output_type": "stream",
       "stream": "stderr",
       "text": [
        " 0.0167200565338\n",
        "BUILD LP:"
       ]
      },
      {
       "output_type": "stream",
       "stream": "stdout",
       "text": [
        " 2\n",
        "\n",
        "Gurobi status="
       ]
      },
      {
       "output_type": "stream",
       "stream": "stderr",
       "text": [
        " 0.187200069427\n",
        "SOLVE LP:"
       ]
      },
      {
       "output_type": "stream",
       "stream": "stderr",
       "text": [
        " 0.0750389099121\n",
        "BUILD HYPERGRAPH:"
       ]
      },
      {
       "output_type": "stream",
       "stream": "stderr",
       "text": [
        " 0.0878171920776\n",
        "BUILD POTENTIALS: 0.0178780555725\n",
        "BUILD LP:"
       ]
      },
      {
       "output_type": "stream",
       "stream": "stdout",
       "text": [
        " 2\n",
        "\n",
        "Gurobi status="
       ]
      },
      {
       "output_type": "stream",
       "stream": "stderr",
       "text": [
        " 0.191640853882\n",
        "SOLVE LP:"
       ]
      },
      {
       "output_type": "stream",
       "stream": "stderr",
       "text": [
        " 0.0764081478119\n",
        "BUILD HYPERGRAPH: 0.0208008289337\n",
        "BUILD POTENTIALS: 0.0174219608307\n",
        "BUILD LP:"
       ]
      },
      {
       "output_type": "stream",
       "stream": "stdout",
       "text": [
        " 2\n",
        "\n",
        "Gurobi status="
       ]
      },
      {
       "output_type": "stream",
       "stream": "stderr",
       "text": [
        " 0.247151136398\n",
        "SOLVE LP:"
       ]
      },
      {
       "output_type": "stream",
       "stream": "stderr",
       "text": [
        " 0.0748229026794\n",
        "BUILD HYPERGRAPH: 0.0200221538544\n",
        "BUILD POTENTIALS: 0.0174140930176\n",
        "BUILD LP:"
       ]
      },
      {
       "output_type": "stream",
       "stream": "stdout",
       "text": [
        " 2\n",
        "\n",
        "Gurobi status="
       ]
      },
      {
       "output_type": "stream",
       "stream": "stderr",
       "text": [
        " 0.195791959763\n",
        "SOLVE LP:"
       ]
      },
      {
       "output_type": "stream",
       "stream": "stderr",
       "text": [
        " 0.0756020545959\n",
        "BUILD HYPERGRAPH: 0.0197908878326\n",
        "BUILD POTENTIALS: 0.016284942627\n",
        "BUILD LP:"
       ]
      },
      {
       "output_type": "stream",
       "stream": "stdout",
       "text": [
        " 2\n",
        "\n",
        "Gurobi status="
       ]
      },
      {
       "output_type": "stream",
       "stream": "stderr",
       "text": [
        " 0.253359079361\n",
        "SOLVE LP:"
       ]
      },
      {
       "output_type": "stream",
       "stream": "stderr",
       "text": [
        " 0.0751729011536\n",
        "BUILD HYPERGRAPH: 0.0204329490662\n",
        "BUILD POTENTIALS: 0.0171229839325\n",
        "BUILD LP:"
       ]
      },
      {
       "output_type": "stream",
       "stream": "stdout",
       "text": [
        " 2\n",
        "\n",
        "Gurobi status="
       ]
      },
      {
       "output_type": "stream",
       "stream": "stderr",
       "text": [
        " 0.186975002289\n",
        "SOLVE LP:"
       ]
      },
      {
       "output_type": "stream",
       "stream": "stderr",
       "text": [
        " 0.0757429599762\n",
        "BUILD HYPERGRAPH: 0.0203540325165\n",
        "BUILD POTENTIALS: 0.0169761180878\n",
        "BUILD LP:"
       ]
      },
      {
       "output_type": "stream",
       "stream": "stdout",
       "text": [
        " 2\n",
        "\n",
        "Gurobi status="
       ]
      },
      {
       "output_type": "stream",
       "stream": "stderr",
       "text": [
        " 0.262377023697\n",
        "SOLVE LP:"
       ]
      },
      {
       "output_type": "stream",
       "stream": "stderr",
       "text": [
        " 0.0746359825134\n",
        "BUILD HYPERGRAPH: 0.0203311443329\n",
        "BUILD POTENTIALS: 0.0164661407471\n",
        "BUILD LP:"
       ]
      },
      {
       "output_type": "stream",
       "stream": "stdout",
       "text": [
        " 2\n",
        "\n",
        "Gurobi status="
       ]
      },
      {
       "output_type": "stream",
       "stream": "stderr",
       "text": [
        " 0.191906929016\n",
        "SOLVE LP:"
       ]
      },
      {
       "output_type": "stream",
       "stream": "stderr",
       "text": [
        " 0.0752329826355\n",
        "BUILD HYPERGRAPH: 0.00113105773926\n",
        "BUILD POTENTIALS: 0.000890016555786\n",
        "BUILD LP: 0.010568857193\n",
        "SOLVE LP: 0.00470399856567\n",
        "BUILD HYPERGRAPH: 0.0199909210205\n",
        "BUILD POTENTIALS:"
       ]
      },
      {
       "output_type": "stream",
       "stream": "stderr",
       "text": [
        " 0.0206520557404\n",
        "BUILD LP:"
       ]
      },
      {
       "output_type": "stream",
       "stream": "stdout",
       "text": [
        " 2\n",
        "\n",
        "Gurobi status= 2\n",
        "\n",
        "Gurobi status="
       ]
      },
      {
       "output_type": "stream",
       "stream": "stderr",
       "text": [
        " 0.252948045731\n",
        "SOLVE LP:"
       ]
      },
      {
       "output_type": "stream",
       "stream": "stderr",
       "text": [
        " 0.0770030021667\n",
        "BUILD HYPERGRAPH: 0.0206551551819\n",
        "BUILD POTENTIALS: 0.0171999931335\n",
        "BUILD LP:"
       ]
      },
      {
       "output_type": "stream",
       "stream": "stdout",
       "text": [
        " 2\n",
        "\n",
        "Gurobi status="
       ]
      },
      {
       "output_type": "stream",
       "stream": "stderr",
       "text": [
        " 0.198631048203\n",
        "SOLVE LP:"
       ]
      },
      {
       "output_type": "stream",
       "stream": "stderr",
       "text": [
        " 0.0735960006714\n",
        "BUILD HYPERGRAPH: 0.0198981761932\n",
        "BUILD POTENTIALS: 0.0166621208191\n",
        "BUILD LP:"
       ]
      },
      {
       "output_type": "stream",
       "stream": "stdout",
       "text": [
        " 2\n",
        "\n",
        "Gurobi status="
       ]
      },
      {
       "output_type": "stream",
       "stream": "stderr",
       "text": [
        " 0.249194860458\n",
        "SOLVE LP:"
       ]
      },
      {
       "output_type": "stream",
       "stream": "stderr",
       "text": [
        " 0.0759558677673\n",
        "BUILD HYPERGRAPH: 0.0198650360107\n",
        "BUILD POTENTIALS: 0.0166039466858\n",
        "BUILD LP:"
       ]
      },
      {
       "output_type": "stream",
       "stream": "stdout",
       "text": [
        " 2\n",
        "\n",
        "Gurobi status="
       ]
      },
      {
       "output_type": "stream",
       "stream": "stderr",
       "text": [
        " 0.183893203735\n",
        "SOLVE LP:"
       ]
      },
      {
       "output_type": "stream",
       "stream": "stderr",
       "text": [
        " 0.133404970169\n",
        "BUILD HYPERGRAPH: 0.0200779438019\n",
        "BUILD POTENTIALS: 0.016909122467\n",
        "BUILD LP:"
       ]
      },
      {
       "output_type": "stream",
       "stream": "stdout",
       "text": [
        " 2\n",
        "\n",
        "Gurobi status="
       ]
      },
      {
       "output_type": "stream",
       "stream": "stderr",
       "text": [
        " 0.199361801147\n",
        "SOLVE LP:"
       ]
      },
      {
       "output_type": "stream",
       "stream": "stderr",
       "text": [
        " 0.0742359161377\n",
        "BUILD HYPERGRAPH: 0.0196828842163\n",
        "BUILD POTENTIALS: 0.0174949169159\n",
        "BUILD LP:"
       ]
      },
      {
       "output_type": "stream",
       "stream": "stdout",
       "text": [
        " 2\n",
        "\n",
        "Gurobi status="
       ]
      },
      {
       "output_type": "stream",
       "stream": "stderr",
       "text": [
        " 0.249172925949\n",
        "SOLVE LP:"
       ]
      },
      {
       "output_type": "stream",
       "stream": "stderr",
       "text": [
        " 0.0746800899506\n",
        "BUILD HYPERGRAPH: 0.0199568271637\n",
        "BUILD POTENTIALS: 0.0170798301697\n",
        "BUILD LP:"
       ]
      },
      {
       "output_type": "stream",
       "stream": "stdout",
       "text": [
        " 2\n",
        "\n",
        "Gurobi status="
       ]
      },
      {
       "output_type": "stream",
       "stream": "stderr",
       "text": [
        " 0.185221910477\n",
        "SOLVE LP:"
       ]
      },
      {
       "output_type": "stream",
       "stream": "stderr",
       "text": [
        " 0.0751450061798\n",
        "BUILD HYPERGRAPH: 0.0199580192566\n",
        "BUILD POTENTIALS: 0.0174069404602\n",
        "BUILD LP:"
       ]
      },
      {
       "output_type": "stream",
       "stream": "stdout",
       "text": [
        " 2\n",
        "\n",
        "Gurobi status="
       ]
      },
      {
       "output_type": "stream",
       "stream": "stderr",
       "text": [
        " 0.262334108353\n",
        "SOLVE LP:"
       ]
      },
      {
       "output_type": "stream",
       "stream": "stderr",
       "text": [
        " 0.0787661075592\n",
        "BUILD HYPERGRAPH: 0.0204730033875\n",
        "BUILD POTENTIALS: 0.0173258781433\n",
        "BUILD LP:"
       ]
      },
      {
       "output_type": "stream",
       "stream": "stdout",
       "text": [
        " 2\n",
        "\n",
        "Gurobi status="
       ]
      },
      {
       "output_type": "stream",
       "stream": "stderr",
       "text": [
        " 0.187399148941\n",
        "SOLVE LP:"
       ]
      },
      {
       "output_type": "stream",
       "stream": "stderr",
       "text": [
        " 0.0729968547821\n",
        "BUILD HYPERGRAPH: 0.0199890136719\n",
        "BUILD POTENTIALS: 0.0167851448059\n",
        "BUILD LP:"
       ]
      },
      {
       "output_type": "stream",
       "stream": "stdout",
       "text": [
        " 2\n",
        "\n",
        "Gurobi status="
       ]
      },
      {
       "output_type": "stream",
       "stream": "stderr",
       "text": [
        " 0.24850487709\n",
        "SOLVE LP:"
       ]
      },
      {
       "output_type": "stream",
       "stream": "stderr",
       "text": [
        " 0.0746240615845\n",
        "BUILD HYPERGRAPH: 0.0206680297852\n",
        "BUILD POTENTIALS: 0.0167980194092\n",
        "BUILD LP:"
       ]
      },
      {
       "output_type": "stream",
       "stream": "stdout",
       "text": [
        " 2\n",
        "\n",
        "Gurobi status="
       ]
      },
      {
       "output_type": "stream",
       "stream": "stderr",
       "text": [
        " 0.186716794968\n",
        "SOLVE LP:"
       ]
      },
      {
       "output_type": "stream",
       "stream": "stderr",
       "text": [
        " 0.0830512046814\n",
        "BUILD HYPERGRAPH: 0.0203928947449\n",
        "BUILD POTENTIALS: 0.0167989730835\n",
        "BUILD LP:"
       ]
      },
      {
       "output_type": "stream",
       "stream": "stdout",
       "text": [
        " 2\n",
        "\n",
        "Gurobi status="
       ]
      },
      {
       "output_type": "stream",
       "stream": "stderr",
       "text": [
        " 0.250040054321\n",
        "SOLVE LP:"
       ]
      },
      {
       "output_type": "stream",
       "stream": "stderr",
       "text": [
        " 0.0768458843231\n",
        "BUILD HYPERGRAPH: 0.0208899974823\n",
        "BUILD POTENTIALS: 0.018532037735\n",
        "BUILD LP:"
       ]
      },
      {
       "output_type": "stream",
       "stream": "stdout",
       "text": [
        " 2\n",
        "\n",
        "Gurobi status="
       ]
      },
      {
       "output_type": "stream",
       "stream": "stderr",
       "text": [
        " 0.189508914948\n",
        "SOLVE LP:"
       ]
      },
      {
       "output_type": "stream",
       "stream": "stderr",
       "text": [
        " 0.0737321376801\n",
        "BUILD HYPERGRAPH:"
       ]
      },
      {
       "output_type": "stream",
       "stream": "stderr",
       "text": [
        " 0.0827779769897\n",
        "BUILD POTENTIALS: 0.0180850028992\n",
        "BUILD LP:"
       ]
      },
      {
       "output_type": "stream",
       "stream": "stdout",
       "text": [
        " 2\n",
        "\n",
        "Gurobi status="
       ]
      },
      {
       "output_type": "stream",
       "stream": "stderr",
       "text": [
        " 0.187235116959\n",
        "SOLVE LP:"
       ]
      },
      {
       "output_type": "stream",
       "stream": "stderr",
       "text": [
        " 0.0785040855408\n",
        "BUILD HYPERGRAPH: 0.00110816955566\n",
        "BUILD POTENTIALS: 0.000882148742676\n",
        "BUILD LP: 0.0109350681305\n",
        "SOLVE LP: 0.00485491752625\n",
        "BUILD HYPERGRAPH: 0.00597620010376\n",
        "BUILD POTENTIALS: 0.00473785400391\n",
        "BUILD LP:"
       ]
      },
      {
       "output_type": "stream",
       "stream": "stdout",
       "text": [
        " 2\n",
        "\n",
        "Gurobi status= 2\n",
        "\n",
        "Gurobi status="
       ]
      },
      {
       "output_type": "stream",
       "stream": "stderr",
       "text": [
        " 0.0580558776855\n",
        "SOLVE LP: 0.0230541229248\n",
        "BUILD HYPERGRAPH: 0.0233280658722\n",
        "BUILD POTENTIALS:"
       ]
      },
      {
       "output_type": "stream",
       "stream": "stderr",
       "text": [
        " 0.0169260501862\n",
        "BUILD LP:"
       ]
      },
      {
       "output_type": "stream",
       "stream": "stdout",
       "text": [
        " 2\n",
        "\n",
        "Gurobi status="
       ]
      },
      {
       "output_type": "stream",
       "stream": "stderr",
       "text": [
        " 0.251688957214\n",
        "SOLVE LP:"
       ]
      },
      {
       "output_type": "stream",
       "stream": "stderr",
       "text": [
        " 0.0781478881836\n",
        "BUILD HYPERGRAPH: 0.0206260681152\n",
        "BUILD POTENTIALS: 0.0176250934601\n",
        "BUILD LP:"
       ]
      },
      {
       "output_type": "stream",
       "stream": "stdout",
       "text": [
        " 2\n",
        "\n",
        "Gurobi status="
       ]
      },
      {
       "output_type": "stream",
       "stream": "stderr",
       "text": [
        " 0.187889814377\n",
        "SOLVE LP:"
       ]
      },
      {
       "output_type": "stream",
       "stream": "stderr",
       "text": [
        " 0.0770499706268\n",
        "BUILD HYPERGRAPH: 0.0059859752655\n",
        "BUILD POTENTIALS: 0.00480699539185\n",
        "BUILD LP:"
       ]
      },
      {
       "output_type": "stream",
       "stream": "stdout",
       "text": [
        " 2\n",
        "\n",
        "Gurobi status="
       ]
      },
      {
       "output_type": "stream",
       "stream": "stderr",
       "text": [
        " 0.0537929534912\n",
        "SOLVE LP: 0.0233919620514\n",
        "BUILD HYPERGRAPH: 0.0221328735352\n",
        "BUILD POTENTIALS:"
       ]
      },
      {
       "output_type": "stream",
       "stream": "stderr",
       "text": [
        " 0.0253319740295\n",
        "BUILD LP:"
       ]
      },
      {
       "output_type": "stream",
       "stream": "stdout",
       "text": [
        " 2\n",
        "\n",
        "Gurobi status="
       ]
      },
      {
       "output_type": "stream",
       "stream": "stderr",
       "text": [
        " 0.254961013794\n",
        "SOLVE LP:"
       ]
      },
      {
       "output_type": "stream",
       "stream": "stderr",
       "text": [
        " 0.075325012207\n",
        "BUILD HYPERGRAPH: 0.0200009346008\n",
        "BUILD POTENTIALS: 0.0171439647675\n",
        "BUILD LP:"
       ]
      },
      {
       "output_type": "stream",
       "stream": "stdout",
       "text": [
        " 2\n",
        "\n",
        "Gurobi status="
       ]
      },
      {
       "output_type": "stream",
       "stream": "stderr",
       "text": [
        " 0.185030937195\n",
        "SOLVE LP:"
       ]
      },
      {
       "output_type": "stream",
       "stream": "stderr",
       "text": [
        " 0.0715851783752\n",
        "BUILD HYPERGRAPH:"
       ]
      },
      {
       "output_type": "stream",
       "stream": "stderr",
       "text": [
        " 0.0816581249237\n",
        "BUILD POTENTIALS: 0.0174419879913\n",
        "BUILD LP:"
       ]
      },
      {
       "output_type": "stream",
       "stream": "stdout",
       "text": [
        " 2\n",
        "\n",
        "Gurobi status="
       ]
      },
      {
       "output_type": "stream",
       "stream": "stderr",
       "text": [
        " 0.185417175293\n",
        "SOLVE LP:"
       ]
      },
      {
       "output_type": "stream",
       "stream": "stderr",
       "text": [
        " 0.0728459358215\n",
        "BUILD HYPERGRAPH: 0.00713109970093\n",
        "BUILD POTENTIALS: 0.00553894042969\n",
        "BUILD LP:"
       ]
      },
      {
       "output_type": "stream",
       "stream": "stdout",
       "text": [
        " 2\n",
        "\n",
        "Gurobi status="
       ]
      },
      {
       "output_type": "stream",
       "stream": "stderr",
       "text": [
        " 0.0536041259766\n",
        "SOLVE LP: 0.0218968391418\n",
        "BUILD HYPERGRAPH: 0.0213599205017\n",
        "BUILD POTENTIALS:"
       ]
      },
      {
       "output_type": "stream",
       "stream": "stderr",
       "text": [
        " 0.0171439647675\n",
        "BUILD LP:"
       ]
      },
      {
       "output_type": "stream",
       "stream": "stdout",
       "text": [
        " 2\n",
        "\n",
        "Gurobi status="
       ]
      },
      {
       "output_type": "stream",
       "stream": "stderr",
       "text": [
        " 0.247392892838\n",
        "SOLVE LP:"
       ]
      },
      {
       "output_type": "stream",
       "stream": "stderr",
       "text": [
        " 0.0730009078979\n",
        "BUILD HYPERGRAPH: 0.0202279090881\n",
        "BUILD POTENTIALS: 0.0167779922485\n",
        "BUILD LP:"
       ]
      },
      {
       "output_type": "stream",
       "stream": "stdout",
       "text": [
        " 2\n",
        "\n",
        "Gurobi status="
       ]
      },
      {
       "output_type": "stream",
       "stream": "stderr",
       "text": [
        " 0.189049005508\n",
        "SOLVE LP:"
       ]
      },
      {
       "output_type": "stream",
       "stream": "stderr",
       "text": [
        " 0.0769100189209\n",
        "BUILD HYPERGRAPH: 0.00548315048218\n",
        "BUILD POTENTIALS: 0.00445294380188\n",
        "BUILD LP:"
       ]
      },
      {
       "output_type": "stream",
       "stream": "stdout",
       "text": [
        " 2\n",
        "\n",
        "Gurobi status="
       ]
      },
      {
       "output_type": "stream",
       "stream": "stderr",
       "text": [
        " 0.0534620285034\n",
        "SOLVE LP: 0.0258178710938\n",
        "BUILD HYPERGRAPH:"
       ]
      },
      {
       "output_type": "stream",
       "stream": "stderr",
       "text": [
        " 0.0856070518494\n",
        "BUILD POTENTIALS: 0.0208411216736\n",
        "BUILD LP:"
       ]
      },
      {
       "output_type": "stream",
       "stream": "stdout",
       "text": [
        " 2\n",
        "\n",
        "Gurobi status="
       ]
      },
      {
       "output_type": "stream",
       "stream": "stderr",
       "text": [
        " 0.188488960266\n",
        "SOLVE LP:"
       ]
      },
      {
       "output_type": "stream",
       "stream": "stderr",
       "text": [
        " 0.0786120891571\n",
        "BUILD HYPERGRAPH: 0.0205309391022\n",
        "BUILD POTENTIALS: 0.017550945282\n",
        "BUILD LP:"
       ]
      },
      {
       "output_type": "stream",
       "stream": "stdout",
       "text": [
        " 2\n",
        "\n",
        "Gurobi status="
       ]
      },
      {
       "output_type": "stream",
       "stream": "stderr",
       "text": [
        " 0.244760036469\n",
        "SOLVE LP:"
       ]
      },
      {
       "output_type": "stream",
       "stream": "stdout",
       "text": [
        " 2\n",
        "\n",
        "Gurobi status= 2\n",
        "\n",
        "Gurobi status="
       ]
      },
      {
       "output_type": "stream",
       "stream": "stderr",
       "text": [
        " 0.0764260292053\n",
        "BUILD HYPERGRAPH: 0.00119686126709\n",
        "BUILD POTENTIALS: 0.000916957855225\n",
        "BUILD LP: 0.0105500221252\n",
        "SOLVE LP: 0.0048520565033\n",
        "BUILD HYPERGRAPH: 0.00147294998169\n",
        "BUILD POTENTIALS: 0.00096321105957\n",
        "BUILD LP: 0.0109021663666\n",
        "SOLVE LP: 0.00533580780029\n",
        "BUILD HYPERGRAPH:"
       ]
      },
      {
       "output_type": "stream",
       "stream": "stderr",
       "text": [
        " 0.0242311954498\n",
        "BUILD POTENTIALS: 0.019345998764\n",
        "BUILD LP:"
       ]
      },
      {
       "output_type": "stream",
       "stream": "stdout",
       "text": [
        " 2\n",
        "\n",
        "Gurobi status="
       ]
      },
      {
       "output_type": "stream",
       "stream": "stderr",
       "text": [
        " 0.186887979507\n",
        "SOLVE LP:"
       ]
      },
      {
       "output_type": "stream",
       "stream": "stderr",
       "text": [
        " 0.071161031723\n",
        "BUILD HYPERGRAPH: 0.0199341773987\n",
        "BUILD POTENTIALS: 0.0166079998016\n",
        "BUILD LP:"
       ]
      },
      {
       "output_type": "stream",
       "stream": "stdout",
       "text": [
        " 2\n",
        "\n",
        "Gurobi status="
       ]
      },
      {
       "output_type": "stream",
       "stream": "stderr",
       "text": [
        " 0.251853942871\n",
        "SOLVE LP:"
       ]
      },
      {
       "output_type": "stream",
       "stream": "stderr",
       "text": [
        " 0.0729229450226\n",
        "BUILD HYPERGRAPH: 0.00587487220764\n",
        "BUILD POTENTIALS: 0.00468111038208\n",
        "BUILD LP:"
       ]
      },
      {
       "output_type": "stream",
       "stream": "stdout",
       "text": [
        " 2\n",
        "\n",
        "Gurobi status="
       ]
      },
      {
       "output_type": "stream",
       "stream": "stderr",
       "text": [
        " 0.0537178516388\n",
        "SOLVE LP: 0.0246629714966\n",
        "BUILD HYPERGRAPH: 0.00105094909668\n",
        "BUILD POTENTIALS: 0.00089693069458\n",
        "BUILD LP: 0.0123529434204\n",
        "SOLVE LP: 0.00528216362\n",
        "BUILD HYPERGRAPH:"
       ]
      },
      {
       "output_type": "stream",
       "stream": "stderr",
       "text": [
        " 0.0204219818115\n",
        "BUILD POTENTIALS: 0.0214288234711\n",
        "BUILD LP:"
       ]
      },
      {
       "output_type": "stream",
       "stream": "stdout",
       "text": [
        " 2\n",
        "\n",
        "Gurobi status= 2\n",
        "\n",
        "Gurobi status="
       ]
      },
      {
       "output_type": "stream",
       "stream": "stderr",
       "text": [
        " 0.185745954514\n",
        "SOLVE LP:"
       ]
      },
      {
       "output_type": "stream",
       "stream": "stderr",
       "text": [
        " 0.0772769451141\n",
        "BUILD HYPERGRAPH:"
       ]
      },
      {
       "output_type": "stream",
       "stream": "stderr",
       "text": [
        " 0.0845019817352\n",
        "BUILD POTENTIALS: 0.0206599235535\n",
        "BUILD LP:"
       ]
      },
      {
       "output_type": "stream",
       "stream": "stdout",
       "text": [
        " 2\n",
        "\n",
        "Gurobi status="
       ]
      },
      {
       "output_type": "stream",
       "stream": "stderr",
       "text": [
        " 0.187428951263\n",
        "SOLVE LP:"
       ]
      },
      {
       "output_type": "stream",
       "stream": "stderr",
       "text": [
        " 0.0762910842896\n",
        "BUILD HYPERGRAPH: 0.0206289291382\n",
        "BUILD POTENTIALS: 0.0172109603882\n",
        "BUILD LP:"
       ]
      },
      {
       "output_type": "stream",
       "stream": "stdout",
       "text": [
        " 2\n",
        "\n",
        "Gurobi status="
       ]
      },
      {
       "output_type": "stream",
       "stream": "stderr",
       "text": [
        " 0.188352823257\n",
        "SOLVE LP:"
       ]
      },
      {
       "output_type": "stream",
       "stream": "stderr",
       "text": [
        " 0.137130975723\n",
        "BUILD HYPERGRAPH: 0.01997590065\n",
        "BUILD POTENTIALS: 0.0170669555664\n",
        "BUILD LP:"
       ]
      },
      {
       "output_type": "stream",
       "stream": "stdout",
       "text": [
        " 2\n",
        "\n",
        "Gurobi status="
       ]
      },
      {
       "output_type": "stream",
       "stream": "stderr",
       "text": [
        " 0.186393976212\n",
        "SOLVE LP:"
       ]
      },
      {
       "output_type": "stream",
       "stream": "stderr",
       "text": [
        " 0.0765328407288\n",
        "BUILD HYPERGRAPH: 0.0202240943909\n",
        "BUILD POTENTIALS: 0.0177631378174\n",
        "BUILD LP:"
       ]
      },
      {
       "output_type": "stream",
       "stream": "stdout",
       "text": [
        " 2\n",
        "\n",
        "Gurobi status="
       ]
      },
      {
       "output_type": "stream",
       "stream": "stderr",
       "text": [
        " 0.258769035339\n",
        "SOLVE LP:"
       ]
      },
      {
       "output_type": "stream",
       "stream": "stderr",
       "text": [
        " 0.0776309967041\n",
        "BUILD HYPERGRAPH: 0.0203211307526\n",
        "BUILD POTENTIALS: 0.0169749259949\n",
        "BUILD LP:"
       ]
      },
      {
       "output_type": "stream",
       "stream": "stdout",
       "text": [
        " 2\n",
        "\n",
        "Gurobi status="
       ]
      },
      {
       "output_type": "stream",
       "stream": "stderr",
       "text": [
        " 0.186998128891\n",
        "SOLVE LP:"
       ]
      },
      {
       "output_type": "stream",
       "stream": "stderr",
       "text": [
        " 0.077320098877\n",
        "BUILD HYPERGRAPH: 0.00115585327148\n",
        "BUILD POTENTIALS: 0.000910997390747\n",
        "BUILD LP: 0.0103678703308\n",
        "SOLVE LP: 0.00472521781921\n",
        "BUILD HYPERGRAPH: 0.0205199718475\n",
        "BUILD POTENTIALS:"
       ]
      },
      {
       "output_type": "stream",
       "stream": "stderr",
       "text": [
        " 0.0179238319397\n",
        "BUILD LP:"
       ]
      },
      {
       "output_type": "stream",
       "stream": "stdout",
       "text": [
        " 2\n",
        "\n",
        "Gurobi status= 2\n",
        "\n",
        "Gurobi status="
       ]
      },
      {
       "output_type": "stream",
       "stream": "stderr",
       "text": [
        " 0.25222492218\n",
        "SOLVE LP:"
       ]
      },
      {
       "output_type": "stream",
       "stream": "stderr",
       "text": [
        " 0.0777699947357\n",
        "BUILD HYPERGRAPH: 0.0204319953918\n",
        "BUILD POTENTIALS: 0.0165901184082\n",
        "BUILD LP:"
       ]
      },
      {
       "output_type": "stream",
       "stream": "stdout",
       "text": [
        " 2\n",
        "\n",
        "Gurobi status="
       ]
      },
      {
       "output_type": "stream",
       "stream": "stderr",
       "text": [
        " 0.191177845001\n",
        "SOLVE LP:"
       ]
      },
      {
       "output_type": "stream",
       "stream": "stderr",
       "text": [
        " 0.0772008895874\n",
        "BUILD HYPERGRAPH: 0.0201930999756\n",
        "BUILD POTENTIALS: 0.0166831016541\n",
        "BUILD LP:"
       ]
      },
      {
       "output_type": "stream",
       "stream": "stdout",
       "text": [
        " 2\n",
        "\n",
        "Gurobi status="
       ]
      },
      {
       "output_type": "stream",
       "stream": "stderr",
       "text": [
        " 0.249851942062\n",
        "SOLVE LP:"
       ]
      },
      {
       "output_type": "stream",
       "stream": "stderr",
       "text": [
        " 0.0784068107605\n",
        "BUILD HYPERGRAPH: 0.0204250812531\n",
        "BUILD POTENTIALS: 0.0161361694336\n",
        "BUILD LP:"
       ]
      },
      {
       "output_type": "stream",
       "stream": "stdout",
       "text": [
        " 2\n",
        "\n",
        "Gurobi status="
       ]
      },
      {
       "output_type": "stream",
       "stream": "stderr",
       "text": [
        " 0.185539960861\n",
        "SOLVE LP:"
       ]
      },
      {
       "output_type": "stream",
       "stream": "stderr",
       "text": [
        " 0.0774700641632\n",
        "BUILD HYPERGRAPH: 0.0203950405121\n",
        "BUILD POTENTIALS: 0.0168488025665\n",
        "BUILD LP:"
       ]
      },
      {
       "output_type": "stream",
       "stream": "stdout",
       "text": [
        " 2\n",
        "\n",
        "Gurobi status="
       ]
      },
      {
       "output_type": "stream",
       "stream": "stderr",
       "text": [
        " 0.261883020401\n",
        "SOLVE LP:"
       ]
      },
      {
       "output_type": "stream",
       "stream": "stderr",
       "text": [
        " 0.0802810192108\n",
        "BUILD HYPERGRAPH: 0.00579595565796\n",
        "BUILD POTENTIALS: 0.00500917434692\n",
        "BUILD LP:"
       ]
      },
      {
       "output_type": "stream",
       "stream": "stdout",
       "text": [
        " 2\n",
        "\n",
        "Gurobi status="
       ]
      },
      {
       "output_type": "stream",
       "stream": "stderr",
       "text": [
        " 0.0533668994904\n",
        "SOLVE LP: 0.0226101875305\n",
        "BUILD HYPERGRAPH: 0.00107979774475\n",
        "BUILD POTENTIALS: 0.000916004180908\n",
        "BUILD LP: 0.0111000537872\n",
        "SOLVE LP: 0.0058810710907\n",
        "BUILD HYPERGRAPH:"
       ]
      },
      {
       "output_type": "stream",
       "stream": "stderr",
       "text": [
        " 0.00616908073425\n",
        "BUILD POTENTIALS: 0.00499200820923\n",
        "BUILD LP:"
       ]
      },
      {
       "output_type": "stream",
       "stream": "stdout",
       "text": [
        " 2\n",
        "\n",
        "Gurobi status= 2\n",
        "\n",
        "Gurobi status="
       ]
      },
      {
       "output_type": "stream",
       "stream": "stderr",
       "text": [
        " 0.0551550388336\n",
        "SOLVE LP: 0.0224478244781\n",
        "BUILD HYPERGRAPH: 0.00110101699829\n",
        "BUILD POTENTIALS: 0.000900983810425\n",
        "BUILD LP: 0.0103378295898\n",
        "SOLVE LP: 0.00564289093018\n",
        "BUILD HYPERGRAPH: 0.00112104415894\n",
        "BUILD POTENTIALS: 0.000936031341553\n",
        "BUILD LP:"
       ]
      },
      {
       "output_type": "stream",
       "stream": "stdout",
       "text": [
        " 2\n",
        "\n",
        "Gurobi status= 2\n",
        "\n",
        "Gurobi status= 2\n",
        "\n",
        "Gurobi status="
       ]
      },
      {
       "output_type": "stream",
       "stream": "stderr",
       "text": [
        " 0.01083111763\n",
        "SOLVE LP: 0.00514101982117\n",
        "BUILD HYPERGRAPH: 0.00106406211853\n",
        "BUILD POTENTIALS: 0.00089693069458\n",
        "BUILD LP: 0.0129652023315\n",
        "SOLVE LP: 0.00520205497742\n",
        "BUILD HYPERGRAPH: 0.00113892555237\n",
        "BUILD POTENTIALS: 0.000971078872681\n",
        "BUILD LP: 0.0106840133667\n",
        "SOLVE LP: 0.0049729347229\n",
        "BUILD HYPERGRAPH:"
       ]
      },
      {
       "output_type": "stream",
       "stream": "stderr",
       "text": [
        " 0.0214288234711\n",
        "BUILD POTENTIALS: 0.0184459686279\n",
        "BUILD LP:"
       ]
      },
      {
       "output_type": "stream",
       "stream": "stdout",
       "text": [
        " 2\n",
        "\n",
        "Gurobi status= 2\n",
        "\n",
        "Gurobi status="
       ]
      },
      {
       "output_type": "stream",
       "stream": "stderr",
       "text": [
        " 0.246507167816\n",
        "SOLVE LP:"
       ]
      },
      {
       "output_type": "stream",
       "stream": "stderr",
       "text": [
        " 0.0727958679199\n",
        "BUILD HYPERGRAPH: 0.00123691558838\n",
        "BUILD POTENTIALS: 0.000924110412598\n",
        "BUILD LP: 0.0108790397644\n",
        "SOLVE LP: 0.0048520565033\n",
        "BUILD HYPERGRAPH: 0.0208101272583\n",
        "BUILD POTENTIALS:"
       ]
      },
      {
       "output_type": "stream",
       "stream": "stderr",
       "text": [
        " 0.0187511444092\n",
        "BUILD LP:"
       ]
      },
      {
       "output_type": "stream",
       "stream": "stdout",
       "text": [
        " 2\n",
        "\n",
        "Gurobi status= 2\n",
        "\n",
        "Gurobi status="
       ]
      },
      {
       "output_type": "stream",
       "stream": "stderr",
       "text": [
        " 0.188826084137\n",
        "SOLVE LP:"
       ]
      },
      {
       "output_type": "stream",
       "stream": "stdout",
       "text": [
        " 2\n",
        "\n"
       ]
      },
      {
       "output_type": "stream",
       "stream": "stderr",
       "text": [
        " 0.0747230052948\n"
       ]
      }
     ],
     "prompt_number": 27
    },
    {
     "cell_type": "code",
     "collapsed": false,
     "input": [
      "print \"loading test data\"\n",
      "testX = []\n",
      "\n",
      "for doc in test_apws:\n",
      "    if len(doc) > 7 or len(doc) < 3: continue\n",
      "    model = RushModel(doc, history=3, features=active_features)\n",
      "    testX.append(model)\n",
      "        \n",
      "print len(testX)"
     ],
     "language": "python",
     "metadata": {},
     "outputs": [
      {
       "output_type": "stream",
       "stream": "stdout",
       "text": [
        "loading test data\n",
        "98\n"
       ]
      }
     ],
     "prompt_number": 28
    },
    {
     "cell_type": "code",
     "collapsed": false,
     "input": [
      "ptron.dsm._use_relaxed = False\n",
      "print \"Predicting...\"\n",
      "predY = ptron.predict(testX)\n",
      "print \"done\""
     ],
     "language": "python",
     "metadata": {},
     "outputs": [
      {
       "output_type": "stream",
       "stream": "stderr",
       "text": [
        "BUILD HYPERGRAPH: 0.0814039707184\n",
        "BUILD POTENTIALS:"
       ]
      },
      {
       "output_type": "stream",
       "stream": "stderr",
       "text": [
        " 0.205488920212\n",
        "BUILD LP:"
       ]
      },
      {
       "output_type": "stream",
       "stream": "stdout",
       "text": [
        "Predicting...\n",
        "Gurobi status="
       ]
      },
      {
       "output_type": "stream",
       "stream": "stderr",
       "text": [
        " 0.185220003128\n",
        "SOLVE LP:"
       ]
      },
      {
       "output_type": "stream",
       "stream": "stderr",
       "text": [
        " 0.21977186203\n",
        "BUILD HYPERGRAPH: 0.0269298553467\n",
        "BUILD POTENTIALS:"
       ]
      },
      {
       "output_type": "stream",
       "stream": "stderr",
       "text": [
        " 0.140906095505\n",
        "BUILD LP:"
       ]
      },
      {
       "output_type": "stream",
       "stream": "stdout",
       "text": [
        " 2\n",
        "\n",
        "Gurobi status="
       ]
      },
      {
       "output_type": "stream",
       "stream": "stderr",
       "text": [
        " 0.184478998184\n",
        "SOLVE LP:"
       ]
      },
      {
       "output_type": "stream",
       "stream": "stderr",
       "text": [
        " 0.274198055267\n",
        "BUILD HYPERGRAPH: 0.0202422142029\n",
        "BUILD POTENTIALS:"
       ]
      },
      {
       "output_type": "stream",
       "stream": "stderr",
       "text": [
        " 0.149677991867\n",
        "BUILD LP:"
       ]
      },
      {
       "output_type": "stream",
       "stream": "stdout",
       "text": [
        " 2\n",
        "\n",
        "Gurobi status="
       ]
      },
      {
       "output_type": "stream",
       "stream": "stderr",
       "text": [
        " 0.18624997139\n",
        "SOLVE LP:"
       ]
      },
      {
       "output_type": "stream",
       "stream": "stderr",
       "text": [
        " 0.22065615654\n",
        "BUILD HYPERGRAPH: 0.0199420452118\n",
        "BUILD POTENTIALS:"
       ]
      },
      {
       "output_type": "stream",
       "stream": "stderr",
       "text": [
        " 0.15976190567\n",
        "BUILD LP:"
       ]
      },
      {
       "output_type": "stream",
       "stream": "stdout",
       "text": [
        " 2\n",
        "\n",
        "Gurobi status="
       ]
      },
      {
       "output_type": "stream",
       "stream": "stderr",
       "text": [
        " 0.183007001877\n",
        "SOLVE LP:"
       ]
      },
      {
       "output_type": "stream",
       "stream": "stdout",
       "text": [
        " 2\n",
        "\n"
       ]
      },
      {
       "output_type": "stream",
       "stream": "stderr",
       "text": [
        " 0.278433084488\n",
        "BUILD HYPERGRAPH: 0.0228571891785\n",
        "BUILD POTENTIALS:"
       ]
      },
      {
       "output_type": "stream",
       "stream": "stderr",
       "text": [
        " 0.110507011414\n",
        "BUILD LP:"
       ]
      },
      {
       "output_type": "stream",
       "stream": "stderr",
       "text": [
        " 0.194091081619\n",
        "SOLVE LP:"
       ]
      },
      {
       "output_type": "stream",
       "stream": "stderr",
       "text": [
        " 0.225795030594\n",
        "BUILD HYPERGRAPH: 0.0200459957123\n",
        "BUILD POTENTIALS:"
       ]
      },
      {
       "output_type": "stream",
       "stream": "stderr",
       "text": [
        " 0.116360902786\n",
        "BUILD LP:"
       ]
      },
      {
       "output_type": "stream",
       "stream": "stdout",
       "text": [
        "Gurobi status= 2\n",
        "\n",
        "Gurobi status="
       ]
      },
      {
       "output_type": "stream",
       "stream": "stderr",
       "text": [
        " 0.29473400116\n",
        "SOLVE LP:"
       ]
      },
      {
       "output_type": "stream",
       "stream": "stderr",
       "text": [
        " 0.234976053238\n",
        "BUILD HYPERGRAPH: 0.0203199386597\n",
        "BUILD POTENTIALS:"
       ]
      },
      {
       "output_type": "stream",
       "stream": "stderr",
       "text": [
        " 0.130875110626\n",
        "BUILD LP:"
       ]
      },
      {
       "output_type": "stream",
       "stream": "stdout",
       "text": [
        " 2\n",
        "\n",
        "Gurobi status="
       ]
      },
      {
       "output_type": "stream",
       "stream": "stderr",
       "text": [
        " 0.204332113266\n",
        "SOLVE LP:"
       ]
      },
      {
       "output_type": "stream",
       "stream": "stderr",
       "text": [
        " 0.244919061661\n",
        "BUILD HYPERGRAPH: 0.021418094635\n",
        "BUILD POTENTIALS:"
       ]
      },
      {
       "output_type": "stream",
       "stream": "stderr",
       "text": [
        " 0.117120027542\n",
        "BUILD LP:"
       ]
      },
      {
       "output_type": "stream",
       "stream": "stdout",
       "text": [
        " 2\n",
        "\n",
        "Gurobi status="
       ]
      },
      {
       "output_type": "stream",
       "stream": "stderr",
       "text": [
        " 0.252917051315\n",
        "SOLVE LP:"
       ]
      },
      {
       "output_type": "stream",
       "stream": "stderr",
       "text": [
        " 0.233085155487\n",
        "BUILD HYPERGRAPH: 0.0210418701172\n",
        "BUILD POTENTIALS:"
       ]
      },
      {
       "output_type": "stream",
       "stream": "stderr",
       "text": [
        " 0.0714089870453\n",
        "BUILD LP:"
       ]
      },
      {
       "output_type": "stream",
       "stream": "stdout",
       "text": [
        " 2\n",
        "\n",
        "Gurobi status="
       ]
      },
      {
       "output_type": "stream",
       "stream": "stderr",
       "text": [
        " 0.188664913177\n",
        "SOLVE LP:"
       ]
      },
      {
       "output_type": "stream",
       "stream": "stderr",
       "text": [
        " 0.227522134781\n",
        "BUILD HYPERGRAPH: 0.0204210281372\n",
        "BUILD POTENTIALS:"
       ]
      },
      {
       "output_type": "stream",
       "stream": "stderr",
       "text": [
        " 0.131141901016\n",
        "BUILD LP:"
       ]
      },
      {
       "output_type": "stream",
       "stream": "stdout",
       "text": [
        " 2\n",
        "\n",
        "Gurobi status="
       ]
      },
      {
       "output_type": "stream",
       "stream": "stderr",
       "text": [
        " 0.25155711174\n",
        "SOLVE LP:"
       ]
      },
      {
       "output_type": "stream",
       "stream": "stderr",
       "text": [
        " 0.228389978409\n",
        "BUILD HYPERGRAPH: 0.0200390815735\n",
        "BUILD POTENTIALS:"
       ]
      },
      {
       "output_type": "stream",
       "stream": "stderr",
       "text": [
        " 0.186814069748\n",
        "BUILD LP:"
       ]
      },
      {
       "output_type": "stream",
       "stream": "stdout",
       "text": [
        " 2\n",
        "\n",
        "Gurobi status="
       ]
      },
      {
       "output_type": "stream",
       "stream": "stderr",
       "text": [
        " 0.192714929581\n",
        "SOLVE LP:"
       ]
      },
      {
       "output_type": "stream",
       "stream": "stderr",
       "text": [
        " 0.24876499176\n",
        "BUILD HYPERGRAPH: 0.0211088657379\n",
        "BUILD POTENTIALS:"
       ]
      },
      {
       "output_type": "stream",
       "stream": "stderr",
       "text": [
        " 0.195509910583\n",
        "BUILD LP:"
       ]
      },
      {
       "output_type": "stream",
       "stream": "stdout",
       "text": [
        " 2\n",
        "\n",
        "Gurobi status="
       ]
      },
      {
       "output_type": "stream",
       "stream": "stderr",
       "text": [
        " 0.264941930771\n",
        "SOLVE LP:"
       ]
      },
      {
       "output_type": "stream",
       "stream": "stderr",
       "text": [
        " 0.233612060547\n",
        "BUILD HYPERGRAPH: 0.0212800502777\n",
        "BUILD POTENTIALS:"
       ]
      },
      {
       "output_type": "stream",
       "stream": "stderr",
       "text": [
        " 0.194140911102\n",
        "BUILD LP:"
       ]
      },
      {
       "output_type": "stream",
       "stream": "stdout",
       "text": [
        " 2\n",
        "\n",
        "Gurobi status="
       ]
      },
      {
       "output_type": "stream",
       "stream": "stderr",
       "text": [
        " 0.192404031754\n",
        "SOLVE LP:"
       ]
      },
      {
       "output_type": "stream",
       "stream": "stderr",
       "text": [
        " 0.235235929489\n",
        "BUILD HYPERGRAPH: 0.0197389125824\n",
        "BUILD POTENTIALS:"
       ]
      },
      {
       "output_type": "stream",
       "stream": "stderr",
       "text": [
        " 0.17712187767\n",
        "BUILD LP:"
       ]
      },
      {
       "output_type": "stream",
       "stream": "stdout",
       "text": [
        " 2\n",
        "\n",
        "Gurobi status="
       ]
      },
      {
       "output_type": "stream",
       "stream": "stderr",
       "text": [
        " 0.25041103363\n",
        "SOLVE LP:"
       ]
      },
      {
       "output_type": "stream",
       "stream": "stderr",
       "text": [
        " 0.219324111938\n",
        "BUILD HYPERGRAPH: 0.0205030441284\n",
        "BUILD POTENTIALS:"
       ]
      },
      {
       "output_type": "stream",
       "stream": "stderr",
       "text": [
        " 0.163024902344\n",
        "BUILD LP:"
       ]
      },
      {
       "output_type": "stream",
       "stream": "stdout",
       "text": [
        " 2\n",
        "\n",
        "Gurobi status="
       ]
      },
      {
       "output_type": "stream",
       "stream": "stderr",
       "text": [
        " 0.186013936996\n",
        "SOLVE LP:"
       ]
      },
      {
       "output_type": "stream",
       "stream": "stderr",
       "text": [
        " 0.28128194809\n",
        "BUILD HYPERGRAPH: 0.00586199760437\n",
        "BUILD POTENTIALS: 0.0167469978333\n",
        "BUILD LP:"
       ]
      },
      {
       "output_type": "stream",
       "stream": "stdout",
       "text": [
        " 2\n",
        "\n",
        "Gurobi status="
       ]
      },
      {
       "output_type": "stream",
       "stream": "stderr",
       "text": [
        " 0.0548758506775\n",
        "SOLVE LP:"
       ]
      },
      {
       "output_type": "stream",
       "stream": "stderr",
       "text": [
        " 0.0556018352509\n",
        "BUILD HYPERGRAPH: 0.0223078727722\n",
        "BUILD POTENTIALS:"
       ]
      },
      {
       "output_type": "stream",
       "stream": "stderr",
       "text": [
        " 0.0402510166168\n",
        "BUILD LP:"
       ]
      },
      {
       "output_type": "stream",
       "stream": "stdout",
       "text": [
        " 2\n",
        "\n",
        "Gurobi status="
       ]
      },
      {
       "output_type": "stream",
       "stream": "stderr",
       "text": [
        " 0.188874959946\n",
        "SOLVE LP:"
       ]
      },
      {
       "output_type": "stream",
       "stream": "stderr",
       "text": [
        " 0.218103170395\n",
        "BUILD HYPERGRAPH: 0.0198490619659\n",
        "BUILD POTENTIALS:"
       ]
      },
      {
       "output_type": "stream",
       "stream": "stderr",
       "text": [
        " 0.0375981330872\n",
        "BUILD LP:"
       ]
      },
      {
       "output_type": "stream",
       "stream": "stdout",
       "text": [
        " 2\n",
        "\n",
        "Gurobi status="
       ]
      },
      {
       "output_type": "stream",
       "stream": "stderr",
       "text": [
        " 0.249186038971\n",
        "SOLVE LP:"
       ]
      },
      {
       "output_type": "stream",
       "stream": "stderr",
       "text": [
        " 0.225685119629\n",
        "BUILD HYPERGRAPH: 0.0206110477448\n",
        "BUILD POTENTIALS:"
       ]
      },
      {
       "output_type": "stream",
       "stream": "stderr",
       "text": [
        " 0.0751581192017\n",
        "BUILD LP:"
       ]
      },
      {
       "output_type": "stream",
       "stream": "stdout",
       "text": [
        " 2\n",
        "\n",
        "Gurobi status="
       ]
      },
      {
       "output_type": "stream",
       "stream": "stderr",
       "text": [
        " 0.190818071365\n",
        "SOLVE LP:"
       ]
      },
      {
       "output_type": "stream",
       "stream": "stderr",
       "text": [
        " 0.218634128571\n",
        "BUILD HYPERGRAPH: 0.0209321975708\n",
        "BUILD POTENTIALS:"
       ]
      },
      {
       "output_type": "stream",
       "stream": "stderr",
       "text": [
        " 0.0965309143066\n",
        "BUILD LP:"
       ]
      },
      {
       "output_type": "stream",
       "stream": "stdout",
       "text": [
        " 2\n",
        "\n",
        "Gurobi status="
       ]
      },
      {
       "output_type": "stream",
       "stream": "stderr",
       "text": [
        " 0.259799957275\n",
        "SOLVE LP:"
       ]
      },
      {
       "output_type": "stream",
       "stream": "stderr",
       "text": [
        " 0.232111930847\n",
        "BUILD HYPERGRAPH: 0.0198638439178\n",
        "BUILD POTENTIALS:"
       ]
      },
      {
       "output_type": "stream",
       "stream": "stderr",
       "text": [
        " 0.0926249027252\n",
        "BUILD LP:"
       ]
      },
      {
       "output_type": "stream",
       "stream": "stdout",
       "text": [
        " 2\n",
        "\n",
        "Gurobi status="
       ]
      },
      {
       "output_type": "stream",
       "stream": "stderr",
       "text": [
        " 0.202794075012\n",
        "SOLVE LP:"
       ]
      },
      {
       "output_type": "stream",
       "stream": "stderr",
       "text": [
        " 0.226135015488\n",
        "BUILD HYPERGRAPH: 0.00583910942078\n",
        "BUILD POTENTIALS: 0.0286121368408\n",
        "BUILD LP:"
       ]
      },
      {
       "output_type": "stream",
       "stream": "stdout",
       "text": [
        " 2\n",
        "\n",
        "Gurobi status="
       ]
      },
      {
       "output_type": "stream",
       "stream": "stderr",
       "text": [
        " 0.119747161865\n",
        "SOLVE LP:"
       ]
      },
      {
       "output_type": "stream",
       "stream": "stderr",
       "text": [
        " 0.0567269325256\n",
        "BUILD HYPERGRAPH: 0.0227329730988\n",
        "BUILD POTENTIALS:"
       ]
      },
      {
       "output_type": "stream",
       "stream": "stderr",
       "text": [
        " 0.118546962738\n",
        "BUILD LP:"
       ]
      },
      {
       "output_type": "stream",
       "stream": "stdout",
       "text": [
        " 2\n",
        "\n",
        "Gurobi status="
       ]
      },
      {
       "output_type": "stream",
       "stream": "stderr",
       "text": [
        " 0.202983856201\n",
        "SOLVE LP:"
       ]
      },
      {
       "output_type": "stream",
       "stream": "stdout",
       "text": [
        " 2\n",
        "\n",
        "Gurobi status="
       ]
      },
      {
       "output_type": "stream",
       "stream": "stderr",
       "text": [
        " 0.267541885376\n",
        "BUILD HYPERGRAPH: 0.00123596191406\n",
        "BUILD POTENTIALS: 0.0237309932709\n",
        "BUILD LP: 0.013827085495\n",
        "SOLVE LP:"
       ]
      },
      {
       "output_type": "stream",
       "stream": "stderr",
       "text": [
        " 0.00803995132446\n",
        "BUILD HYPERGRAPH: 0.0244491100311\n",
        "BUILD POTENTIALS:"
       ]
      },
      {
       "output_type": "stream",
       "stream": "stderr",
       "text": [
        " 0.118782997131\n",
        "BUILD LP:"
       ]
      },
      {
       "output_type": "stream",
       "stream": "stdout",
       "text": [
        " 2\n",
        "\n",
        "Gurobi status="
       ]
      },
      {
       "output_type": "stream",
       "stream": "stderr",
       "text": [
        " 0.262636899948\n",
        "SOLVE LP:"
       ]
      },
      {
       "output_type": "stream",
       "stream": "stderr",
       "text": [
        " 0.218641996384\n",
        "BUILD HYPERGRAPH: 0.0204260349274\n",
        "BUILD POTENTIALS:"
       ]
      },
      {
       "output_type": "stream",
       "stream": "stderr",
       "text": [
        " 0.120111942291\n",
        "BUILD LP:"
       ]
      },
      {
       "output_type": "stream",
       "stream": "stdout",
       "text": [
        " 2\n",
        "\n",
        "Gurobi status="
       ]
      },
      {
       "output_type": "stream",
       "stream": "stderr",
       "text": [
        " 0.19385099411\n",
        "SOLVE LP:"
       ]
      },
      {
       "output_type": "stream",
       "stream": "stderr",
       "text": [
        " 0.217291116714\n",
        "BUILD HYPERGRAPH: 0.0196430683136\n",
        "BUILD POTENTIALS:"
       ]
      },
      {
       "output_type": "stream",
       "stream": "stderr",
       "text": [
        " 0.0786960124969\n",
        "BUILD LP:"
       ]
      },
      {
       "output_type": "stream",
       "stream": "stdout",
       "text": [
        " 2\n",
        "\n",
        "Gurobi status="
       ]
      },
      {
       "output_type": "stream",
       "stream": "stderr",
       "text": [
        " 0.251332044601\n",
        "SOLVE LP:"
       ]
      },
      {
       "output_type": "stream",
       "stream": "stderr",
       "text": [
        " 0.21817111969\n",
        "BUILD HYPERGRAPH: 0.0205888748169\n",
        "BUILD POTENTIALS:"
       ]
      },
      {
       "output_type": "stream",
       "stream": "stderr",
       "text": [
        " 0.0601508617401\n",
        "BUILD LP:"
       ]
      },
      {
       "output_type": "stream",
       "stream": "stdout",
       "text": [
        " 2\n",
        "\n",
        "Gurobi status="
       ]
      },
      {
       "output_type": "stream",
       "stream": "stderr",
       "text": [
        " 0.186257123947\n",
        "SOLVE LP:"
       ]
      },
      {
       "output_type": "stream",
       "stream": "stderr",
       "text": [
        " 0.217828035355\n",
        "BUILD HYPERGRAPH: 0.00575995445251\n",
        "BUILD POTENTIALS: 0.015303850174\n",
        "BUILD LP:"
       ]
      },
      {
       "output_type": "stream",
       "stream": "stdout",
       "text": [
        " 2\n",
        "\n",
        "Gurobi status="
       ]
      },
      {
       "output_type": "stream",
       "stream": "stderr",
       "text": [
        " 0.120882034302\n",
        "SOLVE LP:"
       ]
      },
      {
       "output_type": "stream",
       "stream": "stderr",
       "text": [
        " 0.0605020523071\n",
        "BUILD HYPERGRAPH: 0.0212187767029\n",
        "BUILD POTENTIALS:"
       ]
      },
      {
       "output_type": "stream",
       "stream": "stderr",
       "text": [
        " 0.0983581542969\n",
        "BUILD LP:"
       ]
      },
      {
       "output_type": "stream",
       "stream": "stdout",
       "text": [
        " 2\n",
        "\n",
        "Gurobi status="
       ]
      },
      {
       "output_type": "stream",
       "stream": "stderr",
       "text": [
        " 0.196776866913\n",
        "SOLVE LP:"
       ]
      },
      {
       "output_type": "stream",
       "stream": "stderr",
       "text": [
        " 0.219287157059\n",
        "BUILD HYPERGRAPH: 0.019984960556\n",
        "BUILD POTENTIALS:"
       ]
      },
      {
       "output_type": "stream",
       "stream": "stderr",
       "text": [
        " 0.0835480690002\n",
        "BUILD LP:"
       ]
      },
      {
       "output_type": "stream",
       "stream": "stdout",
       "text": [
        " 2\n",
        "\n",
        "Gurobi status="
       ]
      },
      {
       "output_type": "stream",
       "stream": "stderr",
       "text": [
        " 0.24702501297\n",
        "SOLVE LP:"
       ]
      },
      {
       "output_type": "stream",
       "stream": "stderr",
       "text": [
        " 0.221524953842\n",
        "BUILD HYPERGRAPH: 0.0196468830109\n",
        "BUILD POTENTIALS:"
       ]
      },
      {
       "output_type": "stream",
       "stream": "stderr",
       "text": [
        " 0.0883660316467\n",
        "BUILD LP:"
       ]
      },
      {
       "output_type": "stream",
       "stream": "stdout",
       "text": [
        " 2\n",
        "\n",
        "Gurobi status="
       ]
      },
      {
       "output_type": "stream",
       "stream": "stderr",
       "text": [
        " 0.19193816185\n",
        "SOLVE LP:"
       ]
      },
      {
       "output_type": "stream",
       "stream": "stderr",
       "text": [
        " 0.217314004898\n",
        "BUILD HYPERGRAPH: 0.00114011764526\n",
        "BUILD POTENTIALS: 0.0149450302124\n",
        "BUILD LP: 0.0105109214783\n",
        "SOLVE LP: 0.00562620162964\n",
        "BUILD HYPERGRAPH:"
       ]
      },
      {
       "output_type": "stream",
       "stream": "stderr",
       "text": [
        " 0.020397901535\n",
        "BUILD POTENTIALS:"
       ]
      },
      {
       "output_type": "stream",
       "stream": "stderr",
       "text": [
        " 0.0753490924835\n",
        "BUILD LP:"
       ]
      },
      {
       "output_type": "stream",
       "stream": "stdout",
       "text": [
        " 2\n",
        "\n",
        "Gurobi status= 2\n",
        "\n",
        "Gurobi status="
       ]
      },
      {
       "output_type": "stream",
       "stream": "stderr",
       "text": [
        " 0.249960899353\n",
        "SOLVE LP:"
       ]
      },
      {
       "output_type": "stream",
       "stream": "stderr",
       "text": [
        " 0.214836835861\n",
        "BUILD HYPERGRAPH: 0.019476890564\n",
        "BUILD POTENTIALS:"
       ]
      },
      {
       "output_type": "stream",
       "stream": "stderr",
       "text": [
        " 0.107167959213\n",
        "BUILD LP:"
       ]
      },
      {
       "output_type": "stream",
       "stream": "stdout",
       "text": [
        " 2\n",
        "\n",
        "Gurobi status="
       ]
      },
      {
       "output_type": "stream",
       "stream": "stderr",
       "text": [
        " 0.185092926025\n",
        "SOLVE LP:"
       ]
      },
      {
       "output_type": "stream",
       "stream": "stderr",
       "text": [
        " 0.215403079987\n",
        "BUILD HYPERGRAPH:"
       ]
      },
      {
       "output_type": "stream",
       "stream": "stderr",
       "text": [
        " 0.08092212677\n",
        "BUILD POTENTIALS:"
       ]
      },
      {
       "output_type": "stream",
       "stream": "stderr",
       "text": [
        " 0.198377132416\n",
        "BUILD LP:"
       ]
      },
      {
       "output_type": "stream",
       "stream": "stdout",
       "text": [
        " 2\n",
        "\n",
        "Gurobi status="
       ]
      },
      {
       "output_type": "stream",
       "stream": "stderr",
       "text": [
        " 0.185122013092\n",
        "SOLVE LP:"
       ]
      },
      {
       "output_type": "stream",
       "stream": "stderr",
       "text": [
        " 0.221568107605\n",
        "BUILD HYPERGRAPH: 0.0198500156403\n",
        "BUILD POTENTIALS:"
       ]
      },
      {
       "output_type": "stream",
       "stream": "stderr",
       "text": [
        " 0.0684959888458\n",
        "BUILD LP:"
       ]
      },
      {
       "output_type": "stream",
       "stream": "stdout",
       "text": [
        " 2\n",
        "\n",
        "Gurobi status="
       ]
      },
      {
       "output_type": "stream",
       "stream": "stderr",
       "text": [
        " 0.188761949539\n",
        "SOLVE LP:"
       ]
      },
      {
       "output_type": "stream",
       "stream": "stderr",
       "text": [
        " 0.277611970901\n",
        "BUILD HYPERGRAPH: 0.0202600955963\n",
        "BUILD POTENTIALS:"
       ]
      },
      {
       "output_type": "stream",
       "stream": "stderr",
       "text": [
        " 0.0826139450073\n",
        "BUILD LP:"
       ]
      },
      {
       "output_type": "stream",
       "stream": "stdout",
       "text": [
        " 2\n",
        "\n",
        "Gurobi status="
       ]
      },
      {
       "output_type": "stream",
       "stream": "stderr",
       "text": [
        " 0.185045957565\n",
        "SOLVE LP:"
       ]
      },
      {
       "output_type": "stream",
       "stream": "stderr",
       "text": [
        " 0.229254961014\n",
        "BUILD HYPERGRAPH: 0.0199918746948\n",
        "BUILD POTENTIALS:"
       ]
      },
      {
       "output_type": "stream",
       "stream": "stderr",
       "text": [
        " 0.082270860672\n",
        "BUILD LP:"
       ]
      },
      {
       "output_type": "stream",
       "stream": "stdout",
       "text": [
        " 2\n",
        "\n",
        "Gurobi status="
       ]
      },
      {
       "output_type": "stream",
       "stream": "stderr",
       "text": [
        " 0.183001995087\n",
        "SOLVE LP:"
       ]
      },
      {
       "output_type": "stream",
       "stream": "stdout",
       "text": [
        " 2\n",
        "\n"
       ]
      },
      {
       "output_type": "stream",
       "stream": "stderr",
       "text": [
        " 0.280097007751\n",
        "BUILD HYPERGRAPH: 0.0203230381012\n",
        "BUILD POTENTIALS:"
       ]
      },
      {
       "output_type": "stream",
       "stream": "stderr",
       "text": [
        " 0.123025178909\n",
        "BUILD LP:"
       ]
      },
      {
       "output_type": "stream",
       "stream": "stderr",
       "text": [
        " 0.188270807266\n",
        "SOLVE LP:"
       ]
      },
      {
       "output_type": "stream",
       "stream": "stderr",
       "text": [
        " 0.214966058731\n",
        "BUILD HYPERGRAPH: 0.0197250843048\n",
        "BUILD POTENTIALS:"
       ]
      },
      {
       "output_type": "stream",
       "stream": "stderr",
       "text": [
        " 0.0340521335602\n",
        "BUILD LP:"
       ]
      },
      {
       "output_type": "stream",
       "stream": "stdout",
       "text": [
        "Gurobi status= 2\n",
        "\n",
        "Gurobi status="
       ]
      },
      {
       "output_type": "stream",
       "stream": "stderr",
       "text": [
        " 0.249956130981\n",
        "SOLVE LP:"
       ]
      },
      {
       "output_type": "stream",
       "stream": "stderr",
       "text": [
        " 0.2165620327\n",
        "BUILD HYPERGRAPH: 0.00573301315308\n",
        "BUILD POTENTIALS:"
       ]
      },
      {
       "output_type": "stream",
       "stream": "stderr",
       "text": [
        " 0.0509469509125\n",
        "BUILD LP:"
       ]
      },
      {
       "output_type": "stream",
       "stream": "stdout",
       "text": [
        " 2\n",
        "\n",
        "Gurobi status="
       ]
      },
      {
       "output_type": "stream",
       "stream": "stderr",
       "text": [
        " 0.05415391922\n",
        "SOLVE LP:"
       ]
      },
      {
       "output_type": "stream",
       "stream": "stderr",
       "text": [
        " 0.0550870895386\n",
        "BUILD HYPERGRAPH: 0.00118803977966\n",
        "BUILD POTENTIALS: 0.0166828632355\n",
        "BUILD LP: 0.0123960971832\n",
        "SOLVE LP: 0.00606894493103\n",
        "BUILD HYPERGRAPH:"
       ]
      },
      {
       "output_type": "stream",
       "stream": "stderr",
       "text": [
        " 0.0224969387054\n",
        "BUILD POTENTIALS:"
       ]
      },
      {
       "output_type": "stream",
       "stream": "stderr",
       "text": [
        " 0.0679528713226\n",
        "BUILD LP:"
       ]
      },
      {
       "output_type": "stream",
       "stream": "stdout",
       "text": [
        " 2\n",
        "\n",
        "Gurobi status= 2\n",
        "\n",
        "Gurobi status="
       ]
      },
      {
       "output_type": "stream",
       "stream": "stderr",
       "text": [
        " 0.185785055161\n",
        "SOLVE LP:"
       ]
      },
      {
       "output_type": "stream",
       "stream": "stderr",
       "text": [
        " 0.219509124756\n",
        "BUILD HYPERGRAPH: 0.0216829776764\n",
        "BUILD POTENTIALS:"
       ]
      },
      {
       "output_type": "stream",
       "stream": "stderr",
       "text": [
        " 0.0575981140137\n",
        "BUILD LP:"
       ]
      },
      {
       "output_type": "stream",
       "stream": "stdout",
       "text": [
        " 2\n",
        "\n",
        "Gurobi status="
       ]
      },
      {
       "output_type": "stream",
       "stream": "stderr",
       "text": [
        " 0.247453927994\n",
        "SOLVE LP:"
       ]
      },
      {
       "output_type": "stream",
       "stream": "stdout",
       "text": [
        " 2\n",
        "\n",
        "Gurobi status="
       ]
      },
      {
       "output_type": "stream",
       "stream": "stderr",
       "text": [
        " 0.216310024261\n",
        "BUILD HYPERGRAPH: 0.00122117996216\n",
        "BUILD POTENTIALS: 0.0313260555267\n",
        "BUILD LP: 0.010684967041\n",
        "SOLVE LP:"
       ]
      },
      {
       "output_type": "stream",
       "stream": "stderr",
       "text": [
        " 0.00622320175171\n",
        "BUILD HYPERGRAPH: 0.0207159519196\n",
        "BUILD POTENTIALS:"
       ]
      },
      {
       "output_type": "stream",
       "stream": "stderr",
       "text": [
        " 0.0954830646515\n",
        "BUILD LP:"
       ]
      },
      {
       "output_type": "stream",
       "stream": "stdout",
       "text": [
        " 2\n",
        "\n",
        "Gurobi status="
       ]
      },
      {
       "output_type": "stream",
       "stream": "stderr",
       "text": [
        " 0.213506937027\n",
        "SOLVE LP:"
       ]
      },
      {
       "output_type": "stream",
       "stream": "stderr",
       "text": [
        " 0.280164957047\n",
        "BUILD HYPERGRAPH: 0.0201828479767\n",
        "BUILD POTENTIALS:"
       ]
      },
      {
       "output_type": "stream",
       "stream": "stderr",
       "text": [
        " 0.157892942429\n",
        "BUILD LP:"
       ]
      },
      {
       "output_type": "stream",
       "stream": "stdout",
       "text": [
        " 2\n",
        "\n",
        "Gurobi status="
       ]
      },
      {
       "output_type": "stream",
       "stream": "stderr",
       "text": [
        " 0.187544107437\n",
        "SOLVE LP:"
       ]
      },
      {
       "output_type": "stream",
       "stream": "stderr",
       "text": [
        " 0.215980052948\n",
        "BUILD HYPERGRAPH: 0.0195667743683\n",
        "BUILD POTENTIALS:"
       ]
      },
      {
       "output_type": "stream",
       "stream": "stderr",
       "text": [
        " 0.0576028823853\n",
        "BUILD LP:"
       ]
      },
      {
       "output_type": "stream",
       "stream": "stdout",
       "text": [
        " 2\n",
        "\n",
        "Gurobi status="
       ]
      },
      {
       "output_type": "stream",
       "stream": "stderr",
       "text": [
        " 0.249929189682\n",
        "SOLVE LP:"
       ]
      },
      {
       "output_type": "stream",
       "stream": "stderr",
       "text": [
        " 0.214749097824\n",
        "BUILD HYPERGRAPH: 0.0202219486237\n",
        "BUILD POTENTIALS:"
       ]
      },
      {
       "output_type": "stream",
       "stream": "stderr",
       "text": [
        " 0.0471878051758\n",
        "BUILD LP:"
       ]
      },
      {
       "output_type": "stream",
       "stream": "stdout",
       "text": [
        " 2\n",
        "\n",
        "Gurobi status="
       ]
      },
      {
       "output_type": "stream",
       "stream": "stderr",
       "text": [
        " 0.187853813171\n",
        "SOLVE LP:"
       ]
      },
      {
       "output_type": "stream",
       "stream": "stderr",
       "text": [
        " 0.21639919281\n",
        "BUILD HYPERGRAPH: 0.0202078819275\n",
        "BUILD POTENTIALS:"
       ]
      },
      {
       "output_type": "stream",
       "stream": "stderr",
       "text": [
        " 0.0843410491943\n",
        "BUILD LP:"
       ]
      },
      {
       "output_type": "stream",
       "stream": "stdout",
       "text": [
        " 2\n",
        "\n",
        "Gurobi status="
       ]
      },
      {
       "output_type": "stream",
       "stream": "stderr",
       "text": [
        " 0.250675916672\n",
        "SOLVE LP:"
       ]
      },
      {
       "output_type": "stream",
       "stream": "stderr",
       "text": [
        " 0.215542078018\n",
        "BUILD HYPERGRAPH: 0.0198829174042\n",
        "BUILD POTENTIALS:"
       ]
      },
      {
       "output_type": "stream",
       "stream": "stderr",
       "text": [
        " 0.113827943802\n",
        "BUILD LP:"
       ]
      },
      {
       "output_type": "stream",
       "stream": "stdout",
       "text": [
        " 2\n",
        "\n",
        "Gurobi status="
       ]
      },
      {
       "output_type": "stream",
       "stream": "stderr",
       "text": [
        " 0.186802148819\n",
        "SOLVE LP:"
       ]
      },
      {
       "output_type": "stream",
       "stream": "stderr",
       "text": [
        " 0.220057964325\n",
        "BUILD HYPERGRAPH: 0.0197999477386\n",
        "BUILD POTENTIALS:"
       ]
      },
      {
       "output_type": "stream",
       "stream": "stderr",
       "text": [
        " 0.110756158829\n",
        "BUILD LP:"
       ]
      },
      {
       "output_type": "stream",
       "stream": "stdout",
       "text": [
        " 2\n",
        "\n",
        "Gurobi status="
       ]
      },
      {
       "output_type": "stream",
       "stream": "stderr",
       "text": [
        " 0.248060941696\n",
        "SOLVE LP:"
       ]
      },
      {
       "output_type": "stream",
       "stream": "stderr",
       "text": [
        " 0.217860937119\n",
        "BUILD HYPERGRAPH: 0.0208079814911\n",
        "BUILD POTENTIALS:"
       ]
      },
      {
       "output_type": "stream",
       "stream": "stderr",
       "text": [
        " 0.0842189788818\n",
        "BUILD LP:"
       ]
      },
      {
       "output_type": "stream",
       "stream": "stdout",
       "text": [
        " 2\n",
        "\n",
        "Gurobi status="
       ]
      },
      {
       "output_type": "stream",
       "stream": "stderr",
       "text": [
        " 0.184810876846\n",
        "SOLVE LP:"
       ]
      },
      {
       "output_type": "stream",
       "stream": "stderr",
       "text": [
        " 0.217380046844\n",
        "BUILD HYPERGRAPH:"
       ]
      },
      {
       "output_type": "stream",
       "stream": "stderr",
       "text": [
        " 0.081029176712\n",
        "BUILD POTENTIALS:"
       ]
      },
      {
       "output_type": "stream",
       "stream": "stderr",
       "text": [
        " 0.0979800224304\n",
        "BUILD LP:"
       ]
      },
      {
       "output_type": "stream",
       "stream": "stdout",
       "text": [
        " 2\n",
        "\n",
        "Gurobi status="
       ]
      },
      {
       "output_type": "stream",
       "stream": "stderr",
       "text": [
        " 0.185507059097\n",
        "SOLVE LP:"
       ]
      },
      {
       "output_type": "stream",
       "stream": "stderr",
       "text": [
        " 0.218714952469\n",
        "BUILD HYPERGRAPH: 0.0198848247528\n",
        "BUILD POTENTIALS:"
       ]
      },
      {
       "output_type": "stream",
       "stream": "stderr",
       "text": [
        " 0.0893909931183\n",
        "BUILD LP:"
       ]
      },
      {
       "output_type": "stream",
       "stream": "stdout",
       "text": [
        " 2\n",
        "\n",
        "Gurobi status="
       ]
      },
      {
       "output_type": "stream",
       "stream": "stderr",
       "text": [
        " 0.183642864227\n",
        "SOLVE LP:"
       ]
      },
      {
       "output_type": "stream",
       "stream": "stderr",
       "text": [
        " 0.220380067825\n",
        "BUILD HYPERGRAPH:"
       ]
      },
      {
       "output_type": "stream",
       "stream": "stderr",
       "text": [
        " 0.0800998210907\n",
        "BUILD POTENTIALS:"
       ]
      },
      {
       "output_type": "stream",
       "stream": "stderr",
       "text": [
        " 0.124559164047\n",
        "BUILD LP:"
       ]
      },
      {
       "output_type": "stream",
       "stream": "stdout",
       "text": [
        " 2\n",
        "\n",
        "Gurobi status="
       ]
      },
      {
       "output_type": "stream",
       "stream": "stderr",
       "text": [
        " 0.185758829117\n",
        "SOLVE LP:"
       ]
      },
      {
       "output_type": "stream",
       "stream": "stderr",
       "text": [
        " 0.216969013214\n",
        "BUILD HYPERGRAPH: 0.0198140144348\n",
        "BUILD POTENTIALS:"
       ]
      },
      {
       "output_type": "stream",
       "stream": "stderr",
       "text": [
        " 0.0895102024078\n",
        "BUILD LP:"
       ]
      },
      {
       "output_type": "stream",
       "stream": "stdout",
       "text": [
        " 2\n",
        "\n",
        "Gurobi status="
       ]
      },
      {
       "output_type": "stream",
       "stream": "stderr",
       "text": [
        " 0.243055105209\n",
        "SOLVE LP:"
       ]
      },
      {
       "output_type": "stream",
       "stream": "stderr",
       "text": [
        " 0.224813938141\n",
        "BUILD HYPERGRAPH: 0.0197160243988\n",
        "BUILD POTENTIALS:"
       ]
      },
      {
       "output_type": "stream",
       "stream": "stderr",
       "text": [
        " 0.0611159801483\n",
        "BUILD LP:"
       ]
      },
      {
       "output_type": "stream",
       "stream": "stdout",
       "text": [
        " 2\n",
        "\n",
        "Gurobi status="
       ]
      },
      {
       "output_type": "stream",
       "stream": "stderr",
       "text": [
        " 0.186841011047\n",
        "SOLVE LP:"
       ]
      },
      {
       "output_type": "stream",
       "stream": "stderr",
       "text": [
        " 0.21621799469\n",
        "BUILD HYPERGRAPH: 0.0199489593506\n",
        "BUILD POTENTIALS:"
       ]
      },
      {
       "output_type": "stream",
       "stream": "stderr",
       "text": [
        " 0.0805459022522\n",
        "BUILD LP:"
       ]
      },
      {
       "output_type": "stream",
       "stream": "stdout",
       "text": [
        " 2\n",
        "\n",
        "Gurobi status="
       ]
      },
      {
       "output_type": "stream",
       "stream": "stderr",
       "text": [
        " 0.247547149658\n",
        "SOLVE LP:"
       ]
      },
      {
       "output_type": "stream",
       "stream": "stderr",
       "text": [
        " 0.220763921738\n",
        "BUILD HYPERGRAPH: 0.0196361541748\n",
        "BUILD POTENTIALS:"
       ]
      },
      {
       "output_type": "stream",
       "stream": "stderr",
       "text": [
        " 0.100409030914\n",
        "BUILD LP:"
       ]
      },
      {
       "output_type": "stream",
       "stream": "stdout",
       "text": [
        " 2\n",
        "\n",
        "Gurobi status="
       ]
      },
      {
       "output_type": "stream",
       "stream": "stderr",
       "text": [
        " 0.186705112457\n",
        "SOLVE LP:"
       ]
      },
      {
       "output_type": "stream",
       "stream": "stderr",
       "text": [
        " 0.215168952942\n",
        "BUILD HYPERGRAPH: 0.0200550556183\n",
        "BUILD POTENTIALS:"
       ]
      },
      {
       "output_type": "stream",
       "stream": "stderr",
       "text": [
        " 0.161422967911\n",
        "BUILD LP:"
       ]
      },
      {
       "output_type": "stream",
       "stream": "stdout",
       "text": [
        " 2\n",
        "\n",
        "Gurobi status="
       ]
      },
      {
       "output_type": "stream",
       "stream": "stderr",
       "text": [
        " 0.185220003128\n",
        "SOLVE LP:"
       ]
      },
      {
       "output_type": "stream",
       "stream": "stderr",
       "text": [
        " 0.220412015915\n",
        "BUILD HYPERGRAPH: 0.0198550224304\n",
        "BUILD POTENTIALS:"
       ]
      },
      {
       "output_type": "stream",
       "stream": "stderr",
       "text": [
        " 0.0737171173096\n",
        "BUILD LP:"
       ]
      },
      {
       "output_type": "stream",
       "stream": "stdout",
       "text": [
        " 2\n",
        "\n",
        "Gurobi status="
       ]
      },
      {
       "output_type": "stream",
       "stream": "stderr",
       "text": [
        " 0.184614896774\n",
        "SOLVE LP:"
       ]
      },
      {
       "output_type": "stream",
       "stream": "stdout",
       "text": [
        " 2\n",
        "\n"
       ]
      },
      {
       "output_type": "stream",
       "stream": "stderr",
       "text": [
        " 0.277310848236\n",
        "BUILD HYPERGRAPH: 0.0202329158783\n",
        "BUILD POTENTIALS:"
       ]
      },
      {
       "output_type": "stream",
       "stream": "stderr",
       "text": [
        " 0.123532056808\n",
        "BUILD LP:"
       ]
      },
      {
       "output_type": "stream",
       "stream": "stderr",
       "text": [
        " 0.194392204285\n",
        "SOLVE LP:"
       ]
      },
      {
       "output_type": "stream",
       "stream": "stderr",
       "text": [
        " 0.219702005386\n",
        "BUILD HYPERGRAPH: 0.0197868347168\n",
        "BUILD POTENTIALS:"
       ]
      },
      {
       "output_type": "stream",
       "stream": "stderr",
       "text": [
        " 0.0841128826141\n",
        "BUILD LP:"
       ]
      },
      {
       "output_type": "stream",
       "stream": "stdout",
       "text": [
        "Gurobi status= 2\n",
        "\n",
        "Gurobi status="
       ]
      },
      {
       "output_type": "stream",
       "stream": "stderr",
       "text": [
        " 0.247383117676\n",
        "SOLVE LP:"
       ]
      },
      {
       "output_type": "stream",
       "stream": "stderr",
       "text": [
        " 0.218752861023\n",
        "BUILD HYPERGRAPH: 0.019807100296\n",
        "BUILD POTENTIALS:"
       ]
      },
      {
       "output_type": "stream",
       "stream": "stderr",
       "text": [
        " 0.106295108795\n",
        "BUILD LP:"
       ]
      },
      {
       "output_type": "stream",
       "stream": "stdout",
       "text": [
        " 2\n",
        "\n",
        "Gurobi status="
       ]
      },
      {
       "output_type": "stream",
       "stream": "stderr",
       "text": [
        " 0.18514084816\n",
        "SOLVE LP:"
       ]
      },
      {
       "output_type": "stream",
       "stream": "stderr",
       "text": [
        " 0.22109913826\n",
        "BUILD HYPERGRAPH: 0.0202331542969\n",
        "BUILD POTENTIALS:"
       ]
      },
      {
       "output_type": "stream",
       "stream": "stderr",
       "text": [
        " 0.119153022766\n",
        "BUILD LP:"
       ]
      },
      {
       "output_type": "stream",
       "stream": "stdout",
       "text": [
        " 2\n",
        "\n",
        "Gurobi status="
       ]
      },
      {
       "output_type": "stream",
       "stream": "stderr",
       "text": [
        " 0.250286102295\n",
        "SOLVE LP:"
       ]
      },
      {
       "output_type": "stream",
       "stream": "stderr",
       "text": [
        " 0.216273069382\n",
        "BUILD HYPERGRAPH: 0.0200641155243\n",
        "BUILD POTENTIALS:"
       ]
      },
      {
       "output_type": "stream",
       "stream": "stderr",
       "text": [
        " 0.0922920703888\n",
        "BUILD LP:"
       ]
      },
      {
       "output_type": "stream",
       "stream": "stdout",
       "text": [
        " 2\n",
        "\n",
        "Gurobi status="
       ]
      },
      {
       "output_type": "stream",
       "stream": "stderr",
       "text": [
        " 0.188559055328\n",
        "SOLVE LP:"
       ]
      },
      {
       "output_type": "stream",
       "stream": "stderr",
       "text": [
        " 0.21614408493\n",
        "BUILD HYPERGRAPH: 0.0201408863068\n",
        "BUILD POTENTIALS:"
       ]
      },
      {
       "output_type": "stream",
       "stream": "stderr",
       "text": [
        " 0.0927350521088\n",
        "BUILD LP:"
       ]
      },
      {
       "output_type": "stream",
       "stream": "stdout",
       "text": [
        " 2\n",
        "\n",
        "Gurobi status="
       ]
      },
      {
       "output_type": "stream",
       "stream": "stderr",
       "text": [
        " 0.249723911285\n",
        "SOLVE LP:"
       ]
      },
      {
       "output_type": "stream",
       "stream": "stderr",
       "text": [
        " 0.216618061066\n",
        "BUILD HYPERGRAPH: 0.00565218925476\n",
        "BUILD POTENTIALS:"
       ]
      },
      {
       "output_type": "stream",
       "stream": "stderr",
       "text": [
        " 0.0500841140747\n",
        "BUILD LP:"
       ]
      },
      {
       "output_type": "stream",
       "stream": "stdout",
       "text": [
        " 2\n",
        "\n",
        "Gurobi status="
       ]
      },
      {
       "output_type": "stream",
       "stream": "stderr",
       "text": [
        " 0.0538158416748\n",
        "SOLVE LP:"
       ]
      },
      {
       "output_type": "stream",
       "stream": "stderr",
       "text": [
        " 0.0566091537476\n",
        "BUILD HYPERGRAPH: 0.0216069221497\n",
        "BUILD POTENTIALS:"
       ]
      },
      {
       "output_type": "stream",
       "stream": "stderr",
       "text": [
        " 0.0684068202972\n",
        "BUILD LP:"
       ]
      },
      {
       "output_type": "stream",
       "stream": "stdout",
       "text": [
        " 2\n",
        "\n",
        "Gurobi status="
       ]
      },
      {
       "output_type": "stream",
       "stream": "stderr",
       "text": [
        " 0.19468998909\n",
        "SOLVE LP:"
       ]
      },
      {
       "output_type": "stream",
       "stream": "stderr",
       "text": [
        " 0.279836177826\n",
        "BUILD HYPERGRAPH: 0.0199429988861\n",
        "BUILD POTENTIALS:"
       ]
      },
      {
       "output_type": "stream",
       "stream": "stderr",
       "text": [
        " 0.0794780254364\n",
        "BUILD LP:"
       ]
      },
      {
       "output_type": "stream",
       "stream": "stdout",
       "text": [
        " 2\n",
        "\n",
        "Gurobi status="
       ]
      },
      {
       "output_type": "stream",
       "stream": "stderr",
       "text": [
        " 0.186219930649\n",
        "SOLVE LP:"
       ]
      },
      {
       "output_type": "stream",
       "stream": "stderr",
       "text": [
        " 0.217777013779\n",
        "BUILD HYPERGRAPH: 0.0060338973999\n",
        "BUILD POTENTIALS:"
       ]
      },
      {
       "output_type": "stream",
       "stream": "stderr",
       "text": [
        " 0.0663380622864\n",
        "BUILD LP:"
       ]
      },
      {
       "output_type": "stream",
       "stream": "stdout",
       "text": [
        " 2\n",
        "\n",
        "Gurobi status="
       ]
      },
      {
       "output_type": "stream",
       "stream": "stderr",
       "text": [
        " 0.0532870292664\n",
        "SOLVE LP:"
       ]
      },
      {
       "output_type": "stream",
       "stream": "stderr",
       "text": [
        " 0.0558741092682\n",
        "BUILD HYPERGRAPH: 0.0211451053619\n",
        "BUILD POTENTIALS:"
       ]
      },
      {
       "output_type": "stream",
       "stream": "stderr",
       "text": [
        " 0.0874881744385\n",
        "BUILD LP:"
       ]
      },
      {
       "output_type": "stream",
       "stream": "stdout",
       "text": [
        " 2\n",
        "\n",
        "Gurobi status="
       ]
      },
      {
       "output_type": "stream",
       "stream": "stderr",
       "text": [
        " 0.249221086502\n",
        "SOLVE LP:"
       ]
      },
      {
       "output_type": "stream",
       "stream": "stderr",
       "text": [
        " 0.215485095978\n",
        "BUILD HYPERGRAPH: 0.0199208259583\n",
        "BUILD POTENTIALS:"
       ]
      },
      {
       "output_type": "stream",
       "stream": "stderr",
       "text": [
        " 0.0831038951874\n",
        "BUILD LP:"
       ]
      },
      {
       "output_type": "stream",
       "stream": "stdout",
       "text": [
        " 2\n",
        "\n",
        "Gurobi status="
       ]
      },
      {
       "output_type": "stream",
       "stream": "stderr",
       "text": [
        " 0.187978029251\n",
        "SOLVE LP:"
       ]
      },
      {
       "output_type": "stream",
       "stream": "stderr",
       "text": [
        " 0.218863964081\n",
        "BUILD HYPERGRAPH: 0.0210609436035\n",
        "BUILD POTENTIALS:"
       ]
      },
      {
       "output_type": "stream",
       "stream": "stderr",
       "text": [
        " 0.0808260440826\n",
        "BUILD LP:"
       ]
      },
      {
       "output_type": "stream",
       "stream": "stdout",
       "text": [
        " 2\n",
        "\n",
        "Gurobi status="
       ]
      },
      {
       "output_type": "stream",
       "stream": "stderr",
       "text": [
        " 0.24614906311\n",
        "SOLVE LP:"
       ]
      },
      {
       "output_type": "stream",
       "stream": "stderr",
       "text": [
        " 0.215717077255\n",
        "BUILD HYPERGRAPH: 0.01997590065\n",
        "BUILD POTENTIALS:"
       ]
      },
      {
       "output_type": "stream",
       "stream": "stderr",
       "text": [
        " 0.111689805984\n",
        "BUILD LP:"
       ]
      },
      {
       "output_type": "stream",
       "stream": "stdout",
       "text": [
        " 2\n",
        "\n",
        "Gurobi status="
       ]
      },
      {
       "output_type": "stream",
       "stream": "stderr",
       "text": [
        " 0.18412899971\n",
        "SOLVE LP:"
       ]
      },
      {
       "output_type": "stream",
       "stream": "stderr",
       "text": [
        " 0.219676017761\n",
        "BUILD HYPERGRAPH: 0.00557804107666\n",
        "BUILD POTENTIALS:"
       ]
      },
      {
       "output_type": "stream",
       "stream": "stderr",
       "text": [
        " 0.060861825943\n",
        "BUILD LP:"
       ]
      },
      {
       "output_type": "stream",
       "stream": "stdout",
       "text": [
        " 2\n",
        "\n",
        "Gurobi status="
       ]
      },
      {
       "output_type": "stream",
       "stream": "stderr",
       "text": [
        " 0.114895105362\n",
        "SOLVE LP:"
       ]
      },
      {
       "output_type": "stream",
       "stream": "stderr",
       "text": [
        " 0.0558769702911\n",
        "BUILD HYPERGRAPH: 0.0214729309082\n",
        "BUILD POTENTIALS:"
       ]
      },
      {
       "output_type": "stream",
       "stream": "stderr",
       "text": [
        " 0.258090019226\n",
        "BUILD LP:"
       ]
      },
      {
       "output_type": "stream",
       "stream": "stdout",
       "text": [
        " 2\n",
        "\n",
        "Gurobi status="
       ]
      },
      {
       "output_type": "stream",
       "stream": "stderr",
       "text": [
        " 0.187432050705\n",
        "SOLVE LP:"
       ]
      },
      {
       "output_type": "stream",
       "stream": "stderr",
       "text": [
        " 0.218819141388\n",
        "BUILD HYPERGRAPH: 0.0198531150818\n",
        "BUILD POTENTIALS:"
       ]
      },
      {
       "output_type": "stream",
       "stream": "stderr",
       "text": [
        " 0.0645730495453\n",
        "BUILD LP:"
       ]
      },
      {
       "output_type": "stream",
       "stream": "stdout",
       "text": [
        " 2\n",
        "\n",
        "Gurobi status="
       ]
      },
      {
       "output_type": "stream",
       "stream": "stderr",
       "text": [
        " 0.244383811951\n",
        "SOLVE LP:"
       ]
      },
      {
       "output_type": "stream",
       "stream": "stderr",
       "text": [
        " 0.216588020325\n",
        "BUILD HYPERGRAPH: 0.0195488929749\n",
        "BUILD POTENTIALS:"
       ]
      },
      {
       "output_type": "stream",
       "stream": "stderr",
       "text": [
        " 0.0835428237915\n",
        "BUILD LP:"
       ]
      },
      {
       "output_type": "stream",
       "stream": "stdout",
       "text": [
        " 2\n",
        "\n",
        "Gurobi status="
       ]
      },
      {
       "output_type": "stream",
       "stream": "stderr",
       "text": [
        " 0.184032917023\n",
        "SOLVE LP:"
       ]
      },
      {
       "output_type": "stream",
       "stream": "stderr",
       "text": [
        " 0.216368198395\n",
        "BUILD HYPERGRAPH: 0.0196378231049\n",
        "BUILD POTENTIALS:"
       ]
      },
      {
       "output_type": "stream",
       "stream": "stderr",
       "text": [
        " 0.0740849971771\n",
        "BUILD LP:"
       ]
      },
      {
       "output_type": "stream",
       "stream": "stdout",
       "text": [
        " 2\n",
        "\n",
        "Gurobi status="
       ]
      },
      {
       "output_type": "stream",
       "stream": "stderr",
       "text": [
        " 0.247651100159\n",
        "SOLVE LP:"
       ]
      },
      {
       "output_type": "stream",
       "stream": "stderr",
       "text": [
        " 0.216676950455\n",
        "BUILD HYPERGRAPH: 0.0204210281372\n",
        "BUILD POTENTIALS:"
       ]
      },
      {
       "output_type": "stream",
       "stream": "stderr",
       "text": [
        " 0.0633938312531\n",
        "BUILD LP:"
       ]
      },
      {
       "output_type": "stream",
       "stream": "stdout",
       "text": [
        " 2\n",
        "\n",
        "Gurobi status="
       ]
      },
      {
       "output_type": "stream",
       "stream": "stderr",
       "text": [
        " 0.185194015503\n",
        "SOLVE LP:"
       ]
      },
      {
       "output_type": "stream",
       "stream": "stderr",
       "text": [
        " 0.221400022507\n",
        "BUILD HYPERGRAPH: 0.020035982132\n",
        "BUILD POTENTIALS:"
       ]
      },
      {
       "output_type": "stream",
       "stream": "stderr",
       "text": [
        " 0.0629251003265\n",
        "BUILD LP:"
       ]
      },
      {
       "output_type": "stream",
       "stream": "stdout",
       "text": [
        " 2\n",
        "\n",
        "Gurobi status="
       ]
      },
      {
       "output_type": "stream",
       "stream": "stderr",
       "text": [
        " 0.247466087341\n",
        "SOLVE LP:"
       ]
      },
      {
       "output_type": "stream",
       "stream": "stderr",
       "text": [
        " 0.217149019241\n",
        "BUILD HYPERGRAPH: 0.00602889060974\n",
        "BUILD POTENTIALS:"
       ]
      },
      {
       "output_type": "stream",
       "stream": "stderr",
       "text": [
        " 0.0455119609833\n",
        "BUILD LP:"
       ]
      },
      {
       "output_type": "stream",
       "stream": "stdout",
       "text": [
        " 2\n",
        "\n",
        "Gurobi status="
       ]
      },
      {
       "output_type": "stream",
       "stream": "stderr",
       "text": [
        " 0.0534629821777\n",
        "SOLVE LP:"
       ]
      },
      {
       "output_type": "stream",
       "stream": "stderr",
       "text": [
        " 0.0551090240479\n",
        "BUILD HYPERGRAPH: 0.0209550857544\n",
        "BUILD POTENTIALS:"
       ]
      },
      {
       "output_type": "stream",
       "stream": "stderr",
       "text": [
        " 0.100496053696\n",
        "BUILD LP:"
       ]
      },
      {
       "output_type": "stream",
       "stream": "stdout",
       "text": [
        " 2\n",
        "\n",
        "Gurobi status="
       ]
      },
      {
       "output_type": "stream",
       "stream": "stderr",
       "text": [
        " 0.192332029343\n",
        "SOLVE LP:"
       ]
      },
      {
       "output_type": "stream",
       "stream": "stderr",
       "text": [
        " 0.277796983719\n",
        "BUILD HYPERGRAPH: 0.0200099945068\n",
        "BUILD POTENTIALS:"
       ]
      },
      {
       "output_type": "stream",
       "stream": "stderr",
       "text": [
        " 0.103028059006\n",
        "BUILD LP:"
       ]
      },
      {
       "output_type": "stream",
       "stream": "stdout",
       "text": [
        " 2\n",
        "\n",
        "Gurobi status="
       ]
      },
      {
       "output_type": "stream",
       "stream": "stderr",
       "text": [
        " 0.188125133514\n",
        "SOLVE LP:"
       ]
      },
      {
       "output_type": "stream",
       "stream": "stderr",
       "text": [
        " 0.216847896576\n",
        "BUILD HYPERGRAPH: 0.0208251476288\n",
        "BUILD POTENTIALS:"
       ]
      },
      {
       "output_type": "stream",
       "stream": "stderr",
       "text": [
        " 0.113468170166\n",
        "BUILD LP:"
       ]
      },
      {
       "output_type": "stream",
       "stream": "stdout",
       "text": [
        " 2\n",
        "\n",
        "Gurobi status="
       ]
      },
      {
       "output_type": "stream",
       "stream": "stderr",
       "text": [
        " 0.263127088547\n",
        "SOLVE LP:"
       ]
      },
      {
       "output_type": "stream",
       "stream": "stderr",
       "text": [
        " 0.216471910477\n",
        "BUILD HYPERGRAPH: 0.0201528072357\n",
        "BUILD POTENTIALS:"
       ]
      },
      {
       "output_type": "stream",
       "stream": "stderr",
       "text": [
        " 0.0870199203491\n",
        "BUILD LP:"
       ]
      },
      {
       "output_type": "stream",
       "stream": "stdout",
       "text": [
        " 2\n",
        "\n",
        "Gurobi status="
       ]
      },
      {
       "output_type": "stream",
       "stream": "stderr",
       "text": [
        " 0.187701225281\n",
        "SOLVE LP:"
       ]
      },
      {
       "output_type": "stream",
       "stream": "stderr",
       "text": [
        " 0.219403028488\n",
        "BUILD HYPERGRAPH: 0.0203330516815\n",
        "BUILD POTENTIALS:"
       ]
      },
      {
       "output_type": "stream",
       "stream": "stderr",
       "text": [
        " 0.102924108505\n",
        "BUILD LP:"
       ]
      },
      {
       "output_type": "stream",
       "stream": "stdout",
       "text": [
        " 2\n",
        "\n",
        "Gurobi status="
       ]
      },
      {
       "output_type": "stream",
       "stream": "stderr",
       "text": [
        " 0.24956202507\n",
        "SOLVE LP:"
       ]
      },
      {
       "output_type": "stream",
       "stream": "stderr",
       "text": [
        " 0.219443082809\n",
        "BUILD HYPERGRAPH: 0.0212378501892\n",
        "BUILD POTENTIALS:"
       ]
      },
      {
       "output_type": "stream",
       "stream": "stderr",
       "text": [
        " 0.0500950813293\n",
        "BUILD LP:"
       ]
      },
      {
       "output_type": "stream",
       "stream": "stdout",
       "text": [
        " 2\n",
        "\n",
        "Gurobi status="
       ]
      },
      {
       "output_type": "stream",
       "stream": "stderr",
       "text": [
        " 0.18610906601\n",
        "SOLVE LP:"
       ]
      },
      {
       "output_type": "stream",
       "stream": "stderr",
       "text": [
        " 0.224879980087\n",
        "BUILD HYPERGRAPH: 0.0197291374207\n",
        "BUILD POTENTIALS:"
       ]
      },
      {
       "output_type": "stream",
       "stream": "stderr",
       "text": [
        " 0.0786030292511\n",
        "BUILD LP:"
       ]
      },
      {
       "output_type": "stream",
       "stream": "stdout",
       "text": [
        " 2\n",
        "\n",
        "Gurobi status="
       ]
      },
      {
       "output_type": "stream",
       "stream": "stderr",
       "text": [
        " 0.24728512764\n",
        "SOLVE LP:"
       ]
      },
      {
       "output_type": "stream",
       "stream": "stderr",
       "text": [
        " 0.216461896896\n",
        "BUILD HYPERGRAPH: 0.0201499462128\n",
        "BUILD POTENTIALS:"
       ]
      },
      {
       "output_type": "stream",
       "stream": "stderr",
       "text": [
        " 0.124176979065\n",
        "BUILD LP:"
       ]
      },
      {
       "output_type": "stream",
       "stream": "stdout",
       "text": [
        " 2\n",
        "\n",
        "Gurobi status="
       ]
      },
      {
       "output_type": "stream",
       "stream": "stderr",
       "text": [
        " 0.187373161316\n",
        "SOLVE LP:"
       ]
      },
      {
       "output_type": "stream",
       "stream": "stderr",
       "text": [
        " 0.214257001877\n",
        "BUILD HYPERGRAPH:"
       ]
      },
      {
       "output_type": "stream",
       "stream": "stderr",
       "text": [
        " 0.0816822052002\n",
        "BUILD POTENTIALS:"
       ]
      },
      {
       "output_type": "stream",
       "stream": "stderr",
       "text": [
        " 0.105225801468\n",
        "BUILD LP:"
       ]
      },
      {
       "output_type": "stream",
       "stream": "stdout",
       "text": [
        " 2\n",
        "\n",
        "Gurobi status="
       ]
      },
      {
       "output_type": "stream",
       "stream": "stderr",
       "text": [
        " 0.184997081757\n",
        "SOLVE LP:"
       ]
      },
      {
       "output_type": "stream",
       "stream": "stderr",
       "text": [
        " 0.219655036926\n",
        "BUILD HYPERGRAPH: 0.0197350978851\n",
        "BUILD POTENTIALS:"
       ]
      },
      {
       "output_type": "stream",
       "stream": "stderr",
       "text": [
        " 0.113024950027\n",
        "BUILD LP:"
       ]
      },
      {
       "output_type": "stream",
       "stream": "stdout",
       "text": [
        " 2\n",
        "\n",
        "Gurobi status="
       ]
      },
      {
       "output_type": "stream",
       "stream": "stderr",
       "text": [
        " 0.243632078171\n",
        "SOLVE LP:"
       ]
      },
      {
       "output_type": "stream",
       "stream": "stderr",
       "text": [
        " 0.22220492363\n",
        "BUILD HYPERGRAPH: 0.0197451114655\n",
        "BUILD POTENTIALS:"
       ]
      },
      {
       "output_type": "stream",
       "stream": "stderr",
       "text": [
        " 0.133521080017\n",
        "BUILD LP:"
       ]
      },
      {
       "output_type": "stream",
       "stream": "stdout",
       "text": [
        " 2\n",
        "\n",
        "Gurobi status="
       ]
      },
      {
       "output_type": "stream",
       "stream": "stderr",
       "text": [
        " 0.186517953873\n",
        "SOLVE LP:"
       ]
      },
      {
       "output_type": "stream",
       "stream": "stderr",
       "text": [
        " 0.216722011566\n",
        "BUILD HYPERGRAPH: 0.0202708244324\n",
        "BUILD POTENTIALS:"
       ]
      },
      {
       "output_type": "stream",
       "stream": "stderr",
       "text": [
        " 0.0707659721375\n",
        "BUILD LP:"
       ]
      },
      {
       "output_type": "stream",
       "stream": "stdout",
       "text": [
        " 2\n",
        "\n",
        "Gurobi status="
       ]
      },
      {
       "output_type": "stream",
       "stream": "stderr",
       "text": [
        " 0.269768953323\n",
        "SOLVE LP:"
       ]
      },
      {
       "output_type": "stream",
       "stream": "stderr",
       "text": [
        " 0.23007106781\n",
        "BUILD HYPERGRAPH: 0.0200471878052\n",
        "BUILD POTENTIALS:"
       ]
      },
      {
       "output_type": "stream",
       "stream": "stderr",
       "text": [
        " 0.122637987137\n",
        "BUILD LP:"
       ]
      },
      {
       "output_type": "stream",
       "stream": "stdout",
       "text": [
        " 2\n",
        "\n",
        "Gurobi status="
       ]
      },
      {
       "output_type": "stream",
       "stream": "stderr",
       "text": [
        " 0.186778783798\n",
        "SOLVE LP:"
       ]
      },
      {
       "output_type": "stream",
       "stream": "stdout",
       "text": [
        " 2\n",
        "\n",
        "done\n"
       ]
      },
      {
       "output_type": "stream",
       "stream": "stderr",
       "text": [
        " 0.215730905533\n"
       ]
      }
     ],
     "prompt_number": 29
    },
    {
     "cell_type": "code",
     "collapsed": false,
     "input": [
      "from discourse.hypergraph import recover_order\n",
      "from os import getenv\n",
      "from os.path import join\n",
      "\n",
      "pred_fname = '/tmp/predicted_file'\n",
      "pred_file = open(pred_fname, 'w')\n",
      "\n",
      "gold_fname = '/tmp/gold_file'\n",
      "gold_file = open(gold_fname, 'w')\n",
      "\n",
      "ddir = getenv(\"DISCOURSEDIR\",\".\")\n",
      "eval_script = join(ddir, \"eval\", \"ordering-eval.py\")\n",
      "\n",
      "total_corr_bg = 0\n",
      "total_bg = 0\n",
      "total_corr_tg = 0\n",
      "total_tg = 0\n",
      "\n",
      "\n",
      "for i, model in enumerate(testX):\n",
      "    \n",
      "    pred_order = predY[i]\n",
      "    corr_bg = perceptron.num_bigrams_correct(pred_order)\n",
      "    total_corr_bg += corr_bg\n",
      "    total_bg += len(pred_order)-1\n",
      "    corr_tg = perceptron.num_trigrams_correct(pred_order)\n",
      "    total_corr_tg += corr_tg\n",
      "    total_tg += len(pred_order)-2\n",
      "    \n",
      "    \n",
      "    #ptron.ps.w\n",
      "    \n",
      "    #features = ptron.dsm.psi(model,pred_order) #ptron.dsm._vec.inverse_transform()\n",
      "    #print features * ptron.sp.w.T, \" \",\n",
      "    #gold_features = ptron.dsm.psi(model, model.gold_transitions())\n",
      "    #print gold_features * ptron.sp.w.T\n",
      "    \n",
      "    \n",
      "    pred_str = model.ordering2str(recover_order(pred_order))\n",
      "    #print pred_str+\"\\n\\n\"\n",
      "    pred_file.write(pred_str+\"\\n\\n\")\n",
      "    pred_file.flush()\n",
      "    \n",
      "    gold_str = model.gold_str()\n",
      "    gold_file.write(gold_str+\"\\n\\n\")\n",
      "    #print gold_str+\"\\n\\n\"\n",
      "    gold_file.flush()\n",
      "    \n",
      "    #print model.gold_transitions()\n",
      "    \n",
      "pred_file.close()\n",
      "gold_file.close()\n",
      "\n",
      "!python $eval_script --gold $gold_fname --predicted $pred_fname \n",
      "print \"Avg Bigram Correct: {}\".format(float(total_corr_bg) / total_bg)\n",
      "print \"Avg Trigram Correct: {}\".format(float(total_corr_tg) / total_tg)\n",
      "print gold_fname\n",
      "print pred_fname\n"
     ],
     "language": "python",
     "metadata": {},
     "outputs": [
      {
       "output_type": "stream",
       "stream": "stdout",
       "text": [
        "Total documents: 98\r\n",
        "Total correct: 4\r\n",
        "Accuracy: 0.0408163265306\r\n",
        "Avg. Kendall's Tau -0.0619047619048\r\n",
        "pval: 0.646276976247\r\n"
       ]
      },
      {
       "output_type": "stream",
       "stream": "stdout",
       "text": [
        "Avg Bigram Correct: 0.213080168776\n",
        "Avg Trigram Correct: 0.0398936170213\n",
        "/tmp/gold_file\n",
        "/tmp/predicted_file\n"
       ]
      }
     ],
     "prompt_number": 30
    },
    {
     "cell_type": "code",
     "collapsed": false,
     "input": [
      "ptron.dsm._vec"
     ],
     "language": "python",
     "metadata": {},
     "outputs": [
      {
       "metadata": {},
       "output_type": "pyout",
       "prompt_number": 19,
       "text": [
        "DictVectorizer(dtype=<type 'numpy.float64'>, separator='=', sparse=True)"
       ]
      }
     ],
     "prompt_number": 19
    },
    {
     "cell_type": "code",
     "collapsed": false,
     "input": [
      "x = testX[2]\n",
      "py = predY[2]\n",
      "perceptron.print_bigram_feature_diff(ptron, x, x.gold_transitions(), py)\n",
      "\n",
      "#for i in range(50):\n",
      "#    py = predY[i]\n",
      "#    print perceptron.num_trigrams_correct(py)\n",
      "    "
     ],
     "language": "python",
     "metadata": {},
     "outputs": [
      {
       "output_type": "stream",
       "stream": "stdout",
       "text": [
        "Gold Features Not In Predicted START -> sent-2:\n",
        "Predicted Features Not In Gold START -> sent-0:\n",
        "\n",
        "Ordered predicted features:\n",
        "\n",
        "\n",
        "Gold Features Not In Predicted sent-2 -> sent-3:\n",
        "Predicted Features Not In Gold sent-2 -> sent-3:\n",
        "\n",
        "Ordered predicted features:\n",
        "role0:prep_including det:x _ role1:prep_in det:x_subsumed:x   0\n",
        "\n",
        "\n",
        "Gold Features Not In Predicted sent-3 -> sent-4:\n",
        "Predicted Features Not In Gold sent-3 -> sent-4:\n",
        "\n",
        "Ordered predicted features:\n",
        "\n",
        "\n",
        "Gold Features Not In Predicted sent-4 -> sent-1:\n",
        "Predicted Features Not In Gold sent-4 -> END:\n",
        "role0:dobj det:x _ role1:dobj det:x_subsumed:x  ?\n",
        "\n",
        "Ordered predicted features:\n",
        "role0:dobj det:x _ role1:dobj det:x_subsumed:x   0\n",
        "\n",
        "\n",
        "Gold Features Not In Predicted sent-1 -> sent-0:\n",
        "role0:dobj det:x _ role1:prep_at det:x_subsumed:x  ?\n",
        "role0:nsubjpass det:x _ role1:nsubjpass det:x_subsumed:x  -3.0\n",
        "role0:nsubj det:x _ role1:nsubjpass det:x_subsumed:x  ?\n",
        "Predicted Features Not In Gold sent-1 -> sent-2:\n",
        "role0:prep_of det:x _ role1:dobj det:x_subsumed:x  ?\n",
        "\n",
        "Ordered predicted features:\n",
        "role0:prep_of det:x _ role1:dobj det:x_subsumed:x   0\n",
        "\n",
        "\n",
        "Gold Features Not In Predicted sent-0 -> END:\n",
        "role0:dobj det:x _ role1:prep_of det:x_subsumed:x  -1.0\n",
        "role0:nsubj det:x _ role1:nsubjpass det:x_subsumed:x  ?\n",
        "role0:nsubj det:x _ role1:nsubj det:x_subsumed:x  -2.0\n",
        "Predicted Features Not In Gold sent-0 -> sent-1:\n",
        "\n",
        "Ordered predicted features:\n",
        "\n",
        "\n"
       ]
      }
     ],
     "prompt_number": 20
    },
    {
     "cell_type": "code",
     "collapsed": false,
     "input": [],
     "language": "python",
     "metadata": {},
     "outputs": []
    }
   ],
   "metadata": {}
  }
 ]
}