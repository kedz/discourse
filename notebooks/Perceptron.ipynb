{
 "metadata": {
  "name": ""
 },
 "nbformat": 3,
 "nbformat_minor": 0,
 "worksheets": [
  {
   "cells": [
    {
     "cell_type": "code",
     "collapsed": false,
     "input": [
      "import discourse.models.debug as ddebug\n",
      "import discourse.data as data\n",
      "import discourse.inference.perceptron as perceptron\n",
      "from  discourse.models.rush import RushModel\n",
      "import corenlp_xml as cnlp\n",
      "from collections import defaultdict"
     ],
     "language": "python",
     "outputs": [],
     "prompt_number": 1
    },
    {
     "cell_type": "code",
     "collapsed": false,
     "input": [
      "train_apws = [cnlp.Document(xml) for xml in data.corenlp_apws_train()]\n",
      "train_ntsb = [cnlp.Document(xml) for xml in data.corenlp_ntsb_train()]\n",
      "test_apws = [cnlp.Document(xml) for xml in data.corenlp_apws_test()]\n",
      "test_ntsb = [cnlp.Document(xml) for xml in data.corenlp_ntsb_test()]\n",
      "ptron = perceptron.PerceptronTrainer(50)\n"
     ],
     "language": "python",
     "outputs": [],
     "prompt_number": 2
    },
    {
     "cell_type": "code",
     "collapsed": false,
     "input": [
      "counts = defaultdict(int)\n",
      "\n",
      "for doc in train_apws:\n",
      "    model = RushModel(doc, history=2, features=set(['role_match']))\n",
      "    gold_trans = model.gold_transitions()\n",
      "    for trans in gold_trans:\n",
      "        for f in model.feature_map(trans):\n",
      "            counts[f] += 1\n",
      "\n",
      "fcounts = [(f, counts[f]) for f in counts]\n",
      "fcounts.sort(reverse=True, key=lambda a:a[1])\n",
      "for c in fcounts:\n",
      "    print c"
     ],
     "language": "python",
     "outputs": [
      {
       "output_type": "stream",
       "stream": "stdout",
       "text": [
        "('role1:nn:role0:nn', 152)\n",
        "('role1:nsubj:role0:nsubj', 132)\n",
        "('role1:dobj:role0:dobj', 99)\n",
        "('role1:dep:role0:dep', 72)\n",
        "('role1:nsubj:role0:dep', 55)\n",
        "('role1:appos:role0:appos', 52)\n",
        "('role1:prep_with:role0:prep_with', 43)\n",
        "('role1:dobj:role0:nn', 28)\n",
        "('role1:prep_of:role0:prep_of', 26)\n",
        "('role1:prep_in:role0:nn', 26)\n",
        "('role1:nsubj:role0:prep_with', 24)\n",
        "('role1:prep_of:role0:nn', 23)\n",
        "('role1:nsubjpass:role0:dep', 22)\n",
        "('role1:prep_in:role0:prep_in', 21)\n",
        "('role1:root:role0:root', 21)\n",
        "('role1:conj_or:role0:conj_or', 19)\n",
        "('role1:poss:role0:nn', 18)\n",
        "('role1:nn:role0:dobj', 18)\n",
        "('role1:tmod:role0:tmod', 18)\n",
        "('role1:nsubj:role0:root', 17)\n",
        "('role1:nsubjpass:role0:nsubjpass', 17)\n",
        "('role1:num:role0:nn', 17)\n",
        "('role1:root:role0:nn', 16)\n",
        "('role1:nsubjpass:role0:nsubj', 16)\n",
        "('role1:dobj:role0:dep', 15)\n",
        "('role1:appos:role0:dobj', 14)\n",
        "('role1:agent:role0:nsubj', 14)\n",
        "('role1:nsubj:role0:nn', 14)\n",
        "('role1:prep_on:role0:prep_on', 13)\n",
        "('role1:prep_of:role0:dobj', 13)\n",
        "('role1:prep_of:role0:dep', 13)\n",
        "('role1:conj_and:role0:conj_and', 12)\n",
        "('role1:appos:role0:nn', 12)\n",
        "('role1:dobj:role0:nsubj', 12)\n",
        "('role1:nsubjpass:role0:conj_or', 12)\n",
        "('role1:prep_of:role0:nsubj', 11)\n",
        "('role1:conj_or:role0:nsubjpass', 11)\n",
        "('role1:nn:role0:appos', 10)\n",
        "('role1:dobj:role0:appos', 9)\n",
        "('role1:prep_of:role0:appos', 9)\n",
        "('role1:dep:role0:nn', 9)\n",
        "('role1:poss:role0:dobj', 8)\n",
        "('role1:conj_or:role0:dobj', 8)\n",
        "('role1:pobj:role0:pobj', 8)\n",
        "('role1:conj_and:role0:dobj', 8)\n",
        "('role1:nsubj:role0:prep_of', 7)\n",
        "('role1:dobj:role0:conj_or', 6)\n",
        "('role1:conj_and:role0:nn', 6)\n",
        "('role1:prep_across:role0:nn', 5)\n",
        "('role1:prep_in:role0:dobj', 5)\n",
        "('role1:poss:role0:root', 5)\n",
        "('role1:dep:role0:nsubj', 5)\n",
        "('role1:dobj:role0:prep_with', 5)\n",
        "('role1:nsubjpass:role0:prep_with', 5)\n",
        "('role1:ccomp:role0:prep_on', 5)\n",
        "('role1:agent:role0:dep', 5)\n",
        "('role1:nsubj:role0:appos', 5)\n",
        "('role1:nn:role0:dep', 4)\n",
        "('role1:prep_with:role0:appos', 4)\n",
        "('role1:dobj:role0:conj_and', 4)\n",
        "('role1:poss:role0:poss', 4)\n",
        "('role1:nsubjpass:role0:dobj', 4)\n",
        "('role1:nsubj:role0:dobj', 4)\n",
        "('role1:poss:role0:dep', 4)\n",
        "('role1:prep_to:role0:prep_to', 4)\n",
        "('role1:prep_from:role0:nsubj', 4)\n",
        "('role1:nn:role0:pobj', 4)\n",
        "('role1:prep_from:role0:prep_from', 4)\n",
        "('role1:nsubjpass:role0:nn', 4)\n",
        "('role1:prep_of:role0:conj_and', 4)\n",
        "('role1:nsubj:role0:pobj', 4)\n",
        "('role1:conj_and:role0:prep_of', 3)\n",
        "('role1:prep_from:role0:dep', 3)\n",
        "('role1:prep_on:role0:dep', 3)\n",
        "('role1:ccomp:role0:dep', 3)\n",
        "('role1:prep_in:role0:nsubj', 3)\n",
        "('role1:nsubjpass:role0:appos', 3)\n",
        "('role1:dep:role0:appos', 3)\n",
        "('role1:nn:role0:prep_about', 3)\n",
        "('role1:poss:role0:prep_in', 3)\n",
        "('role1:dobj:role0:prep_of', 3)\n",
        "('role1:prep_in:role0:appos', 3)\n",
        "('role1:appos:role0:nsubj', 3)\n",
        "('role1:nsubj:role0:prep_on', 3)\n",
        "('role1:nsubj:role0:tmod', 3)\n",
        "('role1:pobj:role0:nn', 3)\n",
        "('role1:prep_after:role0:nsubj', 3)\n",
        "('role1:nn:role0:prep_of', 3)\n",
        "('role1:nn:role0:prep_to', 2)\n",
        "('role1:dobj:role0:nsubjpass', 2)\n",
        "('role1:prep_as:role0:prep_as', 2)\n",
        "('role1:nsubj:role0:prep_by', 2)\n",
        "('role1:nn:role0:prep_across', 2)\n",
        "('role1:prep_by:role0:prep_by', 2)\n",
        "('role1:nsubjpass:role0:prep_of', 2)\n",
        "('role1:prep_through:role0:prep_through', 2)\n",
        "('role1:prep_of:role0:prep_with', 2)\n",
        "('role1:prep_with:role0:nn', 2)\n",
        "('role1:conj_or:role0:appos', 2)\n",
        "('role1:prep_between:role0:dobj', 2)\n",
        "('role1:parataxis:role0:parataxis', 2)\n",
        "('role1:poss:role0:prep_with', 2)\n",
        "('role1:nsubjpass:role0:root', 2)\n",
        "('role1:dobj:role0:tmod', 2)\n",
        "('role1:dep:role0:root', 2)\n",
        "('role1:nsubjpass:role0:conj_and', 2)\n",
        "('role1:appos:role0:prep_of', 2)\n",
        "('role1:prep_off:role0:prep_off', 2)\n",
        "('role1:prep_of:role0:prep_for', 2)\n",
        "('role1:amod:role0:nn', 2)\n",
        "('role1:prep_of:role0:root', 2)\n",
        "('role1:prep_throughout:role0:prep_throughout', 2)\n",
        "('role1:conj_or:role0:dep', 2)\n",
        "('role1:nn:role0:nsubj', 2)\n",
        "('role1:appos:role0:poss', 2)\n",
        "('role1:dep:role0:dobj', 2)\n",
        "('role1:poss:role0:nsubj', 2)\n",
        "('role1:advmod:role0:nn', 2)\n",
        "('role1:nn:role0:root', 2)\n",
        "('role1:advmod:role0:dobj', 2)\n",
        "('role1:root:role0:prep_with', 2)\n",
        "('role1:poss:role0:appos', 2)\n",
        "('role1:agent:role0:nn', 2)\n",
        "('role1:conj_and:role0:appos', 2)\n",
        "('role1:prep_in:role0:prep_with', 2)\n",
        "('role1:prep_from:role0:nn', 2)\n",
        "('role1:prep_about:role0:nsubj', 2)\n",
        "('role1:dobj:role0:root', 2)\n",
        "('role1:prep_for:role0:root', 2)\n",
        "('role1:conj_and:role0:prep_on', 1)\n",
        "('role1:nsubj:role0:prep_in', 1)\n",
        "('role1:conj_only:role0:dep', 1)\n",
        "('role1:dep:role0:conj_and', 1)\n",
        "('role1:poss:role0:prep_across', 1)\n",
        "('role1:prep_after:role0:prep_by', 1)\n",
        "('role1:xcomp:role0:dobj', 1)\n",
        "('role1:prep_out_of:role0:prep_out_of', 1)\n",
        "('role1:appos:role0:prep_with', 1)\n",
        "('role1:conj_but:role0:conj_but', 1)\n",
        "('role1:conj_or:role0:conj_and', 1)\n",
        "('role1:prep_during:role0:prep_on', 1)\n",
        "('role1:advmod:role0:root', 1)\n",
        "('role1:prep_with:role0:dep', 1)\n",
        "('role1:conj_and:role0:prep_throughout', 1)\n",
        "('role1:prep_with:role0:nsubj', 1)\n",
        "('role1:amod:role0:appos', 1)\n",
        "('role1:poss:role0:prep_of', 1)\n",
        "('role1:prep_by:role0:nsubj', 1)\n",
        "('role1:prep_between:role0:nn', 1)\n",
        "('role1:poss:role0:prep_on', 1)\n",
        "('role1:prep_to:role0:conj_or', 1)\n",
        "('role1:rcmod:role0:prep_with', 1)\n",
        "('role1:prep_between:role0:appos', 1)\n",
        "('role1:prep_of:role0:prep_to', 1)\n",
        "('role1:dobj:role0:prep_across', 1)\n",
        "('role1:nn:role0:prep_with', 1)\n",
        "('role1:prep_between:role0:prep_between', 1)\n",
        "('role1:conj_and:role0:dep', 1)\n",
        "('role1:nsubj:role0:prep_for', 1)\n",
        "('role1:dep:role0:prep_on', 1)\n",
        "('role1:ccomp:role0:nn', 1)\n",
        "('role1:iobj:role0:nn', 1)\n",
        "('role1:prep_in:role0:prep_on', 1)\n",
        "('role1:tmod:role0:root', 1)\n",
        "('role1:prep_during:role0:dep', 1)\n",
        "('role1:pobj:role0:poss', 1)\n",
        "('role1:agent:role0:appos', 1)\n",
        "('role1:prep_after:role0:dep', 1)\n",
        "('role1:prep_as:role0:dobj', 1)\n",
        "('role1:tmod:role0:prep_to', 1)\n",
        "('role1:prep_over:role0:nsubj', 1)\n",
        "('role1:prep_off:role0:dobj', 1)\n",
        "('role1:conj_or:role0:nsubj', 1)\n",
        "('role1:conj_or:role0:prep_on', 1)\n",
        "('role1:num:role0:npadvmod', 1)\n",
        "('role1:nsubjpass:role0:pobj', 1)\n",
        "('role1:conj_or:role0:nn', 1)\n",
        "('role1:prep_near:role0:prep_near', 1)\n",
        "('role1:nsubj:role0:rcmod', 1)\n",
        "('role1:prep_to:role0:prep_with', 1)\n",
        "('role1:prep_to:role0:nn', 1)\n",
        "('role1:rcmod:role0:rcmod', 1)\n",
        "('role1:dobj:role0:prep_on', 1)\n",
        "('role1:xcomp:role0:nn', 1)\n",
        "('role1:prep_with:role0:conj_and', 1)\n",
        "('role1:agent:role0:prep_of', 1)\n",
        "('role1:nn:role0:poss', 1)\n",
        "('role1:prep_on:role0:pobj', 1)\n",
        "('role1:prep_after:role0:prep_of', 1)\n",
        "('role1:prep_from:role0:poss', 1)\n",
        "('role1:appos:role0:prep_in', 1)\n",
        "('role1:prep_through:role0:nn', 1)\n",
        "('role1:prep_throughout:role0:nn', 1)\n",
        "('role1:prep_of:role0:tmod', 1)\n",
        "('role1:num:role0:dobj', 1)\n",
        "('role1:prep_for:role0:nn', 1)\n",
        "('role1:prep_across:role0:prep_across', 1)\n",
        "('role1:prep_about:role0:prep_for', 1)\n",
        "('role1:nn:role0:prep_in', 1)\n",
        "('role1:ccomp:role0:appos', 1)\n",
        "('role1:prep_in:role0:prep_to', 1)\n",
        "('role1:conj_or:role0:prep_to', 1)\n",
        "('role1:poss:role0:pobj', 1)\n",
        "('role1:appos:role0:dep', 1)\n",
        "('role1:xcomp:role0:xcomp', 1)\n",
        "('role1:prep_from:role0:dobj', 1)\n",
        "('role1:nsubj:role0:conj_or', 1)\n",
        "('role1:prep_after:role0:root', 1)\n",
        "('role1:prep_about:role0:nn', 1)\n",
        "('role1:appos:role0:prep_across', 1)\n",
        "('role1:prep_about:role0:dobj', 1)\n",
        "('role1:dobj:role0:prep_in', 1)\n",
        "('role1:prep_in:role0:conj_and', 1)\n",
        "('role1:prep_of:role0:pobj', 1)\n",
        "('role1:prep_of:role0:prep_in', 1)\n",
        "('role1:poss:role0:prep_from', 1)\n",
        "('role1:prep_in:role0:xcomp', 1)\n",
        "('role1:prep_near:role0:dobj', 1)\n",
        "('role1:prep_of:role0:prep_as', 1)\n",
        "('role1:prep_from:role0:pobj', 1)\n",
        "('role1:npadvmod:role0:npadvmod', 1)\n",
        "('role1:prep_as:role0:nn', 1)\n",
        "('role1:agent:role0:root', 1)\n",
        "('role1:num:role0:prep_of', 1)\n",
        "('role1:prep_for:role0:prep_for', 1)\n",
        "('role1:conj_and:role0:prep_with', 1)\n",
        "('role1:dep:role0:conj_or', 1)\n",
        "('role1:dobj:role0:prep_for', 1)\n",
        "('role1:dobj:role0:prep_about', 1)\n",
        "('role1:ccomp:role0:ccomp', 1)\n",
        "('role1:dep:role0:prep_with', 1)\n",
        "('role1:prep_about:role0:prep_about', 1)\n",
        "('role1:prep_from:role0:appos', 1)\n",
        "('role1:agent:role0:pobj', 1)\n",
        "('role1:rcmod:role0:nsubj', 1)\n",
        "('role1:tmod:role0:prep_in', 1)\n",
        "('role1:prep_throughout:role0:conj_and', 1)\n",
        "('role1:pobj:role0:prep_from', 1)\n",
        "('role1:xcomp:role0:nsubj', 1)\n"
       ]
      }
     ],
     "prompt_number": 3
    },
    {
     "cell_type": "code",
     "collapsed": false,
     "input": [
      "counts = defaultdict(int)\n",
      "\n",
      "for doc in train_apws:\n",
      "    model = RushModel(doc, history=2, features=set(['pron_res']))\n",
      "    gold_trans = model.gold_transitions()\n",
      "    for trans in gold_trans:\n",
      "        for f in model.feature_map(trans):\n",
      "            counts[f] += 1\n",
      "\n",
      "fcounts = [(f, counts[f]) for f in counts]\n",
      "fcounts.sort(reverse=True, key=lambda a:a[1])\n",
      "for c in fcounts:\n",
      "    print c"
     ],
     "language": "python",
     "outputs": []
    },
    {
     "cell_type": "code",
     "collapsed": false,
     "input": [
      "counts = defaultdict(int)\n",
      "\n",
      "for doc in train_apws:\n",
      "    model = RushModel(doc, history=2, features=set(['ne_tags']))\n",
      "    gold_trans = model.gold_transitions()\n",
      "    for trans in gold_trans:\n",
      "        for f in model.feature_map(trans):\n",
      "            counts[f] += 1\n",
      "\n",
      "fcounts = [(f, counts[f]) for f in counts]\n",
      "fcounts.sort(reverse=True, key=lambda a:a[1])\n",
      "for c in fcounts:\n",
      "    print c"
     ],
     "language": "python",
     "outputs": []
    },
    {
     "cell_type": "code",
     "collapsed": false,
     "input": [
      "counts = defaultdict(int)\n",
      "\n",
      "for doc in train_apws:\n",
      "    model = RushModel(doc, history=2, features=set(['num_caps']))\n",
      "    gold_trans = model.gold_transitions()\n",
      "    for trans in gold_trans:\n",
      "        for f in model.feature_map(trans):\n",
      "            counts[f] += 1\n",
      "\n",
      "fcounts = [(f, counts[f]) for f in counts]\n",
      "fcounts.sort(reverse=True, key=lambda a:a[1])\n",
      "for c in fcounts:\n",
      "    print c"
     ],
     "language": "python",
     "outputs": []
    },
    {
     "cell_type": "code",
     "collapsed": false,
     "input": [
      "counts = defaultdict(int)\n",
      "\n",
      "for doc in train_apws:\n",
      "    model = RushModel(doc, history=2, features=set(['quotes']))\n",
      "    gold_trans = model.gold_transitions()\n",
      "    for trans in gold_trans:\n",
      "        for f in model.feature_map(trans):\n",
      "            counts[f] += 1\n",
      "\n",
      "fcounts = [(f, counts[f]) for f in counts]\n",
      "fcounts.sort(reverse=True, key=lambda a:a[1])\n",
      "for c in fcounts:\n",
      "    print c"
     ],
     "language": "python",
     "outputs": []
    },
    {
     "cell_type": "heading",
     "level": 1,
     "source": [
      "ALL FEATURES"
     ]
    },
    {
     "cell_type": "code",
     "collapsed": false,
     "input": [
      "dataX = []\n",
      "dataY = []\n",
      "\n",
      "for doc in train_apws:\n",
      "    if len(doc) > 8: continue\n",
      "    model = RushModel(doc, history=2)\n",
      "    gold_trans = model.gold_transitions()\n",
      "\n",
      "    dataX.append(model)\n",
      "    dataY.append(gold_trans)\n",
      "print \"{} instances loaded.\".format(len(dataX))\n"
     ],
     "language": "python",
     "outputs": [
      {
       "output_type": "stream",
       "stream": "stdout",
       "text": [
        "58 instances loaded.\n"
       ]
      }
     ],
     "prompt_number": 15
    },
    {
     "cell_type": "code",
     "collapsed": false,
     "input": [
      "ptron.dsm._use_relaxed = True\n",
      "ptron.dsm._use_gurobi = False\n",
      "ptron.dsm._debug = True"
     ],
     "language": "python",
     "outputs": [],
     "prompt_number": 12
    },
    {
     "cell_type": "code",
     "collapsed": false,
     "input": [
      "print \"running perceptron\"\n",
      "ptron.fit(dataX,dataY)"
     ],
     "language": "python",
     "outputs": [
      {
       "output_type": "stream",
       "stream": "stdout",
       "text": [
        "running perceptron\n",
        "iteration 0"
       ]
      },
      {
       "output_type": "stream",
       "stream": "stderr",
       "text": [
        "BUILD HYPERGRAPH: 0.0238409042358\n",
        "BUILD POTENTIALS:"
       ]
      },
      {
       "output_type": "stream",
       "stream": "stderr",
       "text": [
        " 0.11657500267\n",
        "BUILD LP:"
       ]
      },
      {
       "output_type": "stream",
       "stream": "stderr",
       "text": [
        " 0.21594619751\n",
        "SOLVE LP:"
       ]
      },
      {
       "output_type": "stream",
       "stream": "stderr",
       "text": [
        " 0.14933514595\n",
        "BUILD HYPERGRAPH: 0.00334620475769\n",
        "BUILD POTENTIALS:"
       ]
      },
      {
       "output_type": "stream",
       "stream": "stderr",
       "text": [
        " 0.042083978653\n",
        "BUILD LP: 0.0363550186157\n",
        "SOLVE LP:"
       ]
      },
      {
       "output_type": "stream",
       "stream": "stderr",
       "text": [
        " 0.0914580821991\n",
        "BUILD HYPERGRAPH: 0.0114729404449\n",
        "BUILD POTENTIALS:"
       ]
      },
      {
       "output_type": "stream",
       "stream": "stderr",
       "text": [
        " 0.0731739997864\n",
        "BUILD LP:"
       ]
      },
      {
       "output_type": "stream",
       "stream": "stderr",
       "text": [
        " 0.111598968506\n",
        "SOLVE LP:"
       ]
      },
      {
       "output_type": "stream",
       "stream": "stderr",
       "text": [
        " 0.107126951218\n",
        "BUILD HYPERGRAPH:"
       ]
      },
      {
       "output_type": "stream",
       "stream": "stderr",
       "text": [
        " 0.0958738327026\n",
        "BUILD POTENTIALS:"
       ]
      },
      {
       "output_type": "stream",
       "stream": "stderr",
       "text": [
        " 0.223970890045\n",
        "BUILD LP:"
       ]
      },
      {
       "output_type": "stream",
       "stream": "stderr",
       "text": [
        " 0.932060956955\n",
        "SOLVE LP:"
       ]
      },
      {
       "output_type": "stream",
       "stream": "stderr",
       "text": [
        " 0.39836192131\n",
        "BUILD HYPERGRAPH:"
       ]
      },
      {
       "output_type": "stream",
       "stream": "stderr",
       "text": [
        " 0.0527641773224\n",
        "BUILD POTENTIALS:"
       ]
      },
      {
       "output_type": "stream",
       "stream": "stderr",
       "text": [
        " 0.173665046692\n",
        "BUILD LP:"
       ]
      },
      {
       "output_type": "stream",
       "stream": "stderr",
       "text": [
        " 0.492980003357\n",
        "SOLVE LP:"
       ]
      },
      {
       "output_type": "stream",
       "stream": "stderr",
       "text": [
        " 0.242089986801\n",
        "BUILD HYPERGRAPH:"
       ]
      },
      {
       "output_type": "stream",
       "stream": "stderr",
       "text": [
        " 0.0949051380157\n",
        "BUILD POTENTIALS:"
       ]
      },
      {
       "output_type": "stream",
       "stream": "stderr",
       "text": [
        " 0.318459033966\n",
        "BUILD LP:"
       ]
      },
      {
       "output_type": "stream",
       "stream": "stderr",
       "text": [
        " 0.911463975906\n",
        "SOLVE LP:"
       ]
      },
      {
       "output_type": "stream",
       "stream": "stderr",
       "text": [
        " 0.395835876465\n",
        "BUILD HYPERGRAPH: 0.00416898727417\n",
        "BUILD POTENTIALS:"
       ]
      },
      {
       "output_type": "stream",
       "stream": "stderr",
       "text": [
        " 0.041079044342\n",
        "BUILD LP: 0.0326299667358\n",
        "SOLVE LP:"
       ]
      },
      {
       "output_type": "stream",
       "stream": "stderr",
       "text": [
        " 0.0863530635834\n",
        "BUILD HYPERGRAPH: 0.00333905220032\n",
        "BUILD POTENTIALS:"
       ]
      },
      {
       "output_type": "stream",
       "stream": "stderr",
       "text": [
        " 0.0409550666809\n",
        "BUILD LP: 0.0408890247345\n",
        "SOLVE LP:"
       ]
      },
      {
       "output_type": "stream",
       "stream": "stderr",
       "text": [
        " 0.0852198600769\n",
        "BUILD HYPERGRAPH:"
       ]
      },
      {
       "output_type": "stream",
       "stream": "stderr",
       "text": [
        " 0.0508010387421\n",
        "BUILD POTENTIALS:"
       ]
      },
      {
       "output_type": "stream",
       "stream": "stderr",
       "text": [
        " 0.110923051834\n",
        "BUILD LP:"
       ]
      },
      {
       "output_type": "stream",
       "stream": "stderr",
       "text": [
        " 2.01837611198\n",
        "SOLVE LP:"
       ]
      },
      {
       "output_type": "stream",
       "stream": "stderr",
       "text": [
        " 0.246354103088\n",
        "BUILD HYPERGRAPH:"
       ]
      },
      {
       "output_type": "stream",
       "stream": "stderr",
       "text": [
        " 0.0973467826843\n",
        "BUILD POTENTIALS:"
       ]
      },
      {
       "output_type": "stream",
       "stream": "stderr",
       "text": [
        " 0.254150867462\n",
        "BUILD LP:"
       ]
      },
      {
       "output_type": "stream",
       "stream": "stderr",
       "text": [
        " 0.9420170784\n",
        "SOLVE LP:"
       ]
      },
      {
       "output_type": "stream",
       "stream": "stderr",
       "text": [
        " 0.399265050888\n",
        "BUILD HYPERGRAPH:"
       ]
      },
      {
       "output_type": "stream",
       "stream": "stderr",
       "text": [
        " 0.0581109523773\n",
        "BUILD POTENTIALS:"
       ]
      },
      {
       "output_type": "stream",
       "stream": "stderr",
       "text": [
        " 0.0929789543152\n",
        "BUILD LP:"
       ]
      },
      {
       "output_type": "stream",
       "stream": "stderr",
       "text": [
        " 0.576281070709\n",
        "SOLVE LP:"
       ]
      },
      {
       "output_type": "stream",
       "stream": "stderr",
       "text": [
        " 0.252706050873\n",
        "BUILD HYPERGRAPH: 0.0104420185089\n",
        "BUILD POTENTIALS:"
       ]
      },
      {
       "output_type": "stream",
       "stream": "stderr",
       "text": [
        " 0.0640761852264\n",
        "BUILD LP:"
       ]
      },
      {
       "output_type": "stream",
       "stream": "stderr",
       "text": [
        " 0.104259967804\n",
        "SOLVE LP:"
       ]
      },
      {
       "output_type": "stream",
       "stream": "stderr",
       "text": [
        " 0.108201026917\n",
        "BUILD HYPERGRAPH: 0.0147848129272\n",
        "BUILD POTENTIALS:"
       ]
      },
      {
       "output_type": "stream",
       "stream": "stderr",
       "text": [
        " 0.0613238811493\n",
        "BUILD LP:"
       ]
      },
      {
       "output_type": "stream",
       "stream": "stderr",
       "text": [
        " 0.0983469486237\n",
        "SOLVE LP:"
       ]
      },
      {
       "output_type": "stream",
       "stream": "stderr",
       "text": [
        " 0.111085176468\n",
        "BUILD HYPERGRAPH:"
       ]
      },
      {
       "output_type": "stream",
       "stream": "stderr",
       "text": [
        " 0.0531890392303\n",
        "BUILD POTENTIALS:"
       ]
      },
      {
       "output_type": "stream",
       "stream": "stderr",
       "text": [
        " 0.118774175644\n",
        "BUILD LP:"
       ]
      },
      {
       "output_type": "stream",
       "stream": "stderr",
       "text": [
        " 0.52028298378\n",
        "SOLVE LP:"
       ]
      },
      {
       "output_type": "stream",
       "stream": "stderr",
       "text": [
        " 0.241960048676\n",
        "BUILD HYPERGRAPH:"
       ]
      },
      {
       "output_type": "stream",
       "stream": "stderr",
       "text": [
        " 0.167820930481\n",
        "BUILD POTENTIALS:"
       ]
      },
      {
       "output_type": "stream",
       "stream": "stderr",
       "text": [
        " 0.274260044098\n",
        "BUILD LP:"
       ]
      },
      {
       "output_type": "stream",
       "stream": "stderr",
       "text": [
        " 2.30820202827\n",
        "SOLVE LP:"
       ]
      },
      {
       "output_type": "stream",
       "stream": "stderr",
       "text": [
        " 0.706414937973\n",
        "BUILD HYPERGRAPH:"
       ]
      },
      {
       "output_type": "stream",
       "stream": "stderr",
       "text": [
        " 0.173445940018\n",
        "BUILD POTENTIALS:"
       ]
      },
      {
       "output_type": "stream",
       "stream": "stderr",
       "text": [
        " 0.277304887772\n",
        "BUILD LP:"
       ]
      },
      {
       "output_type": "stream",
       "stream": "stderr",
       "text": [
        " 1.61111092567\n",
        "SOLVE LP:"
       ]
      },
      {
       "output_type": "stream",
       "stream": "stderr",
       "text": [
        " 0.661837100983\n",
        "BUILD HYPERGRAPH:"
       ]
      },
      {
       "output_type": "stream",
       "stream": "stderr",
       "text": [
        " 0.0503079891205\n",
        "BUILD POTENTIALS:"
       ]
      },
      {
       "output_type": "stream",
       "stream": "stderr",
       "text": [
        " 0.157706022263\n",
        "BUILD LP:"
       ]
      },
      {
       "output_type": "stream",
       "stream": "stderr",
       "text": [
        " 0.499817848206\n",
        "SOLVE LP:"
       ]
      },
      {
       "output_type": "stream",
       "stream": "stderr",
       "text": [
        " 0.248573064804\n",
        "BUILD HYPERGRAPH:"
       ]
      },
      {
       "output_type": "stream",
       "stream": "stderr",
       "text": [
        " 0.050873041153\n",
        "BUILD POTENTIALS:"
       ]
      },
      {
       "output_type": "stream",
       "stream": "stderr",
       "text": [
        " 0.170663118362\n",
        "BUILD LP:"
       ]
      },
      {
       "output_type": "stream",
       "stream": "stderr",
       "text": [
        " 0.501368999481\n",
        "SOLVE LP:"
       ]
      },
      {
       "output_type": "stream",
       "stream": "stderr",
       "text": [
        " 0.260964870453\n",
        "BUILD HYPERGRAPH:"
       ]
      },
      {
       "output_type": "stream",
       "stream": "stderr",
       "text": [
        " 0.165544033051\n",
        "BUILD POTENTIALS:"
       ]
      },
      {
       "output_type": "stream",
       "stream": "stderr",
       "text": [
        " 0.264797925949\n",
        "BUILD LP:"
       ]
      },
      {
       "output_type": "stream",
       "stream": "stderr",
       "text": [
        " 2.29475593567\n",
        "SOLVE LP:"
       ]
      },
      {
       "output_type": "stream",
       "stream": "stderr",
       "text": [
        " 0.625946998596\n",
        "BUILD HYPERGRAPH:"
       ]
      },
      {
       "output_type": "stream",
       "stream": "stderr",
       "text": [
        " 0.166701078415\n",
        "BUILD POTENTIALS:"
       ]
      },
      {
       "output_type": "stream",
       "stream": "stderr",
       "text": [
        " 0.249372959137\n",
        "BUILD LP:"
       ]
      },
      {
       "output_type": "stream",
       "stream": "stderr",
       "text": [
        " 1.65374898911\n",
        "SOLVE LP:"
       ]
      },
      {
       "output_type": "stream",
       "stream": "stderr",
       "text": [
        " 0.681193113327\n",
        "BUILD HYPERGRAPH:"
       ]
      },
      {
       "output_type": "stream",
       "stream": "stderr",
       "text": [
        " 0.0507168769836\n",
        "BUILD POTENTIALS:"
       ]
      },
      {
       "output_type": "stream",
       "stream": "stderr",
       "text": [
        " 0.0788679122925\n",
        "BUILD LP:"
       ]
      },
      {
       "output_type": "stream",
       "stream": "stderr",
       "text": [
        " 0.494270086288\n",
        "SOLVE LP:"
       ]
      },
      {
       "output_type": "stream",
       "stream": "stderr",
       "text": [
        " 0.249392032623\n",
        "BUILD HYPERGRAPH:"
       ]
      },
      {
       "output_type": "stream",
       "stream": "stderr",
       "text": [
        " 0.053307056427\n",
        "BUILD POTENTIALS:"
       ]
      },
      {
       "output_type": "stream",
       "stream": "stderr",
       "text": [
        " 0.078840970993\n",
        "BUILD LP:"
       ]
      },
      {
       "output_type": "stream",
       "stream": "stderr",
       "text": [
        " 0.512811899185\n",
        "SOLVE LP:"
       ]
      },
      {
       "output_type": "stream",
       "stream": "stderr",
       "text": [
        " 0.245658159256\n",
        "BUILD HYPERGRAPH:"
       ]
      },
      {
       "output_type": "stream",
       "stream": "stderr",
       "text": [
        " 0.105756044388\n",
        "BUILD POTENTIALS:"
       ]
      },
      {
       "output_type": "stream",
       "stream": "stderr",
       "text": [
        " 0.229952096939\n",
        "BUILD LP:"
       ]
      },
      {
       "output_type": "stream",
       "stream": "stderr",
       "text": [
        " 0.928123950958\n",
        "SOLVE LP:"
       ]
      },
      {
       "output_type": "stream",
       "stream": "stderr",
       "text": [
        " 0.416054964066\n",
        "BUILD HYPERGRAPH: 0.0245640277863\n",
        "BUILD POTENTIALS:"
       ]
      },
      {
       "output_type": "stream",
       "stream": "stderr",
       "text": [
        " 0.0501849651337\n",
        "BUILD LP:"
       ]
      },
      {
       "output_type": "stream",
       "stream": "stderr",
       "text": [
        " 0.934048891068\n",
        "SOLVE LP:"
       ]
      },
      {
       "output_type": "stream",
       "stream": "stderr",
       "text": [
        " 0.15501999855\n",
        "BUILD HYPERGRAPH:"
       ]
      },
      {
       "output_type": "stream",
       "stream": "stderr",
       "text": [
        " 0.115863084793\n",
        "BUILD POTENTIALS:"
       ]
      },
      {
       "output_type": "stream",
       "stream": "stderr",
       "text": [
        " 0.18541097641\n",
        "BUILD LP:"
       ]
      },
      {
       "output_type": "stream",
       "stream": "stderr",
       "text": [
        " 0.967518091202\n",
        "SOLVE LP:"
       ]
      },
      {
       "output_type": "stream",
       "stream": "stderr",
       "text": [
        " 0.416896104813\n",
        "BUILD HYPERGRAPH:"
       ]
      },
      {
       "output_type": "stream",
       "stream": "stderr",
       "text": [
        " 0.108809947968\n",
        "BUILD POTENTIALS:"
       ]
      },
      {
       "output_type": "stream",
       "stream": "stderr",
       "text": [
        " 0.172159910202\n",
        "BUILD LP:"
       ]
      },
      {
       "output_type": "stream",
       "stream": "stderr",
       "text": [
        " 1.00434303284\n",
        "SOLVE LP:"
       ]
      },
      {
       "output_type": "stream",
       "stream": "stderr",
       "text": [
        " 0.407408952713\n",
        "BUILD HYPERGRAPH:"
       ]
      },
      {
       "output_type": "stream",
       "stream": "stderr",
       "text": [
        " 0.0954129695892\n",
        "BUILD POTENTIALS:"
       ]
      },
      {
       "output_type": "stream",
       "stream": "stderr",
       "text": [
        " 0.186069011688\n",
        "BUILD LP:"
       ]
      },
      {
       "output_type": "stream",
       "stream": "stderr",
       "text": [
        " 0.942348003387\n",
        "SOLVE LP:"
       ]
      },
      {
       "output_type": "stream",
       "stream": "stderr",
       "text": [
        " 0.405573129654\n",
        "BUILD HYPERGRAPH:"
       ]
      },
      {
       "output_type": "stream",
       "stream": "stderr",
       "text": [
        " 0.0554709434509\n",
        "BUILD POTENTIALS:"
       ]
      },
      {
       "output_type": "stream",
       "stream": "stderr",
       "text": [
        " 0.186748981476\n",
        "BUILD LP:"
       ]
      },
      {
       "output_type": "stream",
       "stream": "stderr",
       "text": [
        " 0.49286198616\n",
        "SOLVE LP:"
       ]
      },
      {
       "output_type": "stream",
       "stream": "stderr",
       "text": [
        " 0.247848987579\n",
        "BUILD HYPERGRAPH: 0.0154981613159\n",
        "BUILD POTENTIALS:"
       ]
      },
      {
       "output_type": "stream",
       "stream": "stderr",
       "text": [
        " 0.034145116806\n",
        "BUILD LP:"
       ]
      },
      {
       "output_type": "stream",
       "stream": "stderr",
       "text": [
        " 0.0968859195709\n",
        "SOLVE LP:"
       ]
      },
      {
       "output_type": "stream",
       "stream": "stderr",
       "text": [
        " 0.108898878098\n",
        "BUILD HYPERGRAPH: 0.0254640579224\n",
        "BUILD POTENTIALS:"
       ]
      },
      {
       "output_type": "stream",
       "stream": "stderr",
       "text": [
        " 0.0469601154327\n",
        "BUILD LP:"
       ]
      },
      {
       "output_type": "stream",
       "stream": "stderr",
       "text": [
        " 0.238533973694\n",
        "SOLVE LP:"
       ]
      },
      {
       "output_type": "stream",
       "stream": "stderr",
       "text": [
        " 0.154886960983\n",
        "BUILD HYPERGRAPH:"
       ]
      },
      {
       "output_type": "stream",
       "stream": "stderr",
       "text": [
        " 0.0943109989166\n",
        "BUILD POTENTIALS:"
       ]
      },
      {
       "output_type": "stream",
       "stream": "stderr",
       "text": [
        " 0.242152929306\n",
        "BUILD LP:"
       ]
      },
      {
       "output_type": "stream",
       "stream": "stderr",
       "text": [
        " 1.59972691536\n",
        "SOLVE LP:"
       ]
      },
      {
       "output_type": "stream",
       "stream": "stderr",
       "text": [
        " 0.399001121521\n",
        "BUILD HYPERGRAPH:"
       ]
      },
      {
       "output_type": "stream",
       "stream": "stderr",
       "text": [
        " 0.104809999466\n",
        "BUILD POTENTIALS:"
       ]
      },
      {
       "output_type": "stream",
       "stream": "stderr",
       "text": [
        " 0.231028079987\n",
        "BUILD LP:"
       ]
      },
      {
       "output_type": "stream",
       "stream": "stderr",
       "text": [
        " 0.96066403389\n",
        "SOLVE LP:"
       ]
      },
      {
       "output_type": "stream",
       "stream": "stderr",
       "text": [
        " 0.413388967514\n",
        "BUILD HYPERGRAPH:"
       ]
      },
      {
       "output_type": "stream",
       "stream": "stderr",
       "text": [
        " 0.0961558818817\n",
        "BUILD POTENTIALS:"
       ]
      },
      {
       "output_type": "stream",
       "stream": "stderr",
       "text": [
        " 0.175070047379\n",
        "BUILD LP:"
       ]
      },
      {
       "output_type": "stream",
       "stream": "stderr",
       "text": [
        " 0.951503992081\n",
        "SOLVE LP:"
       ]
      },
      {
       "output_type": "stream",
       "stream": "stderr",
       "text": [
        " 0.420022964478\n",
        "BUILD HYPERGRAPH:"
       ]
      },
      {
       "output_type": "stream",
       "stream": "stderr",
       "text": [
        " 0.0979979038239\n",
        "BUILD POTENTIALS:"
       ]
      },
      {
       "output_type": "stream",
       "stream": "stderr",
       "text": [
        " 0.257644891739\n",
        "BUILD LP:"
       ]
      },
      {
       "output_type": "stream",
       "stream": "stderr",
       "text": [
        " 0.937832117081\n",
        "SOLVE LP:"
       ]
      },
      {
       "output_type": "stream",
       "stream": "stderr",
       "text": [
        " 0.417379140854\n",
        "BUILD HYPERGRAPH:"
       ]
      },
      {
       "output_type": "stream",
       "stream": "stderr",
       "text": [
        " 0.103236913681\n",
        "BUILD POTENTIALS:"
       ]
      },
      {
       "output_type": "stream",
       "stream": "stderr",
       "text": [
        " 0.169327020645\n",
        "BUILD LP:"
       ]
      },
      {
       "output_type": "stream",
       "stream": "stderr",
       "text": [
        " 1.60430693626\n",
        "SOLVE LP:"
       ]
      },
      {
       "output_type": "stream",
       "stream": "stderr",
       "text": [
        " 0.407023906708\n",
        "BUILD HYPERGRAPH:"
       ]
      },
      {
       "output_type": "stream",
       "stream": "stderr",
       "text": [
        " 0.0619330406189\n",
        "BUILD POTENTIALS:"
       ]
      },
      {
       "output_type": "stream",
       "stream": "stderr",
       "text": [
        " 0.101474046707\n",
        "BUILD LP:"
       ]
      },
      {
       "output_type": "stream",
       "stream": "stderr",
       "text": [
        " 0.544886827469\n",
        "SOLVE LP:"
       ]
      },
      {
       "output_type": "stream",
       "stream": "stderr",
       "text": [
        " 0.247759819031\n",
        "BUILD HYPERGRAPH:"
       ]
      },
      {
       "output_type": "stream",
       "stream": "stderr",
       "text": [
        " 0.0549719333649\n",
        "BUILD POTENTIALS:"
       ]
      },
      {
       "output_type": "stream",
       "stream": "stderr",
       "text": [
        " 0.0976459980011\n",
        "BUILD LP:"
       ]
      },
      {
       "output_type": "stream",
       "stream": "stderr",
       "text": [
        " 0.527229785919\n",
        "SOLVE LP:"
       ]
      },
      {
       "output_type": "stream",
       "stream": "stderr",
       "text": [
        " 0.245240926743\n",
        "BUILD HYPERGRAPH:"
       ]
      },
      {
       "output_type": "stream",
       "stream": "stderr",
       "text": [
        " 0.0540719032288\n",
        "BUILD POTENTIALS:"
       ]
      },
      {
       "output_type": "stream",
       "stream": "stderr",
       "text": [
        " 0.195708036423\n",
        "BUILD LP:"
       ]
      },
      {
       "output_type": "stream",
       "stream": "stderr",
       "text": [
        " 0.525715112686\n",
        "SOLVE LP:"
       ]
      },
      {
       "output_type": "stream",
       "stream": "stderr",
       "text": [
        " 0.24934887886\n",
        "BUILD HYPERGRAPH:"
       ]
      },
      {
       "output_type": "stream",
       "stream": "stderr",
       "text": [
        " 0.0995860099792\n",
        "BUILD POTENTIALS:"
       ]
      },
      {
       "output_type": "stream",
       "stream": "stderr",
       "text": [
        " 0.305330991745\n",
        "BUILD LP:"
       ]
      },
      {
       "output_type": "stream",
       "stream": "stderr",
       "text": [
        " 0.945682048798\n",
        "SOLVE LP:"
       ]
      },
      {
       "output_type": "stream",
       "stream": "stderr",
       "text": [
        " 0.411810874939\n",
        "BUILD HYPERGRAPH: 0.0256850719452\n",
        "BUILD POTENTIALS:"
       ]
      },
      {
       "output_type": "stream",
       "stream": "stderr",
       "text": [
        " 0.0516481399536\n",
        "BUILD LP:"
       ]
      },
      {
       "output_type": "stream",
       "stream": "stderr",
       "text": [
        " 0.231415987015\n",
        "SOLVE LP:"
       ]
      },
      {
       "output_type": "stream",
       "stream": "stderr",
       "text": [
        " 0.160460948944\n",
        "BUILD HYPERGRAPH: 0.0228910446167\n",
        "BUILD POTENTIALS:"
       ]
      },
      {
       "output_type": "stream",
       "stream": "stderr",
       "text": [
        " 0.074697971344\n",
        "BUILD LP:"
       ]
      },
      {
       "output_type": "stream",
       "stream": "stderr",
       "text": [
        " 0.246994018555\n",
        "SOLVE LP:"
       ]
      },
      {
       "output_type": "stream",
       "stream": "stderr",
       "text": [
        " 0.158404827118\n",
        "BUILD HYPERGRAPH: 0.0226321220398\n",
        "BUILD POTENTIALS:"
       ]
      },
      {
       "output_type": "stream",
       "stream": "stderr",
       "text": [
        " 0.105408906937\n",
        "BUILD LP:"
       ]
      },
      {
       "output_type": "stream",
       "stream": "stderr",
       "text": [
        " 0.244174957275\n",
        "SOLVE LP:"
       ]
      },
      {
       "output_type": "stream",
       "stream": "stderr",
       "text": [
        " 0.15144610405\n",
        "BUILD HYPERGRAPH: 0.00960993766785\n",
        "BUILD POTENTIALS:"
       ]
      },
      {
       "output_type": "stream",
       "stream": "stderr",
       "text": [
        " 0.0735259056091\n",
        "BUILD LP:"
       ]
      },
      {
       "output_type": "stream",
       "stream": "stderr",
       "text": [
        " 0.102617025375\n",
        "SOLVE LP:"
       ]
      },
      {
       "output_type": "stream",
       "stream": "stderr",
       "text": [
        " 0.119460105896\n",
        "BUILD HYPERGRAPH:"
       ]
      },
      {
       "output_type": "stream",
       "stream": "stderr",
       "text": [
        " 0.0997757911682\n",
        "BUILD POTENTIALS:"
       ]
      },
      {
       "output_type": "stream",
       "stream": "stderr",
       "text": [
        " 0.164744138718\n",
        "BUILD LP:"
       ]
      },
      {
       "output_type": "stream",
       "stream": "stderr",
       "text": [
        " 0.938340902328\n",
        "SOLVE LP:"
       ]
      },
      {
       "output_type": "stream",
       "stream": "stderr",
       "text": [
        " 0.391937017441\n",
        "BUILD HYPERGRAPH:"
       ]
      },
      {
       "output_type": "stream",
       "stream": "stderr",
       "text": [
        " 0.0507090091705\n",
        "BUILD POTENTIALS:"
       ]
      },
      {
       "output_type": "stream",
       "stream": "stderr",
       "text": [
        " 0.219471931458\n",
        "BUILD LP:"
       ]
      },
      {
       "output_type": "stream",
       "stream": "stderr",
       "text": [
        " 1.25485920906\n",
        "SOLVE LP:"
       ]
      },
      {
       "output_type": "stream",
       "stream": "stderr",
       "text": [
        " 0.244562149048\n",
        "BUILD HYPERGRAPH: 0.0126709938049\n",
        "BUILD POTENTIALS:"
       ]
      },
      {
       "output_type": "stream",
       "stream": "stderr",
       "text": [
        " 0.0707168579102\n",
        "BUILD LP:"
       ]
      },
      {
       "output_type": "stream",
       "stream": "stderr",
       "text": [
        " 0.112405061722\n",
        "SOLVE LP:"
       ]
      },
      {
       "output_type": "stream",
       "stream": "stderr",
       "text": [
        " 0.110840082169\n",
        "BUILD HYPERGRAPH:"
       ]
      },
      {
       "output_type": "stream",
       "stream": "stderr",
       "text": [
        " 0.108794927597\n",
        "BUILD POTENTIALS:"
       ]
      },
      {
       "output_type": "stream",
       "stream": "stderr",
       "text": [
        " 0.1613509655\n",
        "BUILD LP:"
       ]
      },
      {
       "output_type": "stream",
       "stream": "stderr",
       "text": [
        " 0.965934991837\n",
        "SOLVE LP:"
       ]
      },
      {
       "output_type": "stream",
       "stream": "stderr",
       "text": [
        " 0.450654029846\n",
        "BUILD HYPERGRAPH:"
       ]
      },
      {
       "output_type": "stream",
       "stream": "stderr",
       "text": [
        " 0.0659220218658\n",
        "BUILD POTENTIALS:"
       ]
      },
      {
       "output_type": "stream",
       "stream": "stderr",
       "text": [
        " 0.094920873642\n",
        "BUILD LP:"
       ]
      },
      {
       "output_type": "stream",
       "stream": "stderr",
       "text": [
        " 0.519082069397\n",
        "SOLVE LP:"
       ]
      },
      {
       "output_type": "stream",
       "stream": "stderr",
       "text": [
        " 0.248620986938\n",
        "BUILD HYPERGRAPH: 0.0245621204376\n",
        "BUILD POTENTIALS:"
       ]
      },
      {
       "output_type": "stream",
       "stream": "stderr",
       "text": [
        " 0.0523121356964\n",
        "BUILD LP:"
       ]
      },
      {
       "output_type": "stream",
       "stream": "stderr",
       "text": [
        " 0.253540992737\n",
        "SOLVE LP:"
       ]
      },
      {
       "output_type": "stream",
       "stream": "stderr",
       "text": [
        " 0.15952205658\n",
        "BUILD HYPERGRAPH:"
       ]
      },
      {
       "output_type": "stream",
       "stream": "stderr",
       "text": [
        " 0.110871076584\n",
        "BUILD POTENTIALS:"
       ]
      },
      {
       "output_type": "stream",
       "stream": "stderr",
       "text": [
        " 0.326052188873\n",
        "BUILD LP:"
       ]
      },
      {
       "output_type": "stream",
       "stream": "stderr",
       "text": [
        " 0.964663028717\n",
        "SOLVE LP:"
       ]
      },
      {
       "output_type": "stream",
       "stream": "stderr",
       "text": [
        " 0.415063142776\n",
        "BUILD HYPERGRAPH: 0.00939702987671\n",
        "BUILD POTENTIALS:"
       ]
      },
      {
       "output_type": "stream",
       "stream": "stderr",
       "text": [
        " 0.0875790119171\n",
        "BUILD LP:"
       ]
      },
      {
       "output_type": "stream",
       "stream": "stderr",
       "text": [
        " 0.100640058517\n",
        "SOLVE LP:"
       ]
      },
      {
       "output_type": "stream",
       "stream": "stderr",
       "text": [
        " 0.178418159485\n",
        "BUILD HYPERGRAPH: 0.0302448272705\n",
        "BUILD POTENTIALS:"
       ]
      },
      {
       "output_type": "stream",
       "stream": "stderr",
       "text": [
        " 0.0645489692688\n",
        "BUILD LP:"
       ]
      },
      {
       "output_type": "stream",
       "stream": "stderr",
       "text": [
        " 0.237447977066\n",
        "SOLVE LP:"
       ]
      },
      {
       "output_type": "stream",
       "stream": "stderr",
       "text": [
        " 0.159564971924\n",
        "BUILD HYPERGRAPH: 0.0239028930664\n",
        "BUILD POTENTIALS:"
       ]
      },
      {
       "output_type": "stream",
       "stream": "stderr",
       "text": [
        " 0.0773041248322\n",
        "BUILD LP:"
       ]
      },
      {
       "output_type": "stream",
       "stream": "stderr",
       "text": [
        " 0.24406003952\n",
        "SOLVE LP:"
       ]
      },
      {
       "output_type": "stream",
       "stream": "stderr",
       "text": [
        " 0.16836309433\n",
        "BUILD HYPERGRAPH: 0.00980186462402\n",
        "BUILD POTENTIALS: 0.0267498493195\n",
        "BUILD LP:"
       ]
      },
      {
       "output_type": "stream",
       "stream": "stderr",
       "text": [
        " 0.0951890945435\n",
        "SOLVE LP:"
       ]
      },
      {
       "output_type": "stream",
       "stream": "stderr",
       "text": [
        " 0.105183839798\n",
        "BUILD HYPERGRAPH: 0.0114440917969\n",
        "BUILD POTENTIALS:"
       ]
      },
      {
       "output_type": "stream",
       "stream": "stderr",
       "text": [
        " 0.0388178825378\n",
        "BUILD LP:"
       ]
      },
      {
       "output_type": "stream",
       "stream": "stderr",
       "text": [
        " 0.0952219963074\n",
        "SOLVE LP:"
       ]
      },
      {
       "output_type": "stream",
       "stream": "stderr",
       "text": [
        " 0.109623908997\n",
        "BUILD HYPERGRAPH: 0.0237278938293\n",
        "BUILD POTENTIALS:"
       ]
      },
      {
       "output_type": "stream",
       "stream": "stderr",
       "text": [
        " 0.104219913483\n",
        "BUILD LP:"
       ]
      },
      {
       "output_type": "stream",
       "stream": "stderr",
       "text": [
        " 0.242863893509\n",
        "SOLVE LP:"
       ]
      },
      {
       "output_type": "stream",
       "stream": "stderr",
       "text": [
        " 0.157961130142\n",
        "BUILD HYPERGRAPH:"
       ]
      },
      {
       "output_type": "stream",
       "stream": "stderr",
       "text": [
        " 0.0945391654968\n",
        "BUILD POTENTIALS:"
       ]
      },
      {
       "output_type": "stream",
       "stream": "stderr",
       "text": [
        " 0.289314031601\n",
        "BUILD LP:"
       ]
      },
      {
       "output_type": "stream",
       "stream": "stderr",
       "text": [
        " 1.64678001404\n",
        "SOLVE LP:"
       ]
      },
      {
       "output_type": "stream",
       "stream": "stderr",
       "text": [
        " 0.413938999176\n",
        "BUILD HYPERGRAPH: 0.0101959705353\n",
        "BUILD POTENTIALS:"
       ]
      },
      {
       "output_type": "stream",
       "stream": "stderr",
       "text": [
        " 0.0532269477844\n",
        "BUILD LP:"
       ]
      },
      {
       "output_type": "stream",
       "stream": "stderr",
       "text": [
        " 0.104332923889\n",
        "SOLVE LP:"
       ]
      },
      {
       "output_type": "stream",
       "stream": "stdout",
       "text": [
        "\n",
        "avg loss: 0.632653 w: [[ 0. -1.  0.  0. -1.  1. -1.  1. -1.  1. -1.  0.  2.  2.  0.  4.  0.  1.\n",
        "   1.  0.  0. -1.  1.  1.  2. -1.  1. -4.  3.  0.  0.  1. -1.  0.  1.  0.\n",
        "  -1.  0. -2.  1.  1.  0. -2.  1.  0.  1. -1. -2.  1. -2.  1.  0.  1. -1.\n",
        "  -1.  1.  1.  1.  0.  0.  1.  3.  1. -1. -1.  1. -1.  0.  0.  0.  0.  0.\n",
        "  -2.  0.  0. -1.  0.  1. -1.  3.  1.  1.  1.  1.  1.  2. -1.  0. -3.  0.\n",
        "   1. -1.  1.  0.  0. -2. -2.  1.  2. -2. -1.  3.  1.  2.  0.  1.  0.  0.\n",
        "   1. -1.  1.  0.  2. -1.  1.  1.  1.  0.  1.  1.  1.  1. -1.  1.  3. -1.\n",
        "   1.  3.  0.  1.  2.  0.  1.  2.  2.  0. -1.  0.  1.  2. -1.  0.  1.  0.\n",
        "   2.  1.  0.  0.  0.  0.  1.  1.  2.  0.  1. -2.  0.  1.  0.  2.  0.  2.\n",
        "   0.  0.  0.  1.  0.  2. -1.  0.  1. -2.  0.  2. -2.  0.  1. -1.  0.  0.\n",
        "   0. -1. -1.  3.  1. -2.  1.  2.  1.  2.  1.  1.  1.  0.  2.  0. -1.  2.\n",
        "  -2.  2.  1.  1.  2.  0.  0.  2. -2.  0. -1. -1.  1.  1. -1.  0. -1.  0.\n",
        "   2.  1.  0. -1.  0.  2. -1. -1. -2.  1.  2.  0.  1. -1.  0.  2.  2.  1.\n",
        "  -1.  0.  2.  1. -1.  1. -1.  0.  1.  2.  2.  1.  0.  4. -1.  2.  0.  0.\n",
        "   3.  0.  0.  1.  0.  0.  0. -1.  0.  0.  0.  2.  0. -1.  1.  0.  0.  1.\n",
        "   0.  0.  0.  0.  1.  0.  1.  0.  0.  1.  1.  1.  0.  1.  0.  0.  2.  0.\n",
        "   1.  0.  0.  0.  0.  0.  1.  1.  1. -1.  0.  0.  1.  0.  1.  1.  2.  0.\n",
        "  -1.  0.  0.  0.  1.  0.  0.  0.  0.  0. -1.  1. -2.  1.  0.  0.  0.  1.\n",
        "   0.  0.  0.  1.  1.  0.  0.  0.  2.  0.  0.  0. -1. -2.  0.  0.  1. -1.\n",
        "   0.  0.  0.  0.  0.  0.  0.  1.  1.  1.  1.  1.  0.  0.  0.  1.  0.  0.\n",
        "   1.  1. -1.  1.  0.  2.  0.  1.  0.  1.  0.  0.  1.  0.  0.  1.  1.  0.\n",
        "   1.  1.  0.  0.  0.  0.  0.  0.  1.  0.  0. -2.  0.  0.  1.  0.  0.  0.\n",
        "   0.  2.  1.  1.  1. -1.  2.]]"
       ]
      },
      {
       "output_type": "stream",
       "stream": "stderr",
       "text": [
        " 0.108471155167\n",
        "BUILD HYPERGRAPH:"
       ]
      },
      {
       "output_type": "stream",
       "stream": "stderr",
       "text": [
        " 0.0275719165802\n",
        "BUILD POTENTIALS: 0.039263010025\n",
        "BUILD LP:"
       ]
      },
      {
       "output_type": "stream",
       "stream": "stderr",
       "text": [
        " 0.253040075302\n",
        "SOLVE LP:"
       ]
      },
      {
       "output_type": "stream",
       "stream": "stderr",
       "text": [
        " 0.166105985641\n",
        "BUILD HYPERGRAPH: 0.00356292724609\n",
        "BUILD POTENTIALS: 0.00574016571045\n",
        "BUILD LP:"
       ]
      },
      {
       "output_type": "stream",
       "stream": "stderr",
       "text": [
        " 0.0376620292664\n",
        "SOLVE LP:"
       ]
      },
      {
       "output_type": "stream",
       "stream": "stderr",
       "text": [
        " 0.0862979888916\n",
        "BUILD HYPERGRAPH: 0.0186948776245\n",
        "BUILD POTENTIALS: 0.0140900611877\n",
        "BUILD LP:"
       ]
      },
      {
       "output_type": "stream",
       "stream": "stderr",
       "text": [
        " 0.100039958954\n",
        "SOLVE LP:"
       ]
      },
      {
       "output_type": "stream",
       "stream": "stderr",
       "text": [
        " 0.107475996017\n",
        "BUILD HYPERGRAPH:"
       ]
      },
      {
       "output_type": "stream",
       "stream": "stderr",
       "text": [
        " 0.108856201172\n",
        "BUILD POTENTIALS:"
       ]
      },
      {
       "output_type": "stream",
       "stream": "stderr",
       "text": [
        " 0.128912210464\n",
        "BUILD LP:"
       ]
      },
      {
       "output_type": "stream",
       "stream": "stderr",
       "text": [
        " 0.962239027023\n",
        "SOLVE LP:"
       ]
      },
      {
       "output_type": "stream",
       "stream": "stderr",
       "text": [
        " 0.407809972763\n",
        "BUILD HYPERGRAPH:"
       ]
      },
      {
       "output_type": "stream",
       "stream": "stderr",
       "text": [
        " 0.0532350540161\n",
        "BUILD POTENTIALS:"
       ]
      },
      {
       "output_type": "stream",
       "stream": "stderr",
       "text": [
        " 0.0713069438934\n",
        "BUILD LP:"
       ]
      },
      {
       "output_type": "stream",
       "stream": "stderr",
       "text": [
        " 0.511535167694\n",
        "SOLVE LP:"
       ]
      },
      {
       "output_type": "stream",
       "stream": "stderr",
       "text": [
        " 0.260222911835\n",
        "BUILD HYPERGRAPH:"
       ]
      },
      {
       "output_type": "stream",
       "stream": "stderr",
       "text": [
        " 0.0965678691864\n",
        "BUILD POTENTIALS:"
       ]
      },
      {
       "output_type": "stream",
       "stream": "stderr",
       "text": [
        " 0.169522047043\n",
        "BUILD LP:"
       ]
      },
      {
       "output_type": "stream",
       "stream": "stderr",
       "text": [
        " 0.971078872681\n",
        "SOLVE LP:"
       ]
      },
      {
       "output_type": "stream",
       "stream": "stderr",
       "text": [
        " 0.408162117004\n",
        "BUILD HYPERGRAPH: 0.00339007377625\n",
        "BUILD POTENTIALS: 0.00515604019165\n",
        "BUILD LP:"
       ]
      },
      {
       "output_type": "stream",
       "stream": "stderr",
       "text": [
        " 0.0332880020142\n",
        "SOLVE LP:"
       ]
      },
      {
       "output_type": "stream",
       "stream": "stderr",
       "text": [
        " 0.0883741378784\n",
        "BUILD HYPERGRAPH: 0.00654911994934\n",
        "BUILD POTENTIALS: 0.010862827301\n",
        "BUILD LP:"
       ]
      },
      {
       "output_type": "stream",
       "stream": "stderr",
       "text": [
        " 0.0377578735352\n",
        "SOLVE LP:"
       ]
      },
      {
       "output_type": "stream",
       "stream": "stderr",
       "text": [
        " 0.0887749195099\n",
        "BUILD HYPERGRAPH:"
       ]
      },
      {
       "output_type": "stream",
       "stream": "stderr",
       "text": [
        " 0.0561740398407\n",
        "BUILD POTENTIALS:"
       ]
      },
      {
       "output_type": "stream",
       "stream": "stderr",
       "text": [
        " 0.0689010620117\n",
        "BUILD LP:"
       ]
      },
      {
       "output_type": "stream",
       "stream": "stderr",
       "text": [
        " 0.517642974854\n",
        "SOLVE LP:"
       ]
      },
      {
       "output_type": "stream",
       "stream": "stderr",
       "text": [
        " 0.253851890564\n",
        "BUILD HYPERGRAPH:"
       ]
      },
      {
       "output_type": "stream",
       "stream": "stderr",
       "text": [
        " 0.0943839550018\n",
        "BUILD POTENTIALS:"
       ]
      },
      {
       "output_type": "stream",
       "stream": "stderr",
       "text": [
        " 0.129961013794\n",
        "BUILD LP:"
       ]
      },
      {
       "output_type": "stream",
       "stream": "stderr",
       "text": [
        " 1.61298203468\n",
        "SOLVE LP:"
       ]
      },
      {
       "output_type": "stream",
       "stream": "stderr",
       "text": [
        " 0.392841100693\n",
        "BUILD HYPERGRAPH:"
       ]
      },
      {
       "output_type": "stream",
       "stream": "stderr",
       "text": [
        " 0.0586650371552\n",
        "BUILD POTENTIALS:"
       ]
      },
      {
       "output_type": "stream",
       "stream": "stderr",
       "text": [
        " 0.0676951408386\n",
        "BUILD LP:"
       ]
      },
      {
       "output_type": "stream",
       "stream": "stderr",
       "text": [
        " 0.514917135239\n",
        "SOLVE LP:"
       ]
      },
      {
       "output_type": "stream",
       "stream": "stderr",
       "text": [
        " 0.249489068985\n",
        "BUILD HYPERGRAPH: 0.0103449821472\n",
        "BUILD POTENTIALS: 0.0132629871368\n",
        "BUILD LP:"
       ]
      },
      {
       "output_type": "stream",
       "stream": "stderr",
       "text": [
        " 0.101597070694\n",
        "SOLVE LP:"
       ]
      },
      {
       "output_type": "stream",
       "stream": "stderr",
       "text": [
        " 0.108246088028\n",
        "BUILD HYPERGRAPH: 0.0122630596161\n",
        "BUILD POTENTIALS: 0.0142028331757\n",
        "BUILD LP:"
       ]
      },
      {
       "output_type": "stream",
       "stream": "stderr",
       "text": [
        " 0.102248907089\n",
        "SOLVE LP:"
       ]
      },
      {
       "output_type": "stream",
       "stream": "stderr",
       "text": [
        " 0.107796192169\n",
        "BUILD HYPERGRAPH:"
       ]
      },
      {
       "output_type": "stream",
       "stream": "stderr",
       "text": [
        " 0.0609939098358\n",
        "BUILD POTENTIALS:"
       ]
      },
      {
       "output_type": "stream",
       "stream": "stderr",
       "text": [
        " 0.0673971176147\n",
        "BUILD LP:"
       ]
      },
      {
       "output_type": "stream",
       "stream": "stderr",
       "text": [
        " 0.51336812973\n",
        "SOLVE LP:"
       ]
      },
      {
       "output_type": "stream",
       "stream": "stderr",
       "text": [
        " 0.252186059952\n",
        "BUILD HYPERGRAPH:"
       ]
      },
      {
       "output_type": "stream",
       "stream": "stderr",
       "text": [
        " 0.171287059784\n",
        "BUILD POTENTIALS:"
       ]
      },
      {
       "output_type": "stream",
       "stream": "stderr",
       "text": [
        " 0.199393033981\n",
        "BUILD LP:"
       ]
      },
      {
       "output_type": "stream",
       "stream": "stderr",
       "text": [
        " 1.59338903427\n",
        "SOLVE LP:"
       ]
      },
      {
       "output_type": "stream",
       "stream": "stderr",
       "text": [
        " 0.656617164612\n",
        "BUILD HYPERGRAPH:"
       ]
      },
      {
       "output_type": "stream",
       "stream": "stderr",
       "text": [
        " 0.159214019775\n",
        "BUILD POTENTIALS:"
       ]
      },
      {
       "output_type": "stream",
       "stream": "stderr",
       "text": [
        " 0.210193872452\n",
        "BUILD LP:"
       ]
      },
      {
       "output_type": "stream",
       "stream": "stderr",
       "text": [
        " 2.23877191544\n",
        "SOLVE LP:"
       ]
      },
      {
       "output_type": "stream",
       "stream": "stderr",
       "text": [
        " 0.713115930557\n",
        "BUILD HYPERGRAPH:"
       ]
      },
      {
       "output_type": "stream",
       "stream": "stderr",
       "text": [
        " 0.0582480430603\n",
        "BUILD POTENTIALS:"
       ]
      },
      {
       "output_type": "stream",
       "stream": "stderr",
       "text": [
        " 0.0746998786926\n",
        "BUILD LP:"
       ]
      },
      {
       "output_type": "stream",
       "stream": "stderr",
       "text": [
        " 0.506432056427\n",
        "SOLVE LP:"
       ]
      },
      {
       "output_type": "stream",
       "stream": "stderr",
       "text": [
        " 0.246567964554\n",
        "BUILD HYPERGRAPH:"
       ]
      },
      {
       "output_type": "stream",
       "stream": "stderr",
       "text": [
        " 0.0550699234009\n",
        "BUILD POTENTIALS:"
       ]
      },
      {
       "output_type": "stream",
       "stream": "stderr",
       "text": [
        " 0.0745129585266\n",
        "BUILD LP:"
       ]
      },
      {
       "output_type": "stream",
       "stream": "stderr",
       "text": [
        " 0.525496959686\n",
        "SOLVE LP:"
       ]
      },
      {
       "output_type": "stream",
       "stream": "stderr",
       "text": [
        " 0.244197845459\n",
        "BUILD HYPERGRAPH:"
       ]
      },
      {
       "output_type": "stream",
       "stream": "stderr",
       "text": [
        " 0.173394918442\n",
        "BUILD POTENTIALS:"
       ]
      },
      {
       "output_type": "stream",
       "stream": "stderr",
       "text": [
        " 0.206714868546\n",
        "BUILD LP:"
       ]
      },
      {
       "output_type": "stream",
       "stream": "stderr",
       "text": [
        " 1.59351706505\n",
        "SOLVE LP:"
       ]
      },
      {
       "output_type": "stream",
       "stream": "stderr",
       "text": [
        " 0.654629945755\n",
        "BUILD HYPERGRAPH:"
       ]
      },
      {
       "output_type": "stream",
       "stream": "stderr",
       "text": [
        " 0.160034894943\n",
        "BUILD POTENTIALS:"
       ]
      },
      {
       "output_type": "stream",
       "stream": "stderr",
       "text": [
        " 0.19721198082\n",
        "BUILD LP:"
       ]
      },
      {
       "output_type": "stream",
       "stream": "stderr",
       "text": [
        " 2.31358480453\n",
        "SOLVE LP:"
       ]
      },
      {
       "output_type": "stream",
       "stream": "stderr",
       "text": [
        " 0.698006868362\n",
        "BUILD HYPERGRAPH:"
       ]
      },
      {
       "output_type": "stream",
       "stream": "stderr",
       "text": [
        " 0.0502669811249\n",
        "BUILD POTENTIALS:"
       ]
      },
      {
       "output_type": "stream",
       "stream": "stderr",
       "text": [
        " 0.0566020011902\n",
        "BUILD LP:"
       ]
      },
      {
       "output_type": "stream",
       "stream": "stderr",
       "text": [
        " 0.499903917313\n",
        "SOLVE LP:"
       ]
      },
      {
       "output_type": "stream",
       "stream": "stderr",
       "text": [
        " 0.247439861298\n",
        "BUILD HYPERGRAPH:"
       ]
      },
      {
       "output_type": "stream",
       "stream": "stderr",
       "text": [
        " 0.0525040626526\n",
        "BUILD POTENTIALS:"
       ]
      },
      {
       "output_type": "stream",
       "stream": "stderr",
       "text": [
        " 0.059986114502\n",
        "BUILD LP:"
       ]
      },
      {
       "output_type": "stream",
       "stream": "stderr",
       "text": [
        " 0.498267889023\n",
        "SOLVE LP:"
       ]
      },
      {
       "output_type": "stream",
       "stream": "stderr",
       "text": [
        " 0.245245933533\n",
        "BUILD HYPERGRAPH:"
       ]
      },
      {
       "output_type": "stream",
       "stream": "stderr",
       "text": [
        " 0.0963649749756\n",
        "BUILD POTENTIALS:"
       ]
      },
      {
       "output_type": "stream",
       "stream": "stderr",
       "text": [
        " 0.129125118256\n",
        "BUILD LP:"
       ]
      },
      {
       "output_type": "stream",
       "stream": "stderr",
       "text": [
        " 0.94833111763\n",
        "SOLVE LP:"
       ]
      },
      {
       "output_type": "stream",
       "stream": "stderr",
       "text": [
        " 0.407589197159\n",
        "BUILD HYPERGRAPH: 0.0227708816528\n",
        "BUILD POTENTIALS:"
       ]
      },
      {
       "output_type": "stream",
       "stream": "stderr",
       "text": [
        " 0.0309400558472\n",
        "BUILD LP:"
       ]
      },
      {
       "output_type": "stream",
       "stream": "stderr",
       "text": [
        " 0.232614994049\n",
        "SOLVE LP:"
       ]
      },
      {
       "output_type": "stream",
       "stream": "stderr",
       "text": [
        " 0.159728050232\n",
        "BUILD HYPERGRAPH:"
       ]
      },
      {
       "output_type": "stream",
       "stream": "stderr",
       "text": [
        " 0.0919480323792\n",
        "BUILD POTENTIALS:"
       ]
      },
      {
       "output_type": "stream",
       "stream": "stderr",
       "text": [
        " 0.128801107407\n",
        "BUILD LP:"
       ]
      },
      {
       "output_type": "stream",
       "stream": "stderr",
       "text": [
        " 0.931869029999\n",
        "SOLVE LP:"
       ]
      },
      {
       "output_type": "stream",
       "stream": "stderr",
       "text": [
        " 0.40783405304\n",
        "BUILD HYPERGRAPH:"
       ]
      },
      {
       "output_type": "stream",
       "stream": "stderr",
       "text": [
        " 0.0944859981537\n",
        "BUILD POTENTIALS:"
       ]
      },
      {
       "output_type": "stream",
       "stream": "stderr",
       "text": [
        " 0.844660043716\n",
        "BUILD LP:"
       ]
      },
      {
       "output_type": "stream",
       "stream": "stderr",
       "text": [
        " 0.925665140152\n",
        "SOLVE LP:"
       ]
      },
      {
       "output_type": "stream",
       "stream": "stderr",
       "text": [
        " 0.408616065979\n",
        "BUILD HYPERGRAPH:"
       ]
      },
      {
       "output_type": "stream",
       "stream": "stderr",
       "text": [
        " 0.100045919418\n",
        "BUILD POTENTIALS:"
       ]
      },
      {
       "output_type": "stream",
       "stream": "stderr",
       "text": [
        " 0.130645990372\n",
        "BUILD LP:"
       ]
      },
      {
       "output_type": "stream",
       "stream": "stderr",
       "text": [
        " 0.932226896286\n",
        "SOLVE LP:"
       ]
      },
      {
       "output_type": "stream",
       "stream": "stderr",
       "text": [
        " 0.427466154099\n",
        "BUILD HYPERGRAPH:"
       ]
      },
      {
       "output_type": "stream",
       "stream": "stderr",
       "text": [
        " 0.0509419441223\n",
        "BUILD POTENTIALS:"
       ]
      },
      {
       "output_type": "stream",
       "stream": "stderr",
       "text": [
        " 0.0745089054108\n",
        "BUILD LP:"
       ]
      },
      {
       "output_type": "stream",
       "stream": "stderr",
       "text": [
        " 0.504149913788\n",
        "SOLVE LP:"
       ]
      },
      {
       "output_type": "stream",
       "stream": "stderr",
       "text": [
        " 0.247532844543\n",
        "BUILD HYPERGRAPH: 0.00969195365906\n",
        "BUILD POTENTIALS: 0.0121850967407\n",
        "BUILD LP:"
       ]
      },
      {
       "output_type": "stream",
       "stream": "stderr",
       "text": [
        " 0.127867937088\n",
        "SOLVE LP:"
       ]
      },
      {
       "output_type": "stream",
       "stream": "stderr",
       "text": [
        " 0.108943223953\n",
        "BUILD HYPERGRAPH: 0.0254280567169\n",
        "BUILD POTENTIALS:"
       ]
      },
      {
       "output_type": "stream",
       "stream": "stderr",
       "text": [
        " 0.031308889389\n",
        "BUILD LP:"
       ]
      },
      {
       "output_type": "stream",
       "stream": "stderr",
       "text": [
        " 0.238337993622\n",
        "SOLVE LP:"
       ]
      },
      {
       "output_type": "stream",
       "stream": "stderr",
       "text": [
        " 0.156351089478\n",
        "BUILD HYPERGRAPH:"
       ]
      },
      {
       "output_type": "stream",
       "stream": "stderr",
       "text": [
        " 0.0948309898376\n",
        "BUILD POTENTIALS:"
       ]
      },
      {
       "output_type": "stream",
       "stream": "stderr",
       "text": [
        " 0.120187044144\n",
        "BUILD LP:"
       ]
      },
      {
       "output_type": "stream",
       "stream": "stderr",
       "text": [
        " 0.951797008514\n",
        "SOLVE LP:"
       ]
      },
      {
       "output_type": "stream",
       "stream": "stderr",
       "text": [
        " 0.40484213829\n",
        "BUILD HYPERGRAPH:"
       ]
      },
      {
       "output_type": "stream",
       "stream": "stderr",
       "text": [
        " 0.0930640697479\n",
        "BUILD POTENTIALS:"
       ]
      },
      {
       "output_type": "stream",
       "stream": "stderr",
       "text": [
        " 0.14119386673\n",
        "BUILD LP:"
       ]
      },
      {
       "output_type": "stream",
       "stream": "stderr",
       "text": [
        " 1.60219097137\n",
        "SOLVE LP:"
       ]
      },
      {
       "output_type": "stream",
       "stream": "stderr",
       "text": [
        " 0.414530992508\n",
        "BUILD HYPERGRAPH:"
       ]
      },
      {
       "output_type": "stream",
       "stream": "stderr",
       "text": [
        " 0.105176925659\n",
        "BUILD POTENTIALS:"
       ]
      },
      {
       "output_type": "stream",
       "stream": "stderr",
       "text": [
        " 0.135560035706\n",
        "BUILD LP:"
       ]
      },
      {
       "output_type": "stream",
       "stream": "stderr",
       "text": [
        " 0.960667848587\n",
        "SOLVE LP:"
       ]
      },
      {
       "output_type": "stream",
       "stream": "stderr",
       "text": [
        " 0.414903879166\n",
        "BUILD HYPERGRAPH:"
       ]
      },
      {
       "output_type": "stream",
       "stream": "stderr",
       "text": [
        " 0.097629070282\n",
        "BUILD POTENTIALS:"
       ]
      },
      {
       "output_type": "stream",
       "stream": "stderr",
       "text": [
        " 0.147778987885\n",
        "BUILD LP:"
       ]
      },
      {
       "output_type": "stream",
       "stream": "stderr",
       "text": [
        " 0.961925983429\n",
        "SOLVE LP:"
       ]
      },
      {
       "output_type": "stream",
       "stream": "stderr",
       "text": [
        " 0.411707162857\n",
        "BUILD HYPERGRAPH:"
       ]
      },
      {
       "output_type": "stream",
       "stream": "stderr",
       "text": [
        " 0.0916728973389\n",
        "BUILD POTENTIALS:"
       ]
      },
      {
       "output_type": "stream",
       "stream": "stderr",
       "text": [
        " 0.127915859222\n",
        "BUILD LP:"
       ]
      },
      {
       "output_type": "stream",
       "stream": "stderr",
       "text": [
        " 0.947638988495\n",
        "SOLVE LP:"
       ]
      },
      {
       "output_type": "stream",
       "stream": "stderr",
       "text": [
        " 0.413750886917\n",
        "BUILD HYPERGRAPH:"
       ]
      },
      {
       "output_type": "stream",
       "stream": "stderr",
       "text": [
        " 0.0482590198517\n",
        "BUILD POTENTIALS:"
       ]
      },
      {
       "output_type": "stream",
       "stream": "stderr",
       "text": [
        " 0.0651078224182\n",
        "BUILD LP:"
       ]
      },
      {
       "output_type": "stream",
       "stream": "stderr",
       "text": [
        " 0.498469114304\n",
        "SOLVE LP:"
       ]
      },
      {
       "output_type": "stream",
       "stream": "stderr",
       "text": [
        " 0.238652944565\n",
        "BUILD HYPERGRAPH:"
       ]
      },
      {
       "output_type": "stream",
       "stream": "stderr",
       "text": [
        " 0.0517330169678\n",
        "BUILD POTENTIALS:"
       ]
      },
      {
       "output_type": "stream",
       "stream": "stderr",
       "text": [
        " 0.0618460178375\n",
        "BUILD LP:"
       ]
      },
      {
       "output_type": "stream",
       "stream": "stderr",
       "text": [
        " 0.507338047028\n",
        "SOLVE LP:"
       ]
      },
      {
       "output_type": "stream",
       "stream": "stderr",
       "text": [
        " 0.250453948975\n",
        "BUILD HYPERGRAPH:"
       ]
      },
      {
       "output_type": "stream",
       "stream": "stderr",
       "text": [
        " 0.0502178668976\n",
        "BUILD POTENTIALS:"
       ]
      },
      {
       "output_type": "stream",
       "stream": "stderr",
       "text": [
        " 0.0735549926758\n",
        "BUILD LP:"
       ]
      },
      {
       "output_type": "stream",
       "stream": "stderr",
       "text": [
        " 1.18296599388\n",
        "SOLVE LP:"
       ]
      },
      {
       "output_type": "stream",
       "stream": "stderr",
       "text": [
        " 0.24592590332\n",
        "BUILD HYPERGRAPH:"
       ]
      },
      {
       "output_type": "stream",
       "stream": "stderr",
       "text": [
        " 0.111359834671\n",
        "BUILD POTENTIALS:"
       ]
      },
      {
       "output_type": "stream",
       "stream": "stderr",
       "text": [
        " 0.152179002762\n",
        "BUILD LP:"
       ]
      },
      {
       "output_type": "stream",
       "stream": "stderr",
       "text": [
        " 0.950428009033\n",
        "SOLVE LP:"
       ]
      },
      {
       "output_type": "stream",
       "stream": "stderr",
       "text": [
        " 0.407244920731\n",
        "BUILD HYPERGRAPH: 0.0242450237274\n",
        "BUILD POTENTIALS:"
       ]
      },
      {
       "output_type": "stream",
       "stream": "stderr",
       "text": [
        " 0.0342080593109\n",
        "BUILD LP:"
       ]
      },
      {
       "output_type": "stream",
       "stream": "stderr",
       "text": [
        " 0.247766971588\n",
        "SOLVE LP:"
       ]
      },
      {
       "output_type": "stream",
       "stream": "stderr",
       "text": [
        " 0.158285856247\n",
        "BUILD HYPERGRAPH: 0.0240750312805\n",
        "BUILD POTENTIALS:"
       ]
      },
      {
       "output_type": "stream",
       "stream": "stderr",
       "text": [
        " 0.0338060855865\n",
        "BUILD LP:"
       ]
      },
      {
       "output_type": "stream",
       "stream": "stderr",
       "text": [
        " 0.256161212921\n",
        "SOLVE LP:"
       ]
      },
      {
       "output_type": "stream",
       "stream": "stderr",
       "text": [
        " 0.157157897949\n",
        "BUILD HYPERGRAPH: 0.024374961853\n",
        "BUILD POTENTIALS:"
       ]
      },
      {
       "output_type": "stream",
       "stream": "stderr",
       "text": [
        " 0.0370230674744\n",
        "BUILD LP:"
       ]
      },
      {
       "output_type": "stream",
       "stream": "stderr",
       "text": [
        " 0.249105930328\n",
        "SOLVE LP:"
       ]
      },
      {
       "output_type": "stream",
       "stream": "stderr",
       "text": [
        " 0.160929918289\n",
        "BUILD HYPERGRAPH: 0.0100719928741\n",
        "BUILD POTENTIALS: 0.014979839325\n",
        "BUILD LP:"
       ]
      },
      {
       "output_type": "stream",
       "stream": "stderr",
       "text": [
        " 0.0997848510742\n",
        "SOLVE LP:"
       ]
      },
      {
       "output_type": "stream",
       "stream": "stderr",
       "text": [
        " 0.115462779999\n",
        "BUILD HYPERGRAPH:"
       ]
      },
      {
       "output_type": "stream",
       "stream": "stderr",
       "text": [
        " 0.1118080616\n",
        "BUILD POTENTIALS:"
       ]
      },
      {
       "output_type": "stream",
       "stream": "stderr",
       "text": [
        " 0.122797966003\n",
        "BUILD LP:"
       ]
      },
      {
       "output_type": "stream",
       "stream": "stderr",
       "text": [
        " 0.943759918213\n",
        "SOLVE LP:"
       ]
      },
      {
       "output_type": "stream",
       "stream": "stderr",
       "text": [
        " 0.404209852219\n",
        "BUILD HYPERGRAPH:"
       ]
      },
      {
       "output_type": "stream",
       "stream": "stderr",
       "text": [
        " 0.0507729053497\n",
        "BUILD POTENTIALS:"
       ]
      },
      {
       "output_type": "stream",
       "stream": "stderr",
       "text": [
        " 0.0780019760132\n",
        "BUILD LP:"
       ]
      },
      {
       "output_type": "stream",
       "stream": "stderr",
       "text": [
        " 0.519493103027\n",
        "SOLVE LP:"
       ]
      },
      {
       "output_type": "stream",
       "stream": "stderr",
       "text": [
        " 0.243927001953\n",
        "BUILD HYPERGRAPH: 0.00984406471252\n",
        "BUILD POTENTIALS: 0.0145201683044\n",
        "BUILD LP:"
       ]
      },
      {
       "output_type": "stream",
       "stream": "stderr",
       "text": [
        " 0.0959930419922\n",
        "SOLVE LP:"
       ]
      },
      {
       "output_type": "stream",
       "stream": "stderr",
       "text": [
        " 0.106842041016\n",
        "BUILD HYPERGRAPH:"
       ]
      },
      {
       "output_type": "stream",
       "stream": "stderr",
       "text": [
        " 0.1124958992\n",
        "BUILD POTENTIALS:"
       ]
      },
      {
       "output_type": "stream",
       "stream": "stderr",
       "text": [
        " 0.177060842514\n",
        "BUILD LP:"
       ]
      },
      {
       "output_type": "stream",
       "stream": "stderr",
       "text": [
        " 1.58885407448\n",
        "SOLVE LP:"
       ]
      },
      {
       "output_type": "stream",
       "stream": "stderr",
       "text": [
        " 0.432978868484\n",
        "BUILD HYPERGRAPH:"
       ]
      },
      {
       "output_type": "stream",
       "stream": "stderr",
       "text": [
        " 0.0589990615845\n",
        "BUILD POTENTIALS:"
       ]
      },
      {
       "output_type": "stream",
       "stream": "stderr",
       "text": [
        " 0.0696139335632\n",
        "BUILD LP:"
       ]
      },
      {
       "output_type": "stream",
       "stream": "stderr",
       "text": [
        " 0.521628856659\n",
        "SOLVE LP:"
       ]
      },
      {
       "output_type": "stream",
       "stream": "stderr",
       "text": [
        " 0.255666971207\n",
        "BUILD HYPERGRAPH: 0.0287458896637\n",
        "BUILD POTENTIALS:"
       ]
      },
      {
       "output_type": "stream",
       "stream": "stderr",
       "text": [
        " 0.0336728096008\n",
        "BUILD LP:"
       ]
      },
      {
       "output_type": "stream",
       "stream": "stderr",
       "text": [
        " 0.257400035858\n",
        "SOLVE LP:"
       ]
      },
      {
       "output_type": "stream",
       "stream": "stderr",
       "text": [
        " 0.167548894882\n",
        "BUILD HYPERGRAPH:"
       ]
      },
      {
       "output_type": "stream",
       "stream": "stderr",
       "text": [
        " 0.109000921249\n",
        "BUILD POTENTIALS:"
       ]
      },
      {
       "output_type": "stream",
       "stream": "stderr",
       "text": [
        " 0.149137020111\n",
        "BUILD LP:"
       ]
      },
      {
       "output_type": "stream",
       "stream": "stderr",
       "text": [
        " 0.94843006134\n",
        "SOLVE LP:"
       ]
      },
      {
       "output_type": "stream",
       "stream": "stderr",
       "text": [
        " 0.413836956024\n",
        "BUILD HYPERGRAPH: 0.0100309848785\n",
        "BUILD POTENTIALS: 0.016578912735\n",
        "BUILD LP:"
       ]
      },
      {
       "output_type": "stream",
       "stream": "stderr",
       "text": [
        " 0.100156068802\n",
        "SOLVE LP:"
       ]
      },
      {
       "output_type": "stream",
       "stream": "stderr",
       "text": [
        " 0.111984014511\n",
        "BUILD HYPERGRAPH: 0.0274560451508\n",
        "BUILD POTENTIALS:"
       ]
      },
      {
       "output_type": "stream",
       "stream": "stderr",
       "text": [
        " 0.0354998111725\n",
        "BUILD LP:"
       ]
      },
      {
       "output_type": "stream",
       "stream": "stderr",
       "text": [
        " 0.284161090851\n",
        "SOLVE LP:"
       ]
      },
      {
       "output_type": "stream",
       "stream": "stderr",
       "text": [
        " 0.176316976547\n",
        "BUILD HYPERGRAPH: 0.0239410400391\n",
        "BUILD POTENTIALS:"
       ]
      },
      {
       "output_type": "stream",
       "stream": "stderr",
       "text": [
        " 0.03981590271\n",
        "BUILD LP:"
       ]
      },
      {
       "output_type": "stream",
       "stream": "stderr",
       "text": [
        " 0.23977804184\n",
        "SOLVE LP:"
       ]
      },
      {
       "output_type": "stream",
       "stream": "stderr",
       "text": [
        " 0.156468868256\n",
        "BUILD HYPERGRAPH: 0.0104858875275\n",
        "BUILD POTENTIALS: 0.0129728317261\n",
        "BUILD LP:"
       ]
      },
      {
       "output_type": "stream",
       "stream": "stderr",
       "text": [
        " 0.0973629951477\n",
        "SOLVE LP:"
       ]
      },
      {
       "output_type": "stream",
       "stream": "stderr",
       "text": [
        " 0.111649036407\n",
        "BUILD HYPERGRAPH: 0.0108749866486\n",
        "BUILD POTENTIALS: 0.0133152008057\n",
        "BUILD LP:"
       ]
      },
      {
       "output_type": "stream",
       "stream": "stderr",
       "text": [
        " 0.0949239730835\n",
        "SOLVE LP:"
       ]
      },
      {
       "output_type": "stream",
       "stream": "stderr",
       "text": [
        " 0.110903978348\n",
        "BUILD HYPERGRAPH: 0.0345950126648\n",
        "BUILD POTENTIALS:"
       ]
      },
      {
       "output_type": "stream",
       "stream": "stderr",
       "text": [
        " 0.038302898407\n",
        "BUILD LP:"
       ]
      },
      {
       "output_type": "stream",
       "stream": "stderr",
       "text": [
        " 0.250864982605\n",
        "SOLVE LP:"
       ]
      },
      {
       "output_type": "stream",
       "stream": "stderr",
       "text": [
        " 0.161167860031\n",
        "BUILD HYPERGRAPH:"
       ]
      },
      {
       "output_type": "stream",
       "stream": "stderr",
       "text": [
        " 0.093827009201\n",
        "BUILD POTENTIALS:"
       ]
      },
      {
       "output_type": "stream",
       "stream": "stderr",
       "text": [
        " 0.147760152817\n",
        "BUILD LP:"
       ]
      },
      {
       "output_type": "stream",
       "stream": "stderr",
       "text": [
        " 1.11926198006\n",
        "SOLVE LP:"
       ]
      },
      {
       "output_type": "stream",
       "stream": "stderr",
       "text": [
        " 0.454092025757\n",
        "BUILD HYPERGRAPH: 0.00999093055725\n",
        "BUILD POTENTIALS:"
       ]
      },
      {
       "output_type": "stream",
       "stream": "stderr",
       "text": [
        " 0.0159838199615\n",
        "BUILD LP:"
       ]
      },
      {
       "output_type": "stream",
       "stream": "stderr",
       "text": [
        " 0.097275018692\n",
        "SOLVE LP:"
       ]
      },
      {
       "output_type": "stream",
       "stream": "stdout",
       "text": [
        "\n",
        "effective learning rate: 1.000000\n",
        "iteration 1\n",
        "avg loss: 0.566327 w: [[ 0. -1.  0.  0. -1.  1. -2.  1. -1.  0. -1.  0.  1.  2. -1.  2.  2.  2.\n",
        "   1.  1. -1.  0.  3.  0.  4. -1.  2. -3.  4.  0.  0.  3. -1.  1.  0.  0.\n",
        "  -1. -1. -2.  1.  2.  1. -2.  0.  0.  2.  0.  1.  1. -2.  1.  1.  0.  1.\n",
        "  -2.  1.  1.  3. -1.  0.  1.  4.  3. -2. -1.  0. -1.  0.  1. -1.  1.  0.\n",
        "  -3.  0.  0. -2. -1.  1.  1.  4.  1.  3.  1.  3.  1.  2.  0.  1. -3.  1.\n",
        "   1.  0.  2.  2.  0. -2. -5.  1.  3.  0. -2.  3.  0.  2.  2.  1.  2.  0.\n",
        "   1.  0.  2.  1.  4. -1.  2.  4.  1.  0.  1.  1.  1.  1. -1.  1.  2. -1.\n",
        "   1.  5.  1.  1.  3.  0.  2.  3.  3. -1. -1.  0.  1.  3. -1.  2.  1.  0.\n",
        "   4.  1.  0.  0.  0.  0.  1.  1.  4.  1.  1. -2. -1.  2.  1.  4.  0.  0.\n",
        "  -1.  0.  2.  1.  0.  2.  0.  0.  2. -2.  0.  2. -1.  0.  3. -2.  2.  0.\n",
        "   0. -2.  0.  4.  2. -1.  1.  3.  1.  4.  1.  1.  1.  0. -1.  0.  1.  4.\n",
        "  -1.  2.  2.  3.  1.  0. -1.  3. -3.  0.  0. -1.  2.  1.  1. -1.  0.  0.\n",
        "   2.  4. -1. -2.  1.  3.  0. -3. -2.  4.  1. -1.  1. -2.  2.  2.  1.  2.\n",
        "   0.  0.  1.  1.  0.  1. -2.  1.  2.  3.  3.  2.  0.  4. -1.  2.  0.  0.\n",
        "   3.  0.  1.  1.  0.  1. -1. -1. -1.  0.  1.  5.  0. -1.  1.  0.  0.  1.\n",
        "   1.  1.  0.  0.  1.  1.  1.  0. -1.  1.  1.  1.  0.  1.  0.  0.  3.  0.\n",
        "   1.  0.  0.  0.  0.  1.  2.  3. -1. -1.  1.  1.  2.  0.  1.  1.  3.  5.\n",
        "   0.  0.  1.  0.  0.  1.  0. -1.  0. -1. -2.  2.  2.  2.  0.  0.  0.  1.\n",
        "   0.  0. -1.  1.  1.  0.  0.  1.  2.  0.  0.  0.  0. -1.  0.  0.  1. -1.\n",
        "   0.  1.  1.  1.  1.  1.  1.  1.  1.  2.  2.  2.  0.  0.  0.  1.  0.  0.\n",
        "   1.  1. -1.  1.  0.  2. -1.  3.  0.  1.  0.  1.  1.  0.  1.  2.  3. -1.\n",
        "   4.  1.  0.  1.  1.  0.  0.  1.  1.  1.  1. -2.  0.  0.  3. -1. -1.  0.\n",
        "  -1.  2.  1.  1.  1. -1.  2.]]"
       ]
      },
      {
       "output_type": "stream",
       "stream": "stderr",
       "text": [
        " 0.121813058853\n",
        "BUILD HYPERGRAPH:"
       ]
      },
      {
       "output_type": "stream",
       "stream": "stderr",
       "text": [
        " 0.0419418811798\n",
        "BUILD POTENTIALS:"
       ]
      },
      {
       "output_type": "stream",
       "stream": "stderr",
       "text": [
        " 0.060348033905\n",
        "BUILD LP:"
       ]
      },
      {
       "output_type": "stream",
       "stream": "stderr",
       "text": [
        " 0.240787029266\n",
        "SOLVE LP:"
       ]
      },
      {
       "output_type": "stream",
       "stream": "stderr",
       "text": [
        " 0.187680006027\n",
        "BUILD HYPERGRAPH: 0.00323510169983\n",
        "BUILD POTENTIALS: 0.0048520565033\n",
        "BUILD LP:"
       ]
      },
      {
       "output_type": "stream",
       "stream": "stderr",
       "text": [
        " 0.0378098487854\n",
        "SOLVE LP:"
       ]
      },
      {
       "output_type": "stream",
       "stream": "stderr",
       "text": [
        " 0.0875370502472\n",
        "BUILD HYPERGRAPH: 0.0179831981659\n",
        "BUILD POTENTIALS: 0.0162000656128\n",
        "BUILD LP:"
       ]
      },
      {
       "output_type": "stream",
       "stream": "stderr",
       "text": [
        " 0.096978187561\n",
        "SOLVE LP:"
       ]
      },
      {
       "output_type": "stream",
       "stream": "stderr",
       "text": [
        " 0.122855901718\n",
        "BUILD HYPERGRAPH:"
       ]
      },
      {
       "output_type": "stream",
       "stream": "stderr",
       "text": [
        " 0.0891292095184\n",
        "BUILD POTENTIALS:"
       ]
      },
      {
       "output_type": "stream",
       "stream": "stderr",
       "text": [
        " 0.128159046173\n",
        "BUILD LP:"
       ]
      },
      {
       "output_type": "stream",
       "stream": "stderr",
       "text": [
        " 1.60711193085\n",
        "SOLVE LP:"
       ]
      },
      {
       "output_type": "stream",
       "stream": "stderr",
       "text": [
        " 0.405117988586\n",
        "BUILD HYPERGRAPH:"
       ]
      },
      {
       "output_type": "stream",
       "stream": "stderr",
       "text": [
        " 0.0539219379425\n",
        "BUILD POTENTIALS:"
       ]
      },
      {
       "output_type": "stream",
       "stream": "stderr",
       "text": [
        " 0.0801360607147\n",
        "BUILD LP:"
       ]
      },
      {
       "output_type": "stream",
       "stream": "stderr",
       "text": [
        " 0.521055936813\n",
        "SOLVE LP:"
       ]
      },
      {
       "output_type": "stream",
       "stream": "stderr",
       "text": [
        " 0.245331048965\n",
        "BUILD HYPERGRAPH:"
       ]
      },
      {
       "output_type": "stream",
       "stream": "stderr",
       "text": [
        " 0.102183103561\n",
        "BUILD POTENTIALS:"
       ]
      },
      {
       "output_type": "stream",
       "stream": "stderr",
       "text": [
        " 0.140980958939\n",
        "BUILD LP:"
       ]
      },
      {
       "output_type": "stream",
       "stream": "stderr",
       "text": [
        " 0.978543043137\n",
        "SOLVE LP:"
       ]
      },
      {
       "output_type": "stream",
       "stream": "stderr",
       "text": [
        " 0.406432151794\n",
        "BUILD HYPERGRAPH: 0.00341796875\n",
        "BUILD POTENTIALS: 0.00517392158508\n",
        "BUILD LP:"
       ]
      },
      {
       "output_type": "stream",
       "stream": "stderr",
       "text": [
        " 0.0340509414673\n",
        "SOLVE LP:"
       ]
      },
      {
       "output_type": "stream",
       "stream": "stderr",
       "text": [
        " 0.0858941078186\n",
        "BUILD HYPERGRAPH: 0.005704164505\n",
        "BUILD POTENTIALS: 0.0104720592499\n",
        "BUILD LP:"
       ]
      },
      {
       "output_type": "stream",
       "stream": "stderr",
       "text": [
        " 0.0426421165466\n",
        "SOLVE LP:"
       ]
      },
      {
       "output_type": "stream",
       "stream": "stderr",
       "text": [
        " 0.0856740474701\n",
        "BUILD HYPERGRAPH:"
       ]
      },
      {
       "output_type": "stream",
       "stream": "stderr",
       "text": [
        " 0.0651760101318\n",
        "BUILD POTENTIALS:"
       ]
      },
      {
       "output_type": "stream",
       "stream": "stderr",
       "text": [
        " 0.0752248764038\n",
        "BUILD LP:"
       ]
      },
      {
       "output_type": "stream",
       "stream": "stderr",
       "text": [
        " 0.547075986862\n",
        "SOLVE LP:"
       ]
      },
      {
       "output_type": "stream",
       "stream": "stderr",
       "text": [
        " 0.250063896179\n",
        "BUILD HYPERGRAPH:"
       ]
      },
      {
       "output_type": "stream",
       "stream": "stderr",
       "text": [
        " 0.0932829380035\n",
        "BUILD POTENTIALS:"
       ]
      },
      {
       "output_type": "stream",
       "stream": "stderr",
       "text": [
        " 0.136356115341\n",
        "BUILD LP:"
       ]
      },
      {
       "output_type": "stream",
       "stream": "stderr",
       "text": [
        " 0.928272008896\n",
        "SOLVE LP:"
       ]
      },
      {
       "output_type": "stream",
       "stream": "stderr",
       "text": [
        " 0.410745859146\n",
        "BUILD HYPERGRAPH:"
       ]
      },
      {
       "output_type": "stream",
       "stream": "stderr",
       "text": [
        " 0.0470380783081\n",
        "BUILD POTENTIALS:"
       ]
      },
      {
       "output_type": "stream",
       "stream": "stderr",
       "text": [
        " 0.0666520595551\n",
        "BUILD LP:"
       ]
      },
      {
       "output_type": "stream",
       "stream": "stderr",
       "text": [
        " 0.480029821396\n",
        "SOLVE LP:"
       ]
      },
      {
       "output_type": "stream",
       "stream": "stderr",
       "text": [
        " 0.240980148315\n",
        "BUILD HYPERGRAPH: 0.0099630355835\n",
        "BUILD POTENTIALS: 0.0126521587372\n",
        "BUILD LP:"
       ]
      },
      {
       "output_type": "stream",
       "stream": "stderr",
       "text": [
        " 0.0969138145447\n",
        "SOLVE LP:"
       ]
      },
      {
       "output_type": "stream",
       "stream": "stderr",
       "text": [
        " 0.112195014954\n",
        "BUILD HYPERGRAPH: 0.013200044632\n",
        "BUILD POTENTIALS: 0.0137581825256\n",
        "BUILD LP:"
       ]
      },
      {
       "output_type": "stream",
       "stream": "stderr",
       "text": [
        " 0.100368976593\n",
        "SOLVE LP:"
       ]
      },
      {
       "output_type": "stream",
       "stream": "stderr",
       "text": [
        " 0.10722899437\n",
        "BUILD HYPERGRAPH: 0.0474410057068\n",
        "BUILD POTENTIALS:"
       ]
      },
      {
       "output_type": "stream",
       "stream": "stderr",
       "text": [
        " 0.0615990161896\n",
        "BUILD LP:"
       ]
      },
      {
       "output_type": "stream",
       "stream": "stderr",
       "text": [
        " 0.49147105217\n",
        "SOLVE LP:"
       ]
      },
      {
       "output_type": "stream",
       "stream": "stderr",
       "text": [
        " 0.246622085571\n",
        "BUILD HYPERGRAPH:"
       ]
      },
      {
       "output_type": "stream",
       "stream": "stderr",
       "text": [
        " 0.162176132202\n",
        "BUILD POTENTIALS:"
       ]
      },
      {
       "output_type": "stream",
       "stream": "stderr",
       "text": [
        " 0.203572034836\n",
        "BUILD LP:"
       ]
      },
      {
       "output_type": "stream",
       "stream": "stderr",
       "text": [
        " 2.27642798424\n",
        "SOLVE LP:"
       ]
      },
      {
       "output_type": "stream",
       "stream": "stderr",
       "text": [
        " 0.665806055069\n",
        "BUILD HYPERGRAPH:"
       ]
      },
      {
       "output_type": "stream",
       "stream": "stderr",
       "text": [
        " 0.1693110466\n",
        "BUILD POTENTIALS:"
       ]
      },
      {
       "output_type": "stream",
       "stream": "stderr",
       "text": [
        " 0.210345029831\n",
        "BUILD LP:"
       ]
      },
      {
       "output_type": "stream",
       "stream": "stderr",
       "text": [
        " 1.61087584496\n",
        "SOLVE LP:"
       ]
      },
      {
       "output_type": "stream",
       "stream": "stderr",
       "text": [
        " 0.755051851273\n",
        "BUILD HYPERGRAPH:"
       ]
      },
      {
       "output_type": "stream",
       "stream": "stderr",
       "text": [
        " 0.0478410720825\n",
        "BUILD POTENTIALS:"
       ]
      },
      {
       "output_type": "stream",
       "stream": "stderr",
       "text": [
        " 0.0664529800415\n",
        "BUILD LP:"
       ]
      },
      {
       "output_type": "stream",
       "stream": "stderr",
       "text": [
        " 0.527714014053\n",
        "SOLVE LP:"
       ]
      },
      {
       "output_type": "stream",
       "stream": "stderr",
       "text": [
        " 0.257095098495\n",
        "BUILD HYPERGRAPH:"
       ]
      },
      {
       "output_type": "stream",
       "stream": "stderr",
       "text": [
        " 0.0489950180054\n",
        "BUILD POTENTIALS:"
       ]
      },
      {
       "output_type": "stream",
       "stream": "stderr",
       "text": [
        " 0.069876909256\n",
        "BUILD LP:"
       ]
      },
      {
       "output_type": "stream",
       "stream": "stderr",
       "text": [
        " 0.517997026443\n",
        "SOLVE LP:"
       ]
      },
      {
       "output_type": "stream",
       "stream": "stderr",
       "text": [
        " 0.249143838882\n",
        "BUILD HYPERGRAPH:"
       ]
      },
      {
       "output_type": "stream",
       "stream": "stderr",
       "text": [
        " 0.832618951797\n",
        "BUILD POTENTIALS:"
       ]
      },
      {
       "output_type": "stream",
       "stream": "stderr",
       "text": [
        " 0.203077077866\n",
        "BUILD LP:"
       ]
      },
      {
       "output_type": "stream",
       "stream": "stderr",
       "text": [
        " 1.57281899452\n",
        "SOLVE LP:"
       ]
      },
      {
       "output_type": "stream",
       "stream": "stderr",
       "text": [
        " 0.661206007004\n",
        "BUILD HYPERGRAPH:"
       ]
      },
      {
       "output_type": "stream",
       "stream": "stderr",
       "text": [
        " 0.162055969238\n",
        "BUILD POTENTIALS:"
       ]
      },
      {
       "output_type": "stream",
       "stream": "stderr",
       "text": [
        " 0.201418161392\n",
        "BUILD LP:"
       ]
      },
      {
       "output_type": "stream",
       "stream": "stderr",
       "text": [
        " 1.58066391945\n",
        "SOLVE LP:"
       ]
      },
      {
       "output_type": "stream",
       "stream": "stderr",
       "text": [
        " 0.673293113708\n",
        "BUILD HYPERGRAPH:"
       ]
      },
      {
       "output_type": "stream",
       "stream": "stderr",
       "text": [
        " 0.0466010570526\n",
        "BUILD POTENTIALS:"
       ]
      },
      {
       "output_type": "stream",
       "stream": "stderr",
       "text": [
        " 0.0560910701752\n",
        "BUILD LP:"
       ]
      },
      {
       "output_type": "stream",
       "stream": "stderr",
       "text": [
        " 0.48152589798\n",
        "SOLVE LP:"
       ]
      },
      {
       "output_type": "stream",
       "stream": "stderr",
       "text": [
        " 0.255646944046\n",
        "BUILD HYPERGRAPH:"
       ]
      },
      {
       "output_type": "stream",
       "stream": "stderr",
       "text": [
        " 0.0540568828583\n",
        "BUILD POTENTIALS:"
       ]
      },
      {
       "output_type": "stream",
       "stream": "stderr",
       "text": [
        " 0.0571591854095\n",
        "BUILD LP:"
       ]
      },
      {
       "output_type": "stream",
       "stream": "stderr",
       "text": [
        " 1.18558812141\n",
        "SOLVE LP:"
       ]
      },
      {
       "output_type": "stream",
       "stream": "stderr",
       "text": [
        " 0.237653970718\n",
        "BUILD HYPERGRAPH:"
       ]
      },
      {
       "output_type": "stream",
       "stream": "stderr",
       "text": [
        " 0.101233005524\n",
        "BUILD POTENTIALS:"
       ]
      },
      {
       "output_type": "stream",
       "stream": "stderr",
       "text": [
        " 0.134895086288\n",
        "BUILD LP:"
       ]
      },
      {
       "output_type": "stream",
       "stream": "stderr",
       "text": [
        " 0.953547000885\n",
        "SOLVE LP:"
       ]
      },
      {
       "output_type": "stream",
       "stream": "stderr",
       "text": [
        " 0.44109416008\n",
        "BUILD HYPERGRAPH:"
       ]
      },
      {
       "output_type": "stream",
       "stream": "stderr",
       "text": [
        " 0.0254459381104\n",
        "BUILD POTENTIALS: 0.0407109260559\n",
        "BUILD LP:"
       ]
      },
      {
       "output_type": "stream",
       "stream": "stderr",
       "text": [
        " 0.243957996368\n",
        "SOLVE LP:"
       ]
      },
      {
       "output_type": "stream",
       "stream": "stderr",
       "text": [
        " 0.158910036087\n",
        "BUILD HYPERGRAPH:"
       ]
      },
      {
       "output_type": "stream",
       "stream": "stderr",
       "text": [
        " 0.0962550640106\n",
        "BUILD POTENTIALS:"
       ]
      },
      {
       "output_type": "stream",
       "stream": "stderr",
       "text": [
        " 0.136327028275\n",
        "BUILD LP:"
       ]
      },
      {
       "output_type": "stream",
       "stream": "stderr",
       "text": [
        " 0.934767961502\n",
        "SOLVE LP:"
       ]
      },
      {
       "output_type": "stream",
       "stream": "stderr",
       "text": [
        " 0.420163869858\n",
        "BUILD HYPERGRAPH:"
       ]
      },
      {
       "output_type": "stream",
       "stream": "stderr",
       "text": [
        " 0.0969021320343\n",
        "BUILD POTENTIALS:"
       ]
      },
      {
       "output_type": "stream",
       "stream": "stderr",
       "text": [
        " 0.130506038666\n",
        "BUILD LP:"
       ]
      },
      {
       "output_type": "stream",
       "stream": "stderr",
       "text": [
        " 0.941405057907\n",
        "SOLVE LP:"
       ]
      },
      {
       "output_type": "stream",
       "stream": "stderr",
       "text": [
        " 0.397070884705\n",
        "BUILD HYPERGRAPH:"
       ]
      },
      {
       "output_type": "stream",
       "stream": "stderr",
       "text": [
        " 0.102842092514\n",
        "BUILD POTENTIALS:"
       ]
      },
      {
       "output_type": "stream",
       "stream": "stderr",
       "text": [
        " 0.127516031265\n",
        "BUILD LP:"
       ]
      },
      {
       "output_type": "stream",
       "stream": "stderr",
       "text": [
        " 1.59488916397\n",
        "SOLVE LP:"
       ]
      },
      {
       "output_type": "stream",
       "stream": "stderr",
       "text": [
        " 0.407526016235\n",
        "BUILD HYPERGRAPH:"
       ]
      },
      {
       "output_type": "stream",
       "stream": "stderr",
       "text": [
        " 0.0647370815277\n",
        "BUILD POTENTIALS:"
       ]
      },
      {
       "output_type": "stream",
       "stream": "stderr",
       "text": [
        " 0.0983059406281\n",
        "BUILD LP:"
       ]
      },
      {
       "output_type": "stream",
       "stream": "stderr",
       "text": [
        " 0.561917066574\n",
        "SOLVE LP:"
       ]
      },
      {
       "output_type": "stream",
       "stream": "stderr",
       "text": [
        " 0.254594087601\n",
        "BUILD HYPERGRAPH: 0.0107882022858\n",
        "BUILD POTENTIALS: 0.0128719806671\n",
        "BUILD LP:"
       ]
      },
      {
       "output_type": "stream",
       "stream": "stderr",
       "text": [
        " 0.10162115097\n",
        "SOLVE LP:"
       ]
      },
      {
       "output_type": "stream",
       "stream": "stderr",
       "text": [
        " 0.109737873077\n",
        "BUILD HYPERGRAPH: 0.0261437892914\n",
        "BUILD POTENTIALS:"
       ]
      },
      {
       "output_type": "stream",
       "stream": "stderr",
       "text": [
        " 0.0309200286865\n",
        "BUILD LP:"
       ]
      },
      {
       "output_type": "stream",
       "stream": "stderr",
       "text": [
        " 0.256991147995\n",
        "SOLVE LP:"
       ]
      },
      {
       "output_type": "stream",
       "stream": "stderr",
       "text": [
        " 0.164107084274\n",
        "BUILD HYPERGRAPH:"
       ]
      },
      {
       "output_type": "stream",
       "stream": "stderr",
       "text": [
        " 0.105129003525\n",
        "BUILD POTENTIALS:"
       ]
      },
      {
       "output_type": "stream",
       "stream": "stderr",
       "text": [
        " 0.126681089401\n",
        "BUILD LP:"
       ]
      },
      {
       "output_type": "stream",
       "stream": "stderr",
       "text": [
        " 0.945528030396\n",
        "SOLVE LP:"
       ]
      },
      {
       "output_type": "stream",
       "stream": "stderr",
       "text": [
        " 0.392876148224\n",
        "BUILD HYPERGRAPH:"
       ]
      },
      {
       "output_type": "stream",
       "stream": "stderr",
       "text": [
        " 0.103590011597\n",
        "BUILD POTENTIALS:"
       ]
      },
      {
       "output_type": "stream",
       "stream": "stderr",
       "text": [
        " 0.138417959213\n",
        "BUILD LP:"
       ]
      },
      {
       "output_type": "stream",
       "stream": "stderr",
       "text": [
        " 0.938555955887\n",
        "SOLVE LP:"
       ]
      },
      {
       "output_type": "stream",
       "stream": "stderr",
       "text": [
        " 0.41545009613\n",
        "BUILD HYPERGRAPH:"
       ]
      },
      {
       "output_type": "stream",
       "stream": "stderr",
       "text": [
        " 0.0902128219604\n",
        "BUILD POTENTIALS:"
       ]
      },
      {
       "output_type": "stream",
       "stream": "stderr",
       "text": [
        " 0.123847961426\n",
        "BUILD LP:"
       ]
      },
      {
       "output_type": "stream",
       "stream": "stderr",
       "text": [
        " 0.911684989929\n",
        "SOLVE LP:"
       ]
      },
      {
       "output_type": "stream",
       "stream": "stderr",
       "text": [
        " 0.392424106598\n",
        "BUILD HYPERGRAPH:"
       ]
      },
      {
       "output_type": "stream",
       "stream": "stderr",
       "text": [
        " 0.0901849269867\n",
        "BUILD POTENTIALS:"
       ]
      },
      {
       "output_type": "stream",
       "stream": "stderr",
       "text": [
        " 0.140406131744\n",
        "BUILD LP:"
       ]
      },
      {
       "output_type": "stream",
       "stream": "stderr",
       "text": [
        " 1.60016584396\n",
        "SOLVE LP:"
       ]
      },
      {
       "output_type": "stream",
       "stream": "stderr",
       "text": [
        " 0.382572889328\n",
        "BUILD HYPERGRAPH:"
       ]
      },
      {
       "output_type": "stream",
       "stream": "stderr",
       "text": [
        " 0.102147102356\n",
        "BUILD POTENTIALS:"
       ]
      },
      {
       "output_type": "stream",
       "stream": "stderr",
       "text": [
        " 0.134636878967\n",
        "BUILD LP:"
       ]
      },
      {
       "output_type": "stream",
       "stream": "stderr",
       "text": [
        " 0.935584068298\n",
        "SOLVE LP:"
       ]
      },
      {
       "output_type": "stream",
       "stream": "stderr",
       "text": [
        " 0.403412818909\n",
        "BUILD HYPERGRAPH:"
       ]
      },
      {
       "output_type": "stream",
       "stream": "stderr",
       "text": [
        " 0.0538690090179\n",
        "BUILD POTENTIALS:"
       ]
      },
      {
       "output_type": "stream",
       "stream": "stderr",
       "text": [
        " 0.0641338825226\n",
        "BUILD LP:"
       ]
      },
      {
       "output_type": "stream",
       "stream": "stderr",
       "text": [
        " 0.508584022522\n",
        "SOLVE LP:"
       ]
      },
      {
       "output_type": "stream",
       "stream": "stderr",
       "text": [
        " 0.266473054886\n",
        "BUILD HYPERGRAPH:"
       ]
      },
      {
       "output_type": "stream",
       "stream": "stderr",
       "text": [
        " 0.0547749996185\n",
        "BUILD POTENTIALS:"
       ]
      },
      {
       "output_type": "stream",
       "stream": "stderr",
       "text": [
        " 0.0621638298035\n",
        "BUILD LP:"
       ]
      },
      {
       "output_type": "stream",
       "stream": "stderr",
       "text": [
        " 0.504395961761\n",
        "SOLVE LP:"
       ]
      },
      {
       "output_type": "stream",
       "stream": "stderr",
       "text": [
        " 0.248558998108\n",
        "BUILD HYPERGRAPH:"
       ]
      },
      {
       "output_type": "stream",
       "stream": "stderr",
       "text": [
        " 0.0564920902252\n",
        "BUILD POTENTIALS:"
       ]
      },
      {
       "output_type": "stream",
       "stream": "stderr",
       "text": [
        " 0.0801210403442\n",
        "BUILD LP:"
       ]
      },
      {
       "output_type": "stream",
       "stream": "stderr",
       "text": [
        " 0.506040096283\n",
        "SOLVE LP:"
       ]
      },
      {
       "output_type": "stream",
       "stream": "stderr",
       "text": [
        " 0.256231069565\n",
        "BUILD HYPERGRAPH:"
       ]
      },
      {
       "output_type": "stream",
       "stream": "stderr",
       "text": [
        " 0.0925679206848\n",
        "BUILD POTENTIALS:"
       ]
      },
      {
       "output_type": "stream",
       "stream": "stderr",
       "text": [
        " 0.139478206635\n",
        "BUILD LP:"
       ]
      },
      {
       "output_type": "stream",
       "stream": "stderr",
       "text": [
        " 0.924262046814\n",
        "SOLVE LP:"
       ]
      },
      {
       "output_type": "stream",
       "stream": "stderr",
       "text": [
        " 0.396369934082\n",
        "BUILD HYPERGRAPH: 0.0246980190277\n",
        "BUILD POTENTIALS:"
       ]
      },
      {
       "output_type": "stream",
       "stream": "stderr",
       "text": [
        " 0.0325717926025\n",
        "BUILD LP:"
       ]
      },
      {
       "output_type": "stream",
       "stream": "stderr",
       "text": [
        " 0.238625049591\n",
        "SOLVE LP:"
       ]
      },
      {
       "output_type": "stream",
       "stream": "stderr",
       "text": [
        " 0.156834840775\n",
        "BUILD HYPERGRAPH: 0.0228021144867\n",
        "BUILD POTENTIALS:"
       ]
      },
      {
       "output_type": "stream",
       "stream": "stderr",
       "text": [
        " 0.0337150096893\n",
        "BUILD LP:"
       ]
      },
      {
       "output_type": "stream",
       "stream": "stderr",
       "text": [
        " 0.235672950745\n",
        "SOLVE LP:"
       ]
      },
      {
       "output_type": "stream",
       "stream": "stderr",
       "text": [
        " 0.156180858612\n",
        "BUILD HYPERGRAPH: 0.0227198600769\n",
        "BUILD POTENTIALS:"
       ]
      },
      {
       "output_type": "stream",
       "stream": "stderr",
       "text": [
        " 0.0356228351593\n",
        "BUILD LP:"
       ]
      },
      {
       "output_type": "stream",
       "stream": "stderr",
       "text": [
        " 0.953645944595\n",
        "SOLVE LP:"
       ]
      },
      {
       "output_type": "stream",
       "stream": "stderr",
       "text": [
        " 0.156116008759\n",
        "BUILD HYPERGRAPH: 0.0107109546661\n",
        "BUILD POTENTIALS: 0.0185601711273\n",
        "BUILD LP:"
       ]
      },
      {
       "output_type": "stream",
       "stream": "stderr",
       "text": [
        " 0.110774040222\n",
        "SOLVE LP:"
       ]
      },
      {
       "output_type": "stream",
       "stream": "stderr",
       "text": [
        " 0.120948076248\n",
        "BUILD HYPERGRAPH:"
       ]
      },
      {
       "output_type": "stream",
       "stream": "stderr",
       "text": [
        " 0.106975078583\n",
        "BUILD POTENTIALS:"
       ]
      },
      {
       "output_type": "stream",
       "stream": "stderr",
       "text": [
        " 0.121742010117\n",
        "BUILD LP:"
       ]
      },
      {
       "output_type": "stream",
       "stream": "stderr",
       "text": [
        " 0.95220708847\n",
        "SOLVE LP:"
       ]
      },
      {
       "output_type": "stream",
       "stream": "stderr",
       "text": [
        " 0.398817062378\n",
        "BUILD HYPERGRAPH:"
       ]
      },
      {
       "output_type": "stream",
       "stream": "stderr",
       "text": [
        " 0.0539619922638\n",
        "BUILD POTENTIALS:"
       ]
      },
      {
       "output_type": "stream",
       "stream": "stderr",
       "text": [
        " 0.0741579532623\n",
        "BUILD LP:"
       ]
      },
      {
       "output_type": "stream",
       "stream": "stderr",
       "text": [
        " 0.498663902283\n",
        "SOLVE LP:"
       ]
      },
      {
       "output_type": "stream",
       "stream": "stderr",
       "text": [
        " 0.246442079544\n",
        "BUILD HYPERGRAPH: 0.0100522041321\n",
        "BUILD POTENTIALS: 0.0149831771851\n",
        "BUILD LP:"
       ]
      },
      {
       "output_type": "stream",
       "stream": "stderr",
       "text": [
        " 0.106477975845\n",
        "SOLVE LP:"
       ]
      },
      {
       "output_type": "stream",
       "stream": "stderr",
       "text": [
        " 0.111369132996\n",
        "BUILD HYPERGRAPH:"
       ]
      },
      {
       "output_type": "stream",
       "stream": "stderr",
       "text": [
        " 0.112669944763\n",
        "BUILD POTENTIALS:"
       ]
      },
      {
       "output_type": "stream",
       "stream": "stderr",
       "text": [
        " 0.129087924957\n",
        "BUILD LP:"
       ]
      },
      {
       "output_type": "stream",
       "stream": "stderr",
       "text": [
        " 0.938470125198\n",
        "SOLVE LP:"
       ]
      },
      {
       "output_type": "stream",
       "stream": "stderr",
       "text": [
        " 0.422950029373\n",
        "BUILD HYPERGRAPH:"
       ]
      },
      {
       "output_type": "stream",
       "stream": "stderr",
       "text": [
        " 0.0693488121033\n",
        "BUILD POTENTIALS:"
       ]
      },
      {
       "output_type": "stream",
       "stream": "stderr",
       "text": [
        " 0.0631818771362\n",
        "BUILD LP:"
       ]
      },
      {
       "output_type": "stream",
       "stream": "stderr",
       "text": [
        " 0.52880692482\n",
        "SOLVE LP:"
       ]
      },
      {
       "output_type": "stream",
       "stream": "stderr",
       "text": [
        " 0.248691082001\n",
        "BUILD HYPERGRAPH: 0.028361082077\n",
        "BUILD POTENTIALS:"
       ]
      },
      {
       "output_type": "stream",
       "stream": "stderr",
       "text": [
        " 0.0319559574127\n",
        "BUILD LP:"
       ]
      },
      {
       "output_type": "stream",
       "stream": "stderr",
       "text": [
        " 0.244585990906\n",
        "SOLVE LP:"
       ]
      },
      {
       "output_type": "stream",
       "stream": "stderr",
       "text": [
        " 0.162663221359\n",
        "BUILD HYPERGRAPH:"
       ]
      },
      {
       "output_type": "stream",
       "stream": "stderr",
       "text": [
        " 0.0905609130859\n",
        "BUILD POTENTIALS:"
       ]
      },
      {
       "output_type": "stream",
       "stream": "stderr",
       "text": [
        " 0.158217906952\n",
        "BUILD LP:"
       ]
      },
      {
       "output_type": "stream",
       "stream": "stderr",
       "text": [
        " 1.58243608475\n",
        "SOLVE LP:"
       ]
      },
      {
       "output_type": "stream",
       "stream": "stderr",
       "text": [
        " 0.401851892471\n",
        "BUILD HYPERGRAPH: 0.0113568305969\n",
        "BUILD POTENTIALS: 0.0194101333618\n",
        "BUILD LP:"
       ]
      },
      {
       "output_type": "stream",
       "stream": "stderr",
       "text": [
        " 0.105000972748\n",
        "SOLVE LP:"
       ]
      },
      {
       "output_type": "stream",
       "stream": "stderr",
       "text": [
        " 0.111676216125\n",
        "BUILD HYPERGRAPH: 0.0291750431061\n",
        "BUILD POTENTIALS:"
       ]
      },
      {
       "output_type": "stream",
       "stream": "stderr",
       "text": [
        " 0.0394790172577\n",
        "BUILD LP:"
       ]
      },
      {
       "output_type": "stream",
       "stream": "stderr",
       "text": [
        " 0.253605127335\n",
        "SOLVE LP:"
       ]
      },
      {
       "output_type": "stream",
       "stream": "stderr",
       "text": [
        " 0.161410093307\n",
        "BUILD HYPERGRAPH: 0.0307559967041\n",
        "BUILD POTENTIALS:"
       ]
      },
      {
       "output_type": "stream",
       "stream": "stderr",
       "text": [
        " 0.0343339443207\n",
        "BUILD LP:"
       ]
      },
      {
       "output_type": "stream",
       "stream": "stderr",
       "text": [
        " 0.255484819412\n",
        "SOLVE LP:"
       ]
      },
      {
       "output_type": "stream",
       "stream": "stderr",
       "text": [
        " 0.176321029663\n",
        "BUILD HYPERGRAPH: 0.0110690593719\n",
        "BUILD POTENTIALS: 0.0132451057434\n",
        "BUILD LP:"
       ]
      },
      {
       "output_type": "stream",
       "stream": "stderr",
       "text": [
        " 0.104337930679\n",
        "SOLVE LP:"
       ]
      },
      {
       "output_type": "stream",
       "stream": "stderr",
       "text": [
        " 0.124598026276\n",
        "BUILD HYPERGRAPH: 0.0123190879822\n",
        "BUILD POTENTIALS: 0.014132976532\n",
        "BUILD LP:"
       ]
      },
      {
       "output_type": "stream",
       "stream": "stderr",
       "text": [
        " 0.101856946945\n",
        "SOLVE LP:"
       ]
      },
      {
       "output_type": "stream",
       "stream": "stderr",
       "text": [
        " 0.109179973602\n",
        "BUILD HYPERGRAPH: 0.025906085968\n",
        "BUILD POTENTIALS:"
       ]
      },
      {
       "output_type": "stream",
       "stream": "stderr",
       "text": [
        " 0.0385189056396\n",
        "BUILD LP:"
       ]
      },
      {
       "output_type": "stream",
       "stream": "stderr",
       "text": [
        " 0.256510019302\n",
        "SOLVE LP:"
       ]
      },
      {
       "output_type": "stream",
       "stream": "stderr",
       "text": [
        " 0.157474994659\n",
        "BUILD HYPERGRAPH:"
       ]
      },
      {
       "output_type": "stream",
       "stream": "stderr",
       "text": [
        " 0.0978870391846\n",
        "BUILD POTENTIALS:"
       ]
      },
      {
       "output_type": "stream",
       "stream": "stderr",
       "text": [
        " 0.151427030563\n",
        "BUILD LP:"
       ]
      },
      {
       "output_type": "stream",
       "stream": "stderr",
       "text": [
        " 0.931921005249\n",
        "SOLVE LP:"
       ]
      },
      {
       "output_type": "stream",
       "stream": "stderr",
       "text": [
        " 0.411545991898\n",
        "BUILD HYPERGRAPH: 0.0194900035858\n",
        "BUILD POTENTIALS:"
       ]
      },
      {
       "output_type": "stream",
       "stream": "stderr",
       "text": [
        " 0.0160710811615\n",
        "BUILD LP:"
       ]
      },
      {
       "output_type": "stream",
       "stream": "stderr",
       "text": [
        " 0.100407123566\n",
        "SOLVE LP:"
       ]
      },
      {
       "output_type": "stream",
       "stream": "stdout",
       "text": [
        "\n",
        "effective learning rate: 1.000000\n",
        "iteration 2\n",
        "avg loss: 0.512755 w: [[ 0. -1.  0.  1. -1.  1. -4.  1.  1. -1. -2. -1.  2.  2. -1.  2.  1.  2.\n",
        "   1.  4.  0.  0.  2. -1.  4.  0.  3. -3.  3.  0.  0.  2. -1.  2.  0. -2.\n",
        "  -1. -1. -1.  2.  2.  2. -2. -1.  0.  3.  1.  3.  1. -2.  2. -1. -2.  2.\n",
        "  -3.  2.  1.  1. -1.  0.  1.  2.  1. -3.  0.  0.  1.  0.  2.  0.  2.  0.\n",
        "  -2.  1.  0. -2. -1.  1.  2.  5.  1.  4.  1.  4.  1.  3.  1.  1. -3.  0.\n",
        "   2.  0.  0.  2. -1. -1. -5.  1.  5.  2. -2.  3.  0.  2.  1.  1.  3. -1.\n",
        "   1.  1.  2.  1.  4. -2.  3.  4.  1.  1.  1.  1.  1.  1. -2.  1.  3. -1.\n",
        "   1.  5.  2.  0.  4.  0.  3.  3.  4. -1. -1.  1.  0.  2.  0.  3.  0.  0.\n",
        "   4.  1.  0.  0.  0.  0.  1.  1.  4. -1.  1. -1.  0.  3.  3.  3.  1.  0.\n",
        "   1.  0.  2.  1.  0.  2.  1. -1.  2. -2.  0.  2.  0.  0.  3. -3.  2.  0.\n",
        "   0. -1.  0.  3.  2. -1.  1.  3.  1.  4.  1.  1.  1.  0.  2. -1.  1.  3.\n",
        "   0.  3.  3.  2.  2. -1.  0.  3. -4.  2.  1. -2.  2.  1.  1. -1.  0. -1.\n",
        "   2.  2.  0. -2.  1.  4.  1. -2. -1.  4.  0. -2.  1. -2.  3.  3.  1.  4.\n",
        "   1.  0.  2.  1.  0.  1. -2.  1.  2.  5.  5.  2.  1.  5. -1.  3.  0.  0.\n",
        "   3.  0.  1.  1.  0.  1.  0. -2.  0.  0.  1.  6.  0. -2.  1.  0.  0.  1.\n",
        "   1.  1.  0.  0.  1.  1.  1.  0.  0.  1.  1.  1.  0.  1.  0.  0.  5.  0.\n",
        "   1.  0.  0.  0.  0.  1.  3.  3. -2. -1.  1.  1.  3.  0.  1.  0.  2.  6.\n",
        "   1.  0.  0.  0.  0.  0.  0. -2.  0. -2. -3.  1. -1.  2.  0.  0.  0.  1.\n",
        "   0.  0.  0.  1.  1.  0.  0.  3.  3.  0.  1.  0.  1.  0.  0.  0.  1. -1.\n",
        "   0.  1.  2.  1.  1.  1.  1.  2.  2.  3.  3.  3.  0.  0.  0.  1.  0.  1.\n",
        "   2.  1. -1.  1.  1.  2. -1.  3.  0.  1.  0.  3.  1. -1.  1.  3.  6. -1.\n",
        "   4.  1.  0.  1.  1.  0.  0.  1.  1.  1.  1. -4.  0.  0.  3. -1. -1.  0.\n",
        "  -1.  3.  1.  1.  1. -1.  2.]]"
       ]
      },
      {
       "output_type": "stream",
       "stream": "stderr",
       "text": [
        " 0.109422922134\n",
        "BUILD HYPERGRAPH:"
       ]
      },
      {
       "output_type": "stream",
       "stream": "stderr",
       "text": [
        " 0.0258181095123\n",
        "BUILD POTENTIALS: 0.0388281345367\n",
        "BUILD LP:"
       ]
      },
      {
       "output_type": "stream",
       "stream": "stderr",
       "text": [
        " 0.248095989227\n",
        "SOLVE LP:"
       ]
      },
      {
       "output_type": "stream",
       "stream": "stderr",
       "text": [
        " 0.158445119858\n",
        "BUILD HYPERGRAPH: 0.00663304328918\n",
        "BUILD POTENTIALS: 0.00994896888733\n",
        "BUILD LP:"
       ]
      },
      {
       "output_type": "stream",
       "stream": "stderr",
       "text": [
        " 0.0384409427643\n",
        "SOLVE LP:"
       ]
      },
      {
       "output_type": "stream",
       "stream": "stderr",
       "text": [
        " 0.0861001014709\n",
        "BUILD HYPERGRAPH: 0.0110950469971\n",
        "BUILD POTENTIALS: 0.015625\n",
        "BUILD LP:"
       ]
      },
      {
       "output_type": "stream",
       "stream": "stderr",
       "text": [
        " 0.102409124374\n",
        "SOLVE LP:"
       ]
      },
      {
       "output_type": "stream",
       "stream": "stderr",
       "text": [
        " 0.113018035889\n",
        "BUILD HYPERGRAPH:"
       ]
      },
      {
       "output_type": "stream",
       "stream": "stderr",
       "text": [
        " 0.0952649116516\n",
        "BUILD POTENTIALS:"
       ]
      },
      {
       "output_type": "stream",
       "stream": "stderr",
       "text": [
        " 0.126635074615\n",
        "BUILD LP:"
       ]
      },
      {
       "output_type": "stream",
       "stream": "stderr",
       "text": [
        " 0.925000905991\n",
        "SOLVE LP:"
       ]
      },
      {
       "output_type": "stream",
       "stream": "stderr",
       "text": [
        " 0.402595043182\n",
        "BUILD HYPERGRAPH:"
       ]
      },
      {
       "output_type": "stream",
       "stream": "stderr",
       "text": [
        " 0.048033952713\n",
        "BUILD POTENTIALS:"
       ]
      },
      {
       "output_type": "stream",
       "stream": "stderr",
       "text": [
        " 0.0712637901306\n",
        "BUILD LP:"
       ]
      },
      {
       "output_type": "stream",
       "stream": "stderr",
       "text": [
        " 0.495940923691\n",
        "SOLVE LP:"
       ]
      },
      {
       "output_type": "stream",
       "stream": "stderr",
       "text": [
        " 0.251142024994\n",
        "BUILD HYPERGRAPH:"
       ]
      },
      {
       "output_type": "stream",
       "stream": "stderr",
       "text": [
        " 0.0880839824677\n",
        "BUILD POTENTIALS:"
       ]
      },
      {
       "output_type": "stream",
       "stream": "stderr",
       "text": [
        " 0.131427049637\n",
        "BUILD LP:"
       ]
      },
      {
       "output_type": "stream",
       "stream": "stderr",
       "text": [
        " 1.57240200043\n",
        "SOLVE LP:"
       ]
      },
      {
       "output_type": "stream",
       "stream": "stderr",
       "text": [
        " 0.393997907639\n",
        "BUILD HYPERGRAPH: 0.00479793548584\n",
        "BUILD POTENTIALS: 0.00700402259827\n",
        "BUILD LP:"
       ]
      },
      {
       "output_type": "stream",
       "stream": "stderr",
       "text": [
        " 0.0366561412811\n",
        "SOLVE LP:"
       ]
      },
      {
       "output_type": "stream",
       "stream": "stderr",
       "text": [
        " 0.0884430408478\n",
        "BUILD HYPERGRAPH: 0.0058331489563\n",
        "BUILD POTENTIALS: 0.0105540752411\n",
        "BUILD LP:"
       ]
      },
      {
       "output_type": "stream",
       "stream": "stderr",
       "text": [
        " 0.0634400844574\n",
        "SOLVE LP:"
       ]
      },
      {
       "output_type": "stream",
       "stream": "stderr",
       "text": [
        " 0.102803945541\n",
        "BUILD HYPERGRAPH:"
       ]
      },
      {
       "output_type": "stream",
       "stream": "stderr",
       "text": [
        " 0.0714740753174\n",
        "BUILD POTENTIALS:"
       ]
      },
      {
       "output_type": "stream",
       "stream": "stderr",
       "text": [
        " 0.0720081329346\n",
        "BUILD LP:"
       ]
      },
      {
       "output_type": "stream",
       "stream": "stderr",
       "text": [
        " 0.51890707016\n",
        "SOLVE LP:"
       ]
      },
      {
       "output_type": "stream",
       "stream": "stderr",
       "text": [
        " 0.261646986008\n",
        "BUILD HYPERGRAPH:"
       ]
      },
      {
       "output_type": "stream",
       "stream": "stderr",
       "text": [
        " 0.0996799468994\n",
        "BUILD POTENTIALS:"
       ]
      },
      {
       "output_type": "stream",
       "stream": "stderr",
       "text": [
        " 0.130882978439\n",
        "BUILD LP:"
       ]
      },
      {
       "output_type": "stream",
       "stream": "stderr",
       "text": [
        " 0.943185091019\n",
        "SOLVE LP:"
       ]
      },
      {
       "output_type": "stream",
       "stream": "stderr",
       "text": [
        " 0.407289028168\n",
        "BUILD HYPERGRAPH:"
       ]
      },
      {
       "output_type": "stream",
       "stream": "stderr",
       "text": [
        " 0.0500950813293\n",
        "BUILD POTENTIALS:"
       ]
      },
      {
       "output_type": "stream",
       "stream": "stderr",
       "text": [
        " 0.0638508796692\n",
        "BUILD LP:"
       ]
      },
      {
       "output_type": "stream",
       "stream": "stderr",
       "text": [
        " 0.503674030304\n",
        "SOLVE LP:"
       ]
      },
      {
       "output_type": "stream",
       "stream": "stderr",
       "text": [
        " 0.258320093155\n",
        "BUILD HYPERGRAPH: 0.0100929737091\n",
        "BUILD POTENTIALS: 0.0126750469208\n",
        "BUILD LP:"
       ]
      },
      {
       "output_type": "stream",
       "stream": "stderr",
       "text": [
        " 0.0989511013031\n",
        "SOLVE LP:"
       ]
      },
      {
       "output_type": "stream",
       "stream": "stderr",
       "text": [
        " 0.107606172562\n",
        "BUILD HYPERGRAPH: 0.0104548931122\n",
        "BUILD POTENTIALS: 0.0139200687408\n",
        "BUILD LP:"
       ]
      },
      {
       "output_type": "stream",
       "stream": "stderr",
       "text": [
        " 0.0999791622162\n",
        "SOLVE LP:"
       ]
      },
      {
       "output_type": "stream",
       "stream": "stderr",
       "text": [
        " 0.112650156021\n",
        "BUILD HYPERGRAPH:"
       ]
      },
      {
       "output_type": "stream",
       "stream": "stderr",
       "text": [
        " 0.0555040836334\n",
        "BUILD POTENTIALS:"
       ]
      },
      {
       "output_type": "stream",
       "stream": "stderr",
       "text": [
        " 0.0681099891663\n",
        "BUILD LP:"
       ]
      },
      {
       "output_type": "stream",
       "stream": "stderr",
       "text": [
        " 0.503299951553\n",
        "SOLVE LP:"
       ]
      },
      {
       "output_type": "stream",
       "stream": "stderr",
       "text": [
        " 0.249488830566\n",
        "BUILD HYPERGRAPH:"
       ]
      },
      {
       "output_type": "stream",
       "stream": "stderr",
       "text": [
        " 0.170814037323\n",
        "BUILD POTENTIALS:"
       ]
      },
      {
       "output_type": "stream",
       "stream": "stderr",
       "text": [
        " 0.203490018845\n",
        "BUILD LP:"
       ]
      },
      {
       "output_type": "stream",
       "stream": "stderr",
       "text": [
        " 2.21178007126\n",
        "SOLVE LP:"
       ]
      },
      {
       "output_type": "stream",
       "stream": "stderr",
       "text": [
        " 0.684703826904\n",
        "BUILD HYPERGRAPH:"
       ]
      },
      {
       "output_type": "stream",
       "stream": "stderr",
       "text": [
        " 0.171448945999\n",
        "BUILD POTENTIALS:"
       ]
      },
      {
       "output_type": "stream",
       "stream": "stderr",
       "text": [
        " 0.208516836166\n",
        "BUILD LP:"
       ]
      },
      {
       "output_type": "stream",
       "stream": "stderr",
       "text": [
        " 1.6797721386\n",
        "SOLVE LP:"
       ]
      },
      {
       "output_type": "stream",
       "stream": "stderr",
       "text": [
        " 0.691730976105\n",
        "BUILD HYPERGRAPH:"
       ]
      },
      {
       "output_type": "stream",
       "stream": "stderr",
       "text": [
        " 0.0519299507141\n",
        "BUILD POTENTIALS:"
       ]
      },
      {
       "output_type": "stream",
       "stream": "stderr",
       "text": [
        " 0.0677888393402\n",
        "BUILD LP:"
       ]
      },
      {
       "output_type": "stream",
       "stream": "stderr",
       "text": [
        " 0.497721910477\n",
        "SOLVE LP:"
       ]
      },
      {
       "output_type": "stream",
       "stream": "stderr",
       "text": [
        " 0.248028993607\n",
        "BUILD HYPERGRAPH:"
       ]
      },
      {
       "output_type": "stream",
       "stream": "stderr",
       "text": [
        " 0.0517230033875\n",
        "BUILD POTENTIALS:"
       ]
      },
      {
       "output_type": "stream",
       "stream": "stderr",
       "text": [
        " 0.0804779529572\n",
        "BUILD LP:"
       ]
      },
      {
       "output_type": "stream",
       "stream": "stderr",
       "text": [
        " 0.497515916824\n",
        "SOLVE LP:"
       ]
      },
      {
       "output_type": "stream",
       "stream": "stderr",
       "text": [
        " 0.243078947067\n",
        "BUILD HYPERGRAPH:"
       ]
      },
      {
       "output_type": "stream",
       "stream": "stderr",
       "text": [
        " 0.162814855576\n",
        "BUILD POTENTIALS:"
       ]
      },
      {
       "output_type": "stream",
       "stream": "stderr",
       "text": [
        " 0.21751499176\n",
        "BUILD LP:"
       ]
      },
      {
       "output_type": "stream",
       "stream": "stderr",
       "text": [
        " 2.24748802185\n",
        "SOLVE LP:"
       ]
      },
      {
       "output_type": "stream",
       "stream": "stderr",
       "text": [
        " 0.667585134506\n",
        "BUILD HYPERGRAPH:"
       ]
      },
      {
       "output_type": "stream",
       "stream": "stderr",
       "text": [
        " 0.170363903046\n",
        "BUILD POTENTIALS:"
       ]
      },
      {
       "output_type": "stream",
       "stream": "stderr",
       "text": [
        " 0.198512077332\n",
        "BUILD LP:"
       ]
      },
      {
       "output_type": "stream",
       "stream": "stderr",
       "text": [
        " 1.646296978\n",
        "SOLVE LP:"
       ]
      },
      {
       "output_type": "stream",
       "stream": "stderr",
       "text": [
        " 0.678024053574\n",
        "BUILD HYPERGRAPH:"
       ]
      },
      {
       "output_type": "stream",
       "stream": "stderr",
       "text": [
        " 0.0500919818878\n",
        "BUILD POTENTIALS:"
       ]
      },
      {
       "output_type": "stream",
       "stream": "stderr",
       "text": [
        " 0.0583610534668\n",
        "BUILD LP:"
       ]
      },
      {
       "output_type": "stream",
       "stream": "stderr",
       "text": [
        " 0.513782978058\n",
        "SOLVE LP:"
       ]
      },
      {
       "output_type": "stream",
       "stream": "stderr",
       "text": [
        " 0.239769935608\n",
        "BUILD HYPERGRAPH:"
       ]
      },
      {
       "output_type": "stream",
       "stream": "stderr",
       "text": [
        " 0.0597879886627\n",
        "BUILD POTENTIALS:"
       ]
      },
      {
       "output_type": "stream",
       "stream": "stderr",
       "text": [
        " 0.0604660511017\n",
        "BUILD LP:"
       ]
      },
      {
       "output_type": "stream",
       "stream": "stderr",
       "text": [
        " 0.500478029251\n",
        "SOLVE LP:"
       ]
      },
      {
       "output_type": "stream",
       "stream": "stderr",
       "text": [
        " 0.242718219757\n",
        "BUILD HYPERGRAPH:"
       ]
      },
      {
       "output_type": "stream",
       "stream": "stderr",
       "text": [
        " 0.0926032066345\n",
        "BUILD POTENTIALS:"
       ]
      },
      {
       "output_type": "stream",
       "stream": "stderr",
       "text": [
        " 0.131669044495\n",
        "BUILD LP:"
       ]
      },
      {
       "output_type": "stream",
       "stream": "stderr",
       "text": [
        " 1.60823011398\n",
        "SOLVE LP:"
       ]
      },
      {
       "output_type": "stream",
       "stream": "stderr",
       "text": [
        " 0.40643787384\n",
        "BUILD HYPERGRAPH: 0.0248470306396\n",
        "BUILD POTENTIALS:"
       ]
      },
      {
       "output_type": "stream",
       "stream": "stderr",
       "text": [
        " 0.0328330993652\n",
        "BUILD LP:"
       ]
      },
      {
       "output_type": "stream",
       "stream": "stderr",
       "text": [
        " 0.254317998886\n",
        "SOLVE LP:"
       ]
      },
      {
       "output_type": "stream",
       "stream": "stderr",
       "text": [
        " 0.159629821777\n",
        "BUILD HYPERGRAPH:"
       ]
      },
      {
       "output_type": "stream",
       "stream": "stderr",
       "text": [
        " 0.0992610454559\n",
        "BUILD POTENTIALS:"
       ]
      },
      {
       "output_type": "stream",
       "stream": "stderr",
       "text": [
        " 0.132827043533\n",
        "BUILD LP:"
       ]
      },
      {
       "output_type": "stream",
       "stream": "stderr",
       "text": [
        " 0.967538118362\n",
        "SOLVE LP:"
       ]
      },
      {
       "output_type": "stream",
       "stream": "stderr",
       "text": [
        " 0.415233850479\n",
        "BUILD HYPERGRAPH:"
       ]
      },
      {
       "output_type": "stream",
       "stream": "stderr",
       "text": [
        " 0.115437984467\n",
        "BUILD POTENTIALS:"
       ]
      },
      {
       "output_type": "stream",
       "stream": "stderr",
       "text": [
        " 0.131407022476\n",
        "BUILD LP:"
       ]
      },
      {
       "output_type": "stream",
       "stream": "stderr",
       "text": [
        " 0.921900987625\n",
        "SOLVE LP:"
       ]
      },
      {
       "output_type": "stream",
       "stream": "stderr",
       "text": [
        " 0.418060064316\n",
        "BUILD HYPERGRAPH:"
       ]
      },
      {
       "output_type": "stream",
       "stream": "stderr",
       "text": [
        " 0.0924718379974\n",
        "BUILD POTENTIALS:"
       ]
      },
      {
       "output_type": "stream",
       "stream": "stderr",
       "text": [
        " 0.132947206497\n",
        "BUILD LP:"
       ]
      },
      {
       "output_type": "stream",
       "stream": "stderr",
       "text": [
        " 0.92520403862\n",
        "SOLVE LP:"
       ]
      },
      {
       "output_type": "stream",
       "stream": "stderr",
       "text": [
        " 0.402412176132\n",
        "BUILD HYPERGRAPH:"
       ]
      },
      {
       "output_type": "stream",
       "stream": "stderr",
       "text": [
        " 0.0499429702759\n",
        "BUILD POTENTIALS:"
       ]
      },
      {
       "output_type": "stream",
       "stream": "stderr",
       "text": [
        " 0.0773241519928\n",
        "BUILD LP:"
       ]
      },
      {
       "output_type": "stream",
       "stream": "stderr",
       "text": [
        " 0.495136976242\n",
        "SOLVE LP:"
       ]
      },
      {
       "output_type": "stream",
       "stream": "stderr",
       "text": [
        " 0.249107837677\n",
        "BUILD HYPERGRAPH: 0.00957703590393\n",
        "BUILD POTENTIALS: 0.0121171474457\n",
        "BUILD LP:"
       ]
      },
      {
       "output_type": "stream",
       "stream": "stderr",
       "text": [
        " 0.0991311073303\n",
        "SOLVE LP:"
       ]
      },
      {
       "output_type": "stream",
       "stream": "stderr",
       "text": [
        " 0.111513853073\n",
        "BUILD HYPERGRAPH: 0.0388479232788\n",
        "BUILD POTENTIALS:"
       ]
      },
      {
       "output_type": "stream",
       "stream": "stderr",
       "text": [
        " 0.0292339324951\n",
        "BUILD LP:"
       ]
      },
      {
       "output_type": "stream",
       "stream": "stderr",
       "text": [
        " 0.933398962021\n",
        "SOLVE LP:"
       ]
      },
      {
       "output_type": "stream",
       "stream": "stderr",
       "text": [
        " 0.159732818604\n",
        "BUILD HYPERGRAPH:"
       ]
      },
      {
       "output_type": "stream",
       "stream": "stderr",
       "text": [
        " 0.104237794876\n",
        "BUILD POTENTIALS:"
       ]
      },
      {
       "output_type": "stream",
       "stream": "stderr",
       "text": [
        " 0.128745079041\n",
        "BUILD LP:"
       ]
      },
      {
       "output_type": "stream",
       "stream": "stderr",
       "text": [
        " 0.952694892883\n",
        "SOLVE LP:"
       ]
      },
      {
       "output_type": "stream",
       "stream": "stderr",
       "text": [
        " 0.41873884201\n",
        "BUILD HYPERGRAPH:"
       ]
      },
      {
       "output_type": "stream",
       "stream": "stderr",
       "text": [
        " 0.0974080562592\n",
        "BUILD POTENTIALS:"
       ]
      },
      {
       "output_type": "stream",
       "stream": "stderr",
       "text": [
        " 0.138934135437\n",
        "BUILD LP:"
       ]
      },
      {
       "output_type": "stream",
       "stream": "stderr",
       "text": [
        " 0.938596963882\n",
        "SOLVE LP:"
       ]
      },
      {
       "output_type": "stream",
       "stream": "stderr",
       "text": [
        " 0.406032085419\n",
        "BUILD HYPERGRAPH:"
       ]
      },
      {
       "output_type": "stream",
       "stream": "stderr",
       "text": [
        " 0.0933041572571\n",
        "BUILD POTENTIALS:"
       ]
      },
      {
       "output_type": "stream",
       "stream": "stderr",
       "text": [
        " 0.127555131912\n",
        "BUILD LP:"
       ]
      },
      {
       "output_type": "stream",
       "stream": "stderr",
       "text": [
        " 0.928972959518\n",
        "SOLVE LP:"
       ]
      },
      {
       "output_type": "stream",
       "stream": "stderr",
       "text": [
        " 0.42817902565\n",
        "BUILD HYPERGRAPH:"
       ]
      },
      {
       "output_type": "stream",
       "stream": "stderr",
       "text": [
        " 0.0944221019745\n",
        "BUILD POTENTIALS:"
       ]
      },
      {
       "output_type": "stream",
       "stream": "stderr",
       "text": [
        " 0.144400119781\n",
        "BUILD LP:"
       ]
      },
      {
       "output_type": "stream",
       "stream": "stderr",
       "text": [
        " 0.923013925552\n",
        "SOLVE LP:"
       ]
      },
      {
       "output_type": "stream",
       "stream": "stderr",
       "text": [
        " 0.396878957748\n",
        "BUILD HYPERGRAPH:"
       ]
      },
      {
       "output_type": "stream",
       "stream": "stderr",
       "text": [
        " 0.752053022385\n",
        "BUILD POTENTIALS:"
       ]
      },
      {
       "output_type": "stream",
       "stream": "stderr",
       "text": [
        " 0.123559951782\n",
        "BUILD LP:"
       ]
      },
      {
       "output_type": "stream",
       "stream": "stderr",
       "text": [
        " 0.928477048874\n",
        "SOLVE LP:"
       ]
      },
      {
       "output_type": "stream",
       "stream": "stderr",
       "text": [
        " 0.404721975327\n",
        "BUILD HYPERGRAPH:"
       ]
      },
      {
       "output_type": "stream",
       "stream": "stderr",
       "text": [
        " 0.0533800125122\n",
        "BUILD POTENTIALS:"
       ]
      },
      {
       "output_type": "stream",
       "stream": "stderr",
       "text": [
        " 0.0808510780334\n",
        "BUILD LP:"
       ]
      },
      {
       "output_type": "stream",
       "stream": "stderr",
       "text": [
        " 0.511937856674\n",
        "SOLVE LP:"
       ]
      },
      {
       "output_type": "stream",
       "stream": "stderr",
       "text": [
        " 0.248505115509\n",
        "BUILD HYPERGRAPH:"
       ]
      },
      {
       "output_type": "stream",
       "stream": "stderr",
       "text": [
        " 0.0597200393677\n",
        "BUILD POTENTIALS:"
       ]
      },
      {
       "output_type": "stream",
       "stream": "stderr",
       "text": [
        " 0.0612299442291\n",
        "BUILD LP:"
       ]
      },
      {
       "output_type": "stream",
       "stream": "stderr",
       "text": [
        " 0.494867086411\n",
        "SOLVE LP:"
       ]
      },
      {
       "output_type": "stream",
       "stream": "stderr",
       "text": [
        " 0.250524997711\n",
        "BUILD HYPERGRAPH:"
       ]
      },
      {
       "output_type": "stream",
       "stream": "stderr",
       "text": [
        " 0.0496821403503\n",
        "BUILD POTENTIALS:"
       ]
      },
      {
       "output_type": "stream",
       "stream": "stderr",
       "text": [
        " 0.0784530639648\n",
        "BUILD LP:"
       ]
      },
      {
       "output_type": "stream",
       "stream": "stderr",
       "text": [
        " 0.503556013107\n",
        "SOLVE LP:"
       ]
      },
      {
       "output_type": "stream",
       "stream": "stderr",
       "text": [
        " 0.249553918839\n",
        "BUILD HYPERGRAPH:"
       ]
      },
      {
       "output_type": "stream",
       "stream": "stderr",
       "text": [
        " 0.0968329906464\n",
        "BUILD POTENTIALS:"
       ]
      },
      {
       "output_type": "stream",
       "stream": "stderr",
       "text": [
        " 0.142601966858\n",
        "BUILD LP:"
       ]
      },
      {
       "output_type": "stream",
       "stream": "stderr",
       "text": [
        " 0.946928977966\n",
        "SOLVE LP:"
       ]
      },
      {
       "output_type": "stream",
       "stream": "stderr",
       "text": [
        " 0.393113851547\n",
        "BUILD HYPERGRAPH: 0.0231938362122\n",
        "BUILD POTENTIALS:"
       ]
      },
      {
       "output_type": "stream",
       "stream": "stderr",
       "text": [
        " 0.032693862915\n",
        "BUILD LP:"
       ]
      },
      {
       "output_type": "stream",
       "stream": "stderr",
       "text": [
        " 0.240466833115\n",
        "SOLVE LP:"
       ]
      },
      {
       "output_type": "stream",
       "stream": "stderr",
       "text": [
        " 0.157521009445\n",
        "BUILD HYPERGRAPH: 0.022540807724\n",
        "BUILD POTENTIALS:"
       ]
      },
      {
       "output_type": "stream",
       "stream": "stderr",
       "text": [
        " 0.0353910923004\n",
        "BUILD LP:"
       ]
      },
      {
       "output_type": "stream",
       "stream": "stderr",
       "text": [
        " 0.23566699028\n",
        "SOLVE LP:"
       ]
      },
      {
       "output_type": "stream",
       "stream": "stderr",
       "text": [
        " 0.158738851547\n",
        "BUILD HYPERGRAPH: 0.0220799446106\n",
        "BUILD POTENTIALS:"
       ]
      },
      {
       "output_type": "stream",
       "stream": "stderr",
       "text": [
        " 0.0353050231934\n",
        "BUILD LP:"
       ]
      },
      {
       "output_type": "stream",
       "stream": "stderr",
       "text": [
        " 0.231356859207\n",
        "SOLVE LP:"
       ]
      },
      {
       "output_type": "stream",
       "stream": "stderr",
       "text": [
        " 0.151778936386\n",
        "BUILD HYPERGRAPH: 0.00904417037964\n",
        "BUILD POTENTIALS: 0.0147390365601\n",
        "BUILD LP:"
       ]
      },
      {
       "output_type": "stream",
       "stream": "stderr",
       "text": [
        " 0.100737094879\n",
        "SOLVE LP:"
       ]
      },
      {
       "output_type": "stream",
       "stream": "stderr",
       "text": [
        " 0.134582042694\n",
        "BUILD HYPERGRAPH:"
       ]
      },
      {
       "output_type": "stream",
       "stream": "stderr",
       "text": [
        " 0.75225687027\n",
        "BUILD POTENTIALS:"
       ]
      },
      {
       "output_type": "stream",
       "stream": "stderr",
       "text": [
        " 0.129335165024\n",
        "BUILD LP:"
       ]
      },
      {
       "output_type": "stream",
       "stream": "stderr",
       "text": [
        " 0.911448955536\n",
        "SOLVE LP:"
       ]
      },
      {
       "output_type": "stream",
       "stream": "stderr",
       "text": [
        " 0.431900024414\n",
        "BUILD HYPERGRAPH:"
       ]
      },
      {
       "output_type": "stream",
       "stream": "stderr",
       "text": [
        " 0.0535588264465\n",
        "BUILD POTENTIALS:"
       ]
      },
      {
       "output_type": "stream",
       "stream": "stderr",
       "text": [
        " 0.0816550254822\n",
        "BUILD LP:"
       ]
      },
      {
       "output_type": "stream",
       "stream": "stderr",
       "text": [
        " 0.50713801384\n",
        "SOLVE LP:"
       ]
      },
      {
       "output_type": "stream",
       "stream": "stderr",
       "text": [
        " 0.260022878647\n",
        "BUILD HYPERGRAPH: 0.0146858692169\n",
        "BUILD POTENTIALS:"
       ]
      },
      {
       "output_type": "stream",
       "stream": "stderr",
       "text": [
        " 0.030219078064\n",
        "BUILD LP:"
       ]
      },
      {
       "output_type": "stream",
       "stream": "stderr",
       "text": [
        " 0.107627153397\n",
        "SOLVE LP:"
       ]
      },
      {
       "output_type": "stream",
       "stream": "stderr",
       "text": [
        " 0.11982011795\n",
        "BUILD HYPERGRAPH:"
       ]
      },
      {
       "output_type": "stream",
       "stream": "stderr",
       "text": [
        " 0.103376150131\n",
        "BUILD POTENTIALS:"
       ]
      },
      {
       "output_type": "stream",
       "stream": "stderr",
       "text": [
        " 0.120663166046\n",
        "BUILD LP:"
       ]
      },
      {
       "output_type": "stream",
       "stream": "stderr",
       "text": [
        " 0.958119869232\n",
        "SOLVE LP:"
       ]
      },
      {
       "output_type": "stream",
       "stream": "stderr",
       "text": [
        " 0.442785978317\n",
        "BUILD HYPERGRAPH:"
       ]
      },
      {
       "output_type": "stream",
       "stream": "stderr",
       "text": [
        " 0.0571508407593\n",
        "BUILD POTENTIALS:"
       ]
      },
      {
       "output_type": "stream",
       "stream": "stderr",
       "text": [
        " 0.079882144928\n",
        "BUILD LP:"
       ]
      },
      {
       "output_type": "stream",
       "stream": "stderr",
       "text": [
        " 0.494067907333\n",
        "SOLVE LP:"
       ]
      },
      {
       "output_type": "stream",
       "stream": "stderr",
       "text": [
        " 0.254893064499\n",
        "BUILD HYPERGRAPH: 0.0218870639801\n",
        "BUILD POTENTIALS:"
       ]
      },
      {
       "output_type": "stream",
       "stream": "stderr",
       "text": [
        " 0.0308978557587\n",
        "BUILD LP:"
       ]
      },
      {
       "output_type": "stream",
       "stream": "stderr",
       "text": [
        " 0.229252099991\n",
        "SOLVE LP:"
       ]
      },
      {
       "output_type": "stream",
       "stream": "stderr",
       "text": [
        " 0.16130900383\n",
        "BUILD HYPERGRAPH:"
       ]
      },
      {
       "output_type": "stream",
       "stream": "stderr",
       "text": [
        " 0.0866980552673\n",
        "BUILD POTENTIALS:"
       ]
      },
      {
       "output_type": "stream",
       "stream": "stderr",
       "text": [
        " 0.142832994461\n",
        "BUILD LP:"
       ]
      },
      {
       "output_type": "stream",
       "stream": "stderr",
       "text": [
        " 0.890985012054\n",
        "SOLVE LP:"
       ]
      },
      {
       "output_type": "stream",
       "stream": "stderr",
       "text": [
        " 0.389908075333\n",
        "BUILD HYPERGRAPH: 0.0147919654846\n",
        "BUILD POTENTIALS: 0.0161240100861\n",
        "BUILD LP:"
       ]
      },
      {
       "output_type": "stream",
       "stream": "stderr",
       "text": [
        " 0.0963768959045\n",
        "SOLVE LP:"
       ]
      },
      {
       "output_type": "stream",
       "stream": "stderr",
       "text": [
        " 0.109838008881\n",
        "BUILD HYPERGRAPH:"
       ]
      },
      {
       "output_type": "stream",
       "stream": "stderr",
       "text": [
        " 0.708322048187\n",
        "BUILD POTENTIALS: 0.0365591049194\n",
        "BUILD LP:"
       ]
      },
      {
       "output_type": "stream",
       "stream": "stderr",
       "text": [
        " 0.254253864288\n",
        "SOLVE LP:"
       ]
      },
      {
       "output_type": "stream",
       "stream": "stderr",
       "text": [
        " 0.159879922867\n",
        "BUILD HYPERGRAPH: 0.0257818698883\n",
        "BUILD POTENTIALS:"
       ]
      },
      {
       "output_type": "stream",
       "stream": "stderr",
       "text": [
        " 0.0395588874817\n",
        "BUILD LP:"
       ]
      },
      {
       "output_type": "stream",
       "stream": "stderr",
       "text": [
        " 0.250461101532\n",
        "SOLVE LP:"
       ]
      },
      {
       "output_type": "stream",
       "stream": "stderr",
       "text": [
        " 0.158433914185\n",
        "BUILD HYPERGRAPH: 0.0113289356232\n",
        "BUILD POTENTIALS: 0.0124020576477\n",
        "BUILD LP:"
       ]
      },
      {
       "output_type": "stream",
       "stream": "stderr",
       "text": [
        " 0.10368013382\n",
        "SOLVE LP:"
       ]
      },
      {
       "output_type": "stream",
       "stream": "stderr",
       "text": [
        " 0.12087893486\n",
        "BUILD HYPERGRAPH: 0.0156118869781\n",
        "BUILD POTENTIALS: 0.012640953064\n",
        "BUILD LP:"
       ]
      },
      {
       "output_type": "stream",
       "stream": "stderr",
       "text": [
        " 0.0970950126648\n",
        "SOLVE LP:"
       ]
      },
      {
       "output_type": "stream",
       "stream": "stderr",
       "text": [
        " 0.109527111053\n",
        "BUILD HYPERGRAPH: 0.0265970230103\n",
        "BUILD POTENTIALS:"
       ]
      },
      {
       "output_type": "stream",
       "stream": "stderr",
       "text": [
        " 0.0414469242096\n",
        "BUILD LP:"
       ]
      },
      {
       "output_type": "stream",
       "stream": "stderr",
       "text": [
        " 0.251897096634\n",
        "SOLVE LP:"
       ]
      },
      {
       "output_type": "stream",
       "stream": "stderr",
       "text": [
        " 0.166136026382\n",
        "BUILD HYPERGRAPH:"
       ]
      },
      {
       "output_type": "stream",
       "stream": "stderr",
       "text": [
        " 0.103544950485\n",
        "BUILD POTENTIALS:"
       ]
      },
      {
       "output_type": "stream",
       "stream": "stderr",
       "text": [
        " 0.17679810524\n",
        "BUILD LP:"
       ]
      },
      {
       "output_type": "stream",
       "stream": "stderr",
       "text": [
        " 0.950237035751\n",
        "SOLVE LP:"
       ]
      },
      {
       "output_type": "stream",
       "stream": "stderr",
       "text": [
        " 0.415239810944\n",
        "BUILD HYPERGRAPH: 0.00980091094971\n",
        "BUILD POTENTIALS: 0.0144329071045\n",
        "BUILD LP:"
       ]
      },
      {
       "output_type": "stream",
       "stream": "stderr",
       "text": [
        " 0.0965340137482\n",
        "SOLVE LP:"
       ]
      },
      {
       "output_type": "stream",
       "stream": "stdout",
       "text": [
        "\n",
        "effective learning rate: 1.000000\n",
        "iteration 3\n",
        "avg loss: 0.502551 w: [[ 0. -1.  0.  1. -1.  1. -3.  0.  1.  0. -2. -1.  2.  2. -1.  2.  0.  2.\n",
        "   1.  3. -3.  0.  4. -1.  5.  0.  3. -5.  6. -1.  0.  1. -1.  3. -1. -1.\n",
        "   0.  0. -1.  1.  0.  2. -1. -1.  0.  2.  1.  4.  2. -2.  1. -1. -1.  1.\n",
        "  -3.  3.  1.  2.  0.  0.  1.  2.  1. -1. -1. -1.  1.  0.  3.  0.  3.  0.\n",
        "  -3.  3.  0. -2. -1.  1.  1.  6.  0.  5.  1.  4.  1.  4.  2.  1. -4.  1.\n",
        "   2.  0. -1.  2.  2. -1. -4.  0.  6.  1. -2.  3.  0.  3.  1.  0.  3.  3.\n",
        "   3. -1.  1.  1.  6. -1.  3.  6.  1.  2.  2.  1.  1.  1. -3.  1.  2. -1.\n",
        "   2.  5.  3.  0.  5.  0.  3.  2.  6. -1. -1. -1.  0.  3. -1.  0.  1.  1.\n",
        "   2.  1.  0.  0.  0.  0.  1.  1.  4.  0.  1. -1. -1.  2.  4.  5.  1.  1.\n",
        "  -1.  0.  3.  1.  0.  3. -1.  0.  3. -1.  0.  3.  0.  0.  3. -2.  4.  1.\n",
        "  -1. -1.  1.  3.  2.  0.  1.  2.  1.  4.  1.  1.  1.  0.  1.  1.  0.  4.\n",
        "   0.  0.  3.  4.  0. -1.  0.  4. -4.  3.  0. -2.  3.  2.  0.  0. -1. -1.\n",
        "   4.  1.  0. -3.  1.  5.  1.  0. -2.  3.  1. -2.  2. -3.  4.  3.  2.  4.\n",
        "  -1.  1.  0.  2.  1.  1. -3.  2.  3.  4.  6.  3.  1.  7.  0.  5.  0.  0.\n",
        "   3.  0.  2.  1.  0.  1.  0. -3.  0.  0.  2.  6.  0. -2.  1.  0.  1.  1.\n",
        "   1.  2.  0.  0.  1.  1.  1.  0. -1.  1.  2.  2.  0.  1.  0.  0.  6.  0.\n",
        "   1.  0.  0.  0.  0.  1.  1.  4. -1. -1.  2.  0.  4.  0.  1.  0.  3.  3.\n",
        "   1.  0.  1.  0. -1.  0.  0. -2.  0. -2. -3.  0. -2.  2. -1.  0.  0.  0.\n",
        "   0.  0. -2.  1.  2.  0.  0.  2.  3. -1.  1.  0.  1.  0.  0.  1.  1. -1.\n",
        "  -1.  1.  3.  1.  2.  2.  2.  3.  3.  3.  3.  3.  0. -1. -1.  2.  0.  2.\n",
        "   3.  2. -1.  1.  0.  1. -2.  4.  0.  0.  0.  3.  1.  0.  2.  3.  8. -1.\n",
        "   5.  1.  0.  1.  1.  0.  0.  2.  1.  3.  1. -4.  0.  0.  3. -1. -1.  0.\n",
        "  -1.  3.  2.  2.  2. -1.  2.]]"
       ]
      },
      {
       "output_type": "stream",
       "stream": "stderr",
       "text": [
        " 0.109457969666\n",
        "BUILD HYPERGRAPH:"
       ]
      },
      {
       "output_type": "stream",
       "stream": "stderr",
       "text": [
        " 0.0259201526642\n",
        "BUILD POTENTIALS: 0.036425113678\n",
        "BUILD LP:"
       ]
      },
      {
       "output_type": "stream",
       "stream": "stderr",
       "text": [
        " 0.251358985901\n",
        "SOLVE LP:"
       ]
      },
      {
       "output_type": "stream",
       "stream": "stderr",
       "text": [
        " 0.15544295311\n",
        "BUILD HYPERGRAPH: 0.00333309173584\n",
        "BUILD POTENTIALS: 0.00495100021362\n",
        "BUILD LP:"
       ]
      },
      {
       "output_type": "stream",
       "stream": "stderr",
       "text": [
        " 0.0360009670258\n",
        "SOLVE LP:"
       ]
      },
      {
       "output_type": "stream",
       "stream": "stderr",
       "text": [
        " 0.0849540233612\n",
        "BUILD HYPERGRAPH: 0.0117108821869\n",
        "BUILD POTENTIALS: 0.0138528347015\n",
        "BUILD LP:"
       ]
      },
      {
       "output_type": "stream",
       "stream": "stderr",
       "text": [
        " 0.104105949402\n",
        "SOLVE LP:"
       ]
      },
      {
       "output_type": "stream",
       "stream": "stderr",
       "text": [
        " 0.110440015793\n",
        "BUILD HYPERGRAPH:"
       ]
      },
      {
       "output_type": "stream",
       "stream": "stderr",
       "text": [
        " 0.0960290431976\n",
        "BUILD POTENTIALS:"
       ]
      },
      {
       "output_type": "stream",
       "stream": "stderr",
       "text": [
        " 0.12534403801\n",
        "BUILD LP:"
       ]
      },
      {
       "output_type": "stream",
       "stream": "stderr",
       "text": [
        " 0.956123113632\n",
        "SOLVE LP:"
       ]
      },
      {
       "output_type": "stream",
       "stream": "stderr",
       "text": [
        " 0.423155069351\n",
        "BUILD HYPERGRAPH:"
       ]
      },
      {
       "output_type": "stream",
       "stream": "stderr",
       "text": [
        " 0.0472919940948\n",
        "BUILD POTENTIALS:"
       ]
      },
      {
       "output_type": "stream",
       "stream": "stderr",
       "text": [
        " 0.0694589614868\n",
        "BUILD LP:"
       ]
      },
      {
       "output_type": "stream",
       "stream": "stderr",
       "text": [
        " 0.493449926376\n",
        "SOLVE LP:"
       ]
      },
      {
       "output_type": "stream",
       "stream": "stderr",
       "text": [
        " 0.249923229218\n",
        "BUILD HYPERGRAPH:"
       ]
      },
      {
       "output_type": "stream",
       "stream": "stderr",
       "text": [
        " 0.0904810428619\n",
        "BUILD POTENTIALS:"
       ]
      },
      {
       "output_type": "stream",
       "stream": "stderr",
       "text": [
        " 0.133807897568\n",
        "BUILD LP:"
       ]
      },
      {
       "output_type": "stream",
       "stream": "stderr",
       "text": [
        " 1.57169008255\n",
        "SOLVE LP:"
       ]
      },
      {
       "output_type": "stream",
       "stream": "stderr",
       "text": [
        " 0.41058588028\n",
        "BUILD HYPERGRAPH: 0.0036039352417\n",
        "BUILD POTENTIALS: 0.00582599639893\n",
        "BUILD LP:"
       ]
      },
      {
       "output_type": "stream",
       "stream": "stderr",
       "text": [
        " 0.0368959903717\n",
        "SOLVE LP:"
       ]
      },
      {
       "output_type": "stream",
       "stream": "stderr",
       "text": [
        " 0.0894119739532\n",
        "BUILD HYPERGRAPH: 0.0041229724884\n",
        "BUILD POTENTIALS: 0.00708603858948\n",
        "BUILD LP:"
       ]
      },
      {
       "output_type": "stream",
       "stream": "stderr",
       "text": [
        " 0.0385098457336\n",
        "SOLVE LP:"
       ]
      },
      {
       "output_type": "stream",
       "stream": "stderr",
       "text": [
        " 0.0863208770752\n",
        "BUILD HYPERGRAPH:"
       ]
      },
      {
       "output_type": "stream",
       "stream": "stderr",
       "text": [
        " 0.0706491470337\n",
        "BUILD POTENTIALS:"
       ]
      },
      {
       "output_type": "stream",
       "stream": "stderr",
       "text": [
        " 0.0718338489532\n",
        "BUILD LP:"
       ]
      },
      {
       "output_type": "stream",
       "stream": "stderr",
       "text": [
        " 0.517351865768\n",
        "SOLVE LP:"
       ]
      },
      {
       "output_type": "stream",
       "stream": "stderr",
       "text": [
        " 0.24782705307\n",
        "BUILD HYPERGRAPH:"
       ]
      },
      {
       "output_type": "stream",
       "stream": "stderr",
       "text": [
        " 0.0994598865509\n",
        "BUILD POTENTIALS:"
       ]
      },
      {
       "output_type": "stream",
       "stream": "stderr",
       "text": [
        " 0.132845878601\n",
        "BUILD LP:"
       ]
      },
      {
       "output_type": "stream",
       "stream": "stderr",
       "text": [
        " 0.951982975006\n",
        "SOLVE LP:"
       ]
      },
      {
       "output_type": "stream",
       "stream": "stderr",
       "text": [
        " 0.432139873505\n",
        "BUILD HYPERGRAPH:"
       ]
      },
      {
       "output_type": "stream",
       "stream": "stderr",
       "text": [
        " 0.0541520118713\n",
        "BUILD POTENTIALS:"
       ]
      },
      {
       "output_type": "stream",
       "stream": "stderr",
       "text": [
        " 0.0642671585083\n",
        "BUILD LP:"
       ]
      },
      {
       "output_type": "stream",
       "stream": "stderr",
       "text": [
        " 0.503487110138\n",
        "SOLVE LP:"
       ]
      },
      {
       "output_type": "stream",
       "stream": "stderr",
       "text": [
        " 0.262218952179\n",
        "BUILD HYPERGRAPH: 0.00943112373352\n",
        "BUILD POTENTIALS: 0.0127239227295\n",
        "BUILD LP:"
       ]
      },
      {
       "output_type": "stream",
       "stream": "stderr",
       "text": [
        " 0.0958049297333\n",
        "SOLVE LP:"
       ]
      },
      {
       "output_type": "stream",
       "stream": "stderr",
       "text": [
        " 0.109440088272\n",
        "BUILD HYPERGRAPH: 0.0110499858856\n",
        "BUILD POTENTIALS: 0.0129671096802\n",
        "BUILD LP:"
       ]
      },
      {
       "output_type": "stream",
       "stream": "stderr",
       "text": [
        " 0.0964028835297\n",
        "SOLVE LP:"
       ]
      },
      {
       "output_type": "stream",
       "stream": "stderr",
       "text": [
        " 0.111716032028\n",
        "BUILD HYPERGRAPH:"
       ]
      },
      {
       "output_type": "stream",
       "stream": "stderr",
       "text": [
        " 0.0535399913788\n",
        "BUILD POTENTIALS:"
       ]
      },
      {
       "output_type": "stream",
       "stream": "stderr",
       "text": [
        " 0.0627269744873\n",
        "BUILD LP:"
       ]
      },
      {
       "output_type": "stream",
       "stream": "stderr",
       "text": [
        " 0.493240118027\n",
        "SOLVE LP:"
       ]
      },
      {
       "output_type": "stream",
       "stream": "stderr",
       "text": [
        " 0.243540048599\n",
        "BUILD HYPERGRAPH:"
       ]
      },
      {
       "output_type": "stream",
       "stream": "stderr",
       "text": [
        " 0.158789873123\n",
        "BUILD POTENTIALS:"
       ]
      },
      {
       "output_type": "stream",
       "stream": "stderr",
       "text": [
        " 0.198349952698\n",
        "BUILD LP:"
       ]
      },
      {
       "output_type": "stream",
       "stream": "stderr",
       "text": [
        " 2.19907784462\n",
        "SOLVE LP:"
       ]
      },
      {
       "output_type": "stream",
       "stream": "stderr",
       "text": [
        " 0.676033973694\n",
        "BUILD HYPERGRAPH:"
       ]
      },
      {
       "output_type": "stream",
       "stream": "stderr",
       "text": [
        " 0.166869878769\n",
        "BUILD POTENTIALS:"
       ]
      },
      {
       "output_type": "stream",
       "stream": "stderr",
       "text": [
        " 0.214645147324\n",
        "BUILD LP:"
       ]
      },
      {
       "output_type": "stream",
       "stream": "stderr",
       "text": [
        " 1.62285399437\n",
        "SOLVE LP:"
       ]
      },
      {
       "output_type": "stream",
       "stream": "stderr",
       "text": [
        " 0.717424869537\n",
        "BUILD HYPERGRAPH:"
       ]
      },
      {
       "output_type": "stream",
       "stream": "stderr",
       "text": [
        " 0.0502510070801\n",
        "BUILD POTENTIALS:"
       ]
      },
      {
       "output_type": "stream",
       "stream": "stderr",
       "text": [
        " 0.0719411373138\n",
        "BUILD LP:"
       ]
      },
      {
       "output_type": "stream",
       "stream": "stderr",
       "text": [
        " 0.510535001755\n",
        "SOLVE LP:"
       ]
      },
      {
       "output_type": "stream",
       "stream": "stderr",
       "text": [
        " 0.255200147629\n",
        "BUILD HYPERGRAPH:"
       ]
      },
      {
       "output_type": "stream",
       "stream": "stderr",
       "text": [
        " 0.0511910915375\n",
        "BUILD POTENTIALS:"
       ]
      },
      {
       "output_type": "stream",
       "stream": "stderr",
       "text": [
        " 0.0685949325562\n",
        "BUILD LP:"
       ]
      },
      {
       "output_type": "stream",
       "stream": "stderr",
       "text": [
        " 0.48895907402\n",
        "SOLVE LP:"
       ]
      },
      {
       "output_type": "stream",
       "stream": "stderr",
       "text": [
        " 0.296972990036\n",
        "BUILD HYPERGRAPH:"
       ]
      },
      {
       "output_type": "stream",
       "stream": "stderr",
       "text": [
        " 0.159339904785\n",
        "BUILD POTENTIALS:"
       ]
      },
      {
       "output_type": "stream",
       "stream": "stderr",
       "text": [
        " 0.205510854721\n",
        "BUILD LP:"
       ]
      },
      {
       "output_type": "stream",
       "stream": "stderr",
       "text": [
        " 2.4119579792\n",
        "SOLVE LP:"
       ]
      },
      {
       "output_type": "stream",
       "stream": "stderr",
       "text": [
        " 0.664939880371\n",
        "BUILD HYPERGRAPH:"
       ]
      },
      {
       "output_type": "stream",
       "stream": "stderr",
       "text": [
        " 0.194514989853\n",
        "BUILD POTENTIALS:"
       ]
      },
      {
       "output_type": "stream",
       "stream": "stderr",
       "text": [
        " 0.29576587677\n",
        "BUILD LP:"
       ]
      },
      {
       "output_type": "stream",
       "stream": "stderr",
       "text": [
        " 1.65304398537\n",
        "SOLVE LP:"
       ]
      },
      {
       "output_type": "stream",
       "stream": "stderr",
       "text": [
        " 0.789362192154\n",
        "BUILD HYPERGRAPH:"
       ]
      },
      {
       "output_type": "stream",
       "stream": "stderr",
       "text": [
        " 0.0771040916443\n",
        "BUILD POTENTIALS:"
       ]
      },
      {
       "output_type": "stream",
       "stream": "stderr",
       "text": [
        " 0.0563719272614\n",
        "BUILD LP:"
       ]
      },
      {
       "output_type": "stream",
       "stream": "stderr",
       "text": [
        " 0.627110004425\n",
        "SOLVE LP:"
       ]
      },
      {
       "output_type": "stream",
       "stream": "stderr",
       "text": [
        " 0.313503026962\n",
        "BUILD HYPERGRAPH:"
       ]
      },
      {
       "output_type": "stream",
       "stream": "stderr",
       "text": [
        " 0.0635681152344\n",
        "BUILD POTENTIALS:"
       ]
      },
      {
       "output_type": "stream",
       "stream": "stderr",
       "text": [
        " 0.108248949051\n",
        "BUILD LP:"
       ]
      },
      {
       "output_type": "stream",
       "stream": "stderr",
       "text": [
        " 0.590656042099\n",
        "SOLVE LP:"
       ]
      },
      {
       "output_type": "stream",
       "stream": "stderr",
       "text": [
        " 0.389610052109\n",
        "BUILD HYPERGRAPH:"
       ]
      },
      {
       "output_type": "stream",
       "stream": "stderr",
       "text": [
        " 0.174154996872\n",
        "BUILD POTENTIALS:"
       ]
      },
      {
       "output_type": "stream",
       "stream": "stderr",
       "text": [
        " 0.155366182327\n",
        "BUILD LP:"
       ]
      },
      {
       "output_type": "stream",
       "stream": "stderr",
       "text": [
        " 1.78231310844\n",
        "SOLVE LP:"
       ]
      },
      {
       "output_type": "stream",
       "stream": "stderr",
       "text": [
        " 0.512268066406\n",
        "BUILD HYPERGRAPH:"
       ]
      },
      {
       "output_type": "stream",
       "stream": "stderr",
       "text": [
        " 0.036612033844\n",
        "BUILD POTENTIALS: 0.047315120697\n",
        "BUILD LP:"
       ]
      },
      {
       "output_type": "stream",
       "stream": "stderr",
       "text": [
        " 0.301307916641\n",
        "SOLVE LP:"
       ]
      },
      {
       "output_type": "stream",
       "stream": "stderr",
       "text": [
        " 0.207690000534\n",
        "BUILD HYPERGRAPH:"
       ]
      },
      {
       "output_type": "stream",
       "stream": "stderr",
       "text": [
        " 0.124300003052\n",
        "BUILD POTENTIALS:"
       ]
      },
      {
       "output_type": "stream",
       "stream": "stderr",
       "text": [
        " 0.183720827103\n",
        "BUILD LP:"
       ]
      },
      {
       "output_type": "stream",
       "stream": "stderr",
       "text": [
        " 1.08331489563\n",
        "SOLVE LP:"
       ]
      },
      {
       "output_type": "stream",
       "stream": "stderr",
       "text": [
        " 0.50815987587\n",
        "BUILD HYPERGRAPH:"
       ]
      },
      {
       "output_type": "stream",
       "stream": "stderr",
       "text": [
        " 0.0961298942566\n",
        "BUILD POTENTIALS:"
       ]
      },
      {
       "output_type": "stream",
       "stream": "stderr",
       "text": [
        " 0.133337974548\n",
        "BUILD LP:"
       ]
      },
      {
       "output_type": "stream",
       "stream": "stderr",
       "text": [
        " 0.936755180359\n",
        "SOLVE LP:"
       ]
      },
      {
       "output_type": "stream",
       "stream": "stderr",
       "text": [
        " 0.425844907761\n",
        "BUILD HYPERGRAPH:"
       ]
      },
      {
       "output_type": "stream",
       "stream": "stderr",
       "text": [
        " 0.116461992264\n",
        "BUILD POTENTIALS:"
       ]
      },
      {
       "output_type": "stream",
       "stream": "stderr",
       "text": [
        " 0.133893013\n",
        "BUILD LP:"
       ]
      },
      {
       "output_type": "stream",
       "stream": "stderr",
       "text": [
        " 0.932615995407\n",
        "SOLVE LP:"
       ]
      },
      {
       "output_type": "stream",
       "stream": "stderr",
       "text": [
        " 0.417370080948\n",
        "BUILD HYPERGRAPH:"
       ]
      },
      {
       "output_type": "stream",
       "stream": "stderr",
       "text": [
        " 0.048485994339\n",
        "BUILD POTENTIALS:"
       ]
      },
      {
       "output_type": "stream",
       "stream": "stderr",
       "text": [
        " 0.0723958015442\n",
        "BUILD LP:"
       ]
      },
      {
       "output_type": "stream",
       "stream": "stderr",
       "text": [
        " 0.501914978027\n",
        "SOLVE LP:"
       ]
      },
      {
       "output_type": "stream",
       "stream": "stderr",
       "text": [
        " 0.249103069305\n",
        "BUILD HYPERGRAPH: 0.00985407829285\n",
        "BUILD POTENTIALS: 0.0116500854492\n",
        "BUILD LP:"
       ]
      },
      {
       "output_type": "stream",
       "stream": "stderr",
       "text": [
        " 0.102926015854\n",
        "SOLVE LP:"
       ]
      },
      {
       "output_type": "stream",
       "stream": "stderr",
       "text": [
        " 0.140891075134\n",
        "BUILD HYPERGRAPH: 0.0230228900909\n",
        "BUILD POTENTIALS:"
       ]
      },
      {
       "output_type": "stream",
       "stream": "stderr",
       "text": [
        " 0.0295360088348\n",
        "BUILD LP:"
       ]
      },
      {
       "output_type": "stream",
       "stream": "stderr",
       "text": [
        " 0.230048894882\n",
        "SOLVE LP:"
       ]
      },
      {
       "output_type": "stream",
       "stream": "stderr",
       "text": [
        " 0.158314943314\n",
        "BUILD HYPERGRAPH:"
       ]
      },
      {
       "output_type": "stream",
       "stream": "stderr",
       "text": [
        " 0.0883870124817\n",
        "BUILD POTENTIALS:"
       ]
      },
      {
       "output_type": "stream",
       "stream": "stderr",
       "text": [
        " 0.125247001648\n",
        "BUILD LP:"
       ]
      },
      {
       "output_type": "stream",
       "stream": "stderr",
       "text": [
        " 1.61474585533\n",
        "SOLVE LP:"
       ]
      },
      {
       "output_type": "stream",
       "stream": "stderr",
       "text": [
        " 0.39936208725\n",
        "BUILD HYPERGRAPH:"
       ]
      },
      {
       "output_type": "stream",
       "stream": "stderr",
       "text": [
        " 0.0976190567017\n",
        "BUILD POTENTIALS:"
       ]
      },
      {
       "output_type": "stream",
       "stream": "stderr",
       "text": [
        " 0.14119386673\n",
        "BUILD LP:"
       ]
      },
      {
       "output_type": "stream",
       "stream": "stderr",
       "text": [
        " 0.977200984955\n",
        "SOLVE LP:"
       ]
      },
      {
       "output_type": "stream",
       "stream": "stderr",
       "text": [
        " 0.449234962463\n",
        "BUILD HYPERGRAPH:"
       ]
      },
      {
       "output_type": "stream",
       "stream": "stderr",
       "text": [
        " 0.0984921455383\n",
        "BUILD POTENTIALS:"
       ]
      },
      {
       "output_type": "stream",
       "stream": "stderr",
       "text": [
        " 0.127758979797\n",
        "BUILD LP:"
       ]
      },
      {
       "output_type": "stream",
       "stream": "stderr",
       "text": [
        " 0.958964109421\n",
        "SOLVE LP:"
       ]
      },
      {
       "output_type": "stream",
       "stream": "stderr",
       "text": [
        " 0.436110973358\n",
        "BUILD HYPERGRAPH:"
       ]
      },
      {
       "output_type": "stream",
       "stream": "stderr",
       "text": [
        " 0.0942251682281\n",
        "BUILD POTENTIALS:"
       ]
      },
      {
       "output_type": "stream",
       "stream": "stderr",
       "text": [
        " 0.144284963608\n",
        "BUILD LP:"
       ]
      },
      {
       "output_type": "stream",
       "stream": "stderr",
       "text": [
        " 0.941269159317\n",
        "SOLVE LP:"
       ]
      },
      {
       "output_type": "stream",
       "stream": "stderr",
       "text": [
        " 0.383404970169\n",
        "BUILD HYPERGRAPH:"
       ]
      },
      {
       "output_type": "stream",
       "stream": "stderr",
       "text": [
        " 0.118588924408\n",
        "BUILD POTENTIALS:"
       ]
      },
      {
       "output_type": "stream",
       "stream": "stderr",
       "text": [
        " 0.119509220123\n",
        "BUILD LP:"
       ]
      },
      {
       "output_type": "stream",
       "stream": "stderr",
       "text": [
        " 1.58637785912\n",
        "SOLVE LP:"
       ]
      },
      {
       "output_type": "stream",
       "stream": "stderr",
       "text": [
        " 0.41206908226\n",
        "BUILD HYPERGRAPH:"
       ]
      },
      {
       "output_type": "stream",
       "stream": "stderr",
       "text": [
        " 0.0502829551697\n",
        "BUILD POTENTIALS:"
       ]
      },
      {
       "output_type": "stream",
       "stream": "stderr",
       "text": [
        " 0.0623650550842\n",
        "BUILD LP:"
       ]
      },
      {
       "output_type": "stream",
       "stream": "stderr",
       "text": [
        " 0.5051009655\n",
        "SOLVE LP:"
       ]
      },
      {
       "output_type": "stream",
       "stream": "stderr",
       "text": [
        " 0.247405052185\n",
        "BUILD HYPERGRAPH:"
       ]
      },
      {
       "output_type": "stream",
       "stream": "stderr",
       "text": [
        " 0.0548548698425\n",
        "BUILD POTENTIALS:"
       ]
      },
      {
       "output_type": "stream",
       "stream": "stderr",
       "text": [
        " 0.0664467811584\n",
        "BUILD LP:"
       ]
      },
      {
       "output_type": "stream",
       "stream": "stderr",
       "text": [
        " 0.515841007233\n",
        "SOLVE LP:"
       ]
      },
      {
       "output_type": "stream",
       "stream": "stderr",
       "text": [
        " 0.270977973938\n",
        "BUILD HYPERGRAPH:"
       ]
      },
      {
       "output_type": "stream",
       "stream": "stderr",
       "text": [
        " 0.053906917572\n",
        "BUILD POTENTIALS:"
       ]
      },
      {
       "output_type": "stream",
       "stream": "stderr",
       "text": [
        " 0.0718669891357\n",
        "BUILD LP:"
       ]
      },
      {
       "output_type": "stream",
       "stream": "stderr",
       "text": [
        " 0.520901918411\n",
        "SOLVE LP:"
       ]
      },
      {
       "output_type": "stream",
       "stream": "stderr",
       "text": [
        " 0.249213933945\n",
        "BUILD HYPERGRAPH:"
       ]
      },
      {
       "output_type": "stream",
       "stream": "stderr",
       "text": [
        " 0.0965580940247\n",
        "BUILD POTENTIALS:"
       ]
      },
      {
       "output_type": "stream",
       "stream": "stderr",
       "text": [
        " 0.147940158844\n",
        "BUILD LP:"
       ]
      },
      {
       "output_type": "stream",
       "stream": "stderr",
       "text": [
        " 0.955871105194\n",
        "SOLVE LP:"
       ]
      },
      {
       "output_type": "stream",
       "stream": "stderr",
       "text": [
        " 0.403521060944\n",
        "BUILD HYPERGRAPH: 0.0287220478058\n",
        "BUILD POTENTIALS:"
       ]
      },
      {
       "output_type": "stream",
       "stream": "stderr",
       "text": [
        " 0.0330410003662\n",
        "BUILD LP:"
       ]
      },
      {
       "output_type": "stream",
       "stream": "stderr",
       "text": [
        " 0.238394975662\n",
        "SOLVE LP:"
       ]
      },
      {
       "output_type": "stream",
       "stream": "stderr",
       "text": [
        " 0.15830206871\n",
        "BUILD HYPERGRAPH: 0.0226800441742\n",
        "BUILD POTENTIALS:"
       ]
      },
      {
       "output_type": "stream",
       "stream": "stderr",
       "text": [
        " 0.0373859405518\n",
        "BUILD LP:"
       ]
      },
      {
       "output_type": "stream",
       "stream": "stderr",
       "text": [
        " 0.236091852188\n",
        "SOLVE LP:"
       ]
      },
      {
       "output_type": "stream",
       "stream": "stderr",
       "text": [
        " 0.157212018967\n",
        "BUILD HYPERGRAPH: 0.0236480236053\n",
        "BUILD POTENTIALS:"
       ]
      },
      {
       "output_type": "stream",
       "stream": "stderr",
       "text": [
        " 0.0361862182617\n",
        "BUILD LP:"
       ]
      },
      {
       "output_type": "stream",
       "stream": "stderr",
       "text": [
        " 0.238093852997\n",
        "SOLVE LP:"
       ]
      },
      {
       "output_type": "stream",
       "stream": "stderr",
       "text": [
        " 0.15381193161\n",
        "BUILD HYPERGRAPH: 0.0113170146942\n",
        "BUILD POTENTIALS: 0.0142760276794\n",
        "BUILD LP:"
       ]
      },
      {
       "output_type": "stream",
       "stream": "stderr",
       "text": [
        " 0.092700958252\n",
        "SOLVE LP:"
       ]
      },
      {
       "output_type": "stream",
       "stream": "stderr",
       "text": [
        " 0.111390113831\n",
        "BUILD HYPERGRAPH:"
       ]
      },
      {
       "output_type": "stream",
       "stream": "stderr",
       "text": [
        " 0.0895490646362\n",
        "BUILD POTENTIALS:"
       ]
      },
      {
       "output_type": "stream",
       "stream": "stderr",
       "text": [
        " 0.110296964645\n",
        "BUILD LP:"
       ]
      },
      {
       "output_type": "stream",
       "stream": "stderr",
       "text": [
        " 1.60051202774\n",
        "SOLVE LP:"
       ]
      },
      {
       "output_type": "stream",
       "stream": "stderr",
       "text": [
        " 0.38612818718\n",
        "BUILD HYPERGRAPH:"
       ]
      },
      {
       "output_type": "stream",
       "stream": "stderr",
       "text": [
        " 0.0538401603699\n",
        "BUILD POTENTIALS:"
       ]
      },
      {
       "output_type": "stream",
       "stream": "stderr",
       "text": [
        " 0.079118013382\n",
        "BUILD LP:"
       ]
      },
      {
       "output_type": "stream",
       "stream": "stderr",
       "text": [
        " 0.525798082352\n",
        "SOLVE LP:"
       ]
      },
      {
       "output_type": "stream",
       "stream": "stderr",
       "text": [
        " 0.260604143143\n",
        "BUILD HYPERGRAPH: 0.0101988315582\n",
        "BUILD POTENTIALS: 0.0149750709534\n",
        "BUILD LP:"
       ]
      },
      {
       "output_type": "stream",
       "stream": "stderr",
       "text": [
        " 0.100960969925\n",
        "SOLVE LP:"
       ]
      },
      {
       "output_type": "stream",
       "stream": "stderr",
       "text": [
        " 0.108585834503\n",
        "BUILD HYPERGRAPH:"
       ]
      },
      {
       "output_type": "stream",
       "stream": "stderr",
       "text": [
        " 0.110335111618\n",
        "BUILD POTENTIALS:"
       ]
      },
      {
       "output_type": "stream",
       "stream": "stderr",
       "text": [
        " 0.126991033554\n",
        "BUILD LP:"
       ]
      },
      {
       "output_type": "stream",
       "stream": "stderr",
       "text": [
        " 0.954567909241\n",
        "SOLVE LP:"
       ]
      },
      {
       "output_type": "stream",
       "stream": "stderr",
       "text": [
        " 0.427258014679\n",
        "BUILD HYPERGRAPH:"
       ]
      },
      {
       "output_type": "stream",
       "stream": "stderr",
       "text": [
        " 0.0508151054382\n",
        "BUILD POTENTIALS:"
       ]
      },
      {
       "output_type": "stream",
       "stream": "stderr",
       "text": [
        " 0.0602719783783\n",
        "BUILD LP:"
       ]
      },
      {
       "output_type": "stream",
       "stream": "stderr",
       "text": [
        " 0.501490831375\n",
        "SOLVE LP:"
       ]
      },
      {
       "output_type": "stream",
       "stream": "stderr",
       "text": [
        " 0.244178056717\n",
        "BUILD HYPERGRAPH: 0.0225620269775\n",
        "BUILD POTENTIALS:"
       ]
      },
      {
       "output_type": "stream",
       "stream": "stderr",
       "text": [
        " 0.0360021591187\n",
        "BUILD LP:"
       ]
      },
      {
       "output_type": "stream",
       "stream": "stderr",
       "text": [
        " 0.237884998322\n",
        "SOLVE LP:"
       ]
      },
      {
       "output_type": "stream",
       "stream": "stderr",
       "text": [
        " 0.160032987595\n",
        "BUILD HYPERGRAPH:"
       ]
      },
      {
       "output_type": "stream",
       "stream": "stderr",
       "text": [
        " 0.0974299907684\n",
        "BUILD POTENTIALS:"
       ]
      },
      {
       "output_type": "stream",
       "stream": "stderr",
       "text": [
        " 0.147242069244\n",
        "BUILD LP:"
       ]
      },
      {
       "output_type": "stream",
       "stream": "stderr",
       "text": [
        " 0.911724090576\n",
        "SOLVE LP:"
       ]
      },
      {
       "output_type": "stream",
       "stream": "stderr",
       "text": [
        " 0.395599842072\n",
        "BUILD HYPERGRAPH: 0.0105459690094\n",
        "BUILD POTENTIALS: 0.017814874649\n",
        "BUILD LP:"
       ]
      },
      {
       "output_type": "stream",
       "stream": "stderr",
       "text": [
        " 0.0974509716034\n",
        "SOLVE LP:"
       ]
      },
      {
       "output_type": "stream",
       "stream": "stderr",
       "text": [
        " 0.122310876846\n",
        "BUILD HYPERGRAPH: 0.0252220630646\n",
        "BUILD POTENTIALS:"
       ]
      },
      {
       "output_type": "stream",
       "stream": "stderr",
       "text": [
        " 0.0341920852661\n",
        "BUILD LP:"
       ]
      },
      {
       "output_type": "stream",
       "stream": "stderr",
       "text": [
        " 0.241188049316\n",
        "SOLVE LP:"
       ]
      },
      {
       "output_type": "stream",
       "stream": "stderr",
       "text": [
        " 0.160507917404\n",
        "BUILD HYPERGRAPH: 0.0221309661865\n",
        "BUILD POTENTIALS:"
       ]
      },
      {
       "output_type": "stream",
       "stream": "stderr",
       "text": [
        " 0.0321288108826\n",
        "BUILD LP:"
       ]
      },
      {
       "output_type": "stream",
       "stream": "stderr",
       "text": [
        " 0.242182970047\n",
        "SOLVE LP:"
       ]
      },
      {
       "output_type": "stream",
       "stream": "stderr",
       "text": [
        " 0.156543016434\n",
        "BUILD HYPERGRAPH: 0.00961112976074\n",
        "BUILD POTENTIALS: 0.0118680000305\n",
        "BUILD LP:"
       ]
      },
      {
       "output_type": "stream",
       "stream": "stderr",
       "text": [
        " 0.0932531356812\n",
        "SOLVE LP:"
       ]
      },
      {
       "output_type": "stream",
       "stream": "stderr",
       "text": [
        " 0.105705022812\n",
        "BUILD HYPERGRAPH: 0.00992894172668\n",
        "BUILD POTENTIALS: 0.0121750831604\n",
        "BUILD LP:"
       ]
      },
      {
       "output_type": "stream",
       "stream": "stderr",
       "text": [
        " 0.0927319526672\n",
        "SOLVE LP:"
       ]
      },
      {
       "output_type": "stream",
       "stream": "stderr",
       "text": [
        " 0.110378026962\n",
        "BUILD HYPERGRAPH: 0.0290789604187\n",
        "BUILD POTENTIALS:"
       ]
      },
      {
       "output_type": "stream",
       "stream": "stderr",
       "text": [
        " 0.0373740196228\n",
        "BUILD LP:"
       ]
      },
      {
       "output_type": "stream",
       "stream": "stderr",
       "text": [
        " 0.23184299469\n",
        "SOLVE LP:"
       ]
      },
      {
       "output_type": "stream",
       "stream": "stderr",
       "text": [
        " 0.158947944641\n",
        "BUILD HYPERGRAPH:"
       ]
      },
      {
       "output_type": "stream",
       "stream": "stderr",
       "text": [
        " 0.0888779163361\n",
        "BUILD POTENTIALS:"
       ]
      },
      {
       "output_type": "stream",
       "stream": "stderr",
       "text": [
        " 0.144295930862\n",
        "BUILD LP:"
       ]
      },
      {
       "output_type": "stream",
       "stream": "stderr",
       "text": [
        " 1.646007061\n",
        "SOLVE LP:"
       ]
      },
      {
       "output_type": "stream",
       "stream": "stderr",
       "text": [
        " 0.48436999321\n",
        "BUILD HYPERGRAPH: 0.0104429721832\n",
        "BUILD POTENTIALS: 0.0149450302124\n",
        "BUILD LP:"
       ]
      },
      {
       "output_type": "stream",
       "stream": "stderr",
       "text": [
        " 0.100147008896\n",
        "SOLVE LP:"
       ]
      },
      {
       "output_type": "stream",
       "stream": "stdout",
       "text": [
        "\n",
        "effective learning rate: 1.000000\n",
        "iteration 4\n",
        "avg loss: 0.426020 w: [[  0.  -2.  -1.   2.  -1.   1.  -4.   3.   0.   1.  -3.  -1.   1.   0.\n",
        "   -1.   4.   2.   2.   1.   5.  -3.  -1.   4.   0.   6.   0.   4.  -4.\n",
        "    5.  -1.   0.   1.  -1.   4.  -2.   1.  -1.   0.  -3.   2.   0.   2.\n",
        "   -1.  -2.   0.   3.   1.   4.   3.  -2.   1.  -1.  -1.   2.  -4.   2.\n",
        "    1.   2.   0.  -1.   1.   2.   1.  -3.  -1.  -2.   0.   1.   4.  -2.\n",
        "    3.   1.  -4.   1.   1.  -2.  -1.   2.   0.   6.  -1.   5.   1.   3.\n",
        "    1.   4.   2.   1.  -4.   1.   2.   0.   0.   2.  -1.   1.  -4.  -1.\n",
        "    6.  -1.  -1.   3.   1.   3.   4.   1.   3.   1.   3.   0.   0.   1.\n",
        "    4.  -1.   3.   5.   1.   1.   2.   1.   1.   1.  -3.   1.   3.  -2.\n",
        "    3.   5.   4.   1.   5.   0.   4.   4.   6.   0.  -1.   1.   0.   2.\n",
        "   -2.   1.   1.   0.   3.   1.   0.   0.   0.   0.   1.   1.   4.   1.\n",
        "   -1.   0.  -3.   1.   4.   2.   1.   0.   1.   0.   4.   1.   0.   3.\n",
        "    0.  -1.   4.   0.   1.   4.   1.   1.   3.  -2.   6.   1.   0.   0.\n",
        "    1.   2.   2.   0.   1.   2.   1.   4.   0.   1.   1.   0.   2.   1.\n",
        "    0.   3.   0.   2.   3.   2.   0.  -1.   1.   3.  -4.   2.   0.  -3.\n",
        "    4.   1.   2.   1.  -1.   1.   4.   2.   0.  -4.   0.   6.   0.  -1.\n",
        "   -3.   5.   0.  -3.   3.  -3.   5.   3.   3.   4.  -2.   2.   3.   1.\n",
        "    1.   0.  -1.   1.   4.   4.   6.   3.   1.   6.   0.   5.   0.   0.\n",
        "    4.   0.   2.   1.   0.   1.   0.   0.   0.   0.   2.   5.  -1.  -3.\n",
        "    1.   0.   1.   1.   1.   2.   0.   0.   1.   1.   1.   0.  -2.   0.\n",
        "    2.   2.   0.   1.  -1.  -1.   6.  -1.   1.   0.   0.  -2.   0.   0.\n",
        "    1.   2.  -1.  -1.   2.   0.   3.   0.   1.   0.   2.   2.   1.   0.\n",
        "    0.   0.   0.  -1.   0.  -2.   0.  -1.  -3.   0.  -2.   1.   0.   0.\n",
        "    0.   1.   0.   0.  -2.   1.   2.  -1.   0.   3.   2.  -1.   1.   0.\n",
        "    1.   0.   0.   2.   1.  -1.  -1.   1.   3.   1.   2.   2.   2.   3.\n",
        "    3.   3.   3.   3.   0.   0.   0.   2.   0.   2.   3.   2.  -1.   0.\n",
        "    0.   1.  -1.   4.   0.   0.   0.   4.   2.   0.   2.   3.  10.  -1.\n",
        "    5.   1.   0.   1.   0.   0.  -1.   2.   0.   4.   1.  -4.   0.   0.\n",
        "    3.  -2.  -1.   0.  -2.   3.   2.   2.   2.  -1.   2.]]"
       ]
      },
      {
       "output_type": "stream",
       "stream": "stderr",
       "text": [
        " 0.112724065781\n",
        "BUILD HYPERGRAPH:"
       ]
      },
      {
       "output_type": "stream",
       "stream": "stderr",
       "text": [
        " 0.0310051441193\n",
        "BUILD POTENTIALS: 0.0396461486816\n",
        "BUILD LP:"
       ]
      },
      {
       "output_type": "stream",
       "stream": "stderr",
       "text": [
        " 0.258602142334\n",
        "SOLVE LP:"
       ]
      },
      {
       "output_type": "stream",
       "stream": "stderr",
       "text": [
        " 0.15842795372\n",
        "BUILD HYPERGRAPH: 0.00414991378784\n",
        "BUILD POTENTIALS: 0.00583100318909\n",
        "BUILD LP: 0.0335309505463\n",
        "SOLVE LP:"
       ]
      },
      {
       "output_type": "stream",
       "stream": "stderr",
       "text": [
        " 0.0847940444946\n",
        "BUILD HYPERGRAPH: 0.0104920864105\n",
        "BUILD POTENTIALS: 0.0150761604309\n",
        "BUILD LP:"
       ]
      },
      {
       "output_type": "stream",
       "stream": "stderr",
       "text": [
        " 0.102201223373\n",
        "SOLVE LP:"
       ]
      },
      {
       "output_type": "stream",
       "stream": "stderr",
       "text": [
        " 0.109632015228\n",
        "BUILD HYPERGRAPH:"
       ]
      },
      {
       "output_type": "stream",
       "stream": "stderr",
       "text": [
        " 0.100095033646\n",
        "BUILD POTENTIALS:"
       ]
      },
      {
       "output_type": "stream",
       "stream": "stderr",
       "text": [
        " 0.128551006317\n",
        "BUILD LP:"
       ]
      },
      {
       "output_type": "stream",
       "stream": "stderr",
       "text": [
        " 0.931886911392\n",
        "SOLVE LP:"
       ]
      },
      {
       "output_type": "stream",
       "stream": "stderr",
       "text": [
        " 0.413244962692\n",
        "BUILD HYPERGRAPH:"
       ]
      },
      {
       "output_type": "stream",
       "stream": "stderr",
       "text": [
        " 0.0478780269623\n",
        "BUILD POTENTIALS:"
       ]
      },
      {
       "output_type": "stream",
       "stream": "stderr",
       "text": [
        " 0.0710391998291\n",
        "BUILD LP:"
       ]
      },
      {
       "output_type": "stream",
       "stream": "stderr",
       "text": [
        " 0.51292514801\n",
        "SOLVE LP:"
       ]
      },
      {
       "output_type": "stream",
       "stream": "stderr",
       "text": [
        " 0.252069950104\n",
        "BUILD HYPERGRAPH:"
       ]
      },
      {
       "output_type": "stream",
       "stream": "stderr",
       "text": [
        " 0.0949540138245\n",
        "BUILD POTENTIALS:"
       ]
      },
      {
       "output_type": "stream",
       "stream": "stderr",
       "text": [
        " 0.131737947464\n",
        "BUILD LP:"
       ]
      },
      {
       "output_type": "stream",
       "stream": "stderr",
       "text": [
        " 0.926028013229\n",
        "SOLVE LP:"
       ]
      },
      {
       "output_type": "stream",
       "stream": "stderr",
       "text": [
        " 0.397495985031\n",
        "BUILD HYPERGRAPH: 0.00319385528564\n",
        "BUILD POTENTIALS: 0.00511384010315\n",
        "BUILD LP:"
       ]
      },
      {
       "output_type": "stream",
       "stream": "stderr",
       "text": [
        " 0.0340898036957\n",
        "SOLVE LP:"
       ]
      },
      {
       "output_type": "stream",
       "stream": "stderr",
       "text": [
        " 0.0895080566406\n",
        "BUILD HYPERGRAPH: 0.0033860206604\n",
        "BUILD POTENTIALS: 0.00569295883179\n",
        "BUILD LP: 0.0383930206299\n",
        "SOLVE LP:"
       ]
      },
      {
       "output_type": "stream",
       "stream": "stderr",
       "text": [
        " 0.0867650508881\n",
        "BUILD HYPERGRAPH:"
       ]
      },
      {
       "output_type": "stream",
       "stream": "stderr",
       "text": [
        " 0.0553660392761\n",
        "BUILD POTENTIALS:"
       ]
      },
      {
       "output_type": "stream",
       "stream": "stderr",
       "text": [
        " 0.0680570602417\n",
        "BUILD LP:"
       ]
      },
      {
       "output_type": "stream",
       "stream": "stderr",
       "text": [
        " 0.494528055191\n",
        "SOLVE LP:"
       ]
      },
      {
       "output_type": "stream",
       "stream": "stderr",
       "text": [
        " 0.261379003525\n",
        "BUILD HYPERGRAPH:"
       ]
      },
      {
       "output_type": "stream",
       "stream": "stderr",
       "text": [
        " 0.0899999141693\n",
        "BUILD POTENTIALS:"
       ]
      },
      {
       "output_type": "stream",
       "stream": "stderr",
       "text": [
        " 0.128288030624\n",
        "BUILD LP:"
       ]
      },
      {
       "output_type": "stream",
       "stream": "stderr",
       "text": [
        " 1.58968400955\n",
        "SOLVE LP:"
       ]
      },
      {
       "output_type": "stream",
       "stream": "stderr",
       "text": [
        " 0.419425964355\n",
        "BUILD HYPERGRAPH:"
       ]
      },
      {
       "output_type": "stream",
       "stream": "stderr",
       "text": [
        " 0.0543630123138\n",
        "BUILD POTENTIALS:"
       ]
      },
      {
       "output_type": "stream",
       "stream": "stderr",
       "text": [
        " 0.0650110244751\n",
        "BUILD LP:"
       ]
      },
      {
       "output_type": "stream",
       "stream": "stderr",
       "text": [
        " 0.516544103622\n",
        "SOLVE LP:"
       ]
      },
      {
       "output_type": "stream",
       "stream": "stderr",
       "text": [
        " 0.244943141937\n",
        "BUILD HYPERGRAPH: 0.0169129371643\n",
        "BUILD POTENTIALS: 0.0125870704651\n",
        "BUILD LP:"
       ]
      },
      {
       "output_type": "stream",
       "stream": "stderr",
       "text": [
        " 0.0980551242828\n",
        "SOLVE LP:"
       ]
      },
      {
       "output_type": "stream",
       "stream": "stderr",
       "text": [
        " 0.113078117371\n",
        "BUILD HYPERGRAPH: 0.0111989974976\n",
        "BUILD POTENTIALS: 0.0134091377258\n",
        "BUILD LP:"
       ]
      },
      {
       "output_type": "stream",
       "stream": "stderr",
       "text": [
        " 0.105141878128\n",
        "SOLVE LP:"
       ]
      },
      {
       "output_type": "stream",
       "stream": "stderr",
       "text": [
        " 0.117428064346\n",
        "BUILD HYPERGRAPH:"
       ]
      },
      {
       "output_type": "stream",
       "stream": "stderr",
       "text": [
        " 0.052784204483\n",
        "BUILD POTENTIALS:"
       ]
      },
      {
       "output_type": "stream",
       "stream": "stderr",
       "text": [
        " 0.0639870166779\n",
        "BUILD LP:"
       ]
      },
      {
       "output_type": "stream",
       "stream": "stderr",
       "text": [
        " 0.506051063538\n",
        "SOLVE LP:"
       ]
      },
      {
       "output_type": "stream",
       "stream": "stderr",
       "text": [
        " 0.24472618103\n",
        "BUILD HYPERGRAPH:"
       ]
      },
      {
       "output_type": "stream",
       "stream": "stderr",
       "text": [
        " 0.165552854538\n",
        "BUILD POTENTIALS:"
       ]
      },
      {
       "output_type": "stream",
       "stream": "stderr",
       "text": [
        " 0.208265066147\n",
        "BUILD LP:"
       ]
      },
      {
       "output_type": "stream",
       "stream": "stderr",
       "text": [
        " 1.58435702324\n",
        "SOLVE LP:"
       ]
      },
      {
       "output_type": "stream",
       "stream": "stderr",
       "text": [
        " 0.699713945389\n",
        "BUILD HYPERGRAPH:"
       ]
      },
      {
       "output_type": "stream",
       "stream": "stderr",
       "text": [
        " 0.158158063889\n",
        "BUILD POTENTIALS:"
       ]
      },
      {
       "output_type": "stream",
       "stream": "stderr",
       "text": [
        " 0.199859142303\n",
        "BUILD LP:"
       ]
      },
      {
       "output_type": "stream",
       "stream": "stderr",
       "text": [
        " 2.24213981628\n",
        "SOLVE LP:"
       ]
      },
      {
       "output_type": "stream",
       "stream": "stderr",
       "text": [
        " 0.685709953308\n",
        "BUILD HYPERGRAPH:"
       ]
      },
      {
       "output_type": "stream",
       "stream": "stderr",
       "text": [
        " 0.0497560501099\n",
        "BUILD POTENTIALS:"
       ]
      },
      {
       "output_type": "stream",
       "stream": "stderr",
       "text": [
        " 0.0679700374603\n",
        "BUILD LP:"
       ]
      },
      {
       "output_type": "stream",
       "stream": "stderr",
       "text": [
        " 0.525354862213\n",
        "SOLVE LP:"
       ]
      },
      {
       "output_type": "stream",
       "stream": "stderr",
       "text": [
        " 0.251937866211\n",
        "BUILD HYPERGRAPH:"
       ]
      },
      {
       "output_type": "stream",
       "stream": "stderr",
       "text": [
        " 0.0528230667114\n",
        "BUILD POTENTIALS:"
       ]
      },
      {
       "output_type": "stream",
       "stream": "stderr",
       "text": [
        " 0.0729057788849\n",
        "BUILD LP:"
       ]
      },
      {
       "output_type": "stream",
       "stream": "stderr",
       "text": [
        " 0.519428014755\n",
        "SOLVE LP:"
       ]
      },
      {
       "output_type": "stream",
       "stream": "stderr",
       "text": [
        " 0.247418880463\n",
        "BUILD HYPERGRAPH:"
       ]
      },
      {
       "output_type": "stream",
       "stream": "stderr",
       "text": [
        " 0.166247844696\n",
        "BUILD POTENTIALS:"
       ]
      },
      {
       "output_type": "stream",
       "stream": "stderr",
       "text": [
        " 0.197535991669\n",
        "BUILD LP:"
       ]
      },
      {
       "output_type": "stream",
       "stream": "stderr",
       "text": [
        " 1.56172394753\n",
        "SOLVE LP:"
       ]
      },
      {
       "output_type": "stream",
       "stream": "stderr",
       "text": [
        " 0.680554151535\n",
        "BUILD HYPERGRAPH:"
       ]
      },
      {
       "output_type": "stream",
       "stream": "stderr",
       "text": [
        " 0.151036977768\n",
        "BUILD POTENTIALS:"
       ]
      },
      {
       "output_type": "stream",
       "stream": "stderr",
       "text": [
        " 0.192639112473\n",
        "BUILD LP:"
       ]
      },
      {
       "output_type": "stream",
       "stream": "stderr",
       "text": [
        " 2.28766512871\n",
        "SOLVE LP:"
       ]
      },
      {
       "output_type": "stream",
       "stream": "stderr",
       "text": [
        " 0.714323043823\n",
        "BUILD HYPERGRAPH:"
       ]
      },
      {
       "output_type": "stream",
       "stream": "stderr",
       "text": [
        " 0.0651299953461\n",
        "BUILD POTENTIALS:"
       ]
      },
      {
       "output_type": "stream",
       "stream": "stderr",
       "text": [
        " 0.0823948383331\n",
        "BUILD LP:"
       ]
      },
      {
       "output_type": "stream",
       "stream": "stderr",
       "text": [
        " 0.550940990448\n",
        "SOLVE LP:"
       ]
      },
      {
       "output_type": "stream",
       "stream": "stderr",
       "text": [
        " 0.284894943237\n",
        "BUILD HYPERGRAPH:"
       ]
      },
      {
       "output_type": "stream",
       "stream": "stderr",
       "text": [
        " 0.0650339126587\n",
        "BUILD POTENTIALS:"
       ]
      },
      {
       "output_type": "stream",
       "stream": "stderr",
       "text": [
        " 0.0591838359833\n",
        "BUILD LP:"
       ]
      },
      {
       "output_type": "stream",
       "stream": "stderr",
       "text": [
        " 0.504232168198\n",
        "SOLVE LP:"
       ]
      },
      {
       "output_type": "stream",
       "stream": "stderr",
       "text": [
        " 0.24173784256\n",
        "BUILD HYPERGRAPH:"
       ]
      },
      {
       "output_type": "stream",
       "stream": "stderr",
       "text": [
        " 0.0990810394287\n",
        "BUILD POTENTIALS:"
       ]
      },
      {
       "output_type": "stream",
       "stream": "stderr",
       "text": [
        " 0.131997823715\n",
        "BUILD LP:"
       ]
      },
      {
       "output_type": "stream",
       "stream": "stderr",
       "text": [
        " 0.907077789307\n",
        "SOLVE LP:"
       ]
      },
      {
       "output_type": "stream",
       "stream": "stderr",
       "text": [
        " 0.418200016022\n",
        "BUILD HYPERGRAPH:"
       ]
      },
      {
       "output_type": "stream",
       "stream": "stderr",
       "text": [
        " 0.0294620990753\n",
        "BUILD POTENTIALS: 0.0301330089569\n",
        "BUILD LP:"
       ]
      },
      {
       "output_type": "stream",
       "stream": "stderr",
       "text": [
        " 0.237380981445\n",
        "SOLVE LP:"
       ]
      },
      {
       "output_type": "stream",
       "stream": "stderr",
       "text": [
        " 0.158247947693\n",
        "BUILD HYPERGRAPH:"
       ]
      },
      {
       "output_type": "stream",
       "stream": "stderr",
       "text": [
        " 0.0890710353851\n",
        "BUILD POTENTIALS:"
       ]
      },
      {
       "output_type": "stream",
       "stream": "stderr",
       "text": [
        " 0.129317998886\n",
        "BUILD LP:"
       ]
      },
      {
       "output_type": "stream",
       "stream": "stderr",
       "text": [
        " 1.61481904984\n",
        "SOLVE LP:"
       ]
      },
      {
       "output_type": "stream",
       "stream": "stderr",
       "text": [
        " 0.414231061935\n",
        "BUILD HYPERGRAPH:"
       ]
      },
      {
       "output_type": "stream",
       "stream": "stderr",
       "text": [
        " 0.0976309776306\n",
        "BUILD POTENTIALS:"
       ]
      },
      {
       "output_type": "stream",
       "stream": "stderr",
       "text": [
        " 0.151026010513\n",
        "BUILD LP:"
       ]
      },
      {
       "output_type": "stream",
       "stream": "stderr",
       "text": [
        " 0.960316896439\n",
        "SOLVE LP:"
       ]
      },
      {
       "output_type": "stream",
       "stream": "stderr",
       "text": [
        " 0.424496889114\n",
        "BUILD HYPERGRAPH:"
       ]
      },
      {
       "output_type": "stream",
       "stream": "stderr",
       "text": [
        " 0.099268913269\n",
        "BUILD POTENTIALS:"
       ]
      },
      {
       "output_type": "stream",
       "stream": "stderr",
       "text": [
        " 0.138046979904\n",
        "BUILD LP:"
       ]
      },
      {
       "output_type": "stream",
       "stream": "stderr",
       "text": [
        " 0.947444915771\n",
        "SOLVE LP:"
       ]
      },
      {
       "output_type": "stream",
       "stream": "stderr",
       "text": [
        " 0.399266004562\n",
        "BUILD HYPERGRAPH:"
       ]
      },
      {
       "output_type": "stream",
       "stream": "stderr",
       "text": [
        " 0.0564141273499\n",
        "BUILD POTENTIALS:"
       ]
      },
      {
       "output_type": "stream",
       "stream": "stderr",
       "text": [
        " 0.0960721969604\n",
        "BUILD LP:"
       ]
      },
      {
       "output_type": "stream",
       "stream": "stderr",
       "text": [
        " 0.513115882874\n",
        "SOLVE LP:"
       ]
      },
      {
       "output_type": "stream",
       "stream": "stderr",
       "text": [
        " 0.250308036804\n",
        "BUILD HYPERGRAPH: 0.0115129947662\n",
        "BUILD POTENTIALS: 0.0123479366302\n",
        "BUILD LP:"
       ]
      },
      {
       "output_type": "stream",
       "stream": "stderr",
       "text": [
        " 0.104737997055\n",
        "SOLVE LP:"
       ]
      },
      {
       "output_type": "stream",
       "stream": "stderr",
       "text": [
        " 0.109879016876\n",
        "BUILD HYPERGRAPH: 0.0237579345703\n",
        "BUILD POTENTIALS:"
       ]
      },
      {
       "output_type": "stream",
       "stream": "stderr",
       "text": [
        " 0.0293519496918\n",
        "BUILD LP:"
       ]
      },
      {
       "output_type": "stream",
       "stream": "stderr",
       "text": [
        " 0.231648921967\n",
        "SOLVE LP:"
       ]
      },
      {
       "output_type": "stream",
       "stream": "stderr",
       "text": [
        " 0.153188943863\n",
        "BUILD HYPERGRAPH:"
       ]
      },
      {
       "output_type": "stream",
       "stream": "stderr",
       "text": [
        " 0.0938220024109\n",
        "BUILD POTENTIALS:"
       ]
      },
      {
       "output_type": "stream",
       "stream": "stderr",
       "text": [
        " 0.120418071747\n",
        "BUILD LP:"
       ]
      },
      {
       "output_type": "stream",
       "stream": "stderr",
       "text": [
        " 0.932614088058\n",
        "SOLVE LP:"
       ]
      },
      {
       "output_type": "stream",
       "stream": "stderr",
       "text": [
        " 0.404110908508\n",
        "BUILD HYPERGRAPH:"
       ]
      },
      {
       "output_type": "stream",
       "stream": "stderr",
       "text": [
        " 0.088287115097\n",
        "BUILD POTENTIALS:"
       ]
      },
      {
       "output_type": "stream",
       "stream": "stderr",
       "text": [
        " 0.131597042084\n",
        "BUILD LP:"
       ]
      },
      {
       "output_type": "stream",
       "stream": "stderr",
       "text": [
        " 1.66103196144\n",
        "SOLVE LP:"
       ]
      },
      {
       "output_type": "stream",
       "stream": "stderr",
       "text": [
        " 0.452919960022\n",
        "BUILD HYPERGRAPH:"
       ]
      },
      {
       "output_type": "stream",
       "stream": "stderr",
       "text": [
        " 0.101238012314\n",
        "BUILD POTENTIALS:"
       ]
      },
      {
       "output_type": "stream",
       "stream": "stderr",
       "text": [
        " 0.175958156586\n",
        "BUILD LP:"
       ]
      },
      {
       "output_type": "stream",
       "stream": "stderr",
       "text": [
        " 1.02361297607\n",
        "SOLVE LP:"
       ]
      },
      {
       "output_type": "stream",
       "stream": "stderr",
       "text": [
        " 0.463351964951\n",
        "BUILD HYPERGRAPH:"
       ]
      },
      {
       "output_type": "stream",
       "stream": "stderr",
       "text": [
        " 0.0973579883575\n",
        "BUILD POTENTIALS:"
       ]
      },
      {
       "output_type": "stream",
       "stream": "stderr",
       "text": [
        " 0.148026943207\n",
        "BUILD LP:"
       ]
      },
      {
       "output_type": "stream",
       "stream": "stderr",
       "text": [
        " 0.970596075058\n",
        "SOLVE LP:"
       ]
      },
      {
       "output_type": "stream",
       "stream": "stderr",
       "text": [
        " 0.429593086243\n",
        "BUILD HYPERGRAPH:"
       ]
      },
      {
       "output_type": "stream",
       "stream": "stderr",
       "text": [
        " 0.0927300453186\n",
        "BUILD POTENTIALS:"
       ]
      },
      {
       "output_type": "stream",
       "stream": "stderr",
       "text": [
        " 0.128039121628\n",
        "BUILD LP:"
       ]
      },
      {
       "output_type": "stream",
       "stream": "stderr",
       "text": [
        " 1.04130291939\n",
        "SOLVE LP:"
       ]
      },
      {
       "output_type": "stream",
       "stream": "stderr",
       "text": [
        " 0.434206962585\n",
        "BUILD HYPERGRAPH:"
       ]
      },
      {
       "output_type": "stream",
       "stream": "stderr",
       "text": [
        " 0.0494918823242\n",
        "BUILD POTENTIALS:"
       ]
      },
      {
       "output_type": "stream",
       "stream": "stderr",
       "text": [
        " 0.0620458126068\n",
        "BUILD LP:"
       ]
      },
      {
       "output_type": "stream",
       "stream": "stderr",
       "text": [
        " 0.579290866852\n",
        "SOLVE LP:"
       ]
      },
      {
       "output_type": "stream",
       "stream": "stderr",
       "text": [
        " 0.345171928406\n",
        "BUILD HYPERGRAPH:"
       ]
      },
      {
       "output_type": "stream",
       "stream": "stderr",
       "text": [
        " 0.0667650699615\n",
        "BUILD POTENTIALS:"
       ]
      },
      {
       "output_type": "stream",
       "stream": "stderr",
       "text": [
        " 0.0657138824463\n",
        "BUILD LP:"
       ]
      },
      {
       "output_type": "stream",
       "stream": "stderr",
       "text": [
        " 1.24217200279\n",
        "SOLVE LP:"
       ]
      },
      {
       "output_type": "stream",
       "stream": "stderr",
       "text": [
        " 0.252699136734\n",
        "BUILD HYPERGRAPH:"
       ]
      },
      {
       "output_type": "stream",
       "stream": "stderr",
       "text": [
        " 0.0578258037567\n",
        "BUILD POTENTIALS:"
       ]
      },
      {
       "output_type": "stream",
       "stream": "stderr",
       "text": [
        " 0.0764288902283\n",
        "BUILD LP:"
       ]
      },
      {
       "output_type": "stream",
       "stream": "stderr",
       "text": [
        " 0.560913085938\n",
        "SOLVE LP:"
       ]
      },
      {
       "output_type": "stream",
       "stream": "stderr",
       "text": [
        " 0.245544910431\n",
        "BUILD HYPERGRAPH:"
       ]
      },
      {
       "output_type": "stream",
       "stream": "stderr",
       "text": [
        " 0.101042985916\n",
        "BUILD POTENTIALS:"
       ]
      },
      {
       "output_type": "stream",
       "stream": "stderr",
       "text": [
        " 0.140763044357\n",
        "BUILD LP:"
       ]
      },
      {
       "output_type": "stream",
       "stream": "stderr",
       "text": [
        " 0.937652111053\n",
        "SOLVE LP:"
       ]
      },
      {
       "output_type": "stream",
       "stream": "stderr",
       "text": [
        " 0.403908014297\n",
        "BUILD HYPERGRAPH:"
       ]
      },
      {
       "output_type": "stream",
       "stream": "stderr",
       "text": [
        " 0.0262968540192\n",
        "BUILD POTENTIALS: 0.0346748828888\n",
        "BUILD LP:"
       ]
      },
      {
       "output_type": "stream",
       "stream": "stderr",
       "text": [
        " 0.235337018967\n",
        "SOLVE LP:"
       ]
      },
      {
       "output_type": "stream",
       "stream": "stderr",
       "text": [
        " 0.156332969666\n",
        "BUILD HYPERGRAPH: 0.023225069046\n",
        "BUILD POTENTIALS:"
       ]
      },
      {
       "output_type": "stream",
       "stream": "stderr",
       "text": [
        " 0.0322270393372\n",
        "BUILD LP:"
       ]
      },
      {
       "output_type": "stream",
       "stream": "stderr",
       "text": [
        " 0.242376804352\n",
        "SOLVE LP:"
       ]
      },
      {
       "output_type": "stream",
       "stream": "stderr",
       "text": [
        " 0.158579826355\n",
        "BUILD HYPERGRAPH: 0.0225489139557\n",
        "BUILD POTENTIALS:"
       ]
      },
      {
       "output_type": "stream",
       "stream": "stderr",
       "text": [
        " 0.0361351966858\n",
        "BUILD LP:"
       ]
      },
      {
       "output_type": "stream",
       "stream": "stderr",
       "text": [
        " 0.256059885025\n",
        "SOLVE LP:"
       ]
      },
      {
       "output_type": "stream",
       "stream": "stderr",
       "text": [
        " 0.157308101654\n",
        "BUILD HYPERGRAPH: 0.00977396965027\n",
        "BUILD POTENTIALS: 0.0141608715057\n",
        "BUILD LP:"
       ]
      },
      {
       "output_type": "stream",
       "stream": "stderr",
       "text": [
        " 0.096734046936\n",
        "SOLVE LP:"
       ]
      },
      {
       "output_type": "stream",
       "stream": "stderr",
       "text": [
        " 0.110105991364\n",
        "BUILD HYPERGRAPH:"
       ]
      },
      {
       "output_type": "stream",
       "stream": "stderr",
       "text": [
        " 0.094379901886\n",
        "BUILD POTENTIALS:"
       ]
      },
      {
       "output_type": "stream",
       "stream": "stderr",
       "text": [
        " 0.113822937012\n",
        "BUILD LP:"
       ]
      },
      {
       "output_type": "stream",
       "stream": "stderr",
       "text": [
        " 1.00021195412\n",
        "SOLVE LP:"
       ]
      },
      {
       "output_type": "stream",
       "stream": "stderr",
       "text": [
        " 0.417598962784\n",
        "BUILD HYPERGRAPH:"
       ]
      },
      {
       "output_type": "stream",
       "stream": "stderr",
       "text": [
        " 0.0487320423126\n",
        "BUILD POTENTIALS:"
       ]
      },
      {
       "output_type": "stream",
       "stream": "stderr",
       "text": [
        " 0.071928024292\n",
        "BUILD LP:"
       ]
      },
      {
       "output_type": "stream",
       "stream": "stderr",
       "text": [
        " 0.513352155685\n",
        "SOLVE LP:"
       ]
      },
      {
       "output_type": "stream",
       "stream": "stderr",
       "text": [
        " 0.302919149399\n",
        "BUILD HYPERGRAPH: 0.00940108299255\n",
        "BUILD POTENTIALS: 0.0143132209778\n",
        "BUILD LP:"
       ]
      },
      {
       "output_type": "stream",
       "stream": "stderr",
       "text": [
        " 0.107147932053\n",
        "SOLVE LP:"
       ]
      },
      {
       "output_type": "stream",
       "stream": "stderr",
       "text": [
        " 0.110574007034\n",
        "BUILD HYPERGRAPH:"
       ]
      },
      {
       "output_type": "stream",
       "stream": "stderr",
       "text": [
        " 0.09410405159\n",
        "BUILD POTENTIALS:"
       ]
      },
      {
       "output_type": "stream",
       "stream": "stderr",
       "text": [
        " 0.13071513176\n",
        "BUILD LP:"
       ]
      },
      {
       "output_type": "stream",
       "stream": "stderr",
       "text": [
        " 1.66197705269\n",
        "SOLVE LP:"
       ]
      },
      {
       "output_type": "stream",
       "stream": "stderr",
       "text": [
        " 0.555933952332\n",
        "BUILD HYPERGRAPH:"
       ]
      },
      {
       "output_type": "stream",
       "stream": "stderr",
       "text": [
        " 0.0695719718933\n",
        "BUILD POTENTIALS:"
       ]
      },
      {
       "output_type": "stream",
       "stream": "stderr",
       "text": [
        " 0.0869808197021\n",
        "BUILD LP:"
       ]
      },
      {
       "output_type": "stream",
       "stream": "stderr",
       "text": [
        " 0.605108976364\n",
        "SOLVE LP:"
       ]
      },
      {
       "output_type": "stream",
       "stream": "stderr",
       "text": [
        " 0.248907804489\n",
        "BUILD HYPERGRAPH: 0.0279121398926\n",
        "BUILD POTENTIALS:"
       ]
      },
      {
       "output_type": "stream",
       "stream": "stderr",
       "text": [
        " 0.0390501022339\n",
        "BUILD LP:"
       ]
      },
      {
       "output_type": "stream",
       "stream": "stderr",
       "text": [
        " 0.243056774139\n",
        "SOLVE LP:"
       ]
      },
      {
       "output_type": "stream",
       "stream": "stderr",
       "text": [
        " 0.159255981445\n",
        "BUILD HYPERGRAPH:"
       ]
      },
      {
       "output_type": "stream",
       "stream": "stderr",
       "text": [
        " 0.0959658622742\n",
        "BUILD POTENTIALS:"
       ]
      },
      {
       "output_type": "stream",
       "stream": "stderr",
       "text": [
        " 0.143620967865\n",
        "BUILD LP:"
       ]
      },
      {
       "output_type": "stream",
       "stream": "stderr",
       "text": [
        " 1.00587511063\n",
        "SOLVE LP:"
       ]
      },
      {
       "output_type": "stream",
       "stream": "stderr",
       "text": [
        " 0.412003040314\n",
        "BUILD HYPERGRAPH: 0.00945711135864\n",
        "BUILD POTENTIALS: 0.0162651538849\n",
        "BUILD LP:"
       ]
      },
      {
       "output_type": "stream",
       "stream": "stderr",
       "text": [
        " 0.108337879181\n",
        "SOLVE LP:"
       ]
      },
      {
       "output_type": "stream",
       "stream": "stderr",
       "text": [
        " 0.111215114594\n",
        "BUILD HYPERGRAPH: 0.0271379947662\n",
        "BUILD POTENTIALS:"
       ]
      },
      {
       "output_type": "stream",
       "stream": "stderr",
       "text": [
        " 0.0376019477844\n",
        "BUILD LP:"
       ]
      },
      {
       "output_type": "stream",
       "stream": "stderr",
       "text": [
        " 0.256478786469\n",
        "SOLVE LP:"
       ]
      },
      {
       "output_type": "stream",
       "stream": "stderr",
       "text": [
        " 0.167834043503\n",
        "BUILD HYPERGRAPH: 0.025591135025\n",
        "BUILD POTENTIALS:"
       ]
      },
      {
       "output_type": "stream",
       "stream": "stderr",
       "text": [
        " 0.0337820053101\n",
        "BUILD LP:"
       ]
      },
      {
       "output_type": "stream",
       "stream": "stderr",
       "text": [
        " 0.250747919083\n",
        "SOLVE LP:"
       ]
      },
      {
       "output_type": "stream",
       "stream": "stderr",
       "text": [
        " 0.165854930878\n",
        "BUILD HYPERGRAPH: 0.0100169181824\n",
        "BUILD POTENTIALS: 0.0120630264282\n",
        "BUILD LP:"
       ]
      },
      {
       "output_type": "stream",
       "stream": "stderr",
       "text": [
        " 0.100906848907\n",
        "SOLVE LP:"
       ]
      },
      {
       "output_type": "stream",
       "stream": "stderr",
       "text": [
        " 0.110518932343\n",
        "BUILD HYPERGRAPH: 0.0108070373535\n",
        "BUILD POTENTIALS: 0.0124998092651\n",
        "BUILD LP:"
       ]
      },
      {
       "output_type": "stream",
       "stream": "stderr",
       "text": [
        " 0.0961239337921\n",
        "SOLVE LP:"
       ]
      },
      {
       "output_type": "stream",
       "stream": "stderr",
       "text": [
        " 0.108008146286\n",
        "BUILD HYPERGRAPH: 0.028491973877\n",
        "BUILD POTENTIALS:"
       ]
      },
      {
       "output_type": "stream",
       "stream": "stderr",
       "text": [
        " 0.0371270179749\n",
        "BUILD LP:"
       ]
      },
      {
       "output_type": "stream",
       "stream": "stderr",
       "text": [
        " 0.245942115784\n",
        "SOLVE LP:"
       ]
      },
      {
       "output_type": "stream",
       "stream": "stderr",
       "text": [
        " 0.15691280365\n",
        "BUILD HYPERGRAPH:"
       ]
      },
      {
       "output_type": "stream",
       "stream": "stderr",
       "text": [
        " 0.09894490242\n",
        "BUILD POTENTIALS:"
       ]
      },
      {
       "output_type": "stream",
       "stream": "stderr",
       "text": [
        " 0.151470184326\n",
        "BUILD LP:"
       ]
      },
      {
       "output_type": "stream",
       "stream": "stderr",
       "text": [
        " 0.962065935135\n",
        "SOLVE LP:"
       ]
      },
      {
       "output_type": "stream",
       "stream": "stderr",
       "text": [
        " 0.425858974457\n",
        "BUILD HYPERGRAPH: 0.0126559734344\n",
        "BUILD POTENTIALS:"
       ]
      },
      {
       "output_type": "stream",
       "stream": "stderr",
       "text": [
        " 0.0247929096222\n",
        "BUILD LP:"
       ]
      },
      {
       "output_type": "stream",
       "stream": "stderr",
       "text": [
        " 0.103165864944\n",
        "SOLVE LP:"
       ]
      },
      {
       "output_type": "stream",
       "stream": "stdout",
       "text": [
        "\n",
        "effective learning rate: 1.000000\n",
        "iteration 5\n",
        "avg loss: 0.487245 w: [[  0.  -2.   0.   2.  -2.   2.  -3.   2.   0.   0.  -2.  -1.   1.   1.\n",
        "    0.   3.   2.   1.   1.   4.  -2.   0.   4.   0.   7.   0.   4.  -5.\n",
        "    7.   0.   1.   2.   0.   5.  -2.  -2.   0.  -2.  -2.   1.   0.   3.\n",
        "   -3.  -3.   0.   3.   1.   2.   2.  -2.   1.  -3.  -1.   2.  -4.   3.\n",
        "    1.   2.   0.  -1.   1.   1.   1.  -2.  -1.  -1.   0.   1.   4.   0.\n",
        "    4.   1.  -2.   1.   1.  -3.  -1.   3.   1.   7.   0.   6.   1.   5.\n",
        "    1.   5.   2.   1.  -5.   0.   3.  -1.   0.   3.   0.  -1.  -3.   0.\n",
        "    6.   1.  -2.   5.   0.   4.   4.   1.   4.   2.   1.   0.   1.   1.\n",
        "    4.  -1.   4.   5.   1.   1.   2.   1.   1.   1.  -3.   1.   3.  -3.\n",
        "    4.   5.   5.   2.   4.   0.   5.   4.   7.   0.  -1.   1.   0.   3.\n",
        "   -2.   2.   0.   0.   4.   1.   0.   0.   0.   0.   1.   1.   4.  -1.\n",
        "   -1.   1.  -2.   2.   4.   2.   1.   0.   1.   1.   3.   1.   0.   4.\n",
        "    1.  -1.   4.   0.   1.   5.   1.   1.   4.  -2.   7.   2.   0.  -1.\n",
        "    1.   2.   2.  -1.   1.   2.   1.   3.   0.   1.   1.   0.   1.   0.\n",
        "    0.   2.  -1.   3.   3.   3.   1.  -1.   1.   2.  -4.   1.   1.  -2.\n",
        "    5.   3.   2.   2.   0.   0.   4.   4.  -1.  -5.   0.   6.   0.   0.\n",
        "   -5.   5.   1.  -2.   3.  -4.   5.   4.   4.   5.  -3.   2.   4.   2.\n",
        "    1.   0.   0.   0.   3.   4.   7.   4.   2.   7.   0.   6.   0.   0.\n",
        "    4.   0.   3.   1.   0.   2.  -1.  -2.  -1.   1.   3.   6.  -1.  -2.\n",
        "    1.   0.   1.   1.   1.   3.  -1.   0.   1.   1.   1.  -1.  -1.   0.\n",
        "    2.   2.   0.   1.  -1.  -1.   6.  -1.   0.   0.   0.  -1.   0.   0.\n",
        "    2.   2.   0.   0.   3.   0.   3.   0.   1.  -1.   2.   3.   1.   0.\n",
        "    1.   0.   0.   0.   0.  -1.   0.  -1.  -2.   3.   1.   3.   1.   0.\n",
        "    0.   0.   0.   0.  -2.   1.   2.  -1.   0.   2.   2.  -2.   1.   0.\n",
        "    1.   0.   0.   2.   1.  -1.  -1.   1.   4.   1.   3.   3.   3.   3.\n",
        "    3.   3.   3.   3.   0.   1.   1.   2.   0.   3.   3.   2.  -1.   0.\n",
        "   -1.   1.  -1.   4.   0.   0.   0.   4.   2.  -1.   1.   2.  12.  -1.\n",
        "    7.   1.   0.   2.   0.   0.  -1.   2.   0.   5.   2.  -2.   0.   0.\n",
        "    3.  -3.   0.   0.  -2.   3.   2.   2.   2.  -1.   2.]]"
       ]
      },
      {
       "output_type": "stream",
       "stream": "stderr",
       "text": [
        " 0.126433849335\n",
        "BUILD HYPERGRAPH:"
       ]
      },
      {
       "output_type": "stream",
       "stream": "stderr",
       "text": [
        " 0.0255661010742\n",
        "BUILD POTENTIALS: 0.0391988754272\n",
        "BUILD LP:"
       ]
      },
      {
       "output_type": "stream",
       "stream": "stderr",
       "text": [
        " 0.244405031204\n",
        "SOLVE LP:"
       ]
      },
      {
       "output_type": "stream",
       "stream": "stderr",
       "text": [
        " 0.167012214661\n",
        "BUILD HYPERGRAPH: 0.00494909286499\n",
        "BUILD POTENTIALS: 0.00826287269592\n",
        "BUILD LP:"
       ]
      },
      {
       "output_type": "stream",
       "stream": "stderr",
       "text": [
        " 0.0528359413147\n",
        "SOLVE LP:"
       ]
      },
      {
       "output_type": "stream",
       "stream": "stderr",
       "text": [
        " 0.109305143356\n",
        "BUILD HYPERGRAPH: 0.0174009799957\n",
        "BUILD POTENTIALS: 0.0160789489746\n",
        "BUILD LP:"
       ]
      },
      {
       "output_type": "stream",
       "stream": "stderr",
       "text": [
        " 0.110911130905\n",
        "SOLVE LP:"
       ]
      },
      {
       "output_type": "stream",
       "stream": "stderr",
       "text": [
        " 0.121232032776\n",
        "BUILD HYPERGRAPH:"
       ]
      },
      {
       "output_type": "stream",
       "stream": "stderr",
       "text": [
        " 0.100855112076\n",
        "BUILD POTENTIALS:"
       ]
      },
      {
       "output_type": "stream",
       "stream": "stderr",
       "text": [
        " 0.137856006622\n",
        "BUILD LP:"
       ]
      },
      {
       "output_type": "stream",
       "stream": "stderr",
       "text": [
        " 1.77589917183\n",
        "SOLVE LP:"
       ]
      },
      {
       "output_type": "stream",
       "stream": "stderr",
       "text": [
        " 0.567766904831\n",
        "BUILD HYPERGRAPH:"
       ]
      },
      {
       "output_type": "stream",
       "stream": "stderr",
       "text": [
        " 0.0547940731049\n",
        "BUILD POTENTIALS:"
       ]
      },
      {
       "output_type": "stream",
       "stream": "stderr",
       "text": [
        " 0.0927510261536\n",
        "BUILD LP:"
       ]
      },
      {
       "output_type": "stream",
       "stream": "stderr",
       "text": [
        " 0.56451010704\n",
        "SOLVE LP:"
       ]
      },
      {
       "output_type": "stream",
       "stream": "stderr",
       "text": [
        " 0.282815933228\n",
        "BUILD HYPERGRAPH:"
       ]
      },
      {
       "output_type": "stream",
       "stream": "stderr",
       "text": [
        " 0.10723900795\n",
        "BUILD POTENTIALS:"
       ]
      },
      {
       "output_type": "stream",
       "stream": "stderr",
       "text": [
        " 0.148982048035\n",
        "BUILD LP:"
       ]
      },
      {
       "output_type": "stream",
       "stream": "stderr",
       "text": [
        " 0.957801103592\n",
        "SOLVE LP:"
       ]
      },
      {
       "output_type": "stream",
       "stream": "stderr",
       "text": [
        " 0.404325962067\n",
        "BUILD HYPERGRAPH: 0.00347113609314\n",
        "BUILD POTENTIALS: 0.00515913963318\n",
        "BUILD LP:"
       ]
      },
      {
       "output_type": "stream",
       "stream": "stderr",
       "text": [
        " 0.0330979824066\n",
        "SOLVE LP:"
       ]
      },
      {
       "output_type": "stream",
       "stream": "stderr",
       "text": [
        " 0.0847771167755\n",
        "BUILD HYPERGRAPH: 0.00581884384155\n",
        "BUILD POTENTIALS: 0.0103690624237\n",
        "BUILD LP:"
       ]
      },
      {
       "output_type": "stream",
       "stream": "stderr",
       "text": [
        " 0.0444238185883\n",
        "SOLVE LP:"
       ]
      },
      {
       "output_type": "stream",
       "stream": "stderr",
       "text": [
        " 0.0877149105072\n",
        "BUILD HYPERGRAPH:"
       ]
      },
      {
       "output_type": "stream",
       "stream": "stderr",
       "text": [
        " 0.0561101436615\n",
        "BUILD POTENTIALS:"
       ]
      },
      {
       "output_type": "stream",
       "stream": "stderr",
       "text": [
        " 0.0717740058899\n",
        "BUILD LP:"
       ]
      },
      {
       "output_type": "stream",
       "stream": "stderr",
       "text": [
        " 0.526484012604\n",
        "SOLVE LP:"
       ]
      },
      {
       "output_type": "stream",
       "stream": "stderr",
       "text": [
        " 0.258885860443\n",
        "BUILD HYPERGRAPH:"
       ]
      },
      {
       "output_type": "stream",
       "stream": "stderr",
       "text": [
        " 0.104594945908\n",
        "BUILD POTENTIALS:"
       ]
      },
      {
       "output_type": "stream",
       "stream": "stderr",
       "text": [
        " 0.163158893585\n",
        "BUILD LP:"
       ]
      },
      {
       "output_type": "stream",
       "stream": "stderr",
       "text": [
        " 0.90510892868\n",
        "SOLVE LP:"
       ]
      },
      {
       "output_type": "stream",
       "stream": "stderr",
       "text": [
        " 0.406928777695\n",
        "BUILD HYPERGRAPH:"
       ]
      },
      {
       "output_type": "stream",
       "stream": "stderr",
       "text": [
        " 0.0479238033295\n",
        "BUILD POTENTIALS:"
       ]
      },
      {
       "output_type": "stream",
       "stream": "stderr",
       "text": [
        " 0.064591884613\n",
        "BUILD LP:"
       ]
      },
      {
       "output_type": "stream",
       "stream": "stderr",
       "text": [
        " 0.482825994492\n",
        "SOLVE LP:"
       ]
      },
      {
       "output_type": "stream",
       "stream": "stderr",
       "text": [
        " 0.256057977676\n",
        "BUILD HYPERGRAPH: 0.009122133255\n",
        "BUILD POTENTIALS: 0.0127038955688\n",
        "BUILD LP:"
       ]
      },
      {
       "output_type": "stream",
       "stream": "stderr",
       "text": [
        " 0.0959758758545\n",
        "SOLVE LP:"
       ]
      },
      {
       "output_type": "stream",
       "stream": "stderr",
       "text": [
        " 0.110661029816\n",
        "BUILD HYPERGRAPH: 0.0119128227234\n",
        "BUILD POTENTIALS: 0.0133020877838\n",
        "BUILD LP:"
       ]
      },
      {
       "output_type": "stream",
       "stream": "stderr",
       "text": [
        " 0.100187778473\n",
        "SOLVE LP:"
       ]
      },
      {
       "output_type": "stream",
       "stream": "stderr",
       "text": [
        " 0.110727787018\n",
        "BUILD HYPERGRAPH:"
       ]
      },
      {
       "output_type": "stream",
       "stream": "stderr",
       "text": [
        " 0.0505201816559\n",
        "BUILD POTENTIALS:"
       ]
      },
      {
       "output_type": "stream",
       "stream": "stderr",
       "text": [
        " 0.0618000030518\n",
        "BUILD LP:"
       ]
      },
      {
       "output_type": "stream",
       "stream": "stderr",
       "text": [
        " 1.22494196892\n",
        "SOLVE LP:"
       ]
      },
      {
       "output_type": "stream",
       "stream": "stderr",
       "text": [
        " 0.26297211647\n",
        "BUILD HYPERGRAPH:"
       ]
      },
      {
       "output_type": "stream",
       "stream": "stderr",
       "text": [
        " 0.174993038177\n",
        "BUILD POTENTIALS:"
       ]
      },
      {
       "output_type": "stream",
       "stream": "stderr",
       "text": [
        " 0.209089994431\n",
        "BUILD LP:"
       ]
      },
      {
       "output_type": "stream",
       "stream": "stderr",
       "text": [
        " 1.62656378746\n",
        "SOLVE LP:"
       ]
      },
      {
       "output_type": "stream",
       "stream": "stderr",
       "text": [
        " 0.715235948563\n",
        "BUILD HYPERGRAPH:"
       ]
      },
      {
       "output_type": "stream",
       "stream": "stderr",
       "text": [
        " 0.162408828735\n",
        "BUILD POTENTIALS:"
       ]
      },
      {
       "output_type": "stream",
       "stream": "stderr",
       "text": [
        " 0.237564086914\n",
        "BUILD LP:"
       ]
      },
      {
       "output_type": "stream",
       "stream": "stderr",
       "text": [
        " 2.2910399437\n",
        "SOLVE LP:"
       ]
      },
      {
       "output_type": "stream",
       "stream": "stderr",
       "text": [
        " 0.772632837296\n",
        "BUILD HYPERGRAPH:"
       ]
      },
      {
       "output_type": "stream",
       "stream": "stderr",
       "text": [
        " 0.0528128147125\n",
        "BUILD POTENTIALS:"
       ]
      },
      {
       "output_type": "stream",
       "stream": "stderr",
       "text": [
        " 0.0749430656433\n",
        "BUILD LP:"
       ]
      },
      {
       "output_type": "stream",
       "stream": "stderr",
       "text": [
        " 0.51016497612\n",
        "SOLVE LP:"
       ]
      },
      {
       "output_type": "stream",
       "stream": "stderr",
       "text": [
        " 0.271346092224\n",
        "BUILD HYPERGRAPH:"
       ]
      },
      {
       "output_type": "stream",
       "stream": "stderr",
       "text": [
        " 0.0814828872681\n",
        "BUILD POTENTIALS:"
       ]
      },
      {
       "output_type": "stream",
       "stream": "stderr",
       "text": [
        " 0.071396112442\n",
        "BUILD LP:"
       ]
      },
      {
       "output_type": "stream",
       "stream": "stderr",
       "text": [
        " 0.658298969269\n",
        "SOLVE LP:"
       ]
      },
      {
       "output_type": "stream",
       "stream": "stderr",
       "text": [
        " 0.28681397438\n",
        "BUILD HYPERGRAPH:"
       ]
      },
      {
       "output_type": "stream",
       "stream": "stderr",
       "text": [
        " 0.223533153534\n",
        "BUILD POTENTIALS:"
       ]
      },
      {
       "output_type": "stream",
       "stream": "stderr",
       "text": [
        " 0.384919881821\n",
        "BUILD LP:"
       ]
      },
      {
       "output_type": "stream",
       "stream": "stderr",
       "text": [
        " 2.02323794365\n",
        "SOLVE LP:"
       ]
      },
      {
       "output_type": "stream",
       "stream": "stderr",
       "text": [
        " 0.652518033981\n",
        "BUILD HYPERGRAPH:"
       ]
      },
      {
       "output_type": "stream",
       "stream": "stderr",
       "text": [
        " 0.164165973663\n",
        "BUILD POTENTIALS:"
       ]
      },
      {
       "output_type": "stream",
       "stream": "stderr",
       "text": [
        " 0.244232177734\n",
        "BUILD LP:"
       ]
      },
      {
       "output_type": "stream",
       "stream": "stderr",
       "text": [
        " 2.2762298584\n",
        "SOLVE LP:"
       ]
      },
      {
       "output_type": "stream",
       "stream": "stderr",
       "text": [
        " 0.698307991028\n",
        "BUILD HYPERGRAPH:"
       ]
      },
      {
       "output_type": "stream",
       "stream": "stderr",
       "text": [
        " 0.050763130188\n",
        "BUILD POTENTIALS:"
       ]
      },
      {
       "output_type": "stream",
       "stream": "stderr",
       "text": [
        " 0.0728340148926\n",
        "BUILD LP:"
       ]
      },
      {
       "output_type": "stream",
       "stream": "stderr",
       "text": [
        " 0.497906923294\n",
        "SOLVE LP:"
       ]
      },
      {
       "output_type": "stream",
       "stream": "stderr",
       "text": [
        " 0.239810943604\n",
        "BUILD HYPERGRAPH:"
       ]
      },
      {
       "output_type": "stream",
       "stream": "stderr",
       "text": [
        " 0.0500178337097\n",
        "BUILD POTENTIALS:"
       ]
      },
      {
       "output_type": "stream",
       "stream": "stderr",
       "text": [
        " 0.0606648921967\n",
        "BUILD LP:"
       ]
      },
      {
       "output_type": "stream",
       "stream": "stderr",
       "text": [
        " 0.550123929977\n",
        "SOLVE LP:"
       ]
      },
      {
       "output_type": "stream",
       "stream": "stderr",
       "text": [
        " 0.278881072998\n",
        "BUILD HYPERGRAPH:"
       ]
      },
      {
       "output_type": "stream",
       "stream": "stderr",
       "text": [
        " 0.115776062012\n",
        "BUILD POTENTIALS:"
       ]
      },
      {
       "output_type": "stream",
       "stream": "stderr",
       "text": [
        " 0.131814002991\n",
        "BUILD LP:"
       ]
      },
      {
       "output_type": "stream",
       "stream": "stderr",
       "text": [
        " 1.00433492661\n",
        "SOLVE LP:"
       ]
      },
      {
       "output_type": "stream",
       "stream": "stderr",
       "text": [
        " 0.43398809433\n",
        "BUILD HYPERGRAPH: 0.0225880146027\n",
        "BUILD POTENTIALS:"
       ]
      },
      {
       "output_type": "stream",
       "stream": "stderr",
       "text": [
        " 0.0307598114014\n",
        "BUILD LP:"
       ]
      },
      {
       "output_type": "stream",
       "stream": "stderr",
       "text": [
        " 0.267708063126\n",
        "SOLVE LP:"
       ]
      },
      {
       "output_type": "stream",
       "stream": "stderr",
       "text": [
        " 0.161816120148\n",
        "BUILD HYPERGRAPH:"
       ]
      },
      {
       "output_type": "stream",
       "stream": "stderr",
       "text": [
        " 0.103132963181\n",
        "BUILD POTENTIALS:"
       ]
      },
      {
       "output_type": "stream",
       "stream": "stderr",
       "text": [
        " 0.128957033157\n",
        "BUILD LP:"
       ]
      },
      {
       "output_type": "stream",
       "stream": "stderr",
       "text": [
        " 1.05203795433\n",
        "SOLVE LP:"
       ]
      },
      {
       "output_type": "stream",
       "stream": "stderr",
       "text": [
        " 0.455410003662\n",
        "BUILD HYPERGRAPH:"
       ]
      },
      {
       "output_type": "stream",
       "stream": "stderr",
       "text": [
        " 0.101444959641\n",
        "BUILD POTENTIALS:"
       ]
      },
      {
       "output_type": "stream",
       "stream": "stderr",
       "text": [
        " 0.163246870041\n",
        "BUILD LP:"
       ]
      },
      {
       "output_type": "stream",
       "stream": "stderr",
       "text": [
        " 1.83411598206\n",
        "SOLVE LP:"
       ]
      },
      {
       "output_type": "stream",
       "stream": "stderr",
       "text": [
        " 0.406091928482\n",
        "BUILD HYPERGRAPH:"
       ]
      },
      {
       "output_type": "stream",
       "stream": "stderr",
       "text": [
        " 0.0970749855042\n",
        "BUILD POTENTIALS:"
       ]
      },
      {
       "output_type": "stream",
       "stream": "stderr",
       "text": [
        " 0.13387298584\n",
        "BUILD LP:"
       ]
      },
      {
       "output_type": "stream",
       "stream": "stderr",
       "text": [
        " 0.943716049194\n",
        "SOLVE LP:"
       ]
      },
      {
       "output_type": "stream",
       "stream": "stderr",
       "text": [
        " 0.444991111755\n",
        "BUILD HYPERGRAPH:"
       ]
      },
      {
       "output_type": "stream",
       "stream": "stderr",
       "text": [
        " 0.0519261360168\n",
        "BUILD POTENTIALS:"
       ]
      },
      {
       "output_type": "stream",
       "stream": "stderr",
       "text": [
        " 0.0755710601807\n",
        "BUILD LP:"
       ]
      },
      {
       "output_type": "stream",
       "stream": "stderr",
       "text": [
        " 0.535724878311\n",
        "SOLVE LP:"
       ]
      },
      {
       "output_type": "stream",
       "stream": "stderr",
       "text": [
        " 0.297006130219\n",
        "BUILD HYPERGRAPH: 0.00980281829834\n",
        "BUILD POTENTIALS: 0.0121500492096\n",
        "BUILD LP:"
       ]
      },
      {
       "output_type": "stream",
       "stream": "stderr",
       "text": [
        " 0.0963788032532\n",
        "SOLVE LP:"
       ]
      },
      {
       "output_type": "stream",
       "stream": "stderr",
       "text": [
        " 0.105035066605\n",
        "BUILD HYPERGRAPH: 0.0304639339447\n",
        "BUILD POTENTIALS:"
       ]
      },
      {
       "output_type": "stream",
       "stream": "stderr",
       "text": [
        " 0.0310108661652\n",
        "BUILD LP:"
       ]
      },
      {
       "output_type": "stream",
       "stream": "stderr",
       "text": [
        " 0.240073919296\n",
        "SOLVE LP:"
       ]
      },
      {
       "output_type": "stream",
       "stream": "stderr",
       "text": [
        " 0.16185092926\n",
        "BUILD HYPERGRAPH:"
       ]
      },
      {
       "output_type": "stream",
       "stream": "stderr",
       "text": [
        " 0.109891891479\n",
        "BUILD POTENTIALS:"
       ]
      },
      {
       "output_type": "stream",
       "stream": "stderr",
       "text": [
        " 0.131258010864\n",
        "BUILD LP:"
       ]
      },
      {
       "output_type": "stream",
       "stream": "stderr",
       "text": [
        " 0.920017004013\n",
        "SOLVE LP:"
       ]
      },
      {
       "output_type": "stream",
       "stream": "stderr",
       "text": [
        " 0.395210027695\n",
        "BUILD HYPERGRAPH:"
       ]
      },
      {
       "output_type": "stream",
       "stream": "stderr",
       "text": [
        " 0.0897080898285\n",
        "BUILD POTENTIALS:"
       ]
      },
      {
       "output_type": "stream",
       "stream": "stderr",
       "text": [
        " 0.137168169022\n",
        "BUILD LP:"
       ]
      },
      {
       "output_type": "stream",
       "stream": "stderr",
       "text": [
        " 1.56688094139\n",
        "SOLVE LP:"
       ]
      },
      {
       "output_type": "stream",
       "stream": "stderr",
       "text": [
        " 0.430188179016\n",
        "BUILD HYPERGRAPH:"
       ]
      },
      {
       "output_type": "stream",
       "stream": "stderr",
       "text": [
        " 0.10294008255\n",
        "BUILD POTENTIALS:"
       ]
      },
      {
       "output_type": "stream",
       "stream": "stderr",
       "text": [
        " 0.140399932861\n",
        "BUILD LP:"
       ]
      },
      {
       "output_type": "stream",
       "stream": "stderr",
       "text": [
        " 1.02140593529\n",
        "SOLVE LP:"
       ]
      },
      {
       "output_type": "stream",
       "stream": "stderr",
       "text": [
        " 0.433005094528\n",
        "BUILD HYPERGRAPH:"
       ]
      },
      {
       "output_type": "stream",
       "stream": "stderr",
       "text": [
        " 0.104703903198\n",
        "BUILD POTENTIALS:"
       ]
      },
      {
       "output_type": "stream",
       "stream": "stderr",
       "text": [
        " 0.151095867157\n",
        "BUILD LP:"
       ]
      },
      {
       "output_type": "stream",
       "stream": "stderr",
       "text": [
        " 1.01613593102\n",
        "SOLVE LP:"
       ]
      },
      {
       "output_type": "stream",
       "stream": "stderr",
       "text": [
        " 0.43594288826\n",
        "BUILD HYPERGRAPH:"
       ]
      },
      {
       "output_type": "stream",
       "stream": "stderr",
       "text": [
        " 0.089907169342\n",
        "BUILD POTENTIALS:"
       ]
      },
      {
       "output_type": "stream",
       "stream": "stderr",
       "text": [
        " 0.130566120148\n",
        "BUILD LP:"
       ]
      },
      {
       "output_type": "stream",
       "stream": "stderr",
       "text": [
        " 1.02105808258\n",
        "SOLVE LP:"
       ]
      },
      {
       "output_type": "stream",
       "stream": "stderr",
       "text": [
        " 0.388763904572\n",
        "BUILD HYPERGRAPH:"
       ]
      },
      {
       "output_type": "stream",
       "stream": "stderr",
       "text": [
        " 0.0470819473267\n",
        "BUILD POTENTIALS:"
       ]
      },
      {
       "output_type": "stream",
       "stream": "stderr",
       "text": [
        " 0.0611779689789\n",
        "BUILD LP:"
       ]
      },
      {
       "output_type": "stream",
       "stream": "stderr",
       "text": [
        " 0.505656003952\n",
        "SOLVE LP:"
       ]
      },
      {
       "output_type": "stream",
       "stream": "stderr",
       "text": [
        " 0.266193151474\n",
        "BUILD HYPERGRAPH:"
       ]
      },
      {
       "output_type": "stream",
       "stream": "stderr",
       "text": [
        " 0.04652094841\n",
        "BUILD POTENTIALS:"
       ]
      },
      {
       "output_type": "stream",
       "stream": "stderr",
       "text": [
        " 0.0593199729919\n",
        "BUILD LP:"
       ]
      },
      {
       "output_type": "stream",
       "stream": "stderr",
       "text": [
        " 0.501504898071\n",
        "SOLVE LP:"
       ]
      },
      {
       "output_type": "stream",
       "stream": "stderr",
       "text": [
        " 0.25884103775\n",
        "BUILD HYPERGRAPH:"
       ]
      },
      {
       "output_type": "stream",
       "stream": "stderr",
       "text": [
        " 0.0472650527954\n",
        "BUILD POTENTIALS:"
       ]
      },
      {
       "output_type": "stream",
       "stream": "stderr",
       "text": [
        " 0.102244853973\n",
        "BUILD LP:"
       ]
      },
      {
       "output_type": "stream",
       "stream": "stderr",
       "text": [
        " 1.1946811676\n",
        "SOLVE LP:"
       ]
      },
      {
       "output_type": "stream",
       "stream": "stderr",
       "text": [
        " 0.239061117172\n",
        "BUILD HYPERGRAPH:"
       ]
      },
      {
       "output_type": "stream",
       "stream": "stderr",
       "text": [
        " 0.102967023849\n",
        "BUILD POTENTIALS:"
       ]
      },
      {
       "output_type": "stream",
       "stream": "stderr",
       "text": [
        " 0.148241996765\n",
        "BUILD LP:"
       ]
      },
      {
       "output_type": "stream",
       "stream": "stderr",
       "text": [
        " 0.974867105484\n",
        "SOLVE LP:"
       ]
      },
      {
       "output_type": "stream",
       "stream": "stderr",
       "text": [
        " 0.409224033356\n",
        "BUILD HYPERGRAPH: 0.0232670307159\n",
        "BUILD POTENTIALS:"
       ]
      },
      {
       "output_type": "stream",
       "stream": "stderr",
       "text": [
        " 0.0332930088043\n",
        "BUILD LP:"
       ]
      },
      {
       "output_type": "stream",
       "stream": "stderr",
       "text": [
        " 0.269415140152\n",
        "SOLVE LP:"
       ]
      },
      {
       "output_type": "stream",
       "stream": "stderr",
       "text": [
        " 0.174062013626\n",
        "BUILD HYPERGRAPH: 0.0233180522919\n",
        "BUILD POTENTIALS:"
       ]
      },
      {
       "output_type": "stream",
       "stream": "stderr",
       "text": [
        " 0.0330190658569\n",
        "BUILD LP:"
       ]
      },
      {
       "output_type": "stream",
       "stream": "stderr",
       "text": [
        " 0.24426317215\n",
        "SOLVE LP:"
       ]
      },
      {
       "output_type": "stream",
       "stream": "stderr",
       "text": [
        " 0.166228055954\n",
        "BUILD HYPERGRAPH: 0.0235190391541\n",
        "BUILD POTENTIALS:"
       ]
      },
      {
       "output_type": "stream",
       "stream": "stderr",
       "text": [
        " 0.0362930297852\n",
        "BUILD LP:"
       ]
      },
      {
       "output_type": "stream",
       "stream": "stderr",
       "text": [
        " 0.250068902969\n",
        "SOLVE LP:"
       ]
      },
      {
       "output_type": "stream",
       "stream": "stderr",
       "text": [
        " 0.162634134293\n",
        "BUILD HYPERGRAPH: 0.00976800918579\n",
        "BUILD POTENTIALS: 0.0139439105988\n",
        "BUILD LP:"
       ]
      },
      {
       "output_type": "stream",
       "stream": "stderr",
       "text": [
        " 0.0956702232361\n",
        "SOLVE LP:"
       ]
      },
      {
       "output_type": "stream",
       "stream": "stderr",
       "text": [
        " 0.106167078018\n",
        "BUILD HYPERGRAPH:"
       ]
      },
      {
       "output_type": "stream",
       "stream": "stderr",
       "text": [
        " 0.093847990036\n",
        "BUILD POTENTIALS:"
       ]
      },
      {
       "output_type": "stream",
       "stream": "stderr",
       "text": [
        " 0.120270013809\n",
        "BUILD LP:"
       ]
      },
      {
       "output_type": "stream",
       "stream": "stderr",
       "text": [
        " 0.93646812439\n",
        "SOLVE LP:"
       ]
      },
      {
       "output_type": "stream",
       "stream": "stderr",
       "text": [
        " 0.410947084427\n",
        "BUILD HYPERGRAPH:"
       ]
      },
      {
       "output_type": "stream",
       "stream": "stderr",
       "text": [
        " 0.0474689006805\n",
        "BUILD POTENTIALS:"
       ]
      },
      {
       "output_type": "stream",
       "stream": "stderr",
       "text": [
        " 0.0739200115204\n",
        "BUILD LP:"
       ]
      },
      {
       "output_type": "stream",
       "stream": "stderr",
       "text": [
        " 0.522357940674\n",
        "SOLVE LP:"
       ]
      },
      {
       "output_type": "stream",
       "stream": "stderr",
       "text": [
        " 0.252238988876\n",
        "BUILD HYPERGRAPH: 0.00943803787231\n",
        "BUILD POTENTIALS: 0.0145959854126\n",
        "BUILD LP:"
       ]
      },
      {
       "output_type": "stream",
       "stream": "stderr",
       "text": [
        " 0.106900930405\n",
        "SOLVE LP:"
       ]
      },
      {
       "output_type": "stream",
       "stream": "stderr",
       "text": [
        " 0.111929893494\n",
        "BUILD HYPERGRAPH:"
       ]
      },
      {
       "output_type": "stream",
       "stream": "stderr",
       "text": [
        " 0.117003917694\n",
        "BUILD POTENTIALS:"
       ]
      },
      {
       "output_type": "stream",
       "stream": "stderr",
       "text": [
        " 0.1287150383\n",
        "BUILD LP:"
       ]
      },
      {
       "output_type": "stream",
       "stream": "stderr",
       "text": [
        " 1.61217188835\n",
        "SOLVE LP:"
       ]
      },
      {
       "output_type": "stream",
       "stream": "stderr",
       "text": [
        " 0.416713953018\n",
        "BUILD HYPERGRAPH:"
       ]
      },
      {
       "output_type": "stream",
       "stream": "stderr",
       "text": [
        " 0.0526990890503\n",
        "BUILD POTENTIALS:"
       ]
      },
      {
       "output_type": "stream",
       "stream": "stderr",
       "text": [
        " 0.0667309761047\n",
        "BUILD LP:"
       ]
      },
      {
       "output_type": "stream",
       "stream": "stderr",
       "text": [
        " 0.530620098114\n",
        "SOLVE LP:"
       ]
      },
      {
       "output_type": "stream",
       "stream": "stderr",
       "text": [
        " 0.251592874527\n",
        "BUILD HYPERGRAPH: 0.0238280296326\n",
        "BUILD POTENTIALS:"
       ]
      },
      {
       "output_type": "stream",
       "stream": "stderr",
       "text": [
        " 0.0325448513031\n",
        "BUILD LP:"
       ]
      },
      {
       "output_type": "stream",
       "stream": "stderr",
       "text": [
        " 0.240706920624\n",
        "SOLVE LP:"
       ]
      },
      {
       "output_type": "stream",
       "stream": "stderr",
       "text": [
        " 0.155899047852\n",
        "BUILD HYPERGRAPH:"
       ]
      },
      {
       "output_type": "stream",
       "stream": "stderr",
       "text": [
        " 0.0957221984863\n",
        "BUILD POTENTIALS:"
       ]
      },
      {
       "output_type": "stream",
       "stream": "stderr",
       "text": [
        " 0.163102149963\n",
        "BUILD LP:"
       ]
      },
      {
       "output_type": "stream",
       "stream": "stderr",
       "text": [
        " 0.940648794174\n",
        "SOLVE LP:"
       ]
      },
      {
       "output_type": "stream",
       "stream": "stderr",
       "text": [
        " 0.416298151016\n",
        "BUILD HYPERGRAPH: 0.00956296920776\n",
        "BUILD POTENTIALS: 0.0159111022949\n",
        "BUILD LP:"
       ]
      },
      {
       "output_type": "stream",
       "stream": "stderr",
       "text": [
        " 0.0956389904022\n",
        "SOLVE LP:"
       ]
      },
      {
       "output_type": "stream",
       "stream": "stderr",
       "text": [
        " 0.111382007599\n",
        "BUILD HYPERGRAPH: 0.0245449542999\n",
        "BUILD POTENTIALS:"
       ]
      },
      {
       "output_type": "stream",
       "stream": "stderr",
       "text": [
        " 0.0345990657806\n",
        "BUILD LP:"
       ]
      },
      {
       "output_type": "stream",
       "stream": "stderr",
       "text": [
        " 0.25147819519\n",
        "SOLVE LP:"
       ]
      },
      {
       "output_type": "stream",
       "stream": "stderr",
       "text": [
        " 0.16072511673\n",
        "BUILD HYPERGRAPH: 0.022577047348\n",
        "BUILD POTENTIALS:"
       ]
      },
      {
       "output_type": "stream",
       "stream": "stderr",
       "text": [
        " 0.0327839851379\n",
        "BUILD LP:"
       ]
      },
      {
       "output_type": "stream",
       "stream": "stderr",
       "text": [
        " 0.237231016159\n",
        "SOLVE LP:"
       ]
      },
      {
       "output_type": "stream",
       "stream": "stderr",
       "text": [
        " 0.166123151779\n",
        "BUILD HYPERGRAPH: 0.0115599632263\n",
        "BUILD POTENTIALS: 0.012008190155\n",
        "BUILD LP:"
       ]
      },
      {
       "output_type": "stream",
       "stream": "stderr",
       "text": [
        " 0.0950038433075\n",
        "SOLVE LP:"
       ]
      },
      {
       "output_type": "stream",
       "stream": "stderr",
       "text": [
        " 0.109007120132\n",
        "BUILD HYPERGRAPH: 0.00997400283813\n",
        "BUILD POTENTIALS: 0.0126631259918\n",
        "BUILD LP:"
       ]
      },
      {
       "output_type": "stream",
       "stream": "stderr",
       "text": [
        " 0.097286939621\n",
        "SOLVE LP:"
       ]
      },
      {
       "output_type": "stream",
       "stream": "stderr",
       "text": [
        " 0.105702877045\n",
        "BUILD HYPERGRAPH: 0.0322499275208\n",
        "BUILD POTENTIALS:"
       ]
      },
      {
       "output_type": "stream",
       "stream": "stderr",
       "text": [
        " 0.0382800102234\n",
        "BUILD LP:"
       ]
      },
      {
       "output_type": "stream",
       "stream": "stderr",
       "text": [
        " 0.248586893082\n",
        "SOLVE LP:"
       ]
      },
      {
       "output_type": "stream",
       "stream": "stderr",
       "text": [
        " 0.153371095657\n",
        "BUILD HYPERGRAPH:"
       ]
      },
      {
       "output_type": "stream",
       "stream": "stderr",
       "text": [
        " 0.091295003891\n",
        "BUILD POTENTIALS:"
       ]
      },
      {
       "output_type": "stream",
       "stream": "stderr",
       "text": [
        " 0.151436090469\n",
        "BUILD LP:"
       ]
      },
      {
       "output_type": "stream",
       "stream": "stderr",
       "text": [
        " 0.954161167145\n",
        "SOLVE LP:"
       ]
      },
      {
       "output_type": "stream",
       "stream": "stderr",
       "text": [
        " 0.39405298233\n",
        "BUILD HYPERGRAPH: 0.00907301902771\n",
        "BUILD POTENTIALS: 0.0137619972229\n",
        "BUILD LP:"
       ]
      },
      {
       "output_type": "stream",
       "stream": "stderr",
       "text": [
        " 0.0968351364136\n",
        "SOLVE LP:"
       ]
      },
      {
       "output_type": "stream",
       "stream": "stdout",
       "text": [
        "\n",
        "effective learning rate: 1.000000\n",
        "iteration 6\n",
        "avg loss: 0.482143 w: [[  0.  -2.   0.   2.  -2.   2.  -6.   3.  -2.   0.  -2.  -2.   2.   4.\n",
        "    2.   1.   1.   2.   1.   6.  -2.  -1.   8.   0.   7.   0.   6.  -5.\n",
        "    6.   1.   1.   4.   0.   5.  -1.  -1.   0.  -3.   0.   1.   0.   3.\n",
        "   -1.  -3.   0.   2.   2.   5.   2.  -2.   0.  -1.  -1.   3.  -5.   4.\n",
        "    1.   4.   0.  -1.   1.   3.   1.  -2.  -1.  -2.   2.   1.   4.   1.\n",
        "    3.   1.  -3.   2.   1.  -3.  -1.   3.   1.   7.   0.   6.   1.   5.\n",
        "    1.   5.   2.   1.  -5.   0.   3.  -1.  -1.   3.  -1.   1.  -3.   0.\n",
        "    6.   3.  -2.   4.  -1.   4.   3.   1.   4.   2.   4.   0.   0.   1.\n",
        "    7.  -2.   4.   7.   1.   1.   1.   1.   1.   1.  -4.   1.   1.  -1.\n",
        "    4.   6.   5.   0.   6.   0.   6.   4.   8.   1.  -1.   0.   0.   4.\n",
        "   -2.   1.   0.   1.   4.   1.   0.   0.   0.   0.   1.   1.   4.   2.\n",
        "   -1.   0.  -1.   2.   4.   4.   1.   0.   0.   1.   3.   2.   0.   4.\n",
        "    1.  -2.   6.   0.   1.   6.   1.   1.   4.  -2.   9.   2.  -1.  -1.\n",
        "    2.   3.   2.  -1.   1.   3.   1.   4.   0.   1.   1.   0.   3.   0.\n",
        "    2.   3.  -1.   5.   3.   3.   1.  -1.   2.   5.  -4.   1.   2.   0.\n",
        "    5.   3.   3.   2.   0.   0.   3.   3.   1.  -5.   1.   6.  -1.  -1.\n",
        "   -6.   8.   0.  -2.   4.  -4.   4.   5.   3.   5.  -2.   3.   3.   2.\n",
        "    2.   0.  -1.   1.   4.   4.   7.   6.   3.   9.   0.   7.   0.   0.\n",
        "    3.   0.   3.   1.   0.   2.   0.  -4.   0.   1.   2.   6.  -1.  -2.\n",
        "    2.   0.   1.   1.   1.   2.  -1.  -1.   1.   1.   1.  -1.  -1.   1.\n",
        "    2.   2.   0.   2.  -1.  -1.   2.  -1.   1.   0.   0.   0.   0.   0.\n",
        "   -1.   2.   1.  -1.   2.   1.   3.   0.   2.   0.   4.   2.   1.   0.\n",
        "    1.   0.   1.   0.   0.  -1.   0.   2.  -2.   2.  -6.   2.   0.   0.\n",
        "   -1.  -1.   0.   0.  -1.   2.   2.  -1.   0.   1.   3.  -1.   1.   0.\n",
        "    1.   1.   0.   1.   1.  -1.  -1.   1.   5.   1.   2.   2.   2.   4.\n",
        "    4.   3.   3.   3.   0.   0.   0.   2.   0.   3.   4.   2.  -2.   0.\n",
        "    0.   2.   0.   4.   0.   0.   0.   2.   2.  -1.  -1.   1.  15.  -1.\n",
        "    5.   1.   0.   2.   0.   0.  -1.   3.   0.   3.   2.  -5.   0.   0.\n",
        "    2.  -2.   0.   0.  -2.   4.   2.   2.   2.  -1.   3.]]"
       ]
      },
      {
       "output_type": "stream",
       "stream": "stderr",
       "text": [
        " 0.106532096863\n",
        "BUILD HYPERGRAPH:"
       ]
      },
      {
       "output_type": "stream",
       "stream": "stderr",
       "text": [
        " 0.0251429080963\n",
        "BUILD POTENTIALS: 0.0355129241943\n",
        "BUILD LP:"
       ]
      },
      {
       "output_type": "stream",
       "stream": "stderr",
       "text": [
        " 0.236010074615\n",
        "SOLVE LP:"
       ]
      },
      {
       "output_type": "stream",
       "stream": "stderr",
       "text": [
        " 0.156780004501\n",
        "BUILD HYPERGRAPH: 0.00308299064636\n",
        "BUILD POTENTIALS: 0.00465393066406\n",
        "BUILD LP: 0.0312900543213\n",
        "SOLVE LP:"
       ]
      },
      {
       "output_type": "stream",
       "stream": "stderr",
       "text": [
        " 0.0852460861206\n",
        "BUILD HYPERGRAPH: 0.0165109634399\n",
        "BUILD POTENTIALS: 0.0260279178619\n",
        "BUILD LP:"
       ]
      },
      {
       "output_type": "stream",
       "stream": "stderr",
       "text": [
        " 0.139446973801\n",
        "SOLVE LP:"
       ]
      },
      {
       "output_type": "stream",
       "stream": "stderr",
       "text": [
        " 0.107891082764\n",
        "BUILD HYPERGRAPH:"
       ]
      },
      {
       "output_type": "stream",
       "stream": "stderr",
       "text": [
        " 0.0943229198456\n",
        "BUILD POTENTIALS:"
       ]
      },
      {
       "output_type": "stream",
       "stream": "stderr",
       "text": [
        " 0.148050069809\n",
        "BUILD LP:"
       ]
      },
      {
       "output_type": "stream",
       "stream": "stderr",
       "text": [
        " 1.64055895805\n",
        "SOLVE LP:"
       ]
      },
      {
       "output_type": "stream",
       "stream": "stderr",
       "text": [
        " 0.396879911423\n",
        "BUILD HYPERGRAPH:"
       ]
      },
      {
       "output_type": "stream",
       "stream": "stderr",
       "text": [
        " 0.0584251880646\n",
        "BUILD POTENTIALS:"
       ]
      },
      {
       "output_type": "stream",
       "stream": "stderr",
       "text": [
        " 0.0775790214539\n",
        "BUILD LP:"
       ]
      },
      {
       "output_type": "stream",
       "stream": "stderr",
       "text": [
        " 0.531131982803\n",
        "SOLVE LP:"
       ]
      },
      {
       "output_type": "stream",
       "stream": "stderr",
       "text": [
        " 0.247936964035\n",
        "BUILD HYPERGRAPH:"
       ]
      },
      {
       "output_type": "stream",
       "stream": "stderr",
       "text": [
        " 0.0994579792023\n",
        "BUILD POTENTIALS:"
       ]
      },
      {
       "output_type": "stream",
       "stream": "stderr",
       "text": [
        " 0.142967939377\n",
        "BUILD LP:"
       ]
      },
      {
       "output_type": "stream",
       "stream": "stderr",
       "text": [
        " 0.953597784042\n",
        "SOLVE LP:"
       ]
      },
      {
       "output_type": "stream",
       "stream": "stderr",
       "text": [
        " 0.42414188385\n",
        "BUILD HYPERGRAPH: 0.00315999984741\n",
        "BUILD POTENTIALS: 0.0052490234375\n",
        "BUILD LP:"
       ]
      },
      {
       "output_type": "stream",
       "stream": "stderr",
       "text": [
        " 0.0338799953461\n",
        "SOLVE LP:"
       ]
      },
      {
       "output_type": "stream",
       "stream": "stderr",
       "text": [
        " 0.0852229595184\n",
        "BUILD HYPERGRAPH: 0.0059130191803\n",
        "BUILD POTENTIALS: 0.00670886039734\n",
        "BUILD LP:"
       ]
      },
      {
       "output_type": "stream",
       "stream": "stderr",
       "text": [
        " 0.0511898994446\n",
        "SOLVE LP:"
       ]
      },
      {
       "output_type": "stream",
       "stream": "stderr",
       "text": [
        " 0.0849199295044\n",
        "BUILD HYPERGRAPH:"
       ]
      },
      {
       "output_type": "stream",
       "stream": "stderr",
       "text": [
        " 0.0627689361572\n",
        "BUILD POTENTIALS:"
       ]
      },
      {
       "output_type": "stream",
       "stream": "stderr",
       "text": [
        " 0.0731980800629\n",
        "BUILD LP:"
       ]
      },
      {
       "output_type": "stream",
       "stream": "stderr",
       "text": [
        " 0.526507139206\n",
        "SOLVE LP:"
       ]
      },
      {
       "output_type": "stream",
       "stream": "stderr",
       "text": [
        " 0.261970996857\n",
        "BUILD HYPERGRAPH:"
       ]
      },
      {
       "output_type": "stream",
       "stream": "stderr",
       "text": [
        " 0.0913350582123\n",
        "BUILD POTENTIALS:"
       ]
      },
      {
       "output_type": "stream",
       "stream": "stderr",
       "text": [
        " 0.129530906677\n",
        "BUILD LP:"
       ]
      },
      {
       "output_type": "stream",
       "stream": "stderr",
       "text": [
        " 0.95051908493\n",
        "SOLVE LP:"
       ]
      },
      {
       "output_type": "stream",
       "stream": "stderr",
       "text": [
        " 0.454414844513\n",
        "BUILD HYPERGRAPH:"
       ]
      },
      {
       "output_type": "stream",
       "stream": "stderr",
       "text": [
        " 0.0494241714478\n",
        "BUILD POTENTIALS:"
       ]
      },
      {
       "output_type": "stream",
       "stream": "stderr",
       "text": [
        " 0.0618510246277\n",
        "BUILD LP:"
       ]
      },
      {
       "output_type": "stream",
       "stream": "stderr",
       "text": [
        " 0.534025907516\n",
        "SOLVE LP:"
       ]
      },
      {
       "output_type": "stream",
       "stream": "stderr",
       "text": [
        " 0.248420953751\n",
        "BUILD HYPERGRAPH: 0.00927400588989\n",
        "BUILD POTENTIALS: 0.0123331546783\n",
        "BUILD LP:"
       ]
      },
      {
       "output_type": "stream",
       "stream": "stderr",
       "text": [
        " 0.0958950519562\n",
        "SOLVE LP:"
       ]
      },
      {
       "output_type": "stream",
       "stream": "stderr",
       "text": [
        " 0.116824150085\n",
        "BUILD HYPERGRAPH: 0.0101470947266\n",
        "BUILD POTENTIALS: 0.0131261348724\n",
        "BUILD LP:"
       ]
      },
      {
       "output_type": "stream",
       "stream": "stderr",
       "text": [
        " 0.10133600235\n",
        "SOLVE LP:"
       ]
      },
      {
       "output_type": "stream",
       "stream": "stderr",
       "text": [
        " 0.106659889221\n",
        "BUILD HYPERGRAPH:"
       ]
      },
      {
       "output_type": "stream",
       "stream": "stderr",
       "text": [
        " 0.0501358509064\n",
        "BUILD POTENTIALS:"
       ]
      },
      {
       "output_type": "stream",
       "stream": "stderr",
       "text": [
        " 0.0614809989929\n",
        "BUILD LP:"
       ]
      },
      {
       "output_type": "stream",
       "stream": "stderr",
       "text": [
        " 0.486356973648\n",
        "SOLVE LP:"
       ]
      },
      {
       "output_type": "stream",
       "stream": "stderr",
       "text": [
        " 0.250036001205\n",
        "BUILD HYPERGRAPH:"
       ]
      },
      {
       "output_type": "stream",
       "stream": "stderr",
       "text": [
        " 0.849943876266\n",
        "BUILD POTENTIALS:"
       ]
      },
      {
       "output_type": "stream",
       "stream": "stderr",
       "text": [
        " 0.218595027924\n",
        "BUILD LP:"
       ]
      },
      {
       "output_type": "stream",
       "stream": "stderr",
       "text": [
        " 1.59931707382\n",
        "SOLVE LP:"
       ]
      },
      {
       "output_type": "stream",
       "stream": "stderr",
       "text": [
        " 0.693448781967\n",
        "BUILD HYPERGRAPH:"
       ]
      },
      {
       "output_type": "stream",
       "stream": "stderr",
       "text": [
        " 0.165403842926\n",
        "BUILD POTENTIALS:"
       ]
      },
      {
       "output_type": "stream",
       "stream": "stderr",
       "text": [
        " 0.210016012192\n",
        "BUILD LP:"
       ]
      },
      {
       "output_type": "stream",
       "stream": "stderr",
       "text": [
        " 1.7264008522\n",
        "SOLVE LP:"
       ]
      },
      {
       "output_type": "stream",
       "stream": "stderr",
       "text": [
        " 0.695187807083\n",
        "BUILD HYPERGRAPH:"
       ]
      },
      {
       "output_type": "stream",
       "stream": "stderr",
       "text": [
        " 0.0478720664978\n",
        "BUILD POTENTIALS:"
       ]
      },
      {
       "output_type": "stream",
       "stream": "stderr",
       "text": [
        " 0.0702359676361\n",
        "BUILD LP:"
       ]
      },
      {
       "output_type": "stream",
       "stream": "stderr",
       "text": [
        " 0.483355998993\n",
        "SOLVE LP:"
       ]
      },
      {
       "output_type": "stream",
       "stream": "stderr",
       "text": [
        " 0.255311012268\n",
        "BUILD HYPERGRAPH:"
       ]
      },
      {
       "output_type": "stream",
       "stream": "stderr",
       "text": [
        " 0.0539920330048\n",
        "BUILD POTENTIALS:"
       ]
      },
      {
       "output_type": "stream",
       "stream": "stderr",
       "text": [
        " 0.0679860115051\n",
        "BUILD LP:"
       ]
      },
      {
       "output_type": "stream",
       "stream": "stderr",
       "text": [
        " 1.16259098053\n",
        "SOLVE LP:"
       ]
      },
      {
       "output_type": "stream",
       "stream": "stderr",
       "text": [
        " 0.255546092987\n",
        "BUILD HYPERGRAPH:"
       ]
      },
      {
       "output_type": "stream",
       "stream": "stderr",
       "text": [
        " 0.170745849609\n",
        "BUILD POTENTIALS:"
       ]
      },
      {
       "output_type": "stream",
       "stream": "stderr",
       "text": [
        " 0.22323513031\n",
        "BUILD LP:"
       ]
      },
      {
       "output_type": "stream",
       "stream": "stderr",
       "text": [
        " 1.60632896423\n",
        "SOLVE LP:"
       ]
      },
      {
       "output_type": "stream",
       "stream": "stderr",
       "text": [
        " 0.674651861191\n",
        "BUILD HYPERGRAPH:"
       ]
      },
      {
       "output_type": "stream",
       "stream": "stderr",
       "text": [
        " 0.164585828781\n",
        "BUILD POTENTIALS:"
       ]
      },
      {
       "output_type": "stream",
       "stream": "stderr",
       "text": [
        " 0.196102142334\n",
        "BUILD LP:"
       ]
      },
      {
       "output_type": "stream",
       "stream": "stderr",
       "text": [
        " 2.27091193199\n",
        "SOLVE LP:"
       ]
      },
      {
       "output_type": "stream",
       "stream": "stderr",
       "text": [
        " 0.691398143768\n",
        "BUILD HYPERGRAPH:"
       ]
      },
      {
       "output_type": "stream",
       "stream": "stderr",
       "text": [
        " 0.0520498752594\n",
        "BUILD POTENTIALS:"
       ]
      },
      {
       "output_type": "stream",
       "stream": "stderr",
       "text": [
        " 0.0624940395355\n",
        "BUILD LP:"
       ]
      },
      {
       "output_type": "stream",
       "stream": "stderr",
       "text": [
        " 0.512625932693\n",
        "SOLVE LP:"
       ]
      },
      {
       "output_type": "stream",
       "stream": "stderr",
       "text": [
        " 0.260346889496\n",
        "BUILD HYPERGRAPH:"
       ]
      },
      {
       "output_type": "stream",
       "stream": "stderr",
       "text": [
        " 0.0533621311188\n",
        "BUILD POTENTIALS:"
       ]
      },
      {
       "output_type": "stream",
       "stream": "stderr",
       "text": [
        " 0.0594317913055\n",
        "BUILD LP:"
       ]
      },
      {
       "output_type": "stream",
       "stream": "stderr",
       "text": [
        " 0.507797002792\n",
        "SOLVE LP:"
       ]
      },
      {
       "output_type": "stream",
       "stream": "stderr",
       "text": [
        " 0.238241910934\n",
        "BUILD HYPERGRAPH:"
       ]
      },
      {
       "output_type": "stream",
       "stream": "stderr",
       "text": [
        " 0.112043142319\n",
        "BUILD POTENTIALS:"
       ]
      },
      {
       "output_type": "stream",
       "stream": "stderr",
       "text": [
        " 0.145798921585\n",
        "BUILD LP:"
       ]
      },
      {
       "output_type": "stream",
       "stream": "stderr",
       "text": [
        " 0.958925008774\n",
        "SOLVE LP:"
       ]
      },
      {
       "output_type": "stream",
       "stream": "stderr",
       "text": [
        " 0.398667812347\n",
        "BUILD HYPERGRAPH: 0.0218698978424\n",
        "BUILD POTENTIALS:"
       ]
      },
      {
       "output_type": "stream",
       "stream": "stderr",
       "text": [
        " 0.0289189815521\n",
        "BUILD LP:"
       ]
      },
      {
       "output_type": "stream",
       "stream": "stderr",
       "text": [
        " 0.232156991959\n",
        "SOLVE LP:"
       ]
      },
      {
       "output_type": "stream",
       "stream": "stderr",
       "text": [
        " 0.17143201828\n",
        "BUILD HYPERGRAPH:"
       ]
      },
      {
       "output_type": "stream",
       "stream": "stderr",
       "text": [
        " 0.0928218364716\n",
        "BUILD POTENTIALS:"
       ]
      },
      {
       "output_type": "stream",
       "stream": "stderr",
       "text": [
        " 0.128969907761\n",
        "BUILD LP:"
       ]
      },
      {
       "output_type": "stream",
       "stream": "stderr",
       "text": [
        " 0.95397901535\n",
        "SOLVE LP:"
       ]
      },
      {
       "output_type": "stream",
       "stream": "stderr",
       "text": [
        " 0.390114068985\n",
        "BUILD HYPERGRAPH:"
       ]
      },
      {
       "output_type": "stream",
       "stream": "stderr",
       "text": [
        " 0.0893800258636\n",
        "BUILD POTENTIALS:"
       ]
      },
      {
       "output_type": "stream",
       "stream": "stderr",
       "text": [
        " 0.123964071274\n",
        "BUILD LP:"
       ]
      },
      {
       "output_type": "stream",
       "stream": "stderr",
       "text": [
        " 0.931993961334\n",
        "SOLVE LP:"
       ]
      },
      {
       "output_type": "stream",
       "stream": "stderr",
       "text": [
        " 0.418561935425\n",
        "BUILD HYPERGRAPH:"
       ]
      },
      {
       "output_type": "stream",
       "stream": "stderr",
       "text": [
        " 0.0897929668427\n",
        "BUILD POTENTIALS:"
       ]
      },
      {
       "output_type": "stream",
       "stream": "stderr",
       "text": [
        " 0.130167961121\n",
        "BUILD LP:"
       ]
      },
      {
       "output_type": "stream",
       "stream": "stderr",
       "text": [
        " 1.64677405357\n",
        "SOLVE LP:"
       ]
      },
      {
       "output_type": "stream",
       "stream": "stderr",
       "text": [
        " 0.394494056702\n",
        "BUILD HYPERGRAPH:"
       ]
      },
      {
       "output_type": "stream",
       "stream": "stderr",
       "text": [
        " 0.0546810626984\n",
        "BUILD POTENTIALS:"
       ]
      },
      {
       "output_type": "stream",
       "stream": "stderr",
       "text": [
        " 0.0747420787811\n",
        "BUILD LP:"
       ]
      },
      {
       "output_type": "stream",
       "stream": "stderr",
       "text": [
        " 0.532469034195\n",
        "SOLVE LP:"
       ]
      },
      {
       "output_type": "stream",
       "stream": "stderr",
       "text": [
        " 0.248706102371\n",
        "BUILD HYPERGRAPH: 0.0100560188293\n",
        "BUILD POTENTIALS: 0.0120780467987\n",
        "BUILD LP:"
       ]
      },
      {
       "output_type": "stream",
       "stream": "stderr",
       "text": [
        " 0.109508037567\n",
        "SOLVE LP:"
       ]
      },
      {
       "output_type": "stream",
       "stream": "stderr",
       "text": [
        " 0.108736991882\n",
        "BUILD HYPERGRAPH: 0.0256509780884\n",
        "BUILD POTENTIALS:"
       ]
      },
      {
       "output_type": "stream",
       "stream": "stderr",
       "text": [
        " 0.0302560329437\n",
        "BUILD LP:"
       ]
      },
      {
       "output_type": "stream",
       "stream": "stderr",
       "text": [
        " 0.244809865952\n",
        "SOLVE LP:"
       ]
      },
      {
       "output_type": "stream",
       "stream": "stderr",
       "text": [
        " 0.163446903229\n",
        "BUILD HYPERGRAPH:"
       ]
      },
      {
       "output_type": "stream",
       "stream": "stderr",
       "text": [
        " 0.0937869548798\n",
        "BUILD POTENTIALS:"
       ]
      },
      {
       "output_type": "stream",
       "stream": "stderr",
       "text": [
        " 0.1263859272\n",
        "BUILD LP:"
       ]
      },
      {
       "output_type": "stream",
       "stream": "stderr",
       "text": [
        " 0.931089162827\n",
        "SOLVE LP:"
       ]
      },
      {
       "output_type": "stream",
       "stream": "stderr",
       "text": [
        " 0.410655021667\n",
        "BUILD HYPERGRAPH:"
       ]
      },
      {
       "output_type": "stream",
       "stream": "stderr",
       "text": [
        " 0.0906238555908\n",
        "BUILD POTENTIALS:"
       ]
      },
      {
       "output_type": "stream",
       "stream": "stderr",
       "text": [
        " 0.133284091949\n",
        "BUILD LP:"
       ]
      },
      {
       "output_type": "stream",
       "stream": "stderr",
       "text": [
        " 0.942355871201\n",
        "SOLVE LP:"
       ]
      },
      {
       "output_type": "stream",
       "stream": "stderr",
       "text": [
        " 0.420571804047\n",
        "BUILD HYPERGRAPH:"
       ]
      },
      {
       "output_type": "stream",
       "stream": "stderr",
       "text": [
        " 0.0929090976715\n",
        "BUILD POTENTIALS:"
       ]
      },
      {
       "output_type": "stream",
       "stream": "stderr",
       "text": [
        " 0.120898008347\n",
        "BUILD LP:"
       ]
      },
      {
       "output_type": "stream",
       "stream": "stderr",
       "text": [
        " 0.937641859055\n",
        "SOLVE LP:"
       ]
      },
      {
       "output_type": "stream",
       "stream": "stderr",
       "text": [
        " 0.406635046005\n",
        "BUILD HYPERGRAPH:"
       ]
      },
      {
       "output_type": "stream",
       "stream": "stderr",
       "text": [
        " 0.78505396843\n",
        "BUILD POTENTIALS:"
       ]
      },
      {
       "output_type": "stream",
       "stream": "stderr",
       "text": [
        " 0.163865089417\n",
        "BUILD LP:"
       ]
      },
      {
       "output_type": "stream",
       "stream": "stderr",
       "text": [
        " 0.959333181381\n",
        "SOLVE LP:"
       ]
      },
      {
       "output_type": "stream",
       "stream": "stderr",
       "text": [
        " 0.418475866318\n",
        "BUILD HYPERGRAPH:"
       ]
      },
      {
       "output_type": "stream",
       "stream": "stderr",
       "text": [
        " 0.096978187561\n",
        "BUILD POTENTIALS:"
       ]
      },
      {
       "output_type": "stream",
       "stream": "stderr",
       "text": [
        " 0.140277862549\n",
        "BUILD LP:"
       ]
      },
      {
       "output_type": "stream",
       "stream": "stderr",
       "text": [
        " 0.984327793121\n",
        "SOLVE LP:"
       ]
      },
      {
       "output_type": "stream",
       "stream": "stderr",
       "text": [
        " 0.417570114136\n",
        "BUILD HYPERGRAPH:"
       ]
      },
      {
       "output_type": "stream",
       "stream": "stderr",
       "text": [
        " 0.05189204216\n",
        "BUILD POTENTIALS:"
       ]
      },
      {
       "output_type": "stream",
       "stream": "stderr",
       "text": [
        " 0.0677380561829\n",
        "BUILD LP:"
       ]
      },
      {
       "output_type": "stream",
       "stream": "stderr",
       "text": [
        " 0.513749837875\n",
        "SOLVE LP:"
       ]
      },
      {
       "output_type": "stream",
       "stream": "stderr",
       "text": [
        " 0.246704101562\n",
        "BUILD HYPERGRAPH:"
       ]
      },
      {
       "output_type": "stream",
       "stream": "stderr",
       "text": [
        " 0.0637130737305\n",
        "BUILD POTENTIALS:"
       ]
      },
      {
       "output_type": "stream",
       "stream": "stderr",
       "text": [
        " 0.0686268806458\n",
        "BUILD LP:"
       ]
      },
      {
       "output_type": "stream",
       "stream": "stderr",
       "text": [
        " 0.497726202011\n",
        "SOLVE LP:"
       ]
      },
      {
       "output_type": "stream",
       "stream": "stderr",
       "text": [
        " 0.247591972351\n",
        "BUILD HYPERGRAPH:"
       ]
      },
      {
       "output_type": "stream",
       "stream": "stderr",
       "text": [
        " 0.0523710250854\n",
        "BUILD POTENTIALS:"
       ]
      },
      {
       "output_type": "stream",
       "stream": "stderr",
       "text": [
        " 0.0708379745483\n",
        "BUILD LP:"
       ]
      },
      {
       "output_type": "stream",
       "stream": "stderr",
       "text": [
        " 0.499748945236\n",
        "SOLVE LP:"
       ]
      },
      {
       "output_type": "stream",
       "stream": "stderr",
       "text": [
        " 0.244485855103\n",
        "BUILD HYPERGRAPH:"
       ]
      },
      {
       "output_type": "stream",
       "stream": "stderr",
       "text": [
        " 0.0910639762878\n",
        "BUILD POTENTIALS:"
       ]
      },
      {
       "output_type": "stream",
       "stream": "stderr",
       "text": [
        " 0.139250040054\n",
        "BUILD LP:"
       ]
      },
      {
       "output_type": "stream",
       "stream": "stderr",
       "text": [
        " 1.56492900848\n",
        "SOLVE LP:"
       ]
      },
      {
       "output_type": "stream",
       "stream": "stderr",
       "text": [
        " 0.402723073959\n",
        "BUILD HYPERGRAPH: 0.0252978801727\n",
        "BUILD POTENTIALS:"
       ]
      },
      {
       "output_type": "stream",
       "stream": "stderr",
       "text": [
        " 0.0385859012604\n",
        "BUILD LP:"
       ]
      },
      {
       "output_type": "stream",
       "stream": "stderr",
       "text": [
        " 0.262906074524\n",
        "SOLVE LP:"
       ]
      },
      {
       "output_type": "stream",
       "stream": "stderr",
       "text": [
        " 0.163410902023\n",
        "BUILD HYPERGRAPH: 0.0252740383148\n",
        "BUILD POTENTIALS:"
       ]
      },
      {
       "output_type": "stream",
       "stream": "stderr",
       "text": [
        " 0.0344190597534\n",
        "BUILD LP:"
       ]
      },
      {
       "output_type": "stream",
       "stream": "stderr",
       "text": [
        " 0.253871917725\n",
        "SOLVE LP:"
       ]
      },
      {
       "output_type": "stream",
       "stream": "stderr",
       "text": [
        " 0.160547018051\n",
        "BUILD HYPERGRAPH: 0.0293340682983\n",
        "BUILD POTENTIALS:"
       ]
      },
      {
       "output_type": "stream",
       "stream": "stderr",
       "text": [
        " 0.0411479473114\n",
        "BUILD LP:"
       ]
      },
      {
       "output_type": "stream",
       "stream": "stderr",
       "text": [
        " 0.27959895134\n",
        "SOLVE LP:"
       ]
      },
      {
       "output_type": "stream",
       "stream": "stderr",
       "text": [
        " 0.184201955795\n",
        "BUILD HYPERGRAPH: 0.013258934021\n",
        "BUILD POTENTIALS: 0.0175650119781\n",
        "BUILD LP:"
       ]
      },
      {
       "output_type": "stream",
       "stream": "stderr",
       "text": [
        " 0.114401817322\n",
        "SOLVE LP:"
       ]
      },
      {
       "output_type": "stream",
       "stream": "stderr",
       "text": [
        " 0.123083114624\n",
        "BUILD HYPERGRAPH:"
       ]
      },
      {
       "output_type": "stream",
       "stream": "stderr",
       "text": [
        " 0.111767053604\n",
        "BUILD POTENTIALS:"
       ]
      },
      {
       "output_type": "stream",
       "stream": "stderr",
       "text": [
        " 0.122179985046\n",
        "BUILD LP:"
       ]
      },
      {
       "output_type": "stream",
       "stream": "stderr",
       "text": [
        " 0.955238103867\n",
        "SOLVE LP:"
       ]
      },
      {
       "output_type": "stream",
       "stream": "stderr",
       "text": [
        " 0.409565925598\n",
        "BUILD HYPERGRAPH:"
       ]
      },
      {
       "output_type": "stream",
       "stream": "stderr",
       "text": [
        " 0.0488319396973\n",
        "BUILD POTENTIALS:"
       ]
      },
      {
       "output_type": "stream",
       "stream": "stderr",
       "text": [
        " 0.0735991001129\n",
        "BUILD LP:"
       ]
      },
      {
       "output_type": "stream",
       "stream": "stderr",
       "text": [
        " 0.53250002861\n",
        "SOLVE LP:"
       ]
      },
      {
       "output_type": "stream",
       "stream": "stderr",
       "text": [
        " 0.296118021011\n",
        "BUILD HYPERGRAPH: 0.00953006744385\n",
        "BUILD POTENTIALS: 0.0155339241028\n",
        "BUILD LP:"
       ]
      },
      {
       "output_type": "stream",
       "stream": "stderr",
       "text": [
        " 0.12499499321\n",
        "SOLVE LP:"
       ]
      },
      {
       "output_type": "stream",
       "stream": "stderr",
       "text": [
        " 0.137000083923\n",
        "BUILD HYPERGRAPH:"
       ]
      },
      {
       "output_type": "stream",
       "stream": "stderr",
       "text": [
        " 0.137938022614\n",
        "BUILD POTENTIALS:"
       ]
      },
      {
       "output_type": "stream",
       "stream": "stderr",
       "text": [
        " 0.128345966339\n",
        "BUILD LP:"
       ]
      },
      {
       "output_type": "stream",
       "stream": "stderr",
       "text": [
        " 1.02381491661\n",
        "SOLVE LP:"
       ]
      },
      {
       "output_type": "stream",
       "stream": "stderr",
       "text": [
        " 0.444061994553\n",
        "BUILD HYPERGRAPH:"
       ]
      },
      {
       "output_type": "stream",
       "stream": "stderr",
       "text": [
        " 0.082328081131\n",
        "BUILD POTENTIALS:"
       ]
      },
      {
       "output_type": "stream",
       "stream": "stderr",
       "text": [
        " 0.0809330940247\n",
        "BUILD LP:"
       ]
      },
      {
       "output_type": "stream",
       "stream": "stderr",
       "text": [
        " 0.514289140701\n",
        "SOLVE LP:"
       ]
      },
      {
       "output_type": "stream",
       "stream": "stderr",
       "text": [
        " 0.264310121536\n",
        "BUILD HYPERGRAPH: 0.0229678153992\n",
        "BUILD POTENTIALS:"
       ]
      },
      {
       "output_type": "stream",
       "stream": "stderr",
       "text": [
        " 0.0361788272858\n",
        "BUILD LP:"
       ]
      },
      {
       "output_type": "stream",
       "stream": "stderr",
       "text": [
        " 0.280607938766\n",
        "SOLVE LP:"
       ]
      },
      {
       "output_type": "stream",
       "stream": "stderr",
       "text": [
        " 0.172428846359\n",
        "BUILD HYPERGRAPH:"
       ]
      },
      {
       "output_type": "stream",
       "stream": "stderr",
       "text": [
        " 0.0894989967346\n",
        "BUILD POTENTIALS:"
       ]
      },
      {
       "output_type": "stream",
       "stream": "stderr",
       "text": [
        " 0.157191991806\n",
        "BUILD LP:"
       ]
      },
      {
       "output_type": "stream",
       "stream": "stderr",
       "text": [
        " 1.66216897964\n",
        "SOLVE LP:"
       ]
      },
      {
       "output_type": "stream",
       "stream": "stderr",
       "text": [
        " 0.414772033691\n",
        "BUILD HYPERGRAPH: 0.00991916656494\n",
        "BUILD POTENTIALS: 0.0165328979492\n",
        "BUILD LP:"
       ]
      },
      {
       "output_type": "stream",
       "stream": "stderr",
       "text": [
        " 0.103799104691\n",
        "SOLVE LP:"
       ]
      },
      {
       "output_type": "stream",
       "stream": "stderr",
       "text": [
        " 0.105849981308\n",
        "BUILD HYPERGRAPH: 0.0347800254822\n",
        "BUILD POTENTIALS:"
       ]
      },
      {
       "output_type": "stream",
       "stream": "stderr",
       "text": [
        " 0.035012960434\n",
        "BUILD LP:"
       ]
      },
      {
       "output_type": "stream",
       "stream": "stderr",
       "text": [
        " 0.248367071152\n",
        "SOLVE LP:"
       ]
      },
      {
       "output_type": "stream",
       "stream": "stderr",
       "text": [
        " 0.152756929398\n",
        "BUILD HYPERGRAPH: 0.0261659622192\n",
        "BUILD POTENTIALS:"
       ]
      },
      {
       "output_type": "stream",
       "stream": "stderr",
       "text": [
        " 0.0329988002777\n",
        "BUILD LP:"
       ]
      },
      {
       "output_type": "stream",
       "stream": "stderr",
       "text": [
        " 0.247166872025\n",
        "SOLVE LP:"
       ]
      },
      {
       "output_type": "stream",
       "stream": "stderr",
       "text": [
        " 0.154126882553\n",
        "BUILD HYPERGRAPH: 0.0151641368866\n",
        "BUILD POTENTIALS: 0.0130171775818\n",
        "BUILD LP:"
       ]
      },
      {
       "output_type": "stream",
       "stream": "stderr",
       "text": [
        " 0.112778186798\n",
        "SOLVE LP:"
       ]
      },
      {
       "output_type": "stream",
       "stream": "stderr",
       "text": [
        " 0.109210014343\n",
        "BUILD HYPERGRAPH: 0.0110878944397\n",
        "BUILD POTENTIALS: 0.0126340389252\n",
        "BUILD LP:"
       ]
      },
      {
       "output_type": "stream",
       "stream": "stderr",
       "text": [
        " 0.100764036179\n",
        "SOLVE LP:"
       ]
      },
      {
       "output_type": "stream",
       "stream": "stderr",
       "text": [
        " 0.105758905411\n",
        "BUILD HYPERGRAPH: 0.0251519680023\n",
        "BUILD POTENTIALS:"
       ]
      },
      {
       "output_type": "stream",
       "stream": "stderr",
       "text": [
        " 0.0375809669495\n",
        "BUILD LP:"
       ]
      },
      {
       "output_type": "stream",
       "stream": "stderr",
       "text": [
        " 0.251055002213\n",
        "SOLVE LP:"
       ]
      },
      {
       "output_type": "stream",
       "stream": "stderr",
       "text": [
        " 0.155066013336\n",
        "BUILD HYPERGRAPH:"
       ]
      },
      {
       "output_type": "stream",
       "stream": "stderr",
       "text": [
        " 0.116940021515\n",
        "BUILD POTENTIALS:"
       ]
      },
      {
       "output_type": "stream",
       "stream": "stderr",
       "text": [
        " 0.157612085342\n",
        "BUILD LP:"
       ]
      },
      {
       "output_type": "stream",
       "stream": "stderr",
       "text": [
        " 0.994522094727\n",
        "SOLVE LP:"
       ]
      },
      {
       "output_type": "stream",
       "stream": "stderr",
       "text": [
        " 0.415565013885\n",
        "BUILD HYPERGRAPH: 0.0127429962158\n",
        "BUILD POTENTIALS: 0.0146300792694\n",
        "BUILD LP:"
       ]
      },
      {
       "output_type": "stream",
       "stream": "stderr",
       "text": [
        " 0.101246833801\n",
        "SOLVE LP:"
       ]
      },
      {
       "output_type": "stream",
       "stream": "stdout",
       "text": [
        "\n",
        "effective learning rate: 1.000000\n",
        "iteration 7\n",
        "avg loss: 0.441327 w: [[  0.  -2.  -1.   3.  -1.   1.  -7.   4.  -1.   2.  -3.  -2.   1.   1.\n",
        "    0.   3.   2.   2.   1.   8.   0.  -1.   6.   1.   9.   0.   7.  -4.\n",
        "    8.   0.   1.   6.   1.   5.  -2.  -2.   0.  -1.  -1.   1.   0.   3.\n",
        "   -2.  -2.   0.   3.   1.   4.   3.  -2.   1.   0.   0.   1.  -6.   4.\n",
        "    1.   5.   1.  -2.   1.   4.   1.  -3.  -1.  -3.   2.   2.   5.   0.\n",
        "    4.   2.  -2.   0.   2.  -3.   0.   2.   1.   8.   0.   6.   1.   5.\n",
        "    1.   5.   2.   1.  -5.   0.   3.  -1.  -1.   5.   0.   1.  -4.   3.\n",
        "    6.   3.  -1.   4.  -1.   4.   5.   2.   5.   2.   2.   1.   1.   1.\n",
        "    6.  -1.   4.   8.   1.   2.  -1.   1.   0.   1.  -6.   1.   4.  -1.\n",
        "    4.   7.   5.   2.   7.   0.   6.   6.   9.   0.  -3.   1.   1.   4.\n",
        "   -2.   1.   0.   1.   4.   1.   0.   0.   0.   0.   1.   1.   4.   2.\n",
        "    0.   0.  -2.   3.   4.   5.   1.  -2.  -1.   1.   3.   1.   0.   4.\n",
        "    2.  -2.   7.   0.   2.   6.   1.   2.   6.  -2.   9.   3.   1.  -1.\n",
        "    2.   3.   3.  -1.   1.   3.   1.   4.  -1.   1.   1.   0.   3.  -1.\n",
        "   -1.   4.  -1.   5.   3.   3.   1.  -1.   3.   4.  -4.   1.   1.  -1.\n",
        "    5.   3.   3.   1.   0.   0.   4.   3.   0.  -6.   0.   6.  -1.   1.\n",
        "   -4.   7.   2.  -2.   4.  -3.   4.   5.   3.   6.  -3.   4.   5.   1.\n",
        "    2.   0.   0.   0.   5.   5.   7.   6.   2.  10.   0.   8.   0.   0.\n",
        "    3.   0.   3.   1.   0.   2.   1.  -5.   1.   1.   2.   4.  -1.  -1.\n",
        "    2.   0.   1.   1.   1.   2.  -1.  -1.   0.   1.   0.  -1.   0.   0.\n",
        "    3.   3.   0.   1.  -1.   0.   3.  -1.   1.   0.   0.   1.   0.   0.\n",
        "   -1.   3.   1.   0.   2.   0.   4.   0.   2.   0.   4.   3.   1.   0.\n",
        "    1.   0.   1.   0.   0.  -1.   0.   2.  -2.   1.  -5.   1.   1.   0.\n",
        "   -1.  -1.   0.   0.  -1.   1.   1.  -1.   0.   1.   1.  -1.   2.   0.\n",
        "    1.   1.   0.   1.   1.  -1.  -1.   0.   5.   1.   2.   2.   2.   4.\n",
        "    4.   3.   3.   3.   0.   1.   1.   3.   0.   3.   5.   2.  -2.   0.\n",
        "    1.   2.   0.   4.   0.   0.   0.   2.   2.  -1.  -1.   1.  17.   0.\n",
        "    6.   1.   0.   2.   0.   0.  -1.   3.   0.   3.   2.  -8.   0.   0.\n",
        "    2.   0.   0.   0.  -2.   2.   3.   3.   3.  -1.   3.]]"
       ]
      },
      {
       "output_type": "stream",
       "stream": "stderr",
       "text": [
        " 0.113265037537\n",
        "BUILD HYPERGRAPH:"
       ]
      },
      {
       "output_type": "stream",
       "stream": "stderr",
       "text": [
        " 0.02596783638\n",
        "BUILD POTENTIALS: 0.0376341342926\n",
        "BUILD LP:"
       ]
      },
      {
       "output_type": "stream",
       "stream": "stderr",
       "text": [
        " 0.246452093124\n",
        "SOLVE LP:"
       ]
      },
      {
       "output_type": "stream",
       "stream": "stderr",
       "text": [
        " 0.15943813324\n",
        "BUILD HYPERGRAPH: 0.00328302383423\n",
        "BUILD POTENTIALS: 0.00477600097656\n",
        "BUILD LP: 0.0317358970642\n",
        "SOLVE LP:"
       ]
      },
      {
       "output_type": "stream",
       "stream": "stderr",
       "text": [
        " 0.0834791660309\n",
        "BUILD HYPERGRAPH: 0.0122051239014\n",
        "BUILD POTENTIALS: 0.0160670280457\n",
        "BUILD LP:"
       ]
      },
      {
       "output_type": "stream",
       "stream": "stderr",
       "text": [
        " 0.104604005814\n",
        "SOLVE LP:"
       ]
      },
      {
       "output_type": "stream",
       "stream": "stderr",
       "text": [
        " 0.111484050751\n",
        "BUILD HYPERGRAPH:"
       ]
      },
      {
       "output_type": "stream",
       "stream": "stderr",
       "text": [
        " 0.0935950279236\n",
        "BUILD POTENTIALS:"
       ]
      },
      {
       "output_type": "stream",
       "stream": "stderr",
       "text": [
        " 0.139014005661\n",
        "BUILD LP:"
       ]
      },
      {
       "output_type": "stream",
       "stream": "stderr",
       "text": [
        " 0.955917835236\n",
        "SOLVE LP:"
       ]
      },
      {
       "output_type": "stream",
       "stream": "stderr",
       "text": [
        " 0.408391952515\n",
        "BUILD HYPERGRAPH:"
       ]
      },
      {
       "output_type": "stream",
       "stream": "stderr",
       "text": [
        " 0.0482552051544\n",
        "BUILD POTENTIALS:"
       ]
      },
      {
       "output_type": "stream",
       "stream": "stderr",
       "text": [
        " 0.0723118782043\n",
        "BUILD LP:"
       ]
      },
      {
       "output_type": "stream",
       "stream": "stderr",
       "text": [
        " 0.519304990768\n",
        "SOLVE LP:"
       ]
      },
      {
       "output_type": "stream",
       "stream": "stderr",
       "text": [
        " 0.304430961609\n",
        "BUILD HYPERGRAPH:"
       ]
      },
      {
       "output_type": "stream",
       "stream": "stderr",
       "text": [
        " 0.0877170562744\n",
        "BUILD POTENTIALS:"
       ]
      },
      {
       "output_type": "stream",
       "stream": "stderr",
       "text": [
        " 0.13427400589\n",
        "BUILD LP:"
       ]
      },
      {
       "output_type": "stream",
       "stream": "stderr",
       "text": [
        " 1.68583297729\n",
        "SOLVE LP:"
       ]
      },
      {
       "output_type": "stream",
       "stream": "stderr",
       "text": [
        " 0.436158895493\n",
        "BUILD HYPERGRAPH: 0.00339889526367\n",
        "BUILD POTENTIALS: 0.00610399246216\n",
        "BUILD LP:"
       ]
      },
      {
       "output_type": "stream",
       "stream": "stderr",
       "text": [
        " 0.0382311344147\n",
        "SOLVE LP:"
       ]
      },
      {
       "output_type": "stream",
       "stream": "stderr",
       "text": [
        " 0.0880329608917\n",
        "BUILD HYPERGRAPH: 0.00607705116272\n",
        "BUILD POTENTIALS: 0.0068531036377\n",
        "BUILD LP:"
       ]
      },
      {
       "output_type": "stream",
       "stream": "stderr",
       "text": [
        " 0.0455901622772\n",
        "SOLVE LP:"
       ]
      },
      {
       "output_type": "stream",
       "stream": "stderr",
       "text": [
        " 0.0929479598999\n",
        "BUILD HYPERGRAPH:"
       ]
      },
      {
       "output_type": "stream",
       "stream": "stderr",
       "text": [
        " 0.0597729682922\n",
        "BUILD POTENTIALS:"
       ]
      },
      {
       "output_type": "stream",
       "stream": "stderr",
       "text": [
        " 0.0743880271912\n",
        "BUILD LP:"
       ]
      },
      {
       "output_type": "stream",
       "stream": "stderr",
       "text": [
        " 0.576910972595\n",
        "SOLVE LP:"
       ]
      },
      {
       "output_type": "stream",
       "stream": "stderr",
       "text": [
        " 0.258696079254\n",
        "BUILD HYPERGRAPH:"
       ]
      },
      {
       "output_type": "stream",
       "stream": "stderr",
       "text": [
        " 0.0961430072784\n",
        "BUILD POTENTIALS:"
       ]
      },
      {
       "output_type": "stream",
       "stream": "stderr",
       "text": [
        " 0.133671998978\n",
        "BUILD LP:"
       ]
      },
      {
       "output_type": "stream",
       "stream": "stderr",
       "text": [
        " 0.950730800629\n",
        "SOLVE LP:"
       ]
      },
      {
       "output_type": "stream",
       "stream": "stderr",
       "text": [
        " 0.403518199921\n",
        "BUILD HYPERGRAPH:"
       ]
      },
      {
       "output_type": "stream",
       "stream": "stderr",
       "text": [
        " 0.0486810207367\n",
        "BUILD POTENTIALS:"
       ]
      },
      {
       "output_type": "stream",
       "stream": "stderr",
       "text": [
        " 0.0703620910645\n",
        "BUILD LP:"
       ]
      },
      {
       "output_type": "stream",
       "stream": "stderr",
       "text": [
        " 0.493815898895\n",
        "SOLVE LP:"
       ]
      },
      {
       "output_type": "stream",
       "stream": "stderr",
       "text": [
        " 0.257120132446\n",
        "BUILD HYPERGRAPH: 0.00951504707336\n",
        "BUILD POTENTIALS: 0.012314081192\n",
        "BUILD LP:"
       ]
      },
      {
       "output_type": "stream",
       "stream": "stderr",
       "text": [
        " 0.0946569442749\n",
        "SOLVE LP:"
       ]
      },
      {
       "output_type": "stream",
       "stream": "stderr",
       "text": [
        " 0.11515712738\n",
        "BUILD HYPERGRAPH: 0.0106060504913\n",
        "BUILD POTENTIALS: 0.0130760669708\n",
        "BUILD LP:"
       ]
      },
      {
       "output_type": "stream",
       "stream": "stderr",
       "text": [
        " 0.101719856262\n",
        "SOLVE LP:"
       ]
      },
      {
       "output_type": "stream",
       "stream": "stderr",
       "text": [
        " 0.107112884521\n",
        "BUILD HYPERGRAPH:"
       ]
      },
      {
       "output_type": "stream",
       "stream": "stderr",
       "text": [
        " 0.0497908592224\n",
        "BUILD POTENTIALS:"
       ]
      },
      {
       "output_type": "stream",
       "stream": "stderr",
       "text": [
        " 0.0621891021729\n",
        "BUILD LP:"
       ]
      },
      {
       "output_type": "stream",
       "stream": "stderr",
       "text": [
        " 0.499732017517\n",
        "SOLVE LP:"
       ]
      },
      {
       "output_type": "stream",
       "stream": "stderr",
       "text": [
        " 0.25759601593\n",
        "BUILD HYPERGRAPH:"
       ]
      },
      {
       "output_type": "stream",
       "stream": "stderr",
       "text": [
        " 0.154746770859\n",
        "BUILD POTENTIALS:"
       ]
      },
      {
       "output_type": "stream",
       "stream": "stderr",
       "text": [
        " 0.208797931671\n",
        "BUILD LP:"
       ]
      },
      {
       "output_type": "stream",
       "stream": "stderr",
       "text": [
        " 2.23858499527\n",
        "SOLVE LP:"
       ]
      },
      {
       "output_type": "stream",
       "stream": "stderr",
       "text": [
        " 0.687694072723\n",
        "BUILD HYPERGRAPH:"
       ]
      },
      {
       "output_type": "stream",
       "stream": "stderr",
       "text": [
        " 0.170822143555\n",
        "BUILD POTENTIALS:"
       ]
      },
      {
       "output_type": "stream",
       "stream": "stderr",
       "text": [
        " 0.207118034363\n",
        "BUILD LP:"
       ]
      },
      {
       "output_type": "stream",
       "stream": "stderr",
       "text": [
        " 1.60520005226\n",
        "SOLVE LP:"
       ]
      },
      {
       "output_type": "stream",
       "stream": "stderr",
       "text": [
        " 0.694175958633\n",
        "BUILD HYPERGRAPH:"
       ]
      },
      {
       "output_type": "stream",
       "stream": "stderr",
       "text": [
        " 0.0486829280853\n",
        "BUILD POTENTIALS:"
       ]
      },
      {
       "output_type": "stream",
       "stream": "stderr",
       "text": [
        " 0.0657780170441\n",
        "BUILD LP:"
       ]
      },
      {
       "output_type": "stream",
       "stream": "stderr",
       "text": [
        " 0.488332033157\n",
        "SOLVE LP:"
       ]
      },
      {
       "output_type": "stream",
       "stream": "stderr",
       "text": [
        " 0.251702785492\n",
        "BUILD HYPERGRAPH:"
       ]
      },
      {
       "output_type": "stream",
       "stream": "stderr",
       "text": [
        " 0.0788149833679\n",
        "BUILD POTENTIALS:"
       ]
      },
      {
       "output_type": "stream",
       "stream": "stderr",
       "text": [
        " 0.0938401222229\n",
        "BUILD LP:"
       ]
      },
      {
       "output_type": "stream",
       "stream": "stderr",
       "text": [
        " 0.505297899246\n",
        "SOLVE LP:"
       ]
      },
      {
       "output_type": "stream",
       "stream": "stderr",
       "text": [
        " 0.241576910019\n",
        "BUILD HYPERGRAPH:"
       ]
      },
      {
       "output_type": "stream",
       "stream": "stderr",
       "text": [
        " 0.158386945724\n",
        "BUILD POTENTIALS:"
       ]
      },
      {
       "output_type": "stream",
       "stream": "stderr",
       "text": [
        " 0.206936836243\n",
        "BUILD LP:"
       ]
      },
      {
       "output_type": "stream",
       "stream": "stderr",
       "text": [
        " 2.28094696999\n",
        "SOLVE LP:"
       ]
      },
      {
       "output_type": "stream",
       "stream": "stderr",
       "text": [
        " 0.667958974838\n",
        "BUILD HYPERGRAPH:"
       ]
      },
      {
       "output_type": "stream",
       "stream": "stderr",
       "text": [
        " 0.170242071152\n",
        "BUILD POTENTIALS:"
       ]
      },
      {
       "output_type": "stream",
       "stream": "stderr",
       "text": [
        " 0.212240934372\n",
        "BUILD LP:"
       ]
      },
      {
       "output_type": "stream",
       "stream": "stderr",
       "text": [
        " 1.60566616058\n",
        "SOLVE LP:"
       ]
      },
      {
       "output_type": "stream",
       "stream": "stderr",
       "text": [
        " 0.675389051437\n",
        "BUILD HYPERGRAPH:"
       ]
      },
      {
       "output_type": "stream",
       "stream": "stderr",
       "text": [
        " 0.0499498844147\n",
        "BUILD POTENTIALS:"
       ]
      },
      {
       "output_type": "stream",
       "stream": "stderr",
       "text": [
        " 0.0617611408234\n",
        "BUILD LP:"
       ]
      },
      {
       "output_type": "stream",
       "stream": "stderr",
       "text": [
        " 0.503776073456\n",
        "SOLVE LP:"
       ]
      },
      {
       "output_type": "stream",
       "stream": "stderr",
       "text": [
        " 0.24047088623\n",
        "BUILD HYPERGRAPH:"
       ]
      },
      {
       "output_type": "stream",
       "stream": "stderr",
       "text": [
        " 0.0474920272827\n",
        "BUILD POTENTIALS:"
       ]
      },
      {
       "output_type": "stream",
       "stream": "stderr",
       "text": [
        " 0.063441991806\n",
        "BUILD LP:"
       ]
      },
      {
       "output_type": "stream",
       "stream": "stderr",
       "text": [
        " 0.484847068787\n",
        "SOLVE LP:"
       ]
      },
      {
       "output_type": "stream",
       "stream": "stderr",
       "text": [
        " 0.241303920746\n",
        "BUILD HYPERGRAPH:"
       ]
      },
      {
       "output_type": "stream",
       "stream": "stderr",
       "text": [
        " 0.0931742191315\n",
        "BUILD POTENTIALS:"
       ]
      },
      {
       "output_type": "stream",
       "stream": "stderr",
       "text": [
        " 0.128885984421\n",
        "BUILD LP:"
       ]
      },
      {
       "output_type": "stream",
       "stream": "stderr",
       "text": [
        " 1.60116505623\n",
        "SOLVE LP:"
       ]
      },
      {
       "output_type": "stream",
       "stream": "stderr",
       "text": [
        " 0.401034116745\n",
        "BUILD HYPERGRAPH:"
       ]
      },
      {
       "output_type": "stream",
       "stream": "stderr",
       "text": [
        " 0.0314040184021\n",
        "BUILD POTENTIALS: 0.0296459197998\n",
        "BUILD LP:"
       ]
      },
      {
       "output_type": "stream",
       "stream": "stderr",
       "text": [
        " 0.249040126801\n",
        "SOLVE LP:"
       ]
      },
      {
       "output_type": "stream",
       "stream": "stderr",
       "text": [
        " 0.157048940659\n",
        "BUILD HYPERGRAPH:"
       ]
      },
      {
       "output_type": "stream",
       "stream": "stderr",
       "text": [
        " 0.107339859009\n",
        "BUILD POTENTIALS:"
       ]
      },
      {
       "output_type": "stream",
       "stream": "stderr",
       "text": [
        " 0.132369995117\n",
        "BUILD LP:"
       ]
      },
      {
       "output_type": "stream",
       "stream": "stderr",
       "text": [
        " 0.986682891846\n",
        "SOLVE LP:"
       ]
      },
      {
       "output_type": "stream",
       "stream": "stderr",
       "text": [
        " 0.419472932816\n",
        "BUILD HYPERGRAPH:"
       ]
      },
      {
       "output_type": "stream",
       "stream": "stderr",
       "text": [
        " 0.0929050445557\n",
        "BUILD POTENTIALS:"
       ]
      },
      {
       "output_type": "stream",
       "stream": "stderr",
       "text": [
        " 0.126713991165\n",
        "BUILD LP:"
       ]
      },
      {
       "output_type": "stream",
       "stream": "stderr",
       "text": [
        " 1.06375217438\n",
        "SOLVE LP:"
       ]
      },
      {
       "output_type": "stream",
       "stream": "stderr",
       "text": [
        " 0.432066917419\n",
        "BUILD HYPERGRAPH:"
       ]
      },
      {
       "output_type": "stream",
       "stream": "stderr",
       "text": [
        " 0.0935151576996\n",
        "BUILD POTENTIALS:"
       ]
      },
      {
       "output_type": "stream",
       "stream": "stderr",
       "text": [
        " 0.133639097214\n",
        "BUILD LP:"
       ]
      },
      {
       "output_type": "stream",
       "stream": "stderr",
       "text": [
        " 0.976947069168\n",
        "SOLVE LP:"
       ]
      },
      {
       "output_type": "stream",
       "stream": "stderr",
       "text": [
        " 0.423262834549\n",
        "BUILD HYPERGRAPH:"
       ]
      },
      {
       "output_type": "stream",
       "stream": "stderr",
       "text": [
        " 0.0462908744812\n",
        "BUILD POTENTIALS:"
       ]
      },
      {
       "output_type": "stream",
       "stream": "stderr",
       "text": [
        " 0.0831060409546\n",
        "BUILD LP:"
       ]
      },
      {
       "output_type": "stream",
       "stream": "stderr",
       "text": [
        " 1.14663290977\n",
        "SOLVE LP:"
       ]
      },
      {
       "output_type": "stream",
       "stream": "stderr",
       "text": [
        " 0.242481946945\n",
        "BUILD HYPERGRAPH: 0.0107851028442\n",
        "BUILD POTENTIALS: 0.0139019489288\n",
        "BUILD LP:"
       ]
      },
      {
       "output_type": "stream",
       "stream": "stderr",
       "text": [
        " 0.116142988205\n",
        "SOLVE LP:"
       ]
      },
      {
       "output_type": "stream",
       "stream": "stderr",
       "text": [
        " 0.117604970932\n",
        "BUILD HYPERGRAPH: 0.0350570678711\n",
        "BUILD POTENTIALS:"
       ]
      },
      {
       "output_type": "stream",
       "stream": "stderr",
       "text": [
        " 0.035697221756\n",
        "BUILD LP:"
       ]
      },
      {
       "output_type": "stream",
       "stream": "stderr",
       "text": [
        " 0.265824079514\n",
        "SOLVE LP:"
       ]
      },
      {
       "output_type": "stream",
       "stream": "stderr",
       "text": [
        " 0.168906927109\n",
        "BUILD HYPERGRAPH:"
       ]
      },
      {
       "output_type": "stream",
       "stream": "stderr",
       "text": [
        " 0.114539861679\n",
        "BUILD POTENTIALS:"
       ]
      },
      {
       "output_type": "stream",
       "stream": "stderr",
       "text": [
        " 0.131142139435\n",
        "BUILD LP:"
       ]
      },
      {
       "output_type": "stream",
       "stream": "stderr",
       "text": [
        " 0.956649065018\n",
        "SOLVE LP:"
       ]
      },
      {
       "output_type": "stream",
       "stream": "stderr",
       "text": [
        " 0.430111885071\n",
        "BUILD HYPERGRAPH:"
       ]
      },
      {
       "output_type": "stream",
       "stream": "stderr",
       "text": [
        " 0.0932340621948\n",
        "BUILD POTENTIALS:"
       ]
      },
      {
       "output_type": "stream",
       "stream": "stderr",
       "text": [
        " 0.141995191574\n",
        "BUILD LP:"
       ]
      },
      {
       "output_type": "stream",
       "stream": "stderr",
       "text": [
        " 0.949004888535\n",
        "SOLVE LP:"
       ]
      },
      {
       "output_type": "stream",
       "stream": "stderr",
       "text": [
        " 0.432781934738\n",
        "BUILD HYPERGRAPH:"
       ]
      },
      {
       "output_type": "stream",
       "stream": "stderr",
       "text": [
        " 0.0984029769897\n",
        "BUILD POTENTIALS:"
       ]
      },
      {
       "output_type": "stream",
       "stream": "stderr",
       "text": [
        " 0.138215780258\n",
        "BUILD LP:"
       ]
      },
      {
       "output_type": "stream",
       "stream": "stderr",
       "text": [
        " 0.958488225937\n",
        "SOLVE LP:"
       ]
      },
      {
       "output_type": "stream",
       "stream": "stderr",
       "text": [
        " 0.440819978714\n",
        "BUILD HYPERGRAPH:"
       ]
      },
      {
       "output_type": "stream",
       "stream": "stderr",
       "text": [
        " 0.0920419692993\n",
        "BUILD POTENTIALS:"
       ]
      },
      {
       "output_type": "stream",
       "stream": "stderr",
       "text": [
        " 0.141862154007\n",
        "BUILD LP:"
       ]
      },
      {
       "output_type": "stream",
       "stream": "stderr",
       "text": [
        " 1.56989812851\n",
        "SOLVE LP:"
       ]
      },
      {
       "output_type": "stream",
       "stream": "stderr",
       "text": [
        " 0.387813091278\n",
        "BUILD HYPERGRAPH:"
       ]
      },
      {
       "output_type": "stream",
       "stream": "stderr",
       "text": [
        " 0.105732917786\n",
        "BUILD POTENTIALS:"
       ]
      },
      {
       "output_type": "stream",
       "stream": "stderr",
       "text": [
        " 0.131244182587\n",
        "BUILD LP:"
       ]
      },
      {
       "output_type": "stream",
       "stream": "stderr",
       "text": [
        " 0.967141866684\n",
        "SOLVE LP:"
       ]
      },
      {
       "output_type": "stream",
       "stream": "stderr",
       "text": [
        " 0.408041954041\n",
        "BUILD HYPERGRAPH:"
       ]
      },
      {
       "output_type": "stream",
       "stream": "stderr",
       "text": [
        " 0.0526938438416\n",
        "BUILD POTENTIALS:"
       ]
      },
      {
       "output_type": "stream",
       "stream": "stderr",
       "text": [
        " 0.0675220489502\n",
        "BUILD LP:"
       ]
      },
      {
       "output_type": "stream",
       "stream": "stderr",
       "text": [
        " 0.503966093063\n",
        "SOLVE LP:"
       ]
      },
      {
       "output_type": "stream",
       "stream": "stderr",
       "text": [
        " 0.243505001068\n",
        "BUILD HYPERGRAPH:"
       ]
      },
      {
       "output_type": "stream",
       "stream": "stderr",
       "text": [
        " 0.0524919033051\n",
        "BUILD POTENTIALS:"
       ]
      },
      {
       "output_type": "stream",
       "stream": "stderr",
       "text": [
        " 0.0609309673309\n",
        "BUILD LP:"
       ]
      },
      {
       "output_type": "stream",
       "stream": "stderr",
       "text": [
        " 0.513540029526\n",
        "SOLVE LP:"
       ]
      },
      {
       "output_type": "stream",
       "stream": "stderr",
       "text": [
        " 0.25532412529\n",
        "BUILD HYPERGRAPH:"
       ]
      },
      {
       "output_type": "stream",
       "stream": "stderr",
       "text": [
        " 0.0518720149994\n",
        "BUILD POTENTIALS:"
       ]
      },
      {
       "output_type": "stream",
       "stream": "stderr",
       "text": [
        " 0.0740609169006\n",
        "BUILD LP:"
       ]
      },
      {
       "output_type": "stream",
       "stream": "stderr",
       "text": [
        " 0.566380977631\n",
        "SOLVE LP:"
       ]
      },
      {
       "output_type": "stream",
       "stream": "stderr",
       "text": [
        " 0.266693115234\n",
        "BUILD HYPERGRAPH:"
       ]
      },
      {
       "output_type": "stream",
       "stream": "stderr",
       "text": [
        " 0.100831031799\n",
        "BUILD POTENTIALS:"
       ]
      },
      {
       "output_type": "stream",
       "stream": "stderr",
       "text": [
        " 0.150606155396\n",
        "BUILD LP:"
       ]
      },
      {
       "output_type": "stream",
       "stream": "stderr",
       "text": [
        " 0.967132091522\n",
        "SOLVE LP:"
       ]
      },
      {
       "output_type": "stream",
       "stream": "stderr",
       "text": [
        " 0.420063972473\n",
        "BUILD HYPERGRAPH: 0.0224189758301\n",
        "BUILD POTENTIALS:"
       ]
      },
      {
       "output_type": "stream",
       "stream": "stderr",
       "text": [
        " 0.0344529151917\n",
        "BUILD LP:"
       ]
      },
      {
       "output_type": "stream",
       "stream": "stderr",
       "text": [
        " 0.245491981506\n",
        "SOLVE LP:"
       ]
      },
      {
       "output_type": "stream",
       "stream": "stderr",
       "text": [
        " 0.155291080475\n",
        "BUILD HYPERGRAPH: 0.0216438770294\n",
        "BUILD POTENTIALS:"
       ]
      },
      {
       "output_type": "stream",
       "stream": "stderr",
       "text": [
        " 0.0321810245514\n",
        "BUILD LP:"
       ]
      },
      {
       "output_type": "stream",
       "stream": "stderr",
       "text": [
        " 0.233826875687\n",
        "SOLVE LP:"
       ]
      },
      {
       "output_type": "stream",
       "stream": "stderr",
       "text": [
        " 0.157801151276\n",
        "BUILD HYPERGRAPH: 0.022558927536\n",
        "BUILD POTENTIALS:"
       ]
      },
      {
       "output_type": "stream",
       "stream": "stderr",
       "text": [
        " 0.0457530021667\n",
        "BUILD LP:"
       ]
      },
      {
       "output_type": "stream",
       "stream": "stderr",
       "text": [
        " 0.253513097763\n",
        "SOLVE LP:"
       ]
      },
      {
       "output_type": "stream",
       "stream": "stderr",
       "text": [
        " 0.154895067215\n",
        "BUILD HYPERGRAPH: 0.0112869739532\n",
        "BUILD POTENTIALS: 0.0180230140686\n",
        "BUILD LP:"
       ]
      },
      {
       "output_type": "stream",
       "stream": "stderr",
       "text": [
        " 0.111624956131\n",
        "SOLVE LP:"
       ]
      },
      {
       "output_type": "stream",
       "stream": "stderr",
       "text": [
        " 0.103968858719\n",
        "BUILD HYPERGRAPH:"
       ]
      },
      {
       "output_type": "stream",
       "stream": "stderr",
       "text": [
        " 0.785139083862\n",
        "BUILD POTENTIALS:"
       ]
      },
      {
       "output_type": "stream",
       "stream": "stderr",
       "text": [
        " 0.145128965378\n",
        "BUILD LP:"
       ]
      },
      {
       "output_type": "stream",
       "stream": "stderr",
       "text": [
        " 0.940936088562\n",
        "SOLVE LP:"
       ]
      },
      {
       "output_type": "stream",
       "stream": "stderr",
       "text": [
        " 0.402350902557\n",
        "BUILD HYPERGRAPH:"
       ]
      },
      {
       "output_type": "stream",
       "stream": "stderr",
       "text": [
        " 0.0900220870972\n",
        "BUILD POTENTIALS:"
       ]
      },
      {
       "output_type": "stream",
       "stream": "stderr",
       "text": [
        " 0.0748119354248\n",
        "BUILD LP:"
       ]
      },
      {
       "output_type": "stream",
       "stream": "stderr",
       "text": [
        " 0.519665002823\n",
        "SOLVE LP:"
       ]
      },
      {
       "output_type": "stream",
       "stream": "stderr",
       "text": [
        " 0.252752065659\n",
        "BUILD HYPERGRAPH: 0.00979399681091\n",
        "BUILD POTENTIALS: 0.0150380134583\n",
        "BUILD LP:"
       ]
      },
      {
       "output_type": "stream",
       "stream": "stderr",
       "text": [
        " 0.106799840927\n",
        "SOLVE LP:"
       ]
      },
      {
       "output_type": "stream",
       "stream": "stderr",
       "text": [
        " 0.123574018478\n",
        "BUILD HYPERGRAPH:"
       ]
      },
      {
       "output_type": "stream",
       "stream": "stderr",
       "text": [
        " 0.102164030075\n",
        "BUILD POTENTIALS:"
       ]
      },
      {
       "output_type": "stream",
       "stream": "stderr",
       "text": [
        " 0.123363018036\n",
        "BUILD LP:"
       ]
      },
      {
       "output_type": "stream",
       "stream": "stderr",
       "text": [
        " 0.932739019394\n",
        "SOLVE LP:"
       ]
      },
      {
       "output_type": "stream",
       "stream": "stderr",
       "text": [
        " 0.408840894699\n",
        "BUILD HYPERGRAPH:"
       ]
      },
      {
       "output_type": "stream",
       "stream": "stderr",
       "text": [
        " 0.0521810054779\n",
        "BUILD POTENTIALS:"
       ]
      },
      {
       "output_type": "stream",
       "stream": "stderr",
       "text": [
        " 0.0607581138611\n",
        "BUILD LP:"
       ]
      },
      {
       "output_type": "stream",
       "stream": "stderr",
       "text": [
        " 0.503838062286\n",
        "SOLVE LP:"
       ]
      },
      {
       "output_type": "stream",
       "stream": "stderr",
       "text": [
        " 0.239003896713\n",
        "BUILD HYPERGRAPH: 0.0222539901733\n",
        "BUILD POTENTIALS:"
       ]
      },
      {
       "output_type": "stream",
       "stream": "stderr",
       "text": [
        " 0.031172990799\n",
        "BUILD LP:"
       ]
      },
      {
       "output_type": "stream",
       "stream": "stderr",
       "text": [
        " 0.256150007248\n",
        "SOLVE LP:"
       ]
      },
      {
       "output_type": "stream",
       "stream": "stderr",
       "text": [
        " 0.167044878006\n",
        "BUILD HYPERGRAPH:"
       ]
      },
      {
       "output_type": "stream",
       "stream": "stderr",
       "text": [
        " 0.0890929698944\n",
        "BUILD POTENTIALS:"
       ]
      },
      {
       "output_type": "stream",
       "stream": "stderr",
       "text": [
        " 0.142979860306\n",
        "BUILD LP:"
       ]
      },
      {
       "output_type": "stream",
       "stream": "stderr",
       "text": [
        " 1.57374286652\n",
        "SOLVE LP:"
       ]
      },
      {
       "output_type": "stream",
       "stream": "stderr",
       "text": [
        " 0.414196968079\n",
        "BUILD HYPERGRAPH: 0.0101161003113\n",
        "BUILD POTENTIALS: 0.019170999527\n",
        "BUILD LP:"
       ]
      },
      {
       "output_type": "stream",
       "stream": "stderr",
       "text": [
        " 0.103790998459\n",
        "SOLVE LP:"
       ]
      },
      {
       "output_type": "stream",
       "stream": "stderr",
       "text": [
        " 0.106377124786\n",
        "BUILD HYPERGRAPH: 0.0275731086731\n",
        "BUILD POTENTIALS:"
       ]
      },
      {
       "output_type": "stream",
       "stream": "stderr",
       "text": [
        " 0.0384268760681\n",
        "BUILD LP:"
       ]
      },
      {
       "output_type": "stream",
       "stream": "stderr",
       "text": [
        " 0.280178070068\n",
        "SOLVE LP:"
       ]
      },
      {
       "output_type": "stream",
       "stream": "stderr",
       "text": [
        " 0.162883996964\n",
        "BUILD HYPERGRAPH: 0.0291740894318\n",
        "BUILD POTENTIALS:"
       ]
      },
      {
       "output_type": "stream",
       "stream": "stderr",
       "text": [
        " 0.0345420837402\n",
        "BUILD LP:"
       ]
      },
      {
       "output_type": "stream",
       "stream": "stderr",
       "text": [
        " 0.257848024368\n",
        "SOLVE LP:"
       ]
      },
      {
       "output_type": "stream",
       "stream": "stderr",
       "text": [
        " 0.155678987503\n",
        "BUILD HYPERGRAPH: 0.010195016861\n",
        "BUILD POTENTIALS: 0.012060880661\n",
        "BUILD LP:"
       ]
      },
      {
       "output_type": "stream",
       "stream": "stderr",
       "text": [
        " 0.104112863541\n",
        "SOLVE LP:"
       ]
      },
      {
       "output_type": "stream",
       "stream": "stderr",
       "text": [
        " 0.121007919312\n",
        "BUILD HYPERGRAPH: 0.0124001502991\n",
        "BUILD POTENTIALS: 0.0135078430176\n",
        "BUILD LP:"
       ]
      },
      {
       "output_type": "stream",
       "stream": "stderr",
       "text": [
        " 0.109535932541\n",
        "SOLVE LP:"
       ]
      },
      {
       "output_type": "stream",
       "stream": "stderr",
       "text": [
        " 0.121606111526\n",
        "BUILD HYPERGRAPH: 0.0270299911499\n",
        "BUILD POTENTIALS:"
       ]
      },
      {
       "output_type": "stream",
       "stream": "stderr",
       "text": [
        " 0.0493700504303\n",
        "BUILD LP:"
       ]
      },
      {
       "output_type": "stream",
       "stream": "stderr",
       "text": [
        " 0.248812913895\n",
        "SOLVE LP:"
       ]
      },
      {
       "output_type": "stream",
       "stream": "stderr",
       "text": [
        " 0.154422998428\n",
        "BUILD HYPERGRAPH:"
       ]
      },
      {
       "output_type": "stream",
       "stream": "stderr",
       "text": [
        " 0.0966100692749\n",
        "BUILD POTENTIALS:"
       ]
      },
      {
       "output_type": "stream",
       "stream": "stderr",
       "text": [
        " 0.148252010345\n",
        "BUILD LP:"
       ]
      },
      {
       "output_type": "stream",
       "stream": "stderr",
       "text": [
        " 0.924058914185\n",
        "SOLVE LP:"
       ]
      },
      {
       "output_type": "stream",
       "stream": "stderr",
       "text": [
        " 0.446170091629\n",
        "BUILD HYPERGRAPH: 0.0139842033386\n",
        "BUILD POTENTIALS:"
       ]
      },
      {
       "output_type": "stream",
       "stream": "stderr",
       "text": [
        " 0.0157680511475\n",
        "BUILD LP:"
       ]
      },
      {
       "output_type": "stream",
       "stream": "stderr",
       "text": [
        " 0.101572990417\n",
        "SOLVE LP:"
       ]
      },
      {
       "output_type": "stream",
       "stream": "stdout",
       "text": [
        "\n",
        "effective learning rate: 1.000000\n",
        "iteration 8\n",
        "avg loss: 0.448980 w: [[  0.  -2.   0.   4.  -2.   2.  -6.   3.   1.   0.  -2.  -2.   1.   1.\n",
        "   -1.   2.   2.   2.   1.   7.  -1.  -1.   8.   1.   9.   0.   6.  -3.\n",
        "    9.   0.   1.   6.   1.   6.  -1.  -3.   1.  -1.   0.   1.   0.   3.\n",
        "   -2.  -2.  -1.   4.   2.   6.   3.  -2.   2.   0.  -1.   2.  -6.   4.\n",
        "    1.   5.   2.  -1.   1.   5.   1.  -2.  -2.  -3.   2.   2.   5.   1.\n",
        "    4.   2.  -3.   2.   1.  -4.   0.   2.   1.   8.  -1.   7.   1.   5.\n",
        "    1.   5.   2.   1.  -5.   0.   3.  -1.  -1.   5.   1.   0.  -4.   2.\n",
        "    6.   4.  -2.   4.  -1.   4.   5.   2.   7.   0.   2.   2.   2.   2.\n",
        "    7.  -1.   4.   9.   1.   1.   0.   1.   1.   1.  -5.   1.   5.   0.\n",
        "    4.   7.   6.   2.   9.   1.   5.   6.  11.  -1.  -4.   1.   0.   4.\n",
        "   -2.  -1.   0.   1.   3.   1.   0.   0.   0.   0.   1.   1.   4.   0.\n",
        "    2.   0.  -1.   3.   4.   8.   1.  -3.  -2.   1.   4.   0.   0.   5.\n",
        "    3.  -1.   7.   0.   2.   8.   1.   2.   7.  -2.  11.   4.   1.  -1.\n",
        "    2.   3.   3.  -1.   1.   3.   1.   4.  -1.   1.   1.   0.   5.  -1.\n",
        "    2.   3.  -1.   4.   3.   2.   2.  -3.   4.   7.  -4.   1.   1.  -2.\n",
        "    5.   3.   4.   2.   0.   0.   5.   1.   0.  -7.   1.   7.  -2.   1.\n",
        "   -4.   7.   3.  -1.   5.  -3.   4.   5.   2.   6.  -2.   4.   4.   1.\n",
        "    3.  -1.   1.   0.   3.   6.   7.   7.   4.  11.   0.  10.   0.   0.\n",
        "    4.   0.   4.   1.   0.   1.   2.  -8.   2.   1.   2.   5.  -1.   0.\n",
        "    2.   0.   1.   1.   1.   2.  -1.  -1.   0.   1.   0.  -1.   0.   0.\n",
        "    3.   3.   0.   1.  -1.   0.   2.  -1.   2.   0.   0.   1.   0.   0.\n",
        "    0.   3.   1.   0.   2.   0.   4.   0.   2.   1.   4.   2.   0.   0.\n",
        "    1.   0.   0.   0.   0.  -1.   0.  -1.  -2.   1.  -4.   1.   2.   0.\n",
        "   -1.  -4.   0.   0.  -1.   1.   1.  -1.   1.   0.   1.   0.   2.   0.\n",
        "    0.   0.   0.   1.   1.  -1.   0.   1.   6.   1.   2.   2.   2.   3.\n",
        "    3.   4.   4.   4.   0.   2.   2.   3.   0.   1.   5.   1.  -1.   0.\n",
        "    1.   1.  -1.   4.   0.   0.   0.   2.   2.  -1.  -1.   1.  20.   0.\n",
        "    6.   1.   0.   2.   0.   0.  -1.   3.   0.   3.   2.  -9.   0.   0.\n",
        "    3.   0.   0.   0.  -2.   2.   3.   3.   3.  -1.   3.]]"
       ]
      },
      {
       "output_type": "stream",
       "stream": "stderr",
       "text": [
        " 0.105648040771\n",
        "BUILD HYPERGRAPH:"
       ]
      },
      {
       "output_type": "stream",
       "stream": "stderr",
       "text": [
        " 0.0248808860779\n",
        "BUILD POTENTIALS: 0.0353081226349\n",
        "BUILD LP:"
       ]
      },
      {
       "output_type": "stream",
       "stream": "stderr",
       "text": [
        " 0.238399982452\n",
        "SOLVE LP:"
       ]
      },
      {
       "output_type": "stream",
       "stream": "stderr",
       "text": [
        " 0.164705991745\n",
        "BUILD HYPERGRAPH: 0.00347304344177\n",
        "BUILD POTENTIALS: 0.00494289398193\n",
        "BUILD LP:"
       ]
      },
      {
       "output_type": "stream",
       "stream": "stderr",
       "text": [
        " 0.0338780879974\n",
        "SOLVE LP:"
       ]
      },
      {
       "output_type": "stream",
       "stream": "stderr",
       "text": [
        " 0.0895090103149\n",
        "BUILD HYPERGRAPH: 0.0102059841156\n",
        "BUILD POTENTIALS: 0.0137209892273\n",
        "BUILD LP:"
       ]
      },
      {
       "output_type": "stream",
       "stream": "stderr",
       "text": [
        " 0.0974400043488\n",
        "SOLVE LP:"
       ]
      },
      {
       "output_type": "stream",
       "stream": "stderr",
       "text": [
        " 0.110839128494\n",
        "BUILD HYPERGRAPH:"
       ]
      },
      {
       "output_type": "stream",
       "stream": "stderr",
       "text": [
        " 0.0943520069122\n",
        "BUILD POTENTIALS:"
       ]
      },
      {
       "output_type": "stream",
       "stream": "stderr",
       "text": [
        " 0.124324083328\n",
        "BUILD LP:"
       ]
      },
      {
       "output_type": "stream",
       "stream": "stderr",
       "text": [
        " 0.940771818161\n",
        "SOLVE LP:"
       ]
      },
      {
       "output_type": "stream",
       "stream": "stderr",
       "text": [
        " 0.401710033417\n",
        "BUILD HYPERGRAPH:"
       ]
      },
      {
       "output_type": "stream",
       "stream": "stderr",
       "text": [
        " 0.0623159408569\n",
        "BUILD POTENTIALS:"
       ]
      },
      {
       "output_type": "stream",
       "stream": "stderr",
       "text": [
        " 0.0721828937531\n",
        "BUILD LP:"
       ]
      },
      {
       "output_type": "stream",
       "stream": "stderr",
       "text": [
        " 0.538056135178\n",
        "SOLVE LP:"
       ]
      },
      {
       "output_type": "stream",
       "stream": "stderr",
       "text": [
        " 0.266265153885\n",
        "BUILD HYPERGRAPH:"
       ]
      },
      {
       "output_type": "stream",
       "stream": "stderr",
       "text": [
        " 0.0916829109192\n",
        "BUILD POTENTIALS:"
       ]
      },
      {
       "output_type": "stream",
       "stream": "stderr",
       "text": [
        " 0.128515005112\n",
        "BUILD LP:"
       ]
      },
      {
       "output_type": "stream",
       "stream": "stderr",
       "text": [
        " 1.62376785278\n",
        "SOLVE LP:"
       ]
      },
      {
       "output_type": "stream",
       "stream": "stderr",
       "text": [
        " 0.416493177414\n",
        "BUILD HYPERGRAPH: 0.00451421737671\n",
        "BUILD POTENTIALS: 0.00666093826294\n",
        "BUILD LP:"
       ]
      },
      {
       "output_type": "stream",
       "stream": "stderr",
       "text": [
        " 0.0372779369354\n",
        "SOLVE LP:"
       ]
      },
      {
       "output_type": "stream",
       "stream": "stderr",
       "text": [
        " 0.0854201316833\n",
        "BUILD HYPERGRAPH: 0.00442504882812\n",
        "BUILD POTENTIALS: 0.00626397132874\n",
        "BUILD LP:"
       ]
      },
      {
       "output_type": "stream",
       "stream": "stderr",
       "text": [
        " 0.0376930236816\n",
        "SOLVE LP:"
       ]
      },
      {
       "output_type": "stream",
       "stream": "stderr",
       "text": [
        " 0.0900099277496\n",
        "BUILD HYPERGRAPH:"
       ]
      },
      {
       "output_type": "stream",
       "stream": "stderr",
       "text": [
        " 0.0635030269623\n",
        "BUILD POTENTIALS:"
       ]
      },
      {
       "output_type": "stream",
       "stream": "stderr",
       "text": [
        " 0.0768811702728\n",
        "BUILD LP:"
       ]
      },
      {
       "output_type": "stream",
       "stream": "stderr",
       "text": [
        " 0.542377948761\n",
        "SOLVE LP:"
       ]
      },
      {
       "output_type": "stream",
       "stream": "stderr",
       "text": [
        " 0.253509044647\n",
        "BUILD HYPERGRAPH:"
       ]
      },
      {
       "output_type": "stream",
       "stream": "stderr",
       "text": [
        " 0.107044935226\n",
        "BUILD POTENTIALS:"
       ]
      },
      {
       "output_type": "stream",
       "stream": "stderr",
       "text": [
        " 0.135157108307\n",
        "BUILD LP:"
       ]
      },
      {
       "output_type": "stream",
       "stream": "stderr",
       "text": [
        " 0.964327812195\n",
        "SOLVE LP:"
       ]
      },
      {
       "output_type": "stream",
       "stream": "stderr",
       "text": [
        " 0.442789793015\n",
        "BUILD HYPERGRAPH:"
       ]
      },
      {
       "output_type": "stream",
       "stream": "stderr",
       "text": [
        " 0.047534942627\n",
        "BUILD POTENTIALS:"
       ]
      },
      {
       "output_type": "stream",
       "stream": "stderr",
       "text": [
        " 0.0765929222107\n",
        "BUILD LP:"
       ]
      },
      {
       "output_type": "stream",
       "stream": "stderr",
       "text": [
        " 0.529979944229\n",
        "SOLVE LP:"
       ]
      },
      {
       "output_type": "stream",
       "stream": "stderr",
       "text": [
        " 0.266247034073\n",
        "BUILD HYPERGRAPH: 0.0116498470306\n",
        "BUILD POTENTIALS: 0.0125329494476\n",
        "BUILD LP:"
       ]
      },
      {
       "output_type": "stream",
       "stream": "stderr",
       "text": [
        " 0.0943009853363\n",
        "SOLVE LP:"
       ]
      },
      {
       "output_type": "stream",
       "stream": "stderr",
       "text": [
        " 0.10763502121\n",
        "BUILD HYPERGRAPH: 0.0164082050323\n",
        "BUILD POTENTIALS: 0.0174391269684\n",
        "BUILD LP:"
       ]
      },
      {
       "output_type": "stream",
       "stream": "stderr",
       "text": [
        " 0.112153053284\n",
        "SOLVE LP:"
       ]
      },
      {
       "output_type": "stream",
       "stream": "stderr",
       "text": [
        " 0.117151021957\n",
        "BUILD HYPERGRAPH:"
       ]
      },
      {
       "output_type": "stream",
       "stream": "stderr",
       "text": [
        " 0.0512850284576\n",
        "BUILD POTENTIALS:"
       ]
      },
      {
       "output_type": "stream",
       "stream": "stderr",
       "text": [
        " 0.0620088577271\n",
        "BUILD LP:"
       ]
      },
      {
       "output_type": "stream",
       "stream": "stderr",
       "text": [
        " 0.50063085556\n",
        "SOLVE LP:"
       ]
      },
      {
       "output_type": "stream",
       "stream": "stderr",
       "text": [
        " 0.240833997726\n",
        "BUILD HYPERGRAPH:"
       ]
      },
      {
       "output_type": "stream",
       "stream": "stderr",
       "text": [
        " 0.171313047409\n",
        "BUILD POTENTIALS:"
       ]
      },
      {
       "output_type": "stream",
       "stream": "stderr",
       "text": [
        " 0.212701797485\n",
        "BUILD LP:"
       ]
      },
      {
       "output_type": "stream",
       "stream": "stderr",
       "text": [
        " 1.58409309387\n",
        "SOLVE LP:"
       ]
      },
      {
       "output_type": "stream",
       "stream": "stderr",
       "text": [
        " 0.651002883911\n",
        "BUILD HYPERGRAPH:"
       ]
      },
      {
       "output_type": "stream",
       "stream": "stderr",
       "text": [
        " 0.835992097855\n",
        "BUILD POTENTIALS:"
       ]
      },
      {
       "output_type": "stream",
       "stream": "stderr",
       "text": [
        " 0.211250066757\n",
        "BUILD LP:"
       ]
      },
      {
       "output_type": "stream",
       "stream": "stderr",
       "text": [
        " 1.61523795128\n",
        "SOLVE LP:"
       ]
      },
      {
       "output_type": "stream",
       "stream": "stderr",
       "text": [
        " 0.728096961975\n",
        "BUILD HYPERGRAPH:"
       ]
      },
      {
       "output_type": "stream",
       "stream": "stderr",
       "text": [
        " 0.0772619247437\n",
        "BUILD POTENTIALS:"
       ]
      },
      {
       "output_type": "stream",
       "stream": "stderr",
       "text": [
        " 0.0692601203918\n",
        "BUILD LP:"
       ]
      },
      {
       "output_type": "stream",
       "stream": "stderr",
       "text": [
        " 0.552356958389\n",
        "SOLVE LP:"
       ]
      },
      {
       "output_type": "stream",
       "stream": "stderr",
       "text": [
        " 0.257170915604\n",
        "BUILD HYPERGRAPH:"
       ]
      },
      {
       "output_type": "stream",
       "stream": "stderr",
       "text": [
        " 0.0559759140015\n",
        "BUILD POTENTIALS:"
       ]
      },
      {
       "output_type": "stream",
       "stream": "stderr",
       "text": [
        " 0.0700120925903\n",
        "BUILD LP:"
       ]
      },
      {
       "output_type": "stream",
       "stream": "stderr",
       "text": [
        " 0.51442694664\n",
        "SOLVE LP:"
       ]
      },
      {
       "output_type": "stream",
       "stream": "stderr",
       "text": [
        " 0.255078077316\n",
        "BUILD HYPERGRAPH:"
       ]
      },
      {
       "output_type": "stream",
       "stream": "stderr",
       "text": [
        " 0.162602901459\n",
        "BUILD POTENTIALS:"
       ]
      },
      {
       "output_type": "stream",
       "stream": "stderr",
       "text": [
        " 0.210058927536\n",
        "BUILD LP:"
       ]
      },
      {
       "output_type": "stream",
       "stream": "stderr",
       "text": [
        " 2.3139359951\n",
        "SOLVE LP:"
       ]
      },
      {
       "output_type": "stream",
       "stream": "stderr",
       "text": [
        " 0.674638986588\n",
        "BUILD HYPERGRAPH:"
       ]
      },
      {
       "output_type": "stream",
       "stream": "stderr",
       "text": [
        " 0.167052984238\n",
        "BUILD POTENTIALS:"
       ]
      },
      {
       "output_type": "stream",
       "stream": "stderr",
       "text": [
        " 0.205247879028\n",
        "BUILD LP:"
       ]
      },
      {
       "output_type": "stream",
       "stream": "stderr",
       "text": [
        " 1.70722794533\n",
        "SOLVE LP:"
       ]
      },
      {
       "output_type": "stream",
       "stream": "stderr",
       "text": [
        " 0.67356300354\n",
        "BUILD HYPERGRAPH:"
       ]
      },
      {
       "output_type": "stream",
       "stream": "stderr",
       "text": [
        " 0.049822807312\n",
        "BUILD POTENTIALS:"
       ]
      },
      {
       "output_type": "stream",
       "stream": "stderr",
       "text": [
        " 0.0606181621552\n",
        "BUILD LP:"
       ]
      },
      {
       "output_type": "stream",
       "stream": "stderr",
       "text": [
        " 0.490546226501\n",
        "SOLVE LP:"
       ]
      },
      {
       "output_type": "stream",
       "stream": "stderr",
       "text": [
        " 0.253926038742\n",
        "BUILD HYPERGRAPH:"
       ]
      },
      {
       "output_type": "stream",
       "stream": "stderr",
       "text": [
        " 0.0484459400177\n",
        "BUILD POTENTIALS:"
       ]
      },
      {
       "output_type": "stream",
       "stream": "stderr",
       "text": [
        " 0.0612859725952\n",
        "BUILD LP:"
       ]
      },
      {
       "output_type": "stream",
       "stream": "stderr",
       "text": [
        " 0.627502202988\n",
        "SOLVE LP:"
       ]
      },
      {
       "output_type": "stream",
       "stream": "stderr",
       "text": [
        " 0.24259185791\n",
        "BUILD HYPERGRAPH:"
       ]
      },
      {
       "output_type": "stream",
       "stream": "stderr",
       "text": [
        " 0.0910408496857\n",
        "BUILD POTENTIALS:"
       ]
      },
      {
       "output_type": "stream",
       "stream": "stderr",
       "text": [
        " 0.131161928177\n",
        "BUILD LP:"
       ]
      },
      {
       "output_type": "stream",
       "stream": "stderr",
       "text": [
        " 1.63317608833\n",
        "SOLVE LP:"
       ]
      },
      {
       "output_type": "stream",
       "stream": "stderr",
       "text": [
        " 0.411530017853\n",
        "BUILD HYPERGRAPH: 0.0258319377899\n",
        "BUILD POTENTIALS:"
       ]
      },
      {
       "output_type": "stream",
       "stream": "stderr",
       "text": [
        " 0.0350120067596\n",
        "BUILD LP:"
       ]
      },
      {
       "output_type": "stream",
       "stream": "stderr",
       "text": [
        " 0.252833127975\n",
        "SOLVE LP:"
       ]
      },
      {
       "output_type": "stream",
       "stream": "stderr",
       "text": [
        " 0.165924072266\n",
        "BUILD HYPERGRAPH:"
       ]
      },
      {
       "output_type": "stream",
       "stream": "stderr",
       "text": [
        " 0.113489151001\n",
        "BUILD POTENTIALS:"
       ]
      },
      {
       "output_type": "stream",
       "stream": "stderr",
       "text": [
        " 0.128750085831\n",
        "BUILD LP:"
       ]
      },
      {
       "output_type": "stream",
       "stream": "stderr",
       "text": [
        " 0.986847877502\n",
        "SOLVE LP:"
       ]
      },
      {
       "output_type": "stream",
       "stream": "stderr",
       "text": [
        " 0.449964046478\n",
        "BUILD HYPERGRAPH:"
       ]
      },
      {
       "output_type": "stream",
       "stream": "stderr",
       "text": [
        " 0.0935990810394\n",
        "BUILD POTENTIALS:"
       ]
      },
      {
       "output_type": "stream",
       "stream": "stderr",
       "text": [
        " 0.135183095932\n",
        "BUILD LP:"
       ]
      },
      {
       "output_type": "stream",
       "stream": "stderr",
       "text": [
        " 0.995069026947\n",
        "SOLVE LP:"
       ]
      },
      {
       "output_type": "stream",
       "stream": "stderr",
       "text": [
        " 0.445954084396\n",
        "BUILD HYPERGRAPH:"
       ]
      },
      {
       "output_type": "stream",
       "stream": "stderr",
       "text": [
        " 0.099848985672\n",
        "BUILD POTENTIALS:"
       ]
      },
      {
       "output_type": "stream",
       "stream": "stderr",
       "text": [
        " 0.129339933395\n",
        "BUILD LP:"
       ]
      },
      {
       "output_type": "stream",
       "stream": "stderr",
       "text": [
        " 0.967510938644\n",
        "SOLVE LP:"
       ]
      },
      {
       "output_type": "stream",
       "stream": "stderr",
       "text": [
        " 0.419326782227\n",
        "BUILD HYPERGRAPH:"
       ]
      },
      {
       "output_type": "stream",
       "stream": "stderr",
       "text": [
        " 0.0469901561737\n",
        "BUILD POTENTIALS:"
       ]
      },
      {
       "output_type": "stream",
       "stream": "stderr",
       "text": [
        " 0.0720198154449\n",
        "BUILD LP:"
       ]
      },
      {
       "output_type": "stream",
       "stream": "stderr",
       "text": [
        " 0.500473976135\n",
        "SOLVE LP:"
       ]
      },
      {
       "output_type": "stream",
       "stream": "stderr",
       "text": [
        " 0.241632223129\n",
        "BUILD HYPERGRAPH: 0.0093150138855\n",
        "BUILD POTENTIALS: 0.0139210224152\n",
        "BUILD LP:"
       ]
      },
      {
       "output_type": "stream",
       "stream": "stderr",
       "text": [
        " 0.0961620807648\n",
        "SOLVE LP:"
       ]
      },
      {
       "output_type": "stream",
       "stream": "stderr",
       "text": [
        " 0.10480093956\n",
        "BUILD HYPERGRAPH: 0.0249190330505\n",
        "BUILD POTENTIALS:"
       ]
      },
      {
       "output_type": "stream",
       "stream": "stderr",
       "text": [
        " 0.028736114502\n",
        "BUILD LP:"
       ]
      },
      {
       "output_type": "stream",
       "stream": "stderr",
       "text": [
        " 0.245751857758\n",
        "SOLVE LP:"
       ]
      },
      {
       "output_type": "stream",
       "stream": "stderr",
       "text": [
        " 0.151684999466\n",
        "BUILD HYPERGRAPH:"
       ]
      },
      {
       "output_type": "stream",
       "stream": "stderr",
       "text": [
        " 0.089026927948\n",
        "BUILD POTENTIALS:"
       ]
      },
      {
       "output_type": "stream",
       "stream": "stderr",
       "text": [
        " 0.120208024979\n",
        "BUILD LP:"
       ]
      },
      {
       "output_type": "stream",
       "stream": "stderr",
       "text": [
        " 1.61938118935\n",
        "SOLVE LP:"
       ]
      },
      {
       "output_type": "stream",
       "stream": "stderr",
       "text": [
        " 0.39558506012\n",
        "BUILD HYPERGRAPH:"
       ]
      },
      {
       "output_type": "stream",
       "stream": "stderr",
       "text": [
        " 0.10126209259\n",
        "BUILD POTENTIALS:"
       ]
      },
      {
       "output_type": "stream",
       "stream": "stderr",
       "text": [
        " 0.206028938293\n",
        "BUILD LP:"
       ]
      },
      {
       "output_type": "stream",
       "stream": "stderr",
       "text": [
        " 0.949903964996\n",
        "SOLVE LP:"
       ]
      },
      {
       "output_type": "stream",
       "stream": "stderr",
       "text": [
        " 0.438707828522\n",
        "BUILD HYPERGRAPH:"
       ]
      },
      {
       "output_type": "stream",
       "stream": "stderr",
       "text": [
        " 0.109139919281\n",
        "BUILD POTENTIALS:"
       ]
      },
      {
       "output_type": "stream",
       "stream": "stderr",
       "text": [
        " 0.134932041168\n",
        "BUILD LP:"
       ]
      },
      {
       "output_type": "stream",
       "stream": "stderr",
       "text": [
        " 1.024725914\n",
        "SOLVE LP:"
       ]
      },
      {
       "output_type": "stream",
       "stream": "stderr",
       "text": [
        " 0.447868824005\n",
        "BUILD HYPERGRAPH:"
       ]
      },
      {
       "output_type": "stream",
       "stream": "stderr",
       "text": [
        " 0.107602119446\n",
        "BUILD POTENTIALS:"
       ]
      },
      {
       "output_type": "stream",
       "stream": "stderr",
       "text": [
        " 0.16174197197\n",
        "BUILD LP:"
       ]
      },
      {
       "output_type": "stream",
       "stream": "stderr",
       "text": [
        " 0.970472097397\n",
        "SOLVE LP:"
       ]
      },
      {
       "output_type": "stream",
       "stream": "stderr",
       "text": [
        " 0.404800891876\n",
        "BUILD HYPERGRAPH:"
       ]
      },
      {
       "output_type": "stream",
       "stream": "stderr",
       "text": [
        " 0.0888700485229\n",
        "BUILD POTENTIALS:"
       ]
      },
      {
       "output_type": "stream",
       "stream": "stderr",
       "text": [
        " 0.121060848236\n",
        "BUILD LP:"
       ]
      },
      {
       "output_type": "stream",
       "stream": "stderr",
       "text": [
        " 1.62065291405\n",
        "SOLVE LP:"
       ]
      },
      {
       "output_type": "stream",
       "stream": "stderr",
       "text": [
        " 0.413068056107\n",
        "BUILD HYPERGRAPH:"
       ]
      },
      {
       "output_type": "stream",
       "stream": "stderr",
       "text": [
        " 0.0523128509521\n",
        "BUILD POTENTIALS:"
       ]
      },
      {
       "output_type": "stream",
       "stream": "stderr",
       "text": [
        " 0.0681841373444\n",
        "BUILD LP:"
       ]
      },
      {
       "output_type": "stream",
       "stream": "stderr",
       "text": [
        " 0.538701057434\n",
        "SOLVE LP:"
       ]
      },
      {
       "output_type": "stream",
       "stream": "stderr",
       "text": [
        " 0.252811908722\n",
        "BUILD HYPERGRAPH:"
       ]
      },
      {
       "output_type": "stream",
       "stream": "stderr",
       "text": [
        " 0.0738289356232\n",
        "BUILD POTENTIALS:"
       ]
      },
      {
       "output_type": "stream",
       "stream": "stderr",
       "text": [
        " 0.0623590946198\n",
        "BUILD LP:"
       ]
      },
      {
       "output_type": "stream",
       "stream": "stderr",
       "text": [
        " 0.511802196503\n",
        "SOLVE LP:"
       ]
      },
      {
       "output_type": "stream",
       "stream": "stderr",
       "text": [
        " 0.269357919693\n",
        "BUILD HYPERGRAPH:"
       ]
      },
      {
       "output_type": "stream",
       "stream": "stderr",
       "text": [
        " 0.0504670143127\n",
        "BUILD POTENTIALS:"
       ]
      },
      {
       "output_type": "stream",
       "stream": "stderr",
       "text": [
        " 0.0712568759918\n",
        "BUILD LP:"
       ]
      },
      {
       "output_type": "stream",
       "stream": "stderr",
       "text": [
        " 0.509443998337\n",
        "SOLVE LP:"
       ]
      },
      {
       "output_type": "stream",
       "stream": "stderr",
       "text": [
        " 0.273766040802\n",
        "BUILD HYPERGRAPH:"
       ]
      },
      {
       "output_type": "stream",
       "stream": "stderr",
       "text": [
        " 0.0961790084839\n",
        "BUILD POTENTIALS:"
       ]
      },
      {
       "output_type": "stream",
       "stream": "stderr",
       "text": [
        " 0.153977870941\n",
        "BUILD LP:"
       ]
      },
      {
       "output_type": "stream",
       "stream": "stderr",
       "text": [
        " 0.942250967026\n",
        "SOLVE LP:"
       ]
      },
      {
       "output_type": "stream",
       "stream": "stderr",
       "text": [
        " 0.407506942749\n",
        "BUILD HYPERGRAPH: 0.0274970531464\n",
        "BUILD POTENTIALS:"
       ]
      },
      {
       "output_type": "stream",
       "stream": "stderr",
       "text": [
        " 0.0332901477814\n",
        "BUILD LP:"
       ]
      },
      {
       "output_type": "stream",
       "stream": "stderr",
       "text": [
        " 0.237176179886\n",
        "SOLVE LP:"
       ]
      },
      {
       "output_type": "stream",
       "stream": "stderr",
       "text": [
        " 0.166486024857\n",
        "BUILD HYPERGRAPH: 0.0222179889679\n",
        "BUILD POTENTIALS:"
       ]
      },
      {
       "output_type": "stream",
       "stream": "stderr",
       "text": [
        " 0.03209400177\n",
        "BUILD LP:"
       ]
      },
      {
       "output_type": "stream",
       "stream": "stderr",
       "text": [
        " 0.231925010681\n",
        "SOLVE LP:"
       ]
      },
      {
       "output_type": "stream",
       "stream": "stderr",
       "text": [
        " 0.152578115463\n",
        "BUILD HYPERGRAPH: 0.0220000743866\n",
        "BUILD POTENTIALS:"
       ]
      },
      {
       "output_type": "stream",
       "stream": "stderr",
       "text": [
        " 0.034735918045\n",
        "BUILD LP:"
       ]
      },
      {
       "output_type": "stream",
       "stream": "stderr",
       "text": [
        " 0.268481969833\n",
        "SOLVE LP:"
       ]
      },
      {
       "output_type": "stream",
       "stream": "stderr",
       "text": [
        " 0.161169052124\n",
        "BUILD HYPERGRAPH: 0.00931715965271\n",
        "BUILD POTENTIALS: 0.0139589309692\n",
        "BUILD LP:"
       ]
      },
      {
       "output_type": "stream",
       "stream": "stderr",
       "text": [
        " 0.0925648212433\n",
        "SOLVE LP:"
       ]
      },
      {
       "output_type": "stream",
       "stream": "stderr",
       "text": [
        " 0.105101108551\n",
        "BUILD HYPERGRAPH:"
       ]
      },
      {
       "output_type": "stream",
       "stream": "stderr",
       "text": [
        " 0.0902771949768\n",
        "BUILD POTENTIALS:"
       ]
      },
      {
       "output_type": "stream",
       "stream": "stderr",
       "text": [
        " 0.112388849258\n",
        "BUILD LP:"
       ]
      },
      {
       "output_type": "stream",
       "stream": "stderr",
       "text": [
        " 0.936672210693\n",
        "SOLVE LP:"
       ]
      },
      {
       "output_type": "stream",
       "stream": "stderr",
       "text": [
        " 0.386145114899\n",
        "BUILD HYPERGRAPH:"
       ]
      },
      {
       "output_type": "stream",
       "stream": "stderr",
       "text": [
        " 0.0501639842987\n",
        "BUILD POTENTIALS:"
       ]
      },
      {
       "output_type": "stream",
       "stream": "stderr",
       "text": [
        " 0.0813019275665\n",
        "BUILD LP:"
       ]
      },
      {
       "output_type": "stream",
       "stream": "stderr",
       "text": [
        " 1.1925330162\n",
        "SOLVE LP:"
       ]
      },
      {
       "output_type": "stream",
       "stream": "stderr",
       "text": [
        " 0.240136861801\n",
        "BUILD HYPERGRAPH: 0.0115280151367\n",
        "BUILD POTENTIALS: 0.0223710536957\n",
        "BUILD LP:"
       ]
      },
      {
       "output_type": "stream",
       "stream": "stderr",
       "text": [
        " 0.116889953613\n",
        "SOLVE LP:"
       ]
      },
      {
       "output_type": "stream",
       "stream": "stderr",
       "text": [
        " 0.106943845749\n",
        "BUILD HYPERGRAPH:"
       ]
      },
      {
       "output_type": "stream",
       "stream": "stderr",
       "text": [
        " 0.104441165924\n",
        "BUILD POTENTIALS:"
       ]
      },
      {
       "output_type": "stream",
       "stream": "stderr",
       "text": [
        " 0.122173070908\n",
        "BUILD LP:"
       ]
      },
      {
       "output_type": "stream",
       "stream": "stderr",
       "text": [
        " 0.955937147141\n",
        "SOLVE LP:"
       ]
      },
      {
       "output_type": "stream",
       "stream": "stderr",
       "text": [
        " 0.420988082886\n",
        "BUILD HYPERGRAPH:"
       ]
      },
      {
       "output_type": "stream",
       "stream": "stderr",
       "text": [
        " 0.0495209693909\n",
        "BUILD POTENTIALS:"
       ]
      },
      {
       "output_type": "stream",
       "stream": "stderr",
       "text": [
        " 0.0645039081573\n",
        "BUILD LP:"
       ]
      },
      {
       "output_type": "stream",
       "stream": "stderr",
       "text": [
        " 0.502035856247\n",
        "SOLVE LP:"
       ]
      },
      {
       "output_type": "stream",
       "stream": "stderr",
       "text": [
        " 0.254431962967\n",
        "BUILD HYPERGRAPH: 0.0230810642242\n",
        "BUILD POTENTIALS:"
       ]
      },
      {
       "output_type": "stream",
       "stream": "stderr",
       "text": [
        " 0.0319499969482\n",
        "BUILD LP:"
       ]
      },
      {
       "output_type": "stream",
       "stream": "stderr",
       "text": [
        " 0.241880893707\n",
        "SOLVE LP:"
       ]
      },
      {
       "output_type": "stream",
       "stream": "stderr",
       "text": [
        " 0.175040960312\n",
        "BUILD HYPERGRAPH:"
       ]
      },
      {
       "output_type": "stream",
       "stream": "stderr",
       "text": [
        " 0.101156949997\n",
        "BUILD POTENTIALS:"
       ]
      },
      {
       "output_type": "stream",
       "stream": "stderr",
       "text": [
        " 0.145351886749\n",
        "BUILD LP:"
       ]
      },
      {
       "output_type": "stream",
       "stream": "stderr",
       "text": [
        " 0.935349941254\n",
        "SOLVE LP:"
       ]
      },
      {
       "output_type": "stream",
       "stream": "stderr",
       "text": [
        " 0.455693006516\n",
        "BUILD HYPERGRAPH: 0.00998091697693\n",
        "BUILD POTENTIALS: 0.0166490077972\n",
        "BUILD LP:"
       ]
      },
      {
       "output_type": "stream",
       "stream": "stderr",
       "text": [
        " 0.0945479869843\n",
        "SOLVE LP:"
       ]
      },
      {
       "output_type": "stream",
       "stream": "stderr",
       "text": [
        " 0.10595202446\n",
        "BUILD HYPERGRAPH: 0.027813911438\n",
        "BUILD POTENTIALS:"
       ]
      },
      {
       "output_type": "stream",
       "stream": "stderr",
       "text": [
        " 0.0342209339142\n",
        "BUILD LP:"
       ]
      },
      {
       "output_type": "stream",
       "stream": "stderr",
       "text": [
        " 0.251207828522\n",
        "SOLVE LP:"
       ]
      },
      {
       "output_type": "stream",
       "stream": "stderr",
       "text": [
        " 0.159016132355\n",
        "BUILD HYPERGRAPH: 0.0226919651031\n",
        "BUILD POTENTIALS:"
       ]
      },
      {
       "output_type": "stream",
       "stream": "stderr",
       "text": [
        " 0.0370659828186\n",
        "BUILD LP:"
       ]
      },
      {
       "output_type": "stream",
       "stream": "stderr",
       "text": [
        " 0.231703996658\n",
        "SOLVE LP:"
       ]
      },
      {
       "output_type": "stream",
       "stream": "stderr",
       "text": [
        " 0.15592622757\n",
        "BUILD HYPERGRAPH: 0.00935816764832\n",
        "BUILD POTENTIALS: 0.0119080543518\n",
        "BUILD LP:"
       ]
      },
      {
       "output_type": "stream",
       "stream": "stderr",
       "text": [
        " 0.0926370620728\n",
        "SOLVE LP:"
       ]
      },
      {
       "output_type": "stream",
       "stream": "stderr",
       "text": [
        " 0.105839014053\n",
        "BUILD HYPERGRAPH: 0.00990605354309\n",
        "BUILD POTENTIALS: 0.0126860141754\n",
        "BUILD LP:"
       ]
      },
      {
       "output_type": "stream",
       "stream": "stderr",
       "text": [
        " 0.0957989692688\n",
        "SOLVE LP:"
       ]
      },
      {
       "output_type": "stream",
       "stream": "stderr",
       "text": [
        " 0.107028961182\n",
        "BUILD HYPERGRAPH: 0.0233111381531\n",
        "BUILD POTENTIALS:"
       ]
      },
      {
       "output_type": "stream",
       "stream": "stderr",
       "text": [
        " 0.0359981060028\n",
        "BUILD LP:"
       ]
      },
      {
       "output_type": "stream",
       "stream": "stderr",
       "text": [
        " 0.290127038956\n",
        "SOLVE LP:"
       ]
      },
      {
       "output_type": "stream",
       "stream": "stderr",
       "text": [
        " 0.151473999023\n",
        "BUILD HYPERGRAPH:"
       ]
      },
      {
       "output_type": "stream",
       "stream": "stderr",
       "text": [
        " 0.0880970954895\n",
        "BUILD POTENTIALS:"
       ]
      },
      {
       "output_type": "stream",
       "stream": "stderr",
       "text": [
        " 0.161860942841\n",
        "BUILD LP:"
       ]
      },
      {
       "output_type": "stream",
       "stream": "stderr",
       "text": [
        " 0.956276893616\n",
        "SOLVE LP:"
       ]
      },
      {
       "output_type": "stream",
       "stream": "stderr",
       "text": [
        " 0.4431848526\n",
        "BUILD HYPERGRAPH: 0.010586977005\n",
        "BUILD POTENTIALS: 0.013781785965\n",
        "BUILD LP:"
       ]
      },
      {
       "output_type": "stream",
       "stream": "stderr",
       "text": [
        " 0.0930027961731\n",
        "SOLVE LP:"
       ]
      },
      {
       "output_type": "stream",
       "stream": "stdout",
       "text": [
        "\n",
        "effective learning rate: 1.000000\n",
        "iteration 9\n",
        "avg loss: 0.474490 w: [[  0.  -2.   0.   5.  -2.   2.  -7.   3.   1.   0.  -2.  -2.   2.   0.\n",
        "    1.   1.   3.   1.   2.   7.  -1.  -1.   6.   3.   9.   0.   6.  -4.\n",
        "    9.   1.   1.   5.   1.   7.   0.  -3.   1.  -1.  -1.   1.   0.   3.\n",
        "   -3.  -2.  -1.   3.   3.   6.   3.  -2.   2.   0.  -1.   2.  -7.   4.\n",
        "    1.   4.   2.  -1.   1.   5.   1.  -4.  -2.  -1.   3.   2.   5.   2.\n",
        "    4.   2.  -2.   2.   1.  -4.   0.   2.   0.   9.  -1.   7.   1.   4.\n",
        "    1.   5.   3.   0.  -6.   0.   4.  -1.  -1.   4.  -1.   0.  -4.   3.\n",
        "    6.   0.  -1.   4.  -1.   4.   5.   2.   8.  -1.   2.   2.   3.   2.\n",
        "    4.   0.   4.   7.   2.   1.   0.   1.   1.   1.  -5.   1.   6.   0.\n",
        "    4.   7.   7.   3.  10.   0.   6.   7.  12.  -2.  -5.   2.   1.   4.\n",
        "   -2.  -1.   0.   2.   4.   1.   0.   0.   0.   0.   1.   1.   4.   2.\n",
        "    1.  -1.  -2.   2.   4.   5.   1.  -3.  -2.   1.   5.  -2.   1.   5.\n",
        "    1.  -1.   9.   1.   3.   7.   2.   3.   8.  -2.  12.   4.   2.  -2.\n",
        "    2.   4.   3.  -1.   1.   4.   1.   4.  -1.   1.   1.   0.   3.   0.\n",
        "    2.   2.   0.   7.   3.   3.   1.  -3.   4.   5.  -4.   2.   1.  -1.\n",
        "    6.   1.   4.   3.  -2.   0.   5.   1.  -1.  -7.   1.   7.  -3.   1.\n",
        "   -3.   8.   2.  -1.   6.  -3.   4.   6.   2.   7.  -1.   4.   4.   0.\n",
        "    4.  -2.   2.   1.   5.   7.   7.   5.   3.  11.   0.  11.   0.   0.\n",
        "    3.  -1.   4.   1.   0.   0.   2.  -6.   2.   1.   1.   4.  -1.  -1.\n",
        "    2.   0.   1.   1.   1.   1.  -1.  -1.   0.   1.   0.  -1.  -1.   0.\n",
        "    4.   4.   0.   1.  -1.   0.   1.  -1.   2.   0.   0.  -1.   0.   0.\n",
        "   -4.   0.   1.   0.   1.   1.   3.   0.   2.   1.   3.   2.   0.   0.\n",
        "    0.   0.   1.   0.   0.  -1.   0.  -1.  -2.   2.  -6.   2.   3.   0.\n",
        "   -2.  -1.   0.   0.  -1.   1.   1.  -1.   1.   1.   1.   1.   2.   0.\n",
        "    0.   0.   0.   1.   1.  -1.   0.   1.   6.   1.   1.   1.   1.   3.\n",
        "    3.   4.   4.   4.   0.   3.   3.   4.   0.   1.   5.   1.  -1.   0.\n",
        "    1.   2.   0.   4.   0.   0.   0.   1.   2.  -1.  -2.   1.  18.   0.\n",
        "    5.   1.   0.   2.   0.   0.  -1.   3.   0.   2.   2. -11.   0.   0.\n",
        "    3.   0.   1.   0.  -2.   2.   4.   4.   4.  -1.   3.]]"
       ]
      },
      {
       "output_type": "stream",
       "stream": "stderr",
       "text": [
        " 0.103526830673\n",
        "BUILD HYPERGRAPH:"
       ]
      },
      {
       "output_type": "stream",
       "stream": "stderr",
       "text": [
        " 0.691630125046\n",
        "BUILD POTENTIALS: 0.0353538990021\n",
        "BUILD LP:"
       ]
      },
      {
       "output_type": "stream",
       "stream": "stderr",
       "text": [
        " 0.233210802078\n",
        "SOLVE LP:"
       ]
      },
      {
       "output_type": "stream",
       "stream": "stderr",
       "text": [
        " 0.152886152267\n",
        "BUILD HYPERGRAPH: 0.00393295288086\n",
        "BUILD POTENTIALS: 0.00669598579407\n",
        "BUILD LP:"
       ]
      },
      {
       "output_type": "stream",
       "stream": "stderr",
       "text": [
        " 0.0367732048035\n",
        "SOLVE LP:"
       ]
      },
      {
       "output_type": "stream",
       "stream": "stderr",
       "text": [
        " 0.0896511077881\n",
        "BUILD HYPERGRAPH: 0.0123760700226\n",
        "BUILD POTENTIALS: 0.0148959159851\n",
        "BUILD LP:"
       ]
      },
      {
       "output_type": "stream",
       "stream": "stderr",
       "text": [
        " 0.108283996582\n",
        "SOLVE LP:"
       ]
      },
      {
       "output_type": "stream",
       "stream": "stderr",
       "text": [
        " 0.124759912491\n",
        "BUILD HYPERGRAPH:"
       ]
      },
      {
       "output_type": "stream",
       "stream": "stderr",
       "text": [
        " 0.101631879807\n",
        "BUILD POTENTIALS:"
       ]
      },
      {
       "output_type": "stream",
       "stream": "stderr",
       "text": [
        " 0.135632038116\n",
        "BUILD LP:"
       ]
      },
      {
       "output_type": "stream",
       "stream": "stderr",
       "text": [
        " 0.978658914566\n",
        "SOLVE LP:"
       ]
      },
      {
       "output_type": "stream",
       "stream": "stderr",
       "text": [
        " 0.407090902328\n",
        "BUILD HYPERGRAPH:"
       ]
      },
      {
       "output_type": "stream",
       "stream": "stderr",
       "text": [
        " 0.0524859428406\n",
        "BUILD POTENTIALS:"
       ]
      },
      {
       "output_type": "stream",
       "stream": "stderr",
       "text": [
        " 0.0778999328613\n",
        "BUILD LP:"
       ]
      },
      {
       "output_type": "stream",
       "stream": "stderr",
       "text": [
        " 0.511393070221\n",
        "SOLVE LP:"
       ]
      },
      {
       "output_type": "stream",
       "stream": "stderr",
       "text": [
        " 0.252017021179\n",
        "BUILD HYPERGRAPH:"
       ]
      },
      {
       "output_type": "stream",
       "stream": "stderr",
       "text": [
        " 0.0939528942108\n",
        "BUILD POTENTIALS:"
       ]
      },
      {
       "output_type": "stream",
       "stream": "stderr",
       "text": [
        " 0.13641500473\n",
        "BUILD LP:"
       ]
      },
      {
       "output_type": "stream",
       "stream": "stderr",
       "text": [
        " 0.941405057907\n",
        "SOLVE LP:"
       ]
      },
      {
       "output_type": "stream",
       "stream": "stderr",
       "text": [
        " 0.411862850189\n",
        "BUILD HYPERGRAPH: 0.00315594673157\n",
        "BUILD POTENTIALS: 0.00510191917419\n",
        "BUILD LP:"
       ]
      },
      {
       "output_type": "stream",
       "stream": "stderr",
       "text": [
        " 0.0328140258789\n",
        "SOLVE LP:"
       ]
      },
      {
       "output_type": "stream",
       "stream": "stderr",
       "text": [
        " 0.0874490737915\n",
        "BUILD HYPERGRAPH: 0.00541305541992\n",
        "BUILD POTENTIALS: 0.00612902641296\n",
        "BUILD LP: 0.0343120098114\n",
        "SOLVE LP:"
       ]
      },
      {
       "output_type": "stream",
       "stream": "stderr",
       "text": [
        " 0.0848789215088\n",
        "BUILD HYPERGRAPH:"
       ]
      },
      {
       "output_type": "stream",
       "stream": "stderr",
       "text": [
        " 0.0531787872314\n",
        "BUILD POTENTIALS:"
       ]
      },
      {
       "output_type": "stream",
       "stream": "stderr",
       "text": [
        " 0.0866851806641\n",
        "BUILD LP:"
       ]
      },
      {
       "output_type": "stream",
       "stream": "stderr",
       "text": [
        " 0.518170118332\n",
        "SOLVE LP:"
       ]
      },
      {
       "output_type": "stream",
       "stream": "stderr",
       "text": [
        " 0.252210140228\n",
        "BUILD HYPERGRAPH:"
       ]
      },
      {
       "output_type": "stream",
       "stream": "stderr",
       "text": [
        " 0.100260972977\n",
        "BUILD POTENTIALS:"
       ]
      },
      {
       "output_type": "stream",
       "stream": "stderr",
       "text": [
        " 0.141264915466\n",
        "BUILD LP:"
       ]
      },
      {
       "output_type": "stream",
       "stream": "stderr",
       "text": [
        " 1.56874704361\n",
        "SOLVE LP:"
       ]
      },
      {
       "output_type": "stream",
       "stream": "stderr",
       "text": [
        " 0.392143964767\n",
        "BUILD HYPERGRAPH:"
       ]
      },
      {
       "output_type": "stream",
       "stream": "stderr",
       "text": [
        " 0.05455493927\n",
        "BUILD POTENTIALS:"
       ]
      },
      {
       "output_type": "stream",
       "stream": "stderr",
       "text": [
        " 0.0685739517212\n",
        "BUILD LP:"
       ]
      },
      {
       "output_type": "stream",
       "stream": "stderr",
       "text": [
        " 0.54126906395\n",
        "SOLVE LP:"
       ]
      },
      {
       "output_type": "stream",
       "stream": "stderr",
       "text": [
        " 0.257889032364\n",
        "BUILD HYPERGRAPH: 0.00986289978027\n",
        "BUILD POTENTIALS: 0.0127971172333\n",
        "BUILD LP:"
       ]
      },
      {
       "output_type": "stream",
       "stream": "stderr",
       "text": [
        " 0.100487947464\n",
        "SOLVE LP:"
       ]
      },
      {
       "output_type": "stream",
       "stream": "stderr",
       "text": [
        " 0.107819080353\n",
        "BUILD HYPERGRAPH: 0.0117089748383\n",
        "BUILD POTENTIALS: 0.0129709243774\n",
        "BUILD LP:"
       ]
      },
      {
       "output_type": "stream",
       "stream": "stderr",
       "text": [
        " 0.102760076523\n",
        "SOLVE LP:"
       ]
      },
      {
       "output_type": "stream",
       "stream": "stderr",
       "text": [
        " 0.104732990265\n",
        "BUILD HYPERGRAPH:"
       ]
      },
      {
       "output_type": "stream",
       "stream": "stderr",
       "text": [
        " 0.0597870349884\n",
        "BUILD POTENTIALS:"
       ]
      },
      {
       "output_type": "stream",
       "stream": "stderr",
       "text": [
        " 0.0673050880432\n",
        "BUILD LP:"
       ]
      },
      {
       "output_type": "stream",
       "stream": "stderr",
       "text": [
        " 0.563412904739\n",
        "SOLVE LP:"
       ]
      },
      {
       "output_type": "stream",
       "stream": "stderr",
       "text": [
        " 0.269974946976\n",
        "BUILD HYPERGRAPH:"
       ]
      },
      {
       "output_type": "stream",
       "stream": "stderr",
       "text": [
        " 0.169359922409\n",
        "BUILD POTENTIALS:"
       ]
      },
      {
       "output_type": "stream",
       "stream": "stderr",
       "text": [
        " 0.210181951523\n",
        "BUILD LP:"
       ]
      },
      {
       "output_type": "stream",
       "stream": "stderr",
       "text": [
        " 1.58961105347\n",
        "SOLVE LP:"
       ]
      },
      {
       "output_type": "stream",
       "stream": "stderr",
       "text": [
        " 0.759482145309\n",
        "BUILD HYPERGRAPH:"
       ]
      },
      {
       "output_type": "stream",
       "stream": "stderr",
       "text": [
        " 0.158691883087\n",
        "BUILD POTENTIALS:"
       ]
      },
      {
       "output_type": "stream",
       "stream": "stderr",
       "text": [
        " 0.220496892929\n",
        "BUILD LP:"
       ]
      },
      {
       "output_type": "stream",
       "stream": "stderr",
       "text": [
        " 2.44142413139\n",
        "SOLVE LP:"
       ]
      },
      {
       "output_type": "stream",
       "stream": "stderr",
       "text": [
        " 0.708256959915\n",
        "BUILD HYPERGRAPH:"
       ]
      },
      {
       "output_type": "stream",
       "stream": "stderr",
       "text": [
        " 0.0566961765289\n",
        "BUILD POTENTIALS:"
       ]
      },
      {
       "output_type": "stream",
       "stream": "stderr",
       "text": [
        " 0.0683550834656\n",
        "BUILD LP:"
       ]
      },
      {
       "output_type": "stream",
       "stream": "stderr",
       "text": [
        " 0.518275976181\n",
        "SOLVE LP:"
       ]
      },
      {
       "output_type": "stream",
       "stream": "stderr",
       "text": [
        " 0.273414850235\n",
        "BUILD HYPERGRAPH:"
       ]
      },
      {
       "output_type": "stream",
       "stream": "stderr",
       "text": [
        " 0.0537419319153\n",
        "BUILD POTENTIALS:"
       ]
      },
      {
       "output_type": "stream",
       "stream": "stderr",
       "text": [
        " 0.0701780319214\n",
        "BUILD LP:"
       ]
      },
      {
       "output_type": "stream",
       "stream": "stderr",
       "text": [
        " 0.525853157043\n",
        "SOLVE LP:"
       ]
      },
      {
       "output_type": "stream",
       "stream": "stderr",
       "text": [
        " 0.309468984604\n",
        "BUILD HYPERGRAPH:"
       ]
      },
      {
       "output_type": "stream",
       "stream": "stderr",
       "text": [
        " 0.330346107483\n",
        "BUILD POTENTIALS:"
       ]
      },
      {
       "output_type": "stream",
       "stream": "stderr",
       "text": [
        " 0.34229183197\n",
        "BUILD LP:"
       ]
      },
      {
       "output_type": "stream",
       "stream": "stderr",
       "text": [
        " 1.60462594032\n",
        "SOLVE LP:"
       ]
      },
      {
       "output_type": "stream",
       "stream": "stderr",
       "text": [
        " 0.664233922958\n",
        "BUILD HYPERGRAPH:"
       ]
      },
      {
       "output_type": "stream",
       "stream": "stderr",
       "text": [
        " 0.849700212479\n",
        "BUILD POTENTIALS:"
       ]
      },
      {
       "output_type": "stream",
       "stream": "stderr",
       "text": [
        " 0.219715118408\n",
        "BUILD LP:"
       ]
      },
      {
       "output_type": "stream",
       "stream": "stderr",
       "text": [
        " 1.57184910774\n",
        "SOLVE LP:"
       ]
      },
      {
       "output_type": "stream",
       "stream": "stderr",
       "text": [
        " 0.674005031586\n",
        "BUILD HYPERGRAPH:"
       ]
      },
      {
       "output_type": "stream",
       "stream": "stderr",
       "text": [
        " 0.0494709014893\n",
        "BUILD POTENTIALS:"
       ]
      },
      {
       "output_type": "stream",
       "stream": "stderr",
       "text": [
        " 0.0560319423676\n",
        "BUILD LP:"
       ]
      },
      {
       "output_type": "stream",
       "stream": "stderr",
       "text": [
        " 0.489665031433\n",
        "SOLVE LP:"
       ]
      },
      {
       "output_type": "stream",
       "stream": "stderr",
       "text": [
        " 0.233518838882\n",
        "BUILD HYPERGRAPH:"
       ]
      },
      {
       "output_type": "stream",
       "stream": "stderr",
       "text": [
        " 0.0540578365326\n",
        "BUILD POTENTIALS:"
       ]
      },
      {
       "output_type": "stream",
       "stream": "stderr",
       "text": [
        " 0.0575270652771\n",
        "BUILD LP:"
       ]
      },
      {
       "output_type": "stream",
       "stream": "stderr",
       "text": [
        " 0.492466926575\n",
        "SOLVE LP:"
       ]
      },
      {
       "output_type": "stream",
       "stream": "stderr",
       "text": [
        " 0.248885154724\n",
        "BUILD HYPERGRAPH:"
       ]
      },
      {
       "output_type": "stream",
       "stream": "stderr",
       "text": [
        " 0.0961821079254\n",
        "BUILD POTENTIALS:"
       ]
      },
      {
       "output_type": "stream",
       "stream": "stderr",
       "text": [
        " 0.138553142548\n",
        "BUILD LP:"
       ]
      },
      {
       "output_type": "stream",
       "stream": "stderr",
       "text": [
        " 0.939621925354\n",
        "SOLVE LP:"
       ]
      },
      {
       "output_type": "stream",
       "stream": "stderr",
       "text": [
        " 0.408924818039\n",
        "BUILD HYPERGRAPH: 0.0220429897308\n",
        "BUILD POTENTIALS:"
       ]
      },
      {
       "output_type": "stream",
       "stream": "stderr",
       "text": [
        " 0.0288560390472\n",
        "BUILD LP:"
       ]
      },
      {
       "output_type": "stream",
       "stream": "stderr",
       "text": [
        " 0.257795810699\n",
        "SOLVE LP:"
       ]
      },
      {
       "output_type": "stream",
       "stream": "stderr",
       "text": [
        " 0.148917913437\n",
        "BUILD HYPERGRAPH:"
       ]
      },
      {
       "output_type": "stream",
       "stream": "stderr",
       "text": [
        " 0.0876498222351\n",
        "BUILD POTENTIALS:"
       ]
      },
      {
       "output_type": "stream",
       "stream": "stderr",
       "text": [
        " 0.123470067978\n",
        "BUILD LP:"
       ]
      },
      {
       "output_type": "stream",
       "stream": "stderr",
       "text": [
        " 1.57455301285\n",
        "SOLVE LP:"
       ]
      },
      {
       "output_type": "stream",
       "stream": "stderr",
       "text": [
        " 0.423253059387\n",
        "BUILD HYPERGRAPH:"
       ]
      },
      {
       "output_type": "stream",
       "stream": "stderr",
       "text": [
        " 0.102577209473\n",
        "BUILD POTENTIALS:"
       ]
      },
      {
       "output_type": "stream",
       "stream": "stderr",
       "text": [
        " 0.138777017593\n",
        "BUILD LP:"
       ]
      },
      {
       "output_type": "stream",
       "stream": "stderr",
       "text": [
        " 1.10814118385\n",
        "SOLVE LP:"
       ]
      },
      {
       "output_type": "stream",
       "stream": "stderr",
       "text": [
        " 0.432183027267\n",
        "BUILD HYPERGRAPH:"
       ]
      },
      {
       "output_type": "stream",
       "stream": "stderr",
       "text": [
        " 0.0953278541565\n",
        "BUILD POTENTIALS:"
       ]
      },
      {
       "output_type": "stream",
       "stream": "stderr",
       "text": [
        " 0.133586883545\n",
        "BUILD LP:"
       ]
      },
      {
       "output_type": "stream",
       "stream": "stderr",
       "text": [
        " 0.975364923477\n",
        "SOLVE LP:"
       ]
      },
      {
       "output_type": "stream",
       "stream": "stderr",
       "text": [
        " 0.426056861877\n",
        "BUILD HYPERGRAPH:"
       ]
      },
      {
       "output_type": "stream",
       "stream": "stderr",
       "text": [
        " 0.0550930500031\n",
        "BUILD POTENTIALS:"
       ]
      },
      {
       "output_type": "stream",
       "stream": "stderr",
       "text": [
        " 0.0772669315338\n",
        "BUILD LP:"
       ]
      },
      {
       "output_type": "stream",
       "stream": "stderr",
       "text": [
        " 0.570631027222\n",
        "SOLVE LP:"
       ]
      },
      {
       "output_type": "stream",
       "stream": "stderr",
       "text": [
        " 0.255629062653\n",
        "BUILD HYPERGRAPH: 0.00981593132019\n",
        "BUILD POTENTIALS: 0.0122361183167\n",
        "BUILD LP:"
       ]
      },
      {
       "output_type": "stream",
       "stream": "stderr",
       "text": [
        " 0.104561805725\n",
        "SOLVE LP:"
       ]
      },
      {
       "output_type": "stream",
       "stream": "stderr",
       "text": [
        " 0.107453107834\n",
        "BUILD HYPERGRAPH: 0.0235760211945\n",
        "BUILD POTENTIALS:"
       ]
      },
      {
       "output_type": "stream",
       "stream": "stderr",
       "text": [
        " 0.0288660526276\n",
        "BUILD LP:"
       ]
      },
      {
       "output_type": "stream",
       "stream": "stderr",
       "text": [
        " 0.282490968704\n",
        "SOLVE LP:"
       ]
      },
      {
       "output_type": "stream",
       "stream": "stderr",
       "text": [
        " 0.21187210083\n",
        "BUILD HYPERGRAPH:"
       ]
      },
      {
       "output_type": "stream",
       "stream": "stderr",
       "text": [
        " 0.0953330993652\n",
        "BUILD POTENTIALS:"
       ]
      },
      {
       "output_type": "stream",
       "stream": "stderr",
       "text": [
        " 0.122577905655\n",
        "BUILD LP:"
       ]
      },
      {
       "output_type": "stream",
       "stream": "stderr",
       "text": [
        " 1.71573615074\n",
        "SOLVE LP:"
       ]
      },
      {
       "output_type": "stream",
       "stream": "stderr",
       "text": [
        " 0.384911060333\n",
        "BUILD HYPERGRAPH:"
       ]
      },
      {
       "output_type": "stream",
       "stream": "stderr",
       "text": [
        " 0.100336074829\n",
        "BUILD POTENTIALS:"
       ]
      },
      {
       "output_type": "stream",
       "stream": "stderr",
       "text": [
        " 0.13667011261\n",
        "BUILD LP:"
       ]
      },
      {
       "output_type": "stream",
       "stream": "stderr",
       "text": [
        " 0.967304944992\n",
        "SOLVE LP:"
       ]
      },
      {
       "output_type": "stream",
       "stream": "stderr",
       "text": [
        " 0.457043170929\n",
        "BUILD HYPERGRAPH:"
       ]
      },
      {
       "output_type": "stream",
       "stream": "stderr",
       "text": [
        " 0.109329938889\n",
        "BUILD POTENTIALS:"
       ]
      },
      {
       "output_type": "stream",
       "stream": "stderr",
       "text": [
        " 0.132402896881\n",
        "BUILD LP:"
       ]
      },
      {
       "output_type": "stream",
       "stream": "stderr",
       "text": [
        " 0.968037843704\n",
        "SOLVE LP:"
       ]
      },
      {
       "output_type": "stream",
       "stream": "stderr",
       "text": [
        " 0.458884954453\n",
        "BUILD HYPERGRAPH:"
       ]
      },
      {
       "output_type": "stream",
       "stream": "stderr",
       "text": [
        " 0.179864883423\n",
        "BUILD POTENTIALS:"
       ]
      },
      {
       "output_type": "stream",
       "stream": "stderr",
       "text": [
        " 0.295989990234\n",
        "BUILD LP:"
       ]
      },
      {
       "output_type": "stream",
       "stream": "stderr",
       "text": [
        " 1.18954110146\n",
        "SOLVE LP:"
       ]
      },
      {
       "output_type": "stream",
       "stream": "stderr",
       "text": [
        " 0.405487060547\n",
        "BUILD HYPERGRAPH:"
       ]
      },
      {
       "output_type": "stream",
       "stream": "stderr",
       "text": [
        " 0.0900461673737\n",
        "BUILD POTENTIALS:"
       ]
      },
      {
       "output_type": "stream",
       "stream": "stderr",
       "text": [
        " 0.117841959\n",
        "BUILD LP:"
       ]
      },
      {
       "output_type": "stream",
       "stream": "stderr",
       "text": [
        " 1.62267279625\n",
        "SOLVE LP:"
       ]
      },
      {
       "output_type": "stream",
       "stream": "stderr",
       "text": [
        " 0.392985105515\n",
        "BUILD HYPERGRAPH:"
       ]
      },
      {
       "output_type": "stream",
       "stream": "stderr",
       "text": [
        " 0.0534429550171\n",
        "BUILD POTENTIALS:"
       ]
      },
      {
       "output_type": "stream",
       "stream": "stderr",
       "text": [
        " 0.0700998306274\n",
        "BUILD LP:"
       ]
      },
      {
       "output_type": "stream",
       "stream": "stderr",
       "text": [
        " 0.522229909897\n",
        "SOLVE LP:"
       ]
      },
      {
       "output_type": "stream",
       "stream": "stderr",
       "text": [
        " 0.25097990036\n",
        "BUILD HYPERGRAPH:"
       ]
      },
      {
       "output_type": "stream",
       "stream": "stderr",
       "text": [
        " 0.0536680221558\n",
        "BUILD POTENTIALS:"
       ]
      },
      {
       "output_type": "stream",
       "stream": "stderr",
       "text": [
        " 0.0611271858215\n",
        "BUILD LP:"
       ]
      },
      {
       "output_type": "stream",
       "stream": "stderr",
       "text": [
        " 0.520391941071\n",
        "SOLVE LP:"
       ]
      },
      {
       "output_type": "stream",
       "stream": "stderr",
       "text": [
        " 0.255036115646\n",
        "BUILD HYPERGRAPH:"
       ]
      },
      {
       "output_type": "stream",
       "stream": "stderr",
       "text": [
        " 0.0526778697968\n",
        "BUILD POTENTIALS:"
       ]
      },
      {
       "output_type": "stream",
       "stream": "stderr",
       "text": [
        " 0.0700378417969\n",
        "BUILD LP:"
       ]
      },
      {
       "output_type": "stream",
       "stream": "stderr",
       "text": [
        " 0.531023979187\n",
        "SOLVE LP:"
       ]
      },
      {
       "output_type": "stream",
       "stream": "stderr",
       "text": [
        " 0.255769014359\n",
        "BUILD HYPERGRAPH:"
       ]
      },
      {
       "output_type": "stream",
       "stream": "stderr",
       "text": [
        " 0.0966730117798\n",
        "BUILD POTENTIALS:"
       ]
      },
      {
       "output_type": "stream",
       "stream": "stderr",
       "text": [
        " 0.140326023102\n",
        "BUILD LP:"
       ]
      },
      {
       "output_type": "stream",
       "stream": "stderr",
       "text": [
        " 0.949304819107\n",
        "SOLVE LP:"
       ]
      },
      {
       "output_type": "stream",
       "stream": "stderr",
       "text": [
        " 0.395580053329\n",
        "BUILD HYPERGRAPH: 0.0257680416107\n",
        "BUILD POTENTIALS:"
       ]
      },
      {
       "output_type": "stream",
       "stream": "stderr",
       "text": [
        " 0.0318920612335\n",
        "BUILD LP:"
       ]
      },
      {
       "output_type": "stream",
       "stream": "stderr",
       "text": [
        " 0.236109972\n",
        "SOLVE LP:"
       ]
      },
      {
       "output_type": "stream",
       "stream": "stderr",
       "text": [
        " 0.155791044235\n",
        "BUILD HYPERGRAPH: 0.0228559970856\n",
        "BUILD POTENTIALS:"
       ]
      },
      {
       "output_type": "stream",
       "stream": "stderr",
       "text": [
        " 0.0323750972748\n",
        "BUILD LP:"
       ]
      },
      {
       "output_type": "stream",
       "stream": "stderr",
       "text": [
        " 0.236857891083\n",
        "SOLVE LP:"
       ]
      },
      {
       "output_type": "stream",
       "stream": "stderr",
       "text": [
        " 0.157902002335\n",
        "BUILD HYPERGRAPH: 0.0224418640137\n",
        "BUILD POTENTIALS:"
       ]
      },
      {
       "output_type": "stream",
       "stream": "stderr",
       "text": [
        " 0.0347330570221\n",
        "BUILD LP:"
       ]
      },
      {
       "output_type": "stream",
       "stream": "stderr",
       "text": [
        " 0.228237867355\n",
        "SOLVE LP:"
       ]
      },
      {
       "output_type": "stream",
       "stream": "stderr",
       "text": [
        " 0.150490045547\n",
        "BUILD HYPERGRAPH: 0.0158808231354\n",
        "BUILD POTENTIALS: 0.0147268772125\n",
        "BUILD LP:"
       ]
      },
      {
       "output_type": "stream",
       "stream": "stderr",
       "text": [
        " 0.0933818817139\n",
        "SOLVE LP:"
       ]
      },
      {
       "output_type": "stream",
       "stream": "stderr",
       "text": [
        " 0.103056907654\n",
        "BUILD HYPERGRAPH:"
       ]
      },
      {
       "output_type": "stream",
       "stream": "stderr",
       "text": [
        " 0.0908868312836\n",
        "BUILD POTENTIALS:"
       ]
      },
      {
       "output_type": "stream",
       "stream": "stderr",
       "text": [
        " 0.108286142349\n",
        "BUILD LP:"
       ]
      },
      {
       "output_type": "stream",
       "stream": "stderr",
       "text": [
        " 0.928691148758\n",
        "SOLVE LP:"
       ]
      },
      {
       "output_type": "stream",
       "stream": "stderr",
       "text": [
        " 0.392999172211\n",
        "BUILD HYPERGRAPH:"
       ]
      },
      {
       "output_type": "stream",
       "stream": "stderr",
       "text": [
        " 0.0469839572906\n",
        "BUILD POTENTIALS:"
       ]
      },
      {
       "output_type": "stream",
       "stream": "stderr",
       "text": [
        " 0.0717129707336\n",
        "BUILD LP:"
       ]
      },
      {
       "output_type": "stream",
       "stream": "stderr",
       "text": [
        " 1.19428300858\n",
        "SOLVE LP:"
       ]
      },
      {
       "output_type": "stream",
       "stream": "stderr",
       "text": [
        " 0.238789081573\n",
        "BUILD HYPERGRAPH: 0.0103211402893\n",
        "BUILD POTENTIALS: 0.0151698589325\n",
        "BUILD LP:"
       ]
      },
      {
       "output_type": "stream",
       "stream": "stderr",
       "text": [
        " 0.104208946228\n",
        "SOLVE LP:"
       ]
      },
      {
       "output_type": "stream",
       "stream": "stderr",
       "text": [
        " 0.114487171173\n",
        "BUILD HYPERGRAPH:"
       ]
      },
      {
       "output_type": "stream",
       "stream": "stderr",
       "text": [
        " 0.113085985184\n",
        "BUILD POTENTIALS:"
       ]
      },
      {
       "output_type": "stream",
       "stream": "stderr",
       "text": [
        " 0.122036218643\n",
        "BUILD LP:"
       ]
      },
      {
       "output_type": "stream",
       "stream": "stderr",
       "text": [
        " 0.970636129379\n",
        "SOLVE LP:"
       ]
      },
      {
       "output_type": "stream",
       "stream": "stderr",
       "text": [
        " 0.411472082138\n",
        "BUILD HYPERGRAPH:"
       ]
      },
      {
       "output_type": "stream",
       "stream": "stderr",
       "text": [
        " 0.0525090694427\n",
        "BUILD POTENTIALS:"
       ]
      },
      {
       "output_type": "stream",
       "stream": "stderr",
       "text": [
        " 0.0601100921631\n",
        "BUILD LP:"
       ]
      },
      {
       "output_type": "stream",
       "stream": "stderr",
       "text": [
        " 0.504249095917\n",
        "SOLVE LP:"
       ]
      },
      {
       "output_type": "stream",
       "stream": "stderr",
       "text": [
        " 0.244004964828\n",
        "BUILD HYPERGRAPH: 0.0221440792084\n",
        "BUILD POTENTIALS:"
       ]
      },
      {
       "output_type": "stream",
       "stream": "stderr",
       "text": [
        " 0.0314409732819\n",
        "BUILD LP:"
       ]
      },
      {
       "output_type": "stream",
       "stream": "stderr",
       "text": [
        " 0.239427089691\n",
        "SOLVE LP:"
       ]
      },
      {
       "output_type": "stream",
       "stream": "stderr",
       "text": [
        " 0.158343076706\n",
        "BUILD HYPERGRAPH:"
       ]
      },
      {
       "output_type": "stream",
       "stream": "stderr",
       "text": [
        " 0.104479074478\n",
        "BUILD POTENTIALS:"
       ]
      },
      {
       "output_type": "stream",
       "stream": "stderr",
       "text": [
        " 0.145485877991\n",
        "BUILD LP:"
       ]
      },
      {
       "output_type": "stream",
       "stream": "stderr",
       "text": [
        " 0.934211969376\n",
        "SOLVE LP:"
       ]
      },
      {
       "output_type": "stream",
       "stream": "stderr",
       "text": [
        " 0.417114973068\n",
        "BUILD HYPERGRAPH: 0.00940918922424\n",
        "BUILD POTENTIALS: 0.0160539150238\n",
        "BUILD LP:"
       ]
      },
      {
       "output_type": "stream",
       "stream": "stderr",
       "text": [
        " 0.0995109081268\n",
        "SOLVE LP:"
       ]
      },
      {
       "output_type": "stream",
       "stream": "stderr",
       "text": [
        " 0.104202032089\n",
        "BUILD HYPERGRAPH: 0.0242218971252\n",
        "BUILD POTENTIALS:"
       ]
      },
      {
       "output_type": "stream",
       "stream": "stderr",
       "text": [
        " 0.0337018966675\n",
        "BUILD LP:"
       ]
      },
      {
       "output_type": "stream",
       "stream": "stderr",
       "text": [
        " 0.240901947021\n",
        "SOLVE LP:"
       ]
      },
      {
       "output_type": "stream",
       "stream": "stderr",
       "text": [
        " 0.153107881546\n",
        "BUILD HYPERGRAPH: 0.0228409767151\n",
        "BUILD POTENTIALS:"
       ]
      },
      {
       "output_type": "stream",
       "stream": "stderr",
       "text": [
        " 0.0320391654968\n",
        "BUILD LP:"
       ]
      },
      {
       "output_type": "stream",
       "stream": "stderr",
       "text": [
        " 0.242254972458\n",
        "SOLVE LP:"
       ]
      },
      {
       "output_type": "stream",
       "stream": "stderr",
       "text": [
        " 0.149999856949\n",
        "BUILD HYPERGRAPH: 0.00904989242554\n",
        "BUILD POTENTIALS: 0.0116720199585\n",
        "BUILD LP:"
       ]
      },
      {
       "output_type": "stream",
       "stream": "stderr",
       "text": [
        " 0.0945990085602\n",
        "SOLVE LP:"
       ]
      },
      {
       "output_type": "stream",
       "stream": "stderr",
       "text": [
        " 0.111265182495\n",
        "BUILD HYPERGRAPH: 0.0181109905243\n",
        "BUILD POTENTIALS: 0.0186791419983\n",
        "BUILD LP:"
       ]
      },
      {
       "output_type": "stream",
       "stream": "stderr",
       "text": [
        " 0.0954451560974\n",
        "SOLVE LP:"
       ]
      },
      {
       "output_type": "stream",
       "stream": "stderr",
       "text": [
        " 0.103469848633\n",
        "BUILD HYPERGRAPH: 0.0257139205933\n",
        "BUILD POTENTIALS:"
       ]
      },
      {
       "output_type": "stream",
       "stream": "stderr",
       "text": [
        " 0.0362160205841\n",
        "BUILD LP:"
       ]
      },
      {
       "output_type": "stream",
       "stream": "stderr",
       "text": [
        " 0.23894906044\n",
        "SOLVE LP:"
       ]
      },
      {
       "output_type": "stream",
       "stream": "stderr",
       "text": [
        " 0.149928808212\n",
        "BUILD HYPERGRAPH:"
       ]
      },
      {
       "output_type": "stream",
       "stream": "stderr",
       "text": [
        " 0.0914449691772\n",
        "BUILD POTENTIALS:"
       ]
      },
      {
       "output_type": "stream",
       "stream": "stderr",
       "text": [
        " 0.139408826828\n",
        "BUILD LP:"
       ]
      },
      {
       "output_type": "stream",
       "stream": "stderr",
       "text": [
        " 1.57247114182\n",
        "SOLVE LP:"
       ]
      },
      {
       "output_type": "stream",
       "stream": "stderr",
       "text": [
        " 0.400567054749\n",
        "BUILD HYPERGRAPH: 0.0108590126038\n",
        "BUILD POTENTIALS: 0.015743970871\n",
        "BUILD LP:"
       ]
      },
      {
       "output_type": "stream",
       "stream": "stderr",
       "text": [
        " 0.10729598999\n",
        "SOLVE LP:"
       ]
      },
      {
       "output_type": "stream",
       "stream": "stdout",
       "text": [
        "\n",
        "effective learning rate: 1.000000\n",
        "iteration 10\n",
        "avg loss: 0.507653 w: [[  0.  -1.   0.   4.  -1.   1.  -7.   3.   1.   0.  -2.  -2.   3.  -1.\n",
        "    1.   3.   5.   2.   2.   7.  -2.  -1.   6.   5.   8.   0.   6.  -5.\n",
        "    9.   0.   2.   5.   1.   6.   0.  -2.   1.  -2.  -1.   3.   1.   3.\n",
        "   -1.  -2.  -1.   4.   3.   9.   3.  -2.   2.   1.  -1.   1.  -7.   4.\n",
        "    1.   4.   2.  -1.   1.   5.   2.  -4.  -2.  -1.   2.   2.   6.   1.\n",
        "    5.   2.  -3.   2.   0.  -4.  -1.   2.   2.  10.  -1.   8.   1.   5.\n",
        "    1.   4.   4.   1.  -5.   0.   4.   0.  -3.   4.   1.   1.  -4.   3.\n",
        "    6.   0.  -1.   5.  -1.   5.   7.   2.   9.  -1.   3.   2.   2.   2.\n",
        "    4.   0.   4.   7.   2.   2.   0.   1.   0.   1.  -6.   1.   5.   0.\n",
        "    5.   6.   8.   3.  10.   0.   7.   7.  12.  -2.  -5.   2.   0.   4.\n",
        "   -1.   0.   0.   1.   5.   1.   0.   0.   0.   0.   1.   1.   5.   1.\n",
        "    1.   0.  -2.   3.   4.   5.   1.  -5.  -1.   2.   7.  -4.   1.   6.\n",
        "    2.  -1.  10.   1.   3.   8.   3.   3.   9.  -2.  14.   4.   3.  -2.\n",
        "    3.   3.   3.   0.   0.   4.   1.   4.  -1.   1.   1.   0.   4.   1.\n",
        "    0.   2.   1.   5.   4.   4.   2.  -5.   5.   7.  -5.   2.   1.  -1.\n",
        "    5.   3.   4.   2.  -1.   0.   6.   2.  -1.  -6.  -1.   7.  -3.   1.\n",
        "   -4.   8.   3.   0.   6.  -3.   5.   6.   4.   6.  -1.   4.   5.   0.\n",
        "    4.  -2.   3.   0.   3.   7.  10.   4.   2.  10.  -1.  11.   0.   0.\n",
        "    3.   0.   5.   1.   0.   0.   2.  -7.   2.   1.   0.   4.  -1.   0.\n",
        "    2.   0.   1.   1.   1.   0.   0.  -1.   0.   1.   0.   0.   0.   0.\n",
        "    4.   4.   0.   1.  -1.   0.   2.  -1.   2.   0.   0.  -2.   0.   0.\n",
        "    0.  -1.   0.   0.   0.   2.   2.   0.   2.   1.   3.   4.   0.   0.\n",
        "   -1.   0.   2.   0.   0.  -1.   0.  -1.  -2.   2.  -5.   2.   3.   0.\n",
        "   -2.  -2.   0.   0.   1.   1.  -1.  -1.   1.   1.   1.   2.   2.   0.\n",
        "    0.   0.   0.   1.   1.  -1.   0.   1.   6.   1.   0.   0.   0.   4.\n",
        "    4.   4.   4.   4.   0.   3.   3.   4.   0.   0.   6.   0.  -1.   0.\n",
        "    1.   3.   1.   4.   0.   0.   0.   3.   2.  -1.  -1.   2.  19.   0.\n",
        "    4.   1.   0.   2.   0.   0.  -1.   3.   0.   1.   2. -11.   0.   0.\n",
        "    3.   0.   1.   0.  -2.   2.   4.   4.   4.  -1.   4.]]"
       ]
      },
      {
       "output_type": "stream",
       "stream": "stderr",
       "text": [
        " 0.106016159058\n",
        "BUILD HYPERGRAPH:"
       ]
      },
      {
       "output_type": "stream",
       "stream": "stderr",
       "text": [
        " 0.0267589092255\n",
        "BUILD POTENTIALS: 0.0393500328064\n",
        "BUILD LP:"
       ]
      },
      {
       "output_type": "stream",
       "stream": "stderr",
       "text": [
        " 0.247107982635\n",
        "SOLVE LP:"
       ]
      },
      {
       "output_type": "stream",
       "stream": "stderr",
       "text": [
        " 0.160093069077\n",
        "BUILD HYPERGRAPH: 0.0068998336792\n",
        "BUILD POTENTIALS: 0.0106720924377\n",
        "BUILD LP:"
       ]
      },
      {
       "output_type": "stream",
       "stream": "stderr",
       "text": [
        " 0.035845041275\n",
        "SOLVE LP:"
       ]
      },
      {
       "output_type": "stream",
       "stream": "stderr",
       "text": [
        " 0.0815691947937\n",
        "BUILD HYPERGRAPH: 0.012767791748\n",
        "BUILD POTENTIALS: 0.0155410766602\n",
        "BUILD LP:"
       ]
      },
      {
       "output_type": "stream",
       "stream": "stderr",
       "text": [
        " 0.110100030899\n",
        "SOLVE LP:"
       ]
      },
      {
       "output_type": "stream",
       "stream": "stderr",
       "text": [
        " 0.109318971634\n",
        "BUILD HYPERGRAPH:"
       ]
      },
      {
       "output_type": "stream",
       "stream": "stderr",
       "text": [
        " 0.10315990448\n",
        "BUILD POTENTIALS:"
       ]
      },
      {
       "output_type": "stream",
       "stream": "stderr",
       "text": [
        " 0.125274181366\n",
        "BUILD LP:"
       ]
      },
      {
       "output_type": "stream",
       "stream": "stderr",
       "text": [
        " 0.943228006363\n",
        "SOLVE LP:"
       ]
      },
      {
       "output_type": "stream",
       "stream": "stderr",
       "text": [
        " 0.415058851242\n",
        "BUILD HYPERGRAPH:"
       ]
      },
      {
       "output_type": "stream",
       "stream": "stderr",
       "text": [
        " 0.0484659671783\n",
        "BUILD POTENTIALS:"
       ]
      },
      {
       "output_type": "stream",
       "stream": "stderr",
       "text": [
        " 0.0697197914124\n",
        "BUILD LP:"
       ]
      },
      {
       "output_type": "stream",
       "stream": "stderr",
       "text": [
        " 0.510786056519\n",
        "SOLVE LP:"
       ]
      },
      {
       "output_type": "stream",
       "stream": "stderr",
       "text": [
        " 0.247779130936\n",
        "BUILD HYPERGRAPH:"
       ]
      },
      {
       "output_type": "stream",
       "stream": "stderr",
       "text": [
        " 0.0917510986328\n",
        "BUILD POTENTIALS:"
       ]
      },
      {
       "output_type": "stream",
       "stream": "stderr",
       "text": [
        " 0.129836082458\n",
        "BUILD LP:"
       ]
      },
      {
       "output_type": "stream",
       "stream": "stderr",
       "text": [
        " 0.926612854004\n",
        "SOLVE LP:"
       ]
      },
      {
       "output_type": "stream",
       "stream": "stderr",
       "text": [
        " 0.413605928421\n",
        "BUILD HYPERGRAPH: 0.00468492507935\n",
        "BUILD POTENTIALS: 0.00721716880798\n",
        "BUILD LP:"
       ]
      },
      {
       "output_type": "stream",
       "stream": "stderr",
       "text": [
        " 0.0429599285126\n",
        "SOLVE LP:"
       ]
      },
      {
       "output_type": "stream",
       "stream": "stderr",
       "text": [
        " 0.0817179679871\n",
        "BUILD HYPERGRAPH: 0.00343418121338\n",
        "BUILD POTENTIALS: 0.00556802749634\n",
        "BUILD LP: 0.0389730930328\n",
        "SOLVE LP:"
       ]
      },
      {
       "output_type": "stream",
       "stream": "stderr",
       "text": [
        " 0.0815000534058\n",
        "BUILD HYPERGRAPH:"
       ]
      },
      {
       "output_type": "stream",
       "stream": "stderr",
       "text": [
        " 0.0552439689636\n",
        "BUILD POTENTIALS:"
       ]
      },
      {
       "output_type": "stream",
       "stream": "stderr",
       "text": [
        " 0.0684449672699\n",
        "BUILD LP:"
       ]
      },
      {
       "output_type": "stream",
       "stream": "stderr",
       "text": [
        " 0.488686084747\n",
        "SOLVE LP:"
       ]
      },
      {
       "output_type": "stream",
       "stream": "stderr",
       "text": [
        " 0.247068166733\n",
        "BUILD HYPERGRAPH:"
       ]
      },
      {
       "output_type": "stream",
       "stream": "stderr",
       "text": [
        " 0.08926820755\n",
        "BUILD POTENTIALS:"
       ]
      },
      {
       "output_type": "stream",
       "stream": "stderr",
       "text": [
        " 0.125632047653\n",
        "BUILD LP:"
       ]
      },
      {
       "output_type": "stream",
       "stream": "stderr",
       "text": [
        " 1.60855293274\n",
        "SOLVE LP:"
       ]
      },
      {
       "output_type": "stream",
       "stream": "stderr",
       "text": [
        " 0.386259078979\n",
        "BUILD HYPERGRAPH:"
       ]
      },
      {
       "output_type": "stream",
       "stream": "stderr",
       "text": [
        " 0.0538260936737\n",
        "BUILD POTENTIALS:"
       ]
      },
      {
       "output_type": "stream",
       "stream": "stderr",
       "text": [
        " 0.0693778991699\n",
        "BUILD LP:"
       ]
      },
      {
       "output_type": "stream",
       "stream": "stderr",
       "text": [
        " 0.520950078964\n",
        "SOLVE LP:"
       ]
      },
      {
       "output_type": "stream",
       "stream": "stderr",
       "text": [
        " 0.241716861725\n",
        "BUILD HYPERGRAPH: 0.0103399753571\n",
        "BUILD POTENTIALS: 0.0131840705872\n",
        "BUILD LP:"
       ]
      },
      {
       "output_type": "stream",
       "stream": "stderr",
       "text": [
        " 0.100916147232\n",
        "SOLVE LP:"
       ]
      },
      {
       "output_type": "stream",
       "stream": "stderr",
       "text": [
        " 0.10742688179\n",
        "BUILD HYPERGRAPH: 0.0109550952911\n",
        "BUILD POTENTIALS: 0.0136950016022\n",
        "BUILD LP:"
       ]
      },
      {
       "output_type": "stream",
       "stream": "stderr",
       "text": [
        " 0.102397918701\n",
        "SOLVE LP:"
       ]
      },
      {
       "output_type": "stream",
       "stream": "stderr",
       "text": [
        " 0.105129003525\n",
        "BUILD HYPERGRAPH:"
       ]
      },
      {
       "output_type": "stream",
       "stream": "stderr",
       "text": [
        " 0.0586268901825\n",
        "BUILD POTENTIALS:"
       ]
      },
      {
       "output_type": "stream",
       "stream": "stderr",
       "text": [
        " 0.0718901157379\n",
        "BUILD LP:"
       ]
      },
      {
       "output_type": "stream",
       "stream": "stderr",
       "text": [
        " 0.517567873001\n",
        "SOLVE LP:"
       ]
      },
      {
       "output_type": "stream",
       "stream": "stderr",
       "text": [
        " 0.251078128815\n",
        "BUILD HYPERGRAPH:"
       ]
      },
      {
       "output_type": "stream",
       "stream": "stderr",
       "text": [
        " 0.166996955872\n",
        "BUILD POTENTIALS:"
       ]
      },
      {
       "output_type": "stream",
       "stream": "stderr",
       "text": [
        " 0.203392028809\n",
        "BUILD LP:"
       ]
      },
      {
       "output_type": "stream",
       "stream": "stderr",
       "text": [
        " 1.59846901894\n",
        "SOLVE LP:"
       ]
      },
      {
       "output_type": "stream",
       "stream": "stderr",
       "text": [
        " 0.6937520504\n",
        "BUILD HYPERGRAPH:"
       ]
      },
      {
       "output_type": "stream",
       "stream": "stderr",
       "text": [
        " 0.184782981873\n",
        "BUILD POTENTIALS:"
       ]
      },
      {
       "output_type": "stream",
       "stream": "stderr",
       "text": [
        " 0.233973026276\n",
        "BUILD LP:"
       ]
      },
      {
       "output_type": "stream",
       "stream": "stderr",
       "text": [
        " 2.28651189804\n",
        "SOLVE LP:"
       ]
      },
      {
       "output_type": "stream",
       "stream": "stderr",
       "text": [
        " 0.677841186523\n",
        "BUILD HYPERGRAPH:"
       ]
      },
      {
       "output_type": "stream",
       "stream": "stderr",
       "text": [
        " 0.0530688762665\n",
        "BUILD POTENTIALS:"
       ]
      },
      {
       "output_type": "stream",
       "stream": "stderr",
       "text": [
        " 0.0740790367126\n",
        "BUILD LP:"
       ]
      },
      {
       "output_type": "stream",
       "stream": "stderr",
       "text": [
        " 0.542308807373\n",
        "SOLVE LP:"
       ]
      },
      {
       "output_type": "stream",
       "stream": "stderr",
       "text": [
        " 0.256713151932\n",
        "BUILD HYPERGRAPH:"
       ]
      },
      {
       "output_type": "stream",
       "stream": "stderr",
       "text": [
        " 0.0501179695129\n",
        "BUILD POTENTIALS:"
       ]
      },
      {
       "output_type": "stream",
       "stream": "stderr",
       "text": [
        " 0.0711281299591\n",
        "BUILD LP:"
       ]
      },
      {
       "output_type": "stream",
       "stream": "stderr",
       "text": [
        " 0.539437055588\n",
        "SOLVE LP:"
       ]
      },
      {
       "output_type": "stream",
       "stream": "stderr",
       "text": [
        " 0.244269132614\n",
        "BUILD HYPERGRAPH:"
       ]
      },
      {
       "output_type": "stream",
       "stream": "stderr",
       "text": [
        " 0.159090042114\n",
        "BUILD POTENTIALS:"
       ]
      },
      {
       "output_type": "stream",
       "stream": "stderr",
       "text": [
        " 0.20515203476\n",
        "BUILD LP:"
       ]
      },
      {
       "output_type": "stream",
       "stream": "stderr",
       "text": [
        " 1.58159399033\n",
        "SOLVE LP:"
       ]
      },
      {
       "output_type": "stream",
       "stream": "stderr",
       "text": [
        " 0.637543201447\n",
        "BUILD HYPERGRAPH:"
       ]
      },
      {
       "output_type": "stream",
       "stream": "stderr",
       "text": [
        " 0.153033971786\n",
        "BUILD POTENTIALS:"
       ]
      },
      {
       "output_type": "stream",
       "stream": "stderr",
       "text": [
        " 0.193625211716\n",
        "BUILD LP:"
       ]
      },
      {
       "output_type": "stream",
       "stream": "stderr",
       "text": [
        " 2.24487686157\n",
        "SOLVE LP:"
       ]
      },
      {
       "output_type": "stream",
       "stream": "stderr",
       "text": [
        " 0.836900949478\n",
        "BUILD HYPERGRAPH:"
       ]
      },
      {
       "output_type": "stream",
       "stream": "stderr",
       "text": [
        " 0.0521578788757\n",
        "BUILD POTENTIALS:"
       ]
      },
      {
       "output_type": "stream",
       "stream": "stderr",
       "text": [
        " 0.106752157211\n",
        "BUILD LP:"
       ]
      },
      {
       "output_type": "stream",
       "stream": "stderr",
       "text": [
        " 0.59664607048\n",
        "SOLVE LP:"
       ]
      },
      {
       "output_type": "stream",
       "stream": "stderr",
       "text": [
        " 0.307739019394\n",
        "BUILD HYPERGRAPH:"
       ]
      },
      {
       "output_type": "stream",
       "stream": "stderr",
       "text": [
        " 0.0575430393219\n",
        "BUILD POTENTIALS:"
       ]
      },
      {
       "output_type": "stream",
       "stream": "stderr",
       "text": [
        " 0.0737950801849\n",
        "BUILD LP:"
       ]
      },
      {
       "output_type": "stream",
       "stream": "stderr",
       "text": [
        " 0.520568847656\n",
        "SOLVE LP:"
       ]
      },
      {
       "output_type": "stream",
       "stream": "stderr",
       "text": [
        " 0.264078140259\n",
        "BUILD HYPERGRAPH:"
       ]
      },
      {
       "output_type": "stream",
       "stream": "stderr",
       "text": [
        " 0.111147165298\n",
        "BUILD POTENTIALS:"
       ]
      },
      {
       "output_type": "stream",
       "stream": "stderr",
       "text": [
        " 0.13693189621\n",
        "BUILD LP:"
       ]
      },
      {
       "output_type": "stream",
       "stream": "stderr",
       "text": [
        " 0.95111989975\n",
        "SOLVE LP:"
       ]
      },
      {
       "output_type": "stream",
       "stream": "stderr",
       "text": [
        " 0.400369167328\n",
        "BUILD HYPERGRAPH:"
       ]
      },
      {
       "output_type": "stream",
       "stream": "stderr",
       "text": [
        " 0.0235810279846\n",
        "BUILD POTENTIALS: 0.0287599563599\n",
        "BUILD LP:"
       ]
      },
      {
       "output_type": "stream",
       "stream": "stderr",
       "text": [
        " 0.234206199646\n",
        "SOLVE LP:"
       ]
      },
      {
       "output_type": "stream",
       "stream": "stderr",
       "text": [
        " 0.157921075821\n",
        "BUILD HYPERGRAPH:"
       ]
      },
      {
       "output_type": "stream",
       "stream": "stderr",
       "text": [
        " 0.100147008896\n",
        "BUILD POTENTIALS:"
       ]
      },
      {
       "output_type": "stream",
       "stream": "stderr",
       "text": [
        " 0.130937814713\n",
        "BUILD LP:"
       ]
      },
      {
       "output_type": "stream",
       "stream": "stderr",
       "text": [
        " 1.58973908424\n",
        "SOLVE LP:"
       ]
      },
      {
       "output_type": "stream",
       "stream": "stderr",
       "text": [
        " 0.403683900833\n",
        "BUILD HYPERGRAPH:"
       ]
      },
      {
       "output_type": "stream",
       "stream": "stderr",
       "text": [
        " 0.100318908691\n",
        "BUILD POTENTIALS:"
       ]
      },
      {
       "output_type": "stream",
       "stream": "stderr",
       "text": [
        " 0.128214120865\n",
        "BUILD LP:"
       ]
      },
      {
       "output_type": "stream",
       "stream": "stderr",
       "text": [
        " 0.961524009705\n",
        "SOLVE LP:"
       ]
      },
      {
       "output_type": "stream",
       "stream": "stderr",
       "text": [
        " 0.408234119415\n",
        "BUILD HYPERGRAPH:"
       ]
      },
      {
       "output_type": "stream",
       "stream": "stderr",
       "text": [
        " 0.0904428958893\n",
        "BUILD POTENTIALS:"
       ]
      },
      {
       "output_type": "stream",
       "stream": "stderr",
       "text": [
        " 0.135783910751\n",
        "BUILD LP:"
       ]
      },
      {
       "output_type": "stream",
       "stream": "stderr",
       "text": [
        " 0.932260990143\n",
        "SOLVE LP:"
       ]
      },
      {
       "output_type": "stream",
       "stream": "stderr",
       "text": [
        " 0.406502962112\n",
        "BUILD HYPERGRAPH:"
       ]
      },
      {
       "output_type": "stream",
       "stream": "stderr",
       "text": [
        " 0.0472331047058\n",
        "BUILD POTENTIALS:"
       ]
      },
      {
       "output_type": "stream",
       "stream": "stderr",
       "text": [
        " 0.0760729312897\n",
        "BUILD LP:"
       ]
      },
      {
       "output_type": "stream",
       "stream": "stderr",
       "text": [
        " 0.562655925751\n",
        "SOLVE LP:"
       ]
      },
      {
       "output_type": "stream",
       "stream": "stderr",
       "text": [
        " 0.244828939438\n",
        "BUILD HYPERGRAPH: 0.00935101509094\n",
        "BUILD POTENTIALS: 0.0115599632263\n",
        "BUILD LP:"
       ]
      },
      {
       "output_type": "stream",
       "stream": "stderr",
       "text": [
        " 0.0944628715515\n",
        "SOLVE LP:"
       ]
      },
      {
       "output_type": "stream",
       "stream": "stderr",
       "text": [
        " 0.106423854828\n",
        "BUILD HYPERGRAPH: 0.0265710353851\n",
        "BUILD POTENTIALS:"
       ]
      },
      {
       "output_type": "stream",
       "stream": "stderr",
       "text": [
        " 0.029296875\n",
        "BUILD LP:"
       ]
      },
      {
       "output_type": "stream",
       "stream": "stderr",
       "text": [
        " 0.231609106064\n",
        "SOLVE LP:"
       ]
      },
      {
       "output_type": "stream",
       "stream": "stderr",
       "text": [
        " 0.151479005814\n",
        "BUILD HYPERGRAPH:"
       ]
      },
      {
       "output_type": "stream",
       "stream": "stderr",
       "text": [
        " 0.0932078361511\n",
        "BUILD POTENTIALS:"
       ]
      },
      {
       "output_type": "stream",
       "stream": "stderr",
       "text": [
        " 0.11695098877\n",
        "BUILD LP:"
       ]
      },
      {
       "output_type": "stream",
       "stream": "stderr",
       "text": [
        " 0.890646934509\n",
        "SOLVE LP:"
       ]
      },
      {
       "output_type": "stream",
       "stream": "stderr",
       "text": [
        " 0.36915397644\n",
        "BUILD HYPERGRAPH:"
       ]
      },
      {
       "output_type": "stream",
       "stream": "stderr",
       "text": [
        " 0.0898671150208\n",
        "BUILD POTENTIALS:"
       ]
      },
      {
       "output_type": "stream",
       "stream": "stderr",
       "text": [
        " 0.134748935699\n",
        "BUILD LP:"
       ]
      },
      {
       "output_type": "stream",
       "stream": "stderr",
       "text": [
        " 1.60569691658\n",
        "SOLVE LP:"
       ]
      },
      {
       "output_type": "stream",
       "stream": "stderr",
       "text": [
        " 0.401942014694\n",
        "BUILD HYPERGRAPH:"
       ]
      },
      {
       "output_type": "stream",
       "stream": "stderr",
       "text": [
        " 0.094987154007\n",
        "BUILD POTENTIALS:"
       ]
      },
      {
       "output_type": "stream",
       "stream": "stderr",
       "text": [
        " 0.126179933548\n",
        "BUILD LP:"
       ]
      },
      {
       "output_type": "stream",
       "stream": "stderr",
       "text": [
        " 0.984217882156\n",
        "SOLVE LP:"
       ]
      },
      {
       "output_type": "stream",
       "stream": "stderr",
       "text": [
        " 0.45975112915\n",
        "BUILD HYPERGRAPH:"
       ]
      },
      {
       "output_type": "stream",
       "stream": "stderr",
       "text": [
        " 0.0965249538422\n",
        "BUILD POTENTIALS:"
       ]
      },
      {
       "output_type": "stream",
       "stream": "stderr",
       "text": [
        " 0.151821136475\n",
        "BUILD LP:"
       ]
      },
      {
       "output_type": "stream",
       "stream": "stderr",
       "text": [
        " 0.989933013916\n",
        "SOLVE LP:"
       ]
      },
      {
       "output_type": "stream",
       "stream": "stderr",
       "text": [
        " 0.390133857727\n",
        "BUILD HYPERGRAPH:"
       ]
      },
      {
       "output_type": "stream",
       "stream": "stderr",
       "text": [
        " 0.0897181034088\n",
        "BUILD POTENTIALS:"
       ]
      },
      {
       "output_type": "stream",
       "stream": "stderr",
       "text": [
        " 0.117114067078\n",
        "BUILD LP:"
       ]
      },
      {
       "output_type": "stream",
       "stream": "stderr",
       "text": [
        " 0.911848068237\n",
        "SOLVE LP:"
       ]
      },
      {
       "output_type": "stream",
       "stream": "stderr",
       "text": [
        " 0.448390960693\n",
        "BUILD HYPERGRAPH:"
       ]
      },
      {
       "output_type": "stream",
       "stream": "stderr",
       "text": [
        " 0.0556778907776\n",
        "BUILD POTENTIALS:"
       ]
      },
      {
       "output_type": "stream",
       "stream": "stderr",
       "text": [
        " 0.0783109664917\n",
        "BUILD LP:"
       ]
      },
      {
       "output_type": "stream",
       "stream": "stderr",
       "text": [
        " 0.561493873596\n",
        "SOLVE LP:"
       ]
      },
      {
       "output_type": "stream",
       "stream": "stderr",
       "text": [
        " 0.274271965027\n",
        "BUILD HYPERGRAPH:"
       ]
      },
      {
       "output_type": "stream",
       "stream": "stderr",
       "text": [
        " 0.0490388870239\n",
        "BUILD POTENTIALS:"
       ]
      },
      {
       "output_type": "stream",
       "stream": "stderr",
       "text": [
        " 0.764358043671\n",
        "BUILD LP:"
       ]
      },
      {
       "output_type": "stream",
       "stream": "stderr",
       "text": [
        " 0.566769123077\n",
        "SOLVE LP:"
       ]
      },
      {
       "output_type": "stream",
       "stream": "stderr",
       "text": [
        " 0.253067016602\n",
        "BUILD HYPERGRAPH:"
       ]
      },
      {
       "output_type": "stream",
       "stream": "stderr",
       "text": [
        " 0.0532040596008\n",
        "BUILD POTENTIALS:"
       ]
      },
      {
       "output_type": "stream",
       "stream": "stderr",
       "text": [
        " 0.0779120922089\n",
        "BUILD LP:"
       ]
      },
      {
       "output_type": "stream",
       "stream": "stderr",
       "text": [
        " 0.520497083664\n",
        "SOLVE LP:"
       ]
      },
      {
       "output_type": "stream",
       "stream": "stderr",
       "text": [
        " 0.251045942307\n",
        "BUILD HYPERGRAPH:"
       ]
      },
      {
       "output_type": "stream",
       "stream": "stderr",
       "text": [
        " 0.0962991714478\n",
        "BUILD POTENTIALS:"
       ]
      },
      {
       "output_type": "stream",
       "stream": "stderr",
       "text": [
        " 0.136999845505\n",
        "BUILD LP:"
       ]
      },
      {
       "output_type": "stream",
       "stream": "stderr",
       "text": [
        " 0.958580970764\n",
        "SOLVE LP:"
       ]
      },
      {
       "output_type": "stream",
       "stream": "stderr",
       "text": [
        " 0.410377025604\n",
        "BUILD HYPERGRAPH: 0.026880979538\n",
        "BUILD POTENTIALS:"
       ]
      },
      {
       "output_type": "stream",
       "stream": "stderr",
       "text": [
        " 0.0329329967499\n",
        "BUILD LP:"
       ]
      },
      {
       "output_type": "stream",
       "stream": "stderr",
       "text": [
        " 0.243039131165\n",
        "SOLVE LP:"
       ]
      },
      {
       "output_type": "stream",
       "stream": "stderr",
       "text": [
        " 0.154299020767\n",
        "BUILD HYPERGRAPH: 0.0228209495544\n",
        "BUILD POTENTIALS:"
       ]
      },
      {
       "output_type": "stream",
       "stream": "stderr",
       "text": [
        " 0.0329780578613\n",
        "BUILD LP:"
       ]
      },
      {
       "output_type": "stream",
       "stream": "stderr",
       "text": [
        " 0.256766080856\n",
        "SOLVE LP:"
       ]
      },
      {
       "output_type": "stream",
       "stream": "stderr",
       "text": [
        " 0.15407705307\n",
        "BUILD HYPERGRAPH: 0.0237169265747\n",
        "BUILD POTENTIALS:"
       ]
      },
      {
       "output_type": "stream",
       "stream": "stderr",
       "text": [
        " 0.0371360778809\n",
        "BUILD LP:"
       ]
      },
      {
       "output_type": "stream",
       "stream": "stderr",
       "text": [
        " 0.252111196518\n",
        "SOLVE LP:"
       ]
      },
      {
       "output_type": "stream",
       "stream": "stderr",
       "text": [
        " 0.158425092697\n",
        "BUILD HYPERGRAPH: 0.00983500480652\n",
        "BUILD POTENTIALS: 0.0154349803925\n",
        "BUILD LP:"
       ]
      },
      {
       "output_type": "stream",
       "stream": "stderr",
       "text": [
        " 0.0970821380615\n",
        "SOLVE LP:"
       ]
      },
      {
       "output_type": "stream",
       "stream": "stderr",
       "text": [
        " 0.111495018005\n",
        "BUILD HYPERGRAPH:"
       ]
      },
      {
       "output_type": "stream",
       "stream": "stderr",
       "text": [
        " 0.0961098670959\n",
        "BUILD POTENTIALS:"
       ]
      },
      {
       "output_type": "stream",
       "stream": "stderr",
       "text": [
        " 0.115331172943\n",
        "BUILD LP:"
       ]
      },
      {
       "output_type": "stream",
       "stream": "stderr",
       "text": [
        " 0.905601978302\n",
        "SOLVE LP:"
       ]
      },
      {
       "output_type": "stream",
       "stream": "stderr",
       "text": [
        " 0.399194955826\n",
        "BUILD HYPERGRAPH:"
       ]
      },
      {
       "output_type": "stream",
       "stream": "stderr",
       "text": [
        " 0.0610859394073\n",
        "BUILD POTENTIALS:"
       ]
      }
     ],
     "prompt_number": "*"
    },
    {
     "cell_type": "code",
     "collapsed": false,
     "input": [
      "print \"loading test data\"\n",
      "testX = []\n",
      "\n",
      "for doc in test_apws:\n",
      "    model = RushModel(doc, history=2)\n",
      "    testX.append(model)\n",
      "        \n",
      "print len(testX)"
     ],
     "language": "python",
     "outputs": [
      {
       "output_type": "stream",
       "stream": "stdout",
       "text": [
        "loading test data\n",
        "99\n"
       ]
      }
     ],
     "prompt_number": 5
    },
    {
     "cell_type": "code",
     "collapsed": false,
     "input": [
      "print \"Predicting...\"\n",
      "predY = ptron.predict(testX)\n",
      "print \"done\""
     ],
     "language": "python",
     "outputs": [
      {
       "ename": "KeyboardInterrupt",
       "evalue": "",
       "output_type": "pyerr",
       "traceback": [
        "\u001b[1;31m---------------------------------------------------------------------------\u001b[0m\n\u001b[1;31mKeyboardInterrupt\u001b[0m                         Traceback (most recent call last)",
        "\u001b[1;32m<ipython-input-6-b44b48b66681>\u001b[0m in \u001b[0;36m<module>\u001b[1;34m()\u001b[0m\n\u001b[0;32m      1\u001b[0m \u001b[1;32mprint\u001b[0m \u001b[1;34m\"Predicting...\"\u001b[0m\u001b[1;33m\u001b[0m\u001b[0m\n\u001b[1;32m----> 2\u001b[1;33m \u001b[0mpredY\u001b[0m \u001b[1;33m=\u001b[0m \u001b[0mptron\u001b[0m\u001b[1;33m.\u001b[0m\u001b[0mpredict\u001b[0m\u001b[1;33m(\u001b[0m\u001b[0mtestX\u001b[0m\u001b[1;33m)\u001b[0m\u001b[1;33m\u001b[0m\u001b[0m\n\u001b[0m\u001b[0;32m      3\u001b[0m \u001b[1;32mprint\u001b[0m \u001b[1;34m\"done\"\u001b[0m\u001b[1;33m\u001b[0m\u001b[0m\n",
        "\u001b[1;32m/home/chris/projects/discourse/latest/discourse/discourse/inference/perceptron.pyc\u001b[0m in \u001b[0;36mpredict\u001b[1;34m(self, testX)\u001b[0m\n\u001b[0;32m     35\u001b[0m \u001b[1;33m\u001b[0m\u001b[0m\n\u001b[0;32m     36\u001b[0m     \u001b[1;32mdef\u001b[0m \u001b[0mpredict\u001b[0m\u001b[1;33m(\u001b[0m\u001b[0mself\u001b[0m\u001b[1;33m,\u001b[0m \u001b[0mtestX\u001b[0m\u001b[1;33m)\u001b[0m\u001b[1;33m:\u001b[0m\u001b[1;33m\u001b[0m\u001b[0m\n\u001b[1;32m---> 37\u001b[1;33m         \u001b[0mpredY\u001b[0m \u001b[1;33m=\u001b[0m \u001b[0mself\u001b[0m\u001b[1;33m.\u001b[0m\u001b[0msp\u001b[0m\u001b[1;33m.\u001b[0m\u001b[0mpredict\u001b[0m\u001b[1;33m(\u001b[0m\u001b[0mtestX\u001b[0m\u001b[1;33m)\u001b[0m\u001b[1;33m\u001b[0m\u001b[0m\n\u001b[0m\u001b[0;32m     38\u001b[0m         \u001b[0mpredicted_sentence_orderings\u001b[0m \u001b[1;33m=\u001b[0m \u001b[1;33m[\u001b[0m\u001b[0mrecover_order\u001b[0m\u001b[1;33m(\u001b[0m\u001b[0my\u001b[0m\u001b[1;33m)\u001b[0m \u001b[1;32mfor\u001b[0m \u001b[0my\u001b[0m \u001b[1;32min\u001b[0m \u001b[0mpredY\u001b[0m\u001b[1;33m]\u001b[0m\u001b[1;33m\u001b[0m\u001b[0m\n\u001b[0;32m     39\u001b[0m         \u001b[1;32mreturn\u001b[0m \u001b[0mpredicted_sentence_orderings\u001b[0m\u001b[1;33m\u001b[0m\u001b[0m\n",
        "\u001b[1;32m/usr/local/lib/python2.7/dist-packages/pystruct/learners/ssvm.pyc\u001b[0m in \u001b[0;36mpredict\u001b[1;34m(self, X)\u001b[0m\n\u001b[0;32m     40\u001b[0m         \u001b[1;32melse\u001b[0m\u001b[1;33m:\u001b[0m\u001b[1;33m\u001b[0m\u001b[0m\n\u001b[0;32m     41\u001b[0m             \u001b[1;32mif\u001b[0m \u001b[0mhasattr\u001b[0m\u001b[1;33m(\u001b[0m\u001b[0mself\u001b[0m\u001b[1;33m.\u001b[0m\u001b[0mmodel\u001b[0m\u001b[1;33m,\u001b[0m \u001b[1;34m'batch_inference'\u001b[0m\u001b[1;33m)\u001b[0m\u001b[1;33m:\u001b[0m\u001b[1;33m\u001b[0m\u001b[0m\n\u001b[1;32m---> 42\u001b[1;33m                 \u001b[1;32mreturn\u001b[0m \u001b[0mself\u001b[0m\u001b[1;33m.\u001b[0m\u001b[0mmodel\u001b[0m\u001b[1;33m.\u001b[0m\u001b[0mbatch_inference\u001b[0m\u001b[1;33m(\u001b[0m\u001b[0mX\u001b[0m\u001b[1;33m,\u001b[0m \u001b[0mself\u001b[0m\u001b[1;33m.\u001b[0m\u001b[0mw\u001b[0m\u001b[1;33m)\u001b[0m\u001b[1;33m\u001b[0m\u001b[0m\n\u001b[0m\u001b[0;32m     43\u001b[0m             \u001b[1;32mreturn\u001b[0m \u001b[1;33m[\u001b[0m\u001b[0mself\u001b[0m\u001b[1;33m.\u001b[0m\u001b[0mmodel\u001b[0m\u001b[1;33m.\u001b[0m\u001b[0minference\u001b[0m\u001b[1;33m(\u001b[0m\u001b[0mx\u001b[0m\u001b[1;33m,\u001b[0m \u001b[0mself\u001b[0m\u001b[1;33m.\u001b[0m\u001b[0mw\u001b[0m\u001b[1;33m)\u001b[0m \u001b[1;32mfor\u001b[0m \u001b[0mx\u001b[0m \u001b[1;32min\u001b[0m \u001b[0mX\u001b[0m\u001b[1;33m]\u001b[0m\u001b[1;33m\u001b[0m\u001b[0m\n\u001b[0;32m     44\u001b[0m \u001b[1;33m\u001b[0m\u001b[0m\n",
        "\u001b[1;32m/usr/local/lib/python2.7/dist-packages/pystruct/models/base.pyc\u001b[0m in \u001b[0;36mbatch_inference\u001b[1;34m(self, X, w, relaxed)\u001b[0m\n\u001b[0;32m     53\u001b[0m         \u001b[1;31m# default implementation of batch inference\u001b[0m\u001b[1;33m\u001b[0m\u001b[1;33m\u001b[0m\u001b[0m\n\u001b[0;32m     54\u001b[0m         return [self.inference(x, w, relaxed=relaxed)\n\u001b[1;32m---> 55\u001b[1;33m                 for x in X]\n\u001b[0m\u001b[0;32m     56\u001b[0m \u001b[1;33m\u001b[0m\u001b[0m\n\u001b[0;32m     57\u001b[0m     \u001b[1;32mdef\u001b[0m \u001b[0mloss\u001b[0m\u001b[1;33m(\u001b[0m\u001b[0mself\u001b[0m\u001b[1;33m,\u001b[0m \u001b[0my\u001b[0m\u001b[1;33m,\u001b[0m \u001b[0my_hat\u001b[0m\u001b[1;33m)\u001b[0m\u001b[1;33m:\u001b[0m\u001b[1;33m\u001b[0m\u001b[0m\n",
        "\u001b[1;32m/usr/local/lib/python2.7/dist-packages/pydecode/model.pyc\u001b[0m in \u001b[0;36minference\u001b[1;34m(self, x, w, relaxed)\u001b[0m\n\u001b[0;32m    107\u001b[0m             \u001b[0mhyperlp\u001b[0m \u001b[1;33m=\u001b[0m \u001b[0mlp\u001b[0m\u001b[1;33m.\u001b[0m\u001b[0mHypergraphLP\u001b[0m\u001b[1;33m.\u001b[0m\u001b[0mmake_lp\u001b[0m\u001b[1;33m(\u001b[0m\u001b[0mhypergraph\u001b[0m\u001b[1;33m,\u001b[0m \u001b[0mpotentials\u001b[0m\u001b[1;33m,\u001b[0m \u001b[0mintegral\u001b[0m\u001b[1;33m=\u001b[0m\u001b[0mTrue\u001b[0m\u001b[1;33m)\u001b[0m\u001b[1;33m\u001b[0m\u001b[0m\n\u001b[0;32m    108\u001b[0m             \u001b[0mhyperlp\u001b[0m\u001b[1;33m.\u001b[0m\u001b[0madd_constraints\u001b[0m\u001b[1;33m(\u001b[0m\u001b[0mconstraints\u001b[0m\u001b[1;33m)\u001b[0m\u001b[1;33m\u001b[0m\u001b[0m\n\u001b[1;32m--> 109\u001b[1;33m             \u001b[0mhyperlp\u001b[0m\u001b[1;33m.\u001b[0m\u001b[0msolve\u001b[0m\u001b[1;33m(\u001b[0m\u001b[0mpulp\u001b[0m\u001b[1;33m.\u001b[0m\u001b[0msolvers\u001b[0m\u001b[1;33m.\u001b[0m\u001b[0mGLPK\u001b[0m\u001b[1;33m(\u001b[0m\u001b[0mmip\u001b[0m\u001b[1;33m=\u001b[0m\u001b[1;36m1\u001b[0m\u001b[1;33m)\u001b[0m\u001b[1;33m)\u001b[0m\u001b[1;33m\u001b[0m\u001b[0m\n\u001b[0m\u001b[0;32m    110\u001b[0m             \u001b[0mpath\u001b[0m \u001b[1;33m=\u001b[0m \u001b[0mhyperlp\u001b[0m\u001b[1;33m.\u001b[0m\u001b[0mpath\u001b[0m\u001b[1;33m\u001b[0m\u001b[0m\n\u001b[0;32m    111\u001b[0m         \u001b[0my\u001b[0m \u001b[1;33m=\u001b[0m \u001b[0mset\u001b[0m\u001b[1;33m(\u001b[0m\u001b[1;33m)\u001b[0m\u001b[1;33m\u001b[0m\u001b[0m\n",
        "\u001b[1;32m/usr/local/lib/python2.7/dist-packages/pydecode/lp.pyc\u001b[0m in \u001b[0;36msolve\u001b[1;34m(self, solver)\u001b[0m\n\u001b[0;32m     75\u001b[0m         \u001b[1;32melse\u001b[0m\u001b[1;33m:\u001b[0m\u001b[1;33m\u001b[0m\u001b[0m\n\u001b[0;32m     76\u001b[0m             \u001b[0m_solver\u001b[0m \u001b[1;33m=\u001b[0m \u001b[0msolver\u001b[0m\u001b[1;33m\u001b[0m\u001b[0m\n\u001b[1;32m---> 77\u001b[1;33m         \u001b[0mself\u001b[0m\u001b[1;33m.\u001b[0m\u001b[0m_status\u001b[0m \u001b[1;33m=\u001b[0m \u001b[0mself\u001b[0m\u001b[1;33m.\u001b[0m\u001b[0mlp\u001b[0m\u001b[1;33m.\u001b[0m\u001b[0msolve\u001b[0m\u001b[1;33m(\u001b[0m\u001b[0m_solver\u001b[0m\u001b[1;33m)\u001b[0m\u001b[1;33m\u001b[0m\u001b[0m\n\u001b[0m\u001b[0;32m     78\u001b[0m \u001b[1;33m\u001b[0m\u001b[0m\n\u001b[0;32m     79\u001b[0m     \u001b[1;33m@\u001b[0m\u001b[0mproperty\u001b[0m\u001b[1;33m\u001b[0m\u001b[0m\n",
        "\u001b[1;32m/usr/local/lib/python2.7/dist-packages/pulp/pulp.pyc\u001b[0m in \u001b[0;36msolve\u001b[1;34m(self, solver, **kwargs)\u001b[0m\n\u001b[0;32m   1612\u001b[0m         \u001b[1;31m#time it\u001b[0m\u001b[1;33m\u001b[0m\u001b[1;33m\u001b[0m\u001b[0m\n\u001b[0;32m   1613\u001b[0m         \u001b[0mself\u001b[0m\u001b[1;33m.\u001b[0m\u001b[0msolutionTime\u001b[0m \u001b[1;33m=\u001b[0m \u001b[1;33m-\u001b[0m\u001b[0mclock\u001b[0m\u001b[1;33m(\u001b[0m\u001b[1;33m)\u001b[0m\u001b[1;33m\u001b[0m\u001b[0m\n\u001b[1;32m-> 1614\u001b[1;33m         \u001b[0mstatus\u001b[0m \u001b[1;33m=\u001b[0m \u001b[0msolver\u001b[0m\u001b[1;33m.\u001b[0m\u001b[0mactualSolve\u001b[0m\u001b[1;33m(\u001b[0m\u001b[0mself\u001b[0m\u001b[1;33m,\u001b[0m \u001b[1;33m**\u001b[0m\u001b[0mkwargs\u001b[0m\u001b[1;33m)\u001b[0m\u001b[1;33m\u001b[0m\u001b[0m\n\u001b[0m\u001b[0;32m   1615\u001b[0m         \u001b[0mself\u001b[0m\u001b[1;33m.\u001b[0m\u001b[0msolutionTime\u001b[0m \u001b[1;33m+=\u001b[0m \u001b[0mclock\u001b[0m\u001b[1;33m(\u001b[0m\u001b[1;33m)\u001b[0m\u001b[1;33m\u001b[0m\u001b[0m\n\u001b[0;32m   1616\u001b[0m         \u001b[0mself\u001b[0m\u001b[1;33m.\u001b[0m\u001b[0mrestoreObjective\u001b[0m\u001b[1;33m(\u001b[0m\u001b[0mwasNone\u001b[0m\u001b[1;33m,\u001b[0m \u001b[0mdummyVar\u001b[0m\u001b[1;33m)\u001b[0m\u001b[1;33m\u001b[0m\u001b[0m\n",
        "\u001b[1;32m/usr/local/lib/python2.7/dist-packages/pulp/solvers.pyc\u001b[0m in \u001b[0;36mactualSolve\u001b[1;34m(self, lp)\u001b[0m\n\u001b[0;32m    349\u001b[0m         \u001b[1;32melse\u001b[0m\u001b[1;33m:\u001b[0m\u001b[1;33m\u001b[0m\u001b[0m\n\u001b[0;32m    350\u001b[0m             \u001b[1;32mif\u001b[0m \u001b[0mos\u001b[0m\u001b[1;33m.\u001b[0m\u001b[0mname\u001b[0m \u001b[1;33m!=\u001b[0m \u001b[1;34m'nt'\u001b[0m\u001b[1;33m:\u001b[0m\u001b[1;33m\u001b[0m\u001b[0m\n\u001b[1;32m--> 351\u001b[1;33m                 \u001b[0mrc\u001b[0m \u001b[1;33m=\u001b[0m \u001b[0mos\u001b[0m\u001b[1;33m.\u001b[0m\u001b[0mspawnvp\u001b[0m\u001b[1;33m(\u001b[0m\u001b[0mos\u001b[0m\u001b[1;33m.\u001b[0m\u001b[0mP_WAIT\u001b[0m\u001b[1;33m,\u001b[0m \u001b[0mself\u001b[0m\u001b[1;33m.\u001b[0m\u001b[0mpath\u001b[0m\u001b[1;33m,\u001b[0m \u001b[0mproc\u001b[0m\u001b[1;33m)\u001b[0m\u001b[1;33m\u001b[0m\u001b[0m\n\u001b[0m\u001b[0;32m    352\u001b[0m             \u001b[1;32melse\u001b[0m\u001b[1;33m:\u001b[0m\u001b[1;33m\u001b[0m\u001b[0m\n\u001b[0;32m    353\u001b[0m                 \u001b[0mrc\u001b[0m \u001b[1;33m=\u001b[0m \u001b[0mos\u001b[0m\u001b[1;33m.\u001b[0m\u001b[0mspawnv\u001b[0m\u001b[1;33m(\u001b[0m\u001b[0mos\u001b[0m\u001b[1;33m.\u001b[0m\u001b[0mP_WAIT\u001b[0m\u001b[1;33m,\u001b[0m \u001b[0mself\u001b[0m\u001b[1;33m.\u001b[0m\u001b[0mexecutable\u001b[0m\u001b[1;33m(\u001b[0m\u001b[0mself\u001b[0m\u001b[1;33m.\u001b[0m\u001b[0mpath\u001b[0m\u001b[1;33m)\u001b[0m\u001b[1;33m,\u001b[0m \u001b[0mproc\u001b[0m\u001b[1;33m)\u001b[0m\u001b[1;33m\u001b[0m\u001b[0m\n",
        "\u001b[1;32m/usr/lib/python2.7/os.pyc\u001b[0m in \u001b[0;36mspawnvp\u001b[1;34m(mode, file, args)\u001b[0m\n\u001b[0;32m    583\u001b[0m \u001b[0mIf\u001b[0m \u001b[0mmode\u001b[0m \u001b[1;33m==\u001b[0m \u001b[0mP_WAIT\u001b[0m \u001b[1;32mreturn\u001b[0m \u001b[0mthe\u001b[0m \u001b[0mprocess\u001b[0m\u001b[0;31m'\u001b[0m\u001b[0ms\u001b[0m \u001b[0mexit\u001b[0m \u001b[0mcode\u001b[0m \u001b[1;32mif\u001b[0m \u001b[0mit\u001b[0m \u001b[0mexits\u001b[0m \u001b[0mnormally\u001b[0m\u001b[1;33m;\u001b[0m\u001b[1;33m\u001b[0m\u001b[0m\n\u001b[0;32m    584\u001b[0m otherwise return -SIG, where SIG is the signal that killed it. \"\"\"\n\u001b[1;32m--> 585\u001b[1;33m         \u001b[1;32mreturn\u001b[0m \u001b[0m_spawnvef\u001b[0m\u001b[1;33m(\u001b[0m\u001b[0mmode\u001b[0m\u001b[1;33m,\u001b[0m \u001b[0mfile\u001b[0m\u001b[1;33m,\u001b[0m \u001b[0margs\u001b[0m\u001b[1;33m,\u001b[0m \u001b[0mNone\u001b[0m\u001b[1;33m,\u001b[0m \u001b[0mexecvp\u001b[0m\u001b[1;33m)\u001b[0m\u001b[1;33m\u001b[0m\u001b[0m\n\u001b[0m\u001b[0;32m    586\u001b[0m \u001b[1;33m\u001b[0m\u001b[0m\n\u001b[0;32m    587\u001b[0m     \u001b[1;32mdef\u001b[0m \u001b[0mspawnvpe\u001b[0m\u001b[1;33m(\u001b[0m\u001b[0mmode\u001b[0m\u001b[1;33m,\u001b[0m \u001b[0mfile\u001b[0m\u001b[1;33m,\u001b[0m \u001b[0margs\u001b[0m\u001b[1;33m,\u001b[0m \u001b[0menv\u001b[0m\u001b[1;33m)\u001b[0m\u001b[1;33m:\u001b[0m\u001b[1;33m\u001b[0m\u001b[0m\n",
        "\u001b[1;32m/usr/lib/python2.7/os.pyc\u001b[0m in \u001b[0;36m_spawnvef\u001b[1;34m(mode, file, args, env, func)\u001b[0m\n\u001b[0;32m    544\u001b[0m                 \u001b[1;32mreturn\u001b[0m \u001b[0mpid\u001b[0m \u001b[1;31m# Caller is responsible for waiting!\u001b[0m\u001b[1;33m\u001b[0m\u001b[0m\n\u001b[0;32m    545\u001b[0m             \u001b[1;32mwhile\u001b[0m \u001b[1;36m1\u001b[0m\u001b[1;33m:\u001b[0m\u001b[1;33m\u001b[0m\u001b[0m\n\u001b[1;32m--> 546\u001b[1;33m                 \u001b[0mwpid\u001b[0m\u001b[1;33m,\u001b[0m \u001b[0msts\u001b[0m \u001b[1;33m=\u001b[0m \u001b[0mwaitpid\u001b[0m\u001b[1;33m(\u001b[0m\u001b[0mpid\u001b[0m\u001b[1;33m,\u001b[0m \u001b[1;36m0\u001b[0m\u001b[1;33m)\u001b[0m\u001b[1;33m\u001b[0m\u001b[0m\n\u001b[0m\u001b[0;32m    547\u001b[0m                 \u001b[1;32mif\u001b[0m \u001b[0mWIFSTOPPED\u001b[0m\u001b[1;33m(\u001b[0m\u001b[0msts\u001b[0m\u001b[1;33m)\u001b[0m\u001b[1;33m:\u001b[0m\u001b[1;33m\u001b[0m\u001b[0m\n\u001b[0;32m    548\u001b[0m                     \u001b[1;32mcontinue\u001b[0m\u001b[1;33m\u001b[0m\u001b[0m\n",
        "\u001b[1;31mKeyboardInterrupt\u001b[0m: "
       ]
      },
      {
       "output_type": "stream",
       "stream": "stdout",
       "text": [
        "Predicting...\n"
       ]
      }
     ],
     "prompt_number": 6
    },
    {
     "cell_type": "code",
     "collapsed": false,
     "input": [
      "from os import getenv\n",
      "from os.path import join\n",
      "\n",
      "pred_fname = '/tmp/predicted_file'\n",
      "pred_file = open(pred_fname, 'w')\n",
      "\n",
      "gold_fname = '/tmp/gold_file'\n",
      "gold_file = open(gold_fname, 'w')\n",
      "\n",
      "ddir = getenv(\"DISCOURSEDIR\",\".\")\n",
      "eval_script = join(ddir, \"eval\", \"ordering-eval.py\")\n",
      "\n",
      "for i, model in enumerate(testX):\n",
      "    pred_order = predY[i]\n",
      "    pred_str = model.ordering2str(pred_order)\n",
      "    \n",
      "    pred_file.write(pred_str+\"\\n\\n\")\n",
      "    pred_file.flush()\n",
      "    \n",
      "    gold_str = model.gold_str()\n",
      "    gold_file.write(gold_str+\"\\n\\n\")\n",
      "    gold_file.flush()\n",
      "\n",
      "pred_file.close()\n",
      "gold_file.close()\n",
      "\n",
      "!python $eval_script --gold $gold_fname --predicted $pred_fname     "
     ],
     "language": "python",
     "outputs": []
    },
    {
     "cell_type": "code",
     "collapsed": false,
     "input": [],
     "language": "python",
     "outputs": []
    }
   ]
  }
 ]
}