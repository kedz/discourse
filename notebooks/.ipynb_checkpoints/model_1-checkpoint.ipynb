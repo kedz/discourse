{
 "metadata": {
  "name": ""
 },
 "nbformat": 3,
 "nbformat_minor": 0,
 "worksheets": [
  {
   "cells": [
    {
     "cell_type": "code",
     "collapsed": false,
     "input": [
      "import discourse.data as dd\n",
      "import discourse.inference as di\n",
      "from discourse.models import barzilay as dmb\n",
      "from discourse.models import entity_grid as eg\n",
      "from discourse.inference import lp as dlp\n",
      "\n",
      "import numpy as np\n",
      "from os import remove, getenv\n",
      "from os.path import join\n",
      "\n",
      "from tempfile import NamedTemporaryFile\n",
      "\n",
      "ddir = getenv(\"DISCOURSEDIR\",\".\")\n",
      "eval_script = join(ddir, \"eval\", \"ordering-eval.py\")"
     ],
     "language": "python",
     "metadata": {},
     "outputs": [],
     "prompt_number": 22
    },
    {
     "cell_type": "code",
     "collapsed": false,
     "input": [
      "weights = np.asarray([21.05973913, -41.20501801, 16.53128664, 14.744363, 5.5398188, 0, 0, 0, 19.50604462, 0, 0, 0, -36.17622999, 0, 0, 0, -8.90539043, -63.36380759, -10.26730942, -5.78435143, -16.82680557, -22.28542312, 65.7063412, 33.44557519, 4.11226196, -36.70422918, 22.9553209, 38.11760635, -4.69530934, -40.02028351, 23.96575996, 20.54994518])           "
     ],
     "language": "python",
     "metadata": {},
     "outputs": [],
     "prompt_number": 23
    },
    {
     "cell_type": "code",
     "collapsed": false,
     "input": [
      "pred_file = NamedTemporaryFile(delete=False)\n",
      "gold_file = NamedTemporaryFile(delete=False)\n",
      "lpsolver = dlp.LPSolver(weights)\n",
      "\n",
      "import datetime\n",
      "\n",
      "total_time = datetime.timedelta(hours=0)\n",
      "\n",
      "n = 0\n",
      "for train_xml_file in dd.corenlp_apws_train():    \n",
      "    n+=1\n",
      "    \n",
      "    \n",
      "    model = dmb.new_barzilay_model(open(train_xml_file, 'r'),\n",
      "                                   max_salience=2,\n",
      "                                   history=2)\n",
      "    if len(model.sentences) < 7:\n",
      "    \n",
      "        start = datetime.datetime.utcnow()   \n",
      "        (hypergraph, path) = lpsolver.solve(model)\n",
      "        finish = datetime.datetime.utcnow()\n",
      "        \n",
      "        delta = finish - start\n",
      "        print \"Time: {}\".format(delta)\n",
      "        total_time += delta\n",
      "        \n",
      "        prediction_str = model.pretty_string_from_hypergraph_path(hypergraph, path)\n",
      "        \n",
      "        \n",
      "        # Write predicted sentence ordering to file.\n",
      "        pred_file.write(prediction_str.encode('utf-8')+\"\\n\\n\")\n",
      "        pred_file.flush()\n",
      "               \n",
      "        gold_file.write(model.pretty_string().encode('utf-8')+\"\\n\\n\")\n",
      "        gold_file.flush()\n",
      "\n",
      "           \n",
      "    \n",
      "pred_file.close()\n",
      "pred_filename = pred_file.name\n",
      "gold_file.close()\n",
      "gold_filename = gold_file.name\n",
      "\n",
      "print \"Total time in ILP: {}\".format(total_time)\n",
      "avg_mus = total_time.microseconds / float(n)\n",
      "\n",
      "print \"Avg. time in ILP: {}\".format(datetime.timedelta(microseconds=avg_mus))\n",
      "\n",
      "print \"With headline evaluation:\"\n",
      "!python $eval_script --gold $gold_filename --predicted $pred_filename      \n",
      "\n",
      "print \"\\nWithout headline evaluation:\"\n",
      "!python $eval_script --gold $gold_filename --predicted $pred_filename --noheadline       \n",
      "\n",
      "print pred_file.name\n",
      "print gold_file.name\n",
      "#remove(pred_file.name)  \n",
      "#remove(gold_file.name)  "
     ],
     "language": "python",
     "metadata": {},
     "outputs": [
      {
       "output_type": "stream",
       "stream": "stdout",
       "text": [
        "Time: 0:00:00.704434\n",
        "Time: 0:00:00.053343"
       ]
      },
      {
       "output_type": "stream",
       "stream": "stdout",
       "text": [
        "\n",
        "Time: 0:00:00.204396"
       ]
      },
      {
       "output_type": "stream",
       "stream": "stdout",
       "text": [
        "\n",
        "Time: 0:00:02.462131"
       ]
      },
      {
       "output_type": "stream",
       "stream": "stdout",
       "text": [
        "\n",
        "Time: 0:00:00.050713"
       ]
      },
      {
       "output_type": "stream",
       "stream": "stdout",
       "text": [
        "\n",
        "Time: 0:00:00.052337"
       ]
      },
      {
       "output_type": "stream",
       "stream": "stdout",
       "text": [
        "\n",
        "Time: 0:00:02.446221"
       ]
      },
      {
       "output_type": "stream",
       "stream": "stdout",
       "text": [
        "\n",
        "Time: 0:00:02.254423"
       ]
      },
      {
       "output_type": "stream",
       "stream": "stdout",
       "text": [
        "\n",
        "Time: 0:00:00.210304"
       ]
      },
      {
       "output_type": "stream",
       "stream": "stdout",
       "text": [
        "\n",
        "Time: 0:00:00.201111"
       ]
      },
      {
       "output_type": "stream",
       "stream": "stdout",
       "text": [
        "\n",
        "Time: 0:00:02.281834"
       ]
      },
      {
       "output_type": "stream",
       "stream": "stdout",
       "text": [
        "\n",
        "Time: 0:00:02.428197"
       ]
      },
      {
       "output_type": "stream",
       "stream": "stdout",
       "text": [
        "\n",
        "Time: 0:00:02.439647"
       ]
      },
      {
       "output_type": "stream",
       "stream": "stdout",
       "text": [
        "\n",
        "Time: 0:00:02.286567"
       ]
      },
      {
       "output_type": "stream",
       "stream": "stdout",
       "text": [
        "\n",
        "Time: 0:00:02.279770"
       ]
      },
      {
       "output_type": "stream",
       "stream": "stdout",
       "text": [
        "\n",
        "Time: 0:00:00.698705"
       ]
      },
      {
       "output_type": "stream",
       "stream": "stdout",
       "text": [
        "\n",
        "Time: 0:00:02.416583"
       ]
      },
      {
       "output_type": "stream",
       "stream": "stdout",
       "text": [
        "\n",
        "Time: 0:00:00.195003"
       ]
      },
      {
       "output_type": "stream",
       "stream": "stdout",
       "text": [
        "\n",
        "Time: 0:00:00.679306"
       ]
      },
      {
       "output_type": "stream",
       "stream": "stdout",
       "text": [
        "\n",
        "Time: 0:00:02.185318"
       ]
      },
      {
       "output_type": "stream",
       "stream": "stdout",
       "text": [
        "\n",
        "Time: 0:00:02.337225"
       ]
      },
      {
       "output_type": "stream",
       "stream": "stdout",
       "text": [
        "\n",
        "Time: 0:00:02.370700"
       ]
      },
      {
       "output_type": "stream",
       "stream": "stdout",
       "text": [
        "\n",
        "Time: 0:00:00.700868"
       ]
      },
      {
       "output_type": "stream",
       "stream": "stdout",
       "text": [
        "\n",
        "Time: 0:00:00.729097"
       ]
      },
      {
       "output_type": "stream",
       "stream": "stdout",
       "text": [
        "\n",
        "Time: 0:00:00.735659"
       ]
      },
      {
       "output_type": "stream",
       "stream": "stdout",
       "text": [
        "\n",
        "Time: 0:00:00.219001"
       ]
      },
      {
       "output_type": "stream",
       "stream": "stdout",
       "text": [
        "\n",
        "Time: 0:00:02.367454"
       ]
      },
      {
       "output_type": "stream",
       "stream": "stdout",
       "text": [
        "\n",
        "Time: 0:00:00.208320"
       ]
      },
      {
       "output_type": "stream",
       "stream": "stdout",
       "text": [
        "\n",
        "Time: 0:00:02.409646"
       ]
      },
      {
       "output_type": "stream",
       "stream": "stdout",
       "text": [
        "\n",
        "Time: 0:00:00.746547"
       ]
      },
      {
       "output_type": "stream",
       "stream": "stdout",
       "text": [
        "\n",
        "Time: 0:00:00.213282"
       ]
      },
      {
       "output_type": "stream",
       "stream": "stdout",
       "text": [
        "\n",
        "Time: 0:00:00.741303"
       ]
      },
      {
       "output_type": "stream",
       "stream": "stdout",
       "text": [
        "\n",
        "Time: 0:00:00.736984"
       ]
      },
      {
       "output_type": "stream",
       "stream": "stdout",
       "text": [
        "\n",
        "Time: 0:00:00.189838"
       ]
      },
      {
       "output_type": "stream",
       "stream": "stdout",
       "text": [
        "\n",
        "Time: 0:00:00.204057"
       ]
      },
      {
       "output_type": "stream",
       "stream": "stdout",
       "text": [
        "\n",
        "Time: 0:00:00.762645"
       ]
      },
      {
       "output_type": "stream",
       "stream": "stdout",
       "text": [
        "\n",
        "Time: 0:00:00.215659"
       ]
      },
      {
       "output_type": "stream",
       "stream": "stdout",
       "text": [
        "\n",
        "Total time in ILP: 0:00:42.418628"
       ]
      },
      {
       "output_type": "stream",
       "stream": "stdout",
       "text": [
        "\n",
        "Avg. time in ILP: 0:00:00.004186\n",
        "With headline evaluation:\n"
       ]
      },
      {
       "output_type": "stream",
       "stream": "stdout",
       "text": [
        "Total documents: 37\r\n",
        "Total correct: 0\r\n",
        "Accuracy: 0.0\r\n",
        "Avg. Kendall's Tau 0.0234234234234\r\n"
       ]
      },
      {
       "output_type": "stream",
       "stream": "stdout",
       "text": [
        "\n",
        "Without headline evaluation:\n"
       ]
      },
      {
       "output_type": "stream",
       "stream": "stdout",
       "text": [
        "Total documents: 37\r\n",
        "Total correct: 3\r\n",
        "Accuracy: 0.0810810810811\r\n",
        "Avg. Kendall's Tau -0.147747747748\r\n"
       ]
      },
      {
       "output_type": "stream",
       "stream": "stdout",
       "text": [
        "/tmp/tmp_lxuRf\n",
        "/tmp/tmpSpuogy\n"
       ]
      }
     ],
     "prompt_number": 24
    },
    {
     "cell_type": "code",
     "collapsed": false,
     "input": [],
     "language": "python",
     "metadata": {},
     "outputs": [
      {
       "output_type": "stream",
       "stream": "stdout",
       "text": [
        "9.43\n"
       ]
      }
     ],
     "prompt_number": 3
    },
    {
     "cell_type": "code",
     "collapsed": false,
     "input": [],
     "language": "python",
     "metadata": {},
     "outputs": [
      {
       "output_type": "stream",
       "stream": "stdout",
       "text": [
        "11.63\n"
       ]
      }
     ],
     "prompt_number": 5
    },
    {
     "cell_type": "code",
     "collapsed": false,
     "input": [],
     "language": "python",
     "metadata": {},
     "outputs": []
    }
   ],
   "metadata": {}
  }
 ]
}